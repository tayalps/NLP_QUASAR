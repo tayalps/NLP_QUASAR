{
  "nbformat": 4,
  "nbformat_minor": 0,
  "metadata": {
    "colab": {
      "name": "short_quasar_T_draft_v2.ipynb",
      "provenance": [],
      "collapsed_sections": [],
      "machine_shape": "hm"
    },
    "kernelspec": {
      "name": "python3",
      "display_name": "Python 3"
    },
    "accelerator": "TPU"
  },
  "cells": [
    {
      "cell_type": "code",
      "metadata": {
        "id": "Ro1grVL9J_b5",
        "colab_type": "code",
        "outputId": "9180a682-6c19-49dc-fc14-f245ac8fa734",
        "colab": {
          "base_uri": "https://localhost:8080/",
          "height": 35
        }
      },
      "source": [
        "from google.colab import drive\n",
        "drive.mount('/content/drive')"
      ],
      "execution_count": 1,
      "outputs": [
        {
          "output_type": "stream",
          "text": [
            "Drive already mounted at /content/drive; to attempt to forcibly remount, call drive.mount(\"/content/drive\", force_remount=True).\n"
          ],
          "name": "stdout"
        }
      ]
    },
    {
      "cell_type": "code",
      "metadata": {
        "id": "3MZvBkB3JkLG",
        "colab_type": "code",
        "colab": {}
      },
      "source": [
        "import pandas as pd\n",
        "import numpy as np\n",
        "import re\n",
        "import string\n",
        "from collections import Counter\n",
        "from typing import List\n",
        "import multiprocessing as mp\n",
        "from functools import partial\n",
        "import matplotlib.pyplot as plt\n",
        "%matplotlib inline"
      ],
      "execution_count": 0,
      "outputs": []
    },
    {
      "cell_type": "code",
      "metadata": {
        "id": "XOxa_pQ7diQR",
        "colab_type": "code",
        "colab": {}
      },
      "source": [
        "import ast\n",
        "def read_data_literals(ipath):\n",
        "  outlist = []\n",
        "  file = open(ipath, \"r\")\n",
        "  for line in file:\n",
        "    dictionary = ast.literal_eval(line)\n",
        "    outlist.append(dictionary)\n",
        "  file.close()\n",
        "  return outlist\n",
        "\n",
        "def read_data(ipath):\n",
        "  outlist = []\n",
        "  file = open(ipath, \"r\")\n",
        "  for line in file:\n",
        "    outlist.append(line.replace(\"\\n\", \"\"))\n",
        "  file.close()\n",
        "  return outlist"
      ],
      "execution_count": 0,
      "outputs": []
    },
    {
      "cell_type": "code",
      "metadata": {
        "id": "WZ4_zVW_KP69",
        "colab_type": "code",
        "colab": {}
      },
      "source": [
        "qasar_t_dir = \"/content/drive/My Drive/quasar/quasar-t/\""
      ],
      "execution_count": 0,
      "outputs": []
    },
    {
      "cell_type": "code",
      "metadata": {
        "colab_type": "code",
        "id": "VPNKfyi29dEQ",
        "colab": {}
      },
      "source": [
        "#read the questions ans datasets\n",
        "trainQ = read_data_literals(qasar_t_dir+ \"questions/train_questions.json\")\n",
        "testQ = read_data_literals(qasar_t_dir+ \"questions/test_questions.json\")\n",
        "devQ = read_data_literals(qasar_t_dir+ \"questions/dev_questions.json\")"
      ],
      "execution_count": 0,
      "outputs": []
    },
    {
      "cell_type": "code",
      "metadata": {
        "id": "PI90D2ZV0fq3",
        "colab_type": "code",
        "outputId": "081b4462-287f-4cf8-ff08-31abcefffc4b",
        "colab": {
          "base_uri": "https://localhost:8080/",
          "height": 35
        }
      },
      "source": [
        "np.shape(trainQ), np.shape(testQ), np.shape(devQ)"
      ],
      "execution_count": 6,
      "outputs": [
        {
          "output_type": "execute_result",
          "data": {
            "text/plain": [
              "((37012,), (3000,), (3000,))"
            ]
          },
          "metadata": {
            "tags": []
          },
          "execution_count": 6
        }
      ]
    },
    {
      "cell_type": "code",
      "metadata": {
        "id": "BgFDX4C-917C",
        "colab_type": "code",
        "colab": {}
      },
      "source": [
        "#read the context related dataset\n",
        "trainSC = read_data_literals(qasar_t_dir+ \"contexts/short/train_contexts.json\")\n",
        "testSC = read_data_literals(qasar_t_dir+ \"contexts/short/test_contexts.json\")\n",
        "devSC = read_data_literals(qasar_t_dir+ \"contexts/short/dev_contexts.json\")"
      ],
      "execution_count": 0,
      "outputs": []
    },
    {
      "cell_type": "code",
      "metadata": {
        "id": "yxXI97Op99N-",
        "colab_type": "code",
        "outputId": "92381232-7a5f-446f-a871-674cb4f837d7",
        "colab": {
          "base_uri": "https://localhost:8080/",
          "height": 35
        }
      },
      "source": [
        "np.shape(trainSC), np.shape(testSC), np.shape(devSC)"
      ],
      "execution_count": 8,
      "outputs": [
        {
          "output_type": "execute_result",
          "data": {
            "text/plain": [
              "((37012,), (3000,), (3000,))"
            ]
          },
          "metadata": {
            "tags": []
          },
          "execution_count": 8
        }
      ]
    },
    {
      "cell_type": "code",
      "metadata": {
        "id": "15ps1HokcBHc",
        "colab_type": "code",
        "outputId": "0d389cc3-9427-49c2-832c-61b0c129c857",
        "colab": {
          "base_uri": "https://localhost:8080/",
          "height": 159
        }
      },
      "source": [
        "testQ[0:2] "
      ],
      "execution_count": 9,
      "outputs": [
        {
          "output_type": "execute_result",
          "data": {
            "text/plain": [
              "[{'answer': 'queen',\n",
              "  'question': 'Which is considered the most powerful piece on the chess board',\n",
              "  'tags': ['1tok', 'yes-answer-long', 'yes-answer-short'],\n",
              "  'uid': 's3q17641'},\n",
              " {'answer': '4',\n",
              "  'question': 'If its 4:00 pm in Seattle Washington , what time is it in Portland Oregon',\n",
              "  'tags': ['1tok', 'yes-answer-long', 'yes-answer-short'],\n",
              "  'uid': 's3q1671'}]"
            ]
          },
          "metadata": {
            "tags": []
          },
          "execution_count": 9
        }
      ]
    },
    {
      "cell_type": "code",
      "metadata": {
        "id": "O5Wnmo4M3qOj",
        "colab_type": "code",
        "outputId": "d39ac7b3-b77a-4caa-81e8-6a2632fea384",
        "colab": {
          "base_uri": "https://localhost:8080/",
          "height": 159
        }
      },
      "source": [
        "devQ[0:2] "
      ],
      "execution_count": 10,
      "outputs": [
        {
          "output_type": "execute_result",
          "data": {
            "text/plain": [
              "[{'answer': 'tetanus',\n",
              "  'question': 'Lockjaw is another name for which disease',\n",
              "  'tags': ['1tok', 'yes-answer-long', 'yes-answer-short'],\n",
              "  'uid': 's3q1674'},\n",
              " {'answer': 'leek',\n",
              "  'question': 'Which vegetable is a Welsh emblem ?',\n",
              "  'tags': ['1tok'],\n",
              "  'uid': 's3q18157'}]"
            ]
          },
          "metadata": {
            "tags": []
          },
          "execution_count": 10
        }
      ]
    },
    {
      "cell_type": "code",
      "metadata": {
        "id": "FOfJUjhi_n9U",
        "colab_type": "code",
        "colab": {}
      },
      "source": [
        "#lets find all questions with uid s3q1671 <-- just to understand the data better\n",
        "uidlist_train = []\n",
        "uidlist_test = []\n",
        "uidlist_dev = []\n",
        "for idx, Qdict in enumerate(trainQ):\n",
        "  uidlist_train.append(Qdict['uid'])\n",
        "for idx, Qdict in enumerate(testQ):\n",
        "  uidlist_test.append(Qdict['uid'])\n",
        "for idx, Qdict in enumerate(devQ):\n",
        "  uidlist_dev.append(Qdict['uid'])"
      ],
      "execution_count": 0,
      "outputs": []
    },
    {
      "cell_type": "code",
      "metadata": {
        "id": "Hb7pJpdW_rF2",
        "colab_type": "code",
        "outputId": "add13fa4-21cc-4225-adab-a2abc714a02f",
        "colab": {
          "base_uri": "https://localhost:8080/",
          "height": 70
        }
      },
      "source": [
        "print (np.shape(uidlist_train), np.shape(list(set(uidlist_train))) )\n",
        "print (np.shape(uidlist_test), np.shape(list(set(uidlist_test))) )\n",
        "print (np.shape(uidlist_dev), np.shape(list(set(uidlist_dev))) )"
      ],
      "execution_count": 12,
      "outputs": [
        {
          "output_type": "stream",
          "text": [
            "(37012,) (37012,)\n",
            "(3000,) (3000,)\n",
            "(3000,) (3000,)\n"
          ],
          "name": "stdout"
        }
      ]
    },
    {
      "cell_type": "code",
      "metadata": {
        "id": "lANx3dpN_sFf",
        "colab_type": "code",
        "outputId": "bf3ebc3a-f0ad-419f-b7c9-125e7776b294",
        "colab": {
          "base_uri": "https://localhost:8080/",
          "height": 35
        }
      },
      "source": [
        "#check the common uids between train+dev and test\n",
        "commonuid = list(set(uidlist_dev).intersection(set(uidlist_train)))\n",
        "np.shape(commonuid)"
      ],
      "execution_count": 13,
      "outputs": [
        {
          "output_type": "execute_result",
          "data": {
            "text/plain": [
              "(0,)"
            ]
          },
          "metadata": {
            "tags": []
          },
          "execution_count": 13
        }
      ]
    },
    {
      "cell_type": "markdown",
      "metadata": {
        "id": "y5YKG5_d_ugg",
        "colab_type": "text"
      },
      "source": [
        "The UID seems unique. Every record in the train question data has a uinque UID. There are no duplicates and repeatitions. This is true for test and dev questions datasets as well as Context datasets too.\n",
        "There is NO intersection between the UID of these datasets"
      ]
    },
    {
      "cell_type": "markdown",
      "metadata": {
        "id": "-FUtgH-9PjCM",
        "colab_type": "text"
      },
      "source": [
        "## Lets look at the tokens (BERT like) and the length of the question and answers"
      ]
    },
    {
      "cell_type": "code",
      "metadata": {
        "id": "MU3vs7bUPmyU",
        "colab_type": "code",
        "outputId": "ecad54c2-433e-4f81-993b-9bfcbfae4a35",
        "colab": {
          "base_uri": "https://localhost:8080/",
          "height": 426
        }
      },
      "source": [
        "!pip install transformers"
      ],
      "execution_count": 14,
      "outputs": [
        {
          "output_type": "stream",
          "text": [
            "Requirement already satisfied: transformers in /usr/local/lib/python3.6/dist-packages (2.8.0)\n",
            "Requirement already satisfied: tqdm>=4.27 in /usr/local/lib/python3.6/dist-packages (from transformers) (4.38.0)\n",
            "Requirement already satisfied: sentencepiece in /usr/local/lib/python3.6/dist-packages (from transformers) (0.1.86)\n",
            "Requirement already satisfied: tokenizers==0.5.2 in /usr/local/lib/python3.6/dist-packages (from transformers) (0.5.2)\n",
            "Requirement already satisfied: boto3 in /usr/local/lib/python3.6/dist-packages (from transformers) (1.12.47)\n",
            "Requirement already satisfied: dataclasses; python_version < \"3.7\" in /usr/local/lib/python3.6/dist-packages (from transformers) (0.7)\n",
            "Requirement already satisfied: numpy in /usr/local/lib/python3.6/dist-packages (from transformers) (1.18.3)\n",
            "Requirement already satisfied: sacremoses in /usr/local/lib/python3.6/dist-packages (from transformers) (0.0.41)\n",
            "Requirement already satisfied: requests in /usr/local/lib/python3.6/dist-packages (from transformers) (2.23.0)\n",
            "Requirement already satisfied: filelock in /usr/local/lib/python3.6/dist-packages (from transformers) (3.0.12)\n",
            "Requirement already satisfied: regex!=2019.12.17 in /usr/local/lib/python3.6/dist-packages (from transformers) (2019.12.20)\n",
            "Requirement already satisfied: botocore<1.16.0,>=1.15.47 in /usr/local/lib/python3.6/dist-packages (from boto3->transformers) (1.15.47)\n",
            "Requirement already satisfied: s3transfer<0.4.0,>=0.3.0 in /usr/local/lib/python3.6/dist-packages (from boto3->transformers) (0.3.3)\n",
            "Requirement already satisfied: jmespath<1.0.0,>=0.7.1 in /usr/local/lib/python3.6/dist-packages (from boto3->transformers) (0.9.5)\n",
            "Requirement already satisfied: click in /usr/local/lib/python3.6/dist-packages (from sacremoses->transformers) (7.1.2)\n",
            "Requirement already satisfied: joblib in /usr/local/lib/python3.6/dist-packages (from sacremoses->transformers) (0.14.1)\n",
            "Requirement already satisfied: six in /usr/local/lib/python3.6/dist-packages (from sacremoses->transformers) (1.12.0)\n",
            "Requirement already satisfied: certifi>=2017.4.17 in /usr/local/lib/python3.6/dist-packages (from requests->transformers) (2020.4.5.1)\n",
            "Requirement already satisfied: chardet<4,>=3.0.2 in /usr/local/lib/python3.6/dist-packages (from requests->transformers) (3.0.4)\n",
            "Requirement already satisfied: idna<3,>=2.5 in /usr/local/lib/python3.6/dist-packages (from requests->transformers) (2.9)\n",
            "Requirement already satisfied: urllib3!=1.25.0,!=1.25.1,<1.26,>=1.21.1 in /usr/local/lib/python3.6/dist-packages (from requests->transformers) (1.24.3)\n",
            "Requirement already satisfied: python-dateutil<3.0.0,>=2.1 in /usr/local/lib/python3.6/dist-packages (from botocore<1.16.0,>=1.15.47->boto3->transformers) (2.8.1)\n",
            "Requirement already satisfied: docutils<0.16,>=0.10 in /usr/local/lib/python3.6/dist-packages (from botocore<1.16.0,>=1.15.47->boto3->transformers) (0.15.2)\n"
          ],
          "name": "stdout"
        }
      ]
    },
    {
      "cell_type": "code",
      "metadata": {
        "id": "p769XitCPyFI",
        "colab_type": "code",
        "colab": {}
      },
      "source": [
        "import torch\n",
        "from transformers import *\n",
        "pretrained_weights = 'bert-base-uncased'\n",
        "berttokenizer= BertTokenizer.from_pretrained(pretrained_weights)\n",
        "model = BertModel.from_pretrained(pretrained_weights, \n",
        "                                  output_hidden_states=True, \n",
        "                                  output_attentions= True)"
      ],
      "execution_count": 0,
      "outputs": []
    },
    {
      "cell_type": "code",
      "metadata": {
        "id": "sm6fIyqudWeR",
        "colab_type": "code",
        "outputId": "07a7d8fc-0289-4e58-b96d-e107a126adb1",
        "colab": {
          "base_uri": "https://localhost:8080/",
          "height": 35
        }
      },
      "source": [
        "print(berttokenizer.tokenize(\"cross country riding it\\u2019s a fence\", add_special_tokens=False))"
      ],
      "execution_count": 16,
      "outputs": [
        {
          "output_type": "stream",
          "text": [
            "['cross', 'country', 'riding', 'it', '’', 's', 'a', 'fence']\n"
          ],
          "name": "stdout"
        }
      ]
    },
    {
      "cell_type": "code",
      "metadata": {
        "id": "_Krnpw1xQqAp",
        "colab_type": "code",
        "colab": {}
      },
      "source": [
        "def tokenizebertstyle(text):\n",
        "  return berttokenizer.tokenize(text, add_special_tokens=False)"
      ],
      "execution_count": 0,
      "outputs": []
    },
    {
      "cell_type": "code",
      "metadata": {
        "id": "sLe_pGrYW7yH",
        "colab_type": "code",
        "outputId": "7ee23bc2-2d99-40f5-9ee1-a0c521619431",
        "colab": {
          "base_uri": "https://localhost:8080/",
          "height": 558
        }
      },
      "source": [
        "#lets look at length of some Answers in test and dev datasets\n",
        "anslisttest = []\n",
        "anslenlistdev = []\n",
        "for testQdict, devQdict in zip(testQ, devQ):\n",
        "  anslisttest.append(len(tokenizebertstyle(testQdict['answer'])))\n",
        "  anslenlistdev.append(len(tokenizebertstyle(devQdict['answer'])))\n",
        "\n",
        "fig, axs = plt.subplots(2, 2, figsize=(15,8))\n",
        "fig.suptitle('Answers length stats for Test and Dev datasets')\n",
        "axs[0, 0].hist(anslisttest)\n",
        "axs[0, 0].set_title('Test dataset')\n",
        "axs[0, 1].boxplot(anslisttest)\n",
        "axs[0, 1].set_title('Test dataset')\n",
        "\n",
        "axs[1, 0].hist(anslenlistdev)\n",
        "axs[1, 0].set_title('Dev dataset')\n",
        "axs[1, 1].boxplot(anslenlistdev)\n",
        "axs[1, 1].set_title('Dev dataset')"
      ],
      "execution_count": 18,
      "outputs": [
        {
          "output_type": "execute_result",
          "data": {
            "text/plain": [
              "Text(0.5, 1.0, 'Dev dataset')"
            ]
          },
          "metadata": {
            "tags": []
          },
          "execution_count": 18
        },
        {
          "output_type": "display_data",
          "data": {
            "image/png": "[encoded data removed]",
            "text/plain": [
              "<Figure size 1080x576 with 4 Axes>"
            ]
          },
          "metadata": {
            "tags": [],
            "needs_background": "light"
          }
        }
      ]
    },
    {
      "cell_type": "code",
      "metadata": {
        "id": "zZvWfw7zXMRz",
        "colab_type": "code",
        "outputId": "f923eb8d-1263-4f1c-ead6-e5eda7451d91",
        "colab": {
          "base_uri": "https://localhost:8080/",
          "height": 291
        }
      },
      "source": [
        "pd.DataFrame(list(zip(anslisttest, anslenlistdev)), columns = [\"Answer Tokens Len Test\", \"Answer Tokens Len Dev\"]).describe()"
      ],
      "execution_count": 19,
      "outputs": [
        {
          "output_type": "execute_result",
          "data": {
            "text/html": [
              "<div>\n",
              "<style scoped>\n",
              "    .dataframe tbody tr th:only-of-type {\n",
              "        vertical-align: middle;\n",
              "    }\n",
              "\n",
              "    .dataframe tbody tr th {\n",
              "        vertical-align: top;\n",
              "    }\n",
              "\n",
              "    .dataframe thead th {\n",
              "        text-align: right;\n",
              "    }\n",
              "</style>\n",
              "<table border=\"1\" class=\"dataframe\">\n",
              "  <thead>\n",
              "    <tr style=\"text-align: right;\">\n",
              "      <th></th>\n",
              "      <th>Answer Tokens Len Test</th>\n",
              "      <th>Answer Tokens Len Dev</th>\n",
              "    </tr>\n",
              "  </thead>\n",
              "  <tbody>\n",
              "    <tr>\n",
              "      <th>count</th>\n",
              "      <td>3000.000000</td>\n",
              "      <td>3000.000000</td>\n",
              "    </tr>\n",
              "    <tr>\n",
              "      <th>mean</th>\n",
              "      <td>2.551333</td>\n",
              "      <td>2.557000</td>\n",
              "    </tr>\n",
              "    <tr>\n",
              "      <th>std</th>\n",
              "      <td>1.906981</td>\n",
              "      <td>1.987142</td>\n",
              "    </tr>\n",
              "    <tr>\n",
              "      <th>min</th>\n",
              "      <td>1.000000</td>\n",
              "      <td>1.000000</td>\n",
              "    </tr>\n",
              "    <tr>\n",
              "      <th>25%</th>\n",
              "      <td>1.000000</td>\n",
              "      <td>1.000000</td>\n",
              "    </tr>\n",
              "    <tr>\n",
              "      <th>50%</th>\n",
              "      <td>2.000000</td>\n",
              "      <td>2.000000</td>\n",
              "    </tr>\n",
              "    <tr>\n",
              "      <th>75%</th>\n",
              "      <td>3.000000</td>\n",
              "      <td>3.000000</td>\n",
              "    </tr>\n",
              "    <tr>\n",
              "      <th>max</th>\n",
              "      <td>23.000000</td>\n",
              "      <td>33.000000</td>\n",
              "    </tr>\n",
              "  </tbody>\n",
              "</table>\n",
              "</div>"
            ],
            "text/plain": [
              "       Answer Tokens Len Test  Answer Tokens Len Dev\n",
              "count             3000.000000            3000.000000\n",
              "mean                 2.551333               2.557000\n",
              "std                  1.906981               1.987142\n",
              "min                  1.000000               1.000000\n",
              "25%                  1.000000               1.000000\n",
              "50%                  2.000000               2.000000\n",
              "75%                  3.000000               3.000000\n",
              "max                 23.000000              33.000000"
            ]
          },
          "metadata": {
            "tags": []
          },
          "execution_count": 19
        }
      ]
    },
    {
      "cell_type": "markdown",
      "metadata": {
        "id": "H-LCjgcZXVs2",
        "colab_type": "text"
      },
      "source": [
        "### Max Answer len is around 23 or33 and generally the ans are between 1-3 words"
      ]
    },
    {
      "cell_type": "code",
      "metadata": {
        "id": "XN5_d300Yee0",
        "colab_type": "code",
        "outputId": "1664cbc3-d6d6-4780-e25e-534353819eec",
        "colab": {
          "base_uri": "https://localhost:8080/",
          "height": 355
        }
      },
      "source": [
        "#it would be intresting to see the answers that have higher length\n",
        "index_list_long_ans_test = [k for k, value in enumerate(anslisttest) if value > 8]\n",
        "print(len(index_list_long_ans_test))\n",
        "print('\\n'.join([(testQ[i][\"answer\"]) for i in index_list_long_ans_test[:8]] )) #ony 8\n",
        "print('\\n')\n",
        "print('\\n'.join(([(testQ[i][\"question\"]) for i in index_list_long_ans_test[:8]]))) #ony 5"
      ],
      "execution_count": 20,
      "outputs": [
        {
          "output_type": "stream",
          "text": [
            "48\n",
            "on a horse it\\u2019s a horses leg\n",
            "6 (vault, rings, floor, high bar, para bars, horse)\n",
            "sighting unexplained craft sighting ufo's\n",
            "it had a short head with a parrot like beak\n",
            "turtle soup. calipee is found beneath the lower shell of the green turtle.\n",
            "the democratic republic of congo , formally zaire\n",
            "on the edge of a \\u00a32 coin\n",
            "a footman \\u2013 walk behind master\n",
            "\n",
            "\n",
            "Where would you find a gambrel\n",
            "How Many Diciplines Are There In Mens Gymnastics\n",
            "Close encounters of the first kind\n",
            "Why Was The Psittacosaurus So Called\n",
            "A green gelatinous substance known as calipee is used to make which favorite amongst gastronomes ?\n",
            "In Which African Country Is The Seaport Of Banana\n",
            "Where Exactly -LRB- And You Must Be Specific -RRB- Will You Find The Words `` Standing On The Shoulders Of Giants ''\n",
            "In the 18th century what job did a fart-catcher do\n"
          ],
          "name": "stdout"
        }
      ]
    },
    {
      "cell_type": "code",
      "metadata": {
        "id": "JkAj-cASdpLz",
        "colab_type": "code",
        "outputId": "1c602ad5-fa5a-40c4-a351-60a8fa58ce59",
        "colab": {
          "base_uri": "https://localhost:8080/",
          "height": 355
        }
      },
      "source": [
        "#it would be intresting to see the answers that have higher length\n",
        "index_list_long_ans_dev = [k for k, value in enumerate(anslenlistdev) if value > 8]\n",
        "print(len(index_list_long_ans_dev))\n",
        "print('\\n'.join(([(devQ[i][\"answer\"]) for i in index_list_long_ans_dev[:8]]))) \n",
        "print('\\n')\n",
        "print('\\n'.join(([(devQ[i][\"question\"]) for i in index_list_long_ans_dev[:8]]))) "
      ],
      "execution_count": 21,
      "outputs": [
        {
          "output_type": "stream",
          "text": [
            "46\n",
            "a giant sequoia giant sequoia\n",
            "popeye - they are spinach growers\n",
            "king pygmalion aphrodite life\n",
            "audi \\u2013 vorsprung durch technik\n",
            "booze \\u2013 honeymoon 30 day booze up\n",
            "1 meat - 2 fresh veg \\u2013 3 pet food\n",
            "he tried to flee to spain instead, and was swallowed by the \"whale\"nineveh\n",
            "hinge - it\\u2019s the pin holding it\n",
            "\n",
            "\n",
            "What living organism can be 30 times the size of a blue whale\n",
            "Crystal City in Texas put up a statue to what cartoon character\n",
            "In mythology who married the beautiful maid Galatea\n",
            "What car manufacturers slogan is forward through technology\n",
            "How did Attila the Hun die on honeymoon\n",
            "What is the most profitable section in supermarkets\n",
            "To which city did the Lord tell Jonah to go and denounce its citizens ' wickedness\n",
            "Where would you find a pintle\n"
          ],
          "name": "stdout"
        }
      ]
    },
    {
      "cell_type": "code",
      "metadata": {
        "id": "bLwplV09Hfus",
        "colab_type": "code",
        "outputId": "0ed1384e-a59d-4667-d667-2e81036287df",
        "colab": {
          "base_uri": "https://localhost:8080/",
          "height": 558
        }
      },
      "source": [
        "#lets look at length of some questions in test and dev datasets\n",
        "queslenlisttest = []\n",
        "queslenlistdev = []\n",
        "for testQdict, devQdict in zip(testQ, devQ):\n",
        "  queslenlisttest.append(len(tokenizebertstyle(testQdict['question'])))\n",
        "  queslenlistdev.append(len(tokenizebertstyle(devQdict['question'])))\n",
        "\n",
        "fig, axs = plt.subplots(2, 2, figsize=(15,8))\n",
        "fig.suptitle('Questions length stats for Test and Dev datasets')\n",
        "axs[0, 0].hist(queslenlisttest)\n",
        "axs[0, 0].set_title('Test dataset')\n",
        "axs[0, 1].boxplot(queslenlisttest)\n",
        "axs[0, 1].set_title('Test dataset')\n",
        "\n",
        "axs[1, 0].hist(queslenlistdev)\n",
        "axs[1, 0].set_title('Dev dataset')\n",
        "axs[1, 1].boxplot(queslenlistdev)\n",
        "axs[1, 1].set_title('Dev dataset')\n"
      ],
      "execution_count": 22,
      "outputs": [
        {
          "output_type": "execute_result",
          "data": {
            "text/plain": [
              "Text(0.5, 1.0, 'Dev dataset')"
            ]
          },
          "metadata": {
            "tags": []
          },
          "execution_count": 22
        },
        {
          "output_type": "display_data",
          "data": {
            "image/png": "[encoded data removed]",
            "text/plain": [
              "<Figure size 1080x576 with 4 Axes>"
            ]
          },
          "metadata": {
            "tags": [],
            "needs_background": "light"
          }
        }
      ]
    },
    {
      "cell_type": "markdown",
      "metadata": {
        "id": "byg2_aKwDuak",
        "colab_type": "text"
      },
      "source": [
        "The distribution looks right skewed. There are questions what have as small length as 3 and as big as 41 words"
      ]
    },
    {
      "cell_type": "code",
      "metadata": {
        "id": "RTZf4M86__1Y",
        "colab_type": "code",
        "outputId": "3b86635d-a844-4925-a4ec-e52b8bd70454",
        "colab": {
          "base_uri": "https://localhost:8080/",
          "height": 291
        }
      },
      "source": [
        "pd.DataFrame(list(zip(queslenlisttest, queslenlistdev)), columns = [\"Question Tokens Len Test\", \"Question Tokens Len Dev\"]).describe()"
      ],
      "execution_count": 23,
      "outputs": [
        {
          "output_type": "execute_result",
          "data": {
            "text/html": [
              "<div>\n",
              "<style scoped>\n",
              "    .dataframe tbody tr th:only-of-type {\n",
              "        vertical-align: middle;\n",
              "    }\n",
              "\n",
              "    .dataframe tbody tr th {\n",
              "        vertical-align: top;\n",
              "    }\n",
              "\n",
              "    .dataframe thead th {\n",
              "        text-align: right;\n",
              "    }\n",
              "</style>\n",
              "<table border=\"1\" class=\"dataframe\">\n",
              "  <thead>\n",
              "    <tr style=\"text-align: right;\">\n",
              "      <th></th>\n",
              "      <th>Question Tokens Len Test</th>\n",
              "      <th>Question Tokens Len Dev</th>\n",
              "    </tr>\n",
              "  </thead>\n",
              "  <tbody>\n",
              "    <tr>\n",
              "      <th>count</th>\n",
              "      <td>3000.000000</td>\n",
              "      <td>3000.000000</td>\n",
              "    </tr>\n",
              "    <tr>\n",
              "      <th>mean</th>\n",
              "      <td>12.318000</td>\n",
              "      <td>12.312667</td>\n",
              "    </tr>\n",
              "    <tr>\n",
              "      <th>std</th>\n",
              "      <td>5.703951</td>\n",
              "      <td>5.784813</td>\n",
              "    </tr>\n",
              "    <tr>\n",
              "      <th>min</th>\n",
              "      <td>3.000000</td>\n",
              "      <td>3.000000</td>\n",
              "    </tr>\n",
              "    <tr>\n",
              "      <th>25%</th>\n",
              "      <td>9.000000</td>\n",
              "      <td>9.000000</td>\n",
              "    </tr>\n",
              "    <tr>\n",
              "      <th>50%</th>\n",
              "      <td>11.000000</td>\n",
              "      <td>11.000000</td>\n",
              "    </tr>\n",
              "    <tr>\n",
              "      <th>75%</th>\n",
              "      <td>14.000000</td>\n",
              "      <td>14.000000</td>\n",
              "    </tr>\n",
              "    <tr>\n",
              "      <th>max</th>\n",
              "      <td>52.000000</td>\n",
              "      <td>54.000000</td>\n",
              "    </tr>\n",
              "  </tbody>\n",
              "</table>\n",
              "</div>"
            ],
            "text/plain": [
              "       Question Tokens Len Test  Question Tokens Len Dev\n",
              "count               3000.000000              3000.000000\n",
              "mean                  12.318000                12.312667\n",
              "std                    5.703951                 5.784813\n",
              "min                    3.000000                 3.000000\n",
              "25%                    9.000000                 9.000000\n",
              "50%                   11.000000                11.000000\n",
              "75%                   14.000000                14.000000\n",
              "max                   52.000000                54.000000"
            ]
          },
          "metadata": {
            "tags": []
          },
          "execution_count": 23
        }
      ]
    },
    {
      "cell_type": "markdown",
      "metadata": {
        "id": "-aojnMlXDitq",
        "colab_type": "text"
      },
      "source": [
        "The max length of question is 52-54 tokens and most of the questions have length between 9-14 tokens"
      ]
    },
    {
      "cell_type": "code",
      "metadata": {
        "id": "GHTEaY26hMCo",
        "colab_type": "code",
        "outputId": "e5f94b76-3e53-441b-c2bb-7e4c6d11f415",
        "colab": {
          "base_uri": "https://localhost:8080/",
          "height": 375
        }
      },
      "source": [
        "index_list_long_ques_test = [k for k, value in enumerate(queslenlisttest) if value > 25]\n",
        "print(len(index_list_long_ques_test))\n",
        "print('\\n'.join([(testQ[i][\"question\"]) for i in index_list_long_ques_test[:8]] )) #ony 8\n",
        "print('\\n')\n",
        "print('\\n'.join(([(testQ[i][\"answer\"]) for i in index_list_long_ques_test[:8]]))) #ony 8"
      ],
      "execution_count": 24,
      "outputs": [
        {
          "output_type": "stream",
          "text": [
            "106\n",
            "A marine catfish can taste with any part of its body .The female marine catfish hatches her eggs in her __________\n",
            "Where was the painting by Michaelangelo , valued at # 8 million pounds recently found , after remaining unrecognised for more than 250 years\n",
            "Cocktails : Rum , lime , and cola drink make a -LRB- n -RRB- ____________ .\n",
            "From the 1980 's which artists and song `` So strike a pose on a Cadillac , If you want to find all the cops , They 're hanging out in the donut shop , They sing and dance '' ?\n",
            "The city of Los Angeles is more than one_third the size of the entire state of ______________\n",
            "What type of food is associated with 4th July celebrations , is it a curry , a Roast Turkey , a picnic , or a BBQ ?\n",
            "The four stages in the life_cycle of an insect are : egg , adult , pupa , and ________ .\n",
            "On March 27 , 1964 , North America 's strongest recorded earthquake , with a moment magnitude of 9.2 , rocked central ______________\n",
            "\n",
            "\n",
            "mouth\n",
            "castle howard\n",
            "cuba libre\n",
            "the bangles / walk like an egyptian\n",
            "rhode island\n",
            "picnic or bbq\n",
            "larva\n",
            "alaska\n"
          ],
          "name": "stdout"
        }
      ]
    },
    {
      "cell_type": "code",
      "metadata": {
        "id": "in_5PSfehoQC",
        "colab_type": "code",
        "outputId": "8a600dc9-7158-414b-e0e2-e4cfb9b7426a",
        "colab": {
          "base_uri": "https://localhost:8080/",
          "height": 355
        }
      },
      "source": [
        "index_list_long_ques_dev = [k for k, value in enumerate(queslenlistdev) if value > 25]\n",
        "print(len(index_list_long_ques_dev))\n",
        "print('\\n'.join([(devQ[i][\"question\"]) for i in index_list_long_ques_dev[:8]] )) #ony 8\n",
        "print('\\n')\n",
        "print('\\n'.join(([(devQ[i][\"answer\"]) for i in index_list_long_ques_dev[:8]]))) #ony 8"
      ],
      "execution_count": 25,
      "outputs": [
        {
          "output_type": "stream",
          "text": [
            "111\n",
            "______________ is the largest French_speaking city in the Western Hemisphere .\n",
            "In a standard game of cricket , what is the maximum number of people that can be on the field of play at any one time during play\n",
            "On the Single `` Do They Know It 's Christmas '' Only One Person Performed On Both The Original And The 20 Year Remake Band Aid 20 , Who Was It ?\n",
            "In 1953 Science fiction author L.Ron Hubbard founded which cult religion , one of who 's prominent modern day followers is John Travolta\n",
            "Who Had A Surprise UK Hit In The 90 's With A Cover Of The Classic Led Zeppelin Song `` Stairway To Heaven ''\n",
            "In 2010 , for the first time in 27 years , the House of Reps censured one of its members , Charlie Rangel of what state ?\n",
            "Most varieties of __________ can go an entire year without eating a single morsel of food .\n",
            "What is the answer to a groan-inducing math riddle that asks , '' Where can you buy a ruler that is three feet long '' ?\n",
            "\n",
            "\n",
            "montreal\n",
            "seventeen\n",
            "bono / u2\n",
            "scientology\n",
            "rolf harris\n",
            "new york\n",
            "snake\n",
            "yard sale\n"
          ],
          "name": "stdout"
        }
      ]
    },
    {
      "cell_type": "code",
      "metadata": {
        "id": "aswSdIuCKtnM",
        "colab_type": "code",
        "outputId": "f52101c8-de03-419e-a4bb-0c57aaafe7aa",
        "colab": {
          "base_uri": "https://localhost:8080/",
          "height": 558
        }
      },
      "source": [
        "#lets look at length of some contexts in test and dev datasets\n",
        "#since paragraphs are long and tokenization is taking longer time in evaluation hence\n",
        "#using the sentence word split method to get ball park figure\n",
        "Ctxlisttest = []\n",
        "Ctxlistdev = []\n",
        "for testSCdict, devSCdict in zip(testSC, devSC):\n",
        "  sublisttestSC = testSCdict[\"contexts\"]\n",
        "  sublistdevSC = devSCdict[\"contexts\"]\n",
        "  for itemtest, itemdev in zip(sublisttestSC, sublistdevSC):\n",
        "    Ctxlisttest.append(len((itemtest[1].split())))\n",
        "    Ctxlistdev.append(len((itemdev[1].split())))\n",
        "\n",
        "fig, axs = plt.subplots(2, 2, figsize=(15,8))\n",
        "fig.suptitle('Long Paragraph length stats for Test and Dev datasets')\n",
        "axs[0, 0].hist(Ctxlisttest)\n",
        "axs[0, 0].set_title('Test dataset')\n",
        "axs[0, 1].boxplot(Ctxlisttest)\n",
        "axs[0, 1].set_title('Test dataset')\n",
        "\n",
        "axs[1, 0].hist(Ctxlistdev)\n",
        "axs[1, 0].set_title('Dev dataset')\n",
        "axs[1, 1].boxplot(Ctxlistdev)\n",
        "axs[1, 1].set_title('Dev dataset')"
      ],
      "execution_count": 26,
      "outputs": [
        {
          "output_type": "execute_result",
          "data": {
            "text/plain": [
              "Text(0.5, 1.0, 'Dev dataset')"
            ]
          },
          "metadata": {
            "tags": []
          },
          "execution_count": 26
        },
        {
          "output_type": "display_data",
          "data": {
            "image/png": "[encoded data removed]",
            "text/plain": [
              "<Figure size 1080x576 with 4 Axes>"
            ]
          },
          "metadata": {
            "tags": [],
            "needs_background": "light"
          }
        }
      ]
    },
    {
      "cell_type": "code",
      "metadata": {
        "id": "0mLv7j_oNW-U",
        "colab_type": "code",
        "outputId": "93148520-41f0-4430-fece-5c3fad03e604",
        "colab": {
          "base_uri": "https://localhost:8080/",
          "height": 291
        }
      },
      "source": [
        "df_cxt_long = pd.DataFrame(list(zip(Ctxlisttest, Ctxlistdev)), columns = [\"Paragraph Len Test\", \"Paragraph Len Dev\"])\n",
        "df_cxt_long.describe()"
      ],
      "execution_count": 27,
      "outputs": [
        {
          "output_type": "execute_result",
          "data": {
            "text/html": [
              "<div>\n",
              "<style scoped>\n",
              "    .dataframe tbody tr th:only-of-type {\n",
              "        vertical-align: middle;\n",
              "    }\n",
              "\n",
              "    .dataframe tbody tr th {\n",
              "        vertical-align: top;\n",
              "    }\n",
              "\n",
              "    .dataframe thead th {\n",
              "        text-align: right;\n",
              "    }\n",
              "</style>\n",
              "<table border=\"1\" class=\"dataframe\">\n",
              "  <thead>\n",
              "    <tr style=\"text-align: right;\">\n",
              "      <th></th>\n",
              "      <th>Paragraph Len Test</th>\n",
              "      <th>Paragraph Len Dev</th>\n",
              "    </tr>\n",
              "  </thead>\n",
              "  <tbody>\n",
              "    <tr>\n",
              "      <th>count</th>\n",
              "      <td>298355.000000</td>\n",
              "      <td>298355.000000</td>\n",
              "    </tr>\n",
              "    <tr>\n",
              "      <th>mean</th>\n",
              "      <td>22.175626</td>\n",
              "      <td>22.171159</td>\n",
              "    </tr>\n",
              "    <tr>\n",
              "      <th>std</th>\n",
              "      <td>10.537397</td>\n",
              "      <td>10.616785</td>\n",
              "    </tr>\n",
              "    <tr>\n",
              "      <th>min</th>\n",
              "      <td>1.000000</td>\n",
              "      <td>2.000000</td>\n",
              "    </tr>\n",
              "    <tr>\n",
              "      <th>25%</th>\n",
              "      <td>13.000000</td>\n",
              "      <td>13.000000</td>\n",
              "    </tr>\n",
              "    <tr>\n",
              "      <th>50%</th>\n",
              "      <td>22.000000</td>\n",
              "      <td>22.000000</td>\n",
              "    </tr>\n",
              "    <tr>\n",
              "      <th>75%</th>\n",
              "      <td>31.000000</td>\n",
              "      <td>31.000000</td>\n",
              "    </tr>\n",
              "    <tr>\n",
              "      <th>max</th>\n",
              "      <td>93.000000</td>\n",
              "      <td>100.000000</td>\n",
              "    </tr>\n",
              "  </tbody>\n",
              "</table>\n",
              "</div>"
            ],
            "text/plain": [
              "       Paragraph Len Test  Paragraph Len Dev\n",
              "count       298355.000000      298355.000000\n",
              "mean            22.175626          22.171159\n",
              "std             10.537397          10.616785\n",
              "min              1.000000           2.000000\n",
              "25%             13.000000          13.000000\n",
              "50%             22.000000          22.000000\n",
              "75%             31.000000          31.000000\n",
              "max             93.000000         100.000000"
            ]
          },
          "metadata": {
            "tags": []
          },
          "execution_count": 27
        }
      ]
    },
    {
      "cell_type": "markdown",
      "metadata": {
        "id": "p7XZgPKoNrNp",
        "colab_type": "text"
      },
      "source": [
        "The word length of short paragraph vary from 10-30. Max length is 93-100. The paragraph min value is 1 or 2 words. That seems strange. It would be good to keep the min length of paragraph to 5."
      ]
    },
    {
      "cell_type": "code",
      "metadata": {
        "id": "hhyD_3LHTfyc",
        "colab_type": "code",
        "outputId": "70721d53-e3db-42f5-fa7f-6d5ad4b7d470",
        "colab": {
          "base_uri": "https://localhost:8080/",
          "height": 35
        }
      },
      "source": [
        "print((df_cxt_long < 5).all(axis=1).sum()) #how many records have length less than 5"
      ],
      "execution_count": 28,
      "outputs": [
        {
          "output_type": "stream",
          "text": [
            "87\n"
          ],
          "name": "stdout"
        }
      ]
    },
    {
      "cell_type": "code",
      "metadata": {
        "id": "DX2UWuoYgjYN",
        "colab_type": "code",
        "colab": {}
      },
      "source": [
        "#lets try some nltk libraries to check some bert based apis\n",
        "import nltk"
      ],
      "execution_count": 0,
      "outputs": []
    },
    {
      "cell_type": "code",
      "metadata": {
        "id": "f_wNZJG_g7DT",
        "colab_type": "code",
        "colab": {}
      },
      "source": [
        "from nltk.corpus import gutenberg\n",
        "from nltk.tokenize.treebank import TreebankWordDetokenizer, TreebankWordTokenizer \n",
        "from sklearn.feature_extraction.text import TfidfVectorizer, CountVectorizer\n",
        "from sklearn.metrics.pairwise import cosine_similarity"
      ],
      "execution_count": 0,
      "outputs": []
    },
    {
      "cell_type": "code",
      "metadata": {
        "id": "i9F0MDYI15pZ",
        "colab_type": "code",
        "colab": {}
      },
      "source": [
        "#!pip uninstall tensorflow -y\n",
        "#!pip install tensorflow==1.15.2"
      ],
      "execution_count": 0,
      "outputs": []
    },
    {
      "cell_type": "code",
      "metadata": {
        "id": "YcUn-MBaWZzE",
        "colab_type": "code",
        "colab": {}
      },
      "source": [
        "#!pip uninstall pandas -y\n",
        "#!pip install pandas==0.25.3"
      ],
      "execution_count": 0,
      "outputs": []
    },
    {
      "cell_type": "code",
      "metadata": {
        "id": "Q-ij3L-th3Q_",
        "colab_type": "code",
        "outputId": "181e9be0-06e9-4431-f1f6-d86a0d7e575e",
        "colab": {
          "base_uri": "https://localhost:8080/",
          "height": 1000
        }
      },
      "source": [
        "!pip install deeppavlov"
      ],
      "execution_count": 32,
      "outputs": [
        {
          "output_type": "stream",
          "text": [
            "Collecting deeppavlov\n",
            "\u001b[?25l  Downloading https://files.pythonhosted.org/packages/b7/74/600871c188f82023575c86f6119804c35f0cdbd009bd5b73e4538978ba3d/deeppavlov-0.9.1-py3-none-any.whl (777kB)\n",
            "\u001b[K     |████████████████████████████████| 778kB 3.4MB/s \n",
            "\u001b[?25hCollecting pymorphy2-dicts-ru\n",
            "\u001b[?25l  Downloading https://files.pythonhosted.org/packages/7c/9b/358faaff410f65a4ad159275e897b5956dcb20576c5b8e764b971c1634d7/pymorphy2_dicts_ru-2.4.404381.4453942-py2.py3-none-any.whl (8.0MB)\n",
            "\u001b[K     |████████████████████████████████| 8.0MB 11.2MB/s \n",
            "\u001b[?25hCollecting Cython==0.29.14\n",
            "\u001b[?25l  Downloading https://files.pythonhosted.org/packages/df/d1/4d3f8a7a920e805488a966cc6ab55c978a712240f584445d703c08b9f405/Cython-0.29.14-cp36-cp36m-manylinux1_x86_64.whl (2.1MB)\n",
            "\u001b[K     |████████████████████████████████| 2.1MB 29.5MB/s \n",
            "\u001b[?25hCollecting scikit-learn==0.21.2\n",
            "\u001b[?25l  Downloading https://files.pythonhosted.org/packages/85/04/49633f490f726da6e454fddc8e938bbb5bfed2001681118d3814c219b723/scikit_learn-0.21.2-cp36-cp36m-manylinux1_x86_64.whl (6.7MB)\n",
            "\u001b[K     |████████████████████████████████| 6.7MB 24.7MB/s \n",
            "\u001b[?25hCollecting uvicorn==0.11.1\n",
            "\u001b[?25l  Downloading https://files.pythonhosted.org/packages/8e/24/11f4b4bf3963ead6de570feeae49eeced02f6768cf1f68e16f4b16d3b0aa/uvicorn-0.11.1-py3-none-any.whl (42kB)\n",
            "\u001b[K     |████████████████████████████████| 51kB 7.0MB/s \n",
            "\u001b[?25hCollecting fuzzywuzzy==0.17.0\n",
            "  Downloading https://files.pythonhosted.org/packages/d8/f1/5a267addb30ab7eaa1beab2b9323073815da4551076554ecc890a3595ec9/fuzzywuzzy-0.17.0-py2.py3-none-any.whl\n",
            "Collecting pydantic==1.3\n",
            "\u001b[?25l  Downloading https://files.pythonhosted.org/packages/99/24/e78cf017628e7eaed20cb040999b1ecc69f872da53dfd0d9aed40c0fa5f1/pydantic-1.3-cp36-cp36m-manylinux2010_x86_64.whl (7.3MB)\n",
            "\u001b[K     |████████████████████████████████| 7.3MB 31.9MB/s \n",
            "\u001b[?25hCollecting numpy==1.18.0\n",
            "\u001b[?25l  Downloading https://files.pythonhosted.org/packages/92/e6/45f71bd24f4e37629e9db5fb75caab919507deae6a5a257f9e4685a5f931/numpy-1.18.0-cp36-cp36m-manylinux1_x86_64.whl (20.1MB)\n",
            "\u001b[K     |████████████████████████████████| 20.1MB 254kB/s \n",
            "\u001b[?25hRequirement already satisfied: pandas==0.25.3 in /usr/local/lib/python3.6/dist-packages (from deeppavlov) (0.25.3)\n",
            "Collecting pyopenssl==19.1.0\n",
            "\u001b[?25l  Downloading https://files.pythonhosted.org/packages/9e/de/f8342b68fa9e981d348039954657bdf681b2ab93de27443be51865ffa310/pyOpenSSL-19.1.0-py2.py3-none-any.whl (53kB)\n",
            "\u001b[K     |████████████████████████████████| 61kB 8.6MB/s \n",
            "\u001b[?25hRequirement already satisfied: scipy==1.4.1 in /usr/local/lib/python3.6/dist-packages (from deeppavlov) (1.4.1)\n",
            "Collecting pytelegrambotapi==3.6.7\n",
            "\u001b[?25l  Downloading https://files.pythonhosted.org/packages/62/ab/99c606f69fcda57e35788b913dd34c9d9acb48dd26349141b3855dcf6351/pyTelegramBotAPI-3.6.7.tar.gz (65kB)\n",
            "\u001b[K     |████████████████████████████████| 71kB 9.9MB/s \n",
            "\u001b[?25hRequirement already satisfied: h5py==2.10.0 in /usr/local/lib/python3.6/dist-packages (from deeppavlov) (2.10.0)\n",
            "Collecting fastapi==0.47.1\n",
            "\u001b[?25l  Downloading https://files.pythonhosted.org/packages/a3/a7/4804d7abf8a1544d079d50650af872387154ebdac5bd07d54b2e60e2b334/fastapi-0.47.1-py3-none-any.whl (43kB)\n",
            "\u001b[K     |████████████████████████████████| 51kB 7.0MB/s \n",
            "\u001b[?25hCollecting rusenttokenize==0.0.5\n",
            "  Downloading https://files.pythonhosted.org/packages/25/4c/a2f00be5def774a3df2e5387145f1cb54e324607ec4a7e23f573645946e7/rusenttokenize-0.0.5-py3-none-any.whl\n",
            "Collecting aio-pika==6.4.1\n",
            "\u001b[?25l  Downloading https://files.pythonhosted.org/packages/c8/07/196a4115cbef31fa0c3dabdea146f02dffe5e49998341d20dbe2278953bc/aio_pika-6.4.1-py3-none-any.whl (40kB)\n",
            "\u001b[K     |████████████████████████████████| 51kB 7.3MB/s \n",
            "\u001b[?25hCollecting pymorphy2==0.8\n",
            "\u001b[?25l  Downloading https://files.pythonhosted.org/packages/a3/33/fff9675c68b5f6c63ec8c6e6ff57827dda28a1fa5b2c2d727dffff92dd47/pymorphy2-0.8-py2.py3-none-any.whl (46kB)\n",
            "\u001b[K     |████████████████████████████████| 51kB 7.2MB/s \n",
            "\u001b[?25hCollecting overrides==2.7.0\n",
            "  Downloading https://files.pythonhosted.org/packages/ac/98/2430afd204c48ac0a529d439d7e22df8fa603c668d03456b5947cb59ec36/overrides-2.7.0.tar.gz\n",
            "Collecting tqdm==4.41.1\n",
            "\u001b[?25l  Downloading https://files.pythonhosted.org/packages/72/c9/7fc20feac72e79032a7c8138fd0d395dc6d8812b5b9edf53c3afd0b31017/tqdm-4.41.1-py2.py3-none-any.whl (56kB)\n",
            "\u001b[K     |████████████████████████████████| 61kB 8.5MB/s \n",
            "\u001b[?25hCollecting nltk==3.4.5\n",
            "\u001b[?25l  Downloading https://files.pythonhosted.org/packages/f6/1d/d925cfb4f324ede997f6d47bea4d9babba51b49e87a767c170b77005889d/nltk-3.4.5.zip (1.5MB)\n",
            "\u001b[K     |████████████████████████████████| 1.5MB 51.2MB/s \n",
            "\u001b[?25hCollecting ruamel.yaml==0.15.100\n",
            "\u001b[?25l  Downloading https://files.pythonhosted.org/packages/e7/9f/83bb34eaf84032b0b54fcc4a6aff1858572d279d65a301c7ae875f523df5/ruamel.yaml-0.15.100-cp36-cp36m-manylinux1_x86_64.whl (656kB)\n",
            "\u001b[K     |████████████████████████████████| 665kB 52.7MB/s \n",
            "\u001b[?25hCollecting requests==2.22.0\n",
            "\u001b[?25l  Downloading https://files.pythonhosted.org/packages/51/bd/23c926cd341ea6b7dd0b2a00aba99ae0f828be89d72b2190f27c11d4b7fb/requests-2.22.0-py2.py3-none-any.whl (57kB)\n",
            "\u001b[K     |████████████████████████████████| 61kB 8.0MB/s \n",
            "\u001b[?25hRequirement already satisfied: joblib>=0.11 in /usr/local/lib/python3.6/dist-packages (from scikit-learn==0.21.2->deeppavlov) (0.14.1)\n",
            "Requirement already satisfied: click==7.* in /usr/local/lib/python3.6/dist-packages (from uvicorn==0.11.1->deeppavlov) (7.1.2)\n",
            "Collecting websockets==8.*\n",
            "\u001b[?25l  Downloading https://files.pythonhosted.org/packages/bb/d9/856af84843912e2853b1b6e898ac8b802989fcf9ecf8e8445a1da263bf3b/websockets-8.1-cp36-cp36m-manylinux2010_x86_64.whl (78kB)\n",
            "\u001b[K     |████████████████████████████████| 81kB 11.1MB/s \n",
            "\u001b[?25hCollecting h11<0.10,>=0.8\n",
            "\u001b[?25l  Downloading https://files.pythonhosted.org/packages/5a/fd/3dad730b0f95e78aeeb742f96fa7bbecbdd56a58e405d3da440d5bfb90c6/h11-0.9.0-py2.py3-none-any.whl (53kB)\n",
            "\u001b[K     |████████████████████████████████| 61kB 8.1MB/s \n",
            "\u001b[?25hCollecting uvloop>=0.14.0; sys_platform != \"win32\" and sys_platform != \"cygwin\" and platform_python_implementation != \"pypy\"\n",
            "\u001b[?25l  Downloading https://files.pythonhosted.org/packages/41/48/586225bbb02d3bdca475b17e4be5ce5b3f09da2d6979f359916c1592a687/uvloop-0.14.0-cp36-cp36m-manylinux2010_x86_64.whl (3.9MB)\n",
            "\u001b[K     |████████████████████████████████| 3.9MB 53.2MB/s \n",
            "\u001b[?25hCollecting httptools==0.0.13; sys_platform != \"win32\" and sys_platform != \"cygwin\" and platform_python_implementation != \"pypy\"\n",
            "\u001b[?25l  Downloading https://files.pythonhosted.org/packages/1b/03/215969db11abe8741e9c266a4cbe803a372bd86dd35fa0084c4df6d4bd00/httptools-0.0.13.tar.gz (104kB)\n",
            "\u001b[K     |████████████████████████████████| 112kB 57.9MB/s \n",
            "\u001b[?25hRequirement already satisfied: dataclasses>=0.6; python_version < \"3.7\" in /usr/local/lib/python3.6/dist-packages (from pydantic==1.3->deeppavlov) (0.7)\n",
            "Requirement already satisfied: pytz>=2017.2 in /usr/local/lib/python3.6/dist-packages (from pandas==0.25.3->deeppavlov) (2018.9)\n",
            "Requirement already satisfied: python-dateutil>=2.6.1 in /usr/local/lib/python3.6/dist-packages (from pandas==0.25.3->deeppavlov) (2.8.1)\n",
            "Requirement already satisfied: six>=1.5.2 in /usr/local/lib/python3.6/dist-packages (from pyopenssl==19.1.0->deeppavlov) (1.12.0)\n",
            "Collecting cryptography>=2.8\n",
            "\u001b[?25l  Downloading https://files.pythonhosted.org/packages/3c/04/686efee2dcdd25aecf357992e7d9362f443eb182ecd623f882bc9f7a6bba/cryptography-2.9.2-cp35-abi3-manylinux2010_x86_64.whl (2.7MB)\n",
            "\u001b[K     |████████████████████████████████| 2.7MB 47.9MB/s \n",
            "\u001b[?25hCollecting starlette<=0.12.9,>=0.12.9\n",
            "\u001b[?25l  Downloading https://files.pythonhosted.org/packages/67/95/2220fe5bf287e693a6430d8ee36c681b0157035b7249ec08f8fb36319d16/starlette-0.12.9.tar.gz (46kB)\n",
            "\u001b[K     |████████████████████████████████| 51kB 6.1MB/s \n",
            "\u001b[?25hCollecting aiormq<4,>=3.2.0\n",
            "  Downloading https://files.pythonhosted.org/packages/bc/f8/77a1694064c677afaaae111e28e2b32dd70c5f9dce3836bad0df20f27201/aiormq-3.2.1-py3-none-any.whl\n",
            "Collecting yarl\n",
            "\u001b[?25l  Downloading https://files.pythonhosted.org/packages/95/8f/0209fc5d975f839344c33c822ff2f7ef80f6b1e984673a5a68f960bfa583/yarl-1.4.2-cp36-cp36m-manylinux1_x86_64.whl (252kB)\n",
            "\u001b[K     |████████████████████████████████| 256kB 54.8MB/s \n",
            "\u001b[?25hCollecting pymorphy2-dicts<3.0,>=2.4\n",
            "\u001b[?25l  Downloading https://files.pythonhosted.org/packages/02/51/2465fd4f72328ab50877b54777764d928da8cb15b74e2680fc1bd8cb3173/pymorphy2_dicts-2.4.393442.3710985-py2.py3-none-any.whl (7.1MB)\n",
            "\u001b[K     |████████████████████████████████| 7.1MB 24.2MB/s \n",
            "\u001b[?25hRequirement already satisfied: docopt>=0.6 in /usr/local/lib/python3.6/dist-packages (from pymorphy2==0.8->deeppavlov) (0.6.2)\n",
            "Collecting dawg-python>=0.7\n",
            "  Downloading https://files.pythonhosted.org/packages/6a/84/ff1ce2071d4c650ec85745766c0047ccc3b5036f1d03559fd46bb38b5eeb/DAWG_Python-0.7.2-py2.py3-none-any.whl\n",
            "Collecting idna<2.9,>=2.5\n",
            "\u001b[?25l  Downloading https://files.pythonhosted.org/packages/14/2c/cd551d81dbe15200be1cf41cd03869a46fe7226e7450af7a6545bfc474c9/idna-2.8-py2.py3-none-any.whl (58kB)\n",
            "\u001b[K     |████████████████████████████████| 61kB 8.5MB/s \n",
            "\u001b[?25hRequirement already satisfied: chardet<3.1.0,>=3.0.2 in /usr/local/lib/python3.6/dist-packages (from requests==2.22.0->deeppavlov) (3.0.4)\n",
            "Requirement already satisfied: certifi>=2017.4.17 in /usr/local/lib/python3.6/dist-packages (from requests==2.22.0->deeppavlov) (2020.4.5.1)\n",
            "Requirement already satisfied: urllib3!=1.25.0,!=1.25.1,<1.26,>=1.21.1 in /usr/local/lib/python3.6/dist-packages (from requests==2.22.0->deeppavlov) (1.24.3)\n",
            "Requirement already satisfied: cffi!=1.11.3,>=1.8 in /usr/local/lib/python3.6/dist-packages (from cryptography>=2.8->pyopenssl==19.1.0->deeppavlov) (1.14.0)\n",
            "Collecting pamqp==2.3.0\n",
            "  Downloading https://files.pythonhosted.org/packages/eb/56/afa06143361e640c9159d828dadc95fc9195c52c95b4a97d136617b0166d/pamqp-2.3.0-py2.py3-none-any.whl\n",
            "Collecting multidict>=4.0\n",
            "\u001b[?25l  Downloading https://files.pythonhosted.org/packages/30/2e/3ab2f1fb72571f75013db323a3799d505d99f3bc203513604f1ffb9b7858/multidict-4.7.5-cp36-cp36m-manylinux1_x86_64.whl (148kB)\n",
            "\u001b[K     |████████████████████████████████| 153kB 56.0MB/s \n",
            "\u001b[?25hRequirement already satisfied: pycparser in /usr/local/lib/python3.6/dist-packages (from cffi!=1.11.3,>=1.8->cryptography>=2.8->pyopenssl==19.1.0->deeppavlov) (2.20)\n",
            "Building wheels for collected packages: pytelegrambotapi, overrides, nltk, httptools, starlette\n",
            "  Building wheel for pytelegrambotapi (setup.py) ... \u001b[?25l\u001b[?25hdone\n",
            "  Created wheel for pytelegrambotapi: filename=pyTelegramBotAPI-3.6.7-cp36-none-any.whl size=47178 sha256=5e9ff115cac1412375ec64b04ad31c6d2e23dd52a33a2a99bc487a3ff42a8f00\n",
            "  Stored in directory: /root/.cache/pip/wheels/23/40/18/8a34153f95ef0dc19e3954898e5a5079244b76a8afdd7d0ec5\n",
            "  Building wheel for overrides (setup.py) ... \u001b[?25l\u001b[?25hdone\n",
            "  Created wheel for overrides: filename=overrides-2.7.0-cp36-none-any.whl size=5600 sha256=e3dabfc9ad6e7074e636d2dc8be2b563d8702b52953bb048096ef21a1ba54eac\n",
            "  Stored in directory: /root/.cache/pip/wheels/8c/7c/ef/80508418b67d87371c5b3de49e03eb22ee7c1d19affb5099f8\n",
            "  Building wheel for nltk (setup.py) ... \u001b[?25l\u001b[?25hdone\n",
            "  Created wheel for nltk: filename=nltk-3.4.5-cp36-none-any.whl size=1449906 sha256=b242b3a9726e3c05d37960b77ff296c7ff18975935e9d5491b8c7f2d08236b45\n",
            "  Stored in directory: /root/.cache/pip/wheels/96/86/f6/68ab24c23f207c0077381a5e3904b2815136b879538a24b483\n",
            "  Building wheel for httptools (setup.py) ... \u001b[?25l\u001b[?25hdone\n",
            "  Created wheel for httptools: filename=httptools-0.0.13-cp36-cp36m-linux_x86_64.whl size=212528 sha256=97795970eda6563710b08ae8cbb819101a445cb3f46de63c7618dc557ebbde17\n",
            "  Stored in directory: /root/.cache/pip/wheels/e8/3e/2e/013f99b42efc25cf3589730cf380738e46b1e5edaf2f78d525\n",
            "  Building wheel for starlette (setup.py) ... \u001b[?25l\u001b[?25hdone\n",
            "  Created wheel for starlette: filename=starlette-0.12.9-cp36-none-any.whl size=57245 sha256=3e65b5351a8f98ee1de8a8d6f3aea3d3412022e2a5dd1d7aeb3b516bffc2a3e4\n",
            "  Stored in directory: /root/.cache/pip/wheels/1c/51/5b/3828d52e185cafad941c4291b6f70894d0794be28c70addae5\n",
            "Successfully built pytelegrambotapi overrides nltk httptools starlette\n",
            "\u001b[31mERROR: tensorflow-probability 0.10.0rc0 has requirement gast>=0.3.2, but you'll have gast 0.2.2 which is incompatible.\u001b[0m\n",
            "\u001b[31mERROR: google-colab 1.0.0 has requirement pandas~=1.0.0; python_version >= \"3.0\", but you'll have pandas 0.25.3 which is incompatible.\u001b[0m\n",
            "\u001b[31mERROR: google-colab 1.0.0 has requirement requests~=2.23.0, but you'll have requests 2.22.0 which is incompatible.\u001b[0m\n",
            "\u001b[31mERROR: datascience 0.10.6 has requirement folium==0.2.1, but you'll have folium 0.8.3 which is incompatible.\u001b[0m\n",
            "\u001b[31mERROR: albumentations 0.1.12 has requirement imgaug<0.2.7,>=0.2.5, but you'll have imgaug 0.2.9 which is incompatible.\u001b[0m\n",
            "Installing collected packages: pymorphy2-dicts-ru, Cython, numpy, scikit-learn, websockets, h11, uvloop, httptools, uvicorn, fuzzywuzzy, pydantic, cryptography, pyopenssl, idna, requests, pytelegrambotapi, starlette, fastapi, rusenttokenize, pamqp, multidict, yarl, aiormq, aio-pika, pymorphy2-dicts, dawg-python, pymorphy2, overrides, tqdm, nltk, ruamel.yaml, deeppavlov\n",
            "  Found existing installation: Cython 0.29.17\n",
            "    Uninstalling Cython-0.29.17:\n",
            "      Successfully uninstalled Cython-0.29.17\n",
            "  Found existing installation: numpy 1.18.3\n",
            "    Uninstalling numpy-1.18.3:\n",
            "      Successfully uninstalled numpy-1.18.3\n",
            "  Found existing installation: scikit-learn 0.22.2.post1\n",
            "    Uninstalling scikit-learn-0.22.2.post1:\n",
            "      Successfully uninstalled scikit-learn-0.22.2.post1\n",
            "  Found existing installation: idna 2.9\n",
            "    Uninstalling idna-2.9:\n",
            "      Successfully uninstalled idna-2.9\n",
            "  Found existing installation: requests 2.23.0\n",
            "    Uninstalling requests-2.23.0:\n",
            "      Successfully uninstalled requests-2.23.0\n",
            "  Found existing installation: tqdm 4.38.0\n",
            "    Uninstalling tqdm-4.38.0:\n",
            "      Successfully uninstalled tqdm-4.38.0\n",
            "  Found existing installation: nltk 3.2.5\n",
            "    Uninstalling nltk-3.2.5:\n",
            "      Successfully uninstalled nltk-3.2.5\n",
            "Successfully installed Cython-0.29.14 aio-pika-6.4.1 aiormq-3.2.1 cryptography-2.9.2 dawg-python-0.7.2 deeppavlov-0.9.1 fastapi-0.47.1 fuzzywuzzy-0.17.0 h11-0.9.0 httptools-0.0.13 idna-2.8 multidict-4.7.5 nltk-3.4.5 numpy-1.18.0 overrides-2.7.0 pamqp-2.3.0 pydantic-1.3 pymorphy2-0.8 pymorphy2-dicts-2.4.393442.3710985 pymorphy2-dicts-ru-2.4.404381.4453942 pyopenssl-19.1.0 pytelegrambotapi-3.6.7 requests-2.22.0 ruamel.yaml-0.15.100 rusenttokenize-0.0.5 scikit-learn-0.21.2 starlette-0.12.9 tqdm-4.41.1 uvicorn-0.11.1 uvloop-0.14.0 websockets-8.1 yarl-1.4.2\n"
          ],
          "name": "stdout"
        },
        {
          "output_type": "display_data",
          "data": {
            "application/vnd.colab-display-data+json": {
              "pip_warning": {
                "packages": [
                  "idna",
                  "nltk",
                  "numpy",
                  "requests",
                  "sklearn",
                  "tqdm"
                ]
              }
            }
          },
          "metadata": {
            "tags": []
          }
        }
      ]
    },
    {
      "cell_type": "code",
      "metadata": {
        "id": "cs_Yadv8mUXP",
        "colab_type": "code",
        "outputId": "283f7fb2-ff59-48f2-9944-6e18351177df",
        "colab": {
          "base_uri": "https://localhost:8080/",
          "height": 35
        }
      },
      "source": [
        "pd.__version__"
      ],
      "execution_count": 33,
      "outputs": [
        {
          "output_type": "execute_result",
          "data": {
            "text/plain": [
              "'0.25.3'"
            ]
          },
          "metadata": {
            "tags": []
          },
          "execution_count": 33
        }
      ]
    },
    {
      "cell_type": "code",
      "metadata": {
        "id": "cJkSmxU-XkKn",
        "colab_type": "code",
        "colab": {
          "base_uri": "https://localhost:8080/",
          "height": 35
        },
        "outputId": "54e971d1-e3ca-4aa3-e88c-96f8ba4d213e"
      },
      "source": [
        "import tensorflow\n",
        "tensorflow.__version__"
      ],
      "execution_count": 36,
      "outputs": [
        {
          "output_type": "execute_result",
          "data": {
            "text/plain": [
              "'1.15.2'"
            ]
          },
          "metadata": {
            "tags": []
          },
          "execution_count": 36
        }
      ]
    },
    {
      "cell_type": "code",
      "metadata": {
        "id": "MtnNfVDdioWz",
        "colab_type": "code",
        "colab": {}
      },
      "source": [
        "from deeppavlov import build_model, configs\n",
        "import torch"
      ],
      "execution_count": 0,
      "outputs": []
    },
    {
      "cell_type": "code",
      "metadata": {
        "id": "nri84LiGy571",
        "colab_type": "code",
        "outputId": "f9119c62-e58e-4ee0-bf03-41b0607ee71b",
        "colab": {
          "base_uri": "https://localhost:8080/",
          "height": 659
        }
      },
      "source": [
        "!python -m deeppavlov install squad_bert"
      ],
      "execution_count": 38,
      "outputs": [
        {
          "output_type": "stream",
          "text": [
            "2020-05-03 07:10:48.769 INFO in 'deeppavlov.core.common.file'['file'] at line 32: Interpreting 'squad_bert' as '/usr/local/lib/python3.6/dist-packages/deeppavlov/configs/squad/squad_bert.json'\n",
            "Requirement already satisfied: tensorflow==1.15.2 in /usr/local/lib/python3.6/dist-packages (1.15.2)\n",
            "Requirement already satisfied: tensorboard<1.16.0,>=1.15.0 in /usr/local/lib/python3.6/dist-packages (from tensorflow==1.15.2) (1.15.0)\n",
            "Requirement already satisfied: wrapt>=1.11.1 in /usr/local/lib/python3.6/dist-packages (from tensorflow==1.15.2) (1.12.1)\n",
            "Requirement already satisfied: astor>=0.6.0 in /usr/local/lib/python3.6/dist-packages (from tensorflow==1.15.2) (0.8.1)\n",
            "Requirement already satisfied: absl-py>=0.7.0 in /usr/local/lib/python3.6/dist-packages (from tensorflow==1.15.2) (0.9.0)\n",
            "Requirement already satisfied: termcolor>=1.1.0 in /usr/local/lib/python3.6/dist-packages (from tensorflow==1.15.2) (1.1.0)\n",
            "Requirement already satisfied: six>=1.10.0 in /usr/local/lib/python3.6/dist-packages (from tensorflow==1.15.2) (1.12.0)\n",
            "Requirement already satisfied: keras-applications>=1.0.8 in /usr/local/lib/python3.6/dist-packages (from tensorflow==1.15.2) (1.0.8)\n",
            "Requirement already satisfied: grpcio>=1.8.6 in /usr/local/lib/python3.6/dist-packages (from tensorflow==1.15.2) (1.28.1)\n",
            "Requirement already satisfied: numpy<2.0,>=1.16.0 in /usr/local/lib/python3.6/dist-packages (from tensorflow==1.15.2) (1.18.0)\n",
            "Requirement already satisfied: opt-einsum>=2.3.2 in /usr/local/lib/python3.6/dist-packages (from tensorflow==1.15.2) (3.2.1)\n",
            "Requirement already satisfied: protobuf>=3.6.1 in /usr/local/lib/python3.6/dist-packages (from tensorflow==1.15.2) (3.10.0)\n",
            "Requirement already satisfied: keras-preprocessing>=1.0.5 in /usr/local/lib/python3.6/dist-packages (from tensorflow==1.15.2) (1.1.0)\n",
            "Requirement already satisfied: wheel>=0.26; python_version >= \"3\" in /usr/local/lib/python3.6/dist-packages (from tensorflow==1.15.2) (0.34.2)\n",
            "Requirement already satisfied: gast==0.2.2 in /usr/local/lib/python3.6/dist-packages (from tensorflow==1.15.2) (0.2.2)\n",
            "Requirement already satisfied: google-pasta>=0.1.6 in /usr/local/lib/python3.6/dist-packages (from tensorflow==1.15.2) (0.2.0)\n",
            "Requirement already satisfied: tensorflow-estimator==1.15.1 in /usr/local/lib/python3.6/dist-packages (from tensorflow==1.15.2) (1.15.1)\n",
            "Requirement already satisfied: setuptools>=41.0.0 in /usr/local/lib/python3.6/dist-packages (from tensorboard<1.16.0,>=1.15.0->tensorflow==1.15.2) (46.1.3)\n",
            "Requirement already satisfied: werkzeug>=0.11.15 in /usr/local/lib/python3.6/dist-packages (from tensorboard<1.16.0,>=1.15.0->tensorflow==1.15.2) (1.0.1)\n",
            "Requirement already satisfied: markdown>=2.6.8 in /usr/local/lib/python3.6/dist-packages (from tensorboard<1.16.0,>=1.15.0->tensorflow==1.15.2) (3.2.1)\n",
            "Requirement already satisfied: h5py in /usr/local/lib/python3.6/dist-packages (from keras-applications>=1.0.8->tensorflow==1.15.2) (2.10.0)\n",
            "Collecting git+https://github.com/deepmipt/bert.git@feat/multi_gpu\n",
            "  Cloning https://github.com/deepmipt/bert.git (to revision feat/multi_gpu) to /tmp/pip-req-build-2ehcjhn7\n",
            "  Running command git clone -q https://github.com/deepmipt/bert.git /tmp/pip-req-build-2ehcjhn7\n",
            "  Running command git checkout -b feat/multi_gpu --track origin/feat/multi_gpu\n",
            "  Switched to a new branch 'feat/multi_gpu'\n",
            "  Branch 'feat/multi_gpu' set up to track remote branch 'feat/multi_gpu' from 'origin'.\n",
            "Building wheels for collected packages: bert-dp\n",
            "  Building wheel for bert-dp (setup.py) ... \u001b[?25l\u001b[?25hdone\n",
            "  Created wheel for bert-dp: filename=bert_dp-1.0-cp36-none-any.whl size=23581 sha256=ae83e20378cb186adce6f865eee9804f501058657dc9171d70f5a181aac94dc4\n",
            "  Stored in directory: /tmp/pip-ephem-wheel-cache-366pi9bb/wheels/1e/41/94/886107eaf932532594886fd8bfc9cb9d4db632e94add49d326\n",
            "Successfully built bert-dp\n",
            "Installing collected packages: bert-dp\n",
            "Successfully installed bert-dp-1.0\n"
          ],
          "name": "stdout"
        }
      ]
    },
    {
      "cell_type": "markdown",
      "metadata": {
        "id": "LKNIHy4gmqOh",
        "colab_type": "text"
      },
      "source": [
        "## Using pre trained Deep pavlov model trained on SQuAD"
      ]
    },
    {
      "cell_type": "code",
      "metadata": {
        "id": "QfEarmWbxjqx",
        "colab_type": "code",
        "outputId": "23cf6562-14c0-4c89-aa0d-92038280b8b3",
        "colab": {
          "base_uri": "https://localhost:8080/",
          "height": 1000
        }
      },
      "source": [
        "model = build_model(configs.squad.squad_bert, download = True)"
      ],
      "execution_count": 39,
      "outputs": [
        {
          "output_type": "stream",
          "text": [
            "2020-05-03 07:11:02.207 INFO in 'deeppavlov.core.data.utils'['utils'] at line 80: Downloading from http://files.deeppavlov.ai/deeppavlov_data/bert/cased_L-12_H-768_A-12.zip to /root/.deeppavlov/downloads/cased_L-12_H-768_A-12.zip\n",
            "100%|██████████| 404M/404M [01:02<00:00, 6.44MB/s]\n",
            "2020-05-03 07:12:04.975 INFO in 'deeppavlov.core.data.utils'['utils'] at line 242: Extracting /root/.deeppavlov/downloads/cased_L-12_H-768_A-12.zip archive into /root/.deeppavlov/downloads/bert_models\n",
            "2020-05-03 07:12:09.524 INFO in 'deeppavlov.core.data.utils'['utils'] at line 80: Downloading from http://files.deeppavlov.ai/deeppavlov_data/squad_bert.tar.gz to /root/.deeppavlov/squad_bert.tar.gz\n",
            "100%|██████████| 402M/402M [01:11<00:00, 5.61MB/s]\n",
            "2020-05-03 07:13:21.228 INFO in 'deeppavlov.core.data.utils'['utils'] at line 242: Extracting /root/.deeppavlov/squad_bert.tar.gz archive into /root/.deeppavlov/models\n",
            "[nltk_data] Downloading package punkt to /root/nltk_data...\n",
            "[nltk_data]   Unzipping tokenizers/punkt.zip.\n"
          ],
          "name": "stderr"
        },
        {
          "output_type": "stream",
          "text": [
            "WARNING:tensorflow:From /usr/local/lib/python3.6/dist-packages/bert_dp/tokenization.py:125: The name tf.gfile.GFile is deprecated. Please use tf.io.gfile.GFile instead.\n",
            "\n"
          ],
          "name": "stdout"
        },
        {
          "output_type": "stream",
          "text": [
            "[nltk_data] Downloading package stopwords to /root/nltk_data...\n",
            "[nltk_data]   Unzipping corpora/stopwords.zip.\n",
            "[nltk_data] Downloading package perluniprops to /root/nltk_data...\n",
            "[nltk_data]   Unzipping misc/perluniprops.zip.\n",
            "[nltk_data] Downloading package nonbreaking_prefixes to\n",
            "[nltk_data]     /root/nltk_data...\n",
            "[nltk_data]   Unzipping corpora/nonbreaking_prefixes.zip.\n"
          ],
          "name": "stderr"
        },
        {
          "output_type": "stream",
          "text": [
            "WARNING:tensorflow:From /usr/local/lib/python3.6/dist-packages/deeppavlov/core/models/tf_model.py:37: The name tf.Session is deprecated. Please use tf.compat.v1.Session instead.\n",
            "\n",
            "WARNING:tensorflow:From /usr/local/lib/python3.6/dist-packages/deeppavlov/core/models/tf_model.py:222: The name tf.placeholder is deprecated. Please use tf.compat.v1.placeholder instead.\n",
            "\n",
            "WARNING:tensorflow:From /usr/local/lib/python3.6/dist-packages/deeppavlov/core/models/tf_model.py:222: The name tf.train.Optimizer is deprecated. Please use tf.compat.v1.train.Optimizer instead.\n",
            "\n",
            "WARNING:tensorflow:From /usr/local/lib/python3.6/dist-packages/deeppavlov/core/models/tf_model.py:193: The name tf.train.AdamOptimizer is deprecated. Please use tf.compat.v1.train.AdamOptimizer instead.\n",
            "\n",
            "WARNING:tensorflow:From /usr/local/lib/python3.6/dist-packages/deeppavlov/models/bert/bert_squad.py:81: The name tf.ConfigProto is deprecated. Please use tf.compat.v1.ConfigProto instead.\n",
            "\n",
            "WARNING:tensorflow:From /usr/local/lib/python3.6/dist-packages/deeppavlov/models/bert/bert_squad.py:178: The name tf.placeholder_with_default is deprecated. Please use tf.compat.v1.placeholder_with_default instead.\n",
            "\n",
            "WARNING:tensorflow:From /usr/local/lib/python3.6/dist-packages/bert_dp/modeling.py:178: The name tf.variable_scope is deprecated. Please use tf.compat.v1.variable_scope instead.\n",
            "\n",
            "WARNING:tensorflow:From /usr/local/lib/python3.6/dist-packages/bert_dp/modeling.py:418: The name tf.get_variable is deprecated. Please use tf.compat.v1.get_variable instead.\n",
            "\n",
            "WARNING:tensorflow:From /usr/local/lib/python3.6/dist-packages/bert_dp/modeling.py:499: The name tf.assert_less_equal is deprecated. Please use tf.compat.v1.assert_less_equal instead.\n",
            "\n",
            "WARNING:tensorflow:\n",
            "The TensorFlow contrib module will not be included in TensorFlow 2.0.\n",
            "For more information, please see:\n",
            "  * https://github.com/tensorflow/community/blob/master/rfcs/20180907-contrib-sunset.md\n",
            "  * https://github.com/tensorflow/addons\n",
            "  * https://github.com/tensorflow/io (for I/O related ops)\n",
            "If you depend on functionality not listed there, please file an issue.\n",
            "\n",
            "WARNING:tensorflow:From /usr/local/lib/python3.6/dist-packages/bert_dp/modeling.py:366: calling dropout (from tensorflow.python.ops.nn_ops) with keep_prob is deprecated and will be removed in a future version.\n",
            "Instructions for updating:\n",
            "Please use `rate` instead of `keep_prob`. Rate should be set to `rate = 1 - keep_prob`.\n",
            "WARNING:tensorflow:From /usr/local/lib/python3.6/dist-packages/bert_dp/modeling.py:680: dense (from tensorflow.python.layers.core) is deprecated and will be removed in a future version.\n",
            "Instructions for updating:\n",
            "Use keras.layers.Dense instead.\n",
            "WARNING:tensorflow:From /usr/local/lib/python3.6/dist-packages/tensorflow_core/python/layers/core.py:187: Layer.apply (from tensorflow.python.keras.engine.base_layer) is deprecated and will be removed in a future version.\n",
            "Instructions for updating:\n",
            "Please use `layer.__call__` method instead.\n",
            "WARNING:tensorflow:From /usr/local/lib/python3.6/dist-packages/bert_dp/modeling.py:283: The name tf.erf is deprecated. Please use tf.math.erf instead.\n",
            "\n",
            "WARNING:tensorflow:From /usr/local/lib/python3.6/dist-packages/deeppavlov/models/bert/bert_squad.py:154: The name tf.matrix_band_part is deprecated. Please use tf.linalg.band_part instead.\n",
            "\n",
            "WARNING:tensorflow:From /usr/local/lib/python3.6/dist-packages/deeppavlov/models/bert/bert_squad.py:166: softmax_cross_entropy_with_logits (from tensorflow.python.ops.nn_ops) is deprecated and will be removed in a future version.\n",
            "Instructions for updating:\n",
            "\n",
            "Future major versions of TensorFlow will allow gradients to flow\n",
            "into the labels input on backprop by default.\n",
            "\n",
            "See `tf.nn.softmax_cross_entropy_with_logits_v2`.\n",
            "\n",
            "WARNING:tensorflow:From /usr/local/lib/python3.6/dist-packages/deeppavlov/core/models/tf_model.py:234: The name tf.train.AdadeltaOptimizer is deprecated. Please use tf.compat.v1.train.AdadeltaOptimizer instead.\n",
            "\n",
            "WARNING:tensorflow:From /usr/local/lib/python3.6/dist-packages/deeppavlov/core/models/tf_model.py:127: The name tf.get_collection is deprecated. Please use tf.compat.v1.get_collection instead.\n",
            "\n",
            "WARNING:tensorflow:From /usr/local/lib/python3.6/dist-packages/deeppavlov/core/models/tf_model.py:127: The name tf.GraphKeys is deprecated. Please use tf.compat.v1.GraphKeys instead.\n",
            "\n",
            "WARNING:tensorflow:From /usr/local/lib/python3.6/dist-packages/deeppavlov/models/bert/bert_squad.py:89: The name tf.global_variables_initializer is deprecated. Please use tf.compat.v1.global_variables_initializer instead.\n",
            "\n",
            "WARNING:tensorflow:From /usr/local/lib/python3.6/dist-packages/deeppavlov/models/bert/bert_squad.py:94: checkpoint_exists (from tensorflow.python.training.checkpoint_management) is deprecated and will be removed in a future version.\n",
            "Instructions for updating:\n",
            "Use standard file APIs to check for files with this prefix.\n"
          ],
          "name": "stdout"
        },
        {
          "output_type": "stream",
          "text": [
            "2020-05-03 07:13:42.311 INFO in 'deeppavlov.core.models.tf_model'['tf_model'] at line 51: [loading model from /root/.deeppavlov/models/squad_bert/model]\n"
          ],
          "name": "stderr"
        },
        {
          "output_type": "stream",
          "text": [
            "WARNING:tensorflow:From /usr/local/lib/python3.6/dist-packages/deeppavlov/core/models/tf_model.py:54: The name tf.train.Saver is deprecated. Please use tf.compat.v1.train.Saver instead.\n",
            "\n",
            "INFO:tensorflow:Restoring parameters from /root/.deeppavlov/models/squad_bert/model\n"
          ],
          "name": "stdout"
        }
      ]
    },
    {
      "cell_type": "code",
      "metadata": {
        "id": "a_1S1oqFtgYr",
        "colab_type": "code",
        "outputId": "62179d3f-8e04-4416-8b77-55ebe5aff649",
        "colab": {
          "base_uri": "https://localhost:8080/",
          "height": 35
        }
      },
      "source": [
        "import tensorflow\n",
        "tensorflow.__version__"
      ],
      "execution_count": 40,
      "outputs": [
        {
          "output_type": "execute_result",
          "data": {
            "text/plain": [
              "'1.15.2'"
            ]
          },
          "metadata": {
            "tags": []
          },
          "execution_count": 40
        }
      ]
    },
    {
      "cell_type": "code",
      "metadata": {
        "id": "5E9XaHbltzLb",
        "colab_type": "code",
        "outputId": "d362832a-0198-4c7c-8372-dc6fdc8dcf86",
        "colab": {
          "base_uri": "https://localhost:8080/",
          "height": 35
        }
      },
      "source": [
        "pd.__version__"
      ],
      "execution_count": 41,
      "outputs": [
        {
          "output_type": "execute_result",
          "data": {
            "text/plain": [
              "'0.25.3'"
            ]
          },
          "metadata": {
            "tags": []
          },
          "execution_count": 41
        }
      ]
    },
    {
      "cell_type": "code",
      "metadata": {
        "id": "5gRk0V7l7WP8",
        "colab_type": "code",
        "colab": {}
      },
      "source": [
        "#!pip uninstall tensorflow -y\n",
        "#!pip install tensorflow==1.15.2"
      ],
      "execution_count": 0,
      "outputs": []
    },
    {
      "cell_type": "markdown",
      "metadata": {
        "id": "pS3C7_MYm7Ta",
        "colab_type": "text"
      },
      "source": [
        "## Text prerocessing Utility methods"
      ]
    },
    {
      "cell_type": "code",
      "metadata": {
        "id": "6xXT6YK_YqeU",
        "colab_type": "code",
        "colab": {}
      },
      "source": [
        "def remove_articles(text):\n",
        "    return re.sub(r'\\b(a|an|the)\\b', ' ', text)\n",
        "\n",
        "def white_space_fix(text):\n",
        "    return ' '.join(text.split())\n",
        "\n",
        "def remove_punc(text):\n",
        "    exclude = set(string.punctuation)\n",
        "    return ''.join(ch for ch in text if ch not in exclude)\n",
        "\n",
        "def lower(text):\n",
        "    return text.lower()\n",
        "\n",
        "def normalize_answer(s: str) -> str:\n",
        "    return white_space_fix(remove_articles(remove_punc(lower(s))))"
      ],
      "execution_count": 0,
      "outputs": []
    },
    {
      "cell_type": "markdown",
      "metadata": {
        "id": "_OdXD3zAnCMT",
        "colab_type": "text"
      },
      "source": [
        "## F1 and Exact Match (EM) calculation methods"
      ]
    },
    {
      "cell_type": "code",
      "metadata": {
        "id": "Fv1efFG5mtKk",
        "colab_type": "code",
        "colab": {}
      },
      "source": [
        "def exact_match_metric(iy_predicted_list: List[str], iground_truth: str):\n",
        "  y_predicted = [normalize_answer(y_pred) for y_pred in iy_predicted_list]\n",
        "  ground_truth =  normalize_answer( iground_truth )\n",
        "  res = [ele for ele in y_predicted if(ele == ground_truth)]\n",
        "  res = [i for i in res if i] \n",
        "  return (sum([(bool(res))]))"
      ],
      "execution_count": 0,
      "outputs": []
    },
    {
      "cell_type": "code",
      "metadata": {
        "id": "XfUrYs8asfsX",
        "colab_type": "code",
        "colab": {}
      },
      "source": [
        "def f1_score_metric(iy_predicted_list: List[str], iground_truth: str):\n",
        "  f1_total = 0.0\n",
        "  precisions = []\n",
        "  recalls = []\n",
        "  f1s = []\n",
        "  y_predicted = [normalize_answer(y_pred) for y_pred in iy_predicted_list]\n",
        "  ground_truth =  normalize_answer( iground_truth )\n",
        "  \n",
        "  for prediction in y_predicted:\n",
        "      prediction_tokens = prediction.split()\n",
        "      gt_tokens = ground_truth.split()\n",
        "      #print(prediction_tokens)\n",
        "      #print(gt_tokens)\n",
        "      if len(gt_tokens) == 0 or len(prediction_tokens) == 0:\n",
        "          precisions.append(float(gt_tokens == prediction_tokens))\n",
        "          recalls.append(float(gt_tokens == prediction_tokens))\n",
        "          f1s.append(float(gt_tokens == prediction_tokens))\n",
        "          continue\n",
        "      common = Counter(prediction_tokens) & Counter(gt_tokens)\n",
        "      num_same = sum(common.values())\n",
        "      #print(common, num_same)\n",
        "      if num_same == 0:\n",
        "          precisions.append(0.0)\n",
        "          recalls.append(0.0)\n",
        "          f1s.append(0.0)\n",
        "          continue\n",
        "      precision = 1.0 * num_same / len(prediction_tokens)\n",
        "      recall = 1.0 * num_same / len(gt_tokens)\n",
        "      f1 = (2 * precision * recall) / (precision + recall)\n",
        "      f1s.append(f1)\n",
        "      precisions.append(precision)\n",
        "      recalls.append(recall)\n",
        "\n",
        "  f1_total = max(f1s)    \n",
        "  return (max(precisions), max(recalls), max(f1s))"
      ],
      "execution_count": 0,
      "outputs": []
    },
    {
      "cell_type": "markdown",
      "metadata": {
        "id": "peeUgBgJnJDA",
        "colab_type": "text"
      },
      "source": [
        "## Key function to get the predicted Answer from the Model"
      ]
    },
    {
      "cell_type": "code",
      "metadata": {
        "id": "qNQ_gBTUNgj9",
        "colab_type": "code",
        "colab": {}
      },
      "source": [
        "def get_predicted_answer(iQues, iContext, imodel, \n",
        "                         itopN_pred_ans, iRemove_word_list, id):\n",
        "  \n",
        "  \"\"\"\n",
        "  Tokenize the context containing multiple paragraphs\n",
        "  Each para  - broken to sentence\n",
        "  \"\"\"\n",
        "  paras = []\n",
        "  words = []\n",
        "  predicted_ans = \"\"\n",
        "  y_predicted_lst = []\n",
        "  \n",
        "  count_sent= 0\n",
        "  for ConextDict in iContext[id:id+1]:\n",
        "    sublist = ConextDict[\"contexts\"]\n",
        "    for i, item in enumerate(sublist):\n",
        "      sent = (item[1]) #TreebankWordDetokenizer().detokenize(item[1])\n",
        "      if((len(sent.split()) >= 5) & (count_sent <= itopN_pred_ans) ):\n",
        "        #print(id, sent)\n",
        "        paras.append(sent)\n",
        "        count_sent = count_sent + 1\n",
        "      \n",
        "      \n",
        "  ##lets do the same for the question\n",
        "  ques_dict = iQues[id:id+1][0]\n",
        "  ques = (ques_dict['question'])\n",
        "\n",
        "  #get model prediction\n",
        "  predicted_ans_list = []\n",
        "  for para in paras:\n",
        "    predicted_ans = imodel([para], [ques])\n",
        "    predicted_ans_list.append(sum(predicted_ans, []))\n",
        "    #print(predicted_ans)  \n",
        "  \n",
        "  predicted_ans_list = sorted(predicted_ans_list, key = lambda x: x[2], \n",
        "                                reverse=True)\n",
        "  for i in range(count_sent-1):\n",
        "    word_list = lower(predicted_ans_list[i][0]).split()\n",
        "    predicted_ans_list[i][0] = (' '.join(\n",
        "        [i for i in word_list if i not in iRemove_word_list]))\n",
        "    y_predicted_lst.append(predicted_ans_list[i][0])\n",
        "  \n",
        "  \n",
        "  actual_ans = ques_dict['answer']\n",
        "  print (id, len(y_predicted_lst), y_predicted_lst, ',' ,normalize_answer( actual_ans ))\n",
        "\n",
        "  EM = exact_match_metric(y_predicted_lst, actual_ans)\n",
        "  precision, recall, f1 = f1_score_metric(y_predicted_lst, actual_ans)\n",
        "\n",
        "  return  y_predicted_lst, [normalize_answer(actual_ans), normalize_answer(ques), EM, precision, recall, f1]\n"
      ],
      "execution_count": 0,
      "outputs": []
    },
    {
      "cell_type": "markdown",
      "metadata": {
        "id": "AVKOsHggnPQ1",
        "colab_type": "text"
      },
      "source": [
        "# Run the model on Dev Data - only first 200 records due to RAM size and time limitation"
      ]
    },
    {
      "cell_type": "code",
      "metadata": {
        "id": "_HUxA4Tgxudw",
        "colab_type": "code",
        "outputId": "eef4abfa-051b-486d-c67f-f67fa8256527",
        "colab": {
          "base_uri": "https://localhost:8080/",
          "height": 72
        }
      },
      "source": [
        "deemed_outlier_index_dev = index_list_long_ques_dev +  index_list_long_ans_dev\n",
        "deemed_outlier_index_dev = list(set(deemed_outlier_index_dev)) #remove duplicates\n",
        "print(len(deemed_outlier_index_dev))\n",
        "print((deemed_outlier_index_dev))"
      ],
      "execution_count": 0,
      "outputs": [
        {
          "output_type": "stream",
          "text": [
            "157\n",
            "[1540, 2053, 519, 2569, 1548, 1549, 16, 528, 22, 2070, 1055, 2080, 33, 543, 556, 47, 2608, 563, 2611, 2101, 1589, 2618, 2107, 2619, 2113, 1090, 1091, 73, 2638, 80, 1622, 2139, 2146, 614, 1639, 618, 619, 1137, 1650, 1140, 1652, 2164, 1655, 120, 1662, 639, 643, 135, 652, 1677, 1678, 655, 1680, 1681, 663, 1687, 1690, 155, 1179, 1182, 1697, 2721, 2729, 1199, 1201, 2227, 2231, 1210, 1731, 1222, 198, 724, 725, 1237, 2264, 2776, 219, 220, 1755, 234, 2287, 2299, 1788, 1279, 1792, 257, 1798, 2311, 2825, 1294, 784, 2322, 2838, 1816, 2842, 797, 798, 1310, 1823, 2848, 800, 2342, 2344, 299, 1839, 1840, 2352, 821, 1341, 1343, 2375, 2887, 845, 343, 1368, 2903, 347, 1886, 1893, 2920, 360, 1390, 1904, 374, 1912, 1402, 890, 381, 897, 1936, 913, 1426, 2967, 2971, 1950, 930, 2988, 2477, 2989, 945, 1460, 2485, 2491, 967, 1484, 1485, 2001, 2523, 478, 2014, 2527, 995, 486, 1517, 1532, 1021, 1022]\n"
          ],
          "name": "stdout"
        }
      ]
    },
    {
      "cell_type": "code",
      "metadata": {
        "id": "BFRG8fjhzHv4",
        "colab_type": "code",
        "outputId": "85096e63-3956-48e2-a62d-eb012c5b3cd0",
        "colab": {
          "base_uri": "https://localhost:8080/",
          "height": 35
        }
      },
      "source": [
        "# ignore outliers\n",
        "devQtmp = [i for j, i in enumerate(devQ) if j not in deemed_outlier_index_dev]\n",
        "devSCtmp = [i for j, i in enumerate(devSC) if j not in deemed_outlier_index_dev]\n",
        "print (len(devQtmp), len (devSCtmp))"
      ],
      "execution_count": 0,
      "outputs": [
        {
          "output_type": "stream",
          "text": [
            "2843 2843\n"
          ],
          "name": "stdout"
        }
      ]
    },
    {
      "cell_type": "code",
      "metadata": {
        "id": "RU-taAfw218_",
        "colab_type": "code",
        "outputId": "dcde066e-e40d-455f-934b-ee816b50f181",
        "colab": {
          "base_uri": "https://localhost:8080/",
          "height": 159
        }
      },
      "source": [
        "devQtmp[:2]"
      ],
      "execution_count": 0,
      "outputs": [
        {
          "output_type": "execute_result",
          "data": {
            "text/plain": [
              "[{'answer': 'tetanus',\n",
              "  'question': 'Lockjaw is another name for which disease',\n",
              "  'tags': ['1tok', 'yes-answer-long', 'yes-answer-short'],\n",
              "  'uid': 's3q1674'},\n",
              " {'answer': 'leek',\n",
              "  'question': 'Which vegetable is a Welsh emblem ?',\n",
              "  'tags': ['1tok'],\n",
              "  'uid': 's3q18157'}]"
            ]
          },
          "metadata": {
            "tags": []
          },
          "execution_count": 42
        }
      ]
    },
    {
      "cell_type": "code",
      "metadata": {
        "id": "HQb8eeZjSH8L",
        "colab_type": "code",
        "outputId": "f82e36dd-4bfa-4259-de00-1a12a35c8890",
        "colab": {
          "base_uri": "https://localhost:8080/",
          "height": 1000
        }
      },
      "source": [
        "import time\n",
        "\n",
        "#using top 5 scored passages as per QUASAR dataset  \n",
        "itopN_pred_ans = 50\n",
        "#using only first 200 records due to RAM and runtime limitation\n",
        "n_records = 200\n",
        "\n",
        "#some special chars related to brackets are removed\n",
        "Remove_word_list = ['lrb-' , '-rrb', '-lrb-', '-lsb-', '-rrb-', '-rsb-']\n",
        "\n",
        "pred_ans_list_col_names = {}\n",
        "\n",
        "\"\"\"\n",
        "  build the dataframe to store the results\n",
        "  df_pred - storing predicted ans based on the itopN_pred_ans passages count\n",
        "  df_metrics - storing prediction metrics\n",
        "\"\"\"\n",
        "#initializing the dataframes\n",
        "for i in range(itopN_pred_ans):\n",
        "  pred_ans_list_col_names[('pred_ans_' + str(i))] = []\n",
        "\n",
        "df_pred= pd.DataFrame(pred_ans_list_col_names)\n",
        "df_metrics = pd.DataFrame({'actual_ans': [], 'actual_ques': [], 'EM': [], 'precision': [], 'recall': [], 'f1': []})\n",
        "\n",
        "\"\"\"\n",
        " Running prediction loop\n",
        "\"\"\"\n",
        "t1 = time.time() #time it\n",
        "\n",
        "count = 0\n",
        "for id in range(len(devQtmp)):\n",
        "  pred, metrics = get_predicted_answer(devQtmp, devSCtmp, model, itopN_pred_ans, Remove_word_list, id)\n",
        "  count = count + 1\n",
        "  if (count >= n_records):\n",
        "    break\n",
        "  \n",
        "  for i in  range(len(pred)):\n",
        "    pred_ans_list_col_names[('pred_ans_' + str(i))] = pred[i]\n",
        "\n",
        "  df_pred = df_pred.append(pred_ans_list_col_names, ignore_index=True)\n",
        "\n",
        "  df_metrics = df_metrics.append({'actual_ans': metrics[0], 'actual_ques': metrics[1], 'EM': metrics[2], \n",
        "                              'precision': metrics[3], 'recall': metrics[4], 'f1': metrics[5]}, ignore_index=True)\n",
        "\n",
        "t2 = time.time()\n",
        "print('Time for whole code to run: ', (t2-t1))"
      ],
      "execution_count": 0,
      "outputs": [
        {
          "output_type": "stream",
          "text": [
            "0 50 ['tetanus', 'tetanus', 'tetanus', 'tetanus', 'clostridium tetani', 'tetanus tetanus', 'masseter muscle spasm', 'liver cancer', 'tetanus -lrb', 'tetanus tetanus', 'tetanus', 'tetanus', 'tetanus lockjaw tetanus', 'pertussis', 'tetanus -lrb', 'tetanus', 'tetanus', 'tuberculosis', 'tetanus', 'cephalic tetanus', 'tetanus', 'influenza', 'papillomas', 'tetanus', 'pharyngeal diphtheria', 'tetanus', 'tetanus', 'fact tetanus', 'tetanus -lrb', 'muscle spasms', 'seizures', 'brain or nervous system disease', 'lrb', 'tetanus', 'infectious disease', 'vaccine', 'vaccine', 'clostridium tetani', 'jaw muscles', 'type of vaccine', 'the disease is sometimes called lockjaw', 'tetanus', \"legionnaires ' disease\", 'lockjaw', 'respiratory obstruction', 'stiff jaw', 'lockjaw', 'vaccine', 'infections', 'the disease gets its common name from .'] , tetanus\n",
            "1 50 ['daffodil', 'leek', 'leek', 'leek', 'leek', 'leek', 'leek', 'daffodil', 'leek', 'daffodils', 'leek -lrb', 'leek', 'leek', 'leek', 'triban', 'red dragon', 'thyroid gland', 'leek', 'porrum', 'beans', 'pungent vegetable', 'cadillac', 'red rose', 'pewter', 'dragon', 'boiled', 'lunch', 'seedlings', 'triskelion', 'myddfai', 'dragon', 'cymru', 'roman', 'rabbit', 'cymru', 'legs', 'green', 'flower', 'brew', 'winter vegetable', 'the vegetable', 'leeks', 'rabbit', 'brew', 'brew', 'it is the accepted emblem of king arthur , the certainly celtic', 'vegetable', 'concoction', 'the emblem as used by the obod is surrounded by three circles representing the three circles of creation', ''] , leek\n",
            "2 50 ['west side story', '2001 : a space odyssey', 'tender mercies', 'gate o', \"jan sv r k 's kolya\", 'crouching tiger , hidden dragon', 'american beauty', '1967', 'the rains came', 'the invisible man', 'revanche', 'the godfather', 'west side story', \"wyler 's 1959 ben-hur\", 'the virgin spring', 'life is beautiful', 'jim rygiel joe letteri ra', \"the assault in 1987 , antonia 's line\", 'the hustler -lrb', 'sayonara', 'the godfather', 'casanova di federico fellini', 'anatomy of a murder', 'it won the academy award for best animated short film in 1938', '1953', 'lead', 'lsb- 1 -rsb', 'special rules for the best foreign language film award', 'the `` greatest', 'frank sinatra', 'berlin international film festival', 'special rules for the best foreign language film award', 'it was nominated for best actor in a leading role', 'special rules for the best foreign language film award', 'best actress oscar winners appeared in a best picture', 'jackson and weta', \"20th century 's best picture\", 'best actor', 'special rules for the best foreign language film award', '1972', 'the category was called best special effects when it was created in 1939 .', 'jackson', '1963', '', '', 'best picture', 'the film they won the oscar for and the year as well .', 'best actor', '', 'dancing clothes , a bicycle without a rider , footprints appearing in the snow'] , guns of naverone\n",
            "3 50 ['sittin on the dock', '`` my girl', 'the dock of the bay', '`` tramp', 'respect the original', 'paying tribute to otis redding after 40 years', 'lovey dovey', \"sittin ' on the dock of the bay\", \"` sittin ' on the dock of the bay\", '` sweet soul music', 'plane', 'dock of the bay', \"i 've been loving you too long\", 'otis blue', 'plane crash into lake', '1 otis redding featu', \"his posthumous number one single '' s\", 'released posthumously', \"i 'm coming home 15 .\", '', 'the dock of the bay', \"it was redding 's first live album\", '', 'the dock of the bay', \"otis blue deluxe set coming april 22 rhino entertainment presents the collector 's edition release of otis re\", 'what does o', 'his tour airplane crashed into lake monon near madison , wi , on december 10 , 1967', 'release of his first single', 'monterey monterey 1967', 'what if', 'family coming to stax museum for public events', 'johnny jenkins who had a regional hit', 'otis reding arnold says : 2008 jul 07 13:57 otis redding cant find what', '', '', '', '', '1967', 'hendrix', '', 'he became the saint of soul', 'song', 'his untimely death in a plane crash in december 1967', 'hip-hop', '1967', 'the album featured music recorded but not released prior to his death in 1967', '1967', 'december 7 , 1967', '` upbeat', 'otis redding has left behind music that is immortal'] , sitting on dock of bay\n",
            "4 50 ['herod antipas', 'herod antipas', 'flavius josephus', 'herod antipas', 'herod', 'the forerunner', 'the king of the jews', 'herod', 'king herod', 'herod', 'pilate', 'the emperor', 'the sick king', 'herod', 'fisher', 'the high priest and sadducees', 'the king', 'the commanders', 'herod the great', 'rome', 'their commanders', 'herod', 'his own daughter -lrb', 'john crossan', 'the soldiers', 'pilate', 'josephus', 'josephus', 'his niece salome , the daughter of herodias and herod philip i', 'roman soldiers', 'mark', 'john crossan', 'john john -lrb', 'he was so despised that at his death he ordered the death of many prominent jews', 'salom', 'he', 'st. john the baptist imprisoned', 'he is famous as the ruler', 'herod', 'herod', 'execution of the plans of the vengeful woman', 'he ordered them to make them all sit down by companies', 'she is generally supposed to be the daughter', 'prostitute of babylon', 'markan', 'the messiah', 'john', 'matthew', 'herodian', ''] , king herod\n",
            "5 50 [\"fuzzy izzy 's\", 'who', 'shirley jones', 'keith partridge', 'keith partridge', 'romeo', 'danny partridge', 'bruce lee', 'uncle fester', 'danny partridge', 'quentin tarantino', 'shirley partridge', 'keith partridge', 'keith partridge', 'keith partridge', 'keith partridge grew up', 'keith partridge', 'chris partridge', 'suzanne crough', 'the cowsills', 'yumi', \"ricky 's sister\", 'what are you so afraid of ?', 'david robert hayward-jones', 'jeremy gelbwaks', 'the brady bunch', 'keith partridge', \"shirley jones 's eldest son , keith partridge\", 'david kotkin', \"what was the partridge family 's address\", 'keith partridge , from 1970 to 1974', 'it was the name of somebody i played soccer with in england .', 'david cassidy was a teen heartthrob', 'wes farrell', 'man_under_cover', 'aaron carter', 'monkees', 'their last name is `` partridge', 'view sample 8891', 'david cassidy', '1970', '', 'in search of the partridge family', 'david cassidy photographs , filmography and notable television guest appearances', '2200 a.d.', 'the song was released at the same time as the debut of the network television sitcom the partridge family .', 'the top', '1970s', '` family business', ''] , keith partridge\n",
            "6 50 ['to celebrate festivals and happy occasions', 'why do chinese want to worship the god of local land', 'why', 'fire hazards', 'why is carbon monoxide co deadly to people', 'they drive away the evil spirits', 'for fun !', 'to keep them awake for the celebration', 'in order to eat the warm food', 'burning trash', 'to chase away the hungry spirits that may lurk around to eat the food offered to ancestors', 'li tien .', 'why are firecrackers banned', 'symbols of fertility', 'they are not sending chinese midgets over here', 'it end fire works and huntington ny .', 'the following article states what chinese do and why chinese do during chinese new year festival', 'brand-new', 'signalled a joyous occasion', 'why some of that crabgrass must fall right on the white house lawn itself', 'it will not burn completely', 'long streamers of dummy crackers serving as doorway decorations', 'different chinese new year firecrackers belief', \"that 's why we can hear the scattered sound of fire crackers from midnight to sunrise .\", \"the nation 's hoop is broken and scattered\", 'chinese new year is sometimes known as the spring festival .', 'it comes out of hiding to attack people , especially children .', 'cleaning', 'evil spirits were supposed to be frightened of red', 'chinese new year firecrackers chinese new year chinese new year 2009 chinese new year calendar', 'wet towels', 'chinese new year fireworks', 'chinese new year firecrackers from all over the world', 'meyer family', 'loud gongs and drums', 'never appeared again in front of a human', 'the seeds of destruction', 'export', 'loud gongs and drums', 'students will end of the winter vacation', 'chinese around the world', '', 'chinese new year', 'what happens around the world', 'chinese explode the firecrackers .', 'firecrackers were set off just before the procession arrived .', 'firecrackers were set off just before the procession arrived .', 'china', 'a fuel break', 'chinese new year festival'] , fire alarms\n",
            "7 50 [\"sardi 's restaurant\", \"rainbow 's end\", 'broadway', \"campbell 's\", 'vaudeville vaudeville', 'the theater', 'lancaster , california', 'what', 'lancaster , california', 'new york', 'what was a vaudeville act', 'when and how did judy die ?', 'the ferncliff mausoleum', \"judy garland 's footprints in cement\", 'the judy garl', 'as a launchi', 'judy have any children', 'on the vaudeville stage', 'the palace', 'sang and joked their way into the hearts of millions of fans', 'any vaudeville theatre', \"back in the 30 's .\", '', 'new york', '', \"they called the act the o'connor family - royal family of vaudeville\", '', '', '', '', \"judy garland 's sister : the happy one in the family\", 'songs where it began', '', 'where or when', '', 'pop quiz', '', 'over the rainbow', 'when did judy', 'used vaudeville as a launching pad for later careers', '', 'judy garland', '', 'she was still in vaudeville as the youngest of the gumm sisters', 'forum topic judy garland forum', 'choreographer bob alton said to me , ` you can always have an act', \"`` a flop '' -lrb\", \"the o'connor family\", \"the o'connor family act\", ''] , new grand theater\n",
            "8 50 ['marn grook', 'dark castle', 'chain mail', 'lachi', 'double magic mega spin', 'rugby school game', \"a nobles '\", 'how does it work ?', 'ball', 'ballgame', 'wheres the ball warthog jumping', \"it does n't matter\", 'it apparently was played with a hard rubber ball', 'chess-playing format .', 'autoduel avoid the noid pc', 'cartritges', 'consolation', 'dvd postsolution', 'tachtli', 'tachli', 'music', 'arcade game', 'tchlatchli', 'casually', 'betrayal at krondor', 'what are your responsibilities', 'football', 'it was just an overall well-played', 'back to the future', 'without recording a turnover', 'psychology : what does your game say about you as a person', 'psychology', 'aztec bowl', 'have an impression ?', \"if you got anywhere near a computer in the 80 's , you played this game .\", 'this game was played until 1988 .', 'championship game', 'their human sacrifice', 'betrayal at krondor was an excellent old-school crpg', 'central mexican sports', 'a game that could be played inside .', 'naismiths first idea and the game played today .', 'a game that could be played indoors', '', '', 'joust i do not remember the specifics of the computer', 'the golden sundisk', 'game', '', ''] , basketball\n",
            "9 50 ['new orleans', 'honfleur', 'le havre', 'estuaire port of caracotinum', 'nogent-sur-seine', 'manaus', 'le havre', 'le havre', 'is-icauna', 'le havre', 'le havre le h\\\\u00e2vre', 'honfleur', 'yonne', 'honfleur', 'scheldt', 'le havre', 'sakw - onna', 'rivi\\\\u00e8re du canada upstream to montreal', 'le havre', 'port of rouen', 'sakw - onna', 'bar-sur-seine', 'le havre', 'sequana', 'bar-sur-seine', 'rodo', '75', 'le havre', 'south carolina', 'rodo', 'omsk', 'dives river , normandy', 'paris', 'rh ne river', 'rodo', 'la seine', 'mozambique', 'seine-inf\\\\u00e9rieure lower seine', 'ob', 'the city', 'the seine', '', 'bay of bengal', 'seine river', 'south', 'english channel', 'seine', 'the river seine', 'the one on the right bank of the river given first .', 'manitoba'] , le havre\n",
            "10 50 ['350', '619', '2500', '40', '4,500', 'how to buy art photographs', '45', '100', '1973', 'select another museum', '1973', 'modern and contemporary art works', '2004', '1995', '1998', '1978', '1983', '1972', '1996', '1992', '23,000 square feet', '1991', '2004', '1984', '1998', '1994', '1998', '1992', '1998', '2004', '2007', 'have your american art museum in new york or an art gallery from anot', 'the history and the collection', 'stokstad 1023', 'new york city pass prices what you get attractions', 'collection of modern art in new york city , usa .', 'art directory > art galleries > art', 'at the queens branch of new york museum of modern art -lrb', 'many', 'includes art museums and important art collections in the state of new york , united states of america', 'solomon r. guggenheim museum', 'collection of modern art in new york city , usa', '', 'guggenheim museum', 'collection of modern art in new york city , usa', 'more about the museum of modern art the museum of modern art visitors guide', 'browse museums of the united states : museum of modern art new yo', 'new york museum of the city of new yor', 'museum of modern art moma', 'designing the new museum of modern art .'] , 100000\n",
            "11 50 ['biodiesel', 'biofuel', 'nuclear energy', 'princeton wordnet', 'preparation and proactivity', 'nuclear power plants can harm aquatic life', 'nuclear explosive', 'global warming', 'emission', 'energy subsidies - how do energy subsidies', 'technology', 'climate change', 'disa', 'nuclear power plants', 'carbon', 'lrb', 'sunlight', 'they do far less harm to the environment than any ugly hybrid', 'help save the enviroment and money', 'lightbulbs and dishwashers', '5', 'bu', 'where is the harm in starting', 'geothermal energy', 'alternative cupcake paper', 'what is the harm of starting to prepare early', 'definitions source definition oxford dictionary', 'lots of ways to wreck things', 'existing energy technologies', 'rediscover the old ways', 'the new method will be marketed under the name ... 3', 'innovative ways to get more energy out , not finding new ways to separate hydrogen and oxygen', 'botanical name', 'polluting', 'breaking apart salt water', \"our nation 's security is at risk\", 'the new method will be marketed under the name ... 16', 'green energy', 'there are lots of very easy ways to do it .', '', '', 'grown', 'preserve world resources', 'techniques', '', 'we do to affect ourselves', 'improve', 'the world', '', 'inventors'] , alternative\n",
            "12 50 ['monkey-puzzle', 'pehu', 'monkey-puzzle', 'monkey puzzle tree', 'afrormosia', 'common forest trees', \"pendula ' 6 10 ' x 4 ' evergreen\", 'araucarioxylon arizonicum', 'pau brasil', 'pehu n', 'palmiste boucl', \"water exposure abies fraseri 4 50 ' x 20 ' pyramidal evergreen\", '` hoop pine', 'callitropsis', 'rrb- acacia', 'a. excelsa', 'pehu', 'pau brasil', 'water exposure abies lasiocarpa', 'bunya-bunya seed cone', 'frying pans', 'common as an ornamental', 'seeds', 'heterophylla', 'monkey-puzzlefacts about araucaria araucana araucaria araucana', 'annuals perennials bulbs', 'tree', 'ironwood', 'makore makore', 'the botanical name for norfolk island pine', 'conservation', 'araucaria bidwillii', 'christmas trees', 'afzelius fig', 'norfolk island pine', 'monkey puzzle', 'the cook pine', 'the name came about when an englishman commented what a puzzle it would be for a monkey', 'coig e -lrb', 'conservation', '', '', 'index by botanical name', '', 'monophyletic', '', '', 'britannica', 'species', ''] , monkey puzzle tree\n",
            "13 50 ['overexertion', 'what kind of pocket-protectors', 'the risks and side effects from the food itself', 'what can it be ?', \"what 's new\", 'what kind of statement', \"what 's the right penis size\", 'unusual characteristics', 'what', 'what', 'epilepsy', \"a camel 's eyelid\", 'what are the causes of erectile dysfunction', 'scared of them', 'it had an unusual shape', 'side effect that seems unusual or that is especially bothersome', 'wears alden web relationships', 'penis enlargement devices', 'what are the risk factors', 'black spot of hair', 'liquid', 'what they saw .', 'notation and possessing unusual fractional properties', 'stimulate an increase of blood flow', 'increases of blood flow into the erectile chambers', 'what', 'what', 'spotted skunk rad52 co detector radial engneering', 'it may attract racoons', 'the majority of racoons carry a parasite', 'bones', 'what is the significance', 'worries about penis size', \"she ca n't imagine being afraid\", 'small penis size', 'stress required for penis grow', 'stand still to see if they want to come close , and learn to know you', 'they did significantly .', 'the house is shared with a herd of cats', '` make it or break it', 'visiting raccoons would benefit from the r', 'a penis restaurant', 'coolness want to join', 'fitness', 'sexually orientated', 'vehicle', 'male health and sexual performance', '', '', ''] , contains bone\n",
            "14 50 ['wilfred owen', 'wilfred owen', 'wilfred owen', 'wilfred owen', 'wilfred owen', 'wilfred owen', 'wilfred owen', 'wilfred owen', 'wilfred owen', 'wilfred owen', 'wilfred owen', 'wilfred owen', 'wilfred owen', 'wilfred owen', 'wilfred owen', 'wilfred', 'wilfred owen', 'wilfred owen', 'wilfred owen', 'wilfred owen', 'sassoon', 'wilfred owen', 'wilfred owen dulce et decorum', 'wilfred owen owen', 'wilfred owen', 'owen', 'wilfred', 'wilfred owen', 'wilfred owen patient', 'owen', 'wilfred owen', 'wilfred owen', 'wilfred owen', 'owen', 'what passing-bells', 'what passing-bells', 'what passing-bells', 'what passing-bells', 'wilfred', 'anthem for doomed youth', 'lrb', 'a cento', 'the free encyclopedia', 'wikipedia', 'wikipedia', 'his', '& lsquo', '` anthem for doomed youth', 'rrb- dulce et decorum est', 'his descriptions of mustard gas in dulce et decorum est'] , wilfred owen\n",
            "15 50 ['almandine', 'banded agate', 'smokey quartz', 'prasiolite olive green', 'rose quartz', 'rose quartz', 'milky quartz', 'morion dark to black crystal quartz is called morion', 'ametrine ametrine', 'bloodstone', 'aventurine', 'black quartz', 'purple quartz', 'rose quartz', 'amethyst', 'amethyst', 'amethyst purple', 'rose quartz pink', 'amethyst : a type of crystallized quartz that is transparent and purple', 'holly blue translucent', 'oriental amethyst', 'ndigolithand chorlis', 'agate', 'bluestone', 'nephrite', 'morganite', 'amethyst a gemstone variety of quartz amethyst', 'pale red-violet', 'amegreen or prasiolite amethyst violet-green crystal quartz', 'smokey quartz', 'amethyst amethyst', 'blue john', 'smokeyquartz smoky quartz smoky', 'amethyst', 'green', 'smoky quartz is the brown to gray', 'oriental amethyst', 'milky quartz', 'oriental amethyst', 'amethystos', 'amethyst amethyst', 'rose', 'amethyst and citrine amethyst', 'iolite', 'tourmalinated', 'amethyst', 'bluish', 'asparagus stone', 'it is a variety of quartz', 'purple'] , amethyst\n",
            "16 50 ['nikolai rimsky-korsakov', 'rimsky-korsakov', 'n. rimsky-korsakov', 'rimsky-korsakov , nikolai', 'rimskij-korsakov', 'perrey & kingsley', 'rimsky-korsakov , nikolai', 'oboe rimsky-korsakov', 'viola rimsky-korsakov', 'rimsky-korsakov', 'rimsky-korsakov', 'rimsky-korsakov', 'rrb- clarinet rimsky-korsakov', 'rimsky-korsakov', 'rimsky-korsakov', 'swan-bird', 'rimsky-korsakov', 'nikolai rimsky-korsakov', 'rimsky-korsakov', 'alexander borodin', 'korsakoff of russo sandro', 'chuck howard', 'nick halbach', 'liz lulu', 'earthfamilyalpha : flight of the bumblebee liberace plays', 'the tale of tsar saltan', '..', 'percadu percussion duo', 'first flight of icon a5', 'metacafe bumblebee flight marimba of percussion', 'metacafe bumblebee 2c piano flight of the bum', 'he also wrote fifteen operas , including the tale of tsar saltan', 'alexander glazunov , sergei prokofiev and igor stravinsky', '', 'his most famous composition is the flight of the bumblebee .', 'scientists', 'problems listening', 'the flight of the mosquito', 'midisite - flight of the bumble bee - midi search engine', '', 'wikipedia', '', 'wikipedia', '', '', '', '', '', 'flight of the bumblebee', 'flight of the bumblebee .'] , nicolai rimsky korsakov\n",
            "17 50 ['south africa', 'asia', 'colombia', 'canada', 'louisiana', 'africa', 'panama', 'idaho', 'asia', 'ghana', 'india', 'wyoming', 'washington state', \"oregon 's border with idaho\", 'the tropics', 'madagascar', 'alaska', 'china', 'montenegro', 'zambezi', 'american', 'trinidad and tobago', 'asia', 'grand teton', 'asia', 'louisiana', 'asia', 'asia', 'andes', 'virginia', 'malawi', 'walla walla', 'country', 'west', 'ogoouriver', 'bohai sea', 'southern parts of the country', 'snake river plains', 'altamaha', '', '', 'colorado plateau', 'the interior', 'the western', 'private land', '', 'sansaville wildlife management area', 'rapid river salmon hatchery in a picturesque canyon , seven miles southwest of riggins', 'ancient stories or folklores , two entirely different images of the snake are often seen .', 'snake river'] , usa\n",
            "18 50 ['israel', 'amman governorate', 'amman', 'nabateans', 'amman', 'what to buy from jordan', 'amman', 'amman', 'amman', 'amman', 'amman', 'amman amman amman', 'amman', 'amman', 'amman', 'city of amman', 'rabbah', 'jordan', 'jordan', 'jordan', 'amman', 'israel', 'israel and the palestinian territories', 'amman', 'amman', 'amman', \"amman 's jordan 's capital hotels\", 'jordan', 'amman , jordan', 'jordan', '', 'amman', 'capital of jordan', 'amman', '', '', 'jordan', 'amman', 'jordan', '', '', 'the historic center is at the foot of the citadel', 'jordan', 'jordan', 'amman', 'the capital .', 'jordan', '', '', ''] , amman\n",
            "19 50 ['singlecut', \"coarse the asthetic of the instrument ca n't be beat .\", 'electric guitar', 'guitar', 'guitar synthesizer', 'sex pistols', 'guitar', 'double cutaway guitars', 'guitar', 'american musical instrument society discussion forums fender-talk', 'gibson', 'gibson', 'the log', 'gibson', 's', \"'59\", '', 'musical', 'les paulverizer', '', 'epiphone', '', 'tenn s gibson', 'guitar', 'guitar', 'guitar', '100', 'gibson', 'the beginner/entry level guitar', 'custom', 'les paul junior', '', 'guitar', '', 'duotone', '', 'electric guitars', '', 'voodoo the `` voodoo', 'junior', 'gibsons', 'fanned-fret fingerboard', 'sg', '', '', 'this , in and of itself , should say something about the quality of the instrument', '', 'ibanez', 'myaxe 11 -rsb', ''] , guitar\n",
            "20 50 ['china', 'what nationality', 'korean', 'what kitten22', 'spandau', 'bond enthusiasts , whatever their nationality', 'lrb', '', 'lrb', '', 'a pal of mine', 'young', '', 'aston martin', \"oddjob was always good for a pint ' e was\", 'oddjob would ` ave ` im', '', '', '', '', 'oddjob', 'tibet', '', 'james bond', '', '', '', '', 'us', 'java', 'le scaphandre et le papillon pal cusm swesub', 'oddjob', '', 'java', '', 'bond', '', 'goldfinger', 'goldfinger', '^', 'bond', '', 'goldfinger', 'oddjob actually speaks .', 'oddjob', '', 'oddjob is electrocuted .', 'oddjob is only published in quarterly comic books .', 'solo', ''] , korean\n",
            "21 50 ['socrates', 'socrates', 'socrates', 'socrates', 'socrates', 'socrates', 'socrates', \"socrates ' teaching and influence socrates\", 'socrates', 'socrates', 'socrates', 'socrates', 'socrates', 'antisthenes', 'socrates', 'plato', 'socrates', 'socrates', 'socrates', 'pythostratus', 'machiavelli', 'plato', 'socrates', 'plato', 'socrates', 'plato', 'plato', 'socrates', 'epictetus', 'socrates', 'plato', 'the `` athenian stranger', 'socrates', 'socrates', 'plato', 'plato', 'plato', 'sartre', 'socrates', 'plato', 'plato', 'socrates', 'plato', \"a dead philosopher 's words about another dead philosopher who never wrote anything himself\", 'plato', 'nothing is a miracle', 'plato', 'he wrote nothing , but inspired many disciples', '', 'philosopher'] , socrates\n",
            "22 50 ['tylenol fights pain tylenol', 'gel - cool therap', 'spinach', 'gel', 'tylenol and tylenol pm tylenol', 'gel - cool therapy', 'gel - 4oz', 'gel - cool therapy', 'gel - cool therapy', 'gel - cool therapy', 'gel - cool therapy', 'sombra pain relieving gel - cool therapy', 'gel', 'sciatica & back pain relief', 'gels', 'gel - cool therapy', 'tramadol', 'war on docs', 'sombra pain relieving gel', 'sombra sombra', 'sombra pain relieving gel', 'firestone tire', 'dried leaves', 'pregnancy', 'joint pain/stiffness', 'medication contains caffeine', 'caffeine', 'topical pain reliever', 'gallon pump mfg : sombra', 'topical analgesic', 'acupuncture', 'muscle contraction headaches', 'sombra', 'sombra', 'addiction , pain , and public health website - homepage - doctordeluca', 'sombra pain relieving gel', 'sombra pain relieving gel', 'chronic pain', 'sombra pain relieving gel', 'suffering and disability', '', 'procedure or injury', 'anti-inflammatory medication to right where the injury', 'numex corporatio', '`` 0', 'understanding', 'your product', 'scare-mongering', 'brain', 'pain relief'] , tylenol\n",
            "23 50 ['gone with the wind', 'gone with the wind', 'what year was the novel `` gone with the wind', 'gone with the wind', 'gone with the wind', 'tara', 'scarlett', 'gone with the wind', 'gone with the wind', 'gone with the wind', 'gone with the wind', 'gone with the wind', 'what is 5 +0 ?', 'the muse', 'what other american novel', 'lost laysen', \"margaret 's print shop : a novel of the anabaptist reformation\", '`` that only a mother', 'rrb- uprising', 'ages 7-12', '', 'margaretsearch the web', 'aussie bites', '', \"jacob 's ladder\", 'round robin letters', '', 'ripley', '', 'it was written over 70 years ago when mitchell could still have interviewed people who lived through the war', 'margaret munnerlyn mitchell 1900-1949', '', 'it won for margaret mitchell a pulitzer prize in 1937', 'civil war and reconstruction', 'write what you know', 'pulitzer prize winning novel', 'written by margaret weis alone .', '` the dump', 'a timeless story of survival', '', '1860s at the tullie smith farm , explore the elegance of the 1928 swan house', '', '', 'clifford', \"the only difference between them is mitchell 's idea of gumption\", 'the book he knew she had written .', 'margaret mitchell was awarded the pulitzer prize for her sweeping novel in may 1937 .', '', '', '1929'] , gone with wind\n",
            "24 50 ['stallion', 'ammiu', 'castrati', 'stallion', 'samson', 'lrb', 'mistyblue', 'stallion management', 'lrb', 'hudigamma', 'the little blind one or the one eyed god', 'what kind of horse', 'shams-on , the sun', 'redwine stallion for stud in petaluma gorgeous', 'what you have is a very nice gelding', \"what 's the rush\", 'what', 'flying hearts', 'rsb- 2', 'geldings', 'penis', 'a stallion', 'what kind of market', 'father', 'baby-hood', 'stallion material', 'vagina', '', 'what', '', '', 'triple aphrodite', 'warmblood', 'mares', 'mares', 'priests', '', '', 'what was your purpose', 'christian boys', '', '', \"stallion you want to use fits the characteristics you 're looking for and has ancestors which meet the ` type\", '', '', '', 'neuteringneutering', 'people of god', '', 'stallion'] , gelding\n",
            "25 50 ['tobacco', 'what cigarette company', 'buckeye', 'furfurol', 'tobacco', 'tobacco', 'mint snuff pouches', 'tobacco', 'horn', 'hemp plant', 'what', 'tobacco', 'kentucky burley tobacco', 'turkish leaf', 'tobacco', 'nasal', 'grecian tobacco', 'butter', 'chewing tobaccos', 'virginia tobacco', 'tobacco', 'leading stem', 'p schl', 'natural source', 'flower clump from either its tip', 'western moist snuff is mass produced from either dark fire-cured tobacco', 'cuban tobacco', 'high nicotine tobacco leaves', 'tobacco', 'tobacco', 'tobacco leaves', 'cigarette', 'flower cluster from its tip', 'what is the nutritional information', 'tobacco leaves', 'tobacco', 'smokeless tobacco to cigarettes', 'nicotiana', '', 'plant-made antibody', 'from six to twelve leaves', 'cigar', 'locally', '', 'leaves', 'carcinogenic', 'snuff-box', 'glass snuff bottles', '', 'products'] , tobacco\n",
            "26 50 ['carboniferous to jurassic pangea', 'devonian', 'triassic', 'jurassic period', 'late jurassic', 'palaeozoic', 'carboniferous', 'jurassic period', 'late triassic', 'jurassic period', 'lower jurassic', 'carboniferous', 'mid-jurassic', 'pleistocene', 'devonian', 'geological', 'jurassic period', 'carboniferous period', 'jurassic period', 'jurassic period', 'jurassic although the dinosaurs evolved in the triassic', 'the carboniferous period', 'carboniferous period', 'jurassic period', 'permo-carboniferous', 'carboniferous', 'palaeos paleozoic : carboniferous : the carboniferous period', 'carboniferous', 'ordovician and siluran', 'carboniferous ice age', 'upper carboniferous period in the upper carboniferous , or pennsylvanian', 'carboniferous period', 'archean eon', 'carboniferous period', 'carboniferous', 'jurassic jurassic', 'mississippian period', 'carboniferous period', 'jurassic', 'jurassic period', 'jurassic', 'this was the first period', 'this period', 'carboniferous', 'the period', 'period', 'period', 'the period', 'primitive land plants appeared by the end of the period', 'the period'] , carboniferous\n",
            "27 50 ['what illnesses', 'tuber', 'all meningococcal disease', 'asthma', 'mumps', 'tb', 'tuberculosis', 'tuberculosis', 'tuberculosis', 'what does it protect against ?', 'hib', 'tuberculous meningitis and miliary tuberculosis', 'infection', 'polio', 'group c meningococcal disease', 'long-term efficacy of bcg vaccine in american indians and alaska natives', 'vaccine storage', 'what should i do ?', 'what are the side effects', 'more than one disease', 'what is the risk of side effects', 'an infection they have already had', 'cholera', 'what are the potential side effects', 'an infection they have already had', 'what are the possible complications of mumps ?', 'what is dehydration', 'what to expect on the day is it safe to immunise my child', 'what is the risk of side effects', 'to ensure the immune system does not waste time trying to neutralise the vaccine', 'what is the treatment for mumps', 'what', 'inclusion does not imply endorsement', 'how does dehydration', 'what does this mean ?', 'does the efficacy of bcg decline with time', 'what are the best positions for breastfeeding', 'what is diarrhoea', 'tuberculosis', 'how does ort work ?', 'is it safe to immunise my child', 'non-routine immunisations when to immunise diseases', 'when to immunise diseases', 'change the way chris mcevoy sees her', 'thiomersal', 'six diseases', 'the fermentation does not use bovine or porcine products', 'everyone up to age 22', 'attenuated live bcg bacteria', 'efficacy'] , tuberculosis\n",
            "28 50 ['rum', 'bannik', 'zombie spirit', 'claire', 'kill-devil', 'jamaican rum', 'the devil', 'kill-devil', 'kitty hawk', 'kill devil', 'cane juice', 'barbados water', \"shannon 's tip\", 'grave digger', 'spirit bottle tree', 'rrb- bannik', 'kill devil hills', 'kill devil', 'bokor', 'kill devil', \"michael 's tip on kill devil hills\", 'the drink', 'kill devil', \"renny 's tip on kill devil hills\", 'kill devil hills', 'kill devil', 'kill devil', 'kill devil hills', 'kill devil hills', 'ashley alexandra dupr', 'kill devil hills', 'kill devil hills', 'he was known to say `` kill them', 'rum was strong enough to `` kill the devil', 'kill devil', 'his spirit was eventually put to rest once he had killed both of the boys', '', '', '', '', '', 'kill devil hills about kill devil', '', 'eyler', 'kill devil hills', 'her', '', 'kill devil hills', '', 'kill devil hill'] , rum\n",
            "29 50 ['pat bradley', 'nicklaus', 'arnold palmer', 'palmer', 'mccormack', 'palmer', 'tiger woods', 'mary , queen of scots', 'steve', 'ogilvy', 'palmer', 'bryant', 'todd hamilton', 'lopez', 'arnold palmer', 'who will be the person that walks down the 11th fairway and sees amen corner', 'jerry seinfeld', 'he became only the sixth', 'questions', 'who i was dating', '', 'in 1967', 'he was a true competitor who became the first person ever to win the professional `` grand slam', '1826', 'he', 'it is the first golf club .', '', '', '$ 74 * per person', 'it was the first golf game for the genesis .', 'person : $ 1,195', '', 'primm valley golf club in las vegas', '', 'over 300 students', 'it is the first golf clubhouse .', 'unlimited golf per person per day', 'non-beginner', '', '', 'people who are passionate about the sport and sharing it with the world', \"how do sports govern such an ambiguous subject as a person 's genetic make-up\", '', '', 'the 36 hole two person ladies', '', '', 'golf brings out your assets and liabilities', '', ''] , arnold palmer\n",
            "30 50 ['political influence and land policy', 'brain and body', 'brain and body', 'brain and body', 'local farm markets', 'brain and body', 'improve our health', 'brain size', 'a teenage brain versus an adult brain', 'permanent problems', 'it relieves the symptoms', 'create well-being', 'prolonged problems that will affect their ability to work and/or affect their daily lives', 'what areas of the brain', \"it does n't get through\", \"the rush people feel from new love usually does n't last forever\", 'the adrenaline high of falling in love does not last forever', 'brain chemistry', 'alzheimers , migraines , anxiety , intelligence , mood , and more', 'your body', 'love is enhanced by nat', 'the numbers of available brain receptors for that chemical decrease', 'the individual should not be given responsibilities', 'it makes sense', 'harbors the genetic pool of the race', 'we can order the one or the other', 'sounds interesting', 'brain molecules and synapses', 'the brain does this with other illnesses', 'sentiment does not came from the heart', 'money', \"a person 's appearance\", 'its rhythms affect the functioning of the nervous system itself', 'brain', 'this information does not replace the advice of a doctor', 'all healing', 'how we live from day to day affect our memory performance', 'physiological ramifications of', 'discrimination legislations that affect native american how do teachers affect teacher assistants affect media normal woman work', 'it feels .', 'ability to comm', 'i pray', 'feeling love is much like being in love .', 'have an effect upon , `` will the new rules affect me', 'this website does not create a lawyer-client relationship', 'a healthy brain', 'that .', '', 'medical advice , diagnosis or treatment', 'japanese'] , brain\n",
            "31 50 ['flames of paradise', 'philadelphia freedom', 'a step too far', 'christmas ep', 'wo .', '`` believe', \"` tiny dancer , '' `` rocket ma\", \"saturday night 's alright for fighting\", 'empty sky goodbye yellow brick', 'through the storm', 'wo .', 'double a-sided sacrifice / healing hands single', 'crocodile rock', 'dan dare pilot of the future', 'a single man', 'your song single', 'duets', '` border song', \"elton john 's greatest hits compilation\", 'candle in the wind', 'honky ch teau', '` can you feel the love tonight', '`` your song', 'honky ch teau', 'island girl', 'what friends are for zugunsten von aids-projekten auf', '` candle in the wind', 'someone saved my life tonight', '`` sacrifice', '23', '1976', \"elton john 's great\", \"the song was john 's first pop hit .\", 'it was released as a promotional-only single', \"elton john 's greatest hits\", \"elton john 's greatest hits\", \"elton john 's greatest hits\", 'the double a-side record topped the uk chart for five weeks starting june 23 , 1990', \"elton john 's greatest hits 1970-2002\", '` sad songs', \"elton john 's greatest hits\", 'greatest hits volume ii', '', 'it was recorded by elton john and released in 1976', 'more info', 'the single was released during the late-summer of 1989', 'the song was a uk/us top 20 hit', \"it would become elton 's fourth gold single\", 'the song', '`` your song'] , your song\n",
            "32 50 ['who', 'think', 'lady soul', 'honey aretha franklin avec le titre honey', 'cocomania', '', '08', '', 'blues brothers 2000', 'america the beautiful', 'joe morton', 'chain of fools dance', 'elwood blues', 'buster', 'chain of fools', 'who played cabel chamberlain', 'blues brothers 2000', 'blues threesome', 'james brown - cab calloway - ray charles - patty austin', 'jack flash', 'laughing on the outside', 'aretha now 06', 'this marks the first time in a film that the blues brothers play with their original keyboardist', \"' `` out of time '' by rolling stones\", 'franklin sang at the inauguration concerts for bill clinton in 1993', 'meadows of springtime', 'franklin sang at the inauguration concert for bill clinton in 1993', 'aretha franklin blues brothers - think', 'the blues brothers : about the movie', 'aretha franklin , aretha franklin sheetmusic home page warning', '', 'this marks the first on-screen time that the blues brothers band plays with their original keyboardist', '', '', '', 'aretha franklin aretha franklin is only one person', 'band', '', 'the blues brothers : movie soundtrack .', 'this song is , without a doubt , franklin at her best .', 'she has appeared in movies like the blues brothers in 1980 and sang the national anthem', 'countdown musical genres : broadway shows , hip hop , movie soundtrack', 'rrb', 'brothers blues', 'rrb', 'cab calloway to aretha franklin , as well as their se', 'aretha franklin', 'aretha franklin songbook performed by aretha franklin .', 'blues brothers was an excellent movie', 'if a specific version of a song is required , client must supply the original source recording'] , think\n",
            "33 50 ['what', 'what pictures', 'shields', 'death of harold godwinson', 'invasion and conquest of england', 'his wife', 'bayeaux tapestry', 'embroidery', 'landing', 'king harold', 'what', 'deaths of king harold brothers , the earls gurth and leofwin', \"did n't know the bayeux tapestry could be animated\", 'battle of stamford bridge', 'a clergy man striking a woman', 'keywords bayeux tapestry', 'the battle of hastings it was no secret that william intended to invade england', 'harold', 'death of harold', 'death of harold', 'death of harold', \"touching or possibly striking a woman 's face\", 'the battle was a decisive norman', 'the death and burial', 'invasion of england', 'bishop odo', 'duke william of normandy', 'william duraci', \"queen mathilda 's tapestry\", 'battle of hastings', 'romantic fiction', 'battle of hastings and now made ready to conquer the english defeat', \"william 's victory at hastings paved the way for norman subjugation of all england\", '', 'taking part in the battle of hastings .', 'battle of hastings timeline', 'the bayeux tapestry is first connected to france', \"led the normans to victory over king harold 's army\", 'battle of hastings', 'battle of hastings', 'bishop odo', 'works-of-art', 'commissioned', 'great britain', 'tapestries', '', 'tapestry', \"william 's victory was complete .\", 'the leaders', 'the life of william the conqueror vital life dates and key events !'] , halleys comet\n",
            "34 50 ['bromine', 'bromine', 'mercury', 'gallium', 'bromine', 'bromine', 'galinstan', 'magnesium', 'bromine', 'bromine', 'potassium cyanide', 'bromine -lrb', 'bromine', 'potassium hydroxide', 'diatomic gases', 'pressure', 'liquid storability', 'gallium', 'lrb', 'bromine', 'bromine', 'bromine', 'pressure', 'metals', 'non', 'xenon difluoride', 'sodium nak', 'what elements', 'metal', 'gases', 'bromine', 'mercury', 'iron', 'gases', 'what elements', 'pressure', 'the n', 'rubber', 'pressure', 'it', 'it gives off noxious fumes and is the only liquid element other than mercury', 'bromine br', 'gas', 'not dissolved it is at room temperature a white crystallized powder', 'helium', 'one phase', 'it melts at temperatures just above room temperature and is sometimes referred to as the third', 'one proton', 'it melts at temperatures somewhat above room temperature .', '298 k 25 \\\\u00b0 c'] , bromine\n",
            "35 50 ['pasteurized', 'bricks', 'what are soy beans', \"what 's the best way\", \"what 's wrong with it\", 'dairy allergy', 'what', 'what is the importance of dietary fiber', 'what innovative materials', 'what is casein', 'the milk need to be warm', 'non-gmo soybeans', 'live or active cultures', 'what does organic', 'what does this mean to us and our digestion process of the milk', 'shelf stable', 'what are you waiting for ?', 'what is dha ?', 'calcium', 'what about non-dairy folks', 'what', 'what', 'shelf stable', 'forget what you learned .', 'what should i watch out for ?', 'what are isoflavones', 'it does not taste like milk', 'shelf stable', 'just how far one wishes to take the culture-art is up to the individual', 'nutrient quality', 'what is an omega-3 ?', 'what are other sources of dha ?', 'pasteurization', 'freeze-drying', 'which one stays fresh longer', 'caffeine', 'it does .', 'what are other sources of calcium', 'it may be spoiled', 'what', 'brick', 'brick', 'uht hutchinson browser', 'nutritious', 'it does', '', 'what', 'dry buttermilk', 'what major trends', 'brick'] , ultra heat treatment\n",
            "36 50 ['gander', 'gander', 'gander', 'gander', 'a gander', 'gander', 'gander', 'a gander', 'gander', 'cackling', 'goose', 'cacklers', 'gander', 'gander', 'gander', 'gander', 'gaggle', 'whale', 'gander', 'midwest open goose', 'gander', 'toms', 'duck', 'gander', 'gaggle', 'a flock', 'tadpole', 'tadpole', \"what 's good for the goose is good for the gander\", 'gaggle', 'what', 'special', 'what', 'geese', 'cattle bull cow calf herd / kine', 'what call', 'gunning duck & goose calling contest another goose routine', 'goose', 'mating call the mating or triumph call', 'geese', 'geese', 'what', '', 'gander and female goose', 'mother goose', 'goose', 'bee farm', 'the male defends the nest from predators', '', ''] , gander\n",
            "37 50 ['patpong', 'phuket', 'what', 'bangkok', 'bangkok', 'bangkok', 'china', 'bangkok', 'yonok', 'pattaya', 'what', 'bangkok', 'what', 'bangkok', 'bangkok', 'buddhist kingdom', 'thailand', 'thailand', 'ayuthaya', 'what have we learned ?', 'bangkok', 'it is an ancient capital of thailand', 'bangkok', 'phuket', 'northern thailand', 'bangkok', 'thailand', 'did you know thatbangkok', 'what', 'bangkok', 'bangkok', 'thailand', 'churchill pryce capital thailand', 'bangkok tourism bangkok', 'bangkok', 'thailand', '', 'it is a major business and tourist centre of thailand', 'thailand', '6,355,144 , capital of thailand', 'china , p.r.c passport rss2java visa to thailand', '', 'yutthaphoom kaewtathip bangkok', 'access capital thailand', 'bangkok', '', 'thailand', '', 'angels', ''] , bangkok\n",
            "38 50 ['unwanted hair growth', 'fair', 'how long does the wax stay on and what type of cloth', 'this product does not enter the blood stream', 'unwanted facial hair', 'what exactly does a depilatory do ?', 'what exactly does a depilatory do ?', 'hair', \"what 's a woman to do\", 'what', 'what', \"what 's the catch\", 'what people do to it', 'facial hair', 'hair', 'does not change the texture , color , or rate of hair growth', 'how does it look ?', \"it 's the only way to go do what you are most comfortable doing\", 'such a thing exist', 'unwanted hair', 'unwanted hair', 'this sound familiar', 'hair defense remove lip hair', 'does anyone know where someone does threading', 'what are you shopping for ?', 'body hair', 'clip this post email', 'hair defense lip hair removal offers a better alternative to remove unwanted hair', 'hair defense butt hair removal offers a better alternative to remove unwanted hair', 'hair defense stop hair growth', 'hair defense butt hair remover offers a better alternative to remove unwanted hair', 'what', 'unwanted hair', 'pain in the you know what pubic hairs', 'creams', 'hair defense natural hair remover offers a better alternative to remove unwanted hair', 'hair', 'that sound like the solution', 'unwanted hair', 'hair from their bodies', 'hair from the bikini area', 'nair hair removal cream', 'pubic hair', \"the laser does n't necessarily remove 100 % of the hair in an area\", 'hair defense ass hair remover offers a better alternative to remove unwanted hair', \"it does n't remove it\", 'temporarily remove hair from the body', 'does enleve hair removal depilatory cream work', 'removing hair', 'within the time recommended on the packet'] , hair\n",
            "39 50 ['swallowing', 'sleep', 'phobophobia', 'hypersensitivity to light', 'pyrophobia fear of fire', 'flowers', 'gynophobia fear of women', 'nudity', 'sunlight', 'phonophobia fear of loud sounds', 'hippopotomonstrosesquippedaliophobia - fear of long words', 'hippopotomonstrosesquipedaliophobia fear of long words', 'lipophobia', 'pain', 'phobophobia fear of having a phobia', 'hexakosioihexekontahexaphobia fear of the number 666', 'flying', 'ligyrophobia fear of loud noises', 'work or functioning', 'haptephobia fear of being touched', 'hemophobia , haemophobia fear of blood', 'heterophobia fear/dislike of heterosexuals', 'bridges', 'claustrophobia fear of confined spaces', 'emetophobia fear of vomiting', 'nosophobia fear of contracting a disease', 'triskaidekaphobia , terdekaphobia fear of the number 13', '4', 'agraphobia fear of sexual abuse', 'death , the dead', 'ephebiphobia fear/dislike of youth', 'tokophobia fear of childbirth', 'aquaphobia , hydrophobia fear of water', 'ergasiophobia , ergophobia fear of work or functioning', 'radioactivity or x-rays', 'heights', 'decidophobia fear of making decisions', 'smells', 'taking pictures', 'bathing , washing , or cleaning', 'english or english culture', 'taphophobia fear of the grave', 'genophobia , coitophobia fear of sexual intercourse', 'hypersensitivity to light', 'autophobia fear of being alone', 'ailurophobia fear/dislike of cats', 'mysophobia fear of germs , contamination or dirt', 'negative phototaxis or phototropism', 'scopophobia', 'the behavior of an individual with the medical condition'] , light\n",
            "40 50 ['lrb', 'mali', 'mali', 'mali', 'mali', 'mali', 'mali', 'french sudan', 'french sudan -lrb', 'senegal', 'mali', 'mali', 'mali', 'mali', 'french sudan', 'mali', 'french sudan -lrb', 'mali', 'mali', 'mali', 'mali', 'gao kayes kidal k', 'mali', 'koulikoro timbuktu', 'informatie mali', 'mali', 'mali', 'bamako capital district', 'bamako capital district', 'cities', 'gao kayes kidal koulikoro', 'mali', 'republic', 'west sudan', 'regional big cities', 'bambara', 'its capital is bamako -lrb', 'mali', 'its capital is bamako .', 'the national capital , bamako , is highlighted in the political mali', 'the capital is bamako .', 'bamako capital district', 'mali', 'japan', 'the capital city of bamako lies at an elevation between 950 and 1,000 feet', 'bamako', 'provincial and local government : the eight regions and the capital district', 'visa credit card for use in bamako or other capital cities', 'only the large hotels and restaurants in bamako and other capital cities accept credit cards', 'foreign exchange'] , mali\n",
            "41 50 ['what is the quantity 0 ^ 0', '1', 'what is the value', '1', 'what is x8 \\\\u00f7 x6', '1', 'multiplicity 3', 'zero', '4', '2.5', 'power series', 'plus', '2', '1', 'negative power', 'definability', 'f -lrb', 'multiplicity 2', '4', '6th root', 'infinity', 'minimal velocity', 'zero solution', 'divisor', '0', 'power series', '1', '0', 'x-1 2', 'a', 'a', 'what is an exponent', '1', 'walsh coefficients', 'negative', 'zero', 'power sum equal level', '1/xn', 'some number', '-5', 'f x', '10', 'what is an exponent', 'measurement of space and time', 'novelty', 'absolute zero sum', 'f x is a polynomial having only real coefficients', 'large', '0 ^ 0 -lrb', '0'] , one\n",
            "42 50 ['1956', '1981', '1965', '1998', '1955', '1956', '1998', '1956', '1956', '1998', '90s', '2007', '', 'movies', '', 'us', 'box office mojo', '50 mbit full speed direct download !', '`', '`', 'why do fools fall in love ?', 'rapidshare download', '', 'the teenagers', '', '`', '', '', 'the same year', '', 'platinum', 'american idol season 5', 'mirror mirror', '', '', '', \"`` why do fools fall in love '' .\", '', '', '', 'season 5', 'frankie lymon', 'movie', 'the real story', \"the song became `` why do fools fall in love '' .\", \"the birds and the bees '' and `` why do fools fall in love ''\", '', '', 'diana ross', 'big'] , 1956\n",
            "43 50 ['lysistrata', 'lysistrata', 'lysistrata', 'lysistrata', 'lysistrata', 'thesomophoria and lysistrata', 'lysistrata', 'attic old comedy', 'lysistrata', 'lysistrata', 'purchase plays', 'what', 'acharnians acharnians', 'the acharnians', 'homeric epics', 'the thesmophoriazousai', 'perseus', \"lysistrata 's suggestion to withhold sex .\", 'lysistrata', 'staging women', 'the ecclesiazousai', 'the wasps', 'why refuse to lie with me , my little girl , my sweet myrrhine', 'one or multiple persons refrain from sex with their partner', 'directed by kathy lingo are women the weakest sex', 'by dressing in transparent gowns', 'what do you mean to do here with your water', 'do what i do , what the village women do', 'the birds and other plays', 'four plays', 'could women do it', 'aristophanes quotes', 'a set of slave-women', 'bacchanalia of mirth', 'three plays', 'sex role theory which viewed gender as something determined by biological differences between the sexes .', \"the questions `` do you think laura bush should withhold sex from the president ? ''\", \"most of aristophanes ' plays are political satire\", 'many of the jokes in his plays relate to sex', \"aristophanes ' plays\", 'is it justified to refuse to worship a god that is irrational and dangerous ?', 'the play concerns a group of women , the leader of which is praxagora', 'they are using the festival of the thesmophoria', \"it did n't give itself away like aristophanes ' plays do .\", 'we seem a mighty host , yet you do not see the ten-thousandth part of our sex', 'they will hasten to make peace', 'none of them has survived .', 'aristophanes greek plays', 'they will hasten to make peace', 'i should refuse him'] , lysistrata\n",
            "44 50 ['terminal 2a or 2c', 'machu picchu', 'ocean-side paradise', 'gateway city', 'one of several giant sinkholes', 'lrb', 'watsonville', 'cerro dragon', 'hotels in mumbai india', 'near a tree by santa cruz surfing museum', 'terminal 2c', 'the wrong place', 'once you collect the baggage', 'casa de linford', 'sunning', 'carmel-by-the-sea , monterey and san francisco', 'casa de linford', 'casa de linford', 'the terminal 1a or 1b', 'mumbai international airport', 'the marquesas', 'santa cruz boardwalk', 'there are lots of tour agencies', 'there', 'night', 'surf city', 'between the two terminals', 'a sleigh santa barbara vbc', 'let the community know what you think .', 'changing terminals', 'international terminal', 'the mountains', 'santa cruz deals more on santa cruz', 'flights to santa cruz santa cruz deals more on santa cruz', 'click here if you want to speak with our customer care service', 'santa cruz', '1211 ocean street', 'the neighbourhood of santa cruz', 'santa cruz', 'hotel', '', 'explore the waters', 'mumbai rails , roads , hospitals , tourist spots , hotels', 'thank you for the recommendation of a four-wheel drive vehicle', 'hard .', '', '', 'santa cruz each week .', 'when you register you can : share your stories save your favourite places and plan your next trip', 'santa carla'] , bombay\n",
            "45 50 ['john rolfe', 'captain john smith', 'john smith', 'captain john smith', 'squanto', 'her father', 'her true love , s', 'the red indian princess', 'argall', 'rolfe', 'what', 'powhatan and governor dale', 'what possessed you to marry that pale stranger', 'who was allowed to wear feathers of the eagle ?', 'john rolfe', 'captain samuel argall', 'their marriage', 'jesus', 'governor dale asking for permission to marry her', 'indian women', 'capt. samuel argall', 'smith', 'who was allowed to kill the eagle', 'a `` strange wife', 'kidnapped', 'kidnapped', 'he asks her to marry him', 'smith', 'she loves another', 'the english', 'pocahontas , a daughter of powhatan', 'the favorite daughter', 'she was lured aboard an english ship and held captive', 'max & iago & beni & clara', 'her father', '', '', '', 'the wedding of pocahontas', 'these missionaries did not reside with the french inhabitants', 'she was part of indian society and was not seen by the settlers', 'they did not know how to find food', 'captain samuel argall 1572 - ?', 'pocahontas is captured', 'powhatan did not even respond', 'george thorpe', 'pocahontas , who was a young girl , participated in it .', 'settlers', '', 'lemay'] , john rolfe\n",
            "46 50 ['1100', 'dozens', '1,200', '275', '1,100', '2,000 - 4,000', 'more than 7,000', 'more than 6,000', 'more than 7,000', '1,100', '7,000', '6', 'as many as 100,000', 'thousands', 'over 1100', 'many israelis were reluctant to relieve it .', 'so many', 'many israels were reluctant to relieve it .', '93', 'so many', 'many iranian jews', 'how many', '2,140', 'many jews', \"no one knows what schindler 's motives were .\", 'schindlerjuden', 'many potential victims', 'how many', 'jews', 'life and death', 'many who were targeted for deportation to the concentration camps', \"`` schindler 's list '' .\", 'jews', 'rescue : the story of how gentiles saved jews', \"`` schindler 's list - awards and nominations '' .\", '', \"the ` list ' that saved jews the `` list\", '`` the stories were always told to us when we were little , how he saved them', \"the women were marched naked to a quartermaster 's hut where they were handed the clothes of the dead\", '', 'the schindler jews', 'so many', '', 'al', 'seven', \"b. were awed by the horrible scene in schindler 's list .\", 'dvd', '1993', \"'\", 'list'] , 1100\n",
            "47 50 ['swollen', 'aspartate aminotransferase', 'lithogenicity stasis', 'bile', 'n dress hat', 'mixed 20 to 50 percent cholesterol gallstones', 'right upper quadrant', 'aspartate aminotransferase', 'abdominal trauma accidental', 'gullet', 'actigall', 'gallbladder', 'gallbladder', 'pudenda', 'laparoscopic cholecystectomy', 'phospholipid', 'cholecystectomy', 'buckwheat', 'adrenal nerves', 'gallstones', 'a coelom', 'right bauer', 'women develop gallstones', 'a lung pulmonary pyel o - pelvis', 'passage stri', 'lsb- 7 -rsb', 'the voicebox', 'left bauer', 'ostomy', 'ostomy', 'oviduct', 'straight seminiferous tubules', 'peanuts , walnuts , almonds', 'gall bladder', 'laparoscopy', 'pear-shaped ho', 'irritable bowel syndrome or even peptic ulcer disease', 'chenodeoxycholic acid', 'crohns disease', 'american accreditation healthcare commission', '+55 %', 'crossing the rubicon', 'at least', 'capillaris combination yin chen hao tang', '23 nunathloogagamiutbingoi', '23 nunath', 'chanca piedra grown in organic conditions', 'gallbladder - wikipedia', 'cholangio cholecyst entero stomies', 'multiplex gene synthesis from programmable dna chips'] , gallbladder\n",
            "48 50 ['ben daniels', 'christopher lee', 'joshue del toro', 'christopher lee', 'christopher lee', 'curtis', 'ian fleming', 'kamal hassan', 'christopher lee', 'scaramanga', 'dwyer', 'lee', 'lee', 'lee', 'lee', 'lee', 'ian fleming', 'price', 'craig', 'terence fisher', 'margaret burke', 'jack whittingham ; see the controversy over thunderball fleming', 'george burns', 'peter cushing and christopher lee', 'price', 'ian fleming', 'gene tierney', 'count dracula', 'gaunt , baldheaded character player of british', '', '', 'british', '', 'burn witch , burn !', '', '', '', '', 'hammer', '', '', '', '', '`` genevieve', '', '', '', '', '', ''] , christopher lee\n",
            "49 50 ['false chinch bug', 'evil weevil', 'swamp lanterns', 'a kissing bug', 'harlequin bug', 'what is a california sister', 'a firefly larva', 'mexican jumping beans', 'a bug', 'what is the heaviest insect', 'what is the longest insect', 'what is the smallest insect', 'what makes fireflies glow and what do they eat', 'what insect has the largest or longest wingspan', 'what', 'what is the largest insect', 'quino checkerspot butterfly', 'orphan drug status', 'rats', 'kangaroos', 'what do fireflies have to do with biotechnology', 'mice', 'what are vero cells', 'what about the rate', 'what bring the sexes together ?', 'the firefly with mighty radiance', 'what is aci and how is it used to treat cancer', 'luminescent beetle', 'what bring the sexes together ?', 'owls', 'research firecrest firefly firefly', 'the female firefly', 'firefly', 'destructive', 'what is the precautionary principle', 'what is venture capital', 'what are the possible symptoms', '', 'nocturnal animals', '', 'a nocturnal winged beetle', 'the males', 'nocturnal animals why are so many animals nocturnal ?', 'nocturnal animals', 'lethal-male', 'what is a beetle', 'beetles', '', '', 'tapetum'] , beetle\n",
            "50 50 ['how close', 'herbert hoover', 'hoover', 'hoover', 'smith', 'in the november 1938 election , democrats lost six senate seats and 71 house seats .', 'democrat al smith', 'franklin delano roosevelt', 'in the november 1938 election , democrats', 'william mckinley', 'hoover', 'the democrats usually lost , but won in 1884 and 1892 .', 'hoover failed to win re-election', 'republican incumbent governor ernie fletcher of kentucky', 'he lost the election', 'he won the 1940 election', 'hoover', 'hoover', 'roosevelt won by a landslide', 'thomas e. dewey .', '', 'the election was held on november 8 , 1932 .', 'garner', '', 'franklin d. roosevelt', 'roosevelt won by a landslide', '', '', 'in the presidential election of 1928 hoover easily won the republican nomination', 'garner', 'in the presidential election of 1928 hoover easily won the republican nomination', '', '1932 presidential election results', 'hoover', '1932 was a realigning election', '', '1932', 'roosevelt won 60.8 % of the national popular vote ,', 'democratic', 'the result was a foregone conclusion .', 'herbert hoover', '1936', '', 'losing', 'franklin d. roosevelt fdr won a landslide election', 'united states presidential election', 'united states presidential election', 'united states presidential election', 'united states presidential election', 'united states presidential election'] , herbert hoover\n",
            "51 50 ['france', 'monte-carlo', 'austria', 'monaco', 'monaco', 'monaco has close ethnic ties with france and italy', 'french speaking countries', 'this country is located in the mediterranean sea at the southern coast of france', 'monaco', 'burkina faso', 'france', 'france related countries : italy', 'monegasque', 'monaco', 'monaco is the vatican', 'san marino', 'monaco', 'swiss guard', 'monaco', 'monaco', 'monaco', 'french riviera', 'monaco', 'france', 'monaco', 'monaco', 'the principality of monaco', 'monaco', 'french citizens with less than five years of residence in monaco', 'monte carlo', '', 'international university of monaco', 'the territory lies on the northern coast of the mediterranean sea .', 'women', 'its police', '', 'it was originally made up of swiss mercenaries in 1506', '', '', '', 'italian riviera', 'the mediterranean', '', '', 'monte carlo philharmonic orchestra', '', '', 'this tiny mediterranean gem', '', 'mediterranean'] , monaco\n",
            "52 50 ['oranges or lemons', 'lemons or oranges', 'gaia and cyclops', 'blood of the gods', 'pepperoncini plants', 'the fates', 'helios', 'green bay', 'larus', 't', 'crack jasmine myric', 'what', 'the hydra', 'demeter temple', 'the golden apples', 'apples', 'apples', 'daughter , greek , helen , helens , leda , menelaus', 'greek shield designs', 'fleece', 'greek mythological characters', 'their apples', '` love apples', 'religon greek', 'greek mythology artemis her powers', 'the greek gods', 'one hunred heads greek', 'a leitmotif', 'spices', 'apples are a symbol of eternal youth', 'the most powerful greek gods were known as the olympians', 'three', 'greek mythology virtual fieldtrip .', 'what is a real vampire', 'the tree of golden apples', 'they were boasting 7 different kinds of apples .', 'apples', 'tree of golden apples', '', 'golden apples in other languages', 'golden apples were given to hera as a wedding gift at her marriage to zeus', 'greece mythology', 'gods and heroes', 'apples , dates , and barley mush', 'the apple', '', '', 'homeric epics and the greek alphabet', 'greek mythology introduction to greek mythology the greeks were polytheistic', 'greek mythology is enormous .'] , apricots\n",
            "53 50 ['muggle', 'muggle', 'muggle', 'webster dictionary', 'oxford thesa thesaures thesauri thesauruses word', 'o95', 'maliseet', 'what is the longest word', 'harry potter', 'the fisher king', 'sign', 'word of', 'the lexicon', 'oed', 'myths and symbols', 'russian-english', 'harry potter rumo', 'oxford english', 'javanese', 'fiction', 'oxford english', 'oxford english', 'jk rowling profil', 'shorter oxford english dictionary oxford concise english dictionary 10th edition ox', 'oed', 'russian-english dictionary with grammar', 'oxford english', 'jk rowling vs harry potter lexicon', 'russian-english', 'oxford english', 'jk rowling book summary shvoong home', 'harry potter', 'spanish-english & english-spanish', 'related blogs', 'langenscheidt routledge german dictionary of business , commerce and finance', 'spanish-english', 'oxford english', 'oxford english', '', 'oed', 'english/korean', 'copyright 2000', 'oxford english', 'lexicon', 'encylopedia britannica', 'oed', '', '``', 'isbn 0-19-860441-6 oxford dictionary of english', ''] , muggle\n",
            "54 50 ['gary allen hinman', 'gary hinman', \"donald `` shorty '' shea\", 'mary brunner', 'linda kasabian', 'donald shea', 'catherine gillies', 'sharon tate', 'sharon tate', 'sharon tate', 'sharon tate', 'sherry cooper', 'susan bartell', 'hinman', 'charles watson', 'larry bailey', 'bobby beausoleil', 'sharon polanski and jay sebring', 'bruce davis', 'patricia krenwinkel', 'hinman', 'steve grogan', 'tate/la bianca', 'hughes', 'hughes', 'hughes', 'ella jo bailey', 'frykowski and folger', 'leslie van houten', 'leno and rosemary labianca', 'tate', 'dianne lake', 'catherine share', 'charles manson', 'ruth ann moorehouse', 'madaline joan cottage', 'a person who was later found to be murdered .', 'a woman', 'charles manson', 'charles manson', 'a youth who had been visiting the houseboy', 'what compassion', 'a fourth family member', 'brooks poston', 'charlie manson', 'he was allegedly murdered by manson family members', '`` pigs', 'susan', 'five people', 'manson dominated family life , even to the extent of telling members who they could have sex with .'] , sharon tate\n",
            "55 50 ['jerusalem', 'jerusalem', 'europe africa', 'haifa', 'old city', 'haifa', 'jerusalem', 'jerusalem', 'jerusalem', 'encyclopedia britannica', 'muslim', 'umayyad', 'mosque of umar', 'temple mount is a large , raised area within the muslim quarter', 'eastern europe', 'eastern europe', 'eastern europe', 'temple', 'the mosque', 'jews', 'jerusalem', 'old city of jerusalem', \"jerusalem 's old city walls enclosing the old city\", 'jerusalem , an area that included the jewish quarter of the old city', 'bible', 'the church', '704,900', 'islam', 'sacred sites', 'dome', 'falafel stands', 'the holy land', 'muslims', 'muslims', 'temple of solomon', 'city', 'christian kingdom', 'history', 'muhammad', '100f', '', 'the sacred rock', '', '50f : dome of the rock .', 'the dome of the rock , in 1913 .', 'sakhra', '', 'the dome of the rock .', 'the rabbis put off discussion of a proposal to build a synagogue', ''] , jerusalem\n",
            "56 50 ['loyal american and canadian corps - 1776-1881 .', 'a loyalist', 'tories', 'americans', 'rose fortune', 'most british officials', 'a', 'patriots who would go', 'sided with the american revolution .', 'aboriginals given land in upper canada for being loyal to the british during the american revolution .', 'loyal she remains', 'william franklin , son of benjamin franklin and governor of new jersey remained loyal to the crown throughout the war', 'colonial americans', '', '', '1765', 'enthusiasm for the canadian preference', 'in the 14th and 15th centuries', 'canadian indifference .', 'canadian imperial sentiments in general , represented an english-canadian', 'british north american colonists', 'loyalists born in america', 'dictionary of canadian biography', 'the forces of crown', 'brant', 'canadian imperialism is reduced to `` a counterpoise of canadian-american relations', '', '', 'the british', '', 'evidence in canadian claims', \"n't particularly loyal to the british crown - argu\", 'britain', 'canadian needs , and british', 'north carolinians', 'during the american revolution', 'the nature of the canadian', 'british recognition of the csa ,', '', '', 'french', 'loyalty to the font of constitutional government in the british crown .', 'american patriots', 'this model of canadian imperialism sees a crisis in the canadian position in north america', '', \"admiral sir george rodney 's victory in the `` moonlight battle '' in january , 1780 .\", '', 'traitors', 'british colonies such as nova scotia and newfoundland', ''] , loyalist\n",
            "57 50 ['reno', 'nebraska', 'texas', 'indiana', 'ga', 'minnesota', 'minnesota', 'utah', 'minnesota', 'indy', 'maine', 'indy wrestler', 'oklahoma', 'nc', 'nikita koloff', 'scotty riggs', 'lenny lane', 'ole anderson', 'marty janetty', 'big ron reese', '', 'alex wright', '', '', '', 'sick boy', 'lynn swann', 'lynn swann', 'lynn swann', 'state assemblyman and former city council president l. harvey smith and former state assemblyman lou manzo', 'disco inferno', '', 'there is no term limit for governor of the state', 'bart gunn', 'jesse ventura', '', 'minneapolis and winona', 'mike lujan', 'christy mihos', '', '', 'bill osmanski', '', 'lieutenant governor mark parkinson d -- a former state gop chair', '', 'jim douglas', 'jim douglas', '', '', 'the governor has a cabinet consisting of the leaders of various government agencies in the state , called commissioners'] , minnesota\n",
            "58 50 ['who was al capone ?', 'collisimo', 'what would have caused a ghost', 'what', 'the principal who', 'men', 'how long was al capone', 'scalise and anselmi', 'ralph capone', 'the death of al capone', 'capone : the life and times of al capone', 'al capone', 'al capone', 'sigarette', 'newcomer al capone', 'ralph capone', 'al capone al capone', 'find-a-grave alphonse al capone', 'al capone', 'prohibition beer', 'scarface', 'al capone', '', 'an uncle who was one of al capone henchman', 'al_capone', 'al capone', '', 'al capone and bootlegging main amityville and its resident al capone capone', 'gangster', 'crime', '', '', 'al capone', '', 'men who did far more than al capone', 'teresa capone', '', '', '', '', 'gangster', '', '', '', '', '', 'what street', '', '', ''] , syphilis\n",
            "59 50 ['1936', '1866', '1936', '1936', '30 november 1936', '1936', '5 october 1858', '1936', '1936', '1936', '1936', '1936', '1959', '1936', '1936', '1941', '1956', '2002', 'sixteen days later', 'sixteen days later', '1936', 'within hours', '1851', 'within hours', 'fire', 'decline', '1964', 'it destroyed half the building .', 'the palace was destroyed', 'a most spectacular conflagration lit up the london skyline on the night of the 30th november 1936', 'fire', 'the crystal palace is destroyed in a fire', '2012', \"when he was seen applauding bolton wanderers ' fourth goal in a cup tie .\", '1851', '2012', 'when his team were reduced to ten men at blackpool on saturday', 'charity no : 285563', '', 'november 30 - in london , the crystal palace is destroyed in a fire', '', '', '', '', 'may 1861 , when there were 40,000 visitors on a sunday alone .', 'crystal palace victorian dinosaurs', '', '1970s', 'the palace can be seen in the background .', 'crystal palace park .'] , 1936\n",
            "60 50 ['kawasaki , honda motorcycles', 'eliminator 125 kawasaki', 'what', 'kawasaki , sport bikes , ducati , vintage motorcycles', 'harley', 'kawasaki', 'golf bike', 'bromont', \"does n't matter the class , make or model\", 'what', 'vulcan', 'what', \"what ever ya wanted on a learner 's permit\", 'a bike', '', 'what you ride', '', \"did n't realize thats what kept me from getting to fatigued during the trip .\", 'motorcycles', 'who knows what', 'riding buddies', 'a bike', '', 'a motorcycle', \"what 's going on ?\", '', '', '', 'lrb', '', 'did anyone actually ride a motorcycle', '', '', '', 'not looking for speed', '', '', 'motorcycles', 'drag racing', '', 'kaw', 'motorcycle', '', 'ride & comfort value', '', 'what you ride', 'ride & comfort value', '', '', 'firearms'] , kawasaki\n",
            "61 50 ['henry stone', 'lance riddler', 'diana ross', 'newton', 'newton', 'pete', 'who was the first disco group ?', 'funk funk funk funky make it funky baby !', 'orgone', 'jungle boogie', 'jimmy smith', 'pt .', 'sly & the family stone', 'men at work', 'beginning of the end', 'peter gunn', 'i', 'jay', 'who', 'boogie nights ?', 'tower of power 3', 'deaconblues', 'get down tonight 3 .', 'the juju orchestra', 'you gotz', '', \"get funky ya 'll with the get down\", '` disco sucks !', 'orgone - funky nassau 06 .', 'lrc', '', 'i decided quickly to disco down and check out the show', '', '', 'get down', 'parliament 75 .', 'pt .', '', '', '', '', 'this is funky !', '', 'funky nassau', 'lay down the boogie and play that funky music till you die', '', '25', '', 'funky nassau', 'diningguide albany , new yorkdiningguide long island'] , beginning of end\n",
            "62 50 ['harold earl of wessex', 'william the duke of normandy', 'harold godwinson', 'harold godwinson', 'harold godwinson', 'william , duke of normandy', 'duke richard of aquitaine', 'duke william', 'harold', 'william', 'harold , earl of wessex', 'harold', 'william', 'william i', 'william', 'earl harold of wessex', 'william william', 'harold', 'william', 'william', 'harold', 'william i', 'william', 'william', 'william', 'harold godwinson', 'edgar theling', 'henry of anjou', 'william', 'king williams consort , matilda', 'edward harold william', 'king william', 'henry', 'william', 'stephen of blois', 'harold godwinson', 'harold', 'harold', 'william', 'william', 'william the conqueror', 'he was crowned king of scotland in 1651', 'duke of normandy by 1036 and king of england by 1066', 'he was proclaimed , but never crowned , king of england .', 'the battle at hastings lasted the whole day of october 14th , 1066 .', 'he was crowned king in westminster abbey', 'he led his army to london', 'he was crowned on christmas day , 1066 , at westminster abbey', 'he was crowned in westminster abbey', 'he was crowned king in westminster abbey'] , william conqueror\n",
            "63 50 ['gyeongju', 'colombia', 'korean', 'seorabeol or seobeol', 'tehran', 'jeju city', 'karachi', 'seoul', 'gyeongju', 'seorabeol', 'seoul', 'daejeon metropolitan city', 'wiryeseong', 'national capital', 'cheongju', 'korea', 'cheongju', 'tokyo', '` prefecture', 'seoul , south korea', 'jeju city', 'bas', 'chiba city', 'lrb', 'seoul', 'bandung , capital of west java', 'lrb', 'po', 'libreville', 'sendai', 'rio de janeiro', 'jeju city', 'the national capital district', 'tenochtitl', 'daegu', 'politics', 'mexico citymexico city', 'ul is the capital and largest city of south korea', 'politics', 'osakaosaka listen', 'the city served as the capital during the baekje and joseon', 'seoul', \"`` the capital '' is not , in fact , host to the seat of go\", 'gwangju', 'seoul', 'gongju', 'seoul', 'seoul', '', 'capital_as_symbol'] , seoul south korea\n",
            "64 50 ['north texas state', 'texas', 'texas', 'texas', 'texas', 'dallas', 'texas', 'texas', 'state highway 6', '1925', '', 'the state is a large produce growing state', 'texas', 'texas', 'texas state library and archives commission houston - north east', 'houston houston 61 44 61 44 kzjl ind.', 'north texas', 'texas', 'texas', 'dallas', 'tyler , longview and shreveport , la', 'texas', 'houston astros', 'where', 'the state', 'angleton 14 houston westbury', 'houston madison', '', 'downtown', '12 fort worth dallas - fort w', '', '', '', 'texas', 'second largest in the united states', 'texas medical center , which is located in south houston', '', 'houston', 'the schools are all major rivals', 'houston', 'fort worth', '', 'male', 'fort worth', 'fort worth', '', 'waco .', 'downtown waco', 'waco transit system , which offers bus service monday-saturday to most of the city .', 'fort worth'] , texas\n",
            "65 46 ['dr paul leighton', 'an idolater', 'the son of perdition', 'paul lundahl', 'covetous man , who is an idolater', \"redmond o'hanlon or roaring hanna\", 'sir roger moore', 'saul', 'covetous', 'paul meshanko', 'he himself is our peace', 'david ross', 'who are you', 'brother saul', 'he who destroyed those who called on this name in jerusalem', 'bout', 'he has authority from the chief priests to bind all who call on your name', 'who we are', 'jesus is the christ', 'the men who journeyed with him stood speechless , hearing a voice', 'god , who can not lie', 'whom did he swear they would not enter his rest', 'jay', 'cam has been rather shy of condemning ross', 'a clever economist', 'god , who made the world and everything in it ... they should seek the lord', 'he said .', 'he who commits sexual immorality sins against his own body', 'special branch officers', \"he said he was merely in thailand to `` relax '' and to meet senior executives\", 'those who do his commandments', 'www pbs kids', 'paul and barnabas', 'eutychus', 'let him who stole , steal no longer', 'a brother', 'no man', 'apostle paul', 'who was who', 'timothy', '', 'john', '', 'who we are', 'paul wrote , `` those who practice such things will not inherit the kingdom of god', 'he who has entered his rest'] , paul gascoigne\n",
            "66 50 ['what wrong', 'dark man with bow', 'gypsies', 'their name might derive from a belief that they were of the nomadic tartar people', 'one inclined to a nomadic , unconventional way of life .', 'dark skin and dark eyes are typical of most gypsies', 'roma', 'they are not roma', 'gypsies', 'gypsies', 'western european romanies', 'european gypsies', 'goth', 'warrior like', '', 'dark', 'gypsy tradition as aryans', 'rom gypsies', '', '', 'pale', 'indians to buy , the chikener', 'long-haired and h', 'indian ancestry', 'gypsies as old nomadic aryans of persia', 'olive-skinned gypsies', 'very , very few , or semi-nomadic few', '', 'romania', 'roma', 'their nomadic lifestyle has made it very difficult for missionaries to reach them', '', '', '', 'peasants', 'egypt', 'african descent in germany .', 'dark skin', 'dark-skinned , frustratingly european-looking', 'dark fusion once in a blue moon usa', '', 'gypsies', 'afro-europeans', 'nomadic', 'roma', 'nomadic lifestyle .', 'dark skinned people who largely lived on the margins of european society', '`` invasion', 'dark-skinned people were evil', 'dark-skinned people , with a different culture , language and way of life appeared in western europe .'] , gypsy\n",
            "67 50 ['madison', 'algoma', 'hillsboro', 'madison', 'black river falls', \"what 's a buckeye\", 'boyceville - cucumber', 'oregon - horse capital', 'green lake', 'manitowoc', 'madison lutheran bishop gets close-up view of israel-gaza', 'south central', 'birchwood - bluegill', 'waupun', 'madison', '', 'madison', '', 'madison', 'marinette', '', '', '', '', 'muscoda - morel mushroom capital of wisconsin', 'alma center', '', '', 'wisconsin state journal and capital times', 'juda - buffalo', 'milwaukee', '', 'apple capital of wisconsin', '', 'the cranberry capital of wisconsin', 'barron - turkey', '', 'milwaukee', 'madison', 'dane county', 'ellsworth - cheese curd capital of wisconsin', 'turkey hunting capital of wisconsin', '', 'wisconsin', 'wisconsin', '1 bonduel - spelling capital of wisconsin', '', 'new wisconsin', '', '1 siren - lilac capital of wisconsin'] , madison\n",
            "68 50 ['the great vah-vahd', 'greg berggreg berg', 'miss piggy', 'jerry juhl', 'richard hunt', 'jim henson', 'jim henson', 'bert', 'mildred -lrb', 'howard handupme', 'tigger', 'eric jacobson', 'henson', 'puppeteer', 'frank oznowicz', 'l. frank baum', 'fozzie', 'fozzie', 'jim henson', 'henson', 'zathura robot', 'voice actors', 'jim henson', 'the announcer', 'jim henson -lrb', 'baby scooter', 'fozzie', 'java muppets', 'miss piggy', 'yoda', 'piggy', 'jim henson', 'jim', 'richenda carey', 'frank oz', 'frank oz', 'little miss muffet and snow white', 'ghost of christmas present', 'richard frank oznowicz', 'richard frank oznowicz', 'frank oz', 'oz', 'the dark crystal is a 1982 fantasy film directed by jim henson', 'the muppets', 'fozzie bear , miss piggy , and animal', 'jerry nelson', 'frank 9', 'theme park attraction', 'performer who controls the mouth', 'comedies'] , miss piggy in muppets\n",
            "69 50 ['kiev', 'kiev', 'kiev', 'city of kyiv', 'kiev', 'city of kyiv', 'kiev', 'kiev', 'kiev', 'kiev', 'kiev', 'kiev', 'kiev', 'kiev', 'kiev', 'kiev', 'kiev', 'kiev', 'kiev', 'kiev', 'kyiv', 'kyiv -lrb', 'kiev', 'kiev', 'kiev', 'kiev', 'kyiv', 'kiev', 'tunis', 'kiev', 'kyiv', 'kiev', 'kiev', 'kiev', 'kyiv kiev', 'kiev', 'kiev', 'kyiv', 'what is the correct spelling in english for the ancient and modern capital of ukraine', 'kiev', 'dragon', 'kiev', 'kiev', 'it now remains the capital of ukraine', 'kiev', 'kiev', 'borispol borispil in ukrainian airport kiev', 'the capital of ukraine is built on hills overlooking the dnepr river', '', 'the capital of ukraine'] , kiev\n",
            "70 50 ['goat', 'goat', 'what colour', 'goat', 'what is the best type of goat', 'kids', 'kids', 'what horse', 'maiden doe', 'goat', 'kids', 'what diseases', 'what type of fence', 'what is a parasite', 'goat', 'buck', \"cull does young cull does are sometimes called `` philippino '' goats\", 'lrb', 'kid', 'young ruminant diarrhea calf note # 42 : what are scours', 'bloat', 'goat', 'goat', 'buckling', 'ringworm', 'goat', 'what are jurassic animals', 'newborn kids', 'foot rot', 'chevon', 'capretto', 'the young ones of goats', 'goat', 'goat meat', 'what animal', 'sheep', 'weaning weight', 'animal master', 'the host', 'disbud', 'monogastric animal', 'newborn', 'young ones', 'diet', 'burdizzo no blood the burdizzo', 'milk', '', 'the goat song', 'born', ''] , kid\n",
            "71 50 ['momentary loss off consciousness', 'an anti-robot', 'the absolute current best illness', 'seizures', 'home health & wellness', 'petit mal seizures', 'the resurrection', 'unreliable behavior', 'not a tool', 'absence seizure', 'robot', 'oppresive theories of control', 'seizures', 'petit mal seizures', 'absence seizure', 'machine behavior', 'what did pussy say', 'epilepsy febrile seizures', 'petit mal seizures', 'artificial life', 'seizures', 'what else can we do', 'seizures', 'petit mal seizure', 'compactness', 'mal seizure', 'no man would euer be poore', '', 'autonomous', 'software `` content', 'atypical petit mal seizures', 'neurological problems or other seizure types in addition to the petit mal seizures', 'qui fait mal , pense mal . .', 'autonomous robotic artwork', 'epilepsy : chronic seizures epilepsy', 'seizures', '', 'healthcentral.com home > health encyclopedia > petit mal seizure petit mal seizure', 'divagations 1897', 'art andtechnology', 'brooksian subsumption architecture', '2007', '2006', 'batery replacement', 'petit petit', 'interactive art prize', 'learn .', 'a mark on the pane', 'realidad virtual', 'petit mal was first designed in 1989'] , epilepsy\n",
            "72 50 ['thunderclap newma', 'thunderclap newman', 'thunderclap newman', 'thunderclap newman', 'thunderclap newman', 'thunderclap newman', 'the magic christian', 'thunderclap newman', 'thunderclap newman', 'wonders', 'ray conniff', 'jimmy mcculloch', 'jimmy mcculloch', 'the beatles', \"foundations baby now that i 've found you 2 only no 1\", 'john david', 'thunderclap newman', 'one-hit wonders', 'thunderclap newman', 'wonder', \"pj o'rourke\", '` one-hit wonders', 'accidents', 'steppenwolf', 'the cufflinks', 'speedy king', 'the thunderclap who', 'thunderclap newman', 'hayley sanderson', 'hit parade italia', '` neil', 'who has made number 2 on five occasions .', 'david letterman-paul newman', 'the magic christian', 'list of british pop musicians', 'their debut single , the instrumental sabre dance', 'wonder .', 'their hollywood dream', '', '', '', \"` pushin ' too hard\", '', '', 'top 40', '', '', \"their single , `` something in the air '' , a 1969\", '', 'uk'] , thunderclap newman\n",
            "73 50 ['andorra la vella', 'andorra la vella', 'la vella', 'andorra la velle', 'andorra la vella', 'andorra la vella', 'andorra la vella', 'andorra la vella', 'andorra la vella', 'andorra la vella', 'la vella', 'take the risk', 'la vella', 'andorra la vella', 'andorra la vella', 'andorra la vella', 'andorra la vella', 'andorra la vella', 'andorra la vella', 'andorra la vella', 'the highest capital city in europe', 'andorra la vella', 'andorra la vella', 'cerca', 'andorra la vella town', 'la vella', 'andorra la vella', 'andorra la vella', 'here .', 'andorra la vella', 'andorra la vella', 'andorra', '', 'andorra la vella', 'the highest capital city in europe', 'andorra la vella', 'andorra', 'andorra la vella', 'andorra la vella', 'andorra la vella', '', 'andorra la vella', 'andorran capital', '', '', 'andorra', 'andorra la vella', '', 'andorra', 'taipei'] , andorra la vella\n",
            "74 50 ['carry on luggage', 'portable', 'what is a suitcase studio', '3.7 - 3.75 in , 950 - 13', 'the osborne 1', 'what type or size of ramp', 'febc : what is a suitcase studio', 'suitcase ramps', '79 * 30 * 58cmpacking size : 80 * 31 * 61cmn', 'three footlockershardly', 'lrb', 'what technology advancements are on the horizon and how small and capable can newsgathering equipment', 'low cost suitcase is about 35 % less than the standard suitcase', 'the computer', 'suitcase ramp', 'item no. : zc31', 'what is a suitcase studio', '55 lb', 'item no. : zc27', 'great for small rises , curbs & steps', 'the compaq portable', 'total size', '20,000 a5 148x210mm', '68 * 27 * 50cmpacking size : 70 * 28 * 53cmn', 'trifold suitcase ramp', 'weapons', '', '2.7 kg', 'small size and wide compatibility puts this at the top of bluetooth keyboards', 'over 20,000 products 20,000 items', 'luggage tag', 'the small size makes it easy to carry on the bus , train or in an airplane', 'fits in a suitcase w/minor disassembly', '', 'the iic', \"re-designed lightweight ramps come in 5-12 ' lengths , fold to 1/4\", 'toolbox', 'premium', 'nuclear suitcase', 'a very small amount of material would have to be used', 'a nuclear weapon', 'a suitcase studio', 'suitcase ramp - portable ramp', '1 month : 20,000 baht / month \\\\u2022', '', 'advantage series suitcase ramps advantage series trifold ramps', 'small size and weight', '', 'flyaways that transport in small helicopters , planes and cars', 'singlefold suitcase ramps and multifold suitcase ramp can be folded to an easy to carry'] , portable computer\n",
            "75 50 ['when it is opposite the sun', 'in the middle of the month', 'sunset', 'after midnight', 'every day', 'in a single month', 'a few hours', 'when it appears', 'when the moon is new', 'around the time of sunset', \"when the moon reaches its 6 o'clock\", 'when the moon lies on the opposite side of earth from the sun', \"it 's a wonderful and magikal night\", 'when it is farther away from the sun than earth', 'in the same month', 'around sunset', 'what does this time signify ?', 'winter', 'sunset', \"when you 're in a car\", 'until the sky is too bright', 'sunset', 'when the moon is full', \"when it 's in this phase\", 'only half the total surface of the moon is illuminated', 'when the sun sets', 'after midnight', 'sunday and monday nights when it will rise at sunset', 'when the moon is rising', 'night', 'waning phase is the time when the moon is moving from full to dark', \"it does n't yet rise at sunset\", 'just as the sun is going down', 'new moon', 'opposite the sun', 'does not match the length of our calendar months', 'near sunrise', 'at sunrise', 'does any of this moon mumbo jumbo make any real sense', 'when the sun will rise and set', 'near the horizon', 'the new moon', 'rise agens', 'the new moon always r', 'the night', 'when in this phase , the moon and the sun rise and set at about the same time', 'close to the constellations of the zodiac', 'the rise and set', 'rise', 'the sun is behaving much as it always does'] , sunset\n",
            "76 50 ['what', 'live young', 'live young', 'live babies', 'ringneck snake', 'live young', 'live young', 'escaped babies', 'live young', 'fertilized eggs', 'viviparous', 'the garter snake lounge rats', 'reptiles', 'live young', 'females', 'young', 'live young', 'eggs that must develop before hatching', 'live young', 'thamnophis radix', 'females', 'females', 'future parents an opportunity to gain their first glimpse of their child', 'females give birth in mid-to late summer to 4 to 20 live young', 'living young', 'live birth', 'like a mammal , rather than laying eggs', 'snakes give birth in one of two ways', 'females', 'young', '2002', '', 'females', 'snake relocation', 'juvenile', 'baby garter snakes are independent', '', '', 'pheromones', 'tropidoclonion lineatum', 'female leaves the den/mating area to find food and a place to give birth .', 'earthworms', 'the garter snake can release a very bad odor when it is frightened', 'litter size can vary from 5 to 20', 'garter snake identification can be easy if you can get a picture of the snake', 'snake trapper can also remove a snake', 'the timing of birth', 'females in the northern parts of their range give birth to from 4 to 80 young', '', 'this snake can be differentiated from other garter snakes'] , 85 babies\n",
            "77 50 ['st. louis', 'holland', 'canada', 'st. louis', 'st. louis', \"people 's republic of china\", 'st. louis , mo usa', 'st. louis', 'st. louis , mo usa', 'choicest hops , rice , and best', 'anheuser-busch', 'united states', 'india', 'americas', 'cans', 'ireland', 'bevo packaging plant', 'brewhouse', 'texas', 'la', 'argentina , canada , ireland , italy , japan , russia , south korea and spain', 'busch gardens', 'wing stop restaurant', 'inbev', 'lauter tubs and the wort pumped into the brewkettles', 'fermenting cellars', 'the brewery', '1936', 'west of the mississippi river', 'the launch of budweiser & clamato chelada', 'where the hops are added', 'adolphus busch was the first u.s.', 'anheuser-busch', 'america', \"busch introduced the company 's first cola : king cola\", '', 'let he who is without sin cast the first bottle', 'budejovice', 'national beer', 'bud dry', 'december 2007', 'for our own trade', 'first man on the moon', 'american ale', 'stores and bars', 'the grand , four-story home of daniel boone', 'favorites', 'bud battle in 1895', '', ''] , st louis\n",
            "78 50 ['what', 'yttrium', 'sodium', 'what is the equation for this reaction', 'sodium', 'sodium', 'what', 'sodium', 'sodiumsodium sodium', 'the name of a chemical element', 'free net encyclopedia', 'what is the basic rule of a chemical equation', 'sodium', 'the name of a chemical element', 'chi', 'science', 'sodium', 'its latin name', 'to represent a chemical element', 'science', 'the chemical element', 'what happens to the second elements name', 'science', 'sodiumsodium', 'symbol-aided channel estimation', 'what happens to the first elements name', 'chemical elements', 'what is encyclo', 'uub', 'equation', 'germanium', 'silversilver silver', 'natrium', 'visual elements , chemsoc - uk > e sodium', 'chemical equation', 'physical properties', \"get babylon 's translation software\", 'robots', 'element symbols', 'capitalized', 'free encyclopedia', 'element symbol', 'free encyclopedia', 'the first letter of a chemical symbol is always capitalized', 'wikipedia', 'wikipedia', 'na-23', 'for more information on chemical symbol , visit britannica.com', 'it uses material from the wikipedia article', 'symbol'] , sodium\n",
            "79 50 ['shem', 'shem', 'khazars', 'slaves', 'shem', 'shem , the son of noah', 'sem', 'khazars', 'the people of the ark', 'himyar', 'shem', 'shem', 'esau', 'farmer populations', 'ham , a son of noah', 'shem', 'american indian semites', 'shem', 'semitic', 'blacks , whites , and mulattos', 'individuals who lived in spain and portugal', \"noah 's son , shem\", 'eliphaz and his concubine timna', 'north african or middle eastern countries', 'abraham', 'the philistines', 'a desert people', 'hebrews', 'indo-europeans', 'moriori', 'egypt', 'mizraim', 'chanaanitic', 'the columbia encyclopedia , sixth edition', 'abraham', 'arabs , aramaeans , jews , and many ethiopians', 'arabs and jews', 'arabs , aramaeans , jews , and many ethiopians', \"jews hebrews '' .\", 'arabs , aramaeans , jews , and many ethiopians', 'peoples closely related in language', 'arabian group , or south semites', 'peoples closely related in language', 'races belonging to this group can best be studied in the land of chanaan', 'races belonging to this group can best be studied in the land of chanaan', 'races belonging to this group can best be studied in the land of chanaan', 'peoples closely related in language', 'babylonian-assyrian semites', '', 'sect'] , shem noahs son\n",
            "80 50 ['what affects the signal level', 'u.s. robotics corporation', 'almanach graphic chipsets', 'free encyclopedia', 'pci , agp , pcie', '250 mhz', 'what is a jpeg', 'amplifier repeater repeater', 'vga', 'graphics cards', 'what to do', 'what is a pdf', 'what specifications to consider processor', 'how', 'speed', 'ramdac speed ramdac speed', 'directx', 'ferroelectric', 'expansion bus bus that does not run in sync with the system clock', 'what', 'micr', 'vga ramdac - evolution of vga ramdacs', 'goto', '', 'computer', 'dacs', 'an acronym', 'sram', \"what 's what\", 'cknow', 'business winstone', '', 'bitmap', 'ocr reader', 'pdf document', 'what you intend to do with your computer', 'jpeg', 'this establishes what other parts you need', 'pdf document', '', '', \"it does not contain abbreviations or names that do n't stand for anything\", 'ramdac speed is given as a parameter of a graphics card', 'excel file', '', 'defacto-standard adapters , peripherals , or bios', '', '', 'corrupt excel', ''] , random access memory digital to analogue\n",
            "81 50 ['non-countable nouns', 'what verbs and pronouns', 'countable nouns are the opposite of non-countable nouns', 'ferrets', 'singular pronouns', 'count nouns', 'assemblage', 'what is a noun', 'leopards', 'lesson plan', 'mass nouns', 'assemblage', 'barren land', 'common or proper', 'mules', 'giraffe', 'what is a gam', 'what is an adjective', 'name groups', 'sterile', 'collective nouns', 'evocative , and extremely clever', 'animals - some collective nouns', 'adverb', 'what is a preposition', 'what is a pronoun', 'animals', 'writing barren of insight', 'the condition of being barren ; sterility ; unproductiveness', 'what is a conjunction', 'tender feelings', 'collective nouns', 'sterile soil', 'members', 'barren efforts', 'what is an interjection', 'collective security collectivism vs individualism', 'formal', 'quirky', 'fish , invertebrates , and plants', 'not producing fruit or not able to produce fruit', 'grammar concrete / abstract / collective nouns why grammar', 'barren capital', 'goth', '', 'collective nouns', 'a barren effort .', 'rrb', 'collective nouns', 'wikipedia , the free encyclopedia'] , mules\n",
            "82 50 ['danish west indies', 'west indies', 'french', 'french', 'french', 'french', 'france', 'st thomas', 'french', 'french', 'paris', 'paris', 'danish', 'peru', 'french', 'argentina', 'spanish', 'french', 'spain', 'danish west indies', 'french', 'west indies', 'west indies', 'france', 'west indies', 'french', 'french', 'spanish', 'peru', '1835', 'spain', 'french', '', 'pittsburgh', 'england', 'french', '', '', '', '19th', '', 'here', 'hoarfrost , which camille pissarro painted in 1873', 'city & country', '', '', 'city and country', '', '', 'camille pissarro : impressions of city and country'] , west indies\n",
            "83 50 ['elton john', 'bernie taupin', 'elton john', 'elton john', 'tina turner', 'elton john', 'roberta flack', 'elton john', 'elton john', 'the rolling stones', 'elton john', 'stevie wonder', 'elton john', 'elton john', 'donny hathaway', 'guy burchett', 'marilyn monroe', 'wo .', 'the who', 'bob seger', \"rock n ' roll gold rush\", 'wo .', 'the who 62', 'medicine man', 'james', 'elton john', 'reginald then wrote music for the lyrics , and got in touch with bernie', 'who wears these shoes ?', 'classic rock', 'charles fox', 'bernie', '', 'singer-pianist', 'who wears these shoes 4 .', '', 'who wants to live forever - queen 31', 'elton', 'charles fox', 'billboard', '', '1973', '', 'bennie and the jets', '', 'taupin', '', '', 'killing me softly with his song', \"they released `` killing me softly '' in late january 1973\", '1973'] , elton john\n",
            "84 50 ['lichtenberger', 'ambroise pare', 'ambroise par', 'joey and his partner', 'bart huges', 'halvorson and bill lyons', 'hey', 'pullman', 'daniel panasenko / mark wyman', 'joannes lethaeus', 'doug arbittier , michael echols', 'wiegand and snowden', \"who 's a hoosier\", 'spanish musket ball or an arquebus', \"pavlov 's cockroach\", 'doug arbittier , michael echols', 'who', 'how long', 'confederate and union army regimental surgeons', 'they', 'everyone who understands the mechanism', 'the invention of a central screw', \"`` patients ' who survived the ordeal of a trepanning was qu\", 'reputable surgeon', 'it created the country first ph.d. design program', 'a thru-hole', 'skeletons belonged to inca warriors', 'who knows though , obviously the survival instinct is strong .', 'crazy therapies', 'european trepanning in antiquity', 'raspatory 10 & 11', 'the woman', 'industry terms methodology', 'doctors', '', 'who are the sides', 'early 19th century gilt brass , steel and ivory', 'erica', 'ancient practice of cutting a hole into the skull', 'doctors', 'witch society', 'trepanning is a curious word .', 'trepanning , gundrilling , boring trepanning specialties inc.', 'electrica', 'trepanning was `` fashionable', 'free', 'trepanning.tv - trepanning resources and information', '` trepanning', 'pattern and concentric tube drilling', 'insanity'] , dr bart hughes\n",
            "85 50 ['ashgabat', 'ashgabat', 'ashgabat', 'greater khorasan', 'greater khorasan', 'greater khorasan', 'charjew', 'dashhowuz welayaty', 'greater khorasan', 'mary', 'ashgabat', 'ashgabat', 'ashgabat', 'ashgabat', 's.s.r.', 'mary province', 'ashgabat', 'nisa', '412,200', 'ashgabat', 'turkmenbashy', 'ashgabat', 'north korea', 'turkmenistan > capital capital of turkmenistan', \"turkmenistan 's capital city\", 'ashgabat', 'welayatlar', 'afghanistan', 'ashgabat', 'afghanistan', '', 'kara kum and kopet dag', 'turkmenistan is the most densely populated city of the country', '', 'what brought about this remarkable transformation ?', 'government language religion time', '', 'turkmenistan', '', '', '', '', '', 'a red square symbolizes the capital city', '', '', 'desert capital of turkmenistan', '', 'turkmenbashi statues', ''] , ashgabat\n",
            "86 50 ['phrenology', 'phrenology', 'chakra', 'phrenologists', 'phrenology', 'gnostic', 'phrenology', 'phrenology', 'phrenology', 'phrenology', 'phrenology head -lrb', 'what is a phantom', \"what 's it for ?\", 'psychics', 'leaves of grass', 'what is a haunting', 'phrenology phrenology phrenology', 'cranioscopy', 'phrenometers', 'what', 'phrenology', 'near earth objects', 'cranioscopy', 'handwriting', 'a competitive examination in bumps', 'phrenologists', 'individual differences', 'mental chronometry', 'retrophrenology', 'retro-phrenology', 'subtractive procedure', 'c', 'faculties', 'lrb', \"phrenology '' reading -lrb\", 'the american criminal 1939', 'physiology and psychol', 'phrenology readings', 'neo-phrenology', 'reaction-time', 'physiognomical', 'it is therefore the study of the unusual and strange', 'latest research', 'a thorough study of the bumps on their skull', 'their work established that there is indeed some localization of function', \"click the love bumps on demi 's head\", 'the keys to the functions of the brain beneath', \"hat was placed on the person 's head , any bumps on the surface of the skull\", 'what you actually get is hit on the head with a large hammer', 'insanity and criminality'] , phrenology\n",
            "87 50 ['joe orton', 'mika waltari', 'agatha christie', 'christie', 'christie', 'edgar lucien', 'kliatt', 'the murder of roger ackroyd', 'the murder of roger ackroyd', \"louis ` monty ' montant\", 'peter saunders', 'jeremy dyson', 'christie , agatha', 'christie', 'the economist', 'mary westmacott', 'the mysterious mr. quin', 'christie', 'witness for the prosecution', 'murder on the orient express', 'christie wrote more than 30 novels featuring poirot', 'm. mallowan', 'heather', 'her', 'agatha christie', 'sidney lumet', \"agatha christie 's a caribbean mystery : videohound movie retriever agatha chri\", 'tom stoppard', 'dodd , mead and company', 'r. toye', 'her', 'her', 'this is home to the play the mousetrap since 1974 .', 'she', 'she', 'appointment with death', 'agatha christie and archaeology', 'the moving finger', 'her', 'who murdered that person', 'arnold schwarzenegger', 'getelementbyid `` email', 'she also wrote the plays mousetrap 1952', 'she', '', '', 'fashionbyme', 'her play the mousetrap', 'the mousetrap , is the longest-running play in', \"the play is n't very long and is a quick read\"] , agatha christie\n",
            "88 50 ['eighteen-ninety-six', '1911', '1911', '1896', '1896', '1900', '1887', 'june , 1896', 'june 4 , 1896', '1896', '1893', '1928', '1924', '1905', 'june 6 , 1896', '1896', '1893', 'june 4 , 1896', 'nineteen-oh-seven', '1930s', '1938', 'early years of the twentieth century', 'first place', 'ford history', '` car facts and trivia', '1863-1947', 'he was six weeks old when his father tested the first ford engine', \"ford 's first vehicle\", 'model a', 'model t', 'henry ford decided to build a racing car', 'he produced an automobile', '98th birthday , but boy who did well to make the first goal .', 'did henry ford pay efficiency wages ?', 'when henry was twelve', 'henry ford had succeeded in his quest to build a car for the masses', 'henry ford did not agree .', 'when henry was twelve', 'when hitler was first starting out in politics .', 'the ford motor company', 'henry continued to build racing cars', 'to keep prices low , henry ford decided that he would build just one kind of car .', '', 'henry ford wanted to build a car that the average wage earner could afford', 'his car was a blatant infringement of the selden patent', 'ford forgot to build housing for his workers', 'henry ford was determined to build a simple , reliable and affordable car', 'retirement did not slow down henry ford .', 'henry ford sold his car', \"` ford and malcomson '' company\"] , 1896\n",
            "89 50 ['the great seducer', 'brottman', 'cloverleaf', 'nich', 'los angeles - january 2', 'roman polanski', 'jack nic', 'nicholso', 'jack the lad', 'bio', 'jack nicho', 'the mahalo', 'what kind', 'cannes', 'stanley ku', 'long', 'interview', 'film noir', \"j.j. `` jake '' gittes -lrb\", 'nichols', 'us - jack nicholson - main page - forum - partner - link cinema', 'internet movie database', 'nichols', 'nichols', 'film scores', 'los angeles lakers', 'plot', 'los angeles - january 2', \"baseline 's encyclopedia of film\", 'best picture oscar collection : adventure', '1937', 'wikipedia', '', 'wikipedia', 'los angeles unified school district', 'books', 'it .', 'mike lansing', 'los angeles from the early days', 'chandler', '`` jack nicholson loves him .', 'film maker roman polanski', '', 'los angeles aqueduct ; 41 % came from the metropolitan water district of southern california', 'the sheraton los angeles downtown', '', 'los angeles aqueduct , which brought water from the owens valley to los angeles', 'los angeles city water company ,', 'los angeles superior court', 'world trade center'] , chinatown\n",
            "90 50 ['grow a beard', 'grow a beard', 'grow a beard', 'grow a beard', 'take a bath', 'take a shower', 'take a shower', 'not to own a gun', 'not to own a gun', 'give another citizen a box of candy', 'serve liquor', 'serve liquor', 'possess a firearm', 'see what could be', 'you must have the wipers', 'possess a firearm', 'do', 'have a hitching post in the front yard', 'riding a horse in public', 'violate', 'they have great purpose', 'what happens to first time offenders', 'every one of our kids can learn', 'deaths', 'client must be ambulatory or be mobile nonambulatory', '', 'post on its premises', 'what', 'labor law posters', 'every employer of employees', '', 'readily be observed by employees and applicants for employment', 'better healthcare', 'based upon financial need', 'at the time of election', 'at the time of election', 'at the time of election', 'lifetime registrants are verified', 'victories', 'documents', 'seek that goal', 'at least 6 years next preceding his elect', 'what services and arrangements are provided by an assisted living community', 'law abiding citizen', 'law enforcement officers', 'at least 6 years next preceding his', 'law abiding citizen', '', 'closes a loophole', ''] , take bath\n",
            "91 50 ['celebrity host', 'the brady bunch', 'enemy territory', 'housekeeper alice nelson', 'brady bunch', 'a stay-at-home mother', \"mike 's briefcase\", 'what did mike break with his suitcase', 'brady bunch di tv testo brady bunch tv brady bunch', 'what gift', 'chuck', 'brady bunch', 'mike', 'the brady bunch', 'the brady bunch', 'brady bunch', '', '', 'brady bunch hour', '', 'mike brady', '', \"alice 's brady bunch cookbook list of the brady bunch\", \"alice 's brady bunch cookbook list of the brady bunch\", '', \"alice 's brady bunch cookbook list of the brady bunch\", '', '', \"alice 's brady bunch cookbook list of the brady bunch\", \"alice 's brady bunch cookbook list of the brady bunch\", \"brady bunch alice 's brady bunch cookbook list of the brady bunch\", \"alice 's brady bunch cookbook list of the brady bunch\", \"alice 's brady bunch cookbook list of the brady bunch\", \"alice 's brady bunch cookbook list of the brady bunch\", 'brady bunch', \"alice 's brady bunch cookbook list of the brady bunch\", \"alice 's brady bunch cookbook list of the brady bunch\", '', \"alice 's brady bunch cookbook list of the brady bunch\", \"brady bunch alice 's brady bunch cookbook list of the brady bunch\", '', \"brady bunch alice 's brady bunch cookbook list of the brady bunch\", 'persondata name long', '', '', 'brady girls get married', \"alice 's brady bunch cookbook list of the brady bunch\", 'the brady bunch', \"gilligan 's island on cbs and the brady bunch\", 'brady bunch hour'] , architect\n",
            "92 50 ['turf mazes', 'full-size maze , the topiary , or hedge maze', 'branching and island mazes', 'mazes', 'puzzle mazes', 'labyrinths', 'unicursal', 'stone labyrinths and rock engravings', 'mazes logic mazes', 'maze', 'mazes', 'the topiary or hedge maze', 'what', 'maze solver', 'a maze and a labyrinth', 'mazes', 'maze solver', 'joins', 'mazes', 'repairs', 'maze', 'logic mazes', 'mazes', 'what', 'maze', 'what', 'mazes', 'gardening', 'turf or faced with stone', 'grass turf', 'mazes', 'what the walls', 'turf or clod', 'turf maze', '', 'turf maze', 'what was mercian mysteries', 'what is the path and what is the wall', 'christian culture & churches', \"what we 're copying\", 'turf mazes', 'what', 'turf mazes', 'mazes on computer', 'yew hedge stone labyrinth', 'lsb- edit quickset hedge', 'maze', 'turf labyrinth', 'essex', 'united kingdom : turf mazes united kingdom : hedge mazes united'] , mazes\n",
            "93 50 ['rocky mountain wasatch range', 'snowy range', 'cypress mountain', 'front range crested butte', 'beavercreek mountain', 'eldora', 'tenmile range', 'teton range', 'ruby mountain range', 'great smoky', 'aspen', 'red mountain', 'grand teton', 'wasatch mountain range', 'skeena', 'aspen mountain', 'gallatin mountains', 'copper mountain village resort', 'aspen / snowmass', 'catskill', 'aspen highlands', 'aspen mountain', 'rocky', 'aspen highlands', 'the rocky mountains', 'ruby', 'copper mountain , keystone , and breckenridge', 'alberta rockies , the coastal range in british columbia , the rugged interior mountains , or the laurentian mountains', 'crystal mountain', 'columbia mountains', 'gallatin range big sky', 'sunlight', 'copper mountain', 'rocky mountain', 'alberta rockies', 'the range is identified as the western edge of the rocky mountains', 'buttermilk', 'which', 'aspen', 'yellowstone', 'kicking horse', 'big horn range', 'rocky mountains', 'colorado', 'victoria glacier', 'colorado ski resorts colorado has some of the biggest names in ski resorts , such as aspen -lrb', 'rocky mountains', 'on-mountain', '', 'pitkin county airport'] , rocky mountains\n",
            "94 50 ['sir joseph wilson swan', 'warren de la rue', 'john swan', 'sir joseph wilson swan', 'warren de la rue', 'warren de la rue', 'sir joseph wilson swan', 'thomas edison', 'a. n. lodygin', 'willis whitnew', 'willis whitnew', 'alexander nikolayevich lodygin', 'willis whitnew', 'sir joseph wilson swan', 'a. goss', 'joseph swan', 'thomas edison', 'joseph swan', 'thomas alva edison', 'lucien vidie', 'benjamin franklin', 'sir humphry davy', 'humphry davy', 'humphry davy', 'herman sprengel', 'humphry davy', 'edison', 'humphry davy', 'lucien vidie', 'edison', 'edison', 'an electric dawn', 'latimer', 'swan and edison', 'edison', 'edison', 'fox', 'philips', 'who', 'swan', 'wikivisual francais', '1879', '1879', \"this was the world 's first electric light bulb .\", \"he invented an `` electric candle '' arc light in 1877\", 'he changed the lives of millions of people with such inventions as the electric light bulb and the phonograph', 'incandescent light bulb', 'an electric curr', 'evaporation of the filament', 'filament'] , joseph swan\n",
            "95 50 ['dog', 'silk worms', 'sheep', 'goats', 'dog', 'reindeer reindeer', 'dogs', 'dogs', 'reindeer', 'animal farm animal husbandry', 'cow', 'sheep', 'plants', 'dogs', 'plants', 'chickpeas garbanzo beans chickpeas', 'rice', 'wheat domestication wheat', 'annuals', 'e echinoderms', 'crops', 'what is the biggest animal ever to exist on earth ?', 'goats', 'wiktionary', 'pet wolf pups', 'what is meant by animal rights', 'animal husbandry', 'feral', 'what it all means', 'food', 'vegetarian diet', 'conceptual art', '', 'temperament', 'it was first cultivated in asia', 'male antelopes', 'what', 'animal mac & pc wallpaper free animals', 'animal domestication', 'vinyl toy animal figures from many miniatures', 'animal diets', '', 'cats or dogs', 'human instruction', 'city states and eventually the rise of civilization', 'wild counterparts', '', 'cities appeared ,', 'domesticated animal wallpaper originals', 'animal rescue coalition : mission statement * the animal rescue coalitions nova scotia'] , dog\n",
            "96 50 ['no spleen visible', 'what', 'bilateral symmetry', 'cold blooded', 'no torn fins', 'nervous', 'no other animal has hair in either of these localities , or has an under eyelash', 'a b', 'prob', 'not fish', 'a tail', 'dolphins', 'fins instead of legs', 'limbless aquatic vertebrate animal with fins and internal gills', 'the fish has breathing problems , clamped fins , and loss of appetite', 'carnivorous', 'muscular/skeletal a fish has an inner skeleton', 'no fish has a neck', 'marine fish', 'animal names', 'every animal in the world belongs to one of them .', 'the lobster is red', 'scraped or damaged its skin or gills', 'reptiles reptiles are a class of animal with scaly skin', 'crab a crab is an animal with a shell', 'limbless aquatic vertebrate animal with fins and internal gills', 'there are more species of fish than of any other kind of vertebrate animal', 'it is five-toed', 'hair on its body', 'fish are more sensitive to temperature than any warm-blooded animal', 'a backbone , fins , and a two-chambered heart', 'gills , scales and fins', 'fish color', 'a backbone , fins , and a two-chambered heart', 'breasts', 'no instance known of an animal , whether fish or bird', 'without a gall-bladder', 'a solid-hooved animal with a pair of horns has never yet been met with .', 'highly animal', 'consumption has changed .', 'jawed', 'dermal bone', 'a fish is an animal which lives and breathes in water .', 'lungfish , the gas bladder has evolved into a lung', 'the difference in weight of a fish which has been in the sea two winters', 'dog', 'fish links fish faq', 'overfishing has also rendered some fish less able to survive', 'and human waste has killed millions of fish .', 'fish'] , gills\n",
            "97 50 ['rectangle', 'parallelogram', 'rectangle', 'quadrilateral', 'equilateral triangle', 'parallelogram', 'scalene triangle', 'rectangle', 'a pentagon', 'rhombus', 'rhombus or rhomb', 'kite a kite', 'kite', 'a square', 'rectangle', 'octagon', 'rectangle', 'regular polygon', 'the rhomboid', 'square a square', 'equiangular', 'square a rectangle', 'square', 'square a square', 'isosceles triangle', 'a diamond', 'square', 'square', 'rectangle', 'equilateral triangle the sides of an equilateral triangle', 'an equilateral triangle', 'square', 'square', 'squares , rectangles', 'figure 3 a square', 'quadrilateral', 'square', 'square', 'quadrilateral with 3 right angles & 1 acute angle', 'rectangle is a parallelogram with four right angles , while a square', 'square regular quadrilateral', 'square', 'figure a', 'square', 'the shape', 'it has opposite sides that are congruent and parallel and it has four right angles', 'right angles', 'the shape', 'it has all the same sides and the same angles', 'all three sides the same length'] , rhombus\n",
            "98 14 [\"what 's you favourite muse song\", 'what', \"what 's the catch\", 'what are groups', 'what are you waiting for , sign up !', 'what are groups used for ?', 'thai login home', 'what are special internet rates ?', \"what 's my password\", 'birds australia home about ba', 'hotels flights', 'everything what you can wish for your sims', 'what does a community supporter account do ?', 'what is the sum of 4 and 1'] , group of islands\n",
            "99 50 ['ralph edwards', 'bob barker', 'ralph edwards', 'ralph edwards', 'cecil underwood', 'william shatner', 'ralph edwards', 'ralph edwards', 'ralph edwards truth or consequences', 'ralph edwards', 'truth or consequences', 'truth or consequences', 'truth or consequences', 'truth or consequences', 'ralph edwards', 'truth or consequences', 'truth or consequences', 'who wants to be a millionaire', 'truth or consequences', 'truth or consequences', 'truth or consequences', 'alph edwards', 'garagiola', 'truth or consequences', 'truth or consequences', 'john shrum', 'truth or consequences', 'wikipedia', 'wikipedia', 'wikipedia', 'wikipedia', 'truth or consequences', 'ralph edwards may not be from truth or consequences', 'wikipedia', 'truth or consequences', 'wikipedia', 'truth or consequences', 'ralph edwards', 'truth or consequences', 'truth or consequences', 'truth or consequences', 'truth or consequences', 'edwards', 'he was the first host to have a male category champ .', 'truth or consequences-sierra county , nm chamber of commerce', 'truth or consequences', 'consequences , or the heroes episode truth & consequences', 'truth or consequences', 'com - truth or consequences', 'truth or consequences florists'] , ralph edwards\n",
            "100 50 ['1832', '1874', '1767', 'midway through the nineteenth century', '1807', '1963', 'when bottled', 'history', '1956', 'when it reaches a temperature of 347 degress', '`` 17 obscure brands of soda pop', \"georgia - soda find soda in georgia 's online local search\", 'soda and pop rocks urban legend', 'so far , grigg had invented two orange', 'leninade', 'pop up removal software what makes pop rocks pop onli', 'homemade', 'many a youngster has enjoyed a packet of the popular pop rocks candy .', 'soda pop', 'pop versus soda', '', '', 'dr. eggman invented soda .', '', '', '', 'carbonated , thirst-quenching pleasure of soda pop can not be surpassed .', '', 'it still tastes great', 'wikipedia', 'that robert m. green invented the now familiar ice cream soda .', '', 'bad', 'freshest flavored seltzer and soft drinks', 'then his second soft drink , an orange', 'ag', 'soda versus pop', \"`` pop '' came not from the composition of the product\", 'regionally cold drink , drink , pop1 , soda , soda water , tonic .', 'beverages carbonated club dispenser drinks', 'soda pop facts soda pop fizz soda pop carbonat', \"georgia - soda find soda in georgia 's online local search\", 'beverages carbonated club dispenser drinks', 'carbonated soft drinks', 'beverages carbonated club dispenser drinks', 'whooppee soda `` the bottled joy', 'rose-lime', 'pop rocks', 'frozen fruit puree , fruit juice , or flavored sugar water', 'soda'] , 1807\n",
            "101 50 ['set', 'set', 'horus horus', 'seth', 'hades', 'seth', 'nu', 'aten', 'sobek', 'set', 'poseidon', 'odin', 'hermes', 'ra ra - ra', 'ra', 'thor', 'zeus', 'egyptian lion god', 'seth', 'hephaestus', 'apollo', 'egyptian lion god', 'phoenix ra', 'ash', 'anubis', 'ash', 'heru-ur -lrb', 'seth', 'a male mythology on zeus one hunred heads greek', 'phoenix', 'set', 'lord of libya', 'earthquakes', 'set -lrb', 'sekhmet', 'egyptian mythology', 'goddesses', 'arabian mythology', 'egyptian', 'egyptian gods names .', 'egyptian mythology site - snippets of egyptian mythology', 'egyptian mythology site - list of names from egyptian mythology', 'egyptian mythology put up surprisingly little resistance to the spread of christianity .', '', '', 'egyptian mythology articles', 'human body and animal head', 'ancient egyptian mythology', 'egyptian gods', ''] , ash\n",
            "102 50 [\"ryan 's daughter\", 'the big sleep', 'tunes of glory', 'king rat', \"ryan 's daughter\", 'oh !', 'the human factor', 'zulu dawn', 'great expectations', 'quatermass', 'night of the fox', \"ryan 's daughter\", 'deadly advice', 'the end of the affair', 'sands of iwo jima', 'gandhi', 'this happy breed', 'night of the fox', 'car of dreams', 'no coward', 'the rocking horse winner who did john mills portray in operation crossbow', 'the swiss family robinson', 'the end of the affair ?', 'great expectations', 'morning departure', 'a beautiful mind', 'scott of the antarctic', 'goodbye , mr. chips', \"who 's that girl ?\", 'the big sleep', 'hamlet', 'bean ?', 'the history of mr. polly', 'operation crossbow', 'tunes of glory', 'in which we serve', 'which', 'which', 'in which we serve 1942', 'which of these movies did not produce an oscar for jack nicholson', 'alfred hitchcock', 'which of these movies did not produce an oscar for katharine hepburn', 'in which we serve', 'lrb', 'ledger', 'michael -lrb', 'oscar nomination', '', 'the film', ''] , ryans daughter\n",
            "103 50 ['heliographs', 'prussian', 'heliographs', 'files', 'wireless', 'water carriers', 'telegraph system', 'semaphore lines', 'observation balloons', 'they were first introduced at the battle of somme in limited numbers', 'they were partly an extension of conflicts sparked by the french revolution', 'communication barriers', 'motorized weapon', \"the french army had 300,000 troops fighting the coalition 's forces\", 'access-to-procedure discriminant', 'they were first deployed at the battle of somme in limited numbers', 'french revolutionary wars', 'the french army left boulogne and moved towards austria', 'a shutter type', 'flags and communication semaphore', 'communication technology in telecommunications', 'heliograph', 'infantry', 'transatlantic two-way radio broadcast', 'the first attempt to crush the new french republic was made in 1792-1797 by the first coalition', 'french , italian ... communication communication is the systemic process of exchanging information between parties', 'single french corps', \"the ` concept ' of communication\", 'republican armies', 'corps were first formed in 1800 , when general moreau divided the army of the rhine into 4 corps', '', \"the great army '' or `` the grand army '' first enter\", 'heliograph', 'communication apprehension', '', 'the french army peaked in size in the 1790s when about 1.5 million frenchmen were enlisted .', '1792-1804', 'radar', 'flashes', '', 'system of communication and media of communication', '', 'combat support', '', 'ipc', '', 'communication barriers', '', 'there are a number of theories of communication that attempt to explain human communication', ''] , semaphore\n",
            "104 50 ['wild foods', 'nuts', 'sticks', 'conspiracy nuts', 'zanzibar copal', 'cream nuts', 'grain', 'wild strawberries', 'hedge laying', 'walnuts', 'pales', 'copals', 'berries', 'clumps', 'heating.nbsp', 'nuts', 'rsb', 'gum', 'apples', 'three different laser powers used in a cd-rewritable recorder', 'astrophysical plasmas', 'the deepest kind', 'picturesque', 'iranian and mughal gardens', 'plants', 'fruit', 'nature', 'animi', 'its kind master', 'stone or ceramic', 'orphaned', 'clog dancers', 'gathering', 'h4-xedtax -', '', 'romantic', 'it became very tame', '', 'norsemen', 'orphan', 'f ferme ornee ferme ornee', 'serpentine style', 'appears to be a strong term .', 'tubs', '', '', '', '', 'plasma', 'whatever images'] , walnuts\n",
            "105 50 ['stringfellow', 'i', 'guitar', 'handgun', 'what', 'flying', 'prodigy', 'what would he do', 'finale', 'string', 'what', 'fentone', 'what is he up to i wonder .', 'what fate', 'what kind of condition', 'play along', 'eats', 'fentone', 'what', 'what', 'what', 'a touch', '', '', 'dancing rabbits', 'red star', 'what were the names of the two pilots', 'stringfellow', 'recovering stolen property', '', '', '', '', '', 'war record', 'explosions', 'seb', '', 'airwolf', '', 'what hawke did .', '', 'billy', '', '', 'do', '', '', \"airwolf 's inherent capabilities are astounding\", 'versatility'] , cello\n",
            "106 50 ['amsterdamamsterdam', 'la chaux-de-fonds', 'stockholm', 'prague', 'ticino', 'geneva', 'geneva', 'brno', 'geneva', 'damascus', 'bonn', 'rotterdam', 'geneva', 'burgenland', 'geneva', 'geneva', 'czechoslovakia', 'sun belt american', 'european city of culture', 'the german', 'rotterdam', 'which', 'brussels', 'mexico city', 'rotterdam', 'swiss', 'le locle', 'rhine', 'brunswick', 'worl', 'swiss', 'city centre', 'encyclopedia', 'united nations', '', 'home earth continents european countries capital cities of europe international cities ___ capital cities of europe', 'the official capital', 'city mayors : the 500 largest european cities', '', 'city mayors', 'world time zone', 'european states', '', 'show my world clock', 'yesterday', '', '', 'the integration of business and ngos representatives in the decision-making process has unfolded another form of world governance .', '', 'show my world clock'] , geneva\n",
            "107 50 ['leoncavallo', 'ruggero leoncavallo pagli', 'alessandro stradella', 'ruggero leoncavallo pag', 'ruggero leoncavallo pagliacci', 'stanislao gastaldon', 'timothy mangan', 'ruggero leoncavallo', 'ruggiero leoncavallo', 'leoncavallo', 'pietro mascagni', 'ruggiero leoncavallo', 'gershwin and desylva', 'leoncavallo', 'jacopo peri', 'bed ich smetana', 'bedyich smetana', 'bedyich smetana', 'leoncavallo', 'ruggero leoncavallo', 'emmanuel chabrier', 'anton n dvoy k', 'leoncavallo', 'beethoven -lrb', 'alexander borodin', 'beethoven -lrb', 'groucho marx', 'mozart', 'mozart', 'leoncavallo', 'rusalka', 'johann strauss ii', 'leoncavallo', 'leoncavallo', 'who', 'russian composer', 'san francisco opera guild', 'stevie wonder', 'he', 'leoncavallo', 'what the hell !', 'himself', '', 'his only major success was the opera i pagliacci -lrb', 'he composed many operas , but his greatest triumph was `` i pagliacci', 'cover of the first edition of pagliacci', 'leoncavallo-pagliacci', 'cavalleria rusticana', 'recitar !', '`` i pagliacci'] , leoncavallo\n",
            "108 50 ['lothar', 'rebecca piper', 'lothar', 'lothar', 'coe norton', 'lothar', 'lothar', 'phil davis', 'douglas', 'ud', 'phil davis', 'lee falk', 'lothar', 'professor jonathan chase', 'coe norton', 'jed', 'maggie day', 'superman', 'lothar', 'the phantom magician', 'jakob', 'a lady', 'peter boie', 'migration assistant', 'flying g-men', 'black panther', 'mandrake', 'lee falk', \"mandrake the magician 's assistant\", 'falk', 'storm and the black panther', 'leon mandrake', 'jim shepherd', 'man of steel', 'jim shepherd', 'mike podgorski', 'lee falk', 'lee falk , phil davis', 'mystery', 'mandrake', 'taika-jim', 'mandrake', '047', 'happy dollar', 'wikipedia', 'mandrake the magician at king features', '2002', 'mandrake', 'wikipedia', 'serial'] , lothar\n",
            "109 50 ['battlefield', 'blanchisseuse', 'chancey', 'a ladder or stairs', 'amy', 'ancelin female old french a spear attendant', 'belle female french beautiful', 'cherish female', 'the brown one', 'clan and belle', 'chance male', 'bruce male old french woods', 'azura', 'bayley male', 'ina from krugersdorp , south africa what a beauty !!', 'faire', 'bootmaker', 'english english-dutch', 'locutions and proverbs', 'ayer male old french an heir', 'bonar male', 'bogart male old french/teutonic a strong bow', 'chance female', 'chandler male old french candle maker', 'beauregard male old french beautiful , handsome .', 'knight , chase , hunt', 'chapin male', 'a beautiful hill or mountain', 'cheyney male old french from the oak grove', 'bailey male', 'gracious , gentle .', 'a dweller in the oat field', 'bruyere 35 musical instruments', 'aveline female old french from a placename', 'a collection of more than 800 proverbs , idiomatic expressions , adages and old saying', 'stephanie from toronto , canada what a beautiful shot !', 'cain', 'bayard male old french with reddish-brown hair', 'audric male french', 'chauncey male old french a church official or chancellor', 'channing male', 'butler male old french', 'from the wood , or forest', 'bellamy male old french', 'cheney male old french from the oak grove', 'burgess male old french from teutonic', 'belle , bonne , sage', 'english proverbs', 'chaney male old french from the oak grove', 'clark male old french'] , fair maiden\n",
            "110 50 ['the cognac region of france', 'chilled over ice', \"hors d'age\", 'brandy balloon', 'where can you buy cognac', 'very superior old pale , reserve', 'cognac', 'calvados , the apple brandy from the normandy region of northwestern france', 'armagnac tulip-shaped glasses', 'who', 'where can you learn more about cognac and brandy', 'xo extra old', 'vsop very superior old pale', 'wines', 'distillery', 'cognac', 'where im finding some of the best stuff : need proof', 'online', 'a tulip shaped glass or a snifter', 'a brandy snifter', 'where did it come from anyway ?', 'cognac', 'xo extra old', 'most whiskeys were bottled at a higher proof', 'a tulip-shaped glass or a snifter , at a cool room temperature', 'cognac', '80 proof', 'lewiston , maine', 'fruit', 'vintage port', 'single ch teau or domain', 'cask', 'unfiltered wines', 'where any of them', 'vintage', 'vintage - stored in the cask', 'britain', 'firefox 2.0 + .', 'germany , greece , italy , portugal , australia and south africa', 'wine', 'almost all the production exported', 'its name comes from the region where these grapes are grown .', 'tennessee whiskey bottled from a single barrel at a time .', '', 'where to learn more books', 'sale', 'a bottle', 'the armagnac does not age , and can be bottled for sale from the next year on .', 'gravy', 'seattle'] , cognac\n",
            "111 50 ['marshal of the soviet union', 'hero of the socialist labor', 'order of victory', 'hero of the soviet union', 'order of suvorov of the 1st degree', 'geroy sovetskogo soyuza', 'r6', 'hero of the soviet union', 'lsb- 1 -rsb', 'what is the state', 'hero of the soviet union', 'communist party', 'hero of the soviet union', 'hero of the soviet union', 'lsb- 3 -rsb', 'hero', 'order of the red banner', 'the return', 'distinguished military navigator of the soviet union', \"honor of the 100th anniversary of v.i. lenin 's birthday\", 'malinovsky', 'the order of honor replaced the order of the badge of honor', 'order of honor order for personal courage', 'what accomplice of marxist socialism would dare to deny it', 'distinguished military pilot', 'hero of the socialist labor', 'the highest executive body was the politburo .', 'the highest government legislative body was the supreme soviet .', 'the highest legislative body was the supreme soviet .', 'order of the badge of honor', 'the medal was named in honor of the famous russian naval commander , admiral pavel nakhimov .', \"v.i. lenin 's birthday\", 'the medal was named in honor of the famous russian naval commander , admiral f. f. ushakov', '', 'the oas is what its states want it to be at a given time in its history', 'top military leaders', \"congress of people 's deputies\", 'what does the satellite', '', '', 'we remain your with the highest consideration and respect', 'military history', '', '', '', 'the soviet military consisted of five armed services .', 'soviet military awards page', 'the highest governmental body of the soviet union', '', ''] , order of lenin\n",
            "112 50 ['howard hawks', 'howard hawk', 'john wayne', 'richard widmark', 'john wayne', 'john wayne', 'john wayne', 'john wayne', 'howard hawks', 'john wayne', 'john', 'gary cooper', 'hawk', 'john wayne and montgomery clift', 'john wayne', 'john wayne', 'meyer', 'john ford', 'john wayne montgomery clift', 'john wayne', 'john wayne and walter brennan', 'montgomery clift', 'john wayne', 'john wayne', 'montgomery clift', 'john wayne and montgomery clift', 'john wayne and montgomery clift', 'john wayne', 'john wayne and montgomery clift', 'wayne and clift', 'matthew', 'wayne', 'howard hawks', 'dmitri tiomkin', 'john wayne', 'john wayne , montgomery clift , and walter brennan', '', 'john wayne', 'john wayne', '', '', 'pg red river', 'john wayne', 'the master of a vast cattle ranch', 'wayne', 'the indian', '', '', 'in red river', ''] , montgomery clift\n",
            "113 50 ['ladybugs', 'ladybug', 'flea chenopsylla cheopsis', 'ladybugs', 'ladybugs', 'mediatrix', 'ladybeetles of the virgin mary are the basis for the current name , lady beetle', 'icon', 'beetle of our lady', 'marian', 'bug', '`` beetle', 'bug', 'ladybugs', 'ladybird', \"our lady 's birds\", 'dormition', 'bugs', 'marienvoglein', 'immaculate heart of mary', 'perpetual virginity', 'scapular', 'beetles', 'new -lrb', 'salve regina', 'mariposa', 'the cult', 'mariology', 'parasitoids', 'thorax -lrb', 'st. anne', 'immaculate conception', 'eve', 'miraculous medal', 'apparitions', 'the insect', 'insect', 'the insect has wings', 'the insect after mary , jesuss mother , who is also known as our lady .', 'feast', 'st. joachim', 'shrine', 'the cult', 'christ', 'farmers', 'christ child', 'jesus christ', 'marian congresses', '', 'papyrus'] , ladybird\n",
            "114 50 ['citizen kane', 'reservoir dogs', 'the tempest', 'film noir', 'the lady eve', 'the maltese falcon', 'the beeline - culture : films & movies films & movies', 'film noir', 'ali mcgraw love story', 'the black bird', 'the maltese falcon', 'the treasure of the sierra madre', 'falcon', 'the maltese falcon/body heat', 'the maltese falcon', 'fantasy', 'batman : the animated series', 'body heat', 'the petrified forrest', 'the alchemical wedding of mark knopfler', 'legends', 'gravity : what a bummer or , why the femme is so darned fatale', 'greatest last film lines', 'crime / noir / thriller', 'what was the best film', 'movies made before 1992', 'humphrey bogart', '1221', 'the stuff that dreams are made of', 'mary astor', 'field of dreams', 'bogart to the falcon', 'film noir', 'the words seem to mumble it so .', 'the hero', 'postmodernism', 'film', 'spade', 'it', 'warner bros. could not re-release the film', 'last line .', \"it 's the stuff dreams are made of .\", 'a comedy', 'comedy', 'lrb', 'madam bovary on film', 'film concludes , or they can be great one-liners', '', 'lrb', 'lrb'] , maltese falcon\n",
            "115 50 ['to store acorns', 'the habit of some species of tapping and pecking noisily on tree trunks with their beaks', 'mysterious', 'in order for the woodpecker to feed on the bees and eggs', 'prefers a birdhouse with rough interiors and the floor covered with wood chips', 'eating , establishing territory , attracting mates , and nesting', 'only peck for food', 'to eat them', 'they had a tree that no woodpecker could peck .', 'do more than peck at their prey', 'absolutely un-peckable', 'in search of insects beneath the surface', 'driving a nail into the wall with his head', 'bewildered', 'it sound scary', 'why woodpeckers suffer no brain haemorrhage', 'why are there no birds at the feeder', 'to peck holes into trees', 'why logs are ecologically important parts of the natural system', 'what sort of wildlife', 'this is not the only reason why woodpeckers prefer pine trees', 'neither one was able to peck the tree in their own state', 'it sounds like a sharp knocking at jackhammmer speeds', 'tree-climbing , wood-boring bird', 'serves the same purpose that singing', 'general biology', 'why', 'disappear', 'why do flamingos stand on one leg', 'what other sort of wildlife', 'they have also been known to peck at buildings , siding , metal and/or air conditioners', 'almost as fatal a habit', 'why are there so many ladybugs at my house ?', 'epoxy cures', 'tomato', 'drilled any number of large holes into the wood .', 'give them something else to peck on .', 'any woodpecker', 'nothing happens to it', 'hop a few inches away and peck at another place', 'least concern', 'the holes', 'food', '` peck wood bird', 'eggs', 'any black and white woodpecker , especially the european great spotted woodpecker', 'why leaves change color in the fall', '` to peck', 'bird', ''] , to get insects below bark\n",
            "116 50 ['good luck and good fortune', 'bad luck', 'unlucky', \"the devil 's luck\", 'what', 'good luck', 'bad luck', 'bad luck', 'unlucky', 'bad luck', 'bad luck', 'good luck', 'good luck', 'bad luck', 'good luck', 'good luck', 'good luck', 'cattle', 'if you dream of a multicolored cat , you will have luck making friends', 'a long life', 'seven years of bad luck', 'dream of your future lover', 'if the eggs bursts', 'well', 'what', \"a hair the color of the person 's hair\", 'rue the day', 'rue the day', 'fantasy-based ideal', 'a lot of enemies', 'the person whose name you were saying when the stem fell off .', 'marry in lent', 'dream interpretations', 'if you look under the bed , you will never marry', 'no better woman than a filipina woman', 'that is the number of children', 'marry in june and your husband will treat you well', 'if anyone sweeps around you , you will never marry', 'self-derived lucky numbers', 'hiccups', 'the one you are to marry will answer you', 'bad luck', \"to show the evil spirit that you did n't mean what you said .\", 'special personalities associated with each of the signs .', 'halloween', 'when you peel an apple say the alphabet and the letter', 'so you still want to marry a filipina', 'every day', \"can you give the definition of `` superstition ''\", 'do you know anyone who does not have a superstition ?'] , no luck at all\n",
            "117 50 ['france', 'ukrainians', 'egypt', 'india', 'french', 'russia', 'moldova', 'croatia', 'catalonia', 'jordan', 'suriname', 'serbia and serbs', 'serbia', 'bpr', 'kingdom of the two sicilies', 'european coal and steel community', 'the slavic , or orthodox or russian cross', 'republic of poland', 'top half', 'united states', 'south ossetia', 'serbia', 'the maple leaves at the bottom of the shield', 'serbia', 'the original medieval coat of arms', 'on a ribbon', 'turkish republic of northern cyprus the flag of the turkish republic of northern cyprus', 'silver', 'the flag of monaco', 'top , and black', 'lrb', 'bohemia', 'yugoslavia', 'on a white ribbon', 'on a red ribbon', 'green', 'the flag is a plain red background , with two small green stripes on the top and bottom', 'top , and black', 'on a silk ribbon', '', 'green-white-red-white-green', 'the remainder of the flag is medium blue', 'top in the white field', 'the remainder of the flag is medium blue', 'the current design has the white as the background , and the red is the color of the design', 'red top and white bottom', 'corner', 'the flag with the two bars next to the ornament', 'blue', 'the top one is white and the bottom'] , poland\n",
            "118 50 ['johann sebastian bach', 'johann sebastian bach', 'christian ludwig , margrave of brandenburg in berlin , 1721', 'j. c. bach', 'bach', 'bach', 'johan de meij', 'johann sebastian bach', 'bach', 'baroque composers', 'berkofsky', 'samuel a. ward an', 'bach', 'hegel', 'carl philipp emanuel - bach', 'bach', 'bach gesellschaft', 'full orchestra -lrb', 'the six brandenberg concertos bwv 1046-1051', '', 'fox', 'his concertos for other instruments', '', 'full score for string quartet', 'he moved in with his brother', 'amplified string quartet', 'soloists , chorus , full orchestra', 'he', 'men who appreciate all kinds of women and rubens for women who worry too much about their appearance .', 'for full orchestra score', 'brandenburg concertos date from this period .', 'full score - study for string quartet', 'fidelio in full score', 'carmen in full score', 'this edition : full score .', 'full score notation', 'missa solemnis in full score', 'great romantic violin concertos in full score', 'the six brandenburg concertos & the four orchestral suites in full score', 'christmas oratorio in full score', 'complete concertos for two or more harpsichords in full score', 'the three violin concerti in full score', 'full-size , full-score format .', 'sheet music titles', 'full score notation and standard notation', 'complete piano concertos in full score', 'his orchestral works include the six brandenburg concertos', 'full score notation and performance notes', 'full score notation and introductory text', 'eleven great cantatas in full score'] , johan sebastian bach\n",
            "119 50 ['cunnus was the basic latin word for the vulva', 'excrement', 'well spoken', 'hebrew', 'mentula', 'ingenious', 'hypochondria', 'delta wordman pronounced', 'what is a dinosaur', 'tail', 'sextant', 'snapple', 'courage', 'kulli', 'wanger', 'verpa', 'awesome', '`` to expose for public sale', 'apropos', 'barbarian', 'what is the meaning of the name dudley', \"what is the similar word to z what is unusual about a camel 's eyelid\", 'de brus', 'six in italian', 'mictur re became the accepted medical word meaning `` to urinate', '` to urinate', 'what is a morpheme', 'poignant words spelled with aw', 'mrs', '`` witnesses', 'mulkku', 'graecia', 'mastiff', '` duck', 'ejaculari', 'what is the origin of chevrolet', 'uriniferous', 'what is the origin of buck', 'cable', 'downtown', 'disease word whomp whackdown cheats word impeach spell congress people april', \"`` middle '' , and related to the english prefix mid - , latin medium\", 'two , apart , divided , asunder', 'nymphe , meaning bride', 'fuck', 'germanic', \"what salvadoreans say so i 'm pretty sure it 's used elsewhere in latin america .\", 'two word wall word cards', 'genitals', 'abbreviations'] , tail\n",
            "120 50 ['1881-1973', 'picasso', \"les demoiselles d'avignon\", '1881-1973', 'modernist period', 'cubist sculpture picasso', 'cubist', 'pablo picasso', 'cubism', 'pablo picasso', '1973', 'pablo ruiz-picasso spanish , 1881-1973', 'spanish painter and set designer .', 'picasso was the main analytic cubist , but braque', 'pablo picasso', 'picasso', 'their opera four saints in three acts was one of the frontrunners in the modernist movement .', 'picasso', 'juan gris', 'ruiz y blasco', 'pablo ruiz picasso', 'picasso', '25th', 'oil painting', 'pablo picasso', 'gertrude stein', 'an artist', 'pablo picasso', 'pablo picasso', 'picasso', 'this is considered by many the first cubist painting .', 'pablo picasso', 'pablo picasso cubism paintings and works from his middle career by the famous spanish artist .', 'pablo picasso', 'pablo picasso', 'french and spanish .', 'pablo picasso', 'pablo picasso', 'picasso pablo picasso , an', 'pablo picasso', 'the style is cubist .', 'ferdine', 'it is a cubist style .', '', 'pablo picasso cubism paintings - online gallery of cubist paintings by pablo picasso', 'pablo picasso pablo picasso', 'kelvin says : 2008 oct 14 19:14', 'these words are practically the same .', 'the reception of the audience to something new .', 'his early paintings were in the modernist spanish tradition'] , picasso\n",
            "121 50 ['mistletoe', 'mistletoe', 'mistletoe', 'mistletoe', 'what is 10 +7', 'mistletoe i', 'yellow roses', 'bell flower , pyramidal constancy', 'mistletoe', 'what', 'sacred plant of india', 'traditional', 'game , sport', 'what', 'what', 'red', 'uncertainty', 'flower `` stuff', 'juno', 'to surmount difficulties', \"what if i 'm in the wrong river bed\", 'ficus religiosa', 'conquering fairness', 'the rose stands alone in its abundant history and color meaning', 'godiva flower meanings', 'exactly what', 'hawthorn', 'they', 'water', 'meanings', 'tattoos', 'flower of the gladiators', 'a tree', 'flower', 'street banner', 'i want to be kissed', 'body', 'i surmount everything i surmount difficulties', '', 'flower of the month', 'i', 'i surmount all difficulties', 'floral messages', '', '', 'tattoo', '', 'what you want it to represent', 'god stands erect with the left foot slightly advanced , and the hands outstretched .', 'flower tattoo near her ankle , and believe it or not , that alone was enough to discipline the students'] , mistletoe\n",
            "122 50 ['recommended tours shopping & culture morning breakfast', 'home what the f * & % ?', 'family tree', 'promotional team', 'simply red', 'band leader of simply red what', 'what a girl', 'what thrills me', 'wikipedia', 'mick frost over the world', 'beside you', 'vanilla ice what a night !', 'mick photo enjoy !', 'more information', 'wikipedia', 'mick flannery in studio', 'america', 'simply red', 'having a baby', 'frantic elevators', 'simply red', 'wikipedia', 'noel gallagher', 'watch the interview with rory stewart', 'heitor which featured guest appearance from mick hucknall on the track `` manchester', 'noel gallagher slams mick hucknall after manchester comment', 'simply red 25 : the greatest hits - uk simply red news', 'unico ed indiscusso dei simply r. . .', 'joy division , the smiths and buzzcocks', 'having a baby', '', 'slams mick hucknall after manchester comment noe', 'guestbook', \"they 're oasis older and they set their bar from earlier\", 'mike + the mec', 'simply red', 'holidaychat', 'celebrity link oasis home', 'succeeded by different class by pulp v d e simply red', 'an album celebrating the blues legend bobby bland', 'pop singer mick hucknall proudly showed off his baby girl during a family trip to paris', 'musicians forum', 'tell other readers what you think', 'the label was formed in 1993 by steve barrow , bob harding', 'blog evidenziato stars', '', 'princess theatre', 'one last world tour', 'his own name', 'the band were due to split in 2010'] , manchester\n",
            "123 50 ['the fall of the house of usher', 'house of usher', 'the fall of the house of usher', 'house of usher', 'the fall of the house of usher', 'the fall of the house of usher', 'the house of usher', 'house of usher', 'the fall of the house of usher', 'the fall of the house of usher', 'house of usherampquot', 'the fall of the house of usher', 'house of usherwhich', 'the fall of the house of usher', 'the fall of the house of usher', 'the fall of the house of usher', 'the fall of the house of usher summary', 'the fall of the house of usher', 'the fall of the house of usher', 'house of usher', 'the fall of the house of usher', 'the fall of the house of usher', 'the fall of the house of usher poe', 'the fall of the house of usher', 'house of usher', 'the fall of the house of usher', 'the fall of the house of usher', 'house of usher download', 'red death', 'the fall of the house of usher', 'the fall of the house of usher', 'the angel of the odd', 'the fall of the house of poe', 'the angel of the odd story', 'the raven', 'the purloined letter', 'the fall of the house of usher', 'unity', 'the oblong box', 'the fall of the house of usher', 'fall of the house of usher', 'the black cat', 'the fall of the house of usher', 'favorite poe story ?', 'the fall of the house of usher', 'poe , edgar allan definition of poe', 'macabre', 'letters to dead authors - edgar allan poe edgar allan poe biography', 'a short story by edgar allan poe ends with irony .', 'boston'] , house of usher\n",
            "124 50 ['new zealand', 'new zealand', 'new zealand', 'new zealand', 'new zealand', 'new zealand', 'new zealand', 'new zealand', 'new zealand', 'australiaaustralia australia', 'new zealand', 'new zealand', 'new zealand', 'new zealand', 'new zealand', 'new zealand', 'new zealand', 'new zealand', 'new zealand', 'new zealand', 'australia', 'new zealand', 'new zealand', 'finland', 'new zealand', 'new zealand', 'new zealand', 'new zealand', 'grand duchy of finland', 'british commonwealth', 'new zealand', 'isle of man', 'isle of man', 'new zealand', 'new zealand', 'finland', 'new zealand', 'finland', '1878 senator a.a. sargent introduces an amendment to the constitution of the united states', 'british colony', 'new zealand', 'new zealand', 'most states', 'new zealand', 'the country became the first nation in the world', 'first country to give both rights to all women regardless of wealth , race or social class .', 'it was not a `` country', 'in the 1893 general election', '1893', 'electoral act 1893'] , new zealand\n",
            "125 50 ['uranus', 'uranus', 'mercury', 'mercury', 'mercury', 'mercury', 'mercury', 'venus', 'blown away', 'venus', 'mars', 'uranus', 'uranus', 'mercury', 'martian', 'jovian', 'planet saturn', '23,27', 'venus', 'jupiter', 'our planet screensaver 1.0 peop', 'it has no natural satellites', 'earth', 'the axis of rotation tilt is 98 degrees .', 'jup', 'it is about 83 percent hydrogen', '', 'it has only the wisps', 'earth', '', '24 % helium', 'near earths surface', 'jupiter', 'weight metal , and 30 percent by weight silicate', 'venus', 'nitrogen', 'uranus is unique in our solar system because it is tilted 98 degrees', 'hydrogen', 'near earth surface', \"it has roughly 80 percent the sun 's mass\", 'hydrogen', 'helium has not settled in the center', '24 % helium', 'this small , rocky planet has almost no', 'helium', 'sodium , potassium , helium , oxygen , and hydrogen', 'ether .', 'its atmosphere is extremely thin .', 'very thin atmosphere', \"40 percent of the planet 's surface has been photographed .\"] , mercury\n",
            "126 50 [\"goat 's milk\", 'parmigiano-reggiano', 'nutribase', \"what 's unique about nutribase\", 'anco foods links website term and conditions sitemap', '', 'nancy knigga sycamore acres 3', 'cheesenet', 'di formaggio', 'the cheese wizard great instructions', '', '', '', 'goat milk cheese', 'whip the caprino cheese and the heavy cream together .', 'caprino cheese mail', 'giuncata , caprino and farindola', '', 'room temperature - sautgarlic and onion in 2 tbls', 'frittatina di spinaci', '', '', 'wikipedia', 'caprino goat cheese 2 oz .', '', 'terragon 9', 'external links edit -rsb', 'jump', '', '', 'caprino noce g-s/r it a soft rind-less cheese', '', 'research capricorn goat', 'essential ingredients', 'lsb- 5 caprino della valbrevenna', '', '', 'under construction', '', '', 'g', '', '', '', 'caprino romano is an extremely sharp goats milk', 'goat cheese - crumbled', 'chestnut pudding from the ramekins', 'fresco fresh', 'hotels caprino veronese on garda', 'cheese'] , goats cheese\n",
            "127 50 ['kansas condos for sale', 'washington', 'serving saline county , kansas and north central kansas .', 'insurance , houses , paint', 'cities usa', 'return to the kansas community networks towns , cities , counties', 'kansas colleges / colleges in kansas college-directory-usa', 'kansas', 'business , traffic', 't1 wichita , kansas .', 'kansas facts', '', '', 'kansas ks concord university kansas', 'return to the kansas history web sites', 'kansas bed and breakfasts', 'kansas', 'kansas city chinese journal', 'kansas time', 'kansas', 'return to the kansas community network or to the kansas history or to the kansas heritage group .', 'kansas police misconduct , kansas parole and probation , kansas wills and probate', '', 'alabama', 'u.s. dollar', 'kansas genealogical society , dodg', 'office of disease prevention and health promotion', 'missouri', '0', 'kansas', '', '', '', 'g rew materials - credit application kansas kansas', 'kansas farmers market', '', '', 'kansas city , ks', 'kansas history resources territorial kansas', 'sports technology', '', 'kansas', 'canada', '', 'kansas', 'kansas', '', 'artists in kansas ks', '', 'kansas'] , topeka\n",
            "128 50 ['what snake', 'leopards', 'what snake', 'hares', 'what snakes', 'ferrets', 'hares', 'pigeons', 'reptiles', 'carnivorous animals', 'corn husks', 'assemblage', 'giraffe', 'assemblage', 'birds', 'bears', 'males , females , babies , and groups of animals', 'mass nouns', 'animals', 'what verbs and pronouns', 'horses', 'herd animals and solitary creatures', 'the fox and the hare', 'groups of animals', 'baby animal', 'corn husk', 'collective nouns', 'animals', 'animals', 'what then', 'animals', 'animals', 'a herd of cows', 'venery words for groups of animals', 'vagary', 'vagarit', 'husk', 'count nouns , but rather are a special subset of count nouns', '', 'singular pronouns can be collective nouns taking plural verbs', 'plantago', 'members', 'wikivisual francais', 'husk', 'collective soul', '', '', 'navigation', \"` group '' b\", 'the collective noun page the collective nouns'] , hares\n",
            "129 50 ['kula lumpur', 'kuala lumpur', 'kuala lumpur', 'new delhi', 'bukit jalil', 'malaysia', 'kuala lumpur', 'kuala lumpur', 'melbourne', 'kuala lumpur', 'sri lanka', 'kuala lumpur', 'edinburgh', 'kuala lumpur', 'kuala lumpur', 'kuala lumpur', 'kuala lumpur', 'sri lanka', 'hamilton', 'kuala lumpur', 'petaling jaya', 'malaysia', 'nauru', 'malaysia', 'fiji', 'botswana', 'manchester', 'australia', \"city 's venues\", 'the city', 'kl', '1950 games .', 'australia', 'central location in the the hub of activities', 'the city', 'lrb', 'ef beam prev .', 'trudy mcintosh', '1998 commonwealth games .', 'the rm800 million world class complex served as the hub of the 16th commonwealth games in 1998 .', 'womens aa prev .', 'the commonwealth games in 1998 .', 'the commonwealth games', '', '', '', '', '1998 commonwealth games', 'womens aa prev .', ''] , kula lumpur\n",
            "130 50 ['cool maggie', 'laddie', 'apu', 'waylon smithers', 'bongo', \"santa 's little helper\", 'michelangelo', 'biscuit', 'santa', 'pie-pi', \"santa 's little helper\", 'cletus spuckler', 'santa', \"the devil 's cabana boy\", 'smokey', \"the canine mutiny the name given to santa 's little helper\", \"sideshow bob 's middle name\", 'the thugs', 'kiss the cook', 'laddie', 'full metal jacket', 'laddie', 'biscuit', 'pick pocket', \"santa 's little helper\", \"santa 's little helper\", \"what is the lunch lady 's name\", 'bart gets an f', 's', 'what is the last name of the sae captain', '', 'lenny & carl', 'groundskeeper', '', '` son of simme', 'new chat room chat right here !', \"a rabbi 's most valued possession\", \"what 's with this\", '', '', '', 'mr. mitchell', '', '', 'last name simpson to sound like the typical american family name', '', '', '', 'wee handbook for the perplexed', ''] , santas little helper\n",
            "131 50 ['the seychelles', 'seychelles', 'the seychelles', 'british colony of seychelles', 'seychelles island', 'seychelles', 'seychelles', 'seychelles', 'seychelles', 'british', 'seychelles', 'seychelles', 'the seychelles', 'seychelles islands', 'kyrenia', 'kyrenia', 'greece', 'limassol', 'u.s.', 'great britain', 'london', 'kykkos monastery', 'british administration', 'athens and london', 'british', 'republic of cyprus', 'cyprus', 'british', 'cyprus', '1956 7 .', 'cyprus became an independent state', 'cyprus', 'the republic of cyprus website archbishop makarios was born on august 13 , 1913 , in t', 'eoka', 'arabs were driven out of cyprus', 'junta and archbishop makarios , president of the republic of cyprus', 'in this city is the seat of the archbishop and also the court and palace of the king', 'american library association - report on activities in cyprus', 'cyprus', 'cyprus', 'exile', 'philiki etairia', 'the exile and release', '1950 , makarios iii was elected archbishop .', '`` archbishop makarios - central figure in the struggle for an independent cyprus', 'wikipedia', 'archbishop makarios iii became president .', 'he died in 1956 and was succeeded by archbishop dorotheus .', '1947 .', 'political prisoners was archbishop makarios , who arrived in 1956 .'] , seychelles\n",
            "132 50 ['pay attention', 'pay attention', 'experience pleasure', 'utilize and store copper properly', 'perform sexual intercourse', 'concentrate', 'crush or chew them', 'empty the bladder', 'excessive thirst', 'what goes wrong', 'see in daylight', 'there are no risks', 'what', 'clot', 'what causes kidney stones', 'what causes infertility', 'what causes infertility', 'what is chronic renal failure', 'what is the age', 'navigation , search', 'farming', 'what medicines treat female infertility', 'what causes infertility', 'placement , number and development of teeth', 'what is the best treatment', 'divide more than they should or do not die', 'what treatments are available to cure infertility', 'what are the symptoms of kidney stones', 'what', 'what', 'what is a neurologic symptom', 'greater-than-normal levels', 'what are the treatments for female infertility', 'what is infertility', 'what are the treatments for male infertility', 'what are the risk factors for kidney stones', 'what are the complications of infertility', 'what provoked your interest ?', 'what is infertility', 'fertility tests', 'what male tertility tests', 'normal values', 'what are the complications of infertility', 'what is the treatment for infertility', '', 'eggs', '', 'this .', 'how do i get started', 'what is the treatment for infertility'] , concentrate\n",
            "133 50 ['acclimatization', 'natural selection', 'variation', 'metabolic processes', 'sensations of s', 'passage type', 'what', 'what happens when agreements are violated', 'diet', 'what degree', 'bioremediation', 'superior', 'nutrients', 'biology of earth', 'what is his natural form', 'animal or plant', 'hydrocarbons', 'id', 'activated sludge', 'what should that be ?', 'products', 'what it can control', 'microbes', 'domestic brood stock of indigenous species', 'what is the future of life on earth and the universe ?', '` behavior', 'unchanging', 'different individuals or species have different tolerance ranges for particular environmental factors', \"learning what it can rely on and what it ca n't\", 'bioremediation', 'what is the shelf life of your products', 'identifying differences in genetic sequences', 'what is the organization', 'genetic makeup', 'children will learn what we offer', 'abscission', 'acclimatization', '', 'what is the big idea ?', 'compromises', \"what is the author 's purpose\", 'what good is half a wing', 'the species', '', 'their local environment increase in frequency', 'naturalized', 'our product', 'acclimatization', 'earth', 'lrb'] , acclimatization\n",
            "134 50 ['monet', 'claude monet', 'claude monet giclee', 'monet', 'claude monet', 'claude monet', 'claude monet', 'monet', 'claude monet', 'monet', 'monet', 'monet', 'monet', 'claude monet', 'renoir', 'monet', 'caillebotte and manet', 'monet', 'claude monet', 'claude monet', 'claude monet', 'monet', 'tucker', 'claude monet', 'monet', 'lrb', 'chester dale', 'twilight', 'a master artist', 'nymph', \"mus e d'orsay\", 'the impressionists', 'he', 'hermitage , st. petersburg', 'vantag', \"musee d'orsay , paris\", 'he painted two important series , the views of parliament and charing cross bridge', '', '', '', '', 'he painted an important series of paintings in venice , italy , and in london', 'he now painted townscapes', 'he painted an important series of paintings in venice , italy , and in london', 'he painted an important series of paintings in venice , italy , and in london', '', '', 'views of parliament and views of charing cross bridge', 'charing cross bridge', 'poppies'] , claude monet\n",
            "135 50 ['law', 'college', \"district court dep 's\", 'mortgage atty', 'constable on patrol', 'brooksie', 'inquiry', 'computer operating properly', 'computer operations parameters', 'computer optimization package', \"chicago 's top cop resigns\", 'practicing law', 'computer output processing service', 'cop pleads not guilty to taped bartender beating', 'what is with the people in montgomery co. ??? gads', 'woman beaten on video sues cop', 'what tactics', 'what is their training', 'criminology', 'breakerass', 'prick', 'cop constable', 'duck calls cop for help', 'charged in bar attack', 'rakan cop', 'town cop', 'ex-cop who killed woman in car crash', 'recipe', 'bird brains', 'royalty', 'oversight unit', 'lemming problem', '', 'an attitude', 'drinking', 'top cop', 'the system can someone tell me what these guys were charges', '` cop', 'chicago cop', \"ex-cop 's conviction in crash\", '', '', 'letters', '`` church', '', 'bribes', 'each letter is an abbreviation of a separate word', '', '', 'cop'] , constable on patrol\n",
            "136 50 ['turbot', 'turbot', 'cod', 'turbot war', 'dispute on april 30 , 1995 the government of morocco suspended the access of eu boats to moroccan waters', 'morocco and the eu', 'shellfish', 'frozen fish', 'spain distributor of fresh and frozen fish', 'u.s. fish', 'morocco for confrontation with other fleets in her waters , which is exactly what occurred between morocco', 'fishing', 'frozen fish', 'fish dispute deepening/ireland , britain , s. africa', 'the peace of brussels', '', '1994', 'fishing dispute between morocco , spain and the eu moroccan disputes with spain over fishing rights', '', \"spain 's total catch declined .\", 'fisheries crisis', 'overfishing', '1995 quebec referendum in october 1995 , canada faced its second quebec referendum on sovereignty .', '', 'fishing rights in her waters', 'newfoundland', 'canada crowed too much , spain complained too much .', 'fish biology , 47 , 70-81 , 1995 .', '', 'u.s. cuts fish talks with canada', 'canada wants more .', '', 'fish biology 47 5 , 865876 , 1995 .', 'fish health management', 'fishing dispute with spain would be settled by the spa', 'cod', 'the eu', 'the royal proclamation was irrelevant to most aboriginal peoples in what was becoming canada .', 'fish population as it would occur normally in a fish population not subject to overfishing', 'spain is a large importer and exporter of fish products .', '', 'fish population', 'european union', '', 'fishing .', '', '', 'spain', 'conservation', 'spain that are significant exporters of fish and fish products .'] , turbot\n",
            "137 50 ['smallscores', 'recommended resources poster', 'the protagonist', 'listening/score study', 'listening/score study', 'mozart', 'operas', 'orchestral intr', 'the history of carmen - bizet music with ease', 'asks carmen of don jos\\\\u00e9', 'music with ease', 'carmen bizet opera pictures music with ease', 'carmen - bizet music with ease', \"new orleans opera - bizet 's carmen puccini 's manon lescaut\", 'a performance of don giovanni with the great italian bariton', 'carmen and don jos\\\\u00e9', 'the final exclamation of don jos\\\\u00e9', 'seville', 'the success', 'kaleidoscopic masterpiece', \"beethoven 's\", 'bizet music with ease > classical music > concert guide', 'music with ease >', 'required reading', \"l'oca del cairo\", 'primary setting of many operas', 'tosca puccini 204', \"`` don giovanni '' is mozarts greatest opera\", 'return to top sandra piques', \"bizet 's biographer emphasises this detail\", 'zerlina', '', 'our price $ 18.95 requiem', \"the impresario and menotti 's the medium\", 'portopera - the opera of maine edit other resources', 'enrico - in gaetano donizetti', 'mozart .', 'mozart', 'catherine clement , opera or the undoing of women , pp. 32-38 .', 'escamillo : lucio gallo .', 'french', 'our price $ 19.95 don giovanni vocal score', \"the company 's first performances took place in july , 1995 at the state theater\", 'cavalleria rusticana .', '', 'die zauberfle mozart', 'vocal scores requiem', \"denyce graves in 1995 's carmen .\", 'maine native kate aldrich in the title role .', \"` i have written don giovanni for myself and two or three friends . ''\"] , set in seville in spain\n",
            "138 50 ['richmond', 'richmond region', 'virginia', 'richmond', 'richmond region', 'richmond region', 'virginia', 'it was also the first capital of virginia', 'richmond', 'virtue', 'richmond , virginia - the river city', 'richmond region', 'richmond', 'richmond , virginiarichmond', 'richmond', 'it was made the capital of virginia', 'richmond', 'richmond', 'virginia', 'richmond region', 'richmond', 'it became the capital of the colony and dominion of virginia', 'richmond', 'richmond was the capital of the independent state country of virginia', 'richmond city', 'danville', 'virginia has had 3 capital cities : jamestown , williamsburg , and richmond', 'richmond', '', '', 'richmond , virginia richmond is the capital of the commonwealth of virginia', 'richmond', 'richmond', '', 'coski', 'mid-atlantic region', '', 'richmond', '', 'virginia', 'virginia', 'virginia capital partners virginia capital', '', '', '', 'virginia', 'golf is what separates winners from losers , the good from the great .', 'richmond', '', ''] , richmond\n",
            "139 50 ['western australia', 'south australia', 'western australia', 'western australia', 'western australia', 'western australia', 'south australia', 'wa', 'western australia', 'west', 'australian capital territory new south wales', 'western', 'desert', 'queensland , sydney , tasmania', 'wa', 'australia', 'what', 'australia', 'geraldton', 'national commonwealth', 'state', 'where', 'albany western australian museum geradlton western australian', 'what', 'australia', 'what', 'australian', '', '', 'most small towns', '', '', 'what are the benefits', '', 'badminton', 'australian', 'where you can buy aboriginal art by minnie pwerle', '', '', 'australian history', 'town', '', 'new farm park', '', '', 'accommodation can be selected by location and star rating , allowing you to find exactly what you are looking for .', 'find headlines , publications and information', 'coral', '', 'a wide selection of complete books online'] , western australia\n",
            "140 50 ['what is a native plant', \"what 's in a name ?\", 'cereal', 'what splendor', 'ranunculus', 'what are the names of those plants', 'desire of riches', 'polyanthus', 'what are codonopsis', 'alfalfa', 'division of the root', 'merit concealed corn riches riches ; abundance', 'what is your will', 'sunflower', 'riches corn', 'grasses', 'what', 'childishness', 'what the people who are preparing a new war want', 'golden heart and silver dress', \"what happened to iowa 's prairies\", 'really simple syndication or rich site summary', 'carnivora', 'flowerfrog', 'corn', 'faux flowers', 'bean arches make .', 'prairie', '', 'switchgrass', 'tycoon', 'hardcopies', '', '', '', '', 'grass', 'what we have yet to do xii', 'replant stands with poor emergence', '', 'n stabilizer', '', '', '', 'prairie', 'flower stand tycoon', '', '', 'the land was like', 'aree attrezzate'] , corn\n",
            "141 50 ['chocolate', 'desks', 'wood', 'wood', 'stone or gold', 'the table', 'what are those , really -- urns for the cats', 'wood or other materials like particle board', 'his own hands', 'wood or other materials like particle board', 'adipocere grave wax', 'without holes', 'pottery or reeds', 'friends', 'burial vault', 'kirk', 'pine', 'biodegradable materials', 'custom-made', 'children', 'burial vault', 'a coffin', 'burial vault', 'body , coffin , and vault', 'metal', 'what happens to the body', 'without a coffin', 'death', '', 'what is up with the roland and rolanda shit', '23', 'kiss kasket', '', '', 'the body was simply committed to the coffin', '', '', '', '', '', '', '', 'another legend', \"jonas was killed by roland 's gun\", '', '', '1973', '', 'the foursome arrived monday , september 17 , 1973 .', 'he died on feb 02 1973 .'] , chocolate\n",
            "142 50 ['twilight', 'during twilight', 'nocturnal', 'during the twilight', 'primarily during twilight', 'during the heat of summer', 'when are they active ?', 'nocturnal', 'daytime', \"when an animal starts to feed on food besides its mother 's milk\", 'before sunrise and at twilight', 'when the background coloration of the animal is sepia-toned', 'dawn and twilight', 'day or night', 'when temperatures are cooler than mid-day', 'during twilight hours', 'on a bright moonlit night', 'day or night', 'early morning and twilight', 'erythristic', 'dawn and dusk', 'twilight', 'immediately before and after dawn and dusk', 'their prey is crepuscular', 'at dawn and dusk', 'during twilight hours', 'early dawn or twilight', 'during twilight hours', 'yearlong', 'at twilight', 'dawn and/or dusk', 'dawn and/or dusk', 'nocturnal', 'daytime', 'dawn and dusk', 'daytime', 'they are nocturnal', 'during the twilight of dawn and dusk', 'daytime', 'during twilight hours', 'sun rays converging on the horizon', 'during twilight', 'during the twilight of dusk or dawn', 'most active during that time .', 'pottery', 'dusk , dawn , and twilight', 'dawn and dusk', 'some are particularly active during the early morning or late evening hours', 'winter months', 'twilight hours - dawn or dusk'] , twilight\n",
            "143 50 ['what types of germs are there ?', 'beadlike chains', 'what treatments', 'bacteria bacteria', 'bacilli', 'bacilli', 'bacilli', 'what do germs do ?', 'spirals', 'spherical bacteria', 'what about the content', 'ball-shaped', 'gram positive cocci ii and gram negative cocci', 'spiral shaped', 'rods', 'bacteria', 'global health', 'spherical', 'spherical', 'bacteriology streptococci', 'rod-shaped bacteria', 'spheres', 'normal flora', 'gram positive cocci .', 'bacteria', 'what is the basic shape of the colony', 'curved-rod , spiral or comma-like spirilla', 'immune compromised individual', 'prokaryotic cells', 'bacteria', 'bacterial cells', 'cocci pl .', 'spirilla pl .', 'streptococcus , or in tetrads of cocci as in sarcina', 'spherical , and spirilla or curved walls', 'spherical or oval shape', '', 'irregular clusters', '', '', 'single-celled microorganisms', 'bacteria spiril', 'group selection', 'spherical cocci', 'spirochetes', 'transmission of cholera love', 'antibodies recognize their surface antigens', 'different forms .', 'when cocci occur in a chain', 'spirilla move in a `` corkscrew'] , bacteria\n",
            "144 50 ['colchester', 'connecticut colony', 'new hampshire', 'camulodunum', 'jamaica', 'fishbourne', 'massachusetts bay', 'colchester', 'york', 'new england', 'georgia', 'united kingdom', 'middle england', 'scotland', 'brazil and mexico and peru', 'naperville , illinois', 'britain', 'u.s.', 'connecticut', 'herculaneum and pompeii', 'virginia', 'north america', \"st. katharine 's marina by the tower of london\", 'chesapeake bay colony', 'new england', 'britain', 'camulodunum', 'new england confederation', 'new england', 'staunchly-protestant england', 'connecticut 1639 , based on congregationa', 'theocracy', \"hadrian 's wall in england\", \"hadrian 's wall , a wall built in england\", 'theocracy , where the state forced the people to live and worship in an', 'calverts', 'new england', 'common law', 'proposedbusiness', 'maryland', \"french and indian war , king william 's war begins .\", \"england 's climate is damp and mild .\", 'dutch law continued in the colony', 'home at first', '', 'cecil intended to establish a prosperous colony', 'italian', \"this roman temple was a source for the decoration of jefferson 's bedchamber\", 'charles , he left a prospering , peaceful colony based on the concept of liberty of conscience', '1725'] , colchester\n",
            "145 50 ['edo', 'edo', 'tokyo', 'edo', 'underground', 'edo', 'edo', 'tokyo had been called `` edo', 'edo', 'new york and oxford street is to london', 'edo', 'edo castle', 'tokyo was formerly called edo', 'edo', 'edo', 'tokyo', 'tokyo', 'edo', 'tokyo', 'edo', 'hitomakumiseki', 'edo', 'edo _ 8', 'edo', 'tokyo', \"` show ' year\", 'otaku', 'edo', 'tokyo', 'tokyo prefecture', 'tmkei', 'nihonbashi', 'tmkei', 'edo-tokyo', 'to-kei', 'shitamachi', 'edo daikagura', 'edo castle', '` t\\\\u014dkei', '', 'edo', 'edo', '', 'edo', \"they 're what their papas were at 40\", '', 'the occupation began later that same year and by that time the population of the once great city', '', 'the crest', 'anpanman'] , tokyo\n",
            "146 50 ['nevada', 'nevada', 'colorado', 'colorado', 'what', 'colorado', '51', 'nevada', 'southampton', 'roswell', 'ufo', '51', 'arian', '51', 'who', 'not intended to be used for access to area 51', 'blacksite', 'eindhoven', '51', 'blacksite', '51', 'vegas', 'ariin area 51', 'area 51', 'colorado state parks', 'bad oeynhausen mercure bad oeynhausen area 51 arenapunkte', '', '51', 'ps2', '', 'area 51', 'las vegas', 'area 51', '51', '51 cheat', 'chrat area 51', 'index games blacksite : area 51', '51', 'united states air force has denied the existence of area 51', '', 'kmplettloesung area 51', '51', '51', 'area 51', '', '51 arenapunktr', 'blacksite', '51', 'area 51', ''] , colorado\n",
            "147 50 ['ebenezer scrooge', 'scrooge', 'nativity story', 'uncle', 'bah humbug , indeed !', '` bah , humbug', '` bah , humbug', 'the annotated christmas carol : a christmas carol in prose', 'scrooge', 'richard wilson', \"who said `` bah humbug ! '' ?\", 'a goose', 'a merry christmas to everybody', 'a christmas carol in prose , being a ghost story of christmas', 'charles dickens', 'a consideration on the150th anniversary', 'uncle !', '` bah humbug !', 'the silent night', \"the man who invented christmas : how charles dickens 's a christmas carol rescued his career\", 'uncle !', '`` bah humbug to christmas', 'by : charles dickens', 'the signalman , was from a story by charles dickens , who was no stranger to christmas ghosts', 'christmas carols sheet music a christmas carol lesson plan', 'merry christmas bah , humbug !', '15 pages', 'read article : bah , humbug !', \"it was released in 1992 , and was one of many film adaptations of charles dickens 's christmas carol .\", '5 bah !', \"a christmas carol hypertext edition of charles dickens ' classic story\", 'inicio apuntes amor humor test env', 'a christmas carol in prose , being a ghost story of christmas', 'if your style book says otherwise , then bah !', 'the alternative christmas album', 'marina lewebb', 'bah , humbug', '7 pages', 'charles dickens -lrb', \"charles dickens gave the first ever public performance of `` a christmas carol '\", 'bah humbug !', 'charles dickens', 'charles dickens', 'charles dickens -lrb', \"`` a christmas carol , '' one of the most famous christmas stories ever written\", 'charles dickens', 'hoarseand elated', \"`` a christmas carol . ''\", 'charles dickens', \"charles dickens ' immortal classic `\"] , scrooge\n",
            "148 50 ['ted hughes', 'iron man', 'what owls', 'miss emma', 'sugar', '', 'young feathered friend', '', 'sam silverhawk', 'eagle eye', 'my manners are tearing off heads the allotment of death', 'they', 'my manners are tearing off heads - the allotment of death', '', '', '', 'the same heron', '', 'my manners are tearing off heads the allotment of death .', 'birds', '', '', '', 'the anacoluthon', 'death', '', '', '', '', '', 'the living .', 'each one', '', '', '', '', 'chicken page', '', '', '', '', '', '`` now i hold creation in my foot', 'them', '', 'my feet are locked upon the rough bark', '', 'whirlybird', 'the feet were fully webbed', 'it took the whole of creation to produce my foot'] , hawk roosting ted hughes\n",
            "149 50 ['west maui', 'pacific ocean', 'south', 'big island of hawaii', 'hawaii', \"hawaii 's big island\", 'hualalai', 'hawaii', 'the big island of hawaii', 'eastern pacific', 'dormant', 'south pacific travel home travel hawaii / south pacific travel big island of hawaii', 'big island', 'pacific basin', 'kilauea', 'hawaii', 'hual lai', 'maui', 'mid-pacific ocean', 'hawaii', 'hawaiian', 'hilo - mauna kea summit - hale pohaku - maui', 'kohala', 'pacific ocean', 'pacific ocean', 'kohala', 'pacific basin', 'pacific science association', 'big island', '', 'hapuna', '', 'this island', 'hualalai', 'this island', 'the eastern region', 'center of the island', 'the saddle', 'hawaiian', 'mt. vesuvius', 'waikiki is also situated on this island .', 'kohala are extinct , and hualalai', 'pacific ocean', 'haleakala', '', 'mauna loa', \"white mountain , '' is the highest peak on the island\", 'mauna kea is an extinct volanoe that has the snow in the color of sugar corn', '', 'mauna kea resort'] , hawaii\n",
            "150 50 ['c', 'pascal', 'pascal', 'pascal', 'classicism : the seventeenth century', 'widgets blaise pascal', 'chinese and middle eastern advances', 'it was named for the french mathematician blaise pascal', 'analytic geometry', 'frink', 'pascal', 'it is named for mathematician , scientist , and philosopher blaise pascal', 'pascal language', 'it was named in honour of the french mathematician-physicist', 'blaise pascal pascal', 'blaise pascal', '', 'lisp programming language -lrb', 'haskell', '', '20th cent', 'ada', 'in the 3d cent .', 'cornell', 'blaise pascal', '20th cent', 'blaise pascal -lrb', \"j. o'brien , the french literary horizon\", 'blaise pascal', 'bla', 'pascaline', '', 'the unit is named after blaise pascal', 'the term was named for blaise pascal', 'the unit is named after blaise pascal', 'pascal', 'blaise pascal college no. 70', 'object pascal', 'it was named after blaise pascal', 'blaise pascal', 'blaise pascal', 'algol programming language and named in honor of mathematician and philosopher blaise pascal', 'algol programming language and is named in honor of mathematician and philosopher blaise pascal', 'algol programming language and named in honor of mathematician and philosopher blaise pascal', 'it was originally developed for this purpose .', 'the oldest , and most prestigious , college in toulouse is named after him - the pierre de fermat', 'blaise pascal', 'blaise pascal', 'blaise pascal', 'mathematics'] , pascal blaise pascal\n",
            "151 50 ['to the southwest', 'the mall', 'one of the entrances to oxford street', 'to the southwest', 'trafalgar square', 'wikipedia', 'to the south of nelson statue is the roundabout', 'caf in the crypt', 'trafalgar square', 'the park', 'the point where the strand meets whitehall', 'on the inside wall', 'where the city of london meets the city of westminster', 'london marriott hotel marble arch 83', 'kangaroo island', 'old admiralty building', 'eastern end of the mallbuckingham palace', 'underneath', 'westminster abbey', 'both sides', 'london interactive wondering where to stay and dine in london', 'where the train tickets are sold', 'thistle marble arch london hotel', 'where space is limited', 'london', 'old admiralty building', 'admiralty - wikipedia', 'london hotel', 'special internet', 'london', 'there was no bookshop', \"that 's where we get the expression `` pickled '' referring to a drunk person .\", 'grade i listed building', 'london marriott hotel marble arch', 'home', 'home', 'euston arch', 'home', 'home', 'the same place', 'to the admiral arch', 'service pack', 'easyjet', '', '', '', '', '', '', ''] , london\n",
            "152 50 ['what are you into ?', 'bollocks', 'nana', 'honey', 'spunky', \"what 's your game ?\", 'what are you up to ?', 'date', 'bag', 'arse is australian slang for effrontery ; cheek', 'what do testicles do', 'australian slang', 'incest laws', 'neddy', 'maggoty', 'what the fuck do you want ?', 'bagging', 'what the fuck', 'cocky', 'magsman', 'apricots', 'abdul', 'brooklyn', \"what 's your bag\", 'bollocky', 'what a load of old cack', 'a cockatoo', 'what', 'skite skite', 'compo', 'woop woop', 'payoff', 'arvo', 'gew-gaw !', \"what 's so especial about this beer\", 'crap', \"apricots a man 's testicles\", 'what does this beer taste like ?', 'strine', 'come at is australian slang for to stomach ; tolerate', 'come at', 'the final word rhymes with .', 'that does for a complexion', 'british', 'what size', 'what goes around , comes around .', 'cakehole', '', 'demonstrates total agreement with what a speaker has said', 'aussie slang dictionary - global slang & dialects'] , testicles\n",
            "153 50 ['bats', 'sitting ducks', 'snakes', 'bats', 'the morepork', 'antarctica', 'bat', 'bats', 'bats', 'bats', 'maori', 'bats', 'bats', 'bats', 'seals', 'fauna bats', 'bats', 'snakes', 'bats', 'there were no land mammals', 'woman , and child', 'new zealand bat', 'freshwater crocodiles', 'local government', 'katipo', 'ancient freshwater species', 'polynesian seafarers', 'marine mammals', 'frog', 'placental mammals', 'pests people all over new zealand have been getting rid of animal pests like possums', 'mammals', 'mammals', '', '', 'tiritiri matangi', 'marine mammals', '', 'tui', 'wool and fur', 'new zealand long-tailed bat', 'endemic', 'man', 'flora', '', 'land mammals', \"many of new zealand 's native animals\", 'the only new zealand native', 'fauna', 'gondwanaland'] , bats\n",
            "154 50 ['michael hamburger', 'gerard manley hopkins', 'gerard manley hopkins', 'gerard manley hopkins', 'robert stephen hawker', 'gerald manley hopkins', 'gerard manley hopkins', 'gerard manley hopkins', 'david jones', 'torquato tasso', 'gerard manley hopkins', 'gerard manley hopkins', 'gerard manley hopkins', 'gerard manley hopkins', 'gerard manley hopkins', 'geoffrey chaucer', 'james k baxter', 'gerard manley hopkins', 'jan twardowski', 'michael coren', 'st. john of the cross', 'raymond roseliep', 'ndre mjeda', 'juan p rez de montalb n poet', 'hopkins', 'gerard manley hopkins', 'joseph fitzmyer priest', 'pierre corneille', 'chris heimerdinger', 'robert bridges', 'robert bridges', 'hopkins', 'gerard manley hopkins', 'luis de g ngora', 'edward the confessor', 'kevin barry', 'the windhover', 'victorian poet', 'pied beauty', 'gabriel richard', 'ignatius scoles', '', 'per', \"the poet 's reconciling the terrible events with god 's higher purpose\", '', 'his story is fascinating , especially the way in which he was a priest to others', 'he was known not as a poet', '', '', 'parish priest'] , gerald manley hopkins\n",
            "155 50 ['angela clemmons', 'danone', 'funk brothers', 'motown', 'chairmen of the board', 'kylie minogue', 'the mess', 'time warner', 'big tree records', \"her fourth album , let 's get to it\", 'ultimate kylie', 'chairmen of the board', 'lrb', '', 'mattias stholm', 'time warner', 'atlantic', 'rrb- j', 'lrb', 'los angeles dodgers', '', 'april 29 , 1970', '', '', '', 'surfside records', 'april 25 , 1970', '', 'may 8 , 1970', '', '', '1970', 'rrb', 'may 3 , 1970', '', '', '', '', '', '', '', '', '', '', '', '', '', 'little , brown & company uk -lrb', '1969', ''] , chairman of board\n",
            "156 50 ['slowest animal and what is its speed', 'seeds', 'what', 'no ambition', 'he has no intense passions', 'in what colors', 'a cat does', 'nobody knows what it means', 'if his work does not require much thinking', 'a horse appears on what coin', 'what are the rules', 'trivia -lrb', 'essential fundamental', 'what', 'seeds', 'a change made to a coin', 'they go ahead and explain what they really want to find on the web', \"it does n't just work with word or other applications\", 'what is it called ?', \"it does n't supposedly mean anything\", 'animal shells', 'mammonism', 'what is the largest island', 'what verse', 'to put an end to the endless squabbling about what is the longest word', 'what u.s. tokens', \"does not contain an `` n '' and is a much\", 'the stu', 'not occur in any words found in ordinary dictionaries', 'smileys and e-mail shorthand what', 'what 1916 coin', 'what', 'the study does not reveal common errors', 'it does indeed exist', 'the dictionary could have hardly given the meaning or tell what it is all about', 'what', 'what collectors are called the name for a teddy bear collector', 'what is wrong with you', \"`` lysr r '' in common language\", \"what 's so funny\", 'collect 20 points in ten minutes or less', 'if you collect obsidian and syenite', 'humorous television does better than radio', '', 'the word does not appear in english language dictionaries', 'several shops and the railway station', 'art and coins', '', '', ''] , trivia\n",
            "157 50 ['follow a strict set of guidelines', 'follow a strict set of guidelines', 'change pitchers', 'jump on the ball : what batters do to hanging pitches', 'force anything', 'a shell of their course of regular exercise', 'how do they create patterns', 'do no wrong', 'what', 'once removed they can not return', 'what he wants them to do', 'what he wants them to do', 'anything', 'repressing', 'hitting', 'wave at the ball : what batters do when they swing at a filthy curve ball', 'squeezing the pitcher : what umpires do to pitchers with bad attitudes', 'join the game again when one of his teams batsmen is out', 'adhere to an official set of rules', 'what they demanded', 'international tiebreaker', '', 'one or more offici', 'online little league baseball of logos it has dropped out can not do so on pm pacific time weekends', '', 'even out', 'northwoods', 'try to do that every single time that you hit', 'oklahoma', 'mantle beat us', 'it has to feel right to you', 'a bat and ball by two opposing teams', 'northern representation', 'ethics policy', 'isolation drill', 'israel baseball league , featuring six teams , was launched .', 'michigan needs just one win to advance to the womens college world series', 'baseball is played between two teams of nine players each .', 'top the list .', 'baseball is a sport played between two teams usually of nine players', '', '', 'how to play baseball', '', '', '', 'a baseball game is played between two teams -- the home team and visiting team', '', 'baseball is played between two teams of nine players', 'encourage a young white'] , hit ball over fence out of ground\n",
            "158 50 ['ioan gruffudd', 'alger', 'peter earle', 'c. s. forester', 'c.s. forester', 'roald dahl', 'c. northcote parkinson', 'beatrix potter', 'geoffrey chaucer', 'c. s. f', 'nevil shute', 'robert j. aley', 'c. s. fore', 'e.b. white', 'alger', 'horatio alger', 'grant allen aut', 'charlotte fiske bates', 'lord admiral horatio nelson', 'kirsten dunst', 'view andrews', 'melanie', 'irving', 'autonomy etalk', 'the duchess and the devil', 'horatio hornblower - vol .', 'pillsbury doughboy', 'hornblower & the hotspur', '1 selectsmart.com', 'the duchess and the devil -lrb', '', 'netflix', 'lrb', '', 'the examination', '', '', 'hornblower and the widow mccool', 'horatio fictitious', '', '', 'fidelitas et officium', '', '', '', '', '', 'trees in the canal with lights', 'horatio hornblower survived i my female first exam - ballastexistenz', 'horatio hornblower blows the competition out of the water'] , cs forester\n",
            "159 50 ['pitched roofs', 'original flooring', 'pitched roof', 'hip roof dormers', 'roofs', 'roof', 'roof', 'arn roof', 'mastic products', 'fast-food restaurants', \"roof 's shape\", 'what type of wood', 'house style', 'flat roofs', 'roofing systems', 'building types include four-bay double and two-bay single building types', 'hipped roof dutch', 'roof', 'roof', 'what tools and materials to use', 'solarsystems in roofs', 'mansard roof', 'roofs in all shapes and sizes', 'hip roof', 'housing', 'roof', 'what can not be repaired', 'roof 69 86', 'hip-roof dormers', 'insulation', 'mansard', 'roof', 'mansard quad-pitched', 'roof 70 99', '', 'roof', 'the gambrel ruft house', 'hip roof contains no gables', 'free gambrel barn', 'curb roof', 'hip roof dormer .', 'roof', 'roof', 'hip', 'hip roof', '', 'cross gambrel bay', 'hip', '', 'hip dormer'] , building roof\n",
            "160 50 ['1597', '18th century', '16th', '1870', '18th', '18th', '18th', '1751', '19th', '18th', '18th', '18th century', '18th', '19th', '19th', '18th century', '19th century', '18th', '16th', '19th', '18th century', '19th', '18th', '16th', '1760', '1850', '18th', '19th', '1715', '18th-century', 'sixteenth', '18th', \"1930 's\", 'wars of empire', 'first century bc', '19th', 'first century bc', 'ancient rome', 'the earliest book in which pictures were as important as words , published for children in britain ,', 'the previous century', 'first dancer', 'early silent films', '', 'austrian', 'this was the first pantomime in england', '', 'romans', 'great britain', 'the pantomime first arrived in england', ''] , 18th 1717\n",
            "161 50 ['shindell', 'johnny cash', 'bruce springsteen', 'bruce', 'bruce', 'bruce springstee', 'bruce springsteen', 'bruce springsteen', 'springsteen', 'bruce springsteen', 'springsteen', 'bruce springsteen', 'springsteen', 'springsteen', 'bruce springsteen', 'nebraska', 'springsteen', 'nebraska', \"springsteen and brendan o'brien\", 'bruce', 'bonds', 'springsteen', 'bruce springsteen', 'nebraska', 'johnny 99', 'e street band', 'bruce springsteen', 'bruce springsteen', 'nebraska .', 'nebraska', 'bob dylan', '', 'he had already recorded one completely solo album , nebraska , and tunnel of love', '', '1989', 'johnny 99', \"state trooper , '' also found on the nebraska\", 'nebraska - canadian album chart', 'code of silence', 'jefferson airplane takes off', 'murder incorporated', 'nebraska -lrb', 'nebraska and the ghost of tom joad', '1982', '1983', 'nebraska', '`` nebraska', '', '1982', 'it was recorded on january 3 , 1982'] , bruce springsteen\n",
            "162 50 ['oracle/batgirl', 'giant monster', 'villainess', 'jason from countdown 10', 'caliente', 'the king', 'batman', 'a transexual', 'the king', 'what i mean ?', 'batman', 'her persona was far better than her myth', 'she would be pretty good', 'a sister-in-law', 'transexual', 'what personal business', \"what happened to babs ' dad\", 'spike', 'little girl', 'what can you do', 'heroine', 'barbara gorden', 'they', 'carmine infantino', 'what sets you apart from most people', 'gordon', 'truism', 'flash rogues', 'what you mean .', '', 'he really know what he is doing', '', '', '', '', '', '', '', 'there better be a hell of a payoff .', 'gordon', 'babs ...', '', '', '', 'babs', '', '', 'babs scowled but thought better of it .', '', 'dinah , helena and the others are better people for having worked with babs'] , batgirl\n",
            "163 50 ['etchup', 'ignonette', 'beurre manie', 'antua', 'ise en place', 'fleur de sel', 'bain-marie', 'kabob', 'hollandaise', 'mise en place', 'tips greens', 'herbed spinach stuffed shrimp', 'tomato rose', 'refrigerate', 'croutons', 'what is 13 +3', 'deviled crusts', 'indian', 'katsuobushi', 'turkey breast', 'green pea cakes', 'asparagus', 'mushroom salad mushroom spinach salad fresh', 'white pepper', 'meat', 'crab cakes with lime and cilantro', 'tarragon salad spinach and mushroom salad', 'chopped egg', 'fine', 'roll over term name to view image', 'lemon', 'raw meat', 'garnish with radishes', 'lemon slices', 'stuffing', 'hanover', 'hard boiled eggs', 'hard boiled egg', 'drain spinach and set in cold water', 'spoon hot spinach over noodles ; garnish with pine nuts', 'from a large pot', 'whites of the eggs', 'pot', '', 'fern brake', 'blender', 'second course', 'garnish', 'balance of ingredients', 'add remaining ingredients in order given'] , florentine\n",
            "164 50 ['les hommages preludes', 'traditional classical pieces bolero', 'fuoco', 'pinot with your pergolesi', \"dvorak 's new world symphony\", 'violin concerto', 'ghost world', 'boccherini minuet', 'how many o', 'the green hornet', 'guitar', 'bumblebee', 'speed metal', 'transformers 4 piece pajama set - optimus prime', 'why i left the surf', 'psychotron stereo', 'm', 'old world-style', 'the first single', '', 'the piece', 'joshua bell', 'abstract', 'what a wonderful world', 'solo passage', 'white denim', 'piece', 'encore pieces', 'decca', '', 'kat composed the classical works', '', '', '78', 'philips classics', 'movie star', '2010 olympics', 'subtlety', '', 'chandos records ltd', '', 'what a great performance', 'classical', 'silence', 'sony classical soundset recordings - independent record label offering classical , acoustic instrumental', \"miller and the orchestra just could n't hear one another well enough to make the vast , sprawling piece\", 'guitar', '', 'seven people stopped to listen , and just one of them recognized the performer', ''] , flight of bumblebee\n",
            "165 50 ['hechsher', 'aguardiente', 'groats', 'grain neutral spirits', 'proof', \"young 's double chocolate stout\", 'beer', 'pony', 'pony', 'gin', 'rd ?', 'cointreau', 'what should i drink ?', 'addison', 'ethyl alcohol', 'humulus lupulus', 'jigger jigger', 'grain whisky', 'what and where to buy', 'grain alcohol', 'grain and cornstalks', 'one drink', 'juniper berries', 'j jigger', \"what 'll you have\", 'golden grain', 'dri', 'mocktail', 'alcoholic beverages', 'it is what i normally use .', 'soft drink', 'soft drink', 'jigger', \"wood grain design is featured throughout with `` metallic '' straps\", 'alcohol', 'what', '115 scotch whiskey', 'weight', 'soft drink', 'canadian whisky', 'weight of a grain seed from the middle of an ear of barley', 'not x + y ml', '', 'this is sometimes used in the making of grain whisky', 'an half inch', 'alcohol substitutions in mixed drinks', 'rough', 'what kind of population', 'grain or no', ''] , pony\n",
            "166 50 ['the sting', 'a river runs through it', 'the sting', 'th', 'the great gatsby', 'the new heroes', 'barefoot in the park', \"butch and robert redford 's sundance\", 'the bridge on the river kwai 1957 sundance kid', 'the sting', 'a river runs through it', '1969 , he and paul newman co-starred as butch cassidy and the sundance kid', \"poker texas hold 'em\", 'a river runs through it', 'butch butch cassidy and the sundance kid', 'an e', 'sundance', '1969', '1969', 'film', 'october 2004', 'butch and robert redford kid', 'paul newman dies', 'did everyone like paul newman ?', 'robert redford remembers', 'this video is a trailer of robert redford', 'this video is a trailer of robert redford', '', 'it', 'this video is a trailer of robert redford', '', 'butch cassidy and the sundance kid ?', '', '', 'butch cassidy', '', '', '', '', '', '', '', '', 'film', 'butch cassidy', 'dysfunctional families', '', 'paul newman , robert redford', '', 'far below'] , butch cassidy and sundance kid\n",
            "167 50 ['usa', 'cambodia', 'usa', 'united state', 'kampuchea', 'cambodia', 'cambodia', 'cambodia', 'lao vietnamese - live mostly in southern cambodia', 'the homeland are living in poverty', 'american', 'a country', 'vietnamese', 'cambodia', 'country is a freedom country', 'what to do about the khmers', 'europe and north america', 'khmer', 'the countryside', 'cambodia', 'khmer', 'they grow rice and live in tribal villages .', 'cambodia', 'khmers also should not be obsessed with their past but instead live for the future', 'cambodian americans also live in larger families than other americans', 'most of the surviving khmer rouge leaders live in the pailin area', 'most of the remaining khmer rouge leaders live in the pailin area', '', 'other scattered tribal minorities', '', 'china', '', '', 'khmer rouge leaders , now still control the country', 'khmer', '', '', 'khmer people .', '', '', '', 'the country into a nation of peasants', 'people live in fear , trapped , and manipulated .', '', '', 'country', '', '', \"one-fifth of the country 's population of the time .\", ''] , cambodia kampuchea\n",
            "168 50 ['fencing', 'mr fencing', 'sport', 'science', 'ethics in sport', 'bow', 'buddhist', 'lawn tennis', 'novice hurdle', 'ethics in sport', 'horse racing', 'punters', 'book ticket', 'gallops', 'playboy', 'arts', 'sterilisation', 'book ticket', 'marks', 'cancer', 'osteopathy', 'musculoskeletal services at the princess grace hospital provides multi-disciplinary', 'sports', 'the sport will take place in excel', 'rfci', 'ioc', 'national centre inverclyde national sport', '', '', 'trix', '', 'marketing', '', '', '', 'racing post -lrb', '', '', '', '', 'nap', 'ioc', 'negus de beaumont can make amends for an early departure at newcastle', 'nap', '', 'negus', '', 'afa', 'tenterden street', ''] , fencing\n",
            "169 50 ['what things are relevant and what are not', \"what does `` varying c '' mean now\", 'time-cycles', 'if yes what are the suggestions to overcome the mistakes ?', 'light , electricity , and magnetism', 'the 360c , the 364c , and the 365c', 'what are their views about their products ?', 'what are your three fico scores', 'what they want that the website must have ?', 'what type of loan', 'thunder have to do with lightning', \"what causes a lightning flash ? '\", 'what they expect to be change .', '` silent second', 't', 'mews , marina , renovation , off street parking , swimming pool', 'the assigning of numbers to specific spatial , temporal , and relational coordinates', 'concessions mean that they are relaxed to pay the amount in the next installments', 'meter is defined by the speed of light in a vacuum and not the other way around', 'different companies having same things with different prices', '', 'three , five , seven or even ten years', '', '6 trillion miles', 'nomos , a law', '6,000,000,000,000 6 trillion miles', 'c always takes the same value', '260c', 'c can always be set to the same number by a choice of units', '1,152,000,000 miles ; 1,608,000 miles', '', 'six trillion miles .', '37,048,320,000,000,000 miles .', '8000 m / 3000 m / small pond', 'unsecured debt consolidation loan have the same features which every loan has after being consolidated', '', 'the earth is a sphere nearly 8,000 miles in diameter , and 25,000 miles', 'light can travel a distance equal to nearly eight times around the world in one second', '', '24 hours', '', 'the nearest galaxy , andromeda is 2,200,000 miles away respectively', '', 'all what you have to do is go online and search for the product in the supermarket', 'three irs allows you to deduct most if not all of the interest from your mortgage', 'three miles per hour', '', '1', '', ''] , one light year\n",
            "170 50 ['pluto', 'pluto pluto', 'pluto', 'pluto', 'pluto pluto', 'pluto', 'pluto', 'pluto', 'pluto', 'pluto', 'pluto', 'pluto', 'pluto', 'pluto', 'pluto', 'pluto', 'pluto', 'pluto', 'pluto', 'pluto', 'pluto', 'pluto', 'pluto', 'pluto', 'pluto', 'pluto', 'pluto', 'pluto', 'pluto', 'pluto', 'lrb', 'pluto', 'sedna', 'charon', 'pluto', 'pluto', 'pluto', 'charon', 'lrb', 'neptune', 'neptune and pluto', 'eris', 'transneptunian planet', 'the `` new planet', 'galileo', \"it 's been called a planet\", 'discovered in 1930 and immediately classified as a planet', 'discovery discovered by clyde tombaugh', 'greek god of the underworld', ''] , pluto\n",
            "171 50 ['siberian tiger', 'mother', 'female', 'female tiger', 'tigress', 'melanistic lion', 'female', 'lion', 'lion', 'lion', 'lion', 'lion', 'male lion', 'male lion and a female tiger', 'tigon', 'no , what liger', 'tigon', 'leoligulor', 'lion', 'tigers', 'mother lion a - tigon this is a liger tigon', 'lion', 'lion', 'cat poo', 'womb', 'hybrid vigor', 'tiger ancestors', 'lion', 'human admixed embryo', 'hybrid', 'instrumentalist', 'tiger', 'what is a liger', '', '', '', '', '', '', '', 'tiger was reported from graubunden , switzerland .', '', '', '', 'tiger', '', '', 'what are they really like', '', ''] , lion\n",
            "172 50 ['two', '4 or more', 'three', '2.46', '14', '', 'them', 'all predefined web colors', 'secondary colors', '', '', '', '', '2007 - 2009', '', '', 'th unique color palette let you browse the colors saved', '', 'primary colors', '', '', '', '', '', '', '', '30\\\\u00a01/2 `` x20 1/2', 'all colors', '', '', '', '', 'here have many', '', '', 'choose colors', '', '', '', 'rainbow of colors barrette #cs -100 $ 15.00 #cs -308', '', 'samples', '', '', '', '', '', 'primary colors are red , green and blue', 'quite different from the actual colors of the fabrics', 'these free printable coloring pages'] , seven\n",
            "173 50 ['cynthia powell', 'annie millward', 'yoko ono', 'john lennon and yoko ono', 'john lennon and yoko ono', 'cynthia', 'john lennon and yoko ono', 'yoko ono', 'anthony cox', 'toshi ichiyanagi', 'lennon', 'ono and lennon', 'tony cox', 'lennon and ono', 'jack lennon', 'cynthia powell', 'lennon and ono', 'cynthia', 'john twist', 'johnandyoko', 'john and yoko', 'john and yoko', 'cynthia powell', 'yoko ono', 'julia', 'mary elizabeth stanley', 'lennon', 'john lennon', 'john and yoko', 'elvis and priscilla', 'toshi ichiyanagi', 'george', 'abigail drake', 'lennon', \"she do n't suffer fools gladly , even if she 's married to him\", 'you and me', 'it was all a big laugh , getting married', 'john lennon', '', '1969', 'roy kinnear', '', 'they married in 1956 .', 'the couple married in gibraltar', '', 'she', 'they divorced their spouses and were married in march of 1969', 'john', 'they married in march 1969', 'john lennon'] , yoko ono\n",
            "174 50 ['`` no matter', 'my time', 'my time', 'no matter what', 'one night in bangkok', \"`` words '\", 'easy piano', 'starlight express', 'divas', 'now & forever', 'pro vocal , female singers', '', 'pro vocal , male singers', 'this single', '6', 'jesus christ superstar , cats , evita , and the phantom of the opera', 'five', '', '1999', '8901219jh', 'modern master item number : 1700985jh', 'the classical guitar collection', 'piano duet play along', 'greats item number : 1705227jh', 'vocal duets item number : 1709486jh', 'piano play along', '', 'piano', 'jump to : naviga', 'the songs of andrew lloyd webber item number : 8900270jh', 'piano play along', 'the best of andrew lloyd webber item number : 1700972jh', 'you sing the songs of andrew lloyd webber item number : 8900879jh', '', 'the essential collection item number : 1700889jh', '', 'andrew lloyd webber', 'by andrew lloyd webber .', 'musicals', '', 'the best of andrew lloyd webber item number : 1700300jh', '', '', 'andrew lloyd webber : the essential andrew lloyd webber collection', '', '', '', '`` andrew lloyd webber', 'pop', ''] , no matter what\n",
            "175 50 ['this old heart of mine', 'markenzeichen', '`` sailing', 'you wear it well', '` mamma mia', 'blondes have more fun', 'billy connolly', 'what am i gon na do', '`` sailing', 'baby jane', 'what the heck was i thinking ?', '`` have i told you lately', 'f', 'mud oh boy', '`` sailing', 'reason to believe', 'wo .', 'blues gepr gt .', 'wo .', '3rd no 1', 'queen bohemian rhapsody 9 1st no 1', 'johnny nash tears on my pillow 1 only no 1 texan', 'the stylistics', 'tymes ms grace 1', 'telly savalas', '`` angel', 'wo .', 'philadelphian satin soul group', 'johnny logan', 'it essex', 'nicole a little peace 2', 'tonights the night', 'pilot', '`` hold me close', 'angel', '` free', 'what a wonderful world', 'sweet little rock & roller', 'his next uk no 1 was 14 years away .', 'stay with me', '', 'stone cold sober', 'best-selling single of 1975 .', \"1975 sailing 7 '' , single warner bros. .\", 'it was also released as a single , reaching # 45', \"what am i gon na do / dancin ' alone\", '1972', 'the single reached number one in the uk singles chart on 5 may 1966', 'typically tropical barbados 1 only no 1', 'the single reached number 3'] , sailing\n",
            "176 50 ['what', 'logan', 'nanga parbat', 'mt. kilimanjaro', 'it is the second name .', 'makalu', 'deadliest', 'canberra alba patera', 'k2', 'mt. everest', 'fitz roy cerro chalten', 'mount everest', '15th', 'mt. aconcagua , the tallest mountain in south america .', 'mt.everest', 'mt. everest', 'mt. elbrus , the tallest mountain in europe .', 'k2', 'puncak trikora', 'the highest', 'golden hinde british columbia tallest mountain on vancouver island', 'mountverest himalaya nepal china 1 8,850', 'k2', 'k2', '13th', 'k2', 'it is the second-highest mountain in the world', 'mount mckinley', 'mount lamlam', '11th', 'k2', '10 tallest mountai', 'it is not the tallest mountain', '15,000 foot rupal face', 'the second tallest mountain in the world , flag of nepal', 'i could be the tallest mountain in the world', 'k-2 is the second tallest mountain in the world', 'earth facts & seven wonders - tallest , longest , deepest , largest , highest', 'k2 in the himalayas', 'the killer mountain', 'k2 in the himalayas', 'pakistan', 'nothing more than a massive solar oven walled with some of the tallest peaks on earth', '` tallest mountains on earth', 'worlds tallest mountain', '` tallest mountains on earth', 'k2 -lrb', 'k2', 'two other mountains are sometimes claimed as alternative `` tallest mountains on earth', 'joby set out to become one of the few people on earth to climb the tallest mountain on each continent'] , k2\n",
            "177 50 ['the flintstones', 'the sinclairs', 'the flintstones', 'sesame street', '105', 'animal cartoons', 'farm toons sea toons', 'kols cutest pet', 'the marvel family', 'pet & pet owneners', 'brontosaurus 3 - stegasaurus', 'lok , gara , gorok', 'atomic rabbit', 'great blue marble cartoon pet animals', 'argon z', '', 'do we have any talking parrots', \"poor dinosaur does n't have a clue\", 'pets', 'pig', 'dinosaur clipart', 'my pet dinosaur view', 'animal photos pet photos crafts for your pet message boards animal noises', 'microraptor', 'cow', 'family', 'cartoon dinosaur clipart', 'dinosaur cartoons', 'bull', '', '', 'a baby horse is called a foal', '', '', 'cartoon', '', 'dad', 'pet cemetery gift image 5 - catalog reference ang0152 related topics : dinosaur', '`` why have you got that steak on your head', '', 'cows', '', '', 'an insect', '', '', 'dinosaurs', 'dog , dogs', '', 'dinosaur cartoon is posted every week .'] , flintstones\n",
            "178 50 ['eight', 'eight', 'how long', 'how many rings', '2000', 'six', 'how much thrust', 'how long', 'four', '65', 'how many', 'five', 'eight', 'six', 'how many', 'two', 'how many moons saturn has .', 'many of these were based on existing technology , suitably enlarged .', 'larger than the saturn v in most cases', 'a cluster of available rocket engines', '1998', 'it does not go far enough .', 'modules', 'lor solved the engineering problem of how to land .', 'the main issue is how to solve the problem of keeping the rocket stabilised in flight', '4 cyl saturn model how to determine', 'high performance', 'a number of jupiter engines', 'does not run', '2006', \"how man 's mobility on the mo\", '', 'bipropellant rocket engines', 'a turbine engine or a propeller does not work', 'it used the powerful new f-1 and j-2 rocket engines', 'saturn peaches how to use saturday night live iceman kilmer', 'how far is saturn from the sun .', '', '1951', 'liquid bipropellant rocket engines can be categorized according to their power cycles', 'rocket engines', \"german `` rocket scientists '' and funding their failures .\", 'saturn rocket the saturn rocket < !', 'amateur rocket groups operating in several european cities .', 'this atlas centaur launcher', 'it was staffed by most of the people in the rocket team', \"president kennedy 's boast , aired to the world that such would be the case\", '', \"kennedy 's brazen boast was fulfilled .\", 'unlike mpy , this instruction does halt execution until the multiplication is complete'] , eight\n",
            "179 50 ['jane kaczmarek', 'jack lemon', 'minette walters', 'beverly garland', 'nina foch', 'joan winchester', 'glenn close', 'miriam flynn', 'patricia cutts', 'simon williams', 'susan fleetwood', 'melissa gilbert-brinkman', 'pauline quir', 'rebecca gayheart', 'michelle collins', 'pauline quirke and caroline goodall', 'linda robson', 'hermione baddeley', 'patricia garwood', 'ms. bernay', 'sam', 'doris totten chase', 'collins', 'pavestone denver', 'paula', 'pauline quirke', 'collins', 'michael praed', 'blanche hunt', 'claire martin', 'charles dance', 'mr. johnson', 'andrew', 'mike holoway', 'gareth hale', 'adjani', 'columbo', 'rick hall', 'ray brooks daughter', 'minette walters', 'harold sowter', '', 'best actress', 'she was nominated for a best actress in a single performance emmy for her work in the 1954', 'anna', 'walters', 'the ice house', \"` scar '' in the west end , london\", 'sculptress', ''] , pauline quirke\n",
            "180 50 ['down so', 'philacinema', 'posteado por : oscars video', 'what', 'billy kwan academy award for best supporting actress ; nominated - golden globe awa', 'reaper : the complete 1st season 7', '`` well , hmm , linda hunt ?', 'best supporting actress', 'check out tvwiki tv blog !', 'down so low', 'duraci', \"mel 's best movie\", 'the big chill', '1982', '1983', 'interpreta il cineoperatore aiutante di hamilton', '70s', 'movie quotes - coolquote.net movie', 'film debut nominees', '1983', '1983', '1982', 'the film also won the best picture', 'videos and dvds', '1984', 'the english patient ?', 'lingua originale', 'academy award for supporting actress -lrb', '1945', 'city arts & lectures', '1982 pop', 'social bookmarking paranmaum', '1982 -lrb', 'silverado', '2005 , linda hunt narrated the god of war video game .', 'peter weirs', 'wikipedia', 'dvd vhs', '\\\\u00c2 \\\\u00ae , new york and los angeles film critics awards', 'best supporting actress', 'home paranmaum', 'usually following it', 'gender-switching performance', 'the year of living dangerously one of your favorite movies', \"peter weir 's film adaptation of the novel of the same name .\", 'playing a member of the opposite sex', 'she played the part of a man .', '1983', 'actress', ''] , first oscar playing opposite sex\n",
            "181 50 ['david lean', 'mike nichols women in love d.h. lawrence ; film directed by ken russell', 'david lean', 'david lean', 'david lean', 'lean', 'david leans', 'david lean', 'david lean', 'lean', 'anne v. coates', 'spiegel and lean', 'freddie young', 'ron paquet', 'michael wilson', 'edward omar', 'roger ebert', \"peter o'toole\", 'robert bolt', 't. e. lawrence', 'sam spiegel', 'david lean', 'smith in the desert', 'damian cannon', 'lean', 'sam spiegel', 't. e. lawrence', 'wikipedia', 'wikipedia', 'lawrence', '', 'sam_spiegel', '', '', 'lrb', 'he', 'bafta', 'a dangerous man', 'ny times : lawrence of arabia', 'lrb', 'lrb', 'epic adventure film , released in 1962 .', 'lrb', 'sony', 'lawrence of arabia', '', 'someone who made lawrence of arabia', 'lawrence of arabia', '', 'lawrence of arabia'] , david lean\n",
            "182 50 ['rhode island', 'rhode island', 'rhode island', 'rhode island', 'rhode island', 'the soverign military order of malta', 'rhode island', 'delaware', 'providence plantations', 'rhode island', 'rhode island', 'rhode island', 'the state of rhode island', 'rhode island', 'rhode island', 'rhode island and providence plantations', 'state of rhode island and providence plantations', 'it is the smallest state by area', 'the vatican', 'it is the smallest state in area in the country', 'it is the smallest state by area', 'rhode island', 'ocean state casino - rhode island', 'its official name is the longest official name of any u.s. state .', 'lrb', \"the smallest state 's nickname the state of rhode island\", 'it is the smallest u.s. state by area', 'rhode island', 'sailing', 'rhode island', \"the smallest state 's islands\", 'delaware , is 1954', '', \"the smallest state 's population in 2003 , the state of rhode island\", 'rhode island', 'the u.s. state', 'the smallest state : this sobriquet * for rhode island', 'it is the smallest state in area', 'rhode islanders', 'it is the smallest state in area', 'providence', 'warren', 'u.s. states', 'the smallest state in the country', 'the town has the distinction of being the smallest by area 5.8 square miles', 'one of the new england', '', '', '', ''] , rhode island\n",
            "183 50 ['don herbert', 'rasputin', 'aleister crowley', 'don herbert', 'don herbert', 'negi springfield', 'donald jeffrey herbert', 'kwisatz haderach', 'elminster', 'don herbert', 'one who practices magic ; a sorcerer or magician', 'herbert', 'don herbert', 'a person who is permitted to do things forbidden to ordinary people', 'don herbert', 'don herbert', 'a person who knows how a complex piece of software or hardware works -lrb', 'who are some of your favorite directors', 'don herbert', 'herbert', 'hacker', \"i was n't a huge mr. wizard fan\", 'let kids experience science', 'wizard', 'so long', 'someone who has extremely high-level hacking or problem-solving ability', 'mr. wizard taught them to think', 'watch mr. wizard', \"mr. wizard 's dvd library was produced by mr. wizard\", \"mr. wizard 's world\", \"mr. wizard 's science 20 dvds were produced by mr. wizard\", 'watch mr. wizard', 'watch mr. wizard', 'watch mr. wizard', 'watch mr. wizard', 'watch mr. wizard logo', 'watch mr. wizard', 'mr. wizard', 'mr. wizard studios - home page selected episodes from the original `` watch mr. wizard', 'watch mr. wizard', 'experiment', 'watch mr. wizard', 'watch mr. wizard', 'don herbert no .', 'ask mr. wizard segment where mr. wizard answered questions sent in by nickelodeon viewers of all ages', \"mr. wizard 's books of experiments\", '`` watch mr. wizard', 'mr. wizard close ups', 'mr. wizard', 'watching mr. wizard'] , don herbert\n",
            "184 50 ['tied up', 'falling', 'hylephobia - fear of materialism', 'hylephobia - fear of materialism or the fear of epilepsy', 'bound or tied up', 'hylephobia - fear of materialism or the fear of epilepsy', 'hylephobia-fear of materialism or the fear of epilepsy', 'failure', 'dust', 'gamophobia fear of materialism', 'bound up', 'bibliophobia : fear of books blennophobia : fear of slime', 'reptiles', 'being or tied up', 'clinophobia : fear of going to bed', 'psychophobia : fear of the cold', 'do you suffer from fear', 'flying to fear of the opposite sex', 'fear of being bound3', 'asthenophobia : fear of weakness', 'reptiles', 'hylephobia - fear of materialism or the fear of epilepsy', 'fear of being bound or tied up', 'fear of gold', 'islamophobia - fear of islam', 'lonliness', 'being bound or tied up', 'fear of being bound', 'heights', 'cancer', 'excessive fear', 'cymophobia : fear of waves', 'anger', 'fear of a butcher', 'writing or handwriting', 'fear of being buried alive', 'cymophobia : fear of waves', 'fear of red lights', 'mimes and clowns', 'xylophobia - fear of wooden objects or fear of forests', 'angrophobia fear of anger or the fear of cholera', 'fear of walking ancraophobia : fear of wind', 'fear of darkness', 'christophobia - fear of christianity', 'fear of money', 'fear of crossing streets', 'cholerophobia - fear of anger', 'snakes', 'blushing', 'eurotophobia : fear of the color red ; fear of blushing'] , being bound tied up\n",
            "185 50 ['anabolic steroids', 'anabolic steroids', 'what are the effects', 'an anabolic hormone', 'steroids-help - anabolic-steroids', 'phenylethanoid glycosides', 'insulin', 'what are the fallouts of anabolic steroids', 'what its used for ?', 'what are anabolic steroids', 'ergogenic and body composition changing drugs', 'anabolic steroids', 'anabolic steroids', 'adaptogenic properties', 'steroids with higher anabolic than androgenic properties', 'stigmasterol', 'anabolic steroids', 'how much of this will be new muscle tissue', 'anabolic steroids', 'painkillers depressants stimulants', 'what drugs should be used - if any - or in what manner', 'what they do , who uses them', 'anabolic steroids', 'protein and calories', 'anabolic tissue building', 'anabolic steroids', 'what does it all mean ?', 'preventing ageing and retarding aging', \"dianabol 's other constituents also function as anabolic agents\", 'anabolic properties', 'steroid skeleton', 'major classes of drugs', 'rrb- steroids', 'what is the anabolic solution for bodybuilders', 'anabolic', 'rrb- steroids', '', '', 'all drugs have their own way of working', 'long and short term side effects on men , women , and adolescents and how to avoid them', 'what & how much to eat', 'them', 'mass and strength human growth hormones', 'anabolic means the steroids will promote the building of tissue or muscle', 'most ectomorphs never take in the calories', 'increasing oxygen', 'long and short term side effects', '', \"to enhance and repair the body 's tissue-building process\", 'anabolism is especially noticeable in muscles'] , anabolic steroids\n",
            "186 50 ['glove', 'she was dressed up fit to kill', 'girls', 'girls', 'perfect', 'bill fit/ready to drop extremely tired', 'a long-necked giraffe', 'fiddle', 'crops', 'informal', 'she was fighting fit', 'fit out or up', 'proper or becoming', 'fit to kill , informal', 'fiddle', 'to adjust or make conform : to fit a ring to the finger', 'fighting fit to be very healthy', 'you', \"he 's fit for the race\", 'bill have a fit to become very upset or angry .', 'throw a fit , to become ex', 'epilepsy', 'start see fit to decide .', 'she will fit in well', 'helmet', 'the coat is a poor fit', 'how to get fit .', 'start fit in to belong', 'qualified or competent , as for an office or function : a fit candidate', 'peg dope', 'glove', 'glove', 'fit someone/something in with someone/something to belong with something', 'fiddle', 'where do you find the time in your day to fit in your children', 'adapted or suited', 'throw a fit to be very angry', \"if they do n't fit , get them adjusted\", 'someone/something to include an activity or person', 'use as much as will fit in the case', 'competent', '2007', 'glove', '', 'ring fit system provides a close fit using only thin pads', 'it was created to address the growing needs of the population for keeping fit', 'weeping', 'a door with a new handle', 'fiddle', ''] , fiddle\n",
            "187 50 ['food', 'laminated bubble wrap', 'bubble', 'fireproofing', 'acrylic sheets', 'free liquid', 'clean blotter', 'asbestos', 'fill-air \\\\u00ae', 'regularly spaced , protruding air-filled hemispheres', 'asbestos air duct vibration dampers', 'plastic mattress covers', 'material composites', 'plastic film', 'if the typewriter is not securely attached to the case this space must be filled with sufficient material', 'air foam sheets & pouches', 'burlap bags for wrapping schrubs wrap', 'cellular plastic filler', 'laminates', 'packin', 'lightweight air bubble cushioning', 'plastic film shrink wrap', 'regularly spaced , protruding air-filled bubbles provide cushioning for products or breakable items', 'air sheets foam air foam sheets', 'the invention provides numerous methods of preparing a packaged electrophoresis gel or gel .', 'pre-cut sheets can also be used between stacked items', 'sealed air \\\\u00ae air cellular cushioning material', 'casing is formed of a plastic material which is soluble in the liquid', 'plastic packaging', 'dunnage', 'there are several different bubble sizes available and the material can be antistatic or conductive', 'plastic tubes and plastic bag material', 'pp', 'air bubbles remain trapped', 'bubble pouches', 'some wrapping or other soft material between the glass and the floor', 'foam plastic material , including material which might otherwise be scrap result', 'polyethylene foam', 'plastic sheets may be reheated', 'filler being formed of numerous , small pieces of plastic , which are physically compressed together to form said strip', 'banding / bundling : wrapping several items together with plastic stretch wrap', 'grasp corner closest to you of two sheets of wrapping paper .', 'cushioning air cells', 'physically compressed together and surrounded by the casing', 'compressible filler material', '', 'a piece of air-filled plastic', 'tucking in overlapping edges', 'bags', 'trapping air bubbles between two laminated'] , bubble wrap\n",
            "188 50 ['lsb- mckuen', 'frankie lymon', 'dude mowrey', 'mike metrovich', 'what', 'jay bird', '` widow', 'frankie lymon', 'big joe turner', 'jimmy merchant', 'frankie mcbride', 'roberta flack', 'lionel cartwright', 'frankie lymon', \"frankie '' mccoy\", 'bill haley', 'martin albritton', 'frankie lymon', 'little anthony', 'solomon burke', 'frankie lymon', 'fabian -lrb', 'morris levy', 'jay michael', 'frankie lymon', 'elvis presley', 'marr', 'this may be a different singer', 'santiago', 'frankie lymon', 'ronnie spector', 'lymon', 'santiago', 'richard barrett', 'george clinton', 'vaughan', 'johnson', 'lymon', 'big twist', '', '', 'lrb', 'rsb- opn k', 'the name was later extended to group harmony', 'celebrity hollywood walk of fame', '`` the teenagers', 'goldner', 'morris levy', 'many youthful black stars', ''] , frankie lymon\n",
            "189 50 ['the praying mantis', 'ladybugs or lady beetles', 'ladybugs', 'ladybugs', 'green lacewings', 'tobacco hornworms', 'spittlebugs', 'dragonflies', 'ultomato', 'what', 'multi-purpose insect killer', 'green lacewings', 'perky-pet', 'black , alligator like larvae', 'lady beetle', 'leaf gall', 'wasps', 'wasps and bees', 'squirrel-flipping squirrel proof bird', 'beneficial insects', 'parasitoid wasps', 'insect', 'butterfly', 'ladybugs', 'pest id fungus gnats', 'houseplant', 'pests & problems of plants insect pest id', 'beneficial insects in your backyard', 'garden pests', \"it fools the birds , but it 's a red flag\", 'crickets', 'aphids are the most common garden pest insect', 'insect pest id garden', 'plants', 'larva', 'bees and wasps', 'how do i get rid of aphids', 'alligator shaped larvae', 'compost', 'insect pest', 'mono-crops', 'the beneficial insect company', 'prey', 'insects', '', 'insect pest id garden', 'pests and diseases', 'like to help other gardeners ?', '', 'insecticidal soap with our popular sulfur-based fungicide'] , ladybird\n",
            "190 50 ['trying out bizarre sexual positions', 'trying out bizarre sexual positions', 'what', 'what did map trying factory', 'sports', 'what they like', 'was doing other they developing', 'what', 'not fighting the blue doing', 'what is preparation', 'our think', 'murdered in the water', 'what does she play other ?', 'actress ride blow daily', 'what will swallowing learn cold', 'what', 'what', 'mill limit cross slaughter', 'travel', 'what', 'day blue composer', 'what is mark trying nice made', 'what will attorney have written plaster', '', 'abortion pill', '', 'instruction will not be doing', 'shaved golden through pussies year', 'hpv', 'sun', 'what education', 'pregnant women', '', 'declare independence .', 'attack in baghdad', 'british soldiers', '', '1', '', 'you are not doing into our palace could put', 'mobilize citizens against their will into work brigades', 'doing it at mcdonalds', 'recycled vegetable oil', '', '', 'they do show up', 'masonry falling from the johnson medical building', 'backless distinctions', 'human resources', ''] , trying out bizarre sex positions\n",
            "191 50 ['modern mathematicians', 'eannatum of lagash', 'babylonians', 'mesopotamian settlers', 'they were older than the persians', 'the ancients', 'the assyrians', 'bronze age people in the world', 'bronze age people in the world', 'time', 'sumerians', 'art first appears', 'parthians who had refused to accept the sassanian takeover in persia by 226 ad .', 'volumes', 'sargon of akkad', 'sumerian', 'they established the first aryan civilization , and were among the first folk to extensively work iron', 'semites', 'the passing of time', 'time', 'volume', 'time', 'children who passed them on to their children', 'kewa people of papua new guinea , who count from 1 to 68', 'people had no need to measure time', 'chaldeans', 'people who achieved a long-standing pre-emminence in mesopotamia', 'go , swift messengers , to a tall and smooth-skinned people', 'the periods of light and darkness it created were the first accepted periods of time .', 'chaldaeans', 'the people living on the alluvial plain of southern mesopotamia', 'students should first predict and then measure the volume of their containers', 'babylonians', 'fertile', '', '', 'nisan of 597 bc .', 'nolan eakins', 'mesopotamia', 'who journeyed in the east and built the city and the tower .', 'kings and rulers', 'dates and names of people who were influential in improving these calculations .', \"gods ' wrath .\", 'kings', 'jews', 'skilled workmen who worked on the city-palace of persopolis', '', 'happy', '360 was chosen because of the number of days in a year', ''] , babylonians\n",
            "192 50 ['andy roddick', 'alex olmedo', 'angela mortimer', 'arthur ashe', 'borg', 'pete sampras roger federer', 'andy roddick', 'mcenroe', 'arthur ashe', 'bjorn borg', 'chris evert', 'jimmy conno', 'chris', 'tennisbest', 'james scott', '2 84 6', 'lendl', '5 3 .', '160 3', 'jimmy connors dvds tennis fundamentals jumpusa home basketball training jimmy connors', 'the very competitive jimmy connors played his matches with a lot of heart', 'jimmy connors american tennis player .', 'jimmy connors american tennis player .', 'jimmy connors - became a grand slam champion', 'serve and volley', 'unis 3 .', 'a stunningly handsome english male player .', 'unis 4 .', 'jimmy connors', 'unis 2 .', 'jimmy connors 268 4 .', 'jimmy connors tennis', 'jimmy connors pro tennis tour', 'jimmy connors', 'tennis best', \"jimmy connors ' tennis fundamentals for kids\", 'jimmy connors presents tennis fundamentals : doubles dvd', 'jimmy connors presents tennis fundamentals : serve and volley', 'jimmy connors', 'jimmy connors presents tennis fundamentals : for kids', 'jimmy connors presents tennis fundamentals : conversations with champions', 'jimmy connors presents tennis fundamentals', 'good shot or winner has been hit by a player , connors will register his approval by m', 'jimmy connors', 'jimmy connors presents tennis fundamentals : conversations with champions', '', 'jimmy connors presents tennis fundamentals : conditioning video', 'tennis confidential', 'jimmy connorstennis fundamentals - serve and volley', 'jimmy connors presents tennis fundamentals'] , chirs evet\n",
            "193 50 ['tom wolfe', 'tom wolfe', 'tom wolfe', 'tom wolfe', 'jack macpherson', 'debra messing', 'ken kesey', 'm-z', 'tom wolfe', 'tom wolfe', 't-bird', 'tom wolfe', 'michael-john wolfe', 'wolfe sr.', 'a-l .', 'pamla abramson', 'i am charlotte simmons', 'jeder', 'liot fremont-smith', 'remember me', 'the pump house gang 1968', 'the pump house gang', 'the mid-atlantic man king of the status dropouts', 'clutter & vine', 'mccoy', 'slush pumphouse gang', 'c. stupid parents', 'wolfe', 'tin-tin', 'the pump house gang', 'james', 'the pump house gang', 'sudhir venkatesh', 'his name in the credits of these films .', 'picador', \"victims of the media ' lp\", '` baby \\\\ 47s got a gun changed there name 2 the bleeding', '', 'shelly', 'pump house gang', '', '', '', 'bellamy', 'the author intent', 'author', '', '', '', ''] , tom wolfe\n",
            "194 50 ['1929', '1878', '1923', '1929', '1929', '1897', '1913', '1929', 'yesterday', '1878', '1878', '1913', '1929', '1897', '1897', '1897', 'where', '1920', 'what', 'definition', 'who', 'free online encyclopedia', '123,620 bytes', 'the cathode ray tube site', 'old electronic glassware', '', 'william d. coolidge x-ray tube', 'mla chicago', 'open encyclopedia', 'the negatively charged electrode in an x-ray tube .', 'the classic cold cathode x-ray tube was born', 'research', 'the best-known application of a cathode-ray tube is as the picture tube in a television', '` cathode-ray tube .', 'm', 'free cathode-ray tube', 'lead', 'the cathode ray tube site crookes and geissler tubes', 'cathode ray tube .', 'catholic agency for', 'cold', 'full browser catheterization', 'kinescope', 'cathode ray tube .', 'cathode ray tube', 'karl ferdinand braun', 'modern tv sets', 'when an electron beam strikes a phosphorescent surface', 'when an electron beam generated by the cathode strikes a phosphorescent anode surface', 'when an electron beam strikes a phosphorescent surface'] , 1878\n",
            "195 50 [\"which was the world 's shortest war\", 'anglo-zanzibar war', 'anglo-zanzibar war', 'how long', 'anglo-zanzibar war', '27 august 1896', 'world war ii', '1896', '1896', '1896', '1896', '1946', '1896', '1800', 'anglo-zanzibar war', '1896', 'august 1896', '1896', 'spanish-american war', 'august 27', 'war of 1812', 'august 27 , 1896', 'suez/sinai war 1956', 'anglo-zanzibar war', 'mahdist war : battle of omdurman', 'ohio-michigan boundary war', \"israel 's hundred-hour conquest of egypt\", '1892-1903', 'second world war', '1896', 'suez/sinai war 1956', 'who', '1872', 'anglo-zanzibar war', 'anglo-zanzibar war', 'zanzibar', 'anglo-boer war', 'it holds the record of being the shortest war in recorded history', 'anglo-zanzibar war', 'the conflict lasted around 40 minutes and is the shortest war in recorded history', 'bahrain', '1940 olympics , but japan withdrew when it went to war against china .', 'it was the shortest war in history', 'the war , lasting around 40 minutes , nb 1 -rsb', 'the shortest war in history', 'the shortest complete sentence in the english language .', 'the conflict lasted approximately 40 minutes nb 1 -rsb', 'shortest-lived peerage title in british history .', 'the shortest war in history', 'one of the shortest-serving mps in history'] , 1896\n",
            "196 50 ['kate hannigan', 'catherine cookson', \"who 's who\", 'william faulkner', 'catherine cookson', 'jason ankeny', 'neighbours', 'neighbours', 'don hannah', 'neil jordan', 'frances burney', 'michael radford', 'mrs. calloway', 'freddie', 'vahn19vahn', 'wed - ca', 'neighbours', 'simon bentwood', 'quill & quire the wise and foolish virgins', 'jennifer tilly', 'samantha morton', 'hannah more', 'sir thomas bertram', 'catherine cookson', 'minstrel boy', '', 'novelist stubs', 'discworld', '', '', \"sir thomas bertram maggie o'neill\", 'novelist-stub a herbert adams', '', 'ann', 'catherine cookson', 'story characters listenability h', 'jimmy', 'fanny mcbride', '', 'minor characters : please include the full name of the character and the name of the appropriate novel', 'mallen', 'carole corbeil', '', 'jimmy', 'sisters hannah and emmeline hartford', '', 'rowan oak', '', 'fine writing', ''] , catherine cookson\n",
            "197 50 ['pancreas', 'pancreas', 'endocrine', 'corti', 'insulin', 'islet cell', 'pancreas', 'endocrine', 'appearance region', 'pancreas', 'endocrine', 'pancreas', 'islets', 'endocrine', 'exocrine portion with its ducts', 'pancreatic cancer', \"the islet of langerhans is a kind of `` mini '' endocrine organ\", 'islet cells', 'pancreas', 'ismaelian isles', 'pancreatic cancer', 'pancreatic cancer', 'cells', 'islets of langerhans', 'pancreatic cancer', 'pancreatic cancer', 'what is the pancreas', 'what causes pancreatic cancer', 'pancreatic cancer what is pancreatic cancer', 'what are the problems and limiting factors', 'what causes cancer of the pancreas', \"what 's the treatment for pancreatic cancer\", '', \"villi really are n't .\", 'what are symptoms of cancer of the pancreas', 'cells sit in tiny groups', 'what causes pancreatic cancer', 'thesaurus', 'the pancreas', '', \"what 're the risk factors for pancreatic cancer\", 'the pancreas', 'the pancreas', 'what are the risks', 'jump', '', '', '', 'the organ ,', ''] , pancreas\n",
            "198 50 ['va', 'virginia', 'virginiia', 'virginia', 'alabama', 'virginia', 'virginia', 'missouri', 'virginia', 'virginia', 'charleston', 'florida', 'virginia', 'the state', 'tennessee state', '', 'piedmont is the region of the eastern united states', 'china', '', 'petersburg', 'suffolk', '', '', 'district of columbia', '', '', 'select a state', 'the state is nicknamed the `` mountain state', 'many miles', 'waverly hills', '', 'lebanon', '', '', 'state to state', '', '', \"waugh 's personal passion and driven honest beliefs\", '', '', 'gettysburg', 'ville', '', '', '', '', '', 'march 28-april 9', '', ''] , virginia\n",
            "199 50 ['ashes for sale', 'who framed roger rabbit', 'trivia', 'a-lad-in baghdad', 'l.a. confidential', 'blind date', 'l.a. confidential', 'peekaboo', 'the marrying man', \"sullivan 's travels\", 'fight !', 'rottweiler fight !', 'l.a. confidential', '1973', 'the veil of veronica', 'the unborn bride wars', 'banned commercials', \"kim bassinger 's saved searchrolls\", 'bi alditan egon da ezkonduta', 'freixenet', 'trivia', 'good bye', \"dogpatch 's very own mrs. robinson\", 'banned commercials', 'los angeleno', 'lynn bracken', 'veronica lodge', 'lynn bracken', 'head off !', 'brittany murphy looks like a young courtney love', 'vidarena video match', 'how about kim basinger', 'veronica lake', 'vidarena video match', 'kim basinger', 'veronica lake', 'vidarena video match', 'exley is such a straight-arrow and why white so hates men who beat women', 'mystery man .', '', 'her name was veronica lake .', 'autobiography', 'lynn bracken -lrb', 'straight bankruptcy.com ^ for kim basinger', 'spitting image', 'screensaver , picture , quotation', 'this one is perfect', '', '', ''] , la confidential\n",
            "Time for whole code to run:  4122.047387838364\n"
          ],
          "name": "stdout"
        }
      ]
    },
    {
      "cell_type": "code",
      "metadata": {
        "id": "mv1Hgf79GKoS",
        "colab_type": "code",
        "outputId": "1955d23b-2e96-4c19-ec48-5df06cc6e158",
        "colab": {
          "base_uri": "https://localhost:8080/",
          "height": 561
        }
      },
      "source": [
        "df_pred.head()"
      ],
      "execution_count": 0,
      "outputs": [
        {
          "output_type": "execute_result",
          "data": {
            "text/html": [
              "<div>\n",
              "<style scoped>\n",
              "    .dataframe tbody tr th:only-of-type {\n",
              "        vertical-align: middle;\n",
              "    }\n",
              "\n",
              "    .dataframe tbody tr th {\n",
              "        vertical-align: top;\n",
              "    }\n",
              "\n",
              "    .dataframe thead th {\n",
              "        text-align: right;\n",
              "    }\n",
              "</style>\n",
              "<table border=\"1\" class=\"dataframe\">\n",
              "  <thead>\n",
              "    <tr style=\"text-align: right;\">\n",
              "      <th></th>\n",
              "      <th>pred_ans_0</th>\n",
              "      <th>pred_ans_1</th>\n",
              "      <th>pred_ans_2</th>\n",
              "      <th>pred_ans_3</th>\n",
              "      <th>pred_ans_4</th>\n",
              "      <th>pred_ans_5</th>\n",
              "      <th>pred_ans_6</th>\n",
              "      <th>pred_ans_7</th>\n",
              "      <th>pred_ans_8</th>\n",
              "      <th>pred_ans_9</th>\n",
              "      <th>pred_ans_10</th>\n",
              "      <th>pred_ans_11</th>\n",
              "      <th>pred_ans_12</th>\n",
              "      <th>pred_ans_13</th>\n",
              "      <th>pred_ans_14</th>\n",
              "      <th>pred_ans_15</th>\n",
              "      <th>pred_ans_16</th>\n",
              "      <th>pred_ans_17</th>\n",
              "      <th>pred_ans_18</th>\n",
              "      <th>pred_ans_19</th>\n",
              "      <th>pred_ans_20</th>\n",
              "      <th>pred_ans_21</th>\n",
              "      <th>pred_ans_22</th>\n",
              "      <th>pred_ans_23</th>\n",
              "      <th>pred_ans_24</th>\n",
              "      <th>pred_ans_25</th>\n",
              "      <th>pred_ans_26</th>\n",
              "      <th>pred_ans_27</th>\n",
              "      <th>pred_ans_28</th>\n",
              "      <th>pred_ans_29</th>\n",
              "      <th>pred_ans_30</th>\n",
              "      <th>pred_ans_31</th>\n",
              "      <th>pred_ans_32</th>\n",
              "      <th>pred_ans_33</th>\n",
              "      <th>pred_ans_34</th>\n",
              "      <th>pred_ans_35</th>\n",
              "      <th>pred_ans_36</th>\n",
              "      <th>pred_ans_37</th>\n",
              "      <th>pred_ans_38</th>\n",
              "      <th>pred_ans_39</th>\n",
              "      <th>pred_ans_40</th>\n",
              "      <th>pred_ans_41</th>\n",
              "      <th>pred_ans_42</th>\n",
              "      <th>pred_ans_43</th>\n",
              "      <th>pred_ans_44</th>\n",
              "      <th>pred_ans_45</th>\n",
              "      <th>pred_ans_46</th>\n",
              "      <th>pred_ans_47</th>\n",
              "      <th>pred_ans_48</th>\n",
              "      <th>pred_ans_49</th>\n",
              "    </tr>\n",
              "  </thead>\n",
              "  <tbody>\n",
              "    <tr>\n",
              "      <th>0</th>\n",
              "      <td>tetanus</td>\n",
              "      <td>tetanus</td>\n",
              "      <td>tetanus</td>\n",
              "      <td>tetanus</td>\n",
              "      <td>clostridium tetani</td>\n",
              "      <td>tetanus tetanus</td>\n",
              "      <td>masseter muscle spasm</td>\n",
              "      <td>liver cancer</td>\n",
              "      <td>tetanus -lrb</td>\n",
              "      <td>tetanus tetanus</td>\n",
              "      <td>tetanus</td>\n",
              "      <td>tetanus</td>\n",
              "      <td>tetanus lockjaw tetanus</td>\n",
              "      <td>pertussis</td>\n",
              "      <td>tetanus -lrb</td>\n",
              "      <td>tetanus</td>\n",
              "      <td>tetanus</td>\n",
              "      <td>tuberculosis</td>\n",
              "      <td>tetanus</td>\n",
              "      <td>cephalic tetanus</td>\n",
              "      <td>tetanus</td>\n",
              "      <td>influenza</td>\n",
              "      <td>papillomas</td>\n",
              "      <td>tetanus</td>\n",
              "      <td>pharyngeal diphtheria</td>\n",
              "      <td>tetanus</td>\n",
              "      <td>tetanus</td>\n",
              "      <td>fact tetanus</td>\n",
              "      <td>tetanus -lrb</td>\n",
              "      <td>muscle spasms</td>\n",
              "      <td>seizures</td>\n",
              "      <td>brain or nervous system disease</td>\n",
              "      <td>lrb</td>\n",
              "      <td>tetanus</td>\n",
              "      <td>infectious disease</td>\n",
              "      <td>vaccine</td>\n",
              "      <td>vaccine</td>\n",
              "      <td>clostridium tetani</td>\n",
              "      <td>jaw muscles</td>\n",
              "      <td>type of vaccine</td>\n",
              "      <td>the disease is sometimes called lockjaw</td>\n",
              "      <td>tetanus</td>\n",
              "      <td>legionnaires ' disease</td>\n",
              "      <td>lockjaw</td>\n",
              "      <td>respiratory obstruction</td>\n",
              "      <td>stiff jaw</td>\n",
              "      <td>lockjaw</td>\n",
              "      <td>vaccine</td>\n",
              "      <td>infections</td>\n",
              "      <td>the disease gets its common name from .</td>\n",
              "    </tr>\n",
              "    <tr>\n",
              "      <th>1</th>\n",
              "      <td>daffodil</td>\n",
              "      <td>leek</td>\n",
              "      <td>leek</td>\n",
              "      <td>leek</td>\n",
              "      <td>leek</td>\n",
              "      <td>leek</td>\n",
              "      <td>leek</td>\n",
              "      <td>daffodil</td>\n",
              "      <td>leek</td>\n",
              "      <td>daffodils</td>\n",
              "      <td>leek -lrb</td>\n",
              "      <td>leek</td>\n",
              "      <td>leek</td>\n",
              "      <td>leek</td>\n",
              "      <td>triban</td>\n",
              "      <td>red dragon</td>\n",
              "      <td>thyroid gland</td>\n",
              "      <td>leek</td>\n",
              "      <td>porrum</td>\n",
              "      <td>beans</td>\n",
              "      <td>pungent vegetable</td>\n",
              "      <td>cadillac</td>\n",
              "      <td>red rose</td>\n",
              "      <td>pewter</td>\n",
              "      <td>dragon</td>\n",
              "      <td>boiled</td>\n",
              "      <td>lunch</td>\n",
              "      <td>seedlings</td>\n",
              "      <td>triskelion</td>\n",
              "      <td>myddfai</td>\n",
              "      <td>dragon</td>\n",
              "      <td>cymru</td>\n",
              "      <td>roman</td>\n",
              "      <td>rabbit</td>\n",
              "      <td>cymru</td>\n",
              "      <td>legs</td>\n",
              "      <td>green</td>\n",
              "      <td>flower</td>\n",
              "      <td>brew</td>\n",
              "      <td>winter vegetable</td>\n",
              "      <td>the vegetable</td>\n",
              "      <td>leeks</td>\n",
              "      <td>rabbit</td>\n",
              "      <td>brew</td>\n",
              "      <td>brew</td>\n",
              "      <td>it is the accepted emblem of king arthur , the...</td>\n",
              "      <td>vegetable</td>\n",
              "      <td>concoction</td>\n",
              "      <td>the emblem as used by the obod is surrounded b...</td>\n",
              "      <td></td>\n",
              "    </tr>\n",
              "    <tr>\n",
              "      <th>2</th>\n",
              "      <td>west side story</td>\n",
              "      <td>2001 : a space odyssey</td>\n",
              "      <td>tender mercies</td>\n",
              "      <td>gate o</td>\n",
              "      <td>jan sv r k 's kolya</td>\n",
              "      <td>crouching tiger , hidden dragon</td>\n",
              "      <td>american beauty</td>\n",
              "      <td>1967</td>\n",
              "      <td>the rains came</td>\n",
              "      <td>the invisible man</td>\n",
              "      <td>revanche</td>\n",
              "      <td>the godfather</td>\n",
              "      <td>west side story</td>\n",
              "      <td>wyler 's 1959 ben-hur</td>\n",
              "      <td>the virgin spring</td>\n",
              "      <td>life is beautiful</td>\n",
              "      <td>jim rygiel joe letteri ra</td>\n",
              "      <td>the assault in 1987 , antonia 's line</td>\n",
              "      <td>the hustler -lrb</td>\n",
              "      <td>sayonara</td>\n",
              "      <td>the godfather</td>\n",
              "      <td>casanova di federico fellini</td>\n",
              "      <td>anatomy of a murder</td>\n",
              "      <td>it won the academy award for best animated sho...</td>\n",
              "      <td>1953</td>\n",
              "      <td>lead</td>\n",
              "      <td>lsb- 1 -rsb</td>\n",
              "      <td>special rules for the best foreign language fi...</td>\n",
              "      <td>the `` greatest</td>\n",
              "      <td>frank sinatra</td>\n",
              "      <td>berlin international film festival</td>\n",
              "      <td>special rules for the best foreign language fi...</td>\n",
              "      <td>it was nominated for best actor in a leading role</td>\n",
              "      <td>special rules for the best foreign language fi...</td>\n",
              "      <td>best actress oscar winners appeared in a best ...</td>\n",
              "      <td>jackson and weta</td>\n",
              "      <td>20th century 's best picture</td>\n",
              "      <td>best actor</td>\n",
              "      <td>special rules for the best foreign language fi...</td>\n",
              "      <td>1972</td>\n",
              "      <td>the category was called best special effects w...</td>\n",
              "      <td>jackson</td>\n",
              "      <td>1963</td>\n",
              "      <td></td>\n",
              "      <td></td>\n",
              "      <td>best picture</td>\n",
              "      <td>the film they won the oscar for and the year a...</td>\n",
              "      <td>best actor</td>\n",
              "      <td></td>\n",
              "      <td>dancing clothes , a bicycle without a rider , ...</td>\n",
              "    </tr>\n",
              "    <tr>\n",
              "      <th>3</th>\n",
              "      <td>sittin on the dock</td>\n",
              "      <td>`` my girl</td>\n",
              "      <td>the dock of the bay</td>\n",
              "      <td>`` tramp</td>\n",
              "      <td>respect the original</td>\n",
              "      <td>paying tribute to otis redding after 40 years</td>\n",
              "      <td>lovey dovey</td>\n",
              "      <td>sittin ' on the dock of the bay</td>\n",
              "      <td>` sittin ' on the dock of the bay</td>\n",
              "      <td>` sweet soul music</td>\n",
              "      <td>plane</td>\n",
              "      <td>dock of the bay</td>\n",
              "      <td>i 've been loving you too long</td>\n",
              "      <td>otis blue</td>\n",
              "      <td>plane crash into lake</td>\n",
              "      <td>1 otis redding featu</td>\n",
              "      <td>his posthumous number one single '' s</td>\n",
              "      <td>released posthumously</td>\n",
              "      <td>i 'm coming home 15 .</td>\n",
              "      <td></td>\n",
              "      <td>the dock of the bay</td>\n",
              "      <td>it was redding 's first live album</td>\n",
              "      <td></td>\n",
              "      <td>the dock of the bay</td>\n",
              "      <td>otis blue deluxe set coming april 22 rhino ent...</td>\n",
              "      <td>what does o</td>\n",
              "      <td>his tour airplane crashed into lake monon near...</td>\n",
              "      <td>release of his first single</td>\n",
              "      <td>monterey monterey 1967</td>\n",
              "      <td>what if</td>\n",
              "      <td>family coming to stax museum for public events</td>\n",
              "      <td>johnny jenkins who had a regional hit</td>\n",
              "      <td>otis reding arnold says : 2008 jul 07 13:57 ot...</td>\n",
              "      <td></td>\n",
              "      <td></td>\n",
              "      <td></td>\n",
              "      <td></td>\n",
              "      <td>1967</td>\n",
              "      <td>hendrix</td>\n",
              "      <td></td>\n",
              "      <td>he became the saint of soul</td>\n",
              "      <td>song</td>\n",
              "      <td>his untimely death in a plane crash in decembe...</td>\n",
              "      <td>hip-hop</td>\n",
              "      <td>1967</td>\n",
              "      <td>the album featured music recorded but not rele...</td>\n",
              "      <td>1967</td>\n",
              "      <td>december 7 , 1967</td>\n",
              "      <td>` upbeat</td>\n",
              "      <td>otis redding has left behind music that is imm...</td>\n",
              "    </tr>\n",
              "    <tr>\n",
              "      <th>4</th>\n",
              "      <td>herod antipas</td>\n",
              "      <td>herod antipas</td>\n",
              "      <td>flavius josephus</td>\n",
              "      <td>herod antipas</td>\n",
              "      <td>herod</td>\n",
              "      <td>the forerunner</td>\n",
              "      <td>the king of the jews</td>\n",
              "      <td>herod</td>\n",
              "      <td>king herod</td>\n",
              "      <td>herod</td>\n",
              "      <td>pilate</td>\n",
              "      <td>the emperor</td>\n",
              "      <td>the sick king</td>\n",
              "      <td>herod</td>\n",
              "      <td>fisher</td>\n",
              "      <td>the high priest and sadducees</td>\n",
              "      <td>the king</td>\n",
              "      <td>the commanders</td>\n",
              "      <td>herod the great</td>\n",
              "      <td>rome</td>\n",
              "      <td>their commanders</td>\n",
              "      <td>herod</td>\n",
              "      <td>his own daughter -lrb</td>\n",
              "      <td>john crossan</td>\n",
              "      <td>the soldiers</td>\n",
              "      <td>pilate</td>\n",
              "      <td>josephus</td>\n",
              "      <td>josephus</td>\n",
              "      <td>his niece salome , the daughter of herodias an...</td>\n",
              "      <td>roman soldiers</td>\n",
              "      <td>mark</td>\n",
              "      <td>john crossan</td>\n",
              "      <td>john john -lrb</td>\n",
              "      <td>he was so despised that at his death he ordere...</td>\n",
              "      <td>salom</td>\n",
              "      <td>he</td>\n",
              "      <td>st. john the baptist imprisoned</td>\n",
              "      <td>he is famous as the ruler</td>\n",
              "      <td>herod</td>\n",
              "      <td>herod</td>\n",
              "      <td>execution of the plans of the vengeful woman</td>\n",
              "      <td>he ordered them to make them all sit down by c...</td>\n",
              "      <td>she is generally supposed to be the daughter</td>\n",
              "      <td>prostitute of babylon</td>\n",
              "      <td>markan</td>\n",
              "      <td>the messiah</td>\n",
              "      <td>john</td>\n",
              "      <td>matthew</td>\n",
              "      <td>herodian</td>\n",
              "      <td></td>\n",
              "    </tr>\n",
              "  </tbody>\n",
              "</table>\n",
              "</div>"
            ],
            "text/plain": [
              "           pred_ans_0  ...                                        pred_ans_49\n",
              "0             tetanus  ...            the disease gets its common name from .\n",
              "1            daffodil  ...                                                   \n",
              "2     west side story  ...  dancing clothes , a bicycle without a rider , ...\n",
              "3  sittin on the dock  ...  otis redding has left behind music that is imm...\n",
              "4       herod antipas  ...                                                   \n",
              "\n",
              "[5 rows x 50 columns]"
            ]
          },
          "metadata": {
            "tags": []
          },
          "execution_count": 53
        }
      ]
    },
    {
      "cell_type": "code",
      "metadata": {
        "id": "9HURNlKLNxfi",
        "colab_type": "code",
        "outputId": "f6636d89-ca33-4b69-9015-e8bdeee0dbb7",
        "colab": {
          "base_uri": "https://localhost:8080/",
          "height": 200
        }
      },
      "source": [
        "df_metrics.head()"
      ],
      "execution_count": 0,
      "outputs": [
        {
          "output_type": "execute_result",
          "data": {
            "text/html": [
              "<div>\n",
              "<style scoped>\n",
              "    .dataframe tbody tr th:only-of-type {\n",
              "        vertical-align: middle;\n",
              "    }\n",
              "\n",
              "    .dataframe tbody tr th {\n",
              "        vertical-align: top;\n",
              "    }\n",
              "\n",
              "    .dataframe thead th {\n",
              "        text-align: right;\n",
              "    }\n",
              "</style>\n",
              "<table border=\"1\" class=\"dataframe\">\n",
              "  <thead>\n",
              "    <tr style=\"text-align: right;\">\n",
              "      <th></th>\n",
              "      <th>actual_ans</th>\n",
              "      <th>actual_ques</th>\n",
              "      <th>EM</th>\n",
              "      <th>precision</th>\n",
              "      <th>recall</th>\n",
              "      <th>f1</th>\n",
              "    </tr>\n",
              "  </thead>\n",
              "  <tbody>\n",
              "    <tr>\n",
              "      <th>0</th>\n",
              "      <td>tetanus</td>\n",
              "      <td>lockjaw is another name for which disease</td>\n",
              "      <td>1.0</td>\n",
              "      <td>1.000000</td>\n",
              "      <td>1.000000</td>\n",
              "      <td>1.000000</td>\n",
              "    </tr>\n",
              "    <tr>\n",
              "      <th>1</th>\n",
              "      <td>leek</td>\n",
              "      <td>which vegetable is welsh emblem</td>\n",
              "      <td>1.0</td>\n",
              "      <td>1.000000</td>\n",
              "      <td>1.000000</td>\n",
              "      <td>1.000000</td>\n",
              "    </tr>\n",
              "    <tr>\n",
              "      <th>2</th>\n",
              "      <td>guns of naverone</td>\n",
              "      <td>which film won best special effects oscar in 1961</td>\n",
              "      <td>0.0</td>\n",
              "      <td>0.333333</td>\n",
              "      <td>0.333333</td>\n",
              "      <td>0.333333</td>\n",
              "    </tr>\n",
              "    <tr>\n",
              "      <th>3</th>\n",
              "      <td>sitting on dock of bay</td>\n",
              "      <td>what was otis redding s biggest hit coming aft...</td>\n",
              "      <td>0.0</td>\n",
              "      <td>1.000000</td>\n",
              "      <td>0.800000</td>\n",
              "      <td>0.800000</td>\n",
              "    </tr>\n",
              "    <tr>\n",
              "      <th>4</th>\n",
              "      <td>king herod</td>\n",
              "      <td>who ordered john baptists execution</td>\n",
              "      <td>1.0</td>\n",
              "      <td>1.000000</td>\n",
              "      <td>1.000000</td>\n",
              "      <td>1.000000</td>\n",
              "    </tr>\n",
              "  </tbody>\n",
              "</table>\n",
              "</div>"
            ],
            "text/plain": [
              "               actual_ans  ...        f1\n",
              "0                 tetanus  ...  1.000000\n",
              "1                    leek  ...  1.000000\n",
              "2        guns of naverone  ...  0.333333\n",
              "3  sitting on dock of bay  ...  0.800000\n",
              "4              king herod  ...  1.000000\n",
              "\n",
              "[5 rows x 6 columns]"
            ]
          },
          "metadata": {
            "tags": []
          },
          "execution_count": 54
        }
      ]
    },
    {
      "cell_type": "code",
      "metadata": {
        "id": "eQk4zmOiES5C",
        "colab_type": "code",
        "outputId": "540d590e-db84-413d-bbd9-0919fc306669",
        "colab": {
          "base_uri": "https://localhost:8080/",
          "height": 88
        }
      },
      "source": [
        "df_metrics['f1'].mean(), df_metrics['EM'].mean(), df_metrics['precision'].mean() , df_metrics['recall'].mean() "
      ],
      "execution_count": 0,
      "outputs": [
        {
          "output_type": "execute_result",
          "data": {
            "text/plain": [
              "(0.7854989231873657,\n",
              " 0.6633165829145728,\n",
              " 0.8052524527398899,\n",
              " 0.8164273749700887)"
            ]
          },
          "metadata": {
            "tags": []
          },
          "execution_count": 55
        }
      ]
    },
    {
      "cell_type": "code",
      "metadata": {
        "id": "xIrm2sT1_g3_",
        "colab_type": "code",
        "outputId": "97da674b-80e0-458f-bf9b-8654fae95ac7",
        "colab": {
          "base_uri": "https://localhost:8080/",
          "height": 284
        }
      },
      "source": [
        "df_merge = pd.concat([df_pred, df_metrics], axis=1)\n",
        "df_merge['dataset'] = \"quasar_t_short_dev\"\n",
        "df_merge.columns"
      ],
      "execution_count": 0,
      "outputs": [
        {
          "output_type": "execute_result",
          "data": {
            "text/plain": [
              "Index(['pred_ans_0', 'pred_ans_1', 'pred_ans_2', 'pred_ans_3', 'pred_ans_4',\n",
              "       'pred_ans_5', 'pred_ans_6', 'pred_ans_7', 'pred_ans_8', 'pred_ans_9',\n",
              "       'pred_ans_10', 'pred_ans_11', 'pred_ans_12', 'pred_ans_13',\n",
              "       'pred_ans_14', 'pred_ans_15', 'pred_ans_16', 'pred_ans_17',\n",
              "       'pred_ans_18', 'pred_ans_19', 'pred_ans_20', 'pred_ans_21',\n",
              "       'pred_ans_22', 'pred_ans_23', 'pred_ans_24', 'pred_ans_25',\n",
              "       'pred_ans_26', 'pred_ans_27', 'pred_ans_28', 'pred_ans_29',\n",
              "       'pred_ans_30', 'pred_ans_31', 'pred_ans_32', 'pred_ans_33',\n",
              "       'pred_ans_34', 'pred_ans_35', 'pred_ans_36', 'pred_ans_37',\n",
              "       'pred_ans_38', 'pred_ans_39', 'pred_ans_40', 'pred_ans_41',\n",
              "       'pred_ans_42', 'pred_ans_43', 'pred_ans_44', 'pred_ans_45',\n",
              "       'pred_ans_46', 'pred_ans_47', 'pred_ans_48', 'pred_ans_49',\n",
              "       'actual_ans', 'actual_ques', 'EM', 'precision', 'recall', 'f1',\n",
              "       'dataset'],\n",
              "      dtype='object')"
            ]
          },
          "metadata": {
            "tags": []
          },
          "execution_count": 56
        }
      ]
    },
    {
      "cell_type": "code",
      "metadata": {
        "id": "WrLecb235-k3",
        "colab_type": "code",
        "colab": {}
      },
      "source": [
        "writePath = qasar_t_dir + \"questions/short_metric_dev.csv\"\n",
        "df_merge.to_csv(writePath)"
      ],
      "execution_count": 0,
      "outputs": []
    },
    {
      "cell_type": "code",
      "metadata": {
        "id": "fEn36GzGLNse",
        "colab_type": "code",
        "outputId": "346479d7-f801-4425-dcdd-076754a90ff6",
        "colab": {
          "base_uri": "https://localhost:8080/",
          "height": 55
        }
      },
      "source": [
        "\"\"\"\n",
        "*** UNUSED\n",
        "writePath = qasar_t_dir + \"questions/long_metric_test.txt\"\n",
        "df_.to_csv(writePath)\n",
        "with open(writePath, 'a') as f:\n",
        "    f.write(df_metrics.to_string(header = False, index = False))\n",
        "f.close()\n",
        "\"\"\""
      ],
      "execution_count": 0,
      "outputs": [
        {
          "output_type": "execute_result",
          "data": {
            "text/plain": [
              "'\\n*** UNUSED\\nwritePath = qasar_t_dir + \"questions/long_metric_test.txt\"\\ndf_.to_csv(writePath)\\nwith open(writePath, \\'a\\') as f:\\n    f.write(df_metrics.to_string(header = False, index = False))\\nf.close()\\n'"
            ]
          },
          "metadata": {
            "tags": []
          },
          "execution_count": 58
        }
      ]
    },
    {
      "cell_type": "markdown",
      "metadata": {
        "id": "um9xGKXFeltE",
        "colab_type": "text"
      },
      "source": [
        "# Now Running the Test dataset\n",
        "#### The code code be optimized by defining a common function - TBD"
      ]
    },
    {
      "cell_type": "code",
      "metadata": {
        "id": "WUQKr_SBAnP5",
        "colab_type": "code",
        "outputId": "7e15e5ea-abe0-44e4-a120-16c7e3371e6d",
        "colab": {
          "base_uri": "https://localhost:8080/",
          "height": 72
        }
      },
      "source": [
        "deemed_outlier_index_test = index_list_long_ques_test +  index_list_long_ans_test\n",
        "deemed_outlier_index_test = list(set(deemed_outlier_index_test)) #remove duplicates\n",
        "print(len(deemed_outlier_index_test))\n",
        "print((deemed_outlier_index_test))"
      ],
      "execution_count": 46,
      "outputs": [
        {
          "output_type": "stream",
          "text": [
            "151\n",
            "[1024, 1034, 2059, 2058, 2574, 2066, 1558, 537, 2075, 2593, 34, 1059, 45, 562, 1081, 1086, 2622, 577, 66, 580, 2630, 2636, 2637, 78, 1612, 80, 2129, 595, 2131, 1108, 2137, 1114, 603, 2650, 607, 98, 2155, 1142, 1663, 2176, 642, 1667, 644, 2181, 2694, 1162, 1165, 142, 143, 2706, 1684, 2708, 2712, 1178, 2715, 1182, 2210, 166, 1705, 1707, 1709, 2235, 701, 2241, 2753, 2244, 2758, 1742, 2255, 2768, 1233, 724, 1756, 2780, 1758, 2783, 1760, 2270, 2275, 2277, 2279, 2285, 754, 2291, 2302, 1791, 771, 267, 1291, 2319, 788, 1820, 2339, 1832, 298, 811, 1836, 303, 2353, 2871, 1339, 2877, 2884, 1867, 844, 1358, 2895, 1367, 346, 348, 2909, 353, 354, 355, 2913, 2916, 2416, 2929, 1398, 1913, 892, 895, 384, 2943, 2434, 2436, 1413, 2949, 1927, 2957, 912, 403, 925, 1953, 1450, 2991, 944, 432, 1458, 2999, 957, 452, 2509, 466, 979, 2520, 2022, 2552, 1530, 2043, 1535]\n"
          ],
          "name": "stdout"
        }
      ]
    },
    {
      "cell_type": "code",
      "metadata": {
        "id": "xdY1wnLtArCI",
        "colab_type": "code",
        "outputId": "669f435f-39c2-47bf-aa18-12849227323d",
        "colab": {
          "base_uri": "https://localhost:8080/",
          "height": 35
        }
      },
      "source": [
        "# ignore outliers\n",
        "testQtmp = [i for j, i in enumerate(testQ) if j not in deemed_outlier_index_test]\n",
        "testSCtmp = [i for j, i in enumerate(testSC) if j not in deemed_outlier_index_test]\n",
        "print (len(testQtmp), len (testSCtmp))"
      ],
      "execution_count": 47,
      "outputs": [
        {
          "output_type": "stream",
          "text": [
            "2849 2849\n"
          ],
          "name": "stdout"
        }
      ]
    },
    {
      "cell_type": "code",
      "metadata": {
        "id": "8DzDZlW-AXhr",
        "colab_type": "code",
        "outputId": "a03f70f6-772d-417c-fe1a-9cdf39bcb55b",
        "colab": {
          "base_uri": "https://localhost:8080/",
          "height": 159
        }
      },
      "source": [
        "testQtmp[:2]"
      ],
      "execution_count": 48,
      "outputs": [
        {
          "output_type": "execute_result",
          "data": {
            "text/plain": [
              "[{'answer': 'queen',\n",
              "  'question': 'Which is considered the most powerful piece on the chess board',\n",
              "  'tags': ['1tok', 'yes-answer-long', 'yes-answer-short'],\n",
              "  'uid': 's3q17641'},\n",
              " {'answer': '4',\n",
              "  'question': 'If its 4:00 pm in Seattle Washington , what time is it in Portland Oregon',\n",
              "  'tags': ['1tok', 'yes-answer-long', 'yes-answer-short'],\n",
              "  'uid': 's3q1671'}]"
            ]
          },
          "metadata": {
            "tags": []
          },
          "execution_count": 48
        }
      ]
    },
    {
      "cell_type": "code",
      "metadata": {
        "id": "ShFGlnPdoe8o",
        "colab_type": "code",
        "outputId": "775e9c2a-bc7c-4b67-d126-7c9174146c2b",
        "colab": {
          "base_uri": "https://localhost:8080/",
          "height": 1000
        }
      },
      "source": [
        "import time\n",
        "\n",
        "#using top 5 scored passages as per QUASAR dataset  \n",
        "itopN_pred_ans = 40\n",
        "#using only first 200 records due to RAM and runtime limitation\n",
        "n_records = 200\n",
        "\n",
        "#some special chars related to brackets are removed\n",
        "Remove_word_list = ['lrb-' , '-rrb', '-lrb-', '-lsb-', '-rrb-', '-rsb-']\n",
        "\n",
        "pred_ans_list_col_names = {}\n",
        "\n",
        "\"\"\"\n",
        "  build the dataframe to store the results\n",
        "  df_pred - storing predicted ans based on the itopN_pred_ans passages count\n",
        "  df_metrics - storing prediction metrics\n",
        "\"\"\"\n",
        "#re init the dataframes\n",
        "for i in range(itopN_pred_ans):\n",
        "  pred_ans_list_col_names[('pred_ans_' + str(i))] = []\n",
        "df_pred= pd.DataFrame(pred_ans_list_col_names)\n",
        "df_metrics = pd.DataFrame({'actual_ans': [], 'actual_ques': [], 'EM': [], 'precision': [], 'recall': [], 'f1': []})\n",
        "\n",
        "\"\"\"\n",
        " Running prediction loop\n",
        "\"\"\"\n",
        "t1 = time.time() #time it\n",
        "\n",
        "count = 0\n",
        "for id in range(len(testQtmp)):\n",
        "  pred, metrics = get_predicted_answer(testQtmp, testSCtmp, model, itopN_pred_ans, Remove_word_list, id)\n",
        "  count = count + 1\n",
        "  if (count >= n_records):\n",
        "    break\n",
        "  \n",
        "  for i in  range(len(pred)):\n",
        "    pred_ans_list_col_names[('pred_ans_' + str(i))] = pred[i]\n",
        "\n",
        "  df_pred = df_pred.append(pred_ans_list_col_names, ignore_index=True)\n",
        "\n",
        "  df_metrics = df_metrics.append({'actual_ans': metrics[0], 'actual_ques': metrics[1], 'EM': metrics[2], \n",
        "                              'precision': metrics[3], 'recall': metrics[4], 'f1': metrics[5]}, ignore_index=True)\n",
        "\n",
        "t2 = time.time()\n",
        "print('Time for whole code to run: ', (t2-t1))"
      ],
      "execution_count": 49,
      "outputs": [
        {
          "output_type": "stream",
          "text": [
            "0 40 ['queen', 'the queen the queen', 'queen', 'queen', 'the queen', \"rook 's movement queen\", 'the queen', 'the queen', 'the queen', 'queen', 'the king', 'queen', 'the king', 'the queen', 'the king', 'the queen', 'rook', 'the king', 'the queen', 'the queen', 'the queen', 'queen', 'the pawn', \"queen 's movement king\", 'kings', 'queen', 'the king', 'queen', 'the queen', 'queen', 'the queen', 'chess', 'they', 'it , too , is considered a minor piece', 'it is not considered a sound move', 'she', 'they are the least powerful piece', \"it 's the most important piece\", 'what might otherwise be considered a more powerful piece for her', 'it is the most powerful piece'] , queen\n",
            "1 40 ['what to do in portland if/when it rains', '10:40', 'overnight', '1pm', 'real speed date', '10:00 a.m', '4 www', '07:12 pm', 'today', '4', 'what to do with 5yo & 2yo', '4', '4:43 pm', 'seattle freeze', '6:00 pm pst saturday : 9:00 am - 3:00 pm', 'cost', 'washington', '4', 'lrb', 'oregon', 'harney', '4', '20', 'portland oregon its not ok', 'portland vs. boulder vs. seattle its a battle', 'any native new yorkers', 'or', '', 'canteen', '', 'home our practice', 'portland', 'disc jockey service', 'portland', 'vend northwest', '', 'vancouver , b.c.', '', '', 'home our practice'] , 4\n",
            "2 40 ['john bailey', 'george roy hill', 'robert redford', 'robert redford', 'robert redford', 'robert redford', 'robert redford', 'redford', 'donald sutherland', 'redford', 'robert redford', 'robert redford', 'redford', 'robert redford', 'donald sutherland', 'jarrett', 'colin jacobson', 'guest', 'judith guest', 'guest', '', '', 'direc', 'the deer hunter', '', '', '', 'that was ordinary people !', '', '', 'it lost the best picture academy award to ordinary people', 'ordinary people -lrb', '', '', '', '', 'ordinary people', 'an extraordinary motion picture', '`` ordinary people', 'ordinary people'] , robert redford\n",
            "3 40 ['hobgoblins 2', 'lsb- it -rsb', 'spares', 'wikipedia', 'the 25 worst sequels', 'wikipedia', 'wikipedia', 'wikipedia', 'wikipedia', 'wikipedia', 'wikipedia', 'wikipedia', 'wikipedia', 'wikipedia', 'wikipedia', 'it was rated by entertainment weekly as one of the `` the 25 worst sequels', 'george clooney', 'lsb- 2 -rsb', 'lsb- 14 -rsb', 'lsb- 66 -rsb', 'the film was criticized amongst fans and considered the weakest entry', 'the film', 'the 50 worst movies ever made', 'the 50 worst movies ever made', 'the film', 'the film', 'lsb- 18 -rsb', 'superhero film', 'movie', 'the 50 worst movies ever made', 'huyck and katz', 'the 50 worst movies ever made', 'this version is generally considered a major improvement on the theatrical release', 'superhero film', 'superhero film', 'superhero film', 'it', 'superhero film', 'superhero film', 'it is often considered one of the worst movies'] , attack of killer tomatoes\n",
            "4 40 ['parrot', 'lories', 'neotropical parrots', 'parrots', 'parrots', 'new world parrots', 'birds of the parrot fami', 'it is the largest living species of bird', 'birds of the parrot family', 'parrot type', 'bird', 'parrot family', 'mini macaws', 'the greenwing', 'parrots in the world', 'hyacinth macaw', 'harlequin macaw - one of the more colorful of the macaw family', 'the larger macaws are definitely for the most experienced bird owner', 'birds', 'those on st. lucia and st. vincent', 'the most familiar and `` classic', 'military', 'scarlets', 'shamrock macaws are a very colorful hybrid macaw', 'scarlet macaws are said to be found in nicaragua', 'these are the most commonly available', 'tanagers', 'the yellow collar is the second largest of the mini macaws', 'most macaws love to splash around in a lukewarm bath .', 'this makes them one of the largest macaws .', 'shamrock macaw - shamrock macaws are a very colorful hybrid macaw', 'red', 'colorful plumages', 'one of the most recognizable bird groups in the world', 'all', 'this genus contains 11 of the 17 species', 'these macaws are a bit more colorful than most other small macaws', 'macaws', 'macaws are known for their often colorful plumage', 'clay lick'] , parrot family\n",
            "5 40 ['september 1992', 'late 1992', 'late 1992', 'july 16 , 2008', 'june 2005', '1968', '1997', 'march 7 , 2011', '1991', 'experience', '` takeover', 'eighth', '1992', '1995', '1991 and early 1992', '', 'late 1980s', 'when i was a youth', 'when i was a youth', 'teens when the album was recorded .', 'when the single was re-released', '', '', '', '', '', 'letra fire', 'movie the wackness .', 'fire , fire , fire , fire !', \"` world 's on fire\", '` poison', 'when i was a youth', 'when i was a youth', '1992', 'experience b u y', 'fire !', '', 'a b `', 'fire , fire , fire !', ''] , 1992\n",
            "6 40 ['shoemaker', 'majestic prince', 'big brown', 'bill hartack', 'authorized', 'plaudit', 'frankie dettori', 'calvin borel', 'dave gutfreund', 'portuguese lil .', 'prince fahd', 'natagora', 'stewart elliott john servis', 'johnny longden', 'dick hern', 'montjeu', 'steel pulse', 'brigadier gerard', 'sir gordon richards', 'troy ruel', 'troy ruel', 'troy ruel', 'troy ruel', 'brown', 'the 2007 winner , soldier of fortune', 'aristides', 'no subsequent derby winner', 'his ride', 'lord derby', 'sir percy', 'he died last month at age 74', '12th earl of derby', 'sheer audacity', 'troy ruel', 'he became the oldest jockey to win the kentucky derby .', '1989 to 2008 .', '', '', 'he was sidelined for the last two and a half months of the season .', ''] , willie carson\n",
            "7 40 ['domestic goat', 'dairy goat', 'dairy goats', 'male goats', 'livestock - anglo-nubian goats', 'dairy goat', 'dairy goat', 'goat', 'goats', 'goat', 'dairy', 'new zealand rare breeds', 'dairy', 'dairy', 'goat', 'dairy', 'dairy goats', 'goats for breeds of livestock project a alpine altai mountain american cashmere anatolian black', 'roman nose', 'goat', 'cross betwee', 'greyhound goat', 'swiss breeds', 'kiko', 'goat', 'the six primary breeds', 'nubian goats', 'swiss breeds', 'canary island breed', 'erect ears', 'swiss', 'nubian goats', 'swiss breeds', 'african and indian goats', 'nubian buck edit uses', 'solid or parti-colored coat', 'british alpine , british saanen', 'anglo-nubian', 'breed society website site : http://www.britishtoggenburgs', 'sm monach nero'] , goat\n",
            "8 40 ['greyfriars bobby', 'greyfriars bobby', 'rob roy', 'greyfriars', 'bum', 'bobby -lrb', 'greyfriars bobby', \"bobby 's\", 'hachik', 'lady burdett-coutts', 'bobby', 'bobby', \"greyfriar 's bobby\", 'odate', 'brown dog', 'hachiko', 'general charles george gordon', 'william chamber', 'greyfriars bobby', 'hachik', 'knysna', 'william chambers of glenormiston', 'bobby', 'witchery', 'body snatching', 'adrian welch scott', '` cage', 'movie star', 'the dog', 'lincoln', \"one o'clock salute\", 'his waiting spot at shibuya', '', 'hachikos', '', '', 'an account of the rise and establishment of the infirmary', 'his memory in edinburgh , not far from the church .', '', ''] , greyfriers bobby\n",
            "9 40 ['minnesota', 'minnesota', 'minnesota', 'minnesota', 'arkansas', 'minnesota', 'atchafalaya', 'itasca', 'minnesota', 'minnesota', 'minnesota', 'minnesota', 'itasca', 'itasca county', 'lake itasca', 'itasca', 'louisiana', 'lake itasca', 'lake itasca', 'ohio', 'lake itasca', 'new orleans', 'missouri', 'it', 'missouri', 'west', 'itasca', 'mississippi river journal : john , paddling', 'jefferson-missouri-mississippi', 'ojibwe', 'agricultural runoff', '', 'sea', '1832', 'state', 'mississippi river locks and dams', 'mississippi river is a water source for over 4 million people', 'source to sea - paddling the mississippi', '', ''] , minnesota\n",
            "10 40 ['dogs', 'bi-rite market -- 3639 18th st. san francisco , ca 94110 bry', 'guests should walk south one block to sanchez street', 'pictures', '94111 rain', 'muni 30 or 45', 'h tels', 'it extends down market street toward church and on both sides of the castro neighborhood from church street to eureka street', 'bustling downtown', 'market street', 'robert eagleson , 750 market street', 'joseph h. robinson , 1910 market street', 'jacob robinson , 750 market street', 'owners', '65 bus northbound to san fernando and first streets and walk back to market street', 'whole foods market fresno', 'muni 30 or 45 to market street', '757 market street', '', '30 or 42 on townsend street at the station to hyde street', 'road trip', \"st. mary 's square\", '', 'tech', '', 'california', '94115', '94108 map the law office of robert b. jobe has successfully represented thou', '', '', 'hyde street', 's. a. murphy , 541 market street', 'hop a cable car', 'frances street', 'gap', 'muni 30 or 45 to market street , then westbound muni service to powell street', 'vaulted ceilings', 'the ferry building is at the foot of market street', '', 'ip'] , elephants\n",
            "11 40 ['paper', 'fear of paper', 'paper', 'paper', 'paper', 'paper', 'hylephobia - fear of materialism', 'falling', 'parasites', 'no evil', 'paper', 'paper', 'neglecting duty or responsibility', 'hylephobia - fear of materialism or the fear of epilepsy', 'hylephobia - fear of materialism or the fear of epilepsy', 'gamophobia fear of materialism', 'failure', 'snakephobia , ophidiophobia - fear of snakes', 'paper', 'hylephobia - fear of materialism or the fear of epilepsy', 'fear of flying to fear of the opposite sex', 'do you suffer from fear', 'excessive fear', 'islamophobia - fear of islam', 'writing or handwriting', 'anabolic steroid', 'mimes and clowns', 'paper', 'anger', 'christophobia - fear of christianity chrometophobia , chrematophobia - fear of money', 'kreopolisophobia - fear of a butcher', 'fear of gravity', 'xylophobia - fear of wooden objects or fear of forests', 'fear of crime', 'anger or the fear of cholera', 'snakes', 'cholerophobia - fear of anger or the fear of cholera', 'peanut butter sticking to the r', 'papyrophobia papyrophobia', 'fear mongering'] , paper\n",
            "12 40 ['1 or 2 points', '2', '2', 'two points', 'two points', '110', 'two', 'two points', '2 points on top of the 6', 'two', 'two points', 'one', 'two', '10', 'two', '2', 'two', 'how to thank tfd for its existence ?', '2', 'eleven', 'how many points they give up', 'two point conversion attempt and returns it to the opposing end zone , the defensive team is awarded the two points', 'there are many rules', 'how many teams are in the playoff field .', 'penalties despite how it appears sometimes , football is not a free-for-all', 'five', '', 'a how-to guide', 'when the ball becomes dead in the possession of a team in its own goal area', 'tackling is not permitted', '', 'there are many , many variations of football formations', '', 'without football pads', 'these include touch football and flag football', 'scoring points', 'the future of touch football is a clean , finesse game', '', 'adult touch football', 'naviga'] , two\n",
            "13 40 ['lindsay davenport', 'martina hingis', 'roger federer', 'hingis', 'martina hingis', 'lleyton hewitt', 'hingis', 'maria sharapova', 'boris becker', 'martina hingas', 'roger federer', 'hingis', 'martina hingis', 'martina', 'henin', 'capriati', 'hingis', 'martina hingis', 'anna', 'sorenstam', 'the mexican', 'stepanek', 'chris evert', 'conchita martinez', 'which of the two ranked tennis player', 'martyn herman', '', 'alliss', 'the player', '', 'kings', 'wimbledon tennis champions', 'tennis vs. golf : which sport is tougher', 'she has always been an excellent tennis player', '', 'lawn tennis sports', 'she said .', 'tennis stalwarts have emerged as wimbledon champions .', 'we may or may not find the next wimbledon champion', \"women 's tennis\"] , martina hingis\n",
            "14 40 ['john paul i', 'john paul ii', 'john paul i', 'john paul i', 'john paul i', 'stephen ii', 'john paul i', 'john paul i', 'pope john paul i', 'john paul i', 'john paul i', 'pope john paul i', 'john paul i', 'john paul ii', 'john paul i', 'benedict xvi', 'john paul i', 'john paul ii', 'john paul i', 'benedict xvi', 'john paul i', 'pope john paul ii', 'his father', 'john paul ii', 'the pope', 'the pope', 'john paul', 'pope john paul', \"the pope 's body\", \"pope 's election was followed in a few days by the papal coronation\", 'pontificate', 'he', 'his successor', '', 'his tenure as pope', 'rome 27 april , 1605 , on the twenty-seventh day after his election to the .', 'he died in his private apartment at 9:37 p.m.', 'he died just 33 days after his election', 'pope', 'the angelus'] , john paul i\n",
            "15 40 ['jah', 'jah', 'jah', 'babylon', 'what do you think god wants you to call his name', 'idren or bredren and sistren', 'hashem', 'him or his imperial majesty', 'judeo-christian', 'haile selasie is almighty god', 'il d lmi , l eternal', 'haile selassie', 'god of israel', 'a plural nature of god', 'ganja', 'selassie', 'el elyon has been traditionally translated into english as i > god most high', 'how', 'haile selassie almost immediately gained a following as both god and king', 'zion', 'ehyeh asher ehyeh', 'ras tafari', 'a plural nature of god', 'haile selassie', 'allah', 'funerals', 'what can we do to aid others', '` king emmanuel the 7th adonai', 'anti-masons , including rev. ankerberg and dr. weldon , claim to do', 'ganja', 'the black man', 'bibles', '', '', '', 'rastafarians who do not do so .', 'this name is generally avoided .', 'religious right to smoke ganja', 'religious community', ''] , jah\n",
            "16 40 ['telemachus', 'telemachus', 'polyphemus', 'antinous', 'antinous', 'theoclymenus', 'georgio', 'odysseus', 'telegonus', 'telemachus', 'telegonus', 'telemachus', 'telegonus', 'deiphobos', 'james', 'laomedon', 'telemachus and penelope', 'amphimedon', 'amphimedon', 'diocles', 'ulysses -lrb', 'odysseus', 'amphimedon', 'penelope', 'polypemon', 'peleus', 'hector', 'nestor', 'his mother', 'odysseus met the spirit of his own mother', 'odysseus', 'who are the wisest of mankind', 'odysseus met the spirit of his own mother', 'calypso', 'father arts', 'suitors of penelope', 'calypso', 'telemachus execute all of the slave women', 'ulysses has at last indeed come home again , and has killed the suitors', 'ulysses has at last indeed come home again , and has killed the suitors'] , telemachus\n",
            "17 40 ['erasure', 'yazoo', 'depeche mode', 'yazoo', 'trivia', 'alf', \"what 's your name\", \"what 's your name\", \"what 's your name\", 'lrb', 'yazoo', 'yaz', 'yazoo', 'genevieve alison jane moyet', 'essex', 'erasure', 'the essential alison moyet cd , and in 2002 the essential alison moyet', 'whispering your name', 'alison moyet forums community portal alison moyet - the amf community portal', 'falling', 'vincent clark disambiguation', 'what', 'what', 'm.i.s.', 'good or futurist', 'alison moyet', 'the essential alison moyet greatest hits', 'depeche mode', 'yazoo', 'yazoo', 'synthesiser', '80s music', '', 'vince clarke & erasure', 'features vince clark and alison moyet .', '1', 'this edition includes an performance', 'pop', '', 'get record company interest'] , yazoo\n",
            "18 40 ['wiktionary', 'ukraine', 'where ?', \"niko dadiani 's ukrainian recipes\", 'the punjab region', 'ukraine', 'ukraine', 'alentejo', 'wikipedia', 'zimbabwe', 'georgia', 'where ever the russian went', 'wikipedia', 'egypt', 'ukraine', 'europe', 'ukraine', 'agriculture ukraine', 'it was once called the `` breadbasket of europe', 'ukraine', 'the ukrainian provinces of the russian empire', 'ukraine', 'ukraine', 'ukraine', 'ukraine', 'economy ukraine', 'breadbasket of europe', 'ukraines steppe', 'ukraine co', \"ukraine 's steppe\", 'europe', 'europe', '', 'ukraine', 'wolynia', 'the area was long known as the breadbasket of the soviet union', 'ukraine', '`` breadbasket', 'europe', '`` breadbasket of the world'] , ukraine\n",
            "19 40 ['what', 'register caribou', 'caribou', 'any of several large reindeer native to northern north america .', 'deer', 'woodland caribou', 'caribou', 'this is the most numerous subspecies', 'dall sheep a wild sheep', 'wild mammals of north america', 'pronghorn pronghorns', 'caribou', 'caribou', 'caribou subspecies', 'moose', 'caribou', 'caribou', 'a wild brown sheep', 'caribou caribou', 'wild caribou and domestic reindeer', 'caribou when wild in north america , is an arctic and subarctic-dwelling deer', 'wild caribou', 'caribou hunting : wild caribou', 'caribou in north america and reindeer in eurasia', 'caribou', 'wild mammals of north america', 'ruminant mammal', 'it was found in alaska , canada , and the northern us from washington to maine .', 'wild caribou', 'north', 'beer can collectors of america .', 'wild reindeer', 'arctic and sub arctic deer', 'north', 'rangifer', 'overgrazing', 'north america .', 'wild reindeer', 'north america , greenland and iceland', 'there is no record that the natives of north america ever domesticated caribou'] , caribou\n",
            "20 40 ['money', 'money', 'a pouch', 'sailors and fishermen', 'tongues', 'cutting wood , biting through the skin of fruit , or for defense', 'baleen plates which hang from the upper jaw and are used for filtering food from water', 'in what way have whales and dolphins been a benefit', 'cutting , tearing , or grinding', 'an apple , onion , and potato', 'glasses', 'highly modified grinding teeth and large body sizes', 'small tree-dwelling animals', 'tree shrews have long tails , a pointed nose , and sharp curved claws', 'reduced or no teeth', 'pointed canine teeth and molars', 'long pointed wings', 'they used to be classified in the insectivora order', 'most or all have fourty-four low crowned teeth', 'giraffe clipart 4 pieces of giraffe clipart', 'asian species', 'spade-shaped teeth', '12 tail feathers', 'short necks', 'simple , peglike cheek teeth', 'no teeth', 'watch jeff gordon porpoise movie', 'dolphins have conical teeth', 'some dinosaurs may have been endothermic', 'conical teeth of dolphins', 'woodpecker 2 clipart images', 'porpoise porpoise 2008/9 schools wikipedia selection', '100 teeth 3', '', 'what they do still have have become highly-modified', '', 'a snail can have about 25,000 teeth', '', 'physical characteristics a harbour porpoise at an aquarium .', 'swims slowly in a circle as it sleeps'] , money\n",
            "21 40 ['buckeye', 'umtali mutirikwe', 'dolisie louga', 'elizabethville lucala', 'whawha', 'momedes namib-naukluft', 'three horses', 'marandellas maroua', 'angra pequena lugenda', 'serpa pinto ment', 'mbanza-ngungu', 'mosi lager', 'lager', \"fort lamy n'zeto\", 'fort johnston mangoky', 'zambezi', 'fort rosebury mansoa', 'fort victoria matadi', 'what', 'lake kyle mutoko', 'south african breweries', 'star beer', 'lealui', 'lealui', 'zambezi river', 'zambezi river', 'victoria falls', 'safari company', 'mugs of beer', 'zambezi', 'pels', 'south africa', '', 'south of equator', 'they breed in zimbabwe after which they disperse to south africa', '', '', '', '', ''] , zambezi\n",
            "22 40 ['elvis costello', 'simon raymonde', 'clover', 'floating world records', 'elvis costello', 'jordan', 'warner bros.', 'a.o.d.', 'stiff records', 'elvis costello', 'adrenalin o.d.', 'iso records', 'jordan', 'elvis costello', 'elvis costello', 'clover', 'elvis presley', 'elvis costello', 'elvis costello', 'alarma records', 'lsb- 1 carroll', 'costello', 'alison my aim is true', 'vh1', 'alison', 'elvis', 'he', 'bullet for my valentine', 'elvis costello', 'elvis costello', '', 'lsb- 1', 'trust', 'jazzmaster', '', '', 'kojak', \"'\", \"the label decided to release `` my aim is true '' in the summer of 1977\", \"the label was aim 's flight 602\"] , elvis costello\n",
            "23 40 ['doctor zhivago', 'zhivago', 'boris leonidovich literature 1958 pau', 'biography', 'alberto moravia', 'poetry and fiction', 'literature', 'the nobel prize in physics 1958', 'where', 'the nobel prize award ceremonies', 'zhivago', 'lyrical poetry', 'lyrical poetry', '`` nobel prize in literature', 'jean-paul sartre , awarded the 1964 nobel prize in literature', 'the russian boris pasternak 1890 -- 1960', '', 'the recipient declined to accept it .', 'prize declined', 'literature', 'it is a movie based on the nobel prize-winning novel', 'literature', 'has anyone ever declined the nobel prize ?', '1964 nobel prize in literature', 'this novel', 'literature', 'a nobel laureate', '', '', 'literature', \"he was awarded the grand cross of the l gion d'honneur\", 'richard kuhn , the 1938 nobel prize in chemistry', 'declined .', 'poet and writer , and winner of the nobel prize for literature', 'poetand writer , and winner of the nobel prize for literature in 1958 .', 'literature', '', '1914 , 1918 , 1935 , 1940 1943', 'i must refuse it', 'nobel laureate'] , dr zhivago\n",
            "24 40 ['how many', 'how many', '0-9', '5750', 'as many', 'm. 6.12', '', \"superman 's song\", '', '', '', '', 'god shuffled his feet', '', 'april 2007', 'april 2007', '', '100mph', 'crash test dummies', '', 'the ghosts that haunt m', '', '1966', '', '', \"it featured their hit `` superman 's song\", '`', '', '', 'this video', '2 inches', '`', '', '', '', '', '`` best of crash test dummies - collections', 'iso 13232-certified crash-test dummies', 'limit to what situations could be simulated using crash test dummies', 'people in real-world crashes as severe as this test would emerge uninjured'] , 12\n",
            "25 40 ['nato', 'military jeep uniforms', 'british mark one tank', 'bomber', 's.e. 5', 'john biggins v d e aviation', 'aviation military aircraft', 'royal aircraft factory', 'the raf', 'airplanes employed from the military aeronautics of the united kingdom', '10th and 20th engineers', 'royal flying corps', 'league of world war i aviation historians', 'royal flying corps', 'u.k. military museums', 'aircraft used by the british royal air force and royal navy fleet air arm during the second world war .', 'commanders aces aircraft of the entente powers aircraft of the central powers zeppelins', 'it saw combat', 'military wing of the royal flying corps', 'naval', 'british soldiers guard argentine prisoners of war during the falklands war .', 'world war one from the bbc .', 'wds', 'blitz', 'british military history of world war ii', 'world war i aviation', 'british bases', 'australians have fought in nearly every major war of the 20th century including the second boer war , world war i', '', 'global m', '', 'world war i', 'medal cards', '', \"cyndi '\", 'forestry engineers', 'aviation', 'military history/members/user wpmilhist', '', ''] , royal\n",
            "26 40 ['order adderall overnight', 'your going to mess his whole world up', 'tramadol', 'what dosage', 'the correct treatment', 'tramadol', 'tramadol', 'tramadol', 'tramadol', 'tramadol', 'tramadol', 'what about the long-term effects on the brain and neurotransmitters', 'this is also a good way to be assured of doing business with a legitimate company', 'tramadol', 'what fantastic drugstore', 'it is safe for everyone', 'tramadol', 'tramadol', 'it is safe for everyone', 'these people do not know what tramadol', 'what should happen in actual clinical practice', 'adderall picturepeople', 'what', 'what affect will it have on the brains of children', 'add your business now', 'what happens if i tramadol fedex without prescriptionmiss a dose', '', 'tramadol20 commentsrate it', 'this is what works best for me : tramadol and gabapentin', 'slippery', 'posten', 'what affect will it have on the brains of children', 'dpd-network , others as dpd rest of the world', 'family business', 'tramadol ii of the world', 'dpd dpd is a simple and reliable business-to-business door-to-door service', '', '', 'the service provides you with a fast and secure conveyance of postal items', 'does not include rural carrier routes'] , cash on delivery\n",
            "27 40 ['monterrey', 'guadalajara', 'nonthaburi', 'guadalajara', 'guadalajara', 'guadalajara', 'guadalajara', 'manzanillo', 'guadalajara', 'guadalajara', 'chiang mai', 'birmingham', 'guadalajara', 'guadalajara', 'guadalajara', 'christchurch', 'guadalajara', 'guadalajara', 'shanghai', 'guadalajara', 'guadalajara', 'chicago', 'mexico city', 'rotterdam', 'pueblo', 'tokyo and bombay', 'greater mexico city', 'glasgow', 'sw mexico', 'guadalajara', 'mexico city', 'it is second the largest city', 'second city', 'the united states', 'it is the second most populous city in mexico', \"it is the country 's second largest city , the former capital , and the largest port\", \"it is also the country 's second largest city .\", 'more than 5 million', 'this is a list of the largest and second largest cities by population in each country', 'the second largest city in a country the second city'] , guadalajara\n",
            "28 40 ['rrb- grattan bridge', 'the long bridge', 'trinity college bridge', 'butt bridge', 'cambridge bridge of sighs', 'walton bridge', 'charles bridge', 'charles bridge', 'the bridge and tunnel club', 'mathematical bridge', 'mr groom for the use of a boat', 'bascule bridge', 'all that a century left above', 'the river cam', \"bridge at king 's college\", '', '', 'centre for mathematical sciences', 'the bridge was originally designed and built by sir isaac newton without the use of nuts or bolts', '', 'it was dismantled in 1783 to make way for a brickwork bridge which was complet', 'boat', 'the bridge was designed and built by sir isaac newton without the use of nuts or bolts', '', 'the bridge dates from the late 18th century , the earliest reference to it being in 1784', 'this bridge is now open for use by cyclists .', '', 'it was designed without non-motorized access', 'the bridge', 'it held itself together without any bolts or screws', 'the bridge was designed and built by sir isaac newton without the use of nuts or bolts', '', 'the bridge was originally built without nails', '', '', '', 'make meals easy', 'arch bridges of cast iron at the 18th century .', 'this became the most important bridge material up to the 19th century .', 'bolts'] , mathematical bridge queens college\n",
            "29 40 ['alkaline', 'water', 'ice water', 'water', 'water', 'water water', 'water', 'water', 'what type of water', 'water', \"what 's the best way to get that water\", 'what is the best drinking water', 'water', 'drinking water', 'what drinks', 'when is it best to drink an energy drink', 'the colon', 'plenty of water', 'water', \"water with meals , it 's best to drink a little room-temperature water\", 'meals', 'energy', 'what is the best energy drink', 'water', 'energy', 'water', 'what', 'fluid to drink', 'what', \"what 's the message ?\", 'energy', 'what you want to drink', 'what your favorite drink', 'energy drink', 'what th', 'fluid', 'it can be the cure', 'this is what fuels your body and gives you energy', 'what i need', 'muscle building'] , water\n",
            "30 40 ['forty', '3', 'twenty', 'what year', '6', 'how and for what reasons', '1945', 'three', 'how', 'how did it end', 'how successful were the attempts at d\\\\u00e9tente in the years 1962 to 1975', 'how did you do', 'how many', 'how did you do that ?', 'what', 'before or after', 'how did the new deal programs change the role of government ?', 'how did so many smart guys make such a mess of vietnam', 'millions', \"how to '' end the war against japan : invasion or a-bombs , or both\", 'how much time', '1955-1972', 'after', 'many', 'how did these events impact the baby boom generation', '1975', \"how did the women 's movement develop ?\", 'what ways', 'war years', 'how did the lives and social status of women change', '1996', 'why', 'how did roosevelt try to tackle the depression', \"how did their economic policies differ from the republic 's\", 'how did relations between the two superpowers change after the cuban missile crisis', 'why did the us enter wwii ?', '', 'after the end', 'after', 'ended'] , 80\n",
            "31 40 ['white', 'white', 'white', 'red', 'red', 'green', 'green-white-black', 'republican flag', 'red', 'red', 'black', 'islam', 'white', 'lrb', 'black-red-green', 'table flag', 'hanoverian regiments by the allegorical picture on each colour .', 'red', 'flags of afghanistan colours', 'third pole', 'this flag', 'green , white and black', '', 'taliban flag', 'it', 'flags', 'taliban leader could be a new afghan president a taliban leader could be a new afghan president in two years .', 'the presidential flag of kosovo', '', 'national flag', 'national flag', 'taliban leader could be a new afghan president in two years .', '', '', 'flag', '', '', 'the coat of arms consists of three dolphins', 'the flag', ''] , white\n",
            "32 40 ['turin', 'uruguay', 'uruguay', 'uruguay', '1982 world cup', 'switzerland', 'uruguay', 'it was organised by two countries', 'scotland', 'no nation', 'spain', '1974 world cup', 'europe', 'germany', 'holland football tickets world cup tickets', 'paraguay', 'the finals', 'the dutch national team finished first in their world cup qualification group', 'sweden', 'france football tickets world cup tickets', 'england football tickets world cup tickets', 'poland', 'portugal football tickets world cup tickets', '2006', 'croatia', 'usa football tickets world cup tickets', '2006', 'world cup - serbia montenegro', '2006', 'argentina football tickets world cup tickets', 'the world cup was not the first international football competition', '2010 world cup tickets - fixtures world cup', \"they 've already qualified as hosts .\", '2006', 'afc world cup', 'world cup final', 'jamaica', 'the first football world cup was held in 1930', 'online', 'football world cup'] , uraguay\n",
            "33 40 ['lrb', 'gammadion', 'swastika', 'crux ordinaria', 'swastika -lrb', '` mexico', 'the stake and the gibbet', 'swastika', \"st. anthony 's cross\", \"the saint anthony 's cross and crux commissa\", 'fylfot , suastika , tetraskelion , twisted cross', \"st. andrew 's cross\", 'what manner of people', 'latin cross or crux ordinaria', 'laurel', 'deep dark forest der', 'crux commissa', 'the latin cross or crux ordinaria', 'twisted cross cross cramponned', 'lrb', 'cross crux gammata', \"good friday is generally believed to be a corruption of god 's friday\", 'crux immissa', 'crux ansata', 'freedom township women s club', \"national socialist german workers ' party\", 'swastika', 'fylfot', 'what was he doing in corcyra', \"`` ceremony '' and `` rituals\", 'hdi crux gammata - absurd', 'croiz gamm', 'swastika', 'a border of linked swastikas', 'tetragrammaton , lauburu', 'nazis', 'this crux gammata', '', 'jpg tetragrammaton', 'dove'] , swastika\n",
            "34 40 ['the pentagon', 'the pentagon', 'obama', 'pentagon', 'amlink bath toilets', 'pentagon blast-doors', 'pentagon', 'the pentagon', 'the us', 'timber crossovers', 'pentagon', 'a platform is not usually needed within a small place of worship', 'what', 'what is the cost of this un-needed buildup in the middle of the current financial crisis', 'national fire', 'the pentagon', '', 'nation-building', 'american methods of dissent', 'nation-building', 'some are without fresh food and showers and telephones', 'dod', 'it has to be concealed', '', 'the war department needed a new home and a big one .', 'dale carnegie , `` understand what the other person wants', \"there 's also a question of double standards\", 'american shopping spree', 'most common toilets', 'eads', 'at the edges of the room', 'dod', 'government', '', '', '', 'american interrogators put copies of the quran on toilets or in one case , flushed one down a toilet', 'it is to help them keep what they have and to still be part of the american dream .', 'american airlines flight 77', 'building site needs'] , pentagon\n",
            "35 40 ['nostophobia', 'nostophobia', 'ecophobia', 'nostophobia', 'oikophobia', 'ecophobia', 'oikophobia', 'nostophobia', \"what 's your phobia\", 'hypengyophobia', 'oikophobia', 'patroiophobia', 'what are symptoms seen in an adolescent with a phobia', 'what about us consumers', 'ecophobia', 'nostophobia', 'domatophobia', 'oikophobia', 'eicophobia', 'nostophobia', 'what the hell are those ?', 'hypnotics', 'eicophobia', 'eicophobia', 'hypnosis what is hypnotherapy', 'eicophobia', 'pheww', 'reality', 'anxiety', \"what 's your passion in life ?\", 'what could that creature possibly b. . .', 'whatever is secret', 'free what', 'some noises they hear on the battlefield might not represent immediate threats', 'circus of fear', 'what are you afraid of ?', 'the cause', 'writing but a conversation with our secrets', 'they mean', 'abstract-value #'] , nostophobia\n",
            "36 40 ['o.j. simpson', 'o.j. simpson', 'ron johnson', 'o.j. simpson', 'o.j. simpson', 'eric dickerson', 'o.j. simpson', 'o. j. simpson', 'simpson', 'simpson', 'tarkenton', 'jim browns', 'simpson', 'simpson', 'sanders', 'lewis', 'garrett', 'griffin', 'simpson', 'sanders', 'simpson', 'simpson', 'joe', 'buffalo bills', 'bert bell', '', 'junior', '', 'he was named nfl player of the year in 1972', '1979', 'he', 'he', '', 'in 1983', 'he also rushed for 202 yards and another touchdown', '', 'no one has rushed for more yards in a single nfl season', 'he rushed for over 1,500 yards in a season', 'he ran for 1,139 yards', ''] , oj simpson\n",
            "37 40 ['battle of the somme', 'battle of the somme', 'battle of verdun', 'battle of the somme', 'the battle of the somme', 'battle of the somme', 'battle of the somme', 'somme offensive', 'battle of the sambre', 'battle of the somme', 'pozieres', 'battle of ancre', 'ancre', 'battle of the somme', 'coronation review at the delhi durbar', 'battle of the ancre heights', 'battle of dujaila', 'the great war', 'somme', 'malt trench at butte de warlencourt', 'battle of flers-courcelette', 'the heeresfront against russian and romania', 'the cavalry charge', '1916 , 6th infantry division , 18th brigade .', 'battle of guillemont', 'it took part in the first ten days of continuous fighting on the somme', 'this took place on 18 september .', 'the south staffordshire regiment', 'helles , the 1st dublins took part in the numerous attempts to capture krithia', 'the great war', 'eastern division', 'the 35th reserve division', 'prunaru', 'pozi res', 'various trench raids', 'the battle was preceded by artillery bombardment and the initial attack was on july 1 , 1916 .', '18th bde .', 'until november 1915', 'dernancourt', '98 bde'] , battle\n",
            "38 40 ['ridiculous', \"what 's in a name\", '`` foreign ; strange', '`` foreign ; strange', '` gift of apollo', 'wikiname', 'power can mean `` one from pois', '` foreign ; strange', '` song', 'opallios', '`` ocean', '`` ocean', 'the name of the mountain home of the greek', \"what to do if we ca n't agree on a unique baby name\", 'female', 'kallaia', 'foreign or strange / traveler', 'what', 'elaia', 'barbaros', 'sophie', 'barbarian', 'zoe', 'margaret', 'chloe', 'saint barbara', 'penelope', 'luger', 'chile popularity', 'ancient greek', \"barbara a'hearn\", 'jason comes from the greek origin', 'the name sebastian comes from the greek origin', 'greek \\\\u03b2', 'united states popularity', \"baby name does n't have rating , please rate the baby name\", 'the name nicholas comes from the greek origin', 'the name luke comes from the greek origin', 'greek the mean ... jason the name jason is a baby boy name', 'barbarian'] , strange or foreign\n",
            "39 40 ['save the children', 'save the children fund', 'the save the children fund', 'aplastic anemia foundation of america', 'the thusanani childrens foundation', 'oesophageal patients association', 'national comprehensive cancer center network', 'communities foundation for northern ireland', \"children 's aid society\", 'teenage cancer trust', 'zichron menachem israel', 'fountain centre', 'umephi', \"children 's leukaemia trust\", 'the association of guernsey charities', 'european organisation for research and treatment of cancer', 'kidsafe kidsafe', 'national kidney cancer association', 'usa', 'sisters of nazareth', 'asociaci\\\\u00f3n civil', 'radd -lrb', 'charitable - baptist charitable organizations', 'wikipedia', 'charitable foundations', 'charitable remainder irrevocable unitrust', 'the hospital', 'children in need', 'it', 'it sustained the organisation', 'the organization', 'eglantyne jebb', 'charitable organisation', 'declaration of the rights of the child', 'an organisation which plans to work internationally', '', 'organisation is set up to raise funds for a specified organisation', '', 'hospital', 'organisation is set up exclusively for charitable purposes'] , save children fund\n",
            "40 40 ['spammers and feed scrapers', 'thieves and falsifiers', 'fraudulent thieves', 'halfwits , inquisitors', 'the simoniacs', 'beatrice', 'the magicians , diviners , fortune tellers , and panderers', 'diviners , soothsayers', 'charlatans , mountebanks , impostors , conmen and thieves', 'gluttons', 'semiramis , dido , cleopatra , achilles', 'halfwits , inquisitors and thieves', 'well of the giants', 'those who committed the sin of lust', 'conjurors', 'thieves now open for business', 'all the clerics of the evangelical right , sowers of prophetic discord , liars', 'many magicians', 'the flatterers , hypocrites , thieves', 'thieves now open for business', 'magicians', 'sorcerers and were quite different from the modern magical entertainers', 'they are quite different to their predecessors', 'cacus', 'initiates', 'guards the seventh circle of hell', 'classics', 'kabalistic worlds', 'several professional magicians', 'awright !', 'paradise', 'people who did not commit evil acts', '', 'mystical intent', 'dantes initiator is feminine .', 'many professional magicians consider him to be the first grand master of magic', '', 'misery', 'divine comedy', 'dantes experiences .'] , politicians\n",
            "41 40 ['ba', 'king jird', 'gerbils', 'rat', 'gerbils', 'gerbils', 'cranes', 'gerbils', 'crane cranes', 'their long tails', 'hare hares', 'frogs', 'head', 'guinea pigs', 'jerboa the jerboa is a small , long-tailed', 'vole vole', 'hares hares', 'avocets', 'cottontail', 'the stilts', 'vole', 'it has long hind legs and tail', 'mice', 'rat', 'they have long strong legs with powerful talons', 'leaping', 'its long hind legs and tail', 'kangaroo rats', 'rabbits also use their powerful back legs for defense , punching with their hind feet', 'adults will thump with their hind legs', 'the long , powerful hind legs are used by a rabbit', 'both male and female stand on their hind legs', 'its hind legs are short', 'their hind legs and feet are long , with strong muscles for leaping', 'long hind legs', 'leaping', 'many species have long hind legs used for leaping', 'jerboa a mouselike rodent with long hi', 'burrowing mouselike rodent', 'brief'] , gerbil\n",
            "42 40 ['jersey zoological park', 'channel island of jersey', 'jersey zoo', 'kookaburra', 'jersey zoological park', 'miskolc zoo', 'jamshedpur , india', 'argentina', 'her boarding house', 'les augr s manor', 'jersey', 'duke university', 'jersey zoo', 'corfu , greece', 'the grounds of the manor', 'manor grounds', 'melbourne', 'a small island', 'bbc', 'my luggage', 'southern', 'chi-chi', 'durrell wildlife conservation trust', 'alexandria', 'alexandria', 'island', 'it was also the personal residence', 'durrell wildlife conservation trust', 'public', '`', '1995', 'zoo cages', 'open zoo', 'did you know it costs durrell # 100,000 a year just to feed the animals', \"if one could `` fall in love '' with a book\", '1956', 'the zoo did occasionally play host to a gorilla named john', 'nobel prize for literature', 'nobel prize in literature', 'the zoo grew in size'] , jersey\n",
            "43 40 ['ecuador', 'ecuador', 'nauru', 'tupi', 'ecuador', 'guinea', 'ecuador', 'ecuador', 'india', 'ecuador', 'kosovo', 'ecuador', 'which city', 'ecuador', 'bulgar', 'yugoslavia', 'pakistan', 'quito', 'libya', 'czech republic', 'benin', 'cotopaxi', 'tibetan', 'cotopaxi , which is located just south of quito', 'ecuador', 'liechtenstein dynasty', 'yemen', 'brunei darussalam', 'malay peninsula', 'the name of the country', 'lietuva', '', 'it lies on the equator', 'arabic', 'mount chimborazo', 'annobon', 'terrestrial , equator divides the earth', 'country', 'the equator is the only line of latitude', 'straddeling the equator'] , ecuador\n",
            "44 40 ['elvis costello', 'elvis costello', 'elvis costello', 'costello -lrb', 'bandleader', 'valedictorian', 'elvis costello', 'rock', 'actors', 'celebs', 'musicians', 'elvis costello', 'a young londoner', 'celebrity catholics', 'elvis costello - wikipedia , the free encyclopedia elvis costello', 'celebs who have change', 'freddie mercury of queen', 'real name is declan patrick mcmanus and he was born in london .', 'irish extraction', 'celebrity names : the original names of famous people who have changed their real name', 'costellos', 'celebrity names : the original names of famous people & celebs who have changed their name', 'his real name is declan mcmanus .', 'famous - name', 'musicians', 'elvis', 'rock and roll', 'elvis costello - wikipedia , the free encyclopedia elvis costello', 'elvis costello', 'celebs', \"costello : they 'd be expecting a guy in a cable-knit sweater singing whaling songs\", 'celebrity names : the original names of famous people who have changed their real name', 'song', 'duo', '1954 - from england styles n', 'born in liverpool', 'engelbert humperdinck - arnold dorsey why the h', '', 'doris mary ann von kappelhoff', 'elvis costello'] , elvis costello\n",
            "45 40 ['dionne warwick', 'isaac hayes', 'isaac hayes', 'isaac hayes', 'isaac hayes', 'hayes', 'sting', 'david porter', 'hayes', 'guy sebastian', 'hayes', 'hayes', 'head to toe 8 .', '100 proof aged in soul .', 'isaac hayes', '100 proof aged in soul .', 'hayes', 'mac', 'stax', '', 'isaac hayes', 'whose line is it anyway ?', 'one was `` hot buttered soul', \"bacharach and david 's\", \"you 've got a hard head 3 .\", 'burt bacharach and hal david', 'hayes', '', 'hot buttered soul', 'his shiny beard-to-ear scalp', '', 'consider me , a classic stax eddie floyd', \"i love ` hot buttered soul ' .\", 'mr. potato head', 'my favorite album is ` hot buttered soul', '`` hot buttered soul', '', 'he released his first solo album in 1967 , and his 1969', '', ''] , isaac hayes\n",
            "46 40 ['jackie gleason', 'mark rutkowski', 'henry fonda', 'jfk', 'jackie robinson', 'gleason', 'gleason', 'gleason', 'william s. paley', 'gleason', 'cbs', 'william paley', 'gleason', 'julia tuttle', 'jackie gleason', 'allen', 'jackie gleason', 'arthur godfrey', 'ralph', 'miami beach', 'hanna-barbera', 'norbert dorsey', 'miami', 'american scene was initially filmed live in new york city ; after two seasons , production moved to miami , florida', '', 'miami beach', '', '', 'miami beach', 'pan american airways moved to miami', 'gleason', '', '', 'csi', 'miami', 'rrb- 8.6 / 10 84 4 the hollywood palace', 'miami', '', '', 'miami'] , jackie gleason\n",
            "47 40 ['geoffrey chaucer', 'geoffrey chaucer', 'geoffrey chaucer', 'geoffrey chaucer', 'geofrey chaucer', 'chaucer', 'geoffrey chaucer', 'geoffrey chaucer', 'geoffrey chaucer', 'geoffrey chaucer', 'chaucer', 'geoffrey chaucer', 'geoffrey chaucer', 'geoffrey chaucer', 'geoffrey chaucer', 'chaucer', 'geoffrey chaucer', 'geoffrey chaucer', 'geoffrey chaucer', 'geoffrey chaucer', 'chaucer', 'geoffrey chaucer', 'geoffrey chaucer chaucer', 'alfred noyes', 'chaucer , geoffrey -lrb', 'geoffrey -lrb', 'who', 'geoffrey chaucer', 'geoffrey', 'lsb- ?', 'dickinson', 'milton', 'caedmon , cynewulf , aelfric', 'this is the great age of religious poetry in english .', 'he is known as the father of english song', '2 .', 'hishikawa , eiichi', 'english poet remembered as author of the canterbury tales -lrb', 'philip larkin and thom gunn', 'he is often referred to as the `` father of english literature'] , geoffrey chaucer\n",
            "48 40 ['kal-el', 'kal-el', 'kal-el', 'kal-el', 'superman', 'superman', 'kal-el', 'superman', 'kal el', 'kal-el', 'superman', 'superman', 'kal el', 'kal-el', 'drax -lrb', 'kal-el', 'kal-el', 'kal-el', 'superman was born superman', 'superman', 'obama', 'kara zor-el', 'kal-el', 'jor-el', 'kara', 'a hero', 'brainiac', 'superman', 'batman', 'super', 'superman', 'general dru-zod', 'clark', 'zod', 'jor-el', 'zoda criminal', 'i was actually born on krypton', 'kents', 'he was born on krypton', 'jor-el loads kal-el'] , superman\n",
            "49 40 ['semi transparent', 'acrylic', 'what', 'red', 'dark grayish brown', 'what', 'what the difference', 'homogeneous , flat colour', 'roma color , organic', 'brown', 'red', 'red', 'hairs', \"what 's a buckeye\", 'inert', 'richer colour', '* bistre', 'red', \"acrylic artist 's ink and winsor and newton liquid acrylic\", 'brush cleaner : a compound used to clean oil', 'liquid', 'colors', 'plastics', 'organic', 'colour wheel', '', 'inks', 'organic', '', 'plastics', 'solocolor', 'bistre', 'pigment powder', 'artist and professional paints are more expensiv', '', 'colour index international', 'bistre', 'the former manufactures pigments', '', '-'] , brown\n",
            "50 40 ['ocean colour scene', 'the ronettes', 'the spencer davis group', 'ocean colour scene', 'ocean colour scene', 'ocean colour scene', 'the jam', 'ocean colour scene', \"ocs 's musical abilities , which both gallaghers and weller\", 'the working group on standardizing the extraterrestrial solar flux spectrum', 'ocean colour scene', 'the boys', 'the moment', 'ocean colour scene', 'ocean-colour data binning working group', 'ocean-colour algorithms', 'acid jazz', 'doo wop', 'russ winstanely s', 'working group : status and plans for ocean-colour missions', 'working group : ocean-colour in case 2 waters', 'past working groups', 'wikipedia', 'working group : coordination of merged data sets', 'ocean-colour data merging', 'phil anastasi', '', 'where would you belong .', '', 'ocean colour scene', '', '', 'led zeppelin', 'wikipedia', '', 'rrb', '', '', 'the beatles', 'left right and centre'] , ocean colour scene\n",
            "51 40 ['what', 'how shall we find it ?', 'how many', 'as many', 'how do you remember the colours of a rainbow ?', \"how do a rainbow get it 's colours\", 'how do you make a rainbow ?', 'how far away is a rainbow ?', 'how is a rainbow formed ?', 'seven', 'many', 'how do i harness it', 'how do we enter the tomb ?', 'one', 'many', 'how do we get the power to change it ?', 'rainbow colours', 'it surrounds us all', 'it is a blaze of many colours', 'rainbow', 'many variations of the rainbow flag have been used .', 'rainbow colours', 'the colours of a rainbow are a continuous spectrum , not a set of discrete colours', 'many vibrations reach the earth from the universe .', 'colours of angels rainbow invocation included .', 'a continuous spectrum of colours', '', 'the colours', 'how far away', 'read about how a rainbow is formed to understand this better .', 'many non-south africans know the country', 'color chart rainbow colours', 'lunar rainbows - when to view and how to photograph a `` moonbow', 'colour', 'it is rejected and condemned by the many of its masters .', 'the rainbow', 'many', '1952', 'deity', 'the rainbow can be sued in many'] , seven\n",
            "52 40 ['grand cayman', 'grenada island', 'grand cayman', 'grand cayman', 'barbuda', 'carriacou', 'cuba', 'virgin gorda', 'grand cayman', 'grand bahama', 'grand cayman', 'anguilla', 'andros island', 'cuba', 'what', 'cuba holiday rentals', 'middle caicos', 'st. martin french french st. martin', 'trunk bay', 'ronde island', 'freeport', 'st. kitts', 'the caribbean sea', 'the grenadines', 'st. john', \"wai ' tu kubuli\", 'grand cayman', 'greater antilles', 'charlotte amalie', 'which', 'which island', 'frigatebird', 'island in caribbean', 'haiti , the mountainous dominican republic', 'south', 'which one of the founding fathers was born on a caribbean island', 'the largest island', 'this island', 'it is also the largest privately-owned island', 'it is the largest island'] , cuba\n",
            "53 40 ['meridians systems in acupuncture', 'anno mundi', 'prime meridian', 'what is the prime meridian', 'ante meridiem or before noon', 'antflt', 'pm&c', 'what are the prime meridian', 'what', 'antd', 'stet', 'antbd', 'what is noon and midnight', 'ante - what does ante', 'aviation medicine', 'am', 'latin abbreviation sc.', 'antc', 'what', 'latin', 'p.m', 'ante christum natum latin : before the birth of christ', 'on mission oak stand weber costello co.', 'ante meridiem', 'very artistic', 'what prime meridian is at 0', 'p.m.', 'instant of midnight', 'ac', 'art moderne', 'bent wire', 'classical abbreviations', 'noon', 'in civil proceedings', 'what', 'bent wire stand without meridian', '', '', '', ''] , ante meridian\n",
            "54 40 ['fluid integrator', 'lacrimal fluid', 'peritoneal fluid', 'what causes excess tearing', 'lacrimal fluid', 'brake fluid', 'what inactive ingredients', 'tears', 'what is the structure', 'high cholesterol', 'fluid friction surface mr fluid', 'aqueous humour', 'milky white', 'parker fluid', 'what common eye conditions', \"what 's in your `` urn\", 'what are the risks', 'otc', 'what is the management', 'tears', 'the amount of pigment', 'cholesterol levels', 'what causes chronic eye irritation', \"what 's a buckeye\", 'what are the symptoms', 'fluid - fluid lens', 'what are the treatments', 'tear film', 'what are the treatment options for glaucoma', 'this is what causes their eyes to shine in the dark', 'lincoln fluid', 'what if the screening shows that there is a problem', '', 'what does a normal eye', 'oil', 'oil', 'fluid', '', 'a vet will check the eye for signs of damage or disease', 'brain'] , lacrimal fluid\n",
            "55 40 ['podiatrist', 'weasel', 'weasel', 'peacocks', 'peacocks', 'smileys', 'cow', 'weasel', 'animal collective nouns', 'if any', 'what', 'peacocks', 'a flock of peacocks', 'energy', 'where do peacocks', 'pseudoscience', 'eager-striking peacocks', 'muster', 'shoudl', 'hypothetical subatomic particles', 'folks who refer to themselves in the 3rd person', 'anecdotal evidence', 'kettle black', 'spanner', 'peacocks exhibited more orange along their underside and lower fins than other peacocks', 'b', '', 'singular', 'assume', 'a penny', 'lcb- moiety -rcb', 'lrb', 'typewriter', 'two or three collects', 'peacocks', 'terms that stem from different types of collection', '', 'spelling & usage in brief', 'transformations , or mappings', 'group'] , muster\n",
            "56 40 ['1984', 'orwellian prophecies', 'radiohead', 'partisan review', 'know what it means', 'hidden cameras', 'room 101', 'burmese days', \"connolly 's horizon\", 'room 101', 'room 101', 'living with war', 'imprint', 'brave new world', 'charrington', 'ministry of love', \"it 's the thought police !\", 'save 1984', 'book 1 , chapter 1', 'nineteen eighty-four', 'winston', 'mr. charrington', '1984', 'the book', 'the old man who owns this house', 'cleric preston', '', 'julia .', 'ministry of love , and tort', 'smith', 'the novel', 'it finally appeared in august 1945 .', 'smith has a love affair with a like-minded woman', 'kgb', 'waiting to see how they would put everything together , or how they came to know everything they did ?', 'novel', 'one day winston', '.', 'novel', 'tv-screen'] , 1984 george orwell\n",
            "57 40 ['sea rexes', '` money', 'rats', 'what', 'what creed', 'what to do , what not to do', 'what', 'what', 'what does bigface', 'framing', 'mudos', 'stand up for your rights', 'stand up for your rights', 'stand up for your rights', 'exoddus', 'almighty raisin belong to a species', 'oddworld quintology', 'your rights', 'alf museum', 'stand together', '', 'shipping', 'puppet', 'offal is not poop', 'get up , stand up', '', '', 'the internet movie database', \"everyone does n't want to move\", \"oddworld : munch 's oddysee\", 'alf the knowledgeable', 'what', '', 'blood', 'love-hate relationship with alf , often threatening to hand him over to the military', 'mudokon turns red does he do it on purpose to tell others to stay away', 'their inclusion here is does not mean we condone them', '', 'understood everything', 'alf brought people a lot of joy'] , alien life form\n",
            "58 40 ['canis major', 'procyon', 'carina', 'canis major', 'procyon', 'alpha centauri', 'zubenegenubi', 'arcturus', 'canis major', 'scorpio', 'aries', 'canis major', 'orion', 'what', 'sirius - crystalinks', 'capella', 'sirius', 'aldebaran', 'aldebaran', 'canis major', 'beta orionis', 'rigel', 'ori', 'crab', 'orion', 'alpha canis majoris', 'sirius', 'saturn', 'canopus', 'sirius', 'dog star', 'sirius cma a', 'canopus', 'sirius', 'sirius', 'sirius - astronomy : definition home sirius sirius', 'sirius', 'sirius', 'sirius', 'sirius'] , canis major\n",
            "59 40 ['wort des tages', 'mommy', 'godzilla', 'dolls', 'mother', 'when', 'ronno', 'life', 'thumper', \"the great prince was like when he was bambi 's age\", 'deer', 'young prince', \"ca n't find a word ?\", 'bambi and the great prince', \"what is hunting for bambi '' ?\", \"what other things does hunting for bambi '' have in store for the future ?\", \"mickey 's elephant\", 'birds', 'the butterfly', 'ronno', \"mother , ossman 's first wife\", 'mother is killed', 'disney', 'bambino , which means little boy', 'how was young bambi even to understand what happened ?', 'a life in the woods', 'what', 'dexter fong : or catherwood bring stones', 'what are some of your other favorite bambi woods', \"bambi 's children\", '', \"don markstein 's toonopedia\", 'yunost bambi', '', 'bambi lost money on its first release .', 'zavkram', '', 'animated', 'bambi says he wants his father', 'bambi is not very strongly characterized'] , bird\n",
            "60 40 ['meyer park storage center', 'houston office space', 'the cockrell butterfly centre', 'johnson space centre', 'hermann park space centre houston', 'johnson space centre', 'george r. brown convention centre', 'johnson space center/space center houston', 'houston', 'space center houston', 'south-east of houston', 'location business centre', 'the heart of houston', 'convention centre', 'space center houston', 'greater houston', 'clear lake', 'space center houston', 'houston at allsize !', 'clear lake', 'clear lake', 'marriott room', 'george r. brown convention centre', 'space center houston', 'houston', 'http://www.rent.com', 'space center houston', 'near the astrodome , astroworld , the compaq centre and the nasa space centre', 'where i can seek employment', 'near the astrodome , astroworld , the compaq centre and the nasa space centre', 'near the astrodome , astroworld , the compaq centre and the nasa space centre', 'houston - houston , tx', 'houston , bi-rite and mirror', 'where did that one come from ?', 'a business centre', 'houston tx insurance jobs houston topographic hovland cables', 'commercial office space', 'the center', 'miami , houston', 'where'] , texas\n",
            "61 40 ['calcutta', 'bombay', 'carlisle', 'calcutta', 'bombay', 'st helena', 'bombay', 'when', 'mumbai', 'surat to bombay', 'london', 'surat', 'london', 'bombay', '1856', '1834', '1858', 'bombay', 'surat', 'mumbai', '1765', 'e', 'l', 'london', 'the city was named bombay', '1858', 'the city eventually became the headquarters of the bombay presidency', 'suratsurat surat', 'it is the same company bahadur/english/british / john/honourable east india company', \"it became the company 's headquarters until 1708\", 'it was the headquarters of the east india company from 1685 to 1708', 'east india house in leadenhall street in the city of london in england', 'columbia encyclopedia 2007 , `` east india company , british', '` honourable east india company', 'the international headquarters for the company was established at east india house in leadenhall street , london', \"this page should be moved to `` british east india company '' because that is the proper name\", '', '', 'heic', 'british east india company - open encyclopedia'] , bombay\n",
            "62 40 ['pattie', 'who is dating george harrison', 'maureen starkey', 'heather mills mccartney', 'pattie -lrb', 'olivia harrison', 'pattie boyd', 'pattie boyd', 'george harrison', 'olivia harrison', 'pattie', 'eric', 'george harrison wrote the song for his wife pattie boyd', 'olivia and george', 'george harrison', 'pattie', 'george harrison and eric', 'pattie boyd-harrison', 'pattie boyd , the wife of his friend and fellow musician george harrison', 'harold harrison', \"george 's first wife left him for eric clapton\", 'the photographer , the former wife of george harrison and eric clapton', 'george harrison', 'patti boyd', 'george', 'eric clapton', '', 'her father', 'ex-wife of legendary rockers george harrison and eric clapton', 'george harrison', 'george harrison i was sleeping with his wife', 'patti', '', \"clapton 's secret love for harrison\", 'george', 'george harrison', '', 'his wife and son are expected to issue this final george harrison', '', 'george harrison'] , eric clapton\n",
            "63 40 [\"what 's new pussycat\", 'pomegranate , flower mature', 'traditional', 'what', 'giving presents', 'polyresin', 'plant stands', 'beauty', 'this is what every guest will be coming to see .', 'beauty', 'plant stands', 'flower girl basket', 'beauty', 'pomegranate', 'elegant satin', 'beauty', '', 'flower girl cone', 'girl basket', 'what considerations', 'tropical', 'plant', 'sophisticated', 'wedding', 'silk flowers - faux flowers', 'bride', 'satin', 'fruit', '', 'flower girl basket', 'pearl', 'sheer', '', 'shrubs', 'plant stands are designed to draw attention to the plant', 'plant stands are also very easy to match with almost any plant or flower regardless of its color and size', 'wooden plant stands', 'wedding', 'gift', 'plant'] , pomegranate flower\n",
            "64 40 ['rabies', 'cowpox', 'beer disease', 'anthrax disease', 'chronic illness', 'mental illness', 'silk worms', 'beer disease', 'influenza', 'anthrax and chicken cholera', 'diarrheal', 'mental illness', 'smallpox', 'meat decay', 'rabies', 'how does disease', 'what new ideas', 'what did you do ?', 'yeast', 'fermentation', 'what did you do ?', 'human', 'vaccine', 'germs', 'ailments', 'bitten by a rabid animal would be inoculated with the pasteur virus', 'accidents', 'what did you promise me ?', 'rsb', '', 'mob', '', 'pasteurization', 'superman', 'superman iii', 'what did you promise me last night ?', 'this is what pasteur did .', 'immunization', 'chemical reactions', ''] , rabies\n",
            "65 40 ['romania', 'hungaria', 'moldova', 'bulgaria', 'moldavia', 'romania', 'albanian', 'albanian', 'albanian', 'dacia', 'romania', 'muntenia', 'romania', 'romania', 'romania', 'dacia', 'romania', 'romania', 'cluj-napoca', 'hungary', 'oradea', 'moldova', 'romania', 'romania', 'romania', 'romania', 'transylvania', 'transylvania', \"romanians '' in transylvania\", 'present day', 'babe - bolyai university .', 'present-day transylvania', 'present day .', 'romania', '', 'romania', 'transylvania', '', 'transylvania', ''] , romania\n",
            "66 40 ['philadelphia', 'colorado', 'indiana', 'maryland', 'philadelphia', 'gettysburg', 'philadelphia', 'massachusetts', 'philadelphia', 'pennsylvania', 'philadelphia', 'philadelphia', 'state', 'gettysburg', 'pennsylvania state university ... pennsylvania', 'pennsylvania', 'bigelow', 'philadelphia', 'washin', '', 'which of us has rights', 'gettysburg scenic railway and the outlet shops at gettysburg', 'gettysburg', 'independence hall today .', 'pa', 'liberty bell', 'rights to life , liberty , and the pursuit of happiness', 'the state has an abundance of natural resources and a varied landscape , which includes the appalachian mountains', '', 'independence hall and the liberty bell', 'night bell at door .', '', 'henry seybert centennial liberty bell in independence hall', '', 'united states', 'keystone', '', '', '', 'independence says the official motto of the state'] , pennsylvania\n",
            "67 40 ['haile selassie', 'dejazmatch taffari makonnen', 'lij eyasu', 'dejazmatch taffari makonnen', 'makonnen', 'dejazmatch taffari makonnen', 'ras gugsa', 'ras gugsa', 'dejazmatch', 'ras mortimer planno', 'fitawrrari hapte giorgis', 'lij taffari and lij imiru than ras makonnen', 'ras makonnen', 'dejazmatch taffari , and ras makonnen', 'ras makonnen', 'ras gugsa', 'makonnen', 'haile selassie', 'abebe aregai', 'lij eyasu caused exasperation and irritation with ras taffari the regent', 'dejazmatch taffari and the officers of ras makonnen', 'jah', 'haile selassie', 'a young feudatory landlord , ras taffari , t', 'he just the obscure ruler of a little-known northeast african kingdom', 'makonnen', 'the empresses', \"selassie 's grandfather , taffari makonnen\", 'ras taffari makonnen', 'bac', 'an african king', 'pan-african leader', 'hailselassi', 'regent', '', 'ras taffari', 'a noble , dignified african leader', 'taffari', 'ras taffari', '`` we do not believe that he is dead'] , haile selassie\n",
            "68 40 ['piggy', 'lo-fat', 'piggy fat', \"piggy 's glasses\", 'piggy', 'lo-fat', 'pigs get fat', 'piggy', 'piggy', 'lo-fat', '` piggy', 'piggy', 'piggy', 'lrb', 'piggy', \"the pig 's head\", 'fat flat cat', \"mankind 's essential illness\", 'ralph', \"mankind 's evil\", 'simon', 'william golding', \"fair boy 's attitude\", \"the pig 's head\", 'what ailments', 'jack', 'what', \"the barron 's\", 'evil', 'law and order', 'what is an inciting incident', 'fat boy with glasses', 'pig', 'what', 'lord of the flies , what is the significance of the attack on simon', 'william golding', 'adolescent', '', \"fat kid who 's given a nickname by those who dislike him\", 'lord of the flies lo fat'] , piggy\n",
            "69 40 ['rebecca', 'bright stream between two hills', 'nam', 'matoaka', 'matoaka', 'rebecca', 'apgard', 'rebecca 1', 'rebecca', 'jesus', 'eucharist', 'rebecca', 'rebecca', 'lrb', 'what', 'what', 'god', 'the biblical r', 'raghailleach', 'what', 'the nickname of pocahontas', 'randel', 'lrb', 'matoaka', 'nickname', 'apgard', 'her given name', 'rebecca hebrew : or rivkah is a feminine', 'matoaka', 'it was a very popular given name', 'adam', 'father , son , and holy ghost', 'middle names in the states , a man born in what is now croatia', '', 'powhatan', 'given name', 'winterbourne zelston', 'hancock martha hancock , baptised in wanborough', '', ''] , rebecca\n",
            "70 40 ['what', 'what', 'spanish , french or german', 'what', 'what', 'what', 'what', 'what', 'what', 'hieroglyphics , greek and demotic', 'chinese , dutch , farsi , greek , hebrew , japanese , tagalog', 'what', 'hieroglyphics and demotic', 'bottom language', 'what', 'breton cornish danish', 'egyptian and greek', 'hieroglyphs', 'what the three languages', 'egyptian and greek', 'some languages', 'spanish', '', \"what rosetta stone does n't do no\", 'bold .', 'what is the rosetta stone ?', 'how does it fit into the political life of fyrom', 'what is the rosetta stone ?', 'demotic -lrb', 'native language', 'language lesson plans pimsleur lesson plans why learn languages', 'languages', 'the same set of pictures is reused for quite a number of languages', '', 'all three scripts', 'words are translated into the other languages', '', 'cds', '', 'asotvi video review of rosetta stone'] , egyptian greek\n",
            "71 40 ['latin', 'what does your mother do with her hands', 'eel', 'gaping', 'what do you think will happen next year', 'what', 'what', 'what should i do ?', 'what are the average signs of pregnancy', 'what is the scientific name for them', 'the cry of a cat is called a caterwaul', 'a woman', 'eel', 'what', \"what 'll i do with my hands\", 'writing rituals', 'what products', 'what', 'what suffer we warm to communicate', 'what is it like for you to develop a sequence', 'a group of cats is called a clowder', 'what products and nutrients', 'slime for and how is it made .', 'male cat', '', '', '', '', '', '', 'what is the truth', '', '', 'what shall we sing now , alice', 'kitten', '', 'do what they blake they edo do seat upon the afghan', 'panting', '', ''] , mackerel\n",
            "72 40 ['how do you get ready', 'how does a post get verification of training', 'how do you get ready', 'securing the vips', 'what is the best way to get to the memorial service ?', 'overtime', 'how do i get verification of my own certification as a law enforcement officer', 'bonneylake washington', 'handcuffs', 'how do i determine who is hiring police or corrections', 'controlling crime and investigating criminal cases', 'what', 'drive away the crowd', 'how do the reserve officers fit into the organization', 'training back to top how do i know if a class is reimbursable', 'interact with police officers', 'how long did it take to get the first few units on the scene', 'how can i find a reasonably priced hotel', 'what are the hiring requirements for part-time', 'how do i get to the capitol building', 'overtime', 'sit-ups , push-ups , and squat thrusts', 'activities and demonstrations', 'lunch', 'at-home canine care', 'at-home care', 'how much they know', 'bank robberies', 'hopkins police executive leadership program', \"eight-hour shift 's worth at a time\", 'commanders do their jobs', 'non-work days', 'back to top', 'eight-hour shifts inside .', 'nominate candidates', 'overtime', 'case study', 're', 'class grievance was filed by these officers on march 22 , 2007 .', 'what would have taken multiple officers over four hours'] , sit down\n",
            "73 40 ['mary jane', 'marilyn monroe', '1998', 'playboy tv cryptoworks key', 'leslie sabourin ontario canada', 'quiz', 'playboy tv onli', 'girls', 'marilyn monroe', 'smith', 'door bridget + aug', 'girls', 'tgp playboy sweepstakes', 'margaret scott', 'smith', 'marilyn monroe', 'marilyn monroe', 'playboy party indianapolis 500', 'marilyn monroe', 'marilyn monroe', 'marilyn monroe', 'marilyn monroe', 'marilyn cole', 'lrb', 'lrb', 'game jericho', 'history', 'playboy hooters nude photos', 'playboy kendra', \"she was playboy 's first centerfold .\", '1985', 'she auditioned for playboy to land her centerfold .', 'the first not to be purchased from the john baumgarth co. by hugh hefner', 'list players respond to favre', 'the first copy of playboy i purchased as an under-aged minor', 'models', 'pin-up', 'playmate showing pubic hair', 'she was the very first centerfold in playboy magazine .', 'debut issue of playboy magazine .'] , marilyn monroe\n",
            "74 40 ['baking soda', 'baking soda', 'table salt', 'common salt', 'common salt', 'epsom salts', 'common salt', 'soda glazing', 'sodium hydrogen carbonate', 'hypernatremia', 'nahcolite', 'soda na2co3', 'baking soda', 'sodium chloride', 'safe than sorry', 'sodium oxide', 'lye or caustic soda', 'sodium', 'sodium bicarbonate', 'sodium chloride sodium chloride', 'baking soda', 'washing soda or soda ash', 'sls', 'sodium hydroxide lye', 'sodium', 'sodium barcarbonate', 'is an acv', 'isotopes there are 13 known isotopes of sodium', 'they are for your better understanding of holistic health', '', 'tomato juice', 'cocoa', 'more is better', 'lrb', 'sodium carbonate has three known forms of hydrates', '', '', '', '', ''] , baking soda\n",
            "75 40 ['silver ball trophy', 'the stanley cup', 'hec crighton trophy', 'the stanley cup', 'stanley cup', 'stanley cup', 'stanley cup', 'the second most coveted/prestigious club championship would probably be the new khl', 'collier', 'the ted morris memorial trophy', 'championship', \"it ca n't be the most coveted hockey cup\", 'the world cup trophy', 'the 1994 european cup victory over barcelona gave milan', \"grey cup 's most valuable canadian\", 'league and fa cup', 'dick suderman trophy', 'hockey', 'multiple trophy', 'most valuable canadian', 'action star football trophy', 'stanley cup', \"it 's awarded only to the nhl champion\", \"dick suderman trophy for the grey cup 's most val\", 'the perfect football trophy for a team or individual award for younger children', 'henry burris', 'team usa', 'cfl tickets', 'jaffa trend trophy', 'cfl crown', 'football locker room - football trophy unique , heavy-weight', 'the current trophy', 'football motion xtreme football trophy', 'this football trophy comes with free engraving .', 'canadian gridiron trophy', 'football medals', 'perpetual trophy', 'championship trophy', 'this football trophy', \"philips unveils 2006 fifa world cup '' winners trophy\"] , grey cup\n",
            "76 40 ['forcibly', 'exile', 'flee', 'government in exile', 'forced resettlement within the country of residence', 'third country', 'naval blockade of coasts or ports of another state', 'forcibly removed to poorer agricultural land in connacht', 'deportation outside the country of residence', 'internal exile', 'internal exile , i.e. , forced resettlement within the country of residence', 'forcibly expel him from the country', 'exile of `` citizens of other nationalities', 'deportation', '', 'individuals and groups', 'exile', 'exile', 'trial by another count', 'exile is spoken of in terms of its native country ; hence it must return to its native country', '', 'no one will be forcibly transferred', 'hand over to the authorities of another country', 'persons', 'exile', 'removal of a national from his or her country', 'move from one part of the country', '', 'exile', '', 'exile', 'government in exile', '', 'an individual or a group of people is forcibly resettled to a different part of the country', 'siberia', '', 'remove the sick and dead .', '', 'government in exile', 'foreign occupation'] , deport\n",
            "77 40 ['mljet', \"st. paul 's grotto\", \"st. paul 's grotto\", \"st. paul 's grotto\", 'st paul island', \"st.paul 's catacombs\", 'st paul shipwrecked church', \"apostle 's fountain\", 'rome', 'this small cave', 'where', 'kids !', 'malta', 'acts of the apostles , st. paul was shipwrecked on the island', 'malta', 'los angeles convention ministry of comfort 2 cor1 :4', 'malta', 'rome', 'the islands of st. paul', 'acts 27', 'sidon', 'rome', 'mdina', '', 'the island', 'ad 60', 'a.d. 60', 'corinth', \"st paul 's church\", 'the place of landing on melita', 'maltese islands', 'the island', 'the armoury', 'island', \"this is where a fungus known as `` fungus gualitanus '' grew .\", 'according to medieval legend', 'beaches', '', 'it', 'sites'] , malta\n",
            "78 40 ['matahari', 'tremble', 'mata hari', 'margaretha geertruida zelle', 'lrb', 'mata hari', 'mata hari', 'mata hari', 'mata hari mata hari', 'isle of f hr', 'mata_hari', 'female spies - women spies in history - women spying for their cause', 'mata hari', 'spies', 'ames , aldrich', 'mata hari', 'dawn of magic', 'matahari mata hari', 'women spies', 'mata hari', 'mata hari', 'female spies', 'man or woman', 'her name itself is a byword for betrayal', 'mata hari', 'women in wars and the mi', 'mata hari', 'john hancock', 'spyro : dawn of the dragon', 'evilbeagle', 'women', 'mata hari', 'each one', 'honeytrap lies and women spies', 'women spies', 'violent femmes : women as spies', '', '', '', 'lrb'] , mata hari\n",
            "79 40 ['holby city', 'holby city', 'holby city hospital', 'holby city', 'bristol', 'meerkat manor', 'holby city', 'holby city', 'bristol', 'holby city', 'ashley down campus', 'holby city', 'bristol', 'bristol', 'bristol', 'bristol zoo', 'bristol', '24', 'whitechapel', 'bristol', 'london', 'holby', 'holby city', 'caernarfon', 'wikipedia', '1906', 'holby city', 'holby city', 'new zealand', 'casualty@holby city', 'wikipedia', 'an orphanage', 'wikipedia', 'casualty@holby city', 'suburban shootout', 'location', 'casualty files : series 7', '', 'peter jones', 'summer'] , bristol\n",
            "80 40 ['what is the easter duty', 'pentecost sunday', 'pentecost', 'pentecost', 'what are some of the sundays and weeks within eastertide called ?', 'eastertide', 'confession pentecost', 'prayers', 'christian pentecost', 'just war theory', 'pentecost', 'the day jesus christ rose from the dead ?', 'easter monday', 'holy days and holidays', 'easter day', 'resurrection', 'easter monday', 'pentecost', 'pentecost', 'pentecost', 'pentecost', '2011', \"hebrew 's feast of first\", '2007', 'ember and rogation days', '2010', '2009', 'roman catholic liturgical calendar 2012', 'roman catholic liturgical calendar 2013', '2007', '2011 - roman catholic liturgical calendar - holy days o', 'holy days and holidays', '2008', '2010 - roman catholic liturgical calendar - holy days o', '2008 - roman catholic liturgical calendar - holy days o', '2009 - roman catholic liturgical calendar - holy days o', 'passover', 'not 50 days from a capricious easter but 50 days from the sunday following passover', 'not 50 days from a capricious easter - but 50 days from the sunday following passover', 'an easter calendar , readings , audio and video reflections , updated daily for the 50 days of easter season'] , pentecost\n",
            "81 40 ['posh spice', 'posh spice', 'victoria beckham', 'posh spice', 'david and victoria beckham victoria caroline beckham victoria adams-woo', 'wood - anagrams archive', 'vocalist , or dancer', 'aahceleb.com', 'posh spice', 'what', 'filmography', 'victoria beckhams armani', 'posh spice victoria beckham', 'baby , scary , sporty , posh and ginger', 'beauty & style', 'lrb', 'redband entertainment', 'share quits', 'victoria caroline', 'jessica', 'anagrams archive', 'david beckham', 'adams beckham victoria', 'rolls royce', 'victoria beckham', 'spice girls', 'spice girls', 'posh spice', 'cow david roots', 'swell party', 'victoria beckham biography : victoria caroline beckham -lrb', 'wallpaper victoria adams beckham wallpaper', 'victoria caroline beckham', 'not such an innocent girl', 'victoria caroline adams', 'isabelle biography', 'they are pretty easy to get your business done in .', 'victoria adams-wood', 'the thetan victoria adams filmography picture gallery victoria adams picture related news vic', ''] , posh spice\n",
            "82 40 ['nightshade', 'nightshade', 'nightshade', 'thistle', 'nightshade', 'nightshade', 'cabbage', 'thistle', 'parsley', 'nightshade', 'cabbage', 'parsley', 'cabbage', 'sunflower', 'sunflower', 'delphinium', 'evergreen', 'lily', 'cabbage', 'brassica', 'cabbage', 'goosefoot', 'cabbage', 'lily', 'coriander', 'mint', 'cabbage', 'carrot', 'goosefoot', 'carotenoid', 'cabbage', 'fruit', 'grass', 'purple', 'composite family of flowers', 'sun and heat loving vegetables', 'fruit', 'tomatoes , peppers and potatoes', 'vegetable', 'white egg-shaped variety'] , thistle\n",
            "83 40 ['nittany lion', 'puma concolor cougar', 'fire cat', 'cougar', 'lion', 'felis', 'bobcat mountain lion', 'what to do if encountering a mountain lion', 'mountain lion cougar : whozoo cougar', 'mountain lion', 'mountain lions', 'mountain lion', 'collared', 'lion country', 'what should a person who is approached by a mountain lion do -- or not do', 'what should a person who is approached by a mountain lion', \"what 's in a\", 'lrb', 'puma', 'magnetosphere', 'lion', 'mountain lion', 'running', 'educate children', 'humans', 'lion', 'lion', '', 'lion', 'mountain lion', 'puma', 'bad', 'managing mountain lion problems', 'mountain lion', 'their abnormally large paws and their long tail', 'their generally secretive and solitary nature is what makes it possible for humans to live in mountain lion', '', '', \"mountain lion 's\", ''] , puma\n",
            "84 40 ['prince charles of england', 'his royal highness the prince of wales', 'ezra klein', 'hrh the princess of wales', 'the prince of wales', 'kiri', 'charles diana wedgwood', 'princess of wales', 'prince william and harry', 'diana , princess of wales', 'charles , prince of wales', 'ruthless earl johnnie', 'hrh prince charles & lady diana spencer', 'princess diana and prince charles', '', 'princess diana and prince charles', 'the prince and princess of wales', 'prince charles', 'diana , princess of wales', 'hrh prince charles', 'prince charles', 'gifted by the city of glasgow', 'prince charles was serious .', '', '', '', '', '', '', 'she gives a nervious smile from under her wedding vail', '', '', '', \"in 1981 sang at the wedding of prince charles and lady diana spencer in st paul 's cathedral\", '', '', 'prince charles was showing diana the nursery , he asked her to marry him .', '', \"prince charles and lady diana spencer took place in the middle of a farmer 's field during a shooting party\", 'prince charles and lady diana spencer took place in the middle of a farmers field during a shooting party'] , kiri te kanawa\n",
            "85 40 ['1910', '1930', 'may 1984', '1909', '1907', '1914', '1907', '1908 and 09', '1986', 'when he retuned to america', '1912', 'founder of the world scout movement', 'founder of the world scout movement', '1929', 'when he adapted the book for youth in scouting for boys', 'traveling on behalf of the scout movement .', 'british colonial africa', 'did the scout scheme seek to generate interest in the army and navy ?', 'founder of the boy scout movement almost every page in scouting milestones', 'from the start', 'soon after the publication of scouting for boys', 'the boy scout movement is non-military', 'soon after the publication of scouting for boys .', 'london : collins .', 'this boy scout movement was an instant success', 'soon after the publication of scouting for boys', 'a baden-powell bibliography', 'the boy scout movement swiftly established itself throughout the british empire', '`` boy scout movement : internationalism', 'he is better known as the founder of the boy scout movement .', 'he played a major role in the development of the american boy scout movement', \"the control of the baden-powell 's boy scouts has inevitably fallen into the hands of his military\", 'the baden-powell movement in australia is independent of scouts australia', 'reconnaissance work himself .', 'baden-powell scouting', 'the character factory : baden-powell and the origins of the boy scout movement', 'reconnaissance work himself .', 'headstone are the words `` robert baden-powell , chief scout of the world', 'the boy scout movement .', 'the scout movement'] , 1907\n",
            "86 40 ['san marino', 'san marino', 'san marino', 'san marino', 'san marino', 'san marino', 'san marino', 'san marino', 'san marino', 'san marino', 'san marino', 'san marino', 'italy', 'san marino', 'san marino', 'san marino', 'san marino', 'what', 'san marino', 'san marino', 'san marino', 'lrb', 'it is one of the smallest republics in the world and may be the oldest one in europe', 'e italy', \"it is the world 's smallest republic and claims to be europe 's oldest existing state\", 'san marino land and people san marino', 'lrb', '', 'it is one of the worlds smallest as well as the oldest country', 'san marino', '', 'republic of san marino', 'san marino', 'san marino', 'san marino', 'san marino', 'europe', '', 'it is also the third smallest country in europe', '.'] , san marino 301 ad\n",
            "87 40 ['autobiography', 'the grapes of wrath', 'the big book', \"what do you think cal 's future will be ?\", 'what constitutes true wealth', 'harry potter', 'what', 'what', \"authority - what are the author 's credentials\", 'what challenges', 'guilt and forgiveness', 'the pearl v d e works', 'the long valley author', 'as m', 'salinas valley', 'the title is a reference to the battle hymn of the republic', 'east of eden', \"it was steinbeck 's second book\", 'the talk ... is what is usually called vulgar', 'the pastures of heaven', 'life its importance', 'the title can also be seen as a reference to the book of genesis .', 'the salinas valley', '', 'the grapes of wrath', '', 'i live in the valley .', 'after his unsuccessful cup of gold', 'long islan', 'purchase', 'this is what i am and what i am about .', 'john steinbeck', 'cover art !', 'problems are examined , rejected or accepted .', 'she makes a couple of subtle passes at the handyman , but is rejected .', 'father', 'old copy of the book', '', 'the grapes of wrath , in what is now monte sereno , california', ''] , east of eden\n",
            "88 40 ['rio de janeiro', 'rio de janeiro', 'rio de janeiro', 'rio de janeiro', 'rio de janeiro', 'rio de janeiro', 'rio de janeiro', 'corcovado', 'rio de janeiro', 'rio', 'rio', 'rio', 'guanabara bay', 'rio', 'brazil', 'guanabara', 'copacabana', 'rio de janeiro', 'brazil', 'corcovado', 'maracana', 'corcovado', 'downtown', 'marcelo', 'how is rio de janeiro', 'guanabara', 'the city', 'the city', '', '', 'the city', 'the cable car', \"the city 's poorest live in slums , known as favelas\", 'marvel at the beauty of the city', 'christ the redeemer', 'corcovado', 'about one million people visit the sugar loaf mountain every year .', 'sugar loaf tour', 'city tour .', 'the sugar loaf mountain complex'] , rio de janeiro brazil\n",
            "89 40 ['rick jones', 'rick jones', 'rick jones', 'valkyrie', 'kate waynesboro', 'metal master', 'gremlin', 'rick jones', 'jennifer walters', 'modine', 'mephisto', 'iron man', 'jim wilson', 'jim wilson', 'rick jones', 'lou ferrigno', 'matt talbot', 'the maestro', 'betty ross', 'samuel sterns', 'o.k', \"who 's that big grey guy\", 'wilson was a longtime friend of bruce banner -lrb', 'rick', 'bruce', 'red', 'red hulk', 'abomination', 'underage runaways', 'rick jones', 'the gray hulk', 'rick jones', 'jackie shorr', 'the first green skinned enemy of the hulk .', 'the thing .', 'the thing', 'he was part of the warbound', \"message to those who did n't like the hulk .\", 'he first appeared in the incredible hulk', 'gray'] , rick jones\n",
            "90 40 ['orle river', 'congo river', 'africa - congo', 'congo river', 'what', 'zambezi', 'congo river', 'the congo river the congo river', 'congo river', 'zaire or congo river', 'congo river', 'the congo river', 'congo river', 'orange lesotho', 'the congo', 'river congo', 'rovuma mozambique tanzania 155 000 mozambique is denied most of the water of the save and limpopo', 'south africa', 'water', 'kinshasa-matadi', 'congo river', 'water poor', 'za\\\\u00efre river', 'lesotho highlands water scheme', 'congo river', 'save zimbabwe mozambique', 'river drains much of west and central africa', 'south africa', 'water', 'a river knows no boundaries', 'water resources in southern africa', 'tropical forests', 'water', 'water scarcity is affecting the security situation in southern africa', 'southern africa', 'river basins in states not even neighbouring the water-stressed state', 'international', '', 'river current carries tons of suspended sediment', ''] , congo zaire\n",
            "91 40 ['chinese artglass', 'what', 'what', 'what', 'what pattern', 'the finest quality of recycled glass available', 'patina', 'wikipedia article', 'clear glass vases', \"worn store sticker from swezey 's\", 'english cameo glass', 'old moulds or new moulds', \"probably made anywhere from 1900 to the 1930 's\", 'glass vases from europe', \"this is not portland glass or from the 1870 's\", 'tall burmese vases', 'vases , candlesticks , flower-pots , plates , and other objects', 'titles , new & used', 'five more bohemian hand vases', 'enameling', 'digitalgiftstore.com', 'or find glass on ebay', 'find glass on ebay', 'hand vases', 'five more bohemian hand vases from the 1880s-1890s .', 'recycled glass vases', 'modern vases', 'it has no damage ; was made by an unknown maker', 'aldo giannone glass figurines and vases', 'barberini vase', 'zippered swirl and diamond', 'free encyclopedia', 'wikipedia', '$ 45 portland', 'portland vase book article from : the oxford dictionary of phrase and fable portland vase', 'design registrations for hand vases', 'milk glass', 'thirty seven fragments', 'thirty seven fragments', 'it'] , glass\n",
            "92 40 ['what', 'what', 'chocolate', 'right for you', 'i wan na pet - havana brown is the havana brown right for you', 'a brown cat with a nose', 'cats', 'a lively , playful cat', 'havana brown', 'brown', 'more than 28,000 members', 'everything', 'hybrid or man-made breed', 'cats', 'havana brown cat , havana brown breed', 'kitten', 'rescue groups', 'the havana brown is a firm , muscular cat of medium length', 'hybrid or man-made breed', 'breeders , havana brown cats', 'havana brown cats', 'havana brown kittens', 'kittens', 'pedigree cat breed profile a summary of the history and characteristics of the havana brown cat', 'havana brown kittens sale havana brown', 'kittens', 'the havana brown was accepted for championship competition in cfa in 1964 .', 'chestnut brown', 'havana brown cats for sale', 'havana brown kittens sale havana brown', 'brown 0408 0409 aov 0418 0419 havana brown allowable outcross breeds', 'breeders list of breeders working with the cat breed havana brown', 'breed', 'havana brown log', 'activities', \"breed profile : havana brown cat our readers ' havana brown cat opinions\", 'a solid chocolate brown hyb', 'all about the havana brown', 'havana brown kittens for sale in usa havana brown kittens for sale in the uk havana brown kittens', 'fanciers breeder'] , small rabbit\n",
            "93 40 ['100,000,000', 'how many grams', '1kg how much gram', '28.35 grams', 'how much does $ 100 dollars', 'how high is a stack of one hundred', 'how many', '$ 10.00', '10 grams', 'coins', 'how much', 'how and where', 'ounce', 'a `` billion', '10 grams', 'how much is 1kg pf go0ld worth', 'do', 'how do you sum a geometric series', 'how much is gold', 'five pounds', 'much , much more', 'how much would the finance authority of maine pay out each year', 'more', 'nine pence', 'ten', 'how do sponges migrate in the ocean', 'more', '$ 239.90', 'they might weigh the same', '', 'divide it by the number of pennies', \"` weighing ' determining the mass of some pennies\", 'nine-piece', 'how much you used to be able to buy with these coins', 'dull', '1982', '', 'nine species', '', ''] , one ounce\n",
            "94 40 ['chile the republic of chile', 'united state of america', 'ecuador', 'belize', 'belize', 'panama', 'uruguay', 'belize', 'chile chile', 'the republic of colombia', 'uruguay', 'colombia', 'guatemalaguatemala summary guatemala', 'south africa', 'asia pacific', 'indiaindia india', 'botswana the republic of botswana', 'central american', 'guatemala , honduras', 'north american', 'venezuela', 'it is the only central american', 'colombo', 'south pacific', 'central american immigrants and expatriate americans and africans also began to settle in the country .', 'americas', 'pacific ocean', 'the equator', 'south american domains sorted by country', 'south american', 'nepal', 'caribbean', 'north and south american plates in the atlantic', 'south pacific', 'south pacific', 'south america', 'south pacific', 'tasman sea', 'country', ''] , belize\n",
            "95 40 ['trygve lie', 'trygve lie', 'mr. trygve lie', 'trygve lie', 'j. ruben clark , jr.', 'waldheim', 'ban ki-moon', 'ban ki-moon', 'thant', 'trygve lie', 'choi young-jin', 'u thant', 'ban', 'ban ki-moon', 'mark malloch brown', 'ban', 'ban ki-moon', 'secretary general of the united nations the united nati', 'ban', 'ban', 'who', 'general secretary of th', 'who will be the next secretary general ?', 'un secretary general -r', 'un secretary-general -r', 'secretary-general of the united nations - wikipedia', 'secretary-general of the united nations - wikipedia', 'president of the assembly', 'lie , trygve halvdan lie', 'who', \"who 's who of organized treason\", 'secretary-general', 'he was the first elected secretary-general of the united nations .', 'he was the first proper secretary-general of the united nations .', 'american history search', 'he was the first secretary-general of the united nations', 'un forces who participated in the korean war .', \"soviet general 's\", 'united nations', 'secretary of state of the united states'] , trygve lie\n",
            "96 40 ['k.i.t.t.', 'hammett', \"i do n't care\", 'mio knight rider', 'chars', 'lrb', 'the hoff', 'the hoff', 'logo', 'kitt car', \"tomorrow 's car\", 'knight rider', 'ryobi horsepower', 'drunk in video', 'which', 'night rider', 'a dog', \"what 's your sign\", 'hair', '`', 'a talking car', 'michael knight', 'knight rider', 'face recognition , google', 'parady', 'mooseskins', 'without the talking car', 'talking jumping car', '', 'they do in knight rider before commercials', 'sentient talking car', 'doing tricks', '', 'd els inset', 'sit shotgun', 'knight rider', 'talking car', '`` knight rider', 'car show at saugus speedway', ''] , kitt\n",
            "97 40 ['6', '6', 'four', 'how far is too far ?', 'how many', 'two', 'one innings , many innings', 'how many', 'many times', 'four runs', 'how many', 'as soon as the coin is flipped press 1', 'if the ball fails to bounce at all', '1 bowl a full toss at full speed', 'if the ball fails to bounce at all', 'a ball that does not bounce on the pitch before reaching the batsman', \"does n't bounce as much\", 'there have been occasions', 'at times', 'god but does the waca pitch bounce', '', \"bowler 's ball which does n't hit the pitch before reaching the batsman\", 'without a bounce', 'without first having struck the pitch', \"a ball which does n't bounce , but reaches the batsman on the full\", 'many flippers .', 'ever', 'eleven', 'without bouncing', 'a full toss that reaches the batsman above waist height', 'the toss a cricket match begins with the toss of a coin .', '', 'full toss - wikipedia', 'one-dayers', 'a ball which does not bounce on the pitch before reaching the batsman', 'full coverage pakistan v west indies odi se', '', 'many bowlers mistime the release of the ball and bowl a full toss', 'full toss', 'a full toss is a type of delivery'] , none\n",
            "98 40 ['mount pleasant', 'london', 'liverpool', 'liverpool', 'british city status', 'birmingham city', 'england and wales', 'liverpool', \"st edmund 's rc school\", 'portsmouth', 'welsh neo-folk band .', 'liverpool metropolitan cathedral', 'liverpool', 'liverpool irish population has led to liverpool', 'liverpool', 'buffalo , ny', 'liverpool science park', 'liverpool metropolitan cathedral', 'liverpool', 'arundel birmingham', 'liverpool', '', \"the cathedral 's choir has a reputation as one of the finest in the uk\", 'bangor', 'what', 'limerick', \"affectionately known by the locals as paddy 's wigwam\", 'black cat nickname', '', 'wigwam , betty boo and alex james collaboration .', '', 'queen mary', 'it is a catholic cathedral', 'anglican cathedral', 'locals', \"the cathedral is colloquially referred to as `` paddy 's wigwam\", '', 'gaelic', \"the cathedral 's unique interior\", '` brassiere'] , liverpool\n",
            "99 40 ['dick tracy', 'dick tracy', 'dick tracy', 'dick tracy', 'dick tracy', 'anne gwynne', 'glenne headly', 'tracy', 'dick tracy', 'dick tracy', 'john malkovich', 'zippy', 'dick tracy', 'joseph flintheart tracy the youngest son of dick tracy', 'dick tracy', 'zippy , plainclothes pinhead', 'tyler wentworthbody', 'anne gwen', 'dick tracy', 'tracy', 'gwen andrews', 'junior tracy', 'carl molina', 'junior', 'tracy', 'crimefighter', 'tracy', 'tracy', 'junior tracy', 'breathless mahoney', 'chief patton', 'a girl friend', 'mom tries to convince her daughter to leave dick tracy', 'i. trueheart , tess .', 'the detective', '', '', '', '', ''] , dick tracy\n",
            "100 40 ['george fox', 'george fox', 'george fox', 'george fox', 'marc mengel', 'george fox', 'george fox', 'qu yuan', 'arthur o. roberts', 'elizabeth haddon', 'william penn', 'george fox', 'george fox', 'george fox', 'joseph fox', 'george fox', 'qu yuan', 'william cooper', 'sionnachs and de bosques', 'barclay fox', 'mars', 'religious society of friends', 'fox', 'ezra cornell', 'fox , penn', \"`` camp of the lord in england , '' and later the `` first publishers of truth\", 'a major early figure often considered the founder of the religious society of friends', 'he was a founder of the religious society of friends', 'rrb- obj', 'english preacher and founder of the society of friends', 'rrb- obj', 'rrb- obj', 'the quakers in puritan england', 'yearly meeting of the religious society of friends', 'various names have been used for the friends movement and its adherents .', 'friends general conference', 'historical dictionary of the friends', 'heahen gods', 'friends believe these important principles and practices should be expressed testified as truth', 'quakers and colonization'] , george fox\n",
            "101 40 ['forrest gump', 'the french connection', 'happy-go-lucky', 'french connection', 'what', 'pinky and the brain', 'the king is dead', 'eddie egan', 'jimmy', 'keaton', 'pitt', 'miranda richardson', 'julio oscar mechosa', 'robert oppenheimer', '', 'marcus miller', '', '', '', '', '', 'pork pie fashion trend : the pork pie hat see jack shop', '', '', '', '', '', 'goodbye pork pie hat .', '', '', '', '', '', '', 'mid 19th century .', \"if you like the pork pie style hat , you ca n't go wrong with this one\", 'the biggest problem', 'true', '', \"good thing you 're wearing a hat . ''\"] , french connection\n",
            "102 40 ['lacrosse', 'lacrosse', 'lacrosse', 'lacrosse', 'lacrosse', 'lacrosse', 'goal', 'lacrosse', 'lacrosse', 'lacrosse', 'lacrosse', 'lacrosse', 'lacrosse', 'lacrosse', 'lacrosse', 'lacrosse team', 'the second home is considered the playmaker', 'the second home is considered the play maker', 'lacrosse', 'lacrosse', 'first receiver , second receiver', 'womens lacrosse', 'field positions', 'goal keeper', 'long-stick', 'second home', 'midfield', 'what position do you play ?', 'wingers do lots of high-speed running from attack to defence', 'excelsiors', 'third home', 'midfield to substitute', 'goal , point , cover point , first defense , second', 'lacrosse', 'goal , point , cover point , first defense , second', 'first home', \"men 's field game\", '', \"the first home 's responsibility is to score\", 'players'] , lacrosse\n",
            "103 40 ['a curler - congratulations', 'a curler', 'what channel', 'fat and greasy citizens', 'perfect', 'curl', 'can you image what would be different', 'basically accepting a default', 'what you do with your head', 'you find muscles in your legs', 'you know hitting one off the `` backboard', \"you know that you do n't get sick\", 'your spouse is not the only one who screams `` hurry harder', 'you want to win because you won', 'if you win the coin toss , or lose an end , then you get `` the decision', 'it reflects what you win', 'standing on the board', 'you know you can lunge off the `` hack', 'what a kind skip calls the shot that you missed .', \"do n't take offence\", \"if you know you 'll be unavoidably late\", 'you may continue to play the end', 'as a group', 'the more time you spend curling , the more you will hear them', 'what you do until you sweep the first 2 stones .', \"you expect a turkey every time you `` draw '' to the `` button '' .\", 'play one more .', 'hammer : what you want to use on your skip', 'playing on .', 'keep the ice clean at all times and if allowed , never practice on the sheet', 'hacks are on his helmet', 'what do you call the _________', 'the place where you set up the ball before you', 'you have to throw your last rock to win 9-8', 'you may finish that end and play the 8th end', 'you get to shoot your rocks 16 times in just one game .', 'you can do it in eight houses in less than two hours .', 'if the bell rings while you are playing the 6th end', 'the merits of wearing a kilt', \"have you looked at curlduluth 's bonspiel calendar\"] , curling\n",
            "104 40 ['150', 'how many years', 'how old', '1 million years', 'two 2 years', 'time in years', 'many years', 'many variables', '2005', 'many years', \"light years ago ' or ` light years\", '300 grams', 'many years', '98-113', 'cenozoic era', 'november 11 , 1941', '2008', 'many choices on how we search for information today', 'long term care', '2008', 'jurassic period', 'how can long term care insurance keep up with inflation', 'ltci', 'recent years', 'long term', '', 'not too many', '11', '', 'several companies', '', 'long term', 'terms not on the marc relators list', 'long-term care insurance ltci plan', 'many', '', 'long term', 'these terms', 'long term care insurance quote', ''] , 150\n",
            "105 40 ['pomegranate , flower mature elegance', 'glory flower glorius beauty', 'ranunculus', 'patience flower religious superstition', 'chelone chelone barhata', 'pointed blue-eyed grass', 'lotus flower', 'bell flower', 'perfidy', 'dancing - lady orchid', 'fidelity', 'aquilegia', 'sun', 'red fraxinella', 'what', 'belle fleur', 'dahlia', 'what', 'flower flower', 'flower flower', 'flower flower', 'orchid', 'flower fairies', 'tulle and wreath', 'orchid flowers', 'flower-shine', 'sexy and noughty', 'pollinium', 'coumarin', '', '', '', '', '', '', '', '', 'pollination is then completed , and the stage is set for the fertilization of the ovules', '', 'menton'] , orchis\n",
            "106 40 ['peso', 'cedi', 'round to smallest', '1/100', 'real -lrb', '1/100', 'corn', 'larigeorgian lari', 'si basic units', 'real brl', '1 2 travel', 'bolivia', 'the real', 'nordberg basic units', 'what', 'si', '21', 'si', 'major', 'length and time', 'austrian schillings belgian franc', '95', 'existence', 'truth', 'mass , length and time', '', 'inflation', 'that is the area of basic units', 'inflation', 'si basic units currently scientist use 7 si basic units', 'what type', 'physics basic units', 'derived units', 'mass', '', \"what 's truth and what 's fiction\", '', 'credit', '', ''] , real\n",
            "107 40 ['dukedom of marlborough', 'irish peerage', 'duke of marlborough', 'scotland', 'peerage of the united kingdom', '10th duke of marlborough', 'an earl or lesser peerage', 'the peerage of england', 'united kingdom peerage', 'the peerage of england', 'peerage of scotland', 'marquis / marchioness 3', 'peerage of the united kingdom', 'ireland', 'great britain', 'peerage of england', 'the peerage of great britain', 'a cousin .', 'the heir to the peerage', 'french heir or `` prince of wales', 'marlborough , who was a close associate of george of hanover', 'no citizen of corumburg needs to ask for a peerage', 'lrb', 'peerage', 'edward smith-stanley , 12th earl of derby', 'the peerage', \"the duke of avon 's heir is known as the marquess of vidal\", 'peerage of great britain 5 dukes in the peerage of ireland', 'the title of earl of marlborough', 'earl of sunderland', 'his father', 'jack', 'marlborough', 'lrb', 'the title marquess of blandford is used as the courtesy title for the duke', 'courtesy title', 'the marquess of blandford', 'his father was created duke of marlborough and marquess of blandford', '', \"marquis / marchioness '' the most honorable the marquis of land\"] , duke of marlborough\n",
            "108 40 ['disney', 'the princess diaries', 's.o.b.', 's.o.b.', 'what do the simple folk do ?', '1964', '1964', \"walt disney 's mary poppins\", 'which movie', '`` mary poppins', 'what comedic director', '1964', 'what comedic director', \"walt disney 's mary poppins\", \"what 's new merry christmas\", \"film `` mary poppins '' by richard and robert scherman , 1964\", '` mary poppins', 'dick van dyke - bert/mr .', 'jules bordet', 'academy award for mary poppins', 'rrb', 'victor/victoria', 'celluloidmoriatime out', '\\\\u2122 !', 'movieactors.com julie andrews - movieactors.com julie andrews - mary poppins', 'movieactors.com julie andrews - movieactors.com julie andrews - mary poppins', 'film', 'film debut for julie andrews , who won an academy award for her performance .', 'dick van dy', 'it is a fatal sexually transmitted disease of the liver', 'the song', '', '', 'film', '', 'mary poppins \\\\u2122', 'julie andrews', '', 'declines that she took them into the painting', 'mary poppins'] , sob\n",
            "109 40 ['japan', 'what', 'japan', 'japan', 'what', 'japan', 'what', 'japan', 'what are the most populous cities in japan', 'tokyo', 'japans', 'what was japans', 'what', 'honshu', 'japan', 'what is the population of japan', \"japan 's national symbols\", 'what', 'what', 'japan', 'japan', \"japan 's flag\", '2008', 'uk', 'heian period', 'japan', 'japan', 'japan', 'bambooweb', 'rrb- is the capital of japan', 'japan', 'japan', 'japan and the united states', 'akita prefecture', 'tokyo narita', 'japan and the united states', '', 'japan', 'tokyo', ''] , tokyo\n",
            "110 40 ['the side', 's', 'facade', 'the front entrance is asymmetrical', 'the balcony', 'the principal town street', 'customer entrance', 'the belfry', 'there is no front porch', 'the main body', 'facade', 'a covered platform', 'no entrance', 'west', 'profitability', 'the front entrance and west gate', 'facing away from the front of the property', 'the front entrance is usually quite grand', 'the street', 'accessory uses must be oriented to face away from any residential use or residentially zoned property', 'courtyard', 'the front entrance and windows are asymmetrical', 'west end , which contains the principal entrance portals', 'interesting facade', 'the rectangular vestibule at the main usually western', 'screen walls', 'main entrance', 'any location off-site and any public', \"principal 's residence , grant house\", 'above a lower floor or semi-basement', 'drawing rooms', 'the front entrance is centered with a stone arch', 'the main building', 'entrances from the street are usually the old , pre-revolutionary main entrances', 'the windows', 'horizontal grooves or lines in the walls and other horizontal elements like railings and overhangs', 'the main element that governs the architectural and artistic character of any folk architecture', 'main entrance construction', 'off-center', 'pedestrian entrance at the foot of 18th street , while the munitions building'] , facade\n",
            "111 40 ['fava beans', 'fava beans', 'what', 'fava beans', 'fava beans', 'what did you do', 'what did you do', 'what', 'jaws did for the beach', 'what', 'what', 'what', 'what', \"i did n't\", 'cheap shoes', '', \"i did n't\", 'fava beans', 'correlation', 'cheap shoes', 'what did she know ?', 'what did lecter say about the first principles ?', 'what', '', '', '', 'what drastic action does lecter take to escape', 'you could', 'scary', 'felt pens', 'psychiatrist', 'he really nothing', 'to amuse', 'it reads like what it is a novelization of a screenplay', 'genius actor', 'psychiatrist', 'something woke', 'this is dr. hannibal lecter .', '- be very careful', ''] , fava beans\n",
            "112 40 ['islam', 'jesus', 'what planet', 'what is the most disloyal dog breed', 'caleb singh', \"jehovah 's witnesses do for the name jehovah\", 'john', 'ghost world', \"what 's in a name ?\", 'mohammed', 'heera mandi', 'asia', 'ism', 'jesus', 'what a one eyed nutbag', 'asia', 'balam', 'mohammad', 'muhammad', 'mohammed', 'what', 'moroccan arabic', 'common bu', 'allah', 'rational peoples', 'mar a jos', '', 'buddy popular , common buddy common butch common cosmo', 'russia', '', 'jean-marie', '', 'casey popular , common dakota popular', 'bo popular , common lucy popular , common maggie popular , common molly po', 'the name was common to all arab tribes', '', 'random fact common name home', 'teachers do best , teach', 'baby name world you will find thousands of other unique and popular male and female baby names', 'multiple mates'] , mohammed\n",
            "113 40 ['freds', 'fred flintstone', \"robert `` honest bob '\", 'fred', 'dino', 'the flintstones', 'fred flintstone', 'flintstones', 'flintstones', 'fred flintstone', 'homer', 'fred', 'wilma flintstone', 'the flintstones', 'animals', 'the flintstones', 'flintstones', 'wilma flintstone', '', 'flintstone costumes', 'who stole my trash ?', 'wilma', 'have you heard about the human powered car', '', 'cartoon network costume', '', 'adult , child and toddler', 'the car costs $ 15,000 and will be out in 2009 .', 'fred flintstone', 'adult , child and toddler', 'this is an officially licensed product .', 'mel blanc', 'this bamm bamm costume', 'barney rubble costume', '', 'flintstone costumes - yabba-dabba-do !', '', 'hanna-barbera finstones', '', ''] , fred flintstone\n",
            "114 40 ['robert angelone', 'pythagoras', 'anton lavey', 'epicurus', 'epicurus', 'epicurus', 'epicurus', 'epicurus', 'pyrrhon', 'hermarchus', 'pyrrho', 'antisthenes', 'epicurus', 'lucretius', 'zeno of citium', 'metrodorus', 'epicurus romans', 'epicurus', 'michael lahanas', 'ralph dumain', 'syro', 'karl marx', 'vincent cook', 'zeno 335-263 b.c.', 'diogenes', 'epicurus', 'epicurus', 'epicurean philosophy of nature', 'the founder of the stoic school', 'epicurean philosophy of nature', 'greek', 'epicurean philosophy of nature', 'epicurean philosophy of nature', 'epicurean philosophy for kids', 'rome', 'the founder of his creed', 'epicurean philosophy epicurean notion of philosophy', 'epicurean philosophy - history for kids', 'epicurean philosophy', 'the founder'] , epicurus\n",
            "115 40 ['polo', 'winston churchill fan', 'courage', 'scrapbooks', 'her husband', 'say what you', 'poet', 'she was my favourite friend', 'great contemporaries', 'read books of quotations', 'prime minister of the united kingdom', 'she was my favourite friend', 'book', '2 more courage', 'the nobel prize in literature', 'ourage', 'author', 'parliamentary session', 'author', 'politics', 'movie', 'politician', '', 'winston churchill', 'pol roger 1928', \"young winston 's wars\", '', 'olympic games', 'franklin delano roosevelt', '4 pages winston churchill came to power with a clear idea of what it took give his country hope.', 'athletes', '3 .', 'wikipedia', 'lord randolph henry spencer-churchill', 'speeches , 1897-1963', \"world 's best website\", \"john strange spencer churchill the illegitimate son from one of many affairs that churchill 's mother had .\", '', '', 'anti-doping rules anti-doping programs seek to preserve what is intrinsically valuable about sport'] , polo\n",
            "116 40 ['iceland', 'iceland', 'iceland', 'iceland', 'iceland', 'the soviet union', 'the soviet union', 'the soviet union', 'the soviet union', 'portugal', 'soviet union , iceland , and sweden', 'poland', 'france', 'portugal', 'germany and england', 'germany and britain', 'mexico', 'western', 'iceland', 'iceland', 'iceland', 'iceland', 'iceland', 'france', '1935', '', '1935', '', '', '', '', '', '', '', '', '', '1935', '', '', ''] , iceland\n",
            "117 40 ['7th heaven', 'andromeda', 'the goldbergs', 'the jacksons', 'star trek : the animated series', \"hogan 's heroes\", 'a different world', 'family matters', 'matlock', 'will & grace', 'murphy brown', 'ally mcbeal', 'lois and clark : the new adventures of superman', 'disney `` miracle of the white stallions', 'decoy', \"john singleton 's poetic justice\", 'texas', 'star trek', \"hudson 's bay 1959 adventure series\", 'the travels of jaimie mcpheeters', 'the call of the wild', 'burn notice', '` walker : texas ranger', '` seventh heaven', 'the jackson 5ive', 'my little margie', '1988 animated tv series `` superman', 'dick tracy', '`` shaft', 'movie', 'tv series `` providence', 'bring me sunshine', 'the concert', '', \"quantum leap , '' `` family matters\", 'early career', 'the feature film version of the tv series', '', 'it was the first time an african american family had starred in a television series', 'jermaine dupri'] , fame\n",
            "118 40 ['stephen king', 'stephen king', 'stephen king', 'stephen king', 'stephen king', 'angela knight', 'stephen kingstephen king overview stephen edwin king', 'king', 'king', 'king', 'fannie flagg', 'victoria benedictsson', 'king', 'firaq gorakhpuri', 'john swithen', 'king', 'stephen king', 'nora roberts', 'victoria benedictsson', 'nora roberts', 'george eliot', 'george eliot', 'jk rowling', 'samuel clemens', 'ellery queen', 'richard bachman for ste', 'isak dinesen', 'richard bachman', 'sh ` er -lrb', 'richard bachman', 'pseudepigraphy', 'pseudepigraphy pseudepigraphy', 'an author', 'well-known figures as the publicly ascribed author', 'pen name a pen name or nom de plume', '', '', 'an author believes that his name does not suit the genre he is writing in .', '', 'author believes that their name does not suit the genre they are writing in .'] , steven king\n",
            "119 40 ['snakes', 'native snakes', 'financial sporting resource', 'femininity', 'food', 'local government', 'predators', 'snakes', 'popular interest', 'lack of distinction between ferry and fairy', 'other names are growing', 'predators', 'sports', 'home listing options innkeepers log in', 'nuclear free legislation', 'recognition', 'lack of distinction', 'america', 'usa and parts of canada are the only major countries to still cal the game ` soccer', 'clarity', 'it is only in netball where new zealand has performed to a satisfactory level', 'land mammals', 'a territory', \"union 's lack of popularity\", 'china has not won any .', 'football', 'new zealand flora occurs only in new zealand , including more than 40 endemic genera', 'the dog seems to have survived the journey to new zealand', 'no matter what age', 'australia and new zealand are pacific rim countries', 'australia', 'biological heritage', 'malta', 'it is only used in official capacity by what is effectively an anomaly', 'what shall we give in return for so much', 'irish music modern ireland ireland is one of the most modern and prospering european countries right now .', 'new zealand holidays', 'new zealand has to offer', 'new zealand and australia shared with these countries a number o', 'culture .'] , native snakes\n",
            "120 40 ['ambroise vollard', 'pablo picasso', 'dora maar', 'picasso', 'el greco', 'picasso', 'picasso', 'picasso', 'guernica', 'palau i fabre', 'picasso', 'pablo', 'picasso', 'alfred stieglitz', 'picasso', 'henri matisse', 'picasso', 'picasso', 'picasso', 'georges braque', 'el greco', 'art prodigy', 'spanish painter', 'spanish painter', '1916', '', 'his first exhibition was in 1900', 'french and spanish', '', 'he was working on a mural for the paris exhibition to be held in the summer of 1937', 'my first drawings could never have been shown at an exhibition of children drawings', \"his ` blue period ' began in the same year .\", 'he also produced his first sculptures .', '6 guernica', 'he had his blue', 'the artist', 'the man has the face of his deceased friend', '', '', ''] , pablo picasso\n",
            "121 40 ['lord of the flies', 'lord of the flies', 'lord of the flies', 'lord of the flies', 'lord of the flies', 'lord of the flies', 'lord of the flies', 'lord of the flies', 'lord of the flies', 'lord of the flies', 'spezielles', 'lord of the flies', 'the lord of the flies', 'what', 'lord of the flies summary', 'lord of the flies', \"` lord of the flies ' leadership\", \"elie wiesel 's night and william golding 's lord of the flies\", 'island of the blue dolphins', 'the isle of missing ships', '4 pages lord of the flies', 'lord of the flieslord of the flies overview lord of the flies', 'lord of the flies', \"lord jcb_earlyamerican of the flies ' leadership on the island\", 'lord of the flies', 'lord of of flies', \"what does the character 's name say about him and his significance\", 'poetry', 'save paper lord of the flies', 'islan', 'that was about some kids marooned on a very small mysterious sinking island in the ocean', 'it was first published in 1954', 'it is about a bunch of kids who are marooned on an island .', 'it is the story of a group of schoolboys marooned on a desert island', 'their plane crashes on an island somewhere in the south pacific .', \"it 's a very entertaining and exciting book about a group of young boys who are isolated on a desert\", \"it 's about a couple of kids who get marooned on an island\", 'a thrilling and elegantly told', 'according to golding , the evil is brought to the island by the boys themselves .', 'coral island'] , lord of flies\n",
            "122 40 ['digital radio', \"what about the bbc 's six in-house performing groups\", 'radio drama', 'aileag', 'rose bowl', 'the eveready hour', 'live sports', 'shortwave', 'reith lecture', 'what', 'young musician', 'bbc light pro', 'choral evensong', 'radio times', 'the first remote', 'outside broadcast', 'television with moving images', 'bbc hd', \"question may hang largely upon what constitutes ` regular ' programming\", 'all-electronic television system', 'radio 2', \"television what is now known as bbc one was the world 's first regular television service\", \"what 's on this site\", 'recordings on the carlton `` bbc radio classics', 'the first bulletin was broadcast in 1954', 'iconoscope , the first television transmission tube', 'bbc radio leicester', 'television', \"performance on 3 concerts of handel 's music\", 'comic radio show', 'this is also the first time in the world that a radio show is broadcast before a studio audience', 'wales', 'radio broadcast', 'the future of radio ii', 'what specialist programming remains is mostly broadcast on weekend evenings', 'faraway hill , what many television historians consider to be the first network soap opera', 'radio3net is the first romanian radio station to broadcast only on the internet', 'commercial radio', 'pirate radio stations began to ring the british coastline', 'radio broadcast'] , opera\n",
            "123 40 ['fish tanks', 'live rock', 'going on vacation', 'freshwater aquatic life', 'what is the real story', 'tropical , aquarium , freshwater fish', 'chattanooga nature center', 'amazing 3d aquarium theme', 'amazing 3d aquarium theme', 'aquarium first aid what do you have on hand for fish tank emergencies', 'freshwater aquarium water quality', 'chickamauga and chattanooga national military park', 'tropical fish', 'one body of water', 'what do i do ?', 'curious', 'civil war history', 'local history', 'large freshwater fish', 'chattanooga', 'many factories', \"the world 's largest freshwater aquarium .\", 'lungfishes', 'marine reef aquarium', 'encouraging active public participation to promote knowledge and conservation of the marine life of souther', 'marine aquarium species', 'today , a devoted aquarist can keep an anemone alive', 'fish link central the ultimate site for links devoted to the aquarium hobby', 'chattanooga aquarium', 'tennessee aquarium the tennessee aquarium', '', \"to see if you 're willing to do what it takes to keep these beautiful aquarium corals\", 'polypterus fishes', '', \"the tennessee aquarium in chattanooga is the world 's lar\", '', 'freshwater aquarium fish for sale', 'chattanooga aquarium', 'fish ponds', ''] , freshwater fish\n",
            "124 40 ['pacific ocean', 'gulf of mexico', 'atlantic ocean', 'mexico', 'the indian ocean', 'cuba', 'bahrain', 'the gulf of mexico', 'atlantic ocean', 'the gulf of mexico', 'holiday inn', \"who 's a hoosier\", 'off', 'persian', 'the united states', 'mexico', 'transocean', 'chevron', 'mexico', 'mexico', 'mexico city', 'universe ireland', \"what 's a buckeye\", 'gulf', 'apalachee bay', 'south', \"they have one of the world 's largest tuna\", 'santos', 'oceans', '', 'largest oceans', \"gulf 's research and product development base is in mumbai , india\", 'oceans', \"navy 's aviation museum , a historic 1800 's fort\", '', \"gulf 's origin\", \"organic aquaculture do you know what 's in your seafood\", '', \"gulf 's whale and dolphin\", ''] , gulf of mexico\n",
            "125 40 ['theodore roosevelt', 'theodore roosevelt', 'president theodore roosevelt', 'theodore roosevelt', 'president theodore roosevelt', 'theodore roosevelt', 'theodore roosevelt', 'roosevelt', 'theodore roosevelt', 'roosevelt', 'roosevelt', 'theodore roosevelt', 'roosevelt', 'roosevelt', 'president theodore roosevelt', 'united states president theodore roosevelt', 'roosevelt', 'theodore roosevelt', 'roosevelt', 'theodore roosevelt', 'tr', 'roosevelt', 'roosevelt', 'portsmouth', 'roosevelt', 'who', 'lrb', 'the nobel institute', 'he was the first american to be awarded the nobel prize , winning its peace prize in 1906', 'he was the first american to be awarded the nobel prize , winning its peace prize in 1906', 'he received the 1906', 'american history search', 'his mediation of the russo-japanese war 1905', 'he was awarded the 1906', 'as a result of the portsmouth peace', 'he won the nobel peace prize for mediating the russo-japanese war', 'he helped mediate an end to the russo-japanese war which , in 1906', 'he was awarded the nobel prize for peace in 1906', 'he was awarded the 1906', 'he negotiated a settlement of the russo-japanese war'] , theodore roosevelt\n",
            "126 40 ['urine', 'what', 'tomatoes', 'their future in your hands', 'a secure , well-built roof', 'ice cream on cherry pie', 'tomatoes', 'ice cream on cherry pie', 'a skunk', 'do if your skunk has a seizure', 'office', 'bathtub', 'a skunk', 'bathtub', 'telecommuting advantages', 'research , your specific objectives -- including the actual numbers -- and your reasons on paper', 'mobile privacy', \"what 's on my pc\", 'ear plugs', 'truck', 'gas', 'do', 'nutrition and diet & foods what to feed your pet skunk', 'residents', 'hiring', \"mouse over the image you want and `` drag and drop '' the image to your desktop\", 'wipe off a table and you pick up a sock', \"do it your self ' project\", 'black-on-black porno movie and put it on my desk', 'what if you think your boss is doing something illegal or unethical', 'drugs', 'residents', '', 'tap', '', 'tap', 'bosses', '', 'desk', ''] , skunk\n",
            "127 40 ['giorgio moroder', 'john mclaughlin', 'giorgio moroder', 'moroder', 'giorgio', 'giorgio moroder', 'find john mclaughlin', 'nikka costa', 'various artists', 'j&w auto new wreckers', 'mobygames', 'm. .', 'moroder', 'electric dreams lis .', 'phil gould', 'giorgio', \"electric scoundrel 's dreams\", '', 'electric dreams', 'film', '', '', '', '', '', 'the onion av club', '', '', 'moroder', '', 'steven barron . .', '', '', '', '', '', '', '', '', ''] , giorgio moroder\n",
            "128 40 ['penang', 'kuala lumpur', 'kuala lumpur', 'kuala lumpur', 'kuala lumpur', 'kuala lumpur', 'kuala lumpur', 'kuala lumpur', 'kuala lumpur', 'kuala lumpur', 'kuala lumpur', 'kuala lumpur', 'putrajaya', 'putrajaya administrative capital of malaysia', 'kuala lumpur', 'kuala lumpur', 'kl', 'putrajaya putrajaya', 'kuala lumpur', 'the federated states of malaysia malaysia', 'kl', 'kuala lumpur', 'kuala lumpur', 'kuala lumpur', 'kuala lumpur', 'malaysia', 'amprivate equity sdn .', 'malaysia', 'kuala lumpur malaysia - kuala lumpur city , kuala lumpur tourism , travel to kuala lumpur kuala lumpur', 'kuala lumpur', 'kuala lumpur', 'the city is also the cultural and economic centre of malaysia', '', 'malaysia', 'the city derived its name from its location at the confluence what', '', '', '', '', 'malaysia : an islamic capital market hub'] , kuala lumpur\n",
            "129 40 ['brussels', 'brussels', 'brussels-capital regionbrussels', 'the french community of', 'brussels-capital region', 'brussels-capital region', 'brussels', 'city of bruss', 'brussels', 'brussels-capital region', 'city of brussels', 'brussels', 'brussels', 'brussels capital-region', 'brussels', 'belgium hotels booking : hotel in belgium', 'brussels', 'belgiumbelgium', 'brussels', 'city of brussels', 'brussels', 'brussels', 'brussels', 'the city of brussels', 'the city of brussels', 'brussels capital-region', 'the city of brussels', 'brussels', 'brussels', 'the city of brussels', '', 'brussels', 'the brussels capital-region', 'what do you know about anna pavlova', 'federal kingdom', 'it was named the capital when belgium', 'what', '', '', ''] , brussels\n",
            "130 40 ['binghamton', 'new york state -- bainbridge', 'new york state -- antwerp', 'amityville', 'new york state -- amsterdam', 'new york state -- altamont', 'albany', 'new york metropolitan area', 'new york state -- ballston spa .', 'new york state -- bennington region', 'bergen county', 'new jersey', 'essex county', 'new york', 'new jersey', 'new jersey', 'most of the 280 million people currently living in the united states', 'new jersey', 'new jersey', 'new jersey', 'jewish population of the united states by state', 'new jersey', 'new jersey', 'new jersey', 'it is also the second wealthiest state in the united states', 'it is also the wealthiest state in the united states', 'new jersey', 'newark', 'jewish population of the united states by state', 'new jersey', 'most of the 290 million people currently living in the united states descend from european immi', 'new jersey new jersey new jersey', 'new jersey', 'it is the fourth smallest', 'every state in the united states has a state bird and a state flower', 'the united states , map of united states showing state borders', '10', 'here is a list of state mottos for the states of the united states', 'here is a list of state mottos for the states of the united states', 'camden'] , new jersey\n",
            "131 40 ['haggis hurling', 'turning', 'the kilt', 'women', 'length and weight beyond the powers of all but the best athletes to turn', 'toss is a traditional scottish athle', 'poles', 'severa', 'distance , but in fact it is for `` style', 'what men wear', 'the practice of throwing a light caber for distance is not tossing', 'the top heavy end', 'what', 'putting the stone', 'the caber t', 'caber toss', 'turned caber', 'weights for distance or for height', '', 'a caber being tossed at the 200', 'throwing a section of a trunk of a tree', 'a caber being tossed at the 200', '', 'a caber being tossed at t', '', 'the caber toss is a traditional scottish athletic event involving the tossing of a large wooden pole', 'a caber being tossed at the', '', 'two or more cabers be used for a competition', 'caber tossing rules and photos information and pictures of the caber toss', 'tossing the caber', 'tossing', 'tossing of ye barr', '', 'a caber being tossed at the 2000 new ha', 'tossing', 'the caber forms a straight line through the thrower', 'tossing the caber caber tossing', 'tossing the caber', ''] , wearing kilt\n",
            "132 40 ['ohio', 'the beautiful south', 'ohio', 'england', 'olivia new', 'country', '', '', '', '', '', 'country', '', '', '', 'international', 'sydney', '', 'united', '', '', '', '', '', '', '1 .', '', '', '', \"`` olivia newton-john '' .\", '', '', '', '', '', '', '', '', '', ''] , ohio banks of ohio\n",
            "133 40 ['aff', 'licence to kill', 'tomorrow never dies', 'the world is not enough related links', 'dr. no', \"which ` bond is girl ' your favorite ?\", 'quantum of solace', 'die another day', 'on her majesty', \"which ` bond girl ' is your all-time favorite ?\", 'christmas jones', '7th christmas lunch', 'casino royale', 'james bond book club', 'casino royale', 'belly buttons', 'which bond girl', 'belly buttons', 'belly buttons', 'dr. no', 'vesper lynd', 'james bond film on dvd .', 'giulietta da vinci', 'bond girls home', 'james bond movies , and best james - actor bond', 'dr. christmas j', '', '', '', 'movies where a character was called `` james bond', '', '', 'film , novel , or video game .', \"donald pleasant 's portrayal of blofeld !\", 'james bond actor', '', '', '', '', ''] , world is not enough\n",
            "134 40 ['reed', \"beggar 's banquet\", 'motorpsycho', 'michie one', 'enya', 'emi', 'roadrunner records', 'stewart', 'lou reed', \"lou reed 's berlin\", 'hb', 'alton ellis', 'tommy funderburk', 'reed', 'fish', \"breton 's cile corbel\", 'sofia talvkik', 'reed', 'lou reed story', 'floetry', 'matthews', 'california', '1969', \"spirit of '76\", 'a japanese record company', 'lou cowell', '', '', 'nurding', '1972', 'the phil spector definitive collection', '', 'outtakes for the outcast', 'amarantine', '1970 .', 'bega', 'the next best thing', \"berlin : live at st. ann 's warehouse , was released in 2008 .\", '', ''] , lou reed\n",
            "135 40 ['three of cups', 'what', \"the ability to see things from others ' viewpoints and to plan appearances successfully\", 'mind and body', 'the strength to ask for what you need .', 'tarot jewelry pendants and earrings', 'force strength , queen of cups , six of cups', 'physic', 'strength of the infinite', 'physical strength and strong mind', 'preparation of appearance', 'power', 'subtlety', 'interpretation and meanings meaning and interpretation of strength tarot card', 'special cards', 'one who is excessively careful about new experiences', 'the steps to the crown', \"the strength we need to face life 's problems\", 'so there .', 'the chariot action', 'le chariot - the chariot viii', 'love and friendship .', '9', '9', 'major arcana cards fool magician high priestess empress emperor hierophant lovers', 'ix -- the hermit ; vi -- lovers', 'wheel of fortune', 'le chariot the chariot viii .', 'exaggerates the properties of the hermit .', 'suit of cups', 'temperance', 'interpretation and meanings', '', 'the fool the magician the high priestess the empress the emperor the hierophant the lovers', 'enjoyment of life', 'the wheel of fortune', 'soul', 'the han', '` strength', \"the hermit '' .\"] , tarot cards\n",
            "136 40 ['how many man-made satellites', 'the great wall of china', 'the great wall of china', 'great wall of china', 'the great wall of china', 'the great wall', 'the current great wall', 'the great wall of china', 'the great wall', 'the great wall', 'the great wall of china', 'the great wall', 'ancient fortification', 'it was still the largest structure beyond redshift 2', 'the great wall', 'the great wall', 'great wall', 'the great wall', 'the great wall', 'the great wall', 'china', 'the great wall', 'the wall', 'great wall', 'crater', 'the great wall of china', 'no man-made object', 'the great wall', 'it is also the largest human-made structure ever built in terms of surface area and mass', \"chinese great wall 's architectural grandeur and historical significance this chinese wonder\", 'great wall', 'great wall of china', 'it is the largest man-made monument', 'the great wall', 'the great wall of china', 'great wall of china', 'it is no more conspicuous than many other man made objects', 'the great wall of china', '` only man made object visible from space myth', 'railroads'] , great wall of china\n",
            "137 40 ['1843', '1843', '1875', '1843', '1860', '1843', '1843', '1953', '1900', '2005', '1893', '2006', 'victorian', 'what type of personalized', 'what', 'england', 'what', '', 'what', 'what better way to show someone you care and are thinking of them during the christmas season', 'sir henry cole', 'first come first serve basis', 'what will be fashionable in on the runways in new york next year', 'cadbury chocolate egg', '', 'what free', '', 'new year', 'ukrainian money \\\\u00b7', 'devon news story', '', 'the first christmas cards rarely had xmas', 'associated content home home improvement', 'the first christmas card was born .', 'the first christmas card provoked controversy in certain circles in england', 'the christmas card is without a doubt the most sent greeting of the year', 'perfectchristmascards.co.uk', \"the christmas cards ' history the christmas card is without a doubt the most sent greeting of the year\", 'year after year', \"this ` first commercial christmas card ' ,\"] , 1846\n",
            "138 40 ['tobacco', 'what are the different types of firearms', 'alcohol advertising', 'advertising', 'alcohol', 'rrb- tobacco tobacco', 'alcohol', 'tob', 'the nfa', '`` tax', 'the gca', 'illegal use and sale of firearms', 'arson & explosives labo', 'what effect', 'atf', 'explosives', 'unpublished data', 'explosives', 'atf', 'firearms without written and published testing', 'electronic', 'alcohol+tobacco', 'an-ba', 'tobacco', 'national treasury employees union', 'fire', 'explosives', 'bureau of alcohol', 'alcohol', 'preceding agency bureau of alcohol , tobacco , and firearms e', 'navigat', 'alcohol , tobacco , firearms and explosives', 'alcoho', 'atf badge atf regulations', 'atf facts , november 1994 .', 'atf regulations search atf regulations alcohol', 'u.s. bureau of alcohol , tobacco , firearms and explosives', 'explosives tracing guidebook , september 1993 .', 'cross fire', 'bureau of alcohol'] , refreshing\n",
            "139 40 ['what is a pin', 'what to do if credit card is lost or stolen', 'what is credit card', 'an unsecured card', 'what', 'what kind of fees', 'what is credit card', 'what is an affinity card', 'what kinds of cards', 'what is a debit card', 'what is a secured card', 'what is the best credit card', 'what is a guaranteed card', 'a debit card', 'cash advance', 'membership card was lost or stolen', 'credit debt', 'what to buy for with or compare credit cards online', 'what is an unsecured card', 'what is a secured card', 'an affinity card', 'what is a guaranteed card', 'membership card is expired', 'enroute card', 'credit card verifier', 'aussie mastercard credit card', 'what are some common credit card terms', 'it became the first independent credit card company in the world', 'issuer identification number', 'credit card service was first offered in 1951', 'first credit cards', 'credit card cashback', 'what lowers and raises your credit score', 'credit card number validator', 'return to index', 'balance transfer credit card balance', 'in 1959 , the bank of america issued the first truly universal credit card', 'easy credit card checker', 'credit card check tool', 'card approval'] , diners club\n",
            "140 40 ['javert', 'javert', 'ja', 'inspector javert', 'javert', 'javert', 'javert a.k.a. monsieur demasi', 'inspector javert', 'gavroche', 'lestrade', 'what', 'bauer levi', 'victor hugo', 'javert', 'the district-attorney', '', 'guy theater show tickets at onlineseats tickets broker', 'why go', '', '', '', '', '', '', '', 'les miserables prime tickets', 'victor hugo', '^ a b `', 'individuals', '', 'stubhub !', '', '', 'victor hugo', '', '', 'this infuriated the police inspector', 'les miserables items on ebay', 'buy les miserables tickets now !', ''] , javert\n",
            "141 40 ['douglas adams', 'douglas adams books', 'douglas adams', 'douglas adams', 'douglas adams', 'terry jones', 'douglas adams', 'arthur dent', 'douglas adams', 'douglas adams', 'douglas adams', 'douglas adams', 'douglas adams', 'adams', 'adams', 'adams', 'adams', 'peter fincham', '23 adams', 'adams', 'douglas adams', 'christopher austin', \"inspired by the hitch-hiker 's guide to europe\", 'douglas adams', 'douglas', 'lsb- edit spelling', 'home collected works', 'lrb', 'he', 'russell', 'he', 'monty python', 'doctor who', \"do n't panic\", 'doctor who', 'he worked as a script editor of the bbc television programme doctor who', '56 own 5', 'lsb- edit -rsb', 'lp .', 'bbc'] , douglas adams\n",
            "142 40 [\"j. r. r. tolkien 's legendarium\", 'hardbottle', 'the lord of the rings', 'middle-earth', 'very old friends', 'everything', 'what news of the outside world', 'what', 'the hobbit', '', 'hobbit', 'wikipedia', 'shire', '', 'wikipedia', 'hobbits', 'the lord of the rings', 'wikipedia', '', 'wikipedia', 'radio serial', 'everyone has their own idea of what the characters look like .', 'wikipedia', 'wikipedia', 'kinsman', 'wikipedia', 'wikipedia', '', 'the actions of bilbo baggins and samwise gamgee were performed by billy barty', 'wikipedia', 'wikipedia', 'fellowship of the ring', 'wizard', 'wikipedia', '', 'wikipedia', 'his uncle', 'magic rings', 'one ring', 'gandalf the grey'] , lord of rings\n",
            "143 40 ['6 +9', 'what', 'what is 8 +8', 'france', 'what', 'canadian', 'european', 'what', 'what', 'what', 'what', 'what books were used by students at the royal institute for blind', 'ebu', 'blind', '', '', 'blind', 'what writing is to the sighted', '', '', 'sighted', 'what is a cataract', '', '', '', '', '', 'louis joliet', '', '', '', '', '6', '', '', '', '', '', '', 'louis braille'] , french\n",
            "144 40 ['daimler', 'daimler', 'mercedes-benzs', 'daimler-benz', 'gottieb daimler', 'daimler-benz', 'daimler', 'mitsubishi motors', 'mercedes-benz', 'daimler', 'mercedes', 'karl benz', 'daimler', 'daimler', 'daimler', 'mercedes-benz', 'mercedes-benz', 'dmg and the laurel wreath of benz', 'daimler', 'tesla', 'mercedes-benz', 'daimler', 'what kind of architecture', 'daimler', \"tata 's\", 'daimler', 'tag', '', '', 'gas-engine', '', 'the large radiator grille', '', 'the car', '', '', 'the company is located in zuffenhausen , a city district of stuttgart , baden-wttemberg', '', 'the three-pointed star debuted in 1910', 'lrb'] , daimler benz\n",
            "145 40 ['june 12 , 1997', 'when did the mets win the world series ?', '1994', 'when did two baseball teams from new york play in the world series ?', '1919', '1993', '2009', \"'86\", '1986', '1919', 'this was the first world series to feature two teams that had finished the previous season in last place .', 'who', 'it did not world series of poker pc game .', 'lost the first game to the los angeles angels', 'the thistles crushed ottawa in the first game , 9 3', 'this was the first game in world series history to be suspended .', 'game two', 'game 2', '18 years', 'the first six world series meetings between the two took place when the giants called new york home .', '1894', 'suspended', '', 'a winner-take-all playoff game was held at fenway park .', 'this first series to give fans a glimpse of what was to come .', '', '`` phillies assert themselves to take game 1', '', '', 'one did not suit the world series of poker pc game .', 'email story they were in first place every day of the season', \"the next `` home '' match should take place at twickenham stadium\", 'have did seven for houses between world series game of poker pc ?', 'jacking did not call a world series of poker game pc .', '', 'chicago was in first place in the central division by one game over cleveland when play was stopped .', \"did papelbon 's dog take a bite out of world series history\", 'the sox were to be moved to seattle', 'poker pc game series world .', 'billion poker pc game world of series .'] , 1903\n",
            "146 40 ['nontrivial effort', '` rule with peace', 'whirlpool', 'what does it matter', 'what does a filly', 'what does a dyslexic have trouble doing', 'what does a barometer measure', 'what', 'what', 'gumnazein', 'what does the ll in ll bean', 'what does smgbord', 'easter', 'it was the best of a category to which it did not belong', \"b'nai b'rith\", 'what', 'what does the australian slang word hooroo', 'what does a symbol called a quaver', 'in the name of a cloud', 'what would viamedia', 'what did it mean originally', 'what kind of developments', 'easter', 'what does the italian word amoroso', 'what does `` sierra nevada', 'what does the italian word andante', 'modus operandi', 'what does the motto e pluribus unum on u.s. money', 'what does the latin phrase per se', 'what does the latin phrase amor patriae', 'what does the word carol', 'what does `` ciera', 'what does the latin phrase cum laude', 'what does ` hara-kiri', 'what does `` hakuna matata', \"what do the german word `` horsch '\", 'what', 'ultramontanist', 'what does `` in vitro', 'hamlet , and the cia i mean that quite literally who landed where ?'] , three roads\n",
            "147 40 ['browser', 'vacuum flasks', 'fax machines', 'what', 'what', 'the steam-hammer', 'vacuum', 'vacuum/index.htm what is vacuum', 'ammonia compression machine', 'thermos', 'the steam engine', 'vacuum', 'the vacuum flask', 'where', 'percussion', 'what can i do without scratching the bottle', 'smokeless explosive cordite', 'who', 'halloween', 'the dewar flask', 'television', 'wikipedia', 'the vacuum flask', 'wikipedia', 'wikipedia', 'it was invented by sir james dewar , a scientist at oxford university in 1892', 'a cooling system', 'it was invented by the british chemist and physicist sir james dewar in the 1890s', 'it was invented in 1892 by james dewar as a container for liquid oxygen', 'telegraph', 'definition of james dewar .', '', 'an automobile', 'it was invented by the british scientist james dewar in about 1872 , to store liquefied gases', 'obituary', 'the possessed', 'it uses material from the wikipedia article', 'james dewar .', 'frank .', \"`` dewar , james '' .\"] , vacuum or thermos flask\n",
            "148 40 ['antibiotics are widely used in the prevention and treatment of infectious diseases .', 'antibiotics', 'antibiotics', 'secrete substances', 'chemical compounds that are more toxic', 'chemical compounds that cause sterilization or prevent effective reproduction .', 'a wide range of chemical and natural compounds are used as antimicrobials', 'antibiotics', 'any agent used to kill or reduce the growth of any infectious agent', 'most clinically-useful antibiotics', 'chemical used to kill nematodes', 'they kill bacteria', 'antimicrobial compounds produced by living organisms', 'other organisms have adaptations to harsh environments , such as the production of multiple antibiotics', 'antibiotics are essentially natural substances', 'insecticide a pesticide', 'infectious organisms and how they cause various diseases', 'these compounds increase the acidity of the intestine and inhibit the growth of less desirable organisms', 'herbicide a pesticide', 'bacteriostatic or bacteriocidal', 'antifungal agent', 'some antibiotics may be synthetic compounds', 'acaricide', 'acaricide a pesticide', 'biotransformation', 'pesticide', 'bactericide a pesticide', 'chemical breakdown of complex compounds into simpler units to be used in cell metabolism .', 'chemical used to kill or control snails and slugs', 'pesticide', 'chemical substance from one microorganism that can inhibit or kill another microbe even in minute amounts', 'reagent substance used in a chemical reaction .', 'pesticide that is used to kill birds .', 'chemical substance that in dilute solutions can inhibit the growth of microorganisms', 'herbicide is a chemical substance used to destroy , or inhibit the growth of plants , especially weeds .', 'antibiotic', 'fermentation a process of growing micro-organisms for the production of various chemical or pharmaceutical compounds', 'antibiotic', 'rrb- which has the effect to kill or inhibit the growth of other types cells .', 'chemical substance produced by a microorganism'] , antibiotics\n",
            "149 40 ['onion', 'cabbage', 'onion', 'blueberry', 'onion', 'onion', 'liliaceae', 'nightshade', 'lily', 'onion', 'onion', 'turnip', 'mint', 'vegetables', 'alliaceae', 'onion', 'alliaceae onion', 'biennial leek', 'elephant garlic', 'grass', 'leek', 'elephant garlic', 'joshua tree of the american southwest and the century', 'prunus', 'alliaceae', 'vegetables', 'sweet corn', 'crop', 'companion plant', '', 'engr305', 'toronto , on local 3888', 'leaves', 'vegetables belonging to the same plant family', 'parent plant', 'family doctor', 'how many', 'i have limited to space in which to plant them', '', 'leaves of one plant'] , lily\n",
            "150 40 ['john travolta', 'john travolta', 'john travolta', 'her actress mother lucille balllucille ball', 'she', 'if not for you', 'sevensevengh results', 'i', 'video de john travolta', 'john travolta', 'the sydney symphony', 'olivia newton-john & elton john', 'olivia newton-john', 'olivia', 'hopelessly devoted to you', 'the role was given to olivia newton-john', 'her mother who died the previous year .', '', 'olivia newton-john marries john easterling twice', 'olivia newton john album covers', 'the guest judge was olivia newton john', 'cliff richard', \"`` olivia newton-john '' .\", 'john travolta', '', '', \"olivia newton-john '' .\", \"olivia newton-john moves on - personal tragedy , olivia newton-john '' .\", 'olivia newton-john was just perfect .', '', '', '', '^ `` olivia newton-john partners', 'mom', 'olivia newton-john .', '', '', 'olivia newton-john - born to hand jive -lrb', 'olivia newton-john - summer nights grease 6', 'olivia newton-john - hopelessly devoted to you'] , marie osmond\n",
            "151 40 ['amy johnson', 'nancy melvina melborn nancy', 'amelia earhart', 'elizabeth wisdom rhodes', 'nee johnson', 'greta garbo', 'annis', 'mrs. frederick guest', 'joan worralson', 'nichols', 'johnson', 'her third husband , raoul schumacher', 'jean batten', 'ruth rowland', 'amy johnson', 'mrs. lindbergh and mrs. trippe', '', 'women in aviation and space history biographical sketches are arranged in alphabetical order by last name', 'nichols', 'a cabinetmaker from chicken , ak', 'charles hamilton', 'she resumed her maiden name', '`` mollison way', 'bob johnson', 'scottish pilot jim mollison', 'duke neville', 'she became the best-known new zealander', 'william e. boeing', 'the name of neville duke', 'portus lemanis', 'she reverted to her maiden name', '', '', 'her flight authorization papers and some gear bearing her name', 'british columbia', 'record breaking', '', 'she', 'sikorsky', 'his should have been a household name'] , amy johnson\n",
            "152 40 ['sergei ivanovich', 'dmitri mendeleev mendeleev', 'james naismith', 'igor sikorsky', 'how many stars', 'nts', 'wright brothers', 'jacob davis', 'nicolae paulescu', 'what flies over the courthouse', 'abroad', 'russian', 'igor sikorsky', 'russian prison .', 'russian', '', 'us patent & trademark office', 'pushkin', 'germany or the russian orthodox church', 'jew', 'most of us were born outside of russia', '', 'what was the first use of armed helicopters', 'autogiro , an autogyro and a gyroplane', 'russian', '', '', '', '', 'russian and russian', 'russian', '', '', '', '', '', 'russian jewish museum or , as sometimes suggested , a museum of tolerance', 'helicopter', 'what is the difference between a helicopter and a gyroplane', ''] , igor\n",
            "153 40 ['odbody', 'clarence', 'clarence', 'clarence', 'clarence', 'chris', 'frank capra', 'white', 'clarence odbody', 'clarence', 'bad bai', 'frank capra', 'clarence', 'frank capra', '', 'his guardian angel', 'his guardian angel', 'clarence odbody', '', 'angel joseph tells angel franklin', \"i 'm your guardian angel .\", '', 'clarence', 'clarence', 'he pleads to the guardian angel', 'a guardian angel', 'an angel-in-training who gives a despondent man a loo', 'frank capra', 'george has just been shown a vision by his guardian angel', \"my name 's george bailey .\", 'the guardian angel', \"it 's a wonderful life\", 'frank capra sweet-natured , sentimental , inspirational classic drama about', 'we are all george baileys .', 'highlights of the collection ask goodson', 'this passage is like the guardian angel', \"george bailey is a fictional character in frank capra 's 1946 film it 's a wonderful life .\", \"`` it 's a wonderful life\", '', ''] , clarence oddbody\n",
            "154 40 ['10 +5', 'what organs', 'complete blood cell count', 'white blood cells', 'platelets', 'what is a complete blood count', 'what are the components of blood', 'what', 'what is the function of blood', 'what do they look like', 'red blood cells', 'white blood cells', 'what are the functions of blood cells', 'what are platelets', 'codocyte / target cell or erythrocyte / mexican hat cell', 'what functions', 'what would you like to do now ?', 'globin', 'transferrin receptor', 'full browser erythrocuprin', 'poikilocytosis', 'erythrocyte creatine', 'pneumonia', 'blood : path of a red blood cell', 'erythrocyte', 'what type of general changes are observed during differentiation and maturation of erythrocytic cells', 'ter119', 'in the blood of simple animals', 'polychromatophilic', 'extraneous', 'vesicles', 'vertebrate erythrocyte sizes', 'sedimentation rate', 'closely associated in the erythrocyte membrane', '` erythrocyte', 'it is what makes blood red', 'erythrocyte membrane protein', 'blood erythrocyte sedimentation rate', '', 'k loss'] , red blood cell\n",
            "155 40 ['what is it ?', 'what treatments', 'what are pituitary tumors', 'what is the pituitary ?', 'what level the thyroid should be set', 'what is a pituitary tumor', 'what are the symptoms of a pituitary tumor ?', 'hormone target s function acth adrenals', 'what', 'normal', 'location', 'it is not yet known exactly what causes them .', \"the symptom survey test will reveal what 's not functioning in your body\", 'non-secretory tumors', 'loss of thyroid stimulating hormone', 'the hypothalamus', 'no tsh leads to loss of function in the thyroid gland', 'what is a prolactinoma ?', 'hypopituitarism', 'what causes pituitary tumor ?', 'pituitary hormones', 'health : hypopituitarism , pituitary hypopituitarism', 'lack of the hormone leads to loss of function', 'controls the function of most other endocrine glands and is therefore sometimes called the master gland', 'pituitary tumours', 'tests of pituitary gland function may be done to make sure that the gland is working normally', 'if the production of tsh is decreased', 'pituitary disorders', 'to make sure that the gland is working normally', 'governs the function of the adrenal gland', 'coming soon', 'the bean-sized pituitary gland or `` master gland', 'changes in brain function', 'the proper function of the human growth hormone is controlled by other hormones', 'deficient pituitary gland function', 'master gland', 'partial or complete loss of pituitary gland function', 'colostate : functional anatomy of the hypothalamus and pituitary gland', 'the cells of the ap are classified into five types based on what they secrete', 'pituitary-gonadal and pituitary-adrenal axis function'] , it controls production of hormones\n",
            "156 40 ['graceland', 'meditation gardens located at graceland', 'forest hill cemetery', 'forest hill cemetery in memphis', 'forest hill cemetery in memphis', 'graceland', 'meditation garden', 'meditation garden', 'forest hill cemetery at 1661 elvis presley blvd.', 'elvis bathroom', 'forest hill cemetery', 'meditation gardens', 'graceland', 'meditation gardens', 'meditation gardens', 'out in the back yard by the pool', 'meditation gardens', 'to the right of vernon', 'where was elvis presley born ?', 'where', 'hartsdale , new york', 'memphis home cities & towns', 'where', 'next to his beloved son .', 'the garden of remembrance where elvis and his parents are buried', 'where was elvis born ?', 'outside the door', 'lansky', 'memphis', 'where no one stands alone', 'where was elvis born ?', 'there', 'charro', 'this is , in fact , the only car that elvis presley ever designed .', 'where', 'it buried', 'here', 'where could i go but to the lord 22', 'here', 'the very spot where it all began in 1954'] , graceland\n",
            "157 40 ['immature teratoma', 'benign -lrb', 'malignant', 'benign harmless , borderline', 'benign or cancerous', 'benign non-cancerous', '1', 'rare', 'benign', 'benign -lrb', 'non-precancer diagnosis', 'localized', 'benign', 'fatal', 'malignant', \"the final word has n't been said yet\", 'cancerous malignant', 'cancerous malignant', 'cancerous or noncancerous', 'enchondroma an enchondroma', 'it causes pain , restricts movement , and is usually cancerous', 'malignant vs. benign', 'benign growths', 'neoplastic swelling', 'spread , or metastasize', 'return to top women', 'growth', 'non-infiltrating astrocytomas', 'lrb', 'giant cell tumor', 'whether it is cancerous or not', 'glioma', 'growth', 'benign', 'non-protocol therapies are available for tumors of any type', 'tumor surgery if non-surgical treatment is not effective', 'infection', 'about half of these tumors contain cancerous oligodendrocytes and astrocytes', 'may break away from the parent tumor', 'low in amines and nitrates is also said to help prevent cancer'] , benign\n",
            "158 40 ['1912', '2007', '1872', '2007', '1929', '2007', '1991', '1897', '2007', '2007', '1885', '2008', '1923', '1871 72', '2007', '2007', '2006', '2007', '1970', '2006', '19', '2005', '2005', '1921', '1994', '126th', '127th', 'this was the second time arsenal had done the domestic double ,', 'this was also the first fa cup final to be broadcast live by bbc television .', 'the first fa cup final at the new wembley between manchester unite', 'this final', 'they also retained the fa cup the following year .', 'wembley fa cup final copa fa .', \"the following year 's final\", 'the fa trophy final', \"the following year 's final\", 'the first fa cup final at the new wembley betw', \"the following year 's final\", 'the history', 'the final of the challenge cup'] , 1923\n",
            "159 40 ['a tuffet', 'on her tuffet', 'a tuffet', 'on a tuffet', 'on her tuffet', 'on a tuffet', 'what', 'on a tuffet', 'on a tuffet', 'on a tuffet', 'a tuffet', 'on a tuffet', 'on a tuffet', 'on a tuffet', 'how did little miss muffet respond', 'a tuffet', 'who', 'a tuffet', 'on a tuffe', 'a tuffet', 'where', 'on a tuffet', 'where', 'where', 'wikipedia', 'wikipedia', 'wikipedia', 'wikipedia', 'where miss muffet had run to', '4', 'that is the place where they are to sit', '`', 'wikipedia', 'in our kidssoup', 'how to little miss muffet costume', 'do you need help', 'nursery rhyme', 'coloring sheet make spider webs', 'rebus rhymes advertisement', 'report'] , on her tuffet\n",
            "160 40 ['christmas eve or christmas day', 'boxing day', \"new year 's day\", 'christmas eve', 'tomorrow being christmas day', 'christmas truce of 1914', 'december 24 , is the night before christmas day', 'how did christmas', 'christmas day', 'it is a somber christmas', 'christmas', '', 'which movies', 'later they also play a football match against each other .', 'christmas day', 'beginners german word of the day', 'christmas carols', 'happy birthday', 'christmas truce start ?', 'the german success did not last long .', '', 'that day', 'this is an amazing piece christmas play .', 'christmas', 'christmas glossary .', '', 'german word of the day', 'christmas', 'christmas', \"a german joked aloud : ` it would kill us if you did ' .\", 'christmas', '', 'the german announcer cried out for someone to play a record .', 'christmas carols', 'a real football match got underway .', '', 'the english government did not intend to respond to this constructive proposal .', 'if this site did not meet your request related to greek translation services', 'german version corresponded verse by verse with the english', 'not a day'] , 1914\n",
            "161 40 ['hillside vet ` s', 'claudius', 'smithee', 'odie', 'what the devil', 'prince', 'liz -lrb', 'aunt bernice', 'ceaser', 'vet s office', 'vet', 'vet', 'dargis', 'orson', 'nigel', 'garfi', 'garfield', 'lunch', \"she 's a girl\", \"what 's the news\", 'jon', 'new', \"what 's to stop dargis\", \"- what 's the news\", 'kid rock', '', 'garfield', '', \"he 's from another comic strip\", \"what 's so hard about giving a raw chicken\", '', 'jon', 'office', '', '', 'garfield', 'garfield', '', '', ''] , liz\n",
            "162 40 ['la la la', 'power to all our friends', 'power to all our friends', 'power to all our friends', '1960 euro', 'high n dry', 'tomorrow rising 4 21,858 cliff richard the days of lov', 't.a.t.u.', 'do you remember ?', 'little rag doll', \"`` congratulations ''\", \"it 's cliff .\", 'gi meg fri', '9th no 1', \"`` congratulations ''\", 'wikipedia', '50th anniversary album', \"` congratulations '\", 'lady madonna', 'la , la , la', \"`` congratulations '\", \"` congratulations ''\", 'puppet on a string', 'power to all our friends united kingdom album', '', 'the song', '2009', 'song', 'wikipedia', '', 'wikipedia', 'wikipedia', '', 'the same songcontest in 1968 .', 'rrb', 'franco', 'cliff richard performed for the uk', '', 'the eurovision song contest 1968 was the thirteenth eurovision', '1968 was the first time that the eurovision song contest was broadcast in colour .'] , la la la spain\n",
            "163 40 ['taipei taipei', 'tainan', 'taipei', 'tainan', 'tainan', 'tainan', 'jhongsing village', 'tainan -lrb', \"kaohsiung taiwan 's harbour capital\", 'n taiwan', 'jhongsing village', 'taipei', 'yuanshan', 'jhongsing village in central taiwan near the city of taichung', 'tokyo and hong kong', 'what country', 'japan', 'taipei', 'taipei', 'taipei', 'what will the future between taiwan and china', 'capitol reef', 'umax', 'n part', 'taipei basin', 'taiwan', 'taiwan', 'taiwan', 'afghanistan', '', 'taiwan', '', '', 'the us', 'capital of taiwan', 'taiwan', 'travelnotes.org - the online guide to travel', 'taiwan', 'what to do', 'venture capital'] , taipei\n",
            "164 40 ['adultery', 'lost the good of intellect', 'what sins', \"what is ugolino 's sin\", 'what sin', 'unwillful sinners', 'lust', \"what is ugolino 's sin\", 'what sin', 'what better contrapasso', \"what is ulysses 's fundamental sin\", 'punishment', 'what do these three characters have in common', 'what the hell', 'what deeper sin', 'what sin is being punished in the ninth circle , and how are the sinners punished ?', 'they consider themselves fated and imprisoned by god', 'chief sin he committed .', 'the chief sin he committed for all of eternity', 'hell lite', 'repent', 'punishment', 'deadly sin', 'holy', 'limbo', 'things are often not what they seem in hell .', 'punishment', \"what may have been dante 's motivations in writing the inferno ?\", 'paap sin', 'temporary', 'eg theft', 'temporary', 'the sufferings of the damned', 'sinned the same sins', 'how does brunetto feel about the inhabitants of fiesole ?', 'people who commit sins go to hell and have to go through punishments', '` paap', 'lrb', 'hell', 'inhabitants spotted by dante included attila the hun and alexander the great'] , pride they are crushed by stones\n",
            "165 40 ['crete was occupied from germany', 'occupied japan', 'the dutch on java surrender to japanese .', 'occupied by the japanese', 'japanese submarine operations against australia', 'occupied japan', 'japanese', 'japanese soldiers', 'germany', 'japanese take central burma', 'occupied france .', 'the greek island crete had to be occupied .', 'japanese invade the aleutian islands .', 'france', 'on the 15th of june 1940 paris was occupied .', 'the japanese imperial forces occupied olongapo', 'japanese begin an advance into burma .', 'japanese take north borneo .', 'japanese and allied forces', 'japanese attack bataan in the philippines .', 'hong kong was aslo occupied by the japanese', 'by the end of december most of the island was occupied .', '1942 return to top of page map of the japanese empire', 'japanese forces occupied it on 2 january 1942 .', 'tobruk', 'in the first japanese general offensive', 'mandalay in burma .', 'japanese invasion force', 'philippine fortress was also occupied by the japanese .', 'japanese forces land on luzon at lingayen gulf', 'japanese-occupied areas and league-controlled areas', 'occupied territories', 'the city was occupied by the japanese jan. 2 , 1942 .', 'japanese occupied the leading centers in the philippines', 'some areas of luzon were occupied until the end of the war by beleaguered japanese forces', 'tanaka unit', 'manila', 'the japanese captured and occupied jolo', 'japanese-occupied sumatra , thailand and french indochina', 'japanese'] , manila\n",
            "166 40 ['fireworks music', 'te deum', 'the music for the royal fireworks', 'music for the royal fireworks', 'funeral anthem', 'music for the royal fireworks', 'deepavali', 'music for the royal fireworks', 'musick for the late royal fireworks and the anthem on the peace', 'boheoja', 'royal fireworks', 'music for the royal fireworks', 'chuita chuita', 'chad : r', 'kagok lyrical songs kagok', 'handel', 'handel : music for the royal fireworks : la rejouissance 5', 'cheongseonggok -lrb', 'akpese party', 'aachen', 'music : dominican republic', 'the lutheran calendar of saints', 'the feast of the conception', 'peace anthem text', 'the treaty of aix-la-chapelle', 'mammoth festivities', 'orchestral music', 'handel', 'pe', 'treaty of aix-la-chapelle', 'the piece', 'this piece', 'music', '', 'peace on earth , good will to men', 'music for the royal fireworks', 'the music', 'fireworks set piece', 'the piece', ''] , music for royal fireworks\n",
            "167 40 ['trivial pursuit', 'trivial pursuit', 'bezzerwizzer', 'mehen', 'which', 'mehen', 'trivia pursuit game', 'hnefatafl', 'spy alley game', 'ontario and alberta', 'what', 'rrb', 'trivia', 'what', 'what', 'game materials', 'what', 'ultra board', 'secrets', 'lrb', 'what team', 'answer correctly', 'winning', 'a wedge', 'hours of fun', 'a game .', 'c', 'the game comes with game board , dvd', 'hub', 'knowledge', 'trivia question in the center', 'the game also contains a bag full of black tiles', 'what are the odds of rolling six sixes with five dice', 'a game board and playing pieces', 'in-game animation', 'players move their playing pieces around a track', 'pie', '', 'farm animal', 'wild animal needs to find its own space'] , trivia pursuit\n",
            "168 40 ['cocktail', 'vodka', 'mudslide 11', 'a rusty nail', 'grey goose vodka', 'what', 'a stinger', 'ingredient profile', 'kahlua milk kahlua black russian kahlua white russian', 'b and b', 'coffee liqueur', 'kahlua cream soda 15', 'vodka', 'vodka', 'bread wine', 'martini recipes what is a cocktail', 'vodka , baileys', 'lrb', 'vodka', 'kahlua milk', \"lover 's cocktail\", 'who cares what you call it', 'vodka', 'kahlua', 'eggnog cream', 'cocktail white russian', 'lrb', 'milk', 'cream', 'wait', '1 shot kahlua', 'white russian', 'potatoes', 'white russian cocktail recipe for a white russian', '4 oz', 'russian', 'practice', 'it is usually made from grain-wheat , corn , or rye .', 'grain or potatoes', 'potatoes , molasses , soybeans , grapes , sugar beets'] , black russian\n",
            "169 40 ['terry bollea', 'terry bollea', 'terry bollea', 'terry bollea', 'terry bollea', 'terry bollea', 'terry bollea', 'terry bollea', 'terrt bollea', 'terry bollea', 'bollea', 'terry bollea', 'gagner', 'nick bollea', 'real american', 'terry bollea his real name', 'the immortal hulk hogan', 'terry bollea', 'the incredible hulk hogan', 'real american', 'madonna', 'nick hogan', 'his father', 'incredible hulk', 'what was that song', 'what', '`', 'hogan', 'smith', 'vince mcmahon', 'statistics ring name s the super destroyer sterlin', 'what happened', 'hulk hogan', 'what ... by : celebrity smack', 'hulk said .', \"what 's hot\", '', 'real name', '', 'john'] , terry bollea\n",
            "170 40 ['how many', 'three', 'how often', 'many works', 'how many', 'how many', 'many', 'many editions', 'three', 'three', 'more than one', 'many', 'how cool', '', 'keep reading', 'how to compare this book', 'complete trilogy', '', 'many patterns and parallels in the trilogy', 'these books', 'many pluses', 'to tell me how much he loves my books', 'everywhere .', 'many other books', 'the circle trilogy', 'several more foundation books', '', 'many books published in britain', 'many of her books are sold as straight historicals', '', 'the books', 'it the best of the many', '', 'the books are separate', '', 'these books', \"it is a masterpiece of literature about one man 's life journey spanning many years\", 'trilogy', 'many stand-alone young adult books', '3'] , three\n",
            "171 40 ['the last picture show', 'detective story', 'gaslight', 'bonnie and clyde', 'inside daisy clover', 'facts & trivia', 'the aviator', \"penn 's masterpiece\", 'wikipedia', 'gene hackman', 'facts & trivia', 'facts & trivia', 'susan orlean', 'the last picture show', 'bonnie and clyde', 'five best', 'gaslight', '1999', 'shelley w', '2002', 'yahoo! movies', 'bonnie and clyde', 'blanche barrow', '', 'oltre ai due oscar attribuiti a estelle parsons e burnett guffey', 'bonnie and clyde', 'beatrice straight', \"tatum o'\", 'woodward', '', 'gale sondergaard', 'meryl streep', 'it won two oscars , best supporting actress', 'cinematography', 'gene hackman', '', 'debut film -lrb', 'best actress in a supporting role .', '', '.'] , bonnie and clyde\n",
            "172 40 ['belatucadnos', 'brigantia', 'carlisle', 'deva', 'eboracum', 'exeter to lincoln', 'carlisle', 'carlisle', 'carlisle', 'jedburgh and edinburgh', 'lunt roman fort', 'cullen', 'artaius', 'yorkshire', 'ancient rome', 'rickergate', 'calleva', 'carlisle', 'fishbourne roman palace often exhibits roman mosaics produced in its twin city , ravenna', 'edentown', 'chester', 'bothergate', 'gloucester', 'york', 'glasgow city', 'british museum', 'location within the british isles .', 'the romans in britain the romans in britain', 'known only as britain back then in 55 b.c.', 'diana', 'british history club : legendary british kings', 'romans-in-britain', '', '` romans in britain', 'romano-british place-names', 'caledonians', 'it the most important structure built by the romans in britain , but it is the best known frontier', 'luguvallium', 'an attractive plant display area contains a range of plants known to have been cultivated by the romans .', 'the romans never did succeed in subduing all of britain .'] , carlisle\n",
            "173 40 ['to catch a thief', 'to catch a thief', 'paris match', 'to catch a thief', 'the swan', 'to catch a thief', 'romeo and juliet', 'med', 'the swan', 'cannes film festival', 'prince ranier iii', 'grace kelly', 'how they met :', 'it was the last film she made before marrying prince ranier', \"this was grace kelly 's final film for hitchcock ; she became princess grace of monaco\", 'alfred hitchcock', 'grace kelly of philadelphia marries prince ranier iii of monaco', 'musical films', 'grace kelly', 'film festival .', 'hollywood-actress grace kelly met prince rainier of monaco', 'one time i was going with her to a party given for prince ranier and grace kelly', 'cannes film festival she met prince rainier iii of monaco', 'film actress grace kelly', 'actress grace kelly brought instant fame to monaco when she married prince ranier iii', 'prince ranier iii', 'grace kelly', 'prince rainier iii of monaco', \"monte carlo increased in stature in the 1950 's when grace kelly became princess grace of monaco\", 'monaco', 'monaco', 'her movies are banned in monaco by order of prince ranier', 'baker -lrb', 'kelly purportedly gave prince ranier', 'any new law passed in france is automatically sent to prince ranier', 'kelly became acquainted with prince ranier grimaldi iii of the principality of monaco', 'grace kelly', 'kelly and her family , and after three days , the prince proposed .', '', 'film festival of her adopted home .'] , to catch\n",
            "174 40 ['the kingdom of caring', 'forest of feelings', 'forest of feelings', 'home sweet homeless', 'male one', 'what', 'care-a-lot', 'love-a-lot bear', 'bittorrent downloads - care', 'cloud clipper', 'lrb', 'birthday bear is just the care bear to get the can you name all the carebears', 'that is the name of the raccoon care bear cousin , she has a heart-shaped what', 'true and noble', 'cheer penguin', 'gentle heart lamb', 'fun', 'the pook knows your name', 'this was also the last film', 'home sweet homeless', 'what', '', 'true heart', 'what better way to celebrate it with their very own care bears name poem', '`` cousin call', 'friend bear', \"what if my child 's name is not on the list\", 'toxic muffin and tiny masters of today', 'care bear cousins', 'belly', 'care bear cousins', 'dl , status', 'a name', 'new ebay pulse !', 'heart', 'name', 'care bears themselves , as well as the later additions the care bear cousins', 'care bear plushes', 'care-a-lot by wiping out the care bear cousins', 'care bear cousins the care bear cousins'] , forest of feelings\n",
            "175 40 ['traffic', 'employee records', 'each member of the range', 'what', \"warren calloway 's photo cds\", 'what was the year ?', 'outdated information', 'ns book', 'what alumni from bradshaw are doing now', \"old friends and see who 's searching for you\", 'what are some videos available on indian trains ?', 'the intended article', 'society news', 'floral shops', 'upcoming train shows', 'flowers', 'wikipedia', 'wikipedia', 'annual meeting information on main about us', 'alumni search', 'the morehead city train excursion', \"watson 's marriage\", 'a flower delivery', 'added information and ride registration form', 'the annual meeting in elizabeth city this year .', 'railway lines', 'independent florists , ftd , teleflora and retail stores', 'town of walstonburg information', 'railbus 103', 'nmra mer information link to about us', 'it', 'recycling', 'history 1881-1974', 'information plea', 'find alumni in connect', 'most of these locomotives would be renumbered atsf # 2421-2435', 'these locomotives would be renumbered atsf # 2439-2444', 'fictional family', 'railway guide', 'railway guide'] , railways\n",
            "176 40 ['hush', 'hush', 'highway star', 'mark one', 'neil diamond', 'exposition', 'deep purple est un groupe de rock britannique', '`` april', 'beatles', 'shades of deep purple', 'song', 'flight of the rat', 'smoke on the water', 'rock', 'viquip', 'shades of deep purple', '1968', 'hush', 'rainbow', 'deep purple - shades of deep purple - hush', 'lrb', 'i', '', 'it was their second single release in 1968', 'a shades of deep purple', 'shades of deep purple', \"deep purple , which was his grandmother 's favourite song\", '1968 - 1976 3 .', 'shades', 'the song , see deep purple song', '', '', '', '1968', 'shades of deep purple', '1968', '1968', '1968', '', ''] , hush\n",
            "177 40 ['1889-1930', '40 years', 'more than thirty years', '1901 to 1908', '1996', '323 metres', '27 may 1930 to 1931', 'third', '1913 - 1930', 'seventh', '1930', '1930', '1929', '1930', '1929', '3.2 km', '1929', 'four-day', \"what is the world 's tallest building ?\", 'fifth', 'if completed , it will be the tallest all-residential building in the world', 'it remains the tallest masonry building in the world', 'completion', '1996', 'once', 'all previo', 'it is no longer', 'france', '', '42 , 69 , 72 , 82 , 87', \"world 's tallest\", 'worl', 'how tall', 'by the time it was completed', 'the statue is the tallest atop any building in the world', 'long live', 'world', \"world 's tallest brick building .\", \"world 's tallest brick building .\", \"world 's tallest structure has generally been straightforward , the definition of the world 's tallest building\"] , forty years\n",
            "178 40 ['god have a wife', 'king ahab', 'joseph', 'children of israel', 'elohim did appear to them in spite of their ignorance as he did to israel', 'whom', 'abraham to sacrifice isaac', 'last names', 'god did not write the torah', 'god take them to heaven', 'who', 'forefathers', 'thy father', 'their fathers', 'moses', 'who', 'moses', 'abraham , to isaac , and to jacob', 'moses', 'moses did as the lord had commanded : and they went up into mount hor before all the multitude', 'thy father', 'moses and elijah appear here to talk with jesus', 'el', 'all the congregation', 'moses', 'moses did as the lord had said , and before the eyes of all the people', 'god did not reveal himself to the people', \"some people 's name\", 'moses', 'jesus', 'yitzhak', 'jesus hide the truth from those who heard him', 'so the they', 'heli', 'moses', 'god did not appear from one direction , but from all four simultaneously', 'they did so as moses had commanded', 'hebrews 12:18 -29', 'honestly looks for god will find god ,', 'strawberry hill : endemic birds'] , moses\n",
            "179 40 ['cholesterol', 'colloid nodule', 'what are `` frozen shoulders', 'a solitary toxic nodule', 'what exactly is this ?', 'what effect', 'what do the thyroid antibodies do ?', 'what is the best treatment', 'iodine', 'what is the best way to ensure the thyroid replacement therapy is adequate', 'nodules and goitres', 'what is the usual daily dose of thyroxine', 'what are these goitrogenic agents', 'what does this mean ?', 'what if the thyroid is producing enough t4', 'goiter goitre goiter', 'what if i react to carbimazole and propylthioracil', 'what are the symptoms of thyroid cancer', \"what tsh level indicates in each body that it is n't getting enough thyroid hormone\", 'what are beta-blockers', 'hypothyroidism underactive thyroid', 'thyroid goiter', 'what are the chances that i will relapse ?', 'what are the signs and symptoms to look for after birth', 'hypothyroidism underactive thyroid general what', 'goitre', 'goiter', 'goitre', 'the only abnormality', 'what is iodine', 'palpitations of the heart', 'thyroid cancer', 'hyperthyroidism overactive thyroid general what', 'the thyroid traps most of the iodine in the body', 'goitre', 'a deficiency of iodine leads to goitre swelling of the neck', 'intake of soy', 'the thyroid gland', 'free thyroid disease newsletter', 'it does .'] , goitre\n",
            "180 40 ['lithography', 'lithography', 'lithography', 'lithography lithography', 'wood engraving', 'manual', 'lithography', 'lithography', 'lithography', 'alois senefelder', 'lithography', 'lithography', 'planographic printing', 'lithography', 'lithographic process', 'alois senefelder', 'lithography : the process lithography', 'lithography invented in 1798 by german aloys senefelder , lithography', 'lithography', 'alois senefelder', 'chemical', 'german lithographer', 'stone', 'limestone relief', 'graphic techniques , it was invented in 1798 by aloys senefelder', 'aloys senefelder', 'lithography', 'german lithographer', 'german lithographer', '', '', 'the process was developed by the german inventor aloys senefelder', '', 'aloys senefelder', '', 'senefelder', 'senefelder', 'aloys senefelder', 'aloys senefelder', '` aloys senefelder'] , lithography\n",
            "181 40 ['malibu rum', 'tequila', 'vodka , triple sec', 'rum', 'lemon', 'ardenstone ardenstone', 'mexican sushi', 'mimosa', 'tequila', 'brown cane sugar', 'sugar', 'daiquiri', 'mint leaves', 'what', 'vodka 101 characteristics , profiles and techniques in making vodka', 'strawberry peach', \"rose 's\", 'chambord', 'jell-o-shot', 'vodka diet cranberry', 'diet tonic', 'spirit', 'glam see more', 'gin and roses', 'true mezcal', 'cocktails', 'ardenstone ardenstone', 'rum', 'nephrotoxic acid', 'de rigueur', 'rum , 1 ounce limejuice , and 1/2 teaspoon of sugar syrup', 'raisin', 'beer', 'liqueurs', \"rose 's\", 'spirit', 'once cooked , add limejuice .', 'how to make a daiquiri cocktail', 'the world famous cocktail is very definitely a drink enjoyed by all , without which any visit to singapore', 'recipes'] , rum\n",
            "182 40 ['blind robin', 'mashie niblick', 'niblick', 'mashie iron', 'in the hole', 'mashie', 'gooseneck', 'j jigger', '6/7', 'pitching niblick', 'blade term', 'scratch', 'scratch', 'two iron', 'mashie', 'niblick', 'gigagolf c9 ti', 'scratch', 'mid mashie', '6/7', 'driving iron', 's sandie term', 'blade', '6/7', 'putting', 'featherie', 'blade', '`` approach', 'no. 9', \"what 's it worth\", \"willie fernie 1800 's rut iron\", 'seven', \"member 's bounce any favorable bounce of the golf ball\", 'what the golfer sees at address', 'eight', 'eight or nine iron', \"what 's new\", 'front nine', '64', \"broken niblick golf shop - what 's on sale\"] , niblick\n",
            "183 40 ['jennifer flavin', 'brigitte nielsen', 'rocky balboa', 'marie', 'maivia', 'what ?', 'brigitte nielsen', 'gazzo', 'adrian', \"what 's your name\", \"what 's your name\", \"what 's your name\", 'what bump', 'what', 'what', 'rocky balboa', 'what', \"what 's the time frame\", 'rocky balboa', '', 'rocky balboa jr.', '', \"trivia i 'm stallone\", 'rocky balboa', 'pet names', \"what is rocky 's pro record\", '', '', '', '', '', '', 'rocky balboa', '', 'tommy', '', 'stallone', 'stallone', 'wife', ''] , adrian\n",
            "184 40 ['ready-to-eat', 'parenting', 'diabetes', 'dessert', '3', 'tasty and healthy', 'slow', 'what', 'how do you make a good meal', 'balanced', 'when', 'sit down service , buffet', 'before', 'what should i eat ?', 'delivery', 'creative first', 'fast food', 'easier', 'healthy', 'lose weight', 'date', 'finish the bite', 'what to eat', 'this would be a huge help', '', 'a meal', 'what to eat try `` dinner for two', 'any tips', 'awesome', 'if he doesnt eat his fruits and vegies', 'what they should eat and when', \"when you ca n't have what you want , you want it more .\", 'trans fat', 'bettering your health', 'eat there again', '', '', '', '`` pizza', ''] , dessert\n",
            "185 40 ['ernie benny hill', 'benny hill', 'sonnerie ernie -lrb', 'suonerie ernie -lrb', 'toque ernie -lrb', 'suonerie ernie -lrb', 'suonerie ernie -lrb', 'rrb- devil trig', 'stuck', 'com sonnerie ernie -lrb', 'a horse with no name', 'which of the following words is an anagram of his name ?', 'benny hill', 'lrb', 'musi', 'benny hill', 'benny hill', 'watch', 'lrb', 'suonerie ernie -lrb', 'lrb', 'what was the name of his rival', 'lrb', 'benny hill', 'lrb', 'benny hill', 'two-ton ted', '', 'superb', 'benny hill', 'foal', 'benny hill', '', 'are you looking up names for horses so you can find that perfect name for your new horse', 'the fastest milkman in the west', '', '', '', '', '`` ernie -lrb'] , trigger\n",
            "186 40 ['pearl jewelry', 'earrings', 'mother of pearl', 'jewellery', 'paua shell jewellery', 'california abalone jewelry', 'jewelry', 'jewelry', 'earrings', 'beads jewelry', 'bali', 'necklaces', 'jewellery jumbo shell beads abalone jewelry boxes', 'unique handmade beaded jewelry', 'beaded necklaces', 'necklace or bracelet', 'jewellery', 'silver', 'mother of pearl sheets shell tile', 'coco beads', 'jewellery', 'carvings', 'handcrafted by fashion designers', 'jewellery', 'fashion jewelry', 'crown jewel', 'the grammar of the message', 'jewelry', 'abalone shell jewelry', 'jewelry', 'what', 'the lining of the oyster', 'jewelry', 'what materials', 'unique patterns and colors', '', '', 'cowry shell jewelry cowrie shells bracelets', 'jewelry', ''] , jewellery\n",
            "187 40 ['florida keys', 'florida keys', 'jamaica key lime diet pie - from thin thin - well', 'where is a good/cheap place to stay ?', 'cooking forum', 'elizabeth street', 'wikipedia', 'paradise', 'key west , an overview where is key west ?', 'key west', 'wikipedia', 'where is a good/cheap place to stay ?', 'the keys', 'wikipedia', 'wikipedia', 'key west restaurants', 'key west , an overview * where is key west ?', 'when', '` cheese burger in paradise', 'wikipedia', 'wikipedia', 'rankreason blond giraffe key lime pie factory', 'wikipedia', 'key west', 'wikipedia', 'decorative pie crust edges', \"it does n't give away its secrets\", 'rooms that come with a sunset cruise and champagne', 'traditional meringue', 'florida', 'juice of the key lime', 'all your special occasions or treats or needs', 'diving', 'how to make fool proof key lime pie key lime pie key lime pie is my favorite dessert', '', 'grated rind', 'size', 'recipe_keylimepie.htm - rankreason', 'free instructional video on cooking and making .', ''] , it originated in key west florida\n",
            "188 40 ['republic of namibia', 'namibia', 'benguela', 'namibia', 'western europe', 'namibia', 'apartheid', 'burkina faso burkina faso', 'transkei', 'zimbabwe', 'what', 'great zimbabwe', 'the name was given to them by their rivals , the khoikhoi', 'naukluft', \"south africa 's white minority government\", 'banana ?', 'europe', 'symbaoe', 'what , he asked innocently , might be the difference', 'south africa', 'namibia', '', '', '', 'africa vacation planner overview of what to see and do in africa', 'republic of namibia', '', 'dollar', 'west coast', '', '', 'mail & guardian', '', 'africa', 'south africa visit durban', 'what to do if you are a victim of crime when traveling in africa', 'airlines fly where will help you plan your trip to africa .', '', 'what medications you should bring when you visit africa', ''] , namibia\n",
            "189 40 ['jenny offill', 'amal donkol', 'howard fast', 'jim knipfel', 'mr. burns', 'richard gehr', 'rimpau cornelia german', 'rafaello giovagnoli', '`` massie', 'greg iles', 'kesey', 'who', 'knowles', 'sayles', 'tez says third degree : crazy town bibliophylia', 'arthur koestler', 'frank oliver call', 'abbey', 'trumbo', 'knipfel', 'carr', 'robert kirsch', 'roger ebert', 'hoch', 'his daughter anya and his son jed', 'who', '` tale of twelve cities and other poems', 'who', 'he', 'she', 'she', 'autonomedia', '1994', '', 'a knowing reviewer', '', '', '1973', '', ''] , kirk douglas\n",
            "190 40 [\"what 's your sign iq ?\", 'what should the driver of a vehicle do when approaching a traffic control signal', 'operation lifesaver', \"st. andrew 's cross like crossbuck in white on red\", 'self family friend client other', 'crossbuck fence gate', 'what is the approximate lost wages', 'st andrews cross', 'crossbuck vinyl farm fence crossbuck farm fence decorative', 'railroad crossbuck signs', 'highway/railway crossing', 'crossbuck sign crossbuck signs', 'free encyclopedia', 'crossbuck fence', 'crossbuck classic crossbuck style', 'what is the state of the record', 'what to look for when hiring an attorney', 'signs', 'the flasher circuit to power the crossbuck in the sort car', 'the free encyclopedia', 'classic crossbuck style features a distinctive design for decorative applications', 'cases are decided by judges , not law clerks', 'legend `` railroad crossing', 'double gates for the crossbuck vinyl style', 'railroad crossbuck signs railroad crossbuck signs', 'highway/railway crossing', 'navigation , search', 'the program would become self-explanatory', 'vinyl gates for the crossbuck style of vinyl fence', 'bite shoes - crossbuck os sandals', 'a train', 'passive', 'the crossbuck design', 'crossbuck signs', 'grade crossing', 'a list of various signs and devices', 'this combination of circumstances', 'yes no if deceased , what is the cause of death', 'division newsletter the `` crossbuck', 'an engineer'] , x\n",
            "191 40 ['what size', 'what table tennis room size', 'what is the rule', 'what is the dimensions', 'what time limits', 'there is only one size', 'what do the rules of table tennis say about this ?', '4', 'only one star is allowed in a pool', 'what do the table tennis rules say about the ball hitting the white lines , net or edges of the table', 'only one , two or three caroms , as previously arranged , are allowed to be made in every space', 'it is coloured white or mat orange', 'only one', 'each player or pair', 'it has a diameter of 40mm and is coloured white or orange', 'table tennis balls are no exception', 'in the same order of succession', 'white', 'for maximum attraction to children', 'scoring is much harder with only two balls on the table .', 'the official rules say about the size dimensions of a table tennis table', 'there are no red balls left .', 'if it is pocketed , the player scores one', 'only one shot', 'metal balls', 'australian 38mm table tennis balls', 'tennis', 'a severe limitation', '40mm table tennis balls ?', 'white coloured and celluloid', 'a player can only roquet and take croquet once only from each of the three balls', 'large ball', '40mm', 'also includes 3 table tennis balls .', 'imported tennis balls by the other brands are generally made down to a price', 'includes two baseball , two soccer and two basketball looking balls', 'two colours , coloured seams , personalising them for individuals and companies', 'outdoor table tennis table', '', 'the revolution table tennis table was specifically developed with professional competitions'] , white and yellow\n",
            "192 40 ['douglas si', 'young adam', \"michael o'conner\", 'ralph fiennes', 'being julia', 'erin brockovich', 'audrey hepburn', 'dick tracy', 'looking for richard', 'titanic', 'naveen andrews', '', '', '', '', '', '', '', '', '', '', 'razzie award worst actor', '', '', '', '', '', '', '', '', '', 'rrb- as himself', '', 'nomin', 'chlotrudis award best supporting actress', '', '', '', '', 'ocic award for : the winter guest'] , ruby wax\n",
            "193 40 ['speranza', '` speranza', 'jane speranza', 'poet', 'the general', 'poet and journalist', 'the milesian chief 1812 women', 'journalist , politician', 'lady grace mystery', 'lady wilde', \"richard strauss ' operetta\", 'blackmailing divorc driven to self-sacrifice by maternal love', 'how did that come about ?', 'how do you do , lord d', 'how much land involved ?', 'writer', 'just as oscar wilde was to england', 'jump to : navigation , search lady jane wilde me', 'lady windermere syndrome jump to : navigation', 'older lady fucking sir john goldencalf', 'poet jane francesca agnes elgee in 1851 , also known as speranza', 'lady lancing', 'sir william wilde and jane francesca elgee', 'lady jane wilde', 'lady jane wilde', 'jane wilde - wikipedia , the free encyclopedia jane wilde from wikipedia', 'how does it feel to die', \"lady wintermere 's fan1892\", \"lady windermere 's fan 1892\", 'lady windermere syndrome', 'jane wilde - wikipedia , the free encyclopedia jane wilde from wikipedia', 'irish confederation an apology for the british government in ireland', 'jane francesca elgee wilde was a prominent poet', 'speranza', \"lady windermere 's fan\", 'doug', 'how much damage was caused ?', 'patience', '', 'approximate better with the probable date of composition than dates of publication'] , as lady wilde ocars mother\n",
            "194 40 ['granula', 'caramel cereal coffee', 'granose f', 'cereal bowl', 'early health spa', 'breakfast cereal', 'grain-based meat substitutes', 'wheat', 'flaked cereal', 'cold breakfast', 'precooked cereal', 'granose granola and toasted flakes', 'plates', 'cereal', 'wheat , oat , and cornmeal', 'ready-to-eat', \"` world 's longest breakfast table\", '& .', 'ready-to-eat breakfast cereals were invented because of religious beliefs', 'early health spa nutrition and well-being a to z : : ar-bu', 'phototherapy', '` battle creek sanitarium', 'pork chops', 'sanitarium', 'graham crackers', 'adventist battle creek sanitarium', '', 'battle creek sanitarium', 'food preparation', 'battle creek sanitarium', 'kellogg', 'western health reform institute', 'battle creek sanitarium', '1876 superintendent of the sanitarium at battle creek , michigan', 'charles william post , a patient at the battle creek sanitarium', 'the battle creek sanitarium', 'battle creek', 'food products to help patients stay well', 'charles william post', 'battle creek'] , cornflakes\n",
            "195 40 ['arthur mitchell and karel shook', 'arthur mitchell and karel shook', 'marty clear', 'chuck davis', 'karel shook', 'catherine b. reynolds foundation', 'arthur mitchell', 'murray', 'chuck davis', 'mitchell', 'arthur mitchell', 'arthur mitchell', 'arthur mitchell', 'mitchell', 'miss cay', 'dth', 'dth', 'university of florida school of theatre and dance skip to content who we are', 'airedale symphony orchestra', 'toronto chinese dance company', 'ballet , national song and dance , and orchestral music , with a strong cast of 400', '', 'usf college of visual and performing arts', 'dialogues in 2006', 'dth', 'dance in america', 'technical theatre personnel', 'students', 'dance theatre of harlem', 'alumni news', '', 'in performance at the white house', '', 'the dance theatre of harlem', 'dance theatre of harlem', 'the dance theatre of harlem school', 'the dance theatre of harlem now has a program in washington , d.c. for dancers to audition', 'the dance theatre of harlem school', 'dance theatre of harlem school', 'dance theatre of harlem'] , arthur mitchell\n",
            "196 40 ['chamonix , france', 'lillehammer games', 'outside usa or europe', 'chamonix', 'chamonix', 'north america or europe', 'lillehammer games', 'the french town of chamonix', 'north america or europe', 'chamonix', 'chamonix , france', 'sapporo , japan , the first time the winter games were held outside of europe or the united states', 'chamonix , france', 'chamonix , paris', 'international winter sports week', 'chamonix , france', 'where', 'chamonix , france', 'north america or europe', 'charmonix , france', 'north america or europe', '1928', 'the 1928', '1928', 'the opening ceremonies for the olympics were the last ones to be held outdoors', 'france', 'the games were held independently for the first time .', 'they were actually part of the 1924 summer olympics .', 'the v olympic winter games were held in st. ..', 'they were also the first games where the winter paralympics and the winter olympics were held at the same site', 'amsterdam , netherlands', 'these were the first games to feature an olympic village', 'stade olympique de chamonix in chamonix , france', 'ioc session', 'this day in history 1924', '1924 summer olympics .', 'near a mountain range', '1924 winter olympics were held in this stadium', 'the 1924', '1924'] , charmonix france\n",
            "197 40 ['pryor mountain wild horse range', 'rocky mountain trench', 'pyrenees mountain range', 'selkirk mountains', 'dogtooth range', 'pyrenees', 'mountain home range', 'pryor mountain wild horse range', 'pyrenees mountain range', 'colorado front range', 'high rock range', 'kicking horse mountain resort', 'kicking horse mountain resort', 'mountain resort', 'kicking horse mountain resort', 'kicking horse mountain resort', 'kicking horse mountain resort', 'bonaigua pass', 'mountain resort', 'kicking horse mountain resort', 'pryor mountain wild horse range', 'kicking horse mountain resort', \"roger 's pass\", 'mountain resort', 'the slackcountry', 'east of golden', 'the kicking horse pass', 'mountain resort', 'hart ranges', 'the kicking horse pass', 'what are the best characteristics', 'continental divide', 'mountain resort', 'kicking horse', 'what types', 'kicking horse mountain resort', 'kicking horse pass', '1,627 metres', 'feeding and watering your horse horse information', ''] , rockies\n",
            "198 40 ['hires', 'john s. pemberton', 'vernors', 'native americans', 'charles elmer hires', 'they', 'birch beer', 'dr. bo', 'mug', 'american', 'dr pepper snapple group', \"barq 's\", 'mug root beer', 'charles hires', 'ouzo 12', \"barq 's\", 'un', 'float', '', '', 'american', 'what is root beer `', 'american bottlers of carbonated beverages', 'american', '` small beers', '', '', '', '', 'soft drinks recipes for homemade root beer and ginger beer', 'alcoholic', '', 'the history of beer', '', 'the two versions of root beer', '', 'turbid', '', 'alcoholic', \"america 's best-loved soft drink\"] , hires\n",
            "199 40 ['barbra streisand', 'barbara streisand', 'barbra streisand', 'barbra streisand', 'barbra streisand', 'barbra streisand', 'barbra streisand', 'barbra streisand', 'barbara streisand', 'barbra streisand', 'barbara streisand', 'barbra streisand', 'barbra streisand', 'streisand', 'barry', 'barbra streisand', 'barbra streisand', 'barbra streisand', 'nina950803', 'barbra streisand', 'celine dion and josh groban', 'barbra streisand', 'streisand', 'barbra streisand', 'barbra streisand', 'barbra streisand', \"streisand 's the essential barbra streisand\", 'my love ultimate essential collection', '', 'tell him superb !', 'lrb', '', '', '', '', 'academy awards', '', 'tradu o', 'celine dion', ''] , barbara streisand\n",
            "Time for whole code to run:  3545.397191762924\n"
          ],
          "name": "stdout"
        }
      ]
    },
    {
      "cell_type": "code",
      "metadata": {
        "id": "C2SLERrQnanI",
        "colab_type": "code",
        "outputId": "a247f76e-d5cc-4388-ca6f-d49b70556a8f",
        "colab": {
          "base_uri": "https://localhost:8080/",
          "height": 544
        }
      },
      "source": [
        "df_pred.head()"
      ],
      "execution_count": 50,
      "outputs": [
        {
          "output_type": "execute_result",
          "data": {
            "text/html": [
              "<div>\n",
              "<style scoped>\n",
              "    .dataframe tbody tr th:only-of-type {\n",
              "        vertical-align: middle;\n",
              "    }\n",
              "\n",
              "    .dataframe tbody tr th {\n",
              "        vertical-align: top;\n",
              "    }\n",
              "\n",
              "    .dataframe thead th {\n",
              "        text-align: right;\n",
              "    }\n",
              "</style>\n",
              "<table border=\"1\" class=\"dataframe\">\n",
              "  <thead>\n",
              "    <tr style=\"text-align: right;\">\n",
              "      <th></th>\n",
              "      <th>pred_ans_0</th>\n",
              "      <th>pred_ans_1</th>\n",
              "      <th>pred_ans_2</th>\n",
              "      <th>pred_ans_3</th>\n",
              "      <th>pred_ans_4</th>\n",
              "      <th>pred_ans_5</th>\n",
              "      <th>pred_ans_6</th>\n",
              "      <th>pred_ans_7</th>\n",
              "      <th>pred_ans_8</th>\n",
              "      <th>pred_ans_9</th>\n",
              "      <th>pred_ans_10</th>\n",
              "      <th>pred_ans_11</th>\n",
              "      <th>pred_ans_12</th>\n",
              "      <th>pred_ans_13</th>\n",
              "      <th>pred_ans_14</th>\n",
              "      <th>pred_ans_15</th>\n",
              "      <th>pred_ans_16</th>\n",
              "      <th>pred_ans_17</th>\n",
              "      <th>pred_ans_18</th>\n",
              "      <th>pred_ans_19</th>\n",
              "      <th>pred_ans_20</th>\n",
              "      <th>pred_ans_21</th>\n",
              "      <th>pred_ans_22</th>\n",
              "      <th>pred_ans_23</th>\n",
              "      <th>pred_ans_24</th>\n",
              "      <th>pred_ans_25</th>\n",
              "      <th>pred_ans_26</th>\n",
              "      <th>pred_ans_27</th>\n",
              "      <th>pred_ans_28</th>\n",
              "      <th>pred_ans_29</th>\n",
              "      <th>pred_ans_30</th>\n",
              "      <th>pred_ans_31</th>\n",
              "      <th>pred_ans_32</th>\n",
              "      <th>pred_ans_33</th>\n",
              "      <th>pred_ans_34</th>\n",
              "      <th>pred_ans_35</th>\n",
              "      <th>pred_ans_36</th>\n",
              "      <th>pred_ans_37</th>\n",
              "      <th>pred_ans_38</th>\n",
              "      <th>pred_ans_39</th>\n",
              "    </tr>\n",
              "  </thead>\n",
              "  <tbody>\n",
              "    <tr>\n",
              "      <th>0</th>\n",
              "      <td>queen</td>\n",
              "      <td>the queen the queen</td>\n",
              "      <td>queen</td>\n",
              "      <td>queen</td>\n",
              "      <td>the queen</td>\n",
              "      <td>rook 's movement queen</td>\n",
              "      <td>the queen</td>\n",
              "      <td>the queen</td>\n",
              "      <td>the queen</td>\n",
              "      <td>queen</td>\n",
              "      <td>the king</td>\n",
              "      <td>queen</td>\n",
              "      <td>the king</td>\n",
              "      <td>the queen</td>\n",
              "      <td>the king</td>\n",
              "      <td>the queen</td>\n",
              "      <td>rook</td>\n",
              "      <td>the king</td>\n",
              "      <td>the queen</td>\n",
              "      <td>the queen</td>\n",
              "      <td>the queen</td>\n",
              "      <td>queen</td>\n",
              "      <td>the pawn</td>\n",
              "      <td>queen 's movement king</td>\n",
              "      <td>kings</td>\n",
              "      <td>queen</td>\n",
              "      <td>the king</td>\n",
              "      <td>queen</td>\n",
              "      <td>the queen</td>\n",
              "      <td>queen</td>\n",
              "      <td>the queen</td>\n",
              "      <td>chess</td>\n",
              "      <td>they</td>\n",
              "      <td>it , too , is considered a minor piece</td>\n",
              "      <td>it is not considered a sound move</td>\n",
              "      <td>she</td>\n",
              "      <td>they are the least powerful piece</td>\n",
              "      <td>it 's the most important piece</td>\n",
              "      <td>what might otherwise be considered a more powe...</td>\n",
              "      <td>it is the most powerful piece</td>\n",
              "    </tr>\n",
              "    <tr>\n",
              "      <th>1</th>\n",
              "      <td>what to do in portland if/when it rains</td>\n",
              "      <td>10:40</td>\n",
              "      <td>overnight</td>\n",
              "      <td>1pm</td>\n",
              "      <td>real speed date</td>\n",
              "      <td>10:00 a.m</td>\n",
              "      <td>4 www</td>\n",
              "      <td>07:12 pm</td>\n",
              "      <td>today</td>\n",
              "      <td>4</td>\n",
              "      <td>what to do with 5yo &amp; 2yo</td>\n",
              "      <td>4</td>\n",
              "      <td>4:43 pm</td>\n",
              "      <td>seattle freeze</td>\n",
              "      <td>6:00 pm pst saturday : 9:00 am - 3:00 pm</td>\n",
              "      <td>cost</td>\n",
              "      <td>washington</td>\n",
              "      <td>4</td>\n",
              "      <td>lrb</td>\n",
              "      <td>oregon</td>\n",
              "      <td>harney</td>\n",
              "      <td>4</td>\n",
              "      <td>20</td>\n",
              "      <td>portland oregon its not ok</td>\n",
              "      <td>portland vs. boulder vs. seattle its a battle</td>\n",
              "      <td>any native new yorkers</td>\n",
              "      <td>or</td>\n",
              "      <td></td>\n",
              "      <td>canteen</td>\n",
              "      <td></td>\n",
              "      <td>home our practice</td>\n",
              "      <td>portland</td>\n",
              "      <td>disc jockey service</td>\n",
              "      <td>portland</td>\n",
              "      <td>vend northwest</td>\n",
              "      <td></td>\n",
              "      <td>vancouver , b.c.</td>\n",
              "      <td></td>\n",
              "      <td></td>\n",
              "      <td>home our practice</td>\n",
              "    </tr>\n",
              "    <tr>\n",
              "      <th>2</th>\n",
              "      <td>john bailey</td>\n",
              "      <td>george roy hill</td>\n",
              "      <td>robert redford</td>\n",
              "      <td>robert redford</td>\n",
              "      <td>robert redford</td>\n",
              "      <td>robert redford</td>\n",
              "      <td>robert redford</td>\n",
              "      <td>redford</td>\n",
              "      <td>donald sutherland</td>\n",
              "      <td>redford</td>\n",
              "      <td>robert redford</td>\n",
              "      <td>robert redford</td>\n",
              "      <td>redford</td>\n",
              "      <td>robert redford</td>\n",
              "      <td>donald sutherland</td>\n",
              "      <td>jarrett</td>\n",
              "      <td>colin jacobson</td>\n",
              "      <td>guest</td>\n",
              "      <td>judith guest</td>\n",
              "      <td>guest</td>\n",
              "      <td></td>\n",
              "      <td></td>\n",
              "      <td>direc</td>\n",
              "      <td>the deer hunter</td>\n",
              "      <td></td>\n",
              "      <td></td>\n",
              "      <td></td>\n",
              "      <td>that was ordinary people !</td>\n",
              "      <td></td>\n",
              "      <td></td>\n",
              "      <td>it lost the best picture academy award to ordi...</td>\n",
              "      <td>ordinary people -lrb</td>\n",
              "      <td></td>\n",
              "      <td></td>\n",
              "      <td></td>\n",
              "      <td></td>\n",
              "      <td>ordinary people</td>\n",
              "      <td>an extraordinary motion picture</td>\n",
              "      <td>`` ordinary people</td>\n",
              "      <td>ordinary people</td>\n",
              "    </tr>\n",
              "    <tr>\n",
              "      <th>3</th>\n",
              "      <td>hobgoblins 2</td>\n",
              "      <td>lsb- it -rsb</td>\n",
              "      <td>spares</td>\n",
              "      <td>wikipedia</td>\n",
              "      <td>the 25 worst sequels</td>\n",
              "      <td>wikipedia</td>\n",
              "      <td>wikipedia</td>\n",
              "      <td>wikipedia</td>\n",
              "      <td>wikipedia</td>\n",
              "      <td>wikipedia</td>\n",
              "      <td>wikipedia</td>\n",
              "      <td>wikipedia</td>\n",
              "      <td>wikipedia</td>\n",
              "      <td>wikipedia</td>\n",
              "      <td>wikipedia</td>\n",
              "      <td>it was rated by entertainment weekly as one of...</td>\n",
              "      <td>george clooney</td>\n",
              "      <td>lsb- 2 -rsb</td>\n",
              "      <td>lsb- 14 -rsb</td>\n",
              "      <td>lsb- 66 -rsb</td>\n",
              "      <td>the film was criticized amongst fans and consi...</td>\n",
              "      <td>the film</td>\n",
              "      <td>the 50 worst movies ever made</td>\n",
              "      <td>the 50 worst movies ever made</td>\n",
              "      <td>the film</td>\n",
              "      <td>the film</td>\n",
              "      <td>lsb- 18 -rsb</td>\n",
              "      <td>superhero film</td>\n",
              "      <td>movie</td>\n",
              "      <td>the 50 worst movies ever made</td>\n",
              "      <td>huyck and katz</td>\n",
              "      <td>the 50 worst movies ever made</td>\n",
              "      <td>this version is generally considered a major i...</td>\n",
              "      <td>superhero film</td>\n",
              "      <td>superhero film</td>\n",
              "      <td>superhero film</td>\n",
              "      <td>it</td>\n",
              "      <td>superhero film</td>\n",
              "      <td>superhero film</td>\n",
              "      <td>it is often considered one of the worst movies</td>\n",
              "    </tr>\n",
              "    <tr>\n",
              "      <th>4</th>\n",
              "      <td>parrot</td>\n",
              "      <td>lories</td>\n",
              "      <td>neotropical parrots</td>\n",
              "      <td>parrots</td>\n",
              "      <td>parrots</td>\n",
              "      <td>new world parrots</td>\n",
              "      <td>birds of the parrot fami</td>\n",
              "      <td>it is the largest living species of bird</td>\n",
              "      <td>birds of the parrot family</td>\n",
              "      <td>parrot type</td>\n",
              "      <td>bird</td>\n",
              "      <td>parrot family</td>\n",
              "      <td>mini macaws</td>\n",
              "      <td>the greenwing</td>\n",
              "      <td>parrots in the world</td>\n",
              "      <td>hyacinth macaw</td>\n",
              "      <td>harlequin macaw - one of the more colorful of ...</td>\n",
              "      <td>the larger macaws are definitely for the most ...</td>\n",
              "      <td>birds</td>\n",
              "      <td>those on st. lucia and st. vincent</td>\n",
              "      <td>the most familiar and `` classic</td>\n",
              "      <td>military</td>\n",
              "      <td>scarlets</td>\n",
              "      <td>shamrock macaws are a very colorful hybrid macaw</td>\n",
              "      <td>scarlet macaws are said to be found in nicaragua</td>\n",
              "      <td>these are the most commonly available</td>\n",
              "      <td>tanagers</td>\n",
              "      <td>the yellow collar is the second largest of the...</td>\n",
              "      <td>most macaws love to splash around in a lukewar...</td>\n",
              "      <td>this makes them one of the largest macaws .</td>\n",
              "      <td>shamrock macaw - shamrock macaws are a very co...</td>\n",
              "      <td>red</td>\n",
              "      <td>colorful plumages</td>\n",
              "      <td>one of the most recognizable bird groups in th...</td>\n",
              "      <td>all</td>\n",
              "      <td>this genus contains 11 of the 17 species</td>\n",
              "      <td>these macaws are a bit more colorful than most...</td>\n",
              "      <td>macaws</td>\n",
              "      <td>macaws are known for their often colorful plumage</td>\n",
              "      <td>clay lick</td>\n",
              "    </tr>\n",
              "  </tbody>\n",
              "</table>\n",
              "</div>"
            ],
            "text/plain": [
              "                                pred_ans_0  ...                                     pred_ans_39\n",
              "0                                    queen  ...                   it is the most powerful piece\n",
              "1  what to do in portland if/when it rains  ...                               home our practice\n",
              "2                              john bailey  ...                                 ordinary people\n",
              "3                             hobgoblins 2  ...  it is often considered one of the worst movies\n",
              "4                                   parrot  ...                                       clay lick\n",
              "\n",
              "[5 rows x 40 columns]"
            ]
          },
          "metadata": {
            "tags": []
          },
          "execution_count": 50
        }
      ]
    },
    {
      "cell_type": "code",
      "metadata": {
        "id": "jD9uJfr4ngDF",
        "colab_type": "code",
        "outputId": "d33a890e-a2bc-4841-cd66-d560a5aa25c3",
        "colab": {
          "base_uri": "https://localhost:8080/",
          "height": 200
        }
      },
      "source": [
        "df_metrics.head()"
      ],
      "execution_count": 51,
      "outputs": [
        {
          "output_type": "execute_result",
          "data": {
            "text/html": [
              "<div>\n",
              "<style scoped>\n",
              "    .dataframe tbody tr th:only-of-type {\n",
              "        vertical-align: middle;\n",
              "    }\n",
              "\n",
              "    .dataframe tbody tr th {\n",
              "        vertical-align: top;\n",
              "    }\n",
              "\n",
              "    .dataframe thead th {\n",
              "        text-align: right;\n",
              "    }\n",
              "</style>\n",
              "<table border=\"1\" class=\"dataframe\">\n",
              "  <thead>\n",
              "    <tr style=\"text-align: right;\">\n",
              "      <th></th>\n",
              "      <th>actual_ans</th>\n",
              "      <th>actual_ques</th>\n",
              "      <th>EM</th>\n",
              "      <th>precision</th>\n",
              "      <th>recall</th>\n",
              "      <th>f1</th>\n",
              "    </tr>\n",
              "  </thead>\n",
              "  <tbody>\n",
              "    <tr>\n",
              "      <th>0</th>\n",
              "      <td>queen</td>\n",
              "      <td>which is considered most powerful piece on che...</td>\n",
              "      <td>1.0</td>\n",
              "      <td>1.000</td>\n",
              "      <td>1.00</td>\n",
              "      <td>1.000000</td>\n",
              "    </tr>\n",
              "    <tr>\n",
              "      <th>1</th>\n",
              "      <td>4</td>\n",
              "      <td>if its 400 pm in seattle washington what time ...</td>\n",
              "      <td>1.0</td>\n",
              "      <td>1.000</td>\n",
              "      <td>1.00</td>\n",
              "      <td>1.000000</td>\n",
              "    </tr>\n",
              "    <tr>\n",
              "      <th>2</th>\n",
              "      <td>robert redford</td>\n",
              "      <td>who directed film ordinary people</td>\n",
              "      <td>1.0</td>\n",
              "      <td>1.000</td>\n",
              "      <td>1.00</td>\n",
              "      <td>1.000000</td>\n",
              "    </tr>\n",
              "    <tr>\n",
              "      <th>3</th>\n",
              "      <td>attack of killer tomatoes</td>\n",
              "      <td>what film is generally considered worst film e...</td>\n",
              "      <td>0.0</td>\n",
              "      <td>0.125</td>\n",
              "      <td>0.25</td>\n",
              "      <td>0.166667</td>\n",
              "    </tr>\n",
              "    <tr>\n",
              "      <th>4</th>\n",
              "      <td>parrot family</td>\n",
              "      <td>macaws are largest and most colorful species of</td>\n",
              "      <td>1.0</td>\n",
              "      <td>1.000</td>\n",
              "      <td>1.00</td>\n",
              "      <td>1.000000</td>\n",
              "    </tr>\n",
              "  </tbody>\n",
              "</table>\n",
              "</div>"
            ],
            "text/plain": [
              "                  actual_ans  ...        f1\n",
              "0                      queen  ...  1.000000\n",
              "1                          4  ...  1.000000\n",
              "2             robert redford  ...  1.000000\n",
              "3  attack of killer tomatoes  ...  0.166667\n",
              "4              parrot family  ...  1.000000\n",
              "\n",
              "[5 rows x 6 columns]"
            ]
          },
          "metadata": {
            "tags": []
          },
          "execution_count": 51
        }
      ]
    },
    {
      "cell_type": "code",
      "metadata": {
        "id": "TeJqSbjFnlr2",
        "colab_type": "code",
        "outputId": "22a61f6e-9904-4947-d662-fa0e2ca71046",
        "colab": {
          "base_uri": "https://localhost:8080/",
          "height": 88
        }
      },
      "source": [
        "df_metrics['f1'].mean(), df_metrics['EM'].mean(), df_metrics['precision'].mean() , df_metrics['recall'].mean() "
      ],
      "execution_count": 52,
      "outputs": [
        {
          "output_type": "execute_result",
          "data": {
            "text/plain": [
              "(0.7527812221279563,\n",
              " 0.6231155778894473,\n",
              " 0.7835523772709703,\n",
              " 0.7770519262981574)"
            ]
          },
          "metadata": {
            "tags": []
          },
          "execution_count": 52
        }
      ]
    },
    {
      "cell_type": "code",
      "metadata": {
        "id": "m_rpMvMYBtLN",
        "colab_type": "code",
        "outputId": "6fdc6b1b-e72f-498f-837e-e608d9ac8ece",
        "colab": {
          "base_uri": "https://localhost:8080/",
          "height": 230
        }
      },
      "source": [
        "df_merge = pd.concat([df_pred, df_metrics], axis=1)\n",
        "df_merge['dataset'] = \"quasar_t_short_test\"\n",
        "df_merge.columns"
      ],
      "execution_count": 53,
      "outputs": [
        {
          "output_type": "execute_result",
          "data": {
            "text/plain": [
              "Index(['pred_ans_0', 'pred_ans_1', 'pred_ans_2', 'pred_ans_3', 'pred_ans_4',\n",
              "       'pred_ans_5', 'pred_ans_6', 'pred_ans_7', 'pred_ans_8', 'pred_ans_9',\n",
              "       'pred_ans_10', 'pred_ans_11', 'pred_ans_12', 'pred_ans_13',\n",
              "       'pred_ans_14', 'pred_ans_15', 'pred_ans_16', 'pred_ans_17',\n",
              "       'pred_ans_18', 'pred_ans_19', 'pred_ans_20', 'pred_ans_21',\n",
              "       'pred_ans_22', 'pred_ans_23', 'pred_ans_24', 'pred_ans_25',\n",
              "       'pred_ans_26', 'pred_ans_27', 'pred_ans_28', 'pred_ans_29',\n",
              "       'pred_ans_30', 'pred_ans_31', 'pred_ans_32', 'pred_ans_33',\n",
              "       'pred_ans_34', 'pred_ans_35', 'pred_ans_36', 'pred_ans_37',\n",
              "       'pred_ans_38', 'pred_ans_39', 'actual_ans', 'actual_ques', 'EM',\n",
              "       'precision', 'recall', 'f1', 'dataset'],\n",
              "      dtype='object')"
            ]
          },
          "metadata": {
            "tags": []
          },
          "execution_count": 53
        }
      ]
    },
    {
      "cell_type": "code",
      "metadata": {
        "id": "-BwVjLnbBxa5",
        "colab_type": "code",
        "colab": {}
      },
      "source": [
        "writePath = qasar_t_dir + \"questions/short_metric_test.csv\"\n",
        "df_merge.to_csv(writePath)"
      ],
      "execution_count": 0,
      "outputs": []
    },
    {
      "cell_type": "code",
      "metadata": {
        "id": "8HTHWYPje0rR",
        "colab_type": "code",
        "colab": {}
      },
      "source": [
        "\"\"\"\n",
        "writePath = qasar_t_dir + \"questions/long_metric_dev.txt\"\n",
        "with open(writePath, 'a') as f:\n",
        "    f.write(df_metrics.to_string(header = False, index = False))\n",
        "f.close()\n",
        "\"\"\""
      ],
      "execution_count": 0,
      "outputs": []
    },
    {
      "cell_type": "code",
      "metadata": {
        "id": "E0rtJKyynsoU",
        "colab_type": "code",
        "colab": {}
      },
      "source": [
        ""
      ],
      "execution_count": 0,
      "outputs": []
    }
  ]
}