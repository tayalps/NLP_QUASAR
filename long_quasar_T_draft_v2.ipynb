{
  "nbformat": 4,
  "nbformat_minor": 0,
  "metadata": {
    "colab": {
      "name": "short_quasar_T_draft_v2.ipynb",
      "provenance": [],
      "collapsed_sections": [],
      "machine_shape": "hm"
    },
    "kernelspec": {
      "name": "python3",
      "display_name": "Python 3"
    },
    "accelerator": "TPU"
  },
  "cells": [
    {
      "cell_type": "code",
      "metadata": {
        "id": "Ro1grVL9J_b5",
        "colab_type": "code",
        "outputId": "9180a682-6c19-49dc-fc14-f245ac8fa734",
        "colab": {
          "base_uri": "https://localhost:8080/",
          "height": 35
        }
      },
      "source": [
        "from google.colab import drive\n",
        "drive.mount('/content/drive')"
      ],
      "execution_count": 1,
      "outputs": [
        {
          "output_type": "stream",
          "text": [
            "Drive already mounted at /content/drive; to attempt to forcibly remount, call drive.mount(\"/content/drive\", force_remount=True).\n"
          ],
          "name": "stdout"
        }
      ]
    },
    {
      "cell_type": "code",
      "metadata": {
        "id": "3MZvBkB3JkLG",
        "colab_type": "code",
        "colab": {}
      },
      "source": [
        "import pandas as pd\n",
        "import numpy as np\n",
        "import re\n",
        "import string\n",
        "from collections import Counter\n",
        "from typing import List\n",
        "import multiprocessing as mp\n",
        "from functools import partial\n",
        "import matplotlib.pyplot as plt\n",
        "%matplotlib inline"
      ],
      "execution_count": 0,
      "outputs": []
    },
    {
      "cell_type": "code",
      "metadata": {
        "id": "XOxa_pQ7diQR",
        "colab_type": "code",
        "colab": {}
      },
      "source": [
        "import ast\n",
        "def read_data_literals(ipath):\n",
        "  outlist = []\n",
        "  file = open(ipath, \"r\")\n",
        "  for line in file:\n",
        "    dictionary = ast.literal_eval(line)\n",
        "    outlist.append(dictionary)\n",
        "  file.close()\n",
        "  return outlist\n",
        "\n",
        "def read_data(ipath):\n",
        "  outlist = []\n",
        "  file = open(ipath, \"r\")\n",
        "  for line in file:\n",
        "    outlist.append(line.replace(\"\\n\", \"\"))\n",
        "  file.close()\n",
        "  return outlist"
      ],
      "execution_count": 0,
      "outputs": []
    },
    {
      "cell_type": "code",
      "metadata": {
        "id": "WZ4_zVW_KP69",
        "colab_type": "code",
        "colab": {}
      },
      "source": [
        "qasar_t_dir = \"/content/drive/My Drive/quasar/quasar-t/\""
      ],
      "execution_count": 0,
      "outputs": []
    },
    {
      "cell_type": "code",
      "metadata": {
        "colab_type": "code",
        "id": "VPNKfyi29dEQ",
        "colab": {}
      },
      "source": [
        "#read the questions ans datasets\n",
        "trainQ = read_data_literals(qasar_t_dir+ \"questions/train_questions.json\")\n",
        "testQ = read_data_literals(qasar_t_dir+ \"questions/test_questions.json\")\n",
        "devQ = read_data_literals(qasar_t_dir+ \"questions/dev_questions.json\")"
      ],
      "execution_count": 0,
      "outputs": []
    },
    {
      "cell_type": "code",
      "metadata": {
        "id": "PI90D2ZV0fq3",
        "colab_type": "code",
        "outputId": "081b4462-287f-4cf8-ff08-31abcefffc4b",
        "colab": {
          "base_uri": "https://localhost:8080/",
          "height": 35
        }
      },
      "source": [
        "np.shape(trainQ), np.shape(testQ), np.shape(devQ)"
      ],
      "execution_count": 6,
      "outputs": [
        {
          "output_type": "execute_result",
          "data": {
            "text/plain": [
              "((37012,), (3000,), (3000,))"
            ]
          },
          "metadata": {
            "tags": []
          },
          "execution_count": 6
        }
      ]
    },
    {
      "cell_type": "code",
      "metadata": {
        "id": "BgFDX4C-917C",
        "colab_type": "code",
        "colab": {}
      },
      "source": [
        "#read the context related dataset\n",
        "trainSC = read_data_literals(qasar_t_dir+ \"contexts/long/train_contexts.json\")\n",
        "testSC = read_data_literals(qasar_t_dir+ \"contexts/long/test_contexts.json\")\n",
        "devSC = read_data_literals(qasar_t_dir+ \"contexts/long/dev_contexts.json\")"
      ],
      "execution_count": 0,
      "outputs": []
    },
    {
      "cell_type": "code",
      "metadata": {
        "id": "yxXI97Op99N-",
        "colab_type": "code",
        "outputId": "5b36c9b5-bc2f-4b38-e62b-7c5a5167bf12",
        "colab": {
          "base_uri": "https://localhost:8080/",
          "height": 35
        }
      },
      "source": [
        "np.shape(trainSC), np.shape(testSC), np.shape(devSC)"
      ],
      "execution_count": 56,
      "outputs": [
        {
          "output_type": "execute_result",
          "data": {
            "text/plain": [
              "((37012,), (3000,), (3000,))"
            ]
          },
          "metadata": {
            "tags": []
          },
          "execution_count": 56
        }
      ]
    },
    {
      "cell_type": "code",
      "metadata": {
        "id": "15ps1HokcBHc",
        "colab_type": "code",
        "outputId": "0d389cc3-9427-49c2-832c-61b0c129c857",
        "colab": {
          "base_uri": "https://localhost:8080/",
          "height": 159
        }
      },
      "source": [
        "testQ[0:2] "
      ],
      "execution_count": 9,
      "outputs": [
        {
          "output_type": "execute_result",
          "data": {
            "text/plain": [
              "[{'answer': 'queen',\n",
              "  'question': 'Which is considered the most powerful piece on the chess board',\n",
              "  'tags': ['1tok', 'yes-answer-long', 'yes-answer-short'],\n",
              "  'uid': 's3q17641'},\n",
              " {'answer': '4',\n",
              "  'question': 'If its 4:00 pm in Seattle Washington , what time is it in Portland Oregon',\n",
              "  'tags': ['1tok', 'yes-answer-long', 'yes-answer-short'],\n",
              "  'uid': 's3q1671'}]"
            ]
          },
          "metadata": {
            "tags": []
          },
          "execution_count": 9
        }
      ]
    },
    {
      "cell_type": "code",
      "metadata": {
        "id": "O5Wnmo4M3qOj",
        "colab_type": "code",
        "outputId": "d39ac7b3-b77a-4caa-81e8-6a2632fea384",
        "colab": {
          "base_uri": "https://localhost:8080/",
          "height": 159
        }
      },
      "source": [
        "devQ[0:2] "
      ],
      "execution_count": 10,
      "outputs": [
        {
          "output_type": "execute_result",
          "data": {
            "text/plain": [
              "[{'answer': 'tetanus',\n",
              "  'question': 'Lockjaw is another name for which disease',\n",
              "  'tags': ['1tok', 'yes-answer-long', 'yes-answer-short'],\n",
              "  'uid': 's3q1674'},\n",
              " {'answer': 'leek',\n",
              "  'question': 'Which vegetable is a Welsh emblem ?',\n",
              "  'tags': ['1tok'],\n",
              "  'uid': 's3q18157'}]"
            ]
          },
          "metadata": {
            "tags": []
          },
          "execution_count": 10
        }
      ]
    },
    {
      "cell_type": "code",
      "metadata": {
        "id": "FOfJUjhi_n9U",
        "colab_type": "code",
        "colab": {}
      },
      "source": [
        "#lets find all questions with uid s3q1671 <-- just to understand the data better\n",
        "uidlist_train = []\n",
        "uidlist_test = []\n",
        "uidlist_dev = []\n",
        "for idx, Qdict in enumerate(trainQ):\n",
        "  uidlist_train.append(Qdict['uid'])\n",
        "for idx, Qdict in enumerate(testQ):\n",
        "  uidlist_test.append(Qdict['uid'])\n",
        "for idx, Qdict in enumerate(devQ):\n",
        "  uidlist_dev.append(Qdict['uid'])"
      ],
      "execution_count": 0,
      "outputs": []
    },
    {
      "cell_type": "code",
      "metadata": {
        "id": "Hb7pJpdW_rF2",
        "colab_type": "code",
        "outputId": "118a8979-8c60-4be7-bc9a-644cddc65345",
        "colab": {
          "base_uri": "https://localhost:8080/",
          "height": 70
        }
      },
      "source": [
        "print (np.shape(uidlist_train), np.shape(list(set(uidlist_train))) )\n",
        "print (np.shape(uidlist_test), np.shape(list(set(uidlist_test))) )\n",
        "print (np.shape(uidlist_dev), np.shape(list(set(uidlist_dev))) )"
      ],
      "execution_count": 58,
      "outputs": [
        {
          "output_type": "stream",
          "text": [
            "(37012,) (37012,)\n",
            "(3000,) (3000,)\n",
            "(3000,) (3000,)\n"
          ],
          "name": "stdout"
        }
      ]
    },
    {
      "cell_type": "code",
      "metadata": {
        "id": "lANx3dpN_sFf",
        "colab_type": "code",
        "outputId": "473e108e-57f1-45dd-e618-97a2ee576156",
        "colab": {
          "base_uri": "https://localhost:8080/",
          "height": 35
        }
      },
      "source": [
        "#check the common uids between train+dev and test\n",
        "commonuid = list(set(uidlist_dev).intersection(set(uidlist_train)))\n",
        "np.shape(commonuid)"
      ],
      "execution_count": 59,
      "outputs": [
        {
          "output_type": "execute_result",
          "data": {
            "text/plain": [
              "(0,)"
            ]
          },
          "metadata": {
            "tags": []
          },
          "execution_count": 59
        }
      ]
    },
    {
      "cell_type": "markdown",
      "metadata": {
        "id": "y5YKG5_d_ugg",
        "colab_type": "text"
      },
      "source": [
        "The UID seems unique. Every record in the train question data has a uinque UID. There are no duplicates and repeatitions. This is true for test and dev questions datasets as well as Context datasets too.\n",
        "There is NO intersection between the UID of these datasets"
      ]
    },
    {
      "cell_type": "markdown",
      "metadata": {
        "id": "-FUtgH-9PjCM",
        "colab_type": "text"
      },
      "source": [
        "## Lets look at the tokens (BERT like) and the length of the question and answers"
      ]
    },
    {
      "cell_type": "code",
      "metadata": {
        "id": "MU3vs7bUPmyU",
        "colab_type": "code",
        "outputId": "ecad54c2-433e-4f81-993b-9bfcbfae4a35",
        "colab": {
          "base_uri": "https://localhost:8080/",
          "height": 426
        }
      },
      "source": [
        "!pip install transformers"
      ],
      "execution_count": 14,
      "outputs": [
        {
          "output_type": "stream",
          "text": [
            "Requirement already satisfied: transformers in /usr/local/lib/python3.6/dist-packages (2.8.0)\n",
            "Requirement already satisfied: tqdm>=4.27 in /usr/local/lib/python3.6/dist-packages (from transformers) (4.38.0)\n",
            "Requirement already satisfied: sentencepiece in /usr/local/lib/python3.6/dist-packages (from transformers) (0.1.86)\n",
            "Requirement already satisfied: tokenizers==0.5.2 in /usr/local/lib/python3.6/dist-packages (from transformers) (0.5.2)\n",
            "Requirement already satisfied: boto3 in /usr/local/lib/python3.6/dist-packages (from transformers) (1.12.47)\n",
            "Requirement already satisfied: dataclasses; python_version < \"3.7\" in /usr/local/lib/python3.6/dist-packages (from transformers) (0.7)\n",
            "Requirement already satisfied: numpy in /usr/local/lib/python3.6/dist-packages (from transformers) (1.18.3)\n",
            "Requirement already satisfied: sacremoses in /usr/local/lib/python3.6/dist-packages (from transformers) (0.0.41)\n",
            "Requirement already satisfied: requests in /usr/local/lib/python3.6/dist-packages (from transformers) (2.23.0)\n",
            "Requirement already satisfied: filelock in /usr/local/lib/python3.6/dist-packages (from transformers) (3.0.12)\n",
            "Requirement already satisfied: regex!=2019.12.17 in /usr/local/lib/python3.6/dist-packages (from transformers) (2019.12.20)\n",
            "Requirement already satisfied: botocore<1.16.0,>=1.15.47 in /usr/local/lib/python3.6/dist-packages (from boto3->transformers) (1.15.47)\n",
            "Requirement already satisfied: s3transfer<0.4.0,>=0.3.0 in /usr/local/lib/python3.6/dist-packages (from boto3->transformers) (0.3.3)\n",
            "Requirement already satisfied: jmespath<1.0.0,>=0.7.1 in /usr/local/lib/python3.6/dist-packages (from boto3->transformers) (0.9.5)\n",
            "Requirement already satisfied: click in /usr/local/lib/python3.6/dist-packages (from sacremoses->transformers) (7.1.2)\n",
            "Requirement already satisfied: joblib in /usr/local/lib/python3.6/dist-packages (from sacremoses->transformers) (0.14.1)\n",
            "Requirement already satisfied: six in /usr/local/lib/python3.6/dist-packages (from sacremoses->transformers) (1.12.0)\n",
            "Requirement already satisfied: certifi>=2017.4.17 in /usr/local/lib/python3.6/dist-packages (from requests->transformers) (2020.4.5.1)\n",
            "Requirement already satisfied: chardet<4,>=3.0.2 in /usr/local/lib/python3.6/dist-packages (from requests->transformers) (3.0.4)\n",
            "Requirement already satisfied: idna<3,>=2.5 in /usr/local/lib/python3.6/dist-packages (from requests->transformers) (2.9)\n",
            "Requirement already satisfied: urllib3!=1.25.0,!=1.25.1,<1.26,>=1.21.1 in /usr/local/lib/python3.6/dist-packages (from requests->transformers) (1.24.3)\n",
            "Requirement already satisfied: python-dateutil<3.0.0,>=2.1 in /usr/local/lib/python3.6/dist-packages (from botocore<1.16.0,>=1.15.47->boto3->transformers) (2.8.1)\n",
            "Requirement already satisfied: docutils<0.16,>=0.10 in /usr/local/lib/python3.6/dist-packages (from botocore<1.16.0,>=1.15.47->boto3->transformers) (0.15.2)\n"
          ],
          "name": "stdout"
        }
      ]
    },
    {
      "cell_type": "code",
      "metadata": {
        "id": "p769XitCPyFI",
        "colab_type": "code",
        "colab": {}
      },
      "source": [
        "import torch\n",
        "from transformers import *\n",
        "pretrained_weights = 'bert-base-uncased'\n",
        "berttokenizer= BertTokenizer.from_pretrained(pretrained_weights)\n",
        "model = BertModel.from_pretrained(pretrained_weights, \n",
        "                                  output_hidden_states=True, \n",
        "                                  output_attentions= True)"
      ],
      "execution_count": 0,
      "outputs": []
    },
    {
      "cell_type": "code",
      "metadata": {
        "id": "sm6fIyqudWeR",
        "colab_type": "code",
        "outputId": "07a7d8fc-0289-4e58-b96d-e107a126adb1",
        "colab": {
          "base_uri": "https://localhost:8080/",
          "height": 35
        }
      },
      "source": [
        "print(berttokenizer.tokenize(\"cross country riding it\\u2019s a fence\", add_special_tokens=False))"
      ],
      "execution_count": 16,
      "outputs": [
        {
          "output_type": "stream",
          "text": [
            "['cross', 'country', 'riding', 'it', '’', 's', 'a', 'fence']\n"
          ],
          "name": "stdout"
        }
      ]
    },
    {
      "cell_type": "code",
      "metadata": {
        "id": "_Krnpw1xQqAp",
        "colab_type": "code",
        "colab": {}
      },
      "source": [
        "def tokenizebertstyle(text):\n",
        "  return berttokenizer.tokenize(text, add_special_tokens=False)"
      ],
      "execution_count": 0,
      "outputs": []
    },
    {
      "cell_type": "code",
      "metadata": {
        "id": "sLe_pGrYW7yH",
        "colab_type": "code",
        "outputId": "7ee23bc2-2d99-40f5-9ee1-a0c521619431",
        "colab": {
          "base_uri": "https://localhost:8080/",
          "height": 558
        }
      },
      "source": [
        "#lets look at length of some Answers in test and dev datasets\n",
        "anslisttest = []\n",
        "anslenlistdev = []\n",
        "for testQdict, devQdict in zip(testQ, devQ):\n",
        "  anslisttest.append(len(tokenizebertstyle(testQdict['answer'])))\n",
        "  anslenlistdev.append(len(tokenizebertstyle(devQdict['answer'])))\n",
        "\n",
        "fig, axs = plt.subplots(2, 2, figsize=(15,8))\n",
        "fig.suptitle('Answers length stats for Test and Dev datasets')\n",
        "axs[0, 0].hist(anslisttest)\n",
        "axs[0, 0].set_title('Test dataset')\n",
        "axs[0, 1].boxplot(anslisttest)\n",
        "axs[0, 1].set_title('Test dataset')\n",
        "\n",
        "axs[1, 0].hist(anslenlistdev)\n",
        "axs[1, 0].set_title('Dev dataset')\n",
        "axs[1, 1].boxplot(anslenlistdev)\n",
        "axs[1, 1].set_title('Dev dataset')"
      ],
      "execution_count": 18,
      "outputs": [
        {
          "output_type": "execute_result",
          "data": {
            "text/plain": [
              "Text(0.5, 1.0, 'Dev dataset')"
            ]
          },
          "metadata": {
            "tags": []
          },
          "execution_count": 18
        },
        {
          "output_type": "display_data",
          "data": {
            "image/png": "[encoded data removed]",
            "text/plain": [
              "<Figure size 1080x576 with 4 Axes>"
            ]
          },
          "metadata": {
            "tags": [],
            "needs_background": "light"
          }
        }
      ]
    },
    {
      "cell_type": "code",
      "metadata": {
        "id": "zZvWfw7zXMRz",
        "colab_type": "code",
        "outputId": "f923eb8d-1263-4f1c-ead6-e5eda7451d91",
        "colab": {
          "base_uri": "https://localhost:8080/",
          "height": 291
        }
      },
      "source": [
        "pd.DataFrame(list(zip(anslisttest, anslenlistdev)), columns = [\"Answer Tokens Len Test\", \"Answer Tokens Len Dev\"]).describe()"
      ],
      "execution_count": 19,
      "outputs": [
        {
          "output_type": "execute_result",
          "data": {
            "text/html": [
              "<div>\n",
              "<style scoped>\n",
              "    .dataframe tbody tr th:only-of-type {\n",
              "        vertical-align: middle;\n",
              "    }\n",
              "\n",
              "    .dataframe tbody tr th {\n",
              "        vertical-align: top;\n",
              "    }\n",
              "\n",
              "    .dataframe thead th {\n",
              "        text-align: right;\n",
              "    }\n",
              "</style>\n",
              "<table border=\"1\" class=\"dataframe\">\n",
              "  <thead>\n",
              "    <tr style=\"text-align: right;\">\n",
              "      <th></th>\n",
              "      <th>Answer Tokens Len Test</th>\n",
              "      <th>Answer Tokens Len Dev</th>\n",
              "    </tr>\n",
              "  </thead>\n",
              "  <tbody>\n",
              "    <tr>\n",
              "      <th>count</th>\n",
              "      <td>3000.000000</td>\n",
              "      <td>3000.000000</td>\n",
              "    </tr>\n",
              "    <tr>\n",
              "      <th>mean</th>\n",
              "      <td>2.551333</td>\n",
              "      <td>2.557000</td>\n",
              "    </tr>\n",
              "    <tr>\n",
              "      <th>std</th>\n",
              "      <td>1.906981</td>\n",
              "      <td>1.987142</td>\n",
              "    </tr>\n",
              "    <tr>\n",
              "      <th>min</th>\n",
              "      <td>1.000000</td>\n",
              "      <td>1.000000</td>\n",
              "    </tr>\n",
              "    <tr>\n",
              "      <th>25%</th>\n",
              "      <td>1.000000</td>\n",
              "      <td>1.000000</td>\n",
              "    </tr>\n",
              "    <tr>\n",
              "      <th>50%</th>\n",
              "      <td>2.000000</td>\n",
              "      <td>2.000000</td>\n",
              "    </tr>\n",
              "    <tr>\n",
              "      <th>75%</th>\n",
              "      <td>3.000000</td>\n",
              "      <td>3.000000</td>\n",
              "    </tr>\n",
              "    <tr>\n",
              "      <th>max</th>\n",
              "      <td>23.000000</td>\n",
              "      <td>33.000000</td>\n",
              "    </tr>\n",
              "  </tbody>\n",
              "</table>\n",
              "</div>"
            ],
            "text/plain": [
              "       Answer Tokens Len Test  Answer Tokens Len Dev\n",
              "count             3000.000000            3000.000000\n",
              "mean                 2.551333               2.557000\n",
              "std                  1.906981               1.987142\n",
              "min                  1.000000               1.000000\n",
              "25%                  1.000000               1.000000\n",
              "50%                  2.000000               2.000000\n",
              "75%                  3.000000               3.000000\n",
              "max                 23.000000              33.000000"
            ]
          },
          "metadata": {
            "tags": []
          },
          "execution_count": 19
        }
      ]
    },
    {
      "cell_type": "markdown",
      "metadata": {
        "id": "H-LCjgcZXVs2",
        "colab_type": "text"
      },
      "source": [
        "### Max Answer len is around 23 or33 and generally the ans are between 1-3 words"
      ]
    },
    {
      "cell_type": "code",
      "metadata": {
        "id": "XN5_d300Yee0",
        "colab_type": "code",
        "outputId": "1664cbc3-d6d6-4780-e25e-534353819eec",
        "colab": {
          "base_uri": "https://localhost:8080/",
          "height": 355
        }
      },
      "source": [
        "#it would be intresting to see the answers that have higher length\n",
        "index_list_long_ans_test = [k for k, value in enumerate(anslisttest) if value > 8]\n",
        "print(len(index_list_long_ans_test))\n",
        "print('\\n'.join([(testQ[i][\"answer\"]) for i in index_list_long_ans_test[:8]] )) #ony 8\n",
        "print('\\n')\n",
        "print('\\n'.join(([(testQ[i][\"question\"]) for i in index_list_long_ans_test[:8]]))) #ony 5"
      ],
      "execution_count": 20,
      "outputs": [
        {
          "output_type": "stream",
          "text": [
            "48\n",
            "on a horse it\\u2019s a horses leg\n",
            "6 (vault, rings, floor, high bar, para bars, horse)\n",
            "sighting unexplained craft sighting ufo's\n",
            "it had a short head with a parrot like beak\n",
            "turtle soup. calipee is found beneath the lower shell of the green turtle.\n",
            "the democratic republic of congo , formally zaire\n",
            "on the edge of a \\u00a32 coin\n",
            "a footman \\u2013 walk behind master\n",
            "\n",
            "\n",
            "Where would you find a gambrel\n",
            "How Many Diciplines Are There In Mens Gymnastics\n",
            "Close encounters of the first kind\n",
            "Why Was The Psittacosaurus So Called\n",
            "A green gelatinous substance known as calipee is used to make which favorite amongst gastronomes ?\n",
            "In Which African Country Is The Seaport Of Banana\n",
            "Where Exactly -LRB- And You Must Be Specific -RRB- Will You Find The Words `` Standing On The Shoulders Of Giants ''\n",
            "In the 18th century what job did a fart-catcher do\n"
          ],
          "name": "stdout"
        }
      ]
    },
    {
      "cell_type": "code",
      "metadata": {
        "id": "JkAj-cASdpLz",
        "colab_type": "code",
        "outputId": "1c602ad5-fa5a-40c4-a351-60a8fa58ce59",
        "colab": {
          "base_uri": "https://localhost:8080/",
          "height": 355
        }
      },
      "source": [
        "#it would be intresting to see the answers that have higher length\n",
        "index_list_long_ans_dev = [k for k, value in enumerate(anslenlistdev) if value > 8]\n",
        "print(len(index_list_long_ans_dev))\n",
        "print('\\n'.join(([(devQ[i][\"answer\"]) for i in index_list_long_ans_dev[:8]]))) \n",
        "print('\\n')\n",
        "print('\\n'.join(([(devQ[i][\"question\"]) for i in index_list_long_ans_dev[:8]]))) "
      ],
      "execution_count": 21,
      "outputs": [
        {
          "output_type": "stream",
          "text": [
            "46\n",
            "a giant sequoia giant sequoia\n",
            "popeye - they are spinach growers\n",
            "king pygmalion aphrodite life\n",
            "audi \\u2013 vorsprung durch technik\n",
            "booze \\u2013 honeymoon 30 day booze up\n",
            "1 meat - 2 fresh veg \\u2013 3 pet food\n",
            "he tried to flee to spain instead, and was swallowed by the \"whale\"nineveh\n",
            "hinge - it\\u2019s the pin holding it\n",
            "\n",
            "\n",
            "What living organism can be 30 times the size of a blue whale\n",
            "Crystal City in Texas put up a statue to what cartoon character\n",
            "In mythology who married the beautiful maid Galatea\n",
            "What car manufacturers slogan is forward through technology\n",
            "How did Attila the Hun die on honeymoon\n",
            "What is the most profitable section in supermarkets\n",
            "To which city did the Lord tell Jonah to go and denounce its citizens ' wickedness\n",
            "Where would you find a pintle\n"
          ],
          "name": "stdout"
        }
      ]
    },
    {
      "cell_type": "code",
      "metadata": {
        "id": "bLwplV09Hfus",
        "colab_type": "code",
        "outputId": "0ed1384e-a59d-4667-d667-2e81036287df",
        "colab": {
          "base_uri": "https://localhost:8080/",
          "height": 558
        }
      },
      "source": [
        "#lets look at length of some questions in test and dev datasets\n",
        "queslenlisttest = []\n",
        "queslenlistdev = []\n",
        "for testQdict, devQdict in zip(testQ, devQ):\n",
        "  queslenlisttest.append(len(tokenizebertstyle(testQdict['question'])))\n",
        "  queslenlistdev.append(len(tokenizebertstyle(devQdict['question'])))\n",
        "\n",
        "fig, axs = plt.subplots(2, 2, figsize=(15,8))\n",
        "fig.suptitle('Questions length stats for Test and Dev datasets')\n",
        "axs[0, 0].hist(queslenlisttest)\n",
        "axs[0, 0].set_title('Test dataset')\n",
        "axs[0, 1].boxplot(queslenlisttest)\n",
        "axs[0, 1].set_title('Test dataset')\n",
        "\n",
        "axs[1, 0].hist(queslenlistdev)\n",
        "axs[1, 0].set_title('Dev dataset')\n",
        "axs[1, 1].boxplot(queslenlistdev)\n",
        "axs[1, 1].set_title('Dev dataset')\n"
      ],
      "execution_count": 22,
      "outputs": [
        {
          "output_type": "execute_result",
          "data": {
            "text/plain": [
              "Text(0.5, 1.0, 'Dev dataset')"
            ]
          },
          "metadata": {
            "tags": []
          },
          "execution_count": 22
        },
        {
          "output_type": "display_data",
          "data": {
            "image/png": "[encoded data removed]",
            "text/plain": [
              "<Figure size 1080x576 with 4 Axes>"
            ]
          },
          "metadata": {
            "tags": [],
            "needs_background": "light"
          }
        }
      ]
    },
    {
      "cell_type": "markdown",
      "metadata": {
        "id": "byg2_aKwDuak",
        "colab_type": "text"
      },
      "source": [
        "The distribution looks right skewed. There are questions what have as small length as 3 and as big as 41 words"
      ]
    },
    {
      "cell_type": "code",
      "metadata": {
        "id": "RTZf4M86__1Y",
        "colab_type": "code",
        "outputId": "3b86635d-a844-4925-a4ec-e52b8bd70454",
        "colab": {
          "base_uri": "https://localhost:8080/",
          "height": 291
        }
      },
      "source": [
        "pd.DataFrame(list(zip(queslenlisttest, queslenlistdev)), columns = [\"Question Tokens Len Test\", \"Question Tokens Len Dev\"]).describe()"
      ],
      "execution_count": 23,
      "outputs": [
        {
          "output_type": "execute_result",
          "data": {
            "text/html": [
              "<div>\n",
              "<style scoped>\n",
              "    .dataframe tbody tr th:only-of-type {\n",
              "        vertical-align: middle;\n",
              "    }\n",
              "\n",
              "    .dataframe tbody tr th {\n",
              "        vertical-align: top;\n",
              "    }\n",
              "\n",
              "    .dataframe thead th {\n",
              "        text-align: right;\n",
              "    }\n",
              "</style>\n",
              "<table border=\"1\" class=\"dataframe\">\n",
              "  <thead>\n",
              "    <tr style=\"text-align: right;\">\n",
              "      <th></th>\n",
              "      <th>Question Tokens Len Test</th>\n",
              "      <th>Question Tokens Len Dev</th>\n",
              "    </tr>\n",
              "  </thead>\n",
              "  <tbody>\n",
              "    <tr>\n",
              "      <th>count</th>\n",
              "      <td>3000.000000</td>\n",
              "      <td>3000.000000</td>\n",
              "    </tr>\n",
              "    <tr>\n",
              "      <th>mean</th>\n",
              "      <td>12.318000</td>\n",
              "      <td>12.312667</td>\n",
              "    </tr>\n",
              "    <tr>\n",
              "      <th>std</th>\n",
              "      <td>5.703951</td>\n",
              "      <td>5.784813</td>\n",
              "    </tr>\n",
              "    <tr>\n",
              "      <th>min</th>\n",
              "      <td>3.000000</td>\n",
              "      <td>3.000000</td>\n",
              "    </tr>\n",
              "    <tr>\n",
              "      <th>25%</th>\n",
              "      <td>9.000000</td>\n",
              "      <td>9.000000</td>\n",
              "    </tr>\n",
              "    <tr>\n",
              "      <th>50%</th>\n",
              "      <td>11.000000</td>\n",
              "      <td>11.000000</td>\n",
              "    </tr>\n",
              "    <tr>\n",
              "      <th>75%</th>\n",
              "      <td>14.000000</td>\n",
              "      <td>14.000000</td>\n",
              "    </tr>\n",
              "    <tr>\n",
              "      <th>max</th>\n",
              "      <td>52.000000</td>\n",
              "      <td>54.000000</td>\n",
              "    </tr>\n",
              "  </tbody>\n",
              "</table>\n",
              "</div>"
            ],
            "text/plain": [
              "       Question Tokens Len Test  Question Tokens Len Dev\n",
              "count               3000.000000              3000.000000\n",
              "mean                  12.318000                12.312667\n",
              "std                    5.703951                 5.784813\n",
              "min                    3.000000                 3.000000\n",
              "25%                    9.000000                 9.000000\n",
              "50%                   11.000000                11.000000\n",
              "75%                   14.000000                14.000000\n",
              "max                   52.000000                54.000000"
            ]
          },
          "metadata": {
            "tags": []
          },
          "execution_count": 23
        }
      ]
    },
    {
      "cell_type": "markdown",
      "metadata": {
        "id": "-aojnMlXDitq",
        "colab_type": "text"
      },
      "source": [
        "The max length of question is 52-54 tokens and most of the questions have length between 9-14 tokens"
      ]
    },
    {
      "cell_type": "code",
      "metadata": {
        "id": "GHTEaY26hMCo",
        "colab_type": "code",
        "outputId": "e5f94b76-3e53-441b-c2bb-7e4c6d11f415",
        "colab": {
          "base_uri": "https://localhost:8080/",
          "height": 375
        }
      },
      "source": [
        "index_list_long_ques_test = [k for k, value in enumerate(queslenlisttest) if value > 25]\n",
        "print(len(index_list_long_ques_test))\n",
        "print('\\n'.join([(testQ[i][\"question\"]) for i in index_list_long_ques_test[:8]] )) #ony 8\n",
        "print('\\n')\n",
        "print('\\n'.join(([(testQ[i][\"answer\"]) for i in index_list_long_ques_test[:8]]))) #ony 8"
      ],
      "execution_count": 24,
      "outputs": [
        {
          "output_type": "stream",
          "text": [
            "106\n",
            "A marine catfish can taste with any part of its body .The female marine catfish hatches her eggs in her __________\n",
            "Where was the painting by Michaelangelo , valued at # 8 million pounds recently found , after remaining unrecognised for more than 250 years\n",
            "Cocktails : Rum , lime , and cola drink make a -LRB- n -RRB- ____________ .\n",
            "From the 1980 's which artists and song `` So strike a pose on a Cadillac , If you want to find all the cops , They 're hanging out in the donut shop , They sing and dance '' ?\n",
            "The city of Los Angeles is more than one_third the size of the entire state of ______________\n",
            "What type of food is associated with 4th July celebrations , is it a curry , a Roast Turkey , a picnic , or a BBQ ?\n",
            "The four stages in the life_cycle of an insect are : egg , adult , pupa , and ________ .\n",
            "On March 27 , 1964 , North America 's strongest recorded earthquake , with a moment magnitude of 9.2 , rocked central ______________\n",
            "\n",
            "\n",
            "mouth\n",
            "castle howard\n",
            "cuba libre\n",
            "the bangles / walk like an egyptian\n",
            "rhode island\n",
            "picnic or bbq\n",
            "larva\n",
            "alaska\n"
          ],
          "name": "stdout"
        }
      ]
    },
    {
      "cell_type": "code",
      "metadata": {
        "id": "in_5PSfehoQC",
        "colab_type": "code",
        "outputId": "8a600dc9-7158-414b-e0e2-e4cfb9b7426a",
        "colab": {
          "base_uri": "https://localhost:8080/",
          "height": 355
        }
      },
      "source": [
        "index_list_long_ques_dev = [k for k, value in enumerate(queslenlistdev) if value > 25]\n",
        "print(len(index_list_long_ques_dev))\n",
        "print('\\n'.join([(devQ[i][\"question\"]) for i in index_list_long_ques_dev[:8]] )) #ony 8\n",
        "print('\\n')\n",
        "print('\\n'.join(([(devQ[i][\"answer\"]) for i in index_list_long_ques_dev[:8]]))) #ony 8"
      ],
      "execution_count": 25,
      "outputs": [
        {
          "output_type": "stream",
          "text": [
            "111\n",
            "______________ is the largest French_speaking city in the Western Hemisphere .\n",
            "In a standard game of cricket , what is the maximum number of people that can be on the field of play at any one time during play\n",
            "On the Single `` Do They Know It 's Christmas '' Only One Person Performed On Both The Original And The 20 Year Remake Band Aid 20 , Who Was It ?\n",
            "In 1953 Science fiction author L.Ron Hubbard founded which cult religion , one of who 's prominent modern day followers is John Travolta\n",
            "Who Had A Surprise UK Hit In The 90 's With A Cover Of The Classic Led Zeppelin Song `` Stairway To Heaven ''\n",
            "In 2010 , for the first time in 27 years , the House of Reps censured one of its members , Charlie Rangel of what state ?\n",
            "Most varieties of __________ can go an entire year without eating a single morsel of food .\n",
            "What is the answer to a groan-inducing math riddle that asks , '' Where can you buy a ruler that is three feet long '' ?\n",
            "\n",
            "\n",
            "montreal\n",
            "seventeen\n",
            "bono / u2\n",
            "scientology\n",
            "rolf harris\n",
            "new york\n",
            "snake\n",
            "yard sale\n"
          ],
          "name": "stdout"
        }
      ]
    },
    {
      "cell_type": "code",
      "metadata": {
        "id": "aswSdIuCKtnM",
        "colab_type": "code",
        "outputId": "755f04d1-7798-4924-f197-99f1bc906617",
        "colab": {
          "base_uri": "https://localhost:8080/",
          "height": 558
        }
      },
      "source": [
        "#lets look at length of some contexts in test and dev datasets\n",
        "#since paragraphs are long and tokenization is taking longer time in evaluation hence\n",
        "#using the sentence word split method to get ball park figure\n",
        "Ctxlisttest = []\n",
        "Ctxlistdev = []\n",
        "for testSCdict, devSCdict in zip(testSC, devSC):\n",
        "  sublisttestSC = testSCdict[\"contexts\"]\n",
        "  sublistdevSC = devSCdict[\"contexts\"]\n",
        "  for itemtest, itemdev in zip(sublisttestSC, sublistdevSC):\n",
        "    Ctxlisttest.append(len((itemtest[1].split())))\n",
        "    Ctxlistdev.append(len((itemdev[1].split())))\n",
        "\n",
        "fig, axs = plt.subplots(2, 2, figsize=(15,8))\n",
        "fig.suptitle('Long Paragraph length stats for Test and Dev datasets')\n",
        "axs[0, 0].hist(Ctxlisttest)\n",
        "axs[0, 0].set_title('Test dataset')\n",
        "axs[0, 1].boxplot(Ctxlisttest)\n",
        "axs[0, 1].set_title('Test dataset')\n",
        "\n",
        "axs[1, 0].hist(Ctxlistdev)\n",
        "axs[1, 0].set_title('Dev dataset')\n",
        "axs[1, 1].boxplot(Ctxlistdev)\n",
        "axs[1, 1].set_title('Dev dataset')"
      ],
      "execution_count": 60,
      "outputs": [
        {
          "output_type": "execute_result",
          "data": {
            "text/plain": [
              "Text(0.5, 1.0, 'Dev dataset')"
            ]
          },
          "metadata": {
            "tags": []
          },
          "execution_count": 60
        },
        {
          "output_type": "display_data",
          "data": {
            "image/png": "[encoded data removed]",
            "text/plain": [
              "<Figure size 1080x576 with 4 Axes>"
            ]
          },
          "metadata": {
            "tags": [],
            "needs_background": "light"
          }
        }
      ]
    },
    {
      "cell_type": "code",
      "metadata": {
        "id": "0mLv7j_oNW-U",
        "colab_type": "code",
        "outputId": "cb612f16-2abc-400d-dcd5-d6b2ed3e98f4",
        "colab": {
          "base_uri": "https://localhost:8080/",
          "height": 291
        }
      },
      "source": [
        "df_cxt_long = pd.DataFrame(list(zip(Ctxlisttest, Ctxlistdev)), columns = [\"Paragraph Len Test\", \"Paragraph Len Dev\"])\n",
        "df_cxt_long.describe()"
      ],
      "execution_count": 61,
      "outputs": [
        {
          "output_type": "execute_result",
          "data": {
            "text/html": [
              "<div>\n",
              "<style scoped>\n",
              "    .dataframe tbody tr th:only-of-type {\n",
              "        vertical-align: middle;\n",
              "    }\n",
              "\n",
              "    .dataframe tbody tr th {\n",
              "        vertical-align: top;\n",
              "    }\n",
              "\n",
              "    .dataframe thead th {\n",
              "        text-align: right;\n",
              "    }\n",
              "</style>\n",
              "<table border=\"1\" class=\"dataframe\">\n",
              "  <thead>\n",
              "    <tr style=\"text-align: right;\">\n",
              "      <th></th>\n",
              "      <th>Paragraph Len Test</th>\n",
              "      <th>Paragraph Len Dev</th>\n",
              "    </tr>\n",
              "  </thead>\n",
              "  <tbody>\n",
              "    <tr>\n",
              "      <th>count</th>\n",
              "      <td>59890.000000</td>\n",
              "      <td>59890.000000</td>\n",
              "    </tr>\n",
              "    <tr>\n",
              "      <th>mean</th>\n",
              "      <td>360.480347</td>\n",
              "      <td>360.780013</td>\n",
              "    </tr>\n",
              "    <tr>\n",
              "      <th>std</th>\n",
              "      <td>42.183443</td>\n",
              "      <td>42.851853</td>\n",
              "    </tr>\n",
              "    <tr>\n",
              "      <th>min</th>\n",
              "      <td>20.000000</td>\n",
              "      <td>5.000000</td>\n",
              "    </tr>\n",
              "    <tr>\n",
              "      <th>25%</th>\n",
              "      <td>347.000000</td>\n",
              "      <td>347.000000</td>\n",
              "    </tr>\n",
              "    <tr>\n",
              "      <th>50%</th>\n",
              "      <td>366.000000</td>\n",
              "      <td>366.000000</td>\n",
              "    </tr>\n",
              "    <tr>\n",
              "      <th>75%</th>\n",
              "      <td>383.000000</td>\n",
              "      <td>383.000000</td>\n",
              "    </tr>\n",
              "    <tr>\n",
              "      <th>max</th>\n",
              "      <td>606.000000</td>\n",
              "      <td>770.000000</td>\n",
              "    </tr>\n",
              "  </tbody>\n",
              "</table>\n",
              "</div>"
            ],
            "text/plain": [
              "       Paragraph Len Test  Paragraph Len Dev\n",
              "count        59890.000000       59890.000000\n",
              "mean           360.480347         360.780013\n",
              "std             42.183443          42.851853\n",
              "min             20.000000           5.000000\n",
              "25%            347.000000         347.000000\n",
              "50%            366.000000         366.000000\n",
              "75%            383.000000         383.000000\n",
              "max            606.000000         770.000000"
            ]
          },
          "metadata": {
            "tags": []
          },
          "execution_count": 61
        }
      ]
    },
    {
      "cell_type": "markdown",
      "metadata": {
        "id": "p7XZgPKoNrNp",
        "colab_type": "text"
      },
      "source": [
        "The word length of short paragraph vary from 350-400. Max length is 600-770. "
      ]
    },
    {
      "cell_type": "code",
      "metadata": {
        "id": "hhyD_3LHTfyc",
        "colab_type": "code",
        "outputId": "7ad13291-fa1d-49dd-c21c-e09cb669e3ef",
        "colab": {
          "base_uri": "https://localhost:8080/",
          "height": 35
        }
      },
      "source": [
        "print((df_cxt_long['Paragraph Len Test'] > 480).sum(), (df_cxt_long['Paragraph Len Dev'] > 480).sum()) #how many records have length gt than 480"
      ],
      "execution_count": 66,
      "outputs": [
        {
          "output_type": "stream",
          "text": [
            "61 84\n"
          ],
          "name": "stdout"
        }
      ]
    },
    {
      "cell_type": "code",
      "metadata": {
        "id": "DX2UWuoYgjYN",
        "colab_type": "code",
        "colab": {}
      },
      "source": [
        "#lets try some nltk libraries to check some bert based apis\n",
        "import nltk"
      ],
      "execution_count": 0,
      "outputs": []
    },
    {
      "cell_type": "code",
      "metadata": {
        "id": "f_wNZJG_g7DT",
        "colab_type": "code",
        "colab": {}
      },
      "source": [
        "from nltk.corpus import gutenberg\n",
        "from nltk.tokenize.treebank import TreebankWordDetokenizer, TreebankWordTokenizer \n",
        "from sklearn.feature_extraction.text import TfidfVectorizer, CountVectorizer\n",
        "from sklearn.metrics.pairwise import cosine_similarity"
      ],
      "execution_count": 0,
      "outputs": []
    },
    {
      "cell_type": "code",
      "metadata": {
        "id": "i9F0MDYI15pZ",
        "colab_type": "code",
        "colab": {}
      },
      "source": [
        "#!pip uninstall tensorflow -y\n",
        "#!pip install tensorflow==1.15.2"
      ],
      "execution_count": 0,
      "outputs": []
    },
    {
      "cell_type": "code",
      "metadata": {
        "id": "YcUn-MBaWZzE",
        "colab_type": "code",
        "colab": {}
      },
      "source": [
        "#!pip uninstall pandas -y\n",
        "#!pip install pandas==0.25.3"
      ],
      "execution_count": 0,
      "outputs": []
    },
    {
      "cell_type": "code",
      "metadata": {
        "id": "Q-ij3L-th3Q_",
        "colab_type": "code",
        "outputId": "181e9be0-06e9-4431-f1f6-d86a0d7e575e",
        "colab": {
          "base_uri": "https://localhost:8080/",
          "height": 1000
        }
      },
      "source": [
        "!pip install deeppavlov"
      ],
      "execution_count": 32,
      "outputs": [
        {
          "output_type": "stream",
          "text": [
            "Collecting deeppavlov\n",
            "\u001b[?25l  Downloading https://files.pythonhosted.org/packages/b7/74/600871c188f82023575c86f6119804c35f0cdbd009bd5b73e4538978ba3d/deeppavlov-0.9.1-py3-none-any.whl (777kB)\n",
            "\u001b[K     |████████████████████████████████| 778kB 3.4MB/s \n",
            "\u001b[?25hCollecting pymorphy2-dicts-ru\n",
            "\u001b[?25l  Downloading https://files.pythonhosted.org/packages/7c/9b/358faaff410f65a4ad159275e897b5956dcb20576c5b8e764b971c1634d7/pymorphy2_dicts_ru-2.4.404381.4453942-py2.py3-none-any.whl (8.0MB)\n",
            "\u001b[K     |████████████████████████████████| 8.0MB 11.2MB/s \n",
            "\u001b[?25hCollecting Cython==0.29.14\n",
            "\u001b[?25l  Downloading https://files.pythonhosted.org/packages/df/d1/4d3f8a7a920e805488a966cc6ab55c978a712240f584445d703c08b9f405/Cython-0.29.14-cp36-cp36m-manylinux1_x86_64.whl (2.1MB)\n",
            "\u001b[K     |████████████████████████████████| 2.1MB 29.5MB/s \n",
            "\u001b[?25hCollecting scikit-learn==0.21.2\n",
            "\u001b[?25l  Downloading https://files.pythonhosted.org/packages/85/04/49633f490f726da6e454fddc8e938bbb5bfed2001681118d3814c219b723/scikit_learn-0.21.2-cp36-cp36m-manylinux1_x86_64.whl (6.7MB)\n",
            "\u001b[K     |████████████████████████████████| 6.7MB 24.7MB/s \n",
            "\u001b[?25hCollecting uvicorn==0.11.1\n",
            "\u001b[?25l  Downloading https://files.pythonhosted.org/packages/8e/24/11f4b4bf3963ead6de570feeae49eeced02f6768cf1f68e16f4b16d3b0aa/uvicorn-0.11.1-py3-none-any.whl (42kB)\n",
            "\u001b[K     |████████████████████████████████| 51kB 7.0MB/s \n",
            "\u001b[?25hCollecting fuzzywuzzy==0.17.0\n",
            "  Downloading https://files.pythonhosted.org/packages/d8/f1/5a267addb30ab7eaa1beab2b9323073815da4551076554ecc890a3595ec9/fuzzywuzzy-0.17.0-py2.py3-none-any.whl\n",
            "Collecting pydantic==1.3\n",
            "\u001b[?25l  Downloading https://files.pythonhosted.org/packages/99/24/e78cf017628e7eaed20cb040999b1ecc69f872da53dfd0d9aed40c0fa5f1/pydantic-1.3-cp36-cp36m-manylinux2010_x86_64.whl (7.3MB)\n",
            "\u001b[K     |████████████████████████████████| 7.3MB 31.9MB/s \n",
            "\u001b[?25hCollecting numpy==1.18.0\n",
            "\u001b[?25l  Downloading https://files.pythonhosted.org/packages/92/e6/45f71bd24f4e37629e9db5fb75caab919507deae6a5a257f9e4685a5f931/numpy-1.18.0-cp36-cp36m-manylinux1_x86_64.whl (20.1MB)\n",
            "\u001b[K     |████████████████████████████████| 20.1MB 254kB/s \n",
            "\u001b[?25hRequirement already satisfied: pandas==0.25.3 in /usr/local/lib/python3.6/dist-packages (from deeppavlov) (0.25.3)\n",
            "Collecting pyopenssl==19.1.0\n",
            "\u001b[?25l  Downloading https://files.pythonhosted.org/packages/9e/de/f8342b68fa9e981d348039954657bdf681b2ab93de27443be51865ffa310/pyOpenSSL-19.1.0-py2.py3-none-any.whl (53kB)\n",
            "\u001b[K     |████████████████████████████████| 61kB 8.6MB/s \n",
            "\u001b[?25hRequirement already satisfied: scipy==1.4.1 in /usr/local/lib/python3.6/dist-packages (from deeppavlov) (1.4.1)\n",
            "Collecting pytelegrambotapi==3.6.7\n",
            "\u001b[?25l  Downloading https://files.pythonhosted.org/packages/62/ab/99c606f69fcda57e35788b913dd34c9d9acb48dd26349141b3855dcf6351/pyTelegramBotAPI-3.6.7.tar.gz (65kB)\n",
            "\u001b[K     |████████████████████████████████| 71kB 9.9MB/s \n",
            "\u001b[?25hRequirement already satisfied: h5py==2.10.0 in /usr/local/lib/python3.6/dist-packages (from deeppavlov) (2.10.0)\n",
            "Collecting fastapi==0.47.1\n",
            "\u001b[?25l  Downloading https://files.pythonhosted.org/packages/a3/a7/4804d7abf8a1544d079d50650af872387154ebdac5bd07d54b2e60e2b334/fastapi-0.47.1-py3-none-any.whl (43kB)\n",
            "\u001b[K     |████████████████████████████████| 51kB 7.0MB/s \n",
            "\u001b[?25hCollecting rusenttokenize==0.0.5\n",
            "  Downloading https://files.pythonhosted.org/packages/25/4c/a2f00be5def774a3df2e5387145f1cb54e324607ec4a7e23f573645946e7/rusenttokenize-0.0.5-py3-none-any.whl\n",
            "Collecting aio-pika==6.4.1\n",
            "\u001b[?25l  Downloading https://files.pythonhosted.org/packages/c8/07/196a4115cbef31fa0c3dabdea146f02dffe5e49998341d20dbe2278953bc/aio_pika-6.4.1-py3-none-any.whl (40kB)\n",
            "\u001b[K     |████████████████████████████████| 51kB 7.3MB/s \n",
            "\u001b[?25hCollecting pymorphy2==0.8\n",
            "\u001b[?25l  Downloading https://files.pythonhosted.org/packages/a3/33/fff9675c68b5f6c63ec8c6e6ff57827dda28a1fa5b2c2d727dffff92dd47/pymorphy2-0.8-py2.py3-none-any.whl (46kB)\n",
            "\u001b[K     |████████████████████████████████| 51kB 7.2MB/s \n",
            "\u001b[?25hCollecting overrides==2.7.0\n",
            "  Downloading https://files.pythonhosted.org/packages/ac/98/2430afd204c48ac0a529d439d7e22df8fa603c668d03456b5947cb59ec36/overrides-2.7.0.tar.gz\n",
            "Collecting tqdm==4.41.1\n",
            "\u001b[?25l  Downloading https://files.pythonhosted.org/packages/72/c9/7fc20feac72e79032a7c8138fd0d395dc6d8812b5b9edf53c3afd0b31017/tqdm-4.41.1-py2.py3-none-any.whl (56kB)\n",
            "\u001b[K     |████████████████████████████████| 61kB 8.5MB/s \n",
            "\u001b[?25hCollecting nltk==3.4.5\n",
            "\u001b[?25l  Downloading https://files.pythonhosted.org/packages/f6/1d/d925cfb4f324ede997f6d47bea4d9babba51b49e87a767c170b77005889d/nltk-3.4.5.zip (1.5MB)\n",
            "\u001b[K     |████████████████████████████████| 1.5MB 51.2MB/s \n",
            "\u001b[?25hCollecting ruamel.yaml==0.15.100\n",
            "\u001b[?25l  Downloading https://files.pythonhosted.org/packages/e7/9f/83bb34eaf84032b0b54fcc4a6aff1858572d279d65a301c7ae875f523df5/ruamel.yaml-0.15.100-cp36-cp36m-manylinux1_x86_64.whl (656kB)\n",
            "\u001b[K     |████████████████████████████████| 665kB 52.7MB/s \n",
            "\u001b[?25hCollecting requests==2.22.0\n",
            "\u001b[?25l  Downloading https://files.pythonhosted.org/packages/51/bd/23c926cd341ea6b7dd0b2a00aba99ae0f828be89d72b2190f27c11d4b7fb/requests-2.22.0-py2.py3-none-any.whl (57kB)\n",
            "\u001b[K     |████████████████████████████████| 61kB 8.0MB/s \n",
            "\u001b[?25hRequirement already satisfied: joblib>=0.11 in /usr/local/lib/python3.6/dist-packages (from scikit-learn==0.21.2->deeppavlov) (0.14.1)\n",
            "Requirement already satisfied: click==7.* in /usr/local/lib/python3.6/dist-packages (from uvicorn==0.11.1->deeppavlov) (7.1.2)\n",
            "Collecting websockets==8.*\n",
            "\u001b[?25l  Downloading https://files.pythonhosted.org/packages/bb/d9/856af84843912e2853b1b6e898ac8b802989fcf9ecf8e8445a1da263bf3b/websockets-8.1-cp36-cp36m-manylinux2010_x86_64.whl (78kB)\n",
            "\u001b[K     |████████████████████████████████| 81kB 11.1MB/s \n",
            "\u001b[?25hCollecting h11<0.10,>=0.8\n",
            "\u001b[?25l  Downloading https://files.pythonhosted.org/packages/5a/fd/3dad730b0f95e78aeeb742f96fa7bbecbdd56a58e405d3da440d5bfb90c6/h11-0.9.0-py2.py3-none-any.whl (53kB)\n",
            "\u001b[K     |████████████████████████████████| 61kB 8.1MB/s \n",
            "\u001b[?25hCollecting uvloop>=0.14.0; sys_platform != \"win32\" and sys_platform != \"cygwin\" and platform_python_implementation != \"pypy\"\n",
            "\u001b[?25l  Downloading https://files.pythonhosted.org/packages/41/48/586225bbb02d3bdca475b17e4be5ce5b3f09da2d6979f359916c1592a687/uvloop-0.14.0-cp36-cp36m-manylinux2010_x86_64.whl (3.9MB)\n",
            "\u001b[K     |████████████████████████████████| 3.9MB 53.2MB/s \n",
            "\u001b[?25hCollecting httptools==0.0.13; sys_platform != \"win32\" and sys_platform != \"cygwin\" and platform_python_implementation != \"pypy\"\n",
            "\u001b[?25l  Downloading https://files.pythonhosted.org/packages/1b/03/215969db11abe8741e9c266a4cbe803a372bd86dd35fa0084c4df6d4bd00/httptools-0.0.13.tar.gz (104kB)\n",
            "\u001b[K     |████████████████████████████████| 112kB 57.9MB/s \n",
            "\u001b[?25hRequirement already satisfied: dataclasses>=0.6; python_version < \"3.7\" in /usr/local/lib/python3.6/dist-packages (from pydantic==1.3->deeppavlov) (0.7)\n",
            "Requirement already satisfied: pytz>=2017.2 in /usr/local/lib/python3.6/dist-packages (from pandas==0.25.3->deeppavlov) (2018.9)\n",
            "Requirement already satisfied: python-dateutil>=2.6.1 in /usr/local/lib/python3.6/dist-packages (from pandas==0.25.3->deeppavlov) (2.8.1)\n",
            "Requirement already satisfied: six>=1.5.2 in /usr/local/lib/python3.6/dist-packages (from pyopenssl==19.1.0->deeppavlov) (1.12.0)\n",
            "Collecting cryptography>=2.8\n",
            "\u001b[?25l  Downloading https://files.pythonhosted.org/packages/3c/04/686efee2dcdd25aecf357992e7d9362f443eb182ecd623f882bc9f7a6bba/cryptography-2.9.2-cp35-abi3-manylinux2010_x86_64.whl (2.7MB)\n",
            "\u001b[K     |████████████████████████████████| 2.7MB 47.9MB/s \n",
            "\u001b[?25hCollecting starlette<=0.12.9,>=0.12.9\n",
            "\u001b[?25l  Downloading https://files.pythonhosted.org/packages/67/95/2220fe5bf287e693a6430d8ee36c681b0157035b7249ec08f8fb36319d16/starlette-0.12.9.tar.gz (46kB)\n",
            "\u001b[K     |████████████████████████████████| 51kB 6.1MB/s \n",
            "\u001b[?25hCollecting aiormq<4,>=3.2.0\n",
            "  Downloading https://files.pythonhosted.org/packages/bc/f8/77a1694064c677afaaae111e28e2b32dd70c5f9dce3836bad0df20f27201/aiormq-3.2.1-py3-none-any.whl\n",
            "Collecting yarl\n",
            "\u001b[?25l  Downloading https://files.pythonhosted.org/packages/95/8f/0209fc5d975f839344c33c822ff2f7ef80f6b1e984673a5a68f960bfa583/yarl-1.4.2-cp36-cp36m-manylinux1_x86_64.whl (252kB)\n",
            "\u001b[K     |████████████████████████████████| 256kB 54.8MB/s \n",
            "\u001b[?25hCollecting pymorphy2-dicts<3.0,>=2.4\n",
            "\u001b[?25l  Downloading https://files.pythonhosted.org/packages/02/51/2465fd4f72328ab50877b54777764d928da8cb15b74e2680fc1bd8cb3173/pymorphy2_dicts-2.4.393442.3710985-py2.py3-none-any.whl (7.1MB)\n",
            "\u001b[K     |████████████████████████████████| 7.1MB 24.2MB/s \n",
            "\u001b[?25hRequirement already satisfied: docopt>=0.6 in /usr/local/lib/python3.6/dist-packages (from pymorphy2==0.8->deeppavlov) (0.6.2)\n",
            "Collecting dawg-python>=0.7\n",
            "  Downloading https://files.pythonhosted.org/packages/6a/84/ff1ce2071d4c650ec85745766c0047ccc3b5036f1d03559fd46bb38b5eeb/DAWG_Python-0.7.2-py2.py3-none-any.whl\n",
            "Collecting idna<2.9,>=2.5\n",
            "\u001b[?25l  Downloading https://files.pythonhosted.org/packages/14/2c/cd551d81dbe15200be1cf41cd03869a46fe7226e7450af7a6545bfc474c9/idna-2.8-py2.py3-none-any.whl (58kB)\n",
            "\u001b[K     |████████████████████████████████| 61kB 8.5MB/s \n",
            "\u001b[?25hRequirement already satisfied: chardet<3.1.0,>=3.0.2 in /usr/local/lib/python3.6/dist-packages (from requests==2.22.0->deeppavlov) (3.0.4)\n",
            "Requirement already satisfied: certifi>=2017.4.17 in /usr/local/lib/python3.6/dist-packages (from requests==2.22.0->deeppavlov) (2020.4.5.1)\n",
            "Requirement already satisfied: urllib3!=1.25.0,!=1.25.1,<1.26,>=1.21.1 in /usr/local/lib/python3.6/dist-packages (from requests==2.22.0->deeppavlov) (1.24.3)\n",
            "Requirement already satisfied: cffi!=1.11.3,>=1.8 in /usr/local/lib/python3.6/dist-packages (from cryptography>=2.8->pyopenssl==19.1.0->deeppavlov) (1.14.0)\n",
            "Collecting pamqp==2.3.0\n",
            "  Downloading https://files.pythonhosted.org/packages/eb/56/afa06143361e640c9159d828dadc95fc9195c52c95b4a97d136617b0166d/pamqp-2.3.0-py2.py3-none-any.whl\n",
            "Collecting multidict>=4.0\n",
            "\u001b[?25l  Downloading https://files.pythonhosted.org/packages/30/2e/3ab2f1fb72571f75013db323a3799d505d99f3bc203513604f1ffb9b7858/multidict-4.7.5-cp36-cp36m-manylinux1_x86_64.whl (148kB)\n",
            "\u001b[K     |████████████████████████████████| 153kB 56.0MB/s \n",
            "\u001b[?25hRequirement already satisfied: pycparser in /usr/local/lib/python3.6/dist-packages (from cffi!=1.11.3,>=1.8->cryptography>=2.8->pyopenssl==19.1.0->deeppavlov) (2.20)\n",
            "Building wheels for collected packages: pytelegrambotapi, overrides, nltk, httptools, starlette\n",
            "  Building wheel for pytelegrambotapi (setup.py) ... \u001b[?25l\u001b[?25hdone\n",
            "  Created wheel for pytelegrambotapi: filename=pyTelegramBotAPI-3.6.7-cp36-none-any.whl size=47178 sha256=5e9ff115cac1412375ec64b04ad31c6d2e23dd52a33a2a99bc487a3ff42a8f00\n",
            "  Stored in directory: /root/.cache/pip/wheels/23/40/18/8a34153f95ef0dc19e3954898e5a5079244b76a8afdd7d0ec5\n",
            "  Building wheel for overrides (setup.py) ... \u001b[?25l\u001b[?25hdone\n",
            "  Created wheel for overrides: filename=overrides-2.7.0-cp36-none-any.whl size=5600 sha256=e3dabfc9ad6e7074e636d2dc8be2b563d8702b52953bb048096ef21a1ba54eac\n",
            "  Stored in directory: /root/.cache/pip/wheels/8c/7c/ef/80508418b67d87371c5b3de49e03eb22ee7c1d19affb5099f8\n",
            "  Building wheel for nltk (setup.py) ... \u001b[?25l\u001b[?25hdone\n",
            "  Created wheel for nltk: filename=nltk-3.4.5-cp36-none-any.whl size=1449906 sha256=b242b3a9726e3c05d37960b77ff296c7ff18975935e9d5491b8c7f2d08236b45\n",
            "  Stored in directory: /root/.cache/pip/wheels/96/86/f6/68ab24c23f207c0077381a5e3904b2815136b879538a24b483\n",
            "  Building wheel for httptools (setup.py) ... \u001b[?25l\u001b[?25hdone\n",
            "  Created wheel for httptools: filename=httptools-0.0.13-cp36-cp36m-linux_x86_64.whl size=212528 sha256=97795970eda6563710b08ae8cbb819101a445cb3f46de63c7618dc557ebbde17\n",
            "  Stored in directory: /root/.cache/pip/wheels/e8/3e/2e/013f99b42efc25cf3589730cf380738e46b1e5edaf2f78d525\n",
            "  Building wheel for starlette (setup.py) ... \u001b[?25l\u001b[?25hdone\n",
            "  Created wheel for starlette: filename=starlette-0.12.9-cp36-none-any.whl size=57245 sha256=3e65b5351a8f98ee1de8a8d6f3aea3d3412022e2a5dd1d7aeb3b516bffc2a3e4\n",
            "  Stored in directory: /root/.cache/pip/wheels/1c/51/5b/3828d52e185cafad941c4291b6f70894d0794be28c70addae5\n",
            "Successfully built pytelegrambotapi overrides nltk httptools starlette\n",
            "\u001b[31mERROR: tensorflow-probability 0.10.0rc0 has requirement gast>=0.3.2, but you'll have gast 0.2.2 which is incompatible.\u001b[0m\n",
            "\u001b[31mERROR: google-colab 1.0.0 has requirement pandas~=1.0.0; python_version >= \"3.0\", but you'll have pandas 0.25.3 which is incompatible.\u001b[0m\n",
            "\u001b[31mERROR: google-colab 1.0.0 has requirement requests~=2.23.0, but you'll have requests 2.22.0 which is incompatible.\u001b[0m\n",
            "\u001b[31mERROR: datascience 0.10.6 has requirement folium==0.2.1, but you'll have folium 0.8.3 which is incompatible.\u001b[0m\n",
            "\u001b[31mERROR: albumentations 0.1.12 has requirement imgaug<0.2.7,>=0.2.5, but you'll have imgaug 0.2.9 which is incompatible.\u001b[0m\n",
            "Installing collected packages: pymorphy2-dicts-ru, Cython, numpy, scikit-learn, websockets, h11, uvloop, httptools, uvicorn, fuzzywuzzy, pydantic, cryptography, pyopenssl, idna, requests, pytelegrambotapi, starlette, fastapi, rusenttokenize, pamqp, multidict, yarl, aiormq, aio-pika, pymorphy2-dicts, dawg-python, pymorphy2, overrides, tqdm, nltk, ruamel.yaml, deeppavlov\n",
            "  Found existing installation: Cython 0.29.17\n",
            "    Uninstalling Cython-0.29.17:\n",
            "      Successfully uninstalled Cython-0.29.17\n",
            "  Found existing installation: numpy 1.18.3\n",
            "    Uninstalling numpy-1.18.3:\n",
            "      Successfully uninstalled numpy-1.18.3\n",
            "  Found existing installation: scikit-learn 0.22.2.post1\n",
            "    Uninstalling scikit-learn-0.22.2.post1:\n",
            "      Successfully uninstalled scikit-learn-0.22.2.post1\n",
            "  Found existing installation: idna 2.9\n",
            "    Uninstalling idna-2.9:\n",
            "      Successfully uninstalled idna-2.9\n",
            "  Found existing installation: requests 2.23.0\n",
            "    Uninstalling requests-2.23.0:\n",
            "      Successfully uninstalled requests-2.23.0\n",
            "  Found existing installation: tqdm 4.38.0\n",
            "    Uninstalling tqdm-4.38.0:\n",
            "      Successfully uninstalled tqdm-4.38.0\n",
            "  Found existing installation: nltk 3.2.5\n",
            "    Uninstalling nltk-3.2.5:\n",
            "      Successfully uninstalled nltk-3.2.5\n",
            "Successfully installed Cython-0.29.14 aio-pika-6.4.1 aiormq-3.2.1 cryptography-2.9.2 dawg-python-0.7.2 deeppavlov-0.9.1 fastapi-0.47.1 fuzzywuzzy-0.17.0 h11-0.9.0 httptools-0.0.13 idna-2.8 multidict-4.7.5 nltk-3.4.5 numpy-1.18.0 overrides-2.7.0 pamqp-2.3.0 pydantic-1.3 pymorphy2-0.8 pymorphy2-dicts-2.4.393442.3710985 pymorphy2-dicts-ru-2.4.404381.4453942 pyopenssl-19.1.0 pytelegrambotapi-3.6.7 requests-2.22.0 ruamel.yaml-0.15.100 rusenttokenize-0.0.5 scikit-learn-0.21.2 starlette-0.12.9 tqdm-4.41.1 uvicorn-0.11.1 uvloop-0.14.0 websockets-8.1 yarl-1.4.2\n"
          ],
          "name": "stdout"
        },
        {
          "output_type": "display_data",
          "data": {
            "application/vnd.colab-display-data+json": {
              "pip_warning": {
                "packages": [
                  "idna",
                  "nltk",
                  "numpy",
                  "requests",
                  "sklearn",
                  "tqdm"
                ]
              }
            }
          },
          "metadata": {
            "tags": []
          }
        }
      ]
    },
    {
      "cell_type": "code",
      "metadata": {
        "id": "cs_Yadv8mUXP",
        "colab_type": "code",
        "outputId": "283f7fb2-ff59-48f2-9944-6e18351177df",
        "colab": {
          "base_uri": "https://localhost:8080/",
          "height": 35
        }
      },
      "source": [
        "pd.__version__"
      ],
      "execution_count": 33,
      "outputs": [
        {
          "output_type": "execute_result",
          "data": {
            "text/plain": [
              "'0.25.3'"
            ]
          },
          "metadata": {
            "tags": []
          },
          "execution_count": 33
        }
      ]
    },
    {
      "cell_type": "code",
      "metadata": {
        "id": "cJkSmxU-XkKn",
        "colab_type": "code",
        "colab": {
          "base_uri": "https://localhost:8080/",
          "height": 35
        },
        "outputId": "54e971d1-e3ca-4aa3-e88c-96f8ba4d213e"
      },
      "source": [
        "import tensorflow\n",
        "tensorflow.__version__"
      ],
      "execution_count": 36,
      "outputs": [
        {
          "output_type": "execute_result",
          "data": {
            "text/plain": [
              "'1.15.2'"
            ]
          },
          "metadata": {
            "tags": []
          },
          "execution_count": 36
        }
      ]
    },
    {
      "cell_type": "code",
      "metadata": {
        "id": "MtnNfVDdioWz",
        "colab_type": "code",
        "colab": {}
      },
      "source": [
        "from deeppavlov import build_model, configs\n",
        "import torch"
      ],
      "execution_count": 0,
      "outputs": []
    },
    {
      "cell_type": "code",
      "metadata": {
        "id": "nri84LiGy571",
        "colab_type": "code",
        "outputId": "f9119c62-e58e-4ee0-bf03-41b0607ee71b",
        "colab": {
          "base_uri": "https://localhost:8080/",
          "height": 659
        }
      },
      "source": [
        "!python -m deeppavlov install squad_bert"
      ],
      "execution_count": 38,
      "outputs": [
        {
          "output_type": "stream",
          "text": [
            "2020-05-03 07:10:48.769 INFO in 'deeppavlov.core.common.file'['file'] at line 32: Interpreting 'squad_bert' as '/usr/local/lib/python3.6/dist-packages/deeppavlov/configs/squad/squad_bert.json'\n",
            "Requirement already satisfied: tensorflow==1.15.2 in /usr/local/lib/python3.6/dist-packages (1.15.2)\n",
            "Requirement already satisfied: tensorboard<1.16.0,>=1.15.0 in /usr/local/lib/python3.6/dist-packages (from tensorflow==1.15.2) (1.15.0)\n",
            "Requirement already satisfied: wrapt>=1.11.1 in /usr/local/lib/python3.6/dist-packages (from tensorflow==1.15.2) (1.12.1)\n",
            "Requirement already satisfied: astor>=0.6.0 in /usr/local/lib/python3.6/dist-packages (from tensorflow==1.15.2) (0.8.1)\n",
            "Requirement already satisfied: absl-py>=0.7.0 in /usr/local/lib/python3.6/dist-packages (from tensorflow==1.15.2) (0.9.0)\n",
            "Requirement already satisfied: termcolor>=1.1.0 in /usr/local/lib/python3.6/dist-packages (from tensorflow==1.15.2) (1.1.0)\n",
            "Requirement already satisfied: six>=1.10.0 in /usr/local/lib/python3.6/dist-packages (from tensorflow==1.15.2) (1.12.0)\n",
            "Requirement already satisfied: keras-applications>=1.0.8 in /usr/local/lib/python3.6/dist-packages (from tensorflow==1.15.2) (1.0.8)\n",
            "Requirement already satisfied: grpcio>=1.8.6 in /usr/local/lib/python3.6/dist-packages (from tensorflow==1.15.2) (1.28.1)\n",
            "Requirement already satisfied: numpy<2.0,>=1.16.0 in /usr/local/lib/python3.6/dist-packages (from tensorflow==1.15.2) (1.18.0)\n",
            "Requirement already satisfied: opt-einsum>=2.3.2 in /usr/local/lib/python3.6/dist-packages (from tensorflow==1.15.2) (3.2.1)\n",
            "Requirement already satisfied: protobuf>=3.6.1 in /usr/local/lib/python3.6/dist-packages (from tensorflow==1.15.2) (3.10.0)\n",
            "Requirement already satisfied: keras-preprocessing>=1.0.5 in /usr/local/lib/python3.6/dist-packages (from tensorflow==1.15.2) (1.1.0)\n",
            "Requirement already satisfied: wheel>=0.26; python_version >= \"3\" in /usr/local/lib/python3.6/dist-packages (from tensorflow==1.15.2) (0.34.2)\n",
            "Requirement already satisfied: gast==0.2.2 in /usr/local/lib/python3.6/dist-packages (from tensorflow==1.15.2) (0.2.2)\n",
            "Requirement already satisfied: google-pasta>=0.1.6 in /usr/local/lib/python3.6/dist-packages (from tensorflow==1.15.2) (0.2.0)\n",
            "Requirement already satisfied: tensorflow-estimator==1.15.1 in /usr/local/lib/python3.6/dist-packages (from tensorflow==1.15.2) (1.15.1)\n",
            "Requirement already satisfied: setuptools>=41.0.0 in /usr/local/lib/python3.6/dist-packages (from tensorboard<1.16.0,>=1.15.0->tensorflow==1.15.2) (46.1.3)\n",
            "Requirement already satisfied: werkzeug>=0.11.15 in /usr/local/lib/python3.6/dist-packages (from tensorboard<1.16.0,>=1.15.0->tensorflow==1.15.2) (1.0.1)\n",
            "Requirement already satisfied: markdown>=2.6.8 in /usr/local/lib/python3.6/dist-packages (from tensorboard<1.16.0,>=1.15.0->tensorflow==1.15.2) (3.2.1)\n",
            "Requirement already satisfied: h5py in /usr/local/lib/python3.6/dist-packages (from keras-applications>=1.0.8->tensorflow==1.15.2) (2.10.0)\n",
            "Collecting git+https://github.com/deepmipt/bert.git@feat/multi_gpu\n",
            "  Cloning https://github.com/deepmipt/bert.git (to revision feat/multi_gpu) to /tmp/pip-req-build-2ehcjhn7\n",
            "  Running command git clone -q https://github.com/deepmipt/bert.git /tmp/pip-req-build-2ehcjhn7\n",
            "  Running command git checkout -b feat/multi_gpu --track origin/feat/multi_gpu\n",
            "  Switched to a new branch 'feat/multi_gpu'\n",
            "  Branch 'feat/multi_gpu' set up to track remote branch 'feat/multi_gpu' from 'origin'.\n",
            "Building wheels for collected packages: bert-dp\n",
            "  Building wheel for bert-dp (setup.py) ... \u001b[?25l\u001b[?25hdone\n",
            "  Created wheel for bert-dp: filename=bert_dp-1.0-cp36-none-any.whl size=23581 sha256=ae83e20378cb186adce6f865eee9804f501058657dc9171d70f5a181aac94dc4\n",
            "  Stored in directory: /tmp/pip-ephem-wheel-cache-366pi9bb/wheels/1e/41/94/886107eaf932532594886fd8bfc9cb9d4db632e94add49d326\n",
            "Successfully built bert-dp\n",
            "Installing collected packages: bert-dp\n",
            "Successfully installed bert-dp-1.0\n"
          ],
          "name": "stdout"
        }
      ]
    },
    {
      "cell_type": "markdown",
      "metadata": {
        "id": "LKNIHy4gmqOh",
        "colab_type": "text"
      },
      "source": [
        "## Using pre trained Deep pavlov model trained on SQuAD"
      ]
    },
    {
      "cell_type": "code",
      "metadata": {
        "id": "QfEarmWbxjqx",
        "colab_type": "code",
        "outputId": "23cf6562-14c0-4c89-aa0d-92038280b8b3",
        "colab": {
          "base_uri": "https://localhost:8080/",
          "height": 1000
        }
      },
      "source": [
        "model = build_model(configs.squad.squad_bert, download = True)"
      ],
      "execution_count": 39,
      "outputs": [
        {
          "output_type": "stream",
          "text": [
            "2020-05-03 07:11:02.207 INFO in 'deeppavlov.core.data.utils'['utils'] at line 80: Downloading from http://files.deeppavlov.ai/deeppavlov_data/bert/cased_L-12_H-768_A-12.zip to /root/.deeppavlov/downloads/cased_L-12_H-768_A-12.zip\n",
            "100%|██████████| 404M/404M [01:02<00:00, 6.44MB/s]\n",
            "2020-05-03 07:12:04.975 INFO in 'deeppavlov.core.data.utils'['utils'] at line 242: Extracting /root/.deeppavlov/downloads/cased_L-12_H-768_A-12.zip archive into /root/.deeppavlov/downloads/bert_models\n",
            "2020-05-03 07:12:09.524 INFO in 'deeppavlov.core.data.utils'['utils'] at line 80: Downloading from http://files.deeppavlov.ai/deeppavlov_data/squad_bert.tar.gz to /root/.deeppavlov/squad_bert.tar.gz\n",
            "100%|██████████| 402M/402M [01:11<00:00, 5.61MB/s]\n",
            "2020-05-03 07:13:21.228 INFO in 'deeppavlov.core.data.utils'['utils'] at line 242: Extracting /root/.deeppavlov/squad_bert.tar.gz archive into /root/.deeppavlov/models\n",
            "[nltk_data] Downloading package punkt to /root/nltk_data...\n",
            "[nltk_data]   Unzipping tokenizers/punkt.zip.\n"
          ],
          "name": "stderr"
        },
        {
          "output_type": "stream",
          "text": [
            "WARNING:tensorflow:From /usr/local/lib/python3.6/dist-packages/bert_dp/tokenization.py:125: The name tf.gfile.GFile is deprecated. Please use tf.io.gfile.GFile instead.\n",
            "\n"
          ],
          "name": "stdout"
        },
        {
          "output_type": "stream",
          "text": [
            "[nltk_data] Downloading package stopwords to /root/nltk_data...\n",
            "[nltk_data]   Unzipping corpora/stopwords.zip.\n",
            "[nltk_data] Downloading package perluniprops to /root/nltk_data...\n",
            "[nltk_data]   Unzipping misc/perluniprops.zip.\n",
            "[nltk_data] Downloading package nonbreaking_prefixes to\n",
            "[nltk_data]     /root/nltk_data...\n",
            "[nltk_data]   Unzipping corpora/nonbreaking_prefixes.zip.\n"
          ],
          "name": "stderr"
        },
        {
          "output_type": "stream",
          "text": [
            "WARNING:tensorflow:From /usr/local/lib/python3.6/dist-packages/deeppavlov/core/models/tf_model.py:37: The name tf.Session is deprecated. Please use tf.compat.v1.Session instead.\n",
            "\n",
            "WARNING:tensorflow:From /usr/local/lib/python3.6/dist-packages/deeppavlov/core/models/tf_model.py:222: The name tf.placeholder is deprecated. Please use tf.compat.v1.placeholder instead.\n",
            "\n",
            "WARNING:tensorflow:From /usr/local/lib/python3.6/dist-packages/deeppavlov/core/models/tf_model.py:222: The name tf.train.Optimizer is deprecated. Please use tf.compat.v1.train.Optimizer instead.\n",
            "\n",
            "WARNING:tensorflow:From /usr/local/lib/python3.6/dist-packages/deeppavlov/core/models/tf_model.py:193: The name tf.train.AdamOptimizer is deprecated. Please use tf.compat.v1.train.AdamOptimizer instead.\n",
            "\n",
            "WARNING:tensorflow:From /usr/local/lib/python3.6/dist-packages/deeppavlov/models/bert/bert_squad.py:81: The name tf.ConfigProto is deprecated. Please use tf.compat.v1.ConfigProto instead.\n",
            "\n",
            "WARNING:tensorflow:From /usr/local/lib/python3.6/dist-packages/deeppavlov/models/bert/bert_squad.py:178: The name tf.placeholder_with_default is deprecated. Please use tf.compat.v1.placeholder_with_default instead.\n",
            "\n",
            "WARNING:tensorflow:From /usr/local/lib/python3.6/dist-packages/bert_dp/modeling.py:178: The name tf.variable_scope is deprecated. Please use tf.compat.v1.variable_scope instead.\n",
            "\n",
            "WARNING:tensorflow:From /usr/local/lib/python3.6/dist-packages/bert_dp/modeling.py:418: The name tf.get_variable is deprecated. Please use tf.compat.v1.get_variable instead.\n",
            "\n",
            "WARNING:tensorflow:From /usr/local/lib/python3.6/dist-packages/bert_dp/modeling.py:499: The name tf.assert_less_equal is deprecated. Please use tf.compat.v1.assert_less_equal instead.\n",
            "\n",
            "WARNING:tensorflow:\n",
            "The TensorFlow contrib module will not be included in TensorFlow 2.0.\n",
            "For more information, please see:\n",
            "  * https://github.com/tensorflow/community/blob/master/rfcs/20180907-contrib-sunset.md\n",
            "  * https://github.com/tensorflow/addons\n",
            "  * https://github.com/tensorflow/io (for I/O related ops)\n",
            "If you depend on functionality not listed there, please file an issue.\n",
            "\n",
            "WARNING:tensorflow:From /usr/local/lib/python3.6/dist-packages/bert_dp/modeling.py:366: calling dropout (from tensorflow.python.ops.nn_ops) with keep_prob is deprecated and will be removed in a future version.\n",
            "Instructions for updating:\n",
            "Please use `rate` instead of `keep_prob`. Rate should be set to `rate = 1 - keep_prob`.\n",
            "WARNING:tensorflow:From /usr/local/lib/python3.6/dist-packages/bert_dp/modeling.py:680: dense (from tensorflow.python.layers.core) is deprecated and will be removed in a future version.\n",
            "Instructions for updating:\n",
            "Use keras.layers.Dense instead.\n",
            "WARNING:tensorflow:From /usr/local/lib/python3.6/dist-packages/tensorflow_core/python/layers/core.py:187: Layer.apply (from tensorflow.python.keras.engine.base_layer) is deprecated and will be removed in a future version.\n",
            "Instructions for updating:\n",
            "Please use `layer.__call__` method instead.\n",
            "WARNING:tensorflow:From /usr/local/lib/python3.6/dist-packages/bert_dp/modeling.py:283: The name tf.erf is deprecated. Please use tf.math.erf instead.\n",
            "\n",
            "WARNING:tensorflow:From /usr/local/lib/python3.6/dist-packages/deeppavlov/models/bert/bert_squad.py:154: The name tf.matrix_band_part is deprecated. Please use tf.linalg.band_part instead.\n",
            "\n",
            "WARNING:tensorflow:From /usr/local/lib/python3.6/dist-packages/deeppavlov/models/bert/bert_squad.py:166: softmax_cross_entropy_with_logits (from tensorflow.python.ops.nn_ops) is deprecated and will be removed in a future version.\n",
            "Instructions for updating:\n",
            "\n",
            "Future major versions of TensorFlow will allow gradients to flow\n",
            "into the labels input on backprop by default.\n",
            "\n",
            "See `tf.nn.softmax_cross_entropy_with_logits_v2`.\n",
            "\n",
            "WARNING:tensorflow:From /usr/local/lib/python3.6/dist-packages/deeppavlov/core/models/tf_model.py:234: The name tf.train.AdadeltaOptimizer is deprecated. Please use tf.compat.v1.train.AdadeltaOptimizer instead.\n",
            "\n",
            "WARNING:tensorflow:From /usr/local/lib/python3.6/dist-packages/deeppavlov/core/models/tf_model.py:127: The name tf.get_collection is deprecated. Please use tf.compat.v1.get_collection instead.\n",
            "\n",
            "WARNING:tensorflow:From /usr/local/lib/python3.6/dist-packages/deeppavlov/core/models/tf_model.py:127: The name tf.GraphKeys is deprecated. Please use tf.compat.v1.GraphKeys instead.\n",
            "\n",
            "WARNING:tensorflow:From /usr/local/lib/python3.6/dist-packages/deeppavlov/models/bert/bert_squad.py:89: The name tf.global_variables_initializer is deprecated. Please use tf.compat.v1.global_variables_initializer instead.\n",
            "\n",
            "WARNING:tensorflow:From /usr/local/lib/python3.6/dist-packages/deeppavlov/models/bert/bert_squad.py:94: checkpoint_exists (from tensorflow.python.training.checkpoint_management) is deprecated and will be removed in a future version.\n",
            "Instructions for updating:\n",
            "Use standard file APIs to check for files with this prefix.\n"
          ],
          "name": "stdout"
        },
        {
          "output_type": "stream",
          "text": [
            "2020-05-03 07:13:42.311 INFO in 'deeppavlov.core.models.tf_model'['tf_model'] at line 51: [loading model from /root/.deeppavlov/models/squad_bert/model]\n"
          ],
          "name": "stderr"
        },
        {
          "output_type": "stream",
          "text": [
            "WARNING:tensorflow:From /usr/local/lib/python3.6/dist-packages/deeppavlov/core/models/tf_model.py:54: The name tf.train.Saver is deprecated. Please use tf.compat.v1.train.Saver instead.\n",
            "\n",
            "INFO:tensorflow:Restoring parameters from /root/.deeppavlov/models/squad_bert/model\n"
          ],
          "name": "stdout"
        }
      ]
    },
    {
      "cell_type": "code",
      "metadata": {
        "id": "a_1S1oqFtgYr",
        "colab_type": "code",
        "outputId": "62179d3f-8e04-4416-8b77-55ebe5aff649",
        "colab": {
          "base_uri": "https://localhost:8080/",
          "height": 35
        }
      },
      "source": [
        "import tensorflow\n",
        "tensorflow.__version__"
      ],
      "execution_count": 40,
      "outputs": [
        {
          "output_type": "execute_result",
          "data": {
            "text/plain": [
              "'1.15.2'"
            ]
          },
          "metadata": {
            "tags": []
          },
          "execution_count": 40
        }
      ]
    },
    {
      "cell_type": "code",
      "metadata": {
        "id": "5E9XaHbltzLb",
        "colab_type": "code",
        "outputId": "d362832a-0198-4c7c-8372-dc6fdc8dcf86",
        "colab": {
          "base_uri": "https://localhost:8080/",
          "height": 35
        }
      },
      "source": [
        "pd.__version__"
      ],
      "execution_count": 41,
      "outputs": [
        {
          "output_type": "execute_result",
          "data": {
            "text/plain": [
              "'0.25.3'"
            ]
          },
          "metadata": {
            "tags": []
          },
          "execution_count": 41
        }
      ]
    },
    {
      "cell_type": "code",
      "metadata": {
        "id": "5gRk0V7l7WP8",
        "colab_type": "code",
        "colab": {}
      },
      "source": [
        "#!pip uninstall tensorflow -y\n",
        "#!pip install tensorflow==1.15.2"
      ],
      "execution_count": 0,
      "outputs": []
    },
    {
      "cell_type": "markdown",
      "metadata": {
        "id": "pS3C7_MYm7Ta",
        "colab_type": "text"
      },
      "source": [
        "## Text prerocessing Utility methods"
      ]
    },
    {
      "cell_type": "code",
      "metadata": {
        "id": "6xXT6YK_YqeU",
        "colab_type": "code",
        "colab": {}
      },
      "source": [
        "def remove_articles(text):\n",
        "    return re.sub(r'\\b(a|an|the)\\b', ' ', text)\n",
        "\n",
        "def white_space_fix(text):\n",
        "    return ' '.join(text.split())\n",
        "\n",
        "def remove_punc(text):\n",
        "    exclude = set(string.punctuation)\n",
        "    return ''.join(ch for ch in text if ch not in exclude)\n",
        "\n",
        "def lower(text):\n",
        "    return text.lower()\n",
        "\n",
        "def normalize_answer(s: str) -> str:\n",
        "    return white_space_fix(remove_articles(remove_punc(lower(s))))"
      ],
      "execution_count": 0,
      "outputs": []
    },
    {
      "cell_type": "markdown",
      "metadata": {
        "id": "_OdXD3zAnCMT",
        "colab_type": "text"
      },
      "source": [
        "## F1 and Exact Match (EM) calculation methods"
      ]
    },
    {
      "cell_type": "code",
      "metadata": {
        "id": "Fv1efFG5mtKk",
        "colab_type": "code",
        "colab": {}
      },
      "source": [
        "def exact_match_metric(iy_predicted_list: List[str], iground_truth: str):\n",
        "  y_predicted = [normalize_answer(y_pred) for y_pred in iy_predicted_list]\n",
        "  ground_truth =  normalize_answer( iground_truth )\n",
        "  res = [ele for ele in y_predicted if(ele == ground_truth)]\n",
        "  res = [i for i in res if i] \n",
        "  return (sum([(bool(res))]))"
      ],
      "execution_count": 0,
      "outputs": []
    },
    {
      "cell_type": "code",
      "metadata": {
        "id": "XfUrYs8asfsX",
        "colab_type": "code",
        "colab": {}
      },
      "source": [
        "def f1_score_metric(iy_predicted_list: List[str], iground_truth: str):\n",
        "  f1_total = 0.0\n",
        "  precisions = []\n",
        "  recalls = []\n",
        "  f1s = []\n",
        "  y_predicted = [normalize_answer(y_pred) for y_pred in iy_predicted_list]\n",
        "  ground_truth =  normalize_answer( iground_truth )\n",
        "  \n",
        "  for prediction in y_predicted:\n",
        "      prediction_tokens = prediction.split()\n",
        "      gt_tokens = ground_truth.split()\n",
        "      #print(prediction_tokens)\n",
        "      #print(gt_tokens)\n",
        "      if len(gt_tokens) == 0 or len(prediction_tokens) == 0:\n",
        "          precisions.append(float(gt_tokens == prediction_tokens))\n",
        "          recalls.append(float(gt_tokens == prediction_tokens))\n",
        "          f1s.append(float(gt_tokens == prediction_tokens))\n",
        "          continue\n",
        "      common = Counter(prediction_tokens) & Counter(gt_tokens)\n",
        "      num_same = sum(common.values())\n",
        "      #print(common, num_same)\n",
        "      if num_same == 0:\n",
        "          precisions.append(0.0)\n",
        "          recalls.append(0.0)\n",
        "          f1s.append(0.0)\n",
        "          continue\n",
        "      precision = 1.0 * num_same / len(prediction_tokens)\n",
        "      recall = 1.0 * num_same / len(gt_tokens)\n",
        "      f1 = (2 * precision * recall) / (precision + recall)\n",
        "      f1s.append(f1)\n",
        "      precisions.append(precision)\n",
        "      recalls.append(recall)\n",
        "\n",
        "  f1_total = max(f1s)    \n",
        "  return (max(precisions), max(recalls), max(f1s))"
      ],
      "execution_count": 0,
      "outputs": []
    },
    {
      "cell_type": "markdown",
      "metadata": {
        "id": "peeUgBgJnJDA",
        "colab_type": "text"
      },
      "source": [
        "## Key function to get the predicted Answer from the Model"
      ]
    },
    {
      "cell_type": "code",
      "metadata": {
        "id": "qNQ_gBTUNgj9",
        "colab_type": "code",
        "colab": {}
      },
      "source": [
        "def get_predicted_answer(iQues, iContext, imodel, \n",
        "                         itopN_pred_ans, iRemove_word_list, id):\n",
        "  \n",
        "  \"\"\"\n",
        "  Tokenize the context containing multiple paragraphs\n",
        "  Each para  - broken to sentence\n",
        "  \"\"\"\n",
        "  paras = []\n",
        "  words = []\n",
        "  predicted_ans = \"\"\n",
        "  y_predicted_lst = []\n",
        "  \n",
        "  count_sent= 0\n",
        "  for ConextDict in iContext[id:id+1]:\n",
        "    sublist = ConextDict[\"contexts\"]\n",
        "    for i, item in enumerate(sublist):\n",
        "      sent = (item[1]) #TreebankWordDetokenizer().detokenize(item[1])\n",
        "      if((len(sent.split()) < 500) & (count_sent <= itopN_pred_ans) ):\n",
        "        #print(id, sent)\n",
        "        paras.append(sent)\n",
        "        count_sent = count_sent + 1\n",
        "      \n",
        "      \n",
        "  ##lets do the same for the question\n",
        "  ques_dict = iQues[id:id+1][0]\n",
        "  ques = (ques_dict['question'])\n",
        "\n",
        "  #get model prediction\n",
        "  predicted_ans_list = []\n",
        "  for para in paras:\n",
        "    predicted_ans = imodel([para], [ques])\n",
        "    predicted_ans_list.append(sum(predicted_ans, []))\n",
        "    #print(predicted_ans)  \n",
        "  \n",
        "  predicted_ans_list = sorted(predicted_ans_list, key = lambda x: x[2], \n",
        "                                reverse=True)\n",
        "  for i in range(count_sent-1):\n",
        "    word_list = lower(predicted_ans_list[i][0]).split()\n",
        "    predicted_ans_list[i][0] = (' '.join(\n",
        "        [i for i in word_list if i not in iRemove_word_list]))\n",
        "    y_predicted_lst.append(predicted_ans_list[i][0])\n",
        "  \n",
        "  \n",
        "  actual_ans = ques_dict['answer']\n",
        "  print (id, len(y_predicted_lst), y_predicted_lst, ',' ,normalize_answer( actual_ans ))\n",
        "\n",
        "  EM = exact_match_metric(y_predicted_lst, actual_ans)\n",
        "  precision, recall, f1 = f1_score_metric(y_predicted_lst, actual_ans)\n",
        "\n",
        "  return  y_predicted_lst, [normalize_answer(actual_ans), normalize_answer(ques), EM, precision, recall, f1]\n"
      ],
      "execution_count": 0,
      "outputs": []
    },
    {
      "cell_type": "markdown",
      "metadata": {
        "id": "AVKOsHggnPQ1",
        "colab_type": "text"
      },
      "source": [
        "# Run the model on Dev Data - only first 200 records due to RAM size and time limitation"
      ]
    },
    {
      "cell_type": "code",
      "metadata": {
        "id": "_HUxA4Tgxudw",
        "colab_type": "code",
        "outputId": "84717001-bcdb-4ecf-a374-ba7471758afc",
        "colab": {
          "base_uri": "https://localhost:8080/",
          "height": 72
        }
      },
      "source": [
        "deemed_outlier_index_dev = index_list_long_ques_dev +  index_list_long_ans_dev\n",
        "deemed_outlier_index_dev = list(set(deemed_outlier_index_dev)) #remove duplicates\n",
        "print(len(deemed_outlier_index_dev))\n",
        "print((deemed_outlier_index_dev))"
      ],
      "execution_count": 67,
      "outputs": [
        {
          "output_type": "stream",
          "text": [
            "157\n",
            "[1540, 2053, 519, 2569, 1548, 1549, 16, 528, 22, 2070, 1055, 2080, 33, 543, 556, 47, 2608, 563, 2611, 2101, 1589, 2618, 2107, 2619, 2113, 1090, 1091, 73, 2638, 80, 1622, 2139, 2146, 614, 1639, 618, 619, 1137, 1650, 1140, 1652, 2164, 1655, 120, 1662, 639, 643, 135, 652, 1677, 1678, 655, 1680, 1681, 663, 1687, 1690, 155, 1179, 1182, 1697, 2721, 2729, 1199, 1201, 2227, 2231, 1210, 1731, 1222, 198, 724, 725, 1237, 2264, 2776, 219, 220, 1755, 234, 2287, 2299, 1788, 1279, 1792, 257, 1798, 2311, 2825, 1294, 784, 2322, 2838, 1816, 2842, 797, 798, 1310, 1823, 2848, 800, 2342, 2344, 299, 1839, 1840, 2352, 821, 1341, 1343, 2375, 2887, 845, 343, 1368, 2903, 347, 1886, 1893, 2920, 360, 1390, 1904, 374, 1912, 1402, 890, 381, 897, 1936, 913, 1426, 2967, 2971, 1950, 930, 2988, 2477, 2989, 945, 1460, 2485, 2491, 967, 1484, 1485, 2001, 2523, 478, 2014, 2527, 995, 486, 1517, 1532, 1021, 1022]\n"
          ],
          "name": "stdout"
        }
      ]
    },
    {
      "cell_type": "code",
      "metadata": {
        "id": "BFRG8fjhzHv4",
        "colab_type": "code",
        "outputId": "53fb04e9-7d81-4ff0-f76a-7601633d8d4e",
        "colab": {
          "base_uri": "https://localhost:8080/",
          "height": 35
        }
      },
      "source": [
        "# ignore outliers\n",
        "devQtmp = [i for j, i in enumerate(devQ) if j not in deemed_outlier_index_dev]\n",
        "devSCtmp = [i for j, i in enumerate(devSC) if j not in deemed_outlier_index_dev]\n",
        "print (len(devQtmp), len (devSCtmp))"
      ],
      "execution_count": 68,
      "outputs": [
        {
          "output_type": "stream",
          "text": [
            "2843 2843\n"
          ],
          "name": "stdout"
        }
      ]
    },
    {
      "cell_type": "code",
      "metadata": {
        "id": "RU-taAfw218_",
        "colab_type": "code",
        "outputId": "cdc51eac-da1c-4e4c-b9de-e3e7a9772706",
        "colab": {
          "base_uri": "https://localhost:8080/",
          "height": 159
        }
      },
      "source": [
        "devQtmp[:2]"
      ],
      "execution_count": 69,
      "outputs": [
        {
          "output_type": "execute_result",
          "data": {
            "text/plain": [
              "[{'answer': 'tetanus',\n",
              "  'question': 'Lockjaw is another name for which disease',\n",
              "  'tags': ['1tok', 'yes-answer-long', 'yes-answer-short'],\n",
              "  'uid': 's3q1674'},\n",
              " {'answer': 'leek',\n",
              "  'question': 'Which vegetable is a Welsh emblem ?',\n",
              "  'tags': ['1tok'],\n",
              "  'uid': 's3q18157'}]"
            ]
          },
          "metadata": {
            "tags": []
          },
          "execution_count": 69
        }
      ]
    },
    {
      "cell_type": "code",
      "metadata": {
        "id": "HQb8eeZjSH8L",
        "colab_type": "code",
        "outputId": "331eb6f2-1fda-4c3f-a3cc-d1a294c6aed4",
        "colab": {
          "base_uri": "https://localhost:8080/",
          "height": 1000
        }
      },
      "source": [
        "import time\n",
        "\n",
        "#using top 5 scored passages as per QUASAR dataset  \n",
        "itopN_pred_ans = 19\n",
        "#using only first 200 records due to RAM and runtime limitation\n",
        "n_records = 200\n",
        "\n",
        "#some special chars related to brackets are removed\n",
        "Remove_word_list = ['lrb-' , '-rrb', '-lrb-', '-lsb-', '-rrb-', '-rsb-']\n",
        "\n",
        "pred_ans_list_col_names = {}\n",
        "\n",
        "\"\"\"\n",
        "  build the dataframe to store the results\n",
        "  df_pred - storing predicted ans based on the itopN_pred_ans passages count\n",
        "  df_metrics - storing prediction metrics\n",
        "\"\"\"\n",
        "#initializing the dataframes\n",
        "for i in range(itopN_pred_ans):\n",
        "  pred_ans_list_col_names[('pred_ans_' + str(i))] = []\n",
        "\n",
        "df_pred= pd.DataFrame(pred_ans_list_col_names)\n",
        "df_metrics = pd.DataFrame({'actual_ans': [], 'actual_ques': [], 'EM': [], 'precision': [], 'recall': [], 'f1': []})\n",
        "\n",
        "\"\"\"\n",
        " Running prediction loop\n",
        "\"\"\"\n",
        "t1 = time.time() #time it\n",
        "\n",
        "count = 0\n",
        "for id in range(len(devQtmp)):\n",
        "  pred, metrics = get_predicted_answer(devQtmp, devSCtmp, model, itopN_pred_ans, Remove_word_list, id)\n",
        "  count = count + 1\n",
        "  if (count >= n_records):\n",
        "    break\n",
        "  \n",
        "  for i in  range(len(pred)):\n",
        "    pred_ans_list_col_names[('pred_ans_' + str(i))] = pred[i]\n",
        "\n",
        "  df_pred = df_pred.append(pred_ans_list_col_names, ignore_index=True)\n",
        "\n",
        "  df_metrics = df_metrics.append({'actual_ans': metrics[0], 'actual_ques': metrics[1], 'EM': metrics[2], \n",
        "                              'precision': metrics[3], 'recall': metrics[4], 'f1': metrics[5]}, ignore_index=True)\n",
        "\n",
        "t2 = time.time()\n",
        "print('Time for whole code to run: ', (t2-t1))"
      ],
      "execution_count": 81,
      "outputs": [
        {
          "output_type": "stream",
          "text": [
            "0 19 ['tetanus tetanus', 'tetanus', 'tetanus', 'tetanus', 'tetanus', 'tetanus', 'tetanus', 'tetanusdisease', 'tetanus', 'tetanus', 'tetanus', 'tetanus', 'rrb', 'tetanus', 'clostridium tetani', 'clostridium tetani', '', 'diphtheria', 'diphtheria'] , tetanus\n",
            "1 19 ['vidalia sweet onion', 'vidalia sweet onion', 'allium porrum', 'allium porrum', 'leek', 'the leek', 'ostrich', 'allium porrum', 'ostrich', 'the leek', 'the leek', 'ostrich', 'ostrich', 'leek', 'ostrich', '', '', '', ''] , leek\n",
            "2 19 ['star wars', 'the guns of navarone', 'star wars', 'streets of philadelphia', 'james bond girls', 'james bond', 'james bond', 'james bond', 'james bond girls', 'james bond girls', 'stanley kubrick', 'james bond girls', '', '', '', '', '', '', ''] , guns of naverone\n",
            "3 18 ['dock of the bay hit no. 1', \"sittin ' on the dock of the bay\", \"sittin ' on the dock of the bay\", 'the jimi hendrix experience', \"` sittin ' on the dock of the bay '\", 'the biggest savings of the week', 'sittin on', '1965', '', \"' sittin ' on the dock of the bay\", 'try a little tenderness chained and bound chained and bound', \"' sittin ' on the dock of the bay\", \"the kazoo story what it 's like to try and break a world record\", '', 'otis blue', '', '', ''] , sitting on dock of bay\n",
            "4 19 ['king henry viii', 'herod', 'herod antipas', 'the jewish sanhedrin', 'herod philip ii', 'herod the great', 'herod the great', 'herod antipas', 'herod the great', 'herod the great', 'herod the great', 'his niece salome , the daughter of herodias and herod philip i', 'king herod the great', 'king herod', \"herod the great 's execution of his hasmonean sons , alexander and aristobulus iv\", 'machaerus', 'herod antipas', 'herod philip ii salome i', 'herod'] , king herod\n",
            "5 19 [\"shirley jones 's eldest son , keith partridge\", 'rudolph the red-nosed reindeer', \"shirley jones 's eldest son , keith partridge\", 'danny bonaduce', 'shirley jones', 'keith partridge', 'keith partridge', 'shirley jones', 'michael richards', 'shirley jones', 'shirley jones', 'robert loggia', 'shirley jones', \"william ` will ' krudski\", 'keith partridge', 'shirley jones', 'gordon macrae jack cassidy robert preston pat boone', '', ''] , keith partridge\n",
            "6 19 ['glitter from fireworks', 'the ancient chinese used sulphur as a medicine', 'bamboo stems were burnt to create small explosions in order to drive away evil spirits', 'to celebrate festivals and happy occasions', 'loud banging sounds', 'it comes out of hiding to attack people , especially children . the nian is sensitive to loud noises', 'afraid of red , fire and noisy sound', 'chinese zodiac', '', 'blue flames', '', '', 'chinese new year party decoration', '', '', '', '', 'anyone that plucked up the plunder got triggered sky high on a wave of thunder', 'the state administration of work safety said on tuesday that the use of fireworks is absolutely banned in public entertainment venues'] , fire alarms\n",
            "7 19 ['grand rapids , minnesota', 'lancaster , california', 'chicago , illinois', \"chicago world 's fair\", 'the palace in chicago , illinois', 'village of oak creek', 'metro-goldwyn-mayer', 'grand rapids , minnesota', 'grand rapids , minnesota', \"new york 's capitol theater\", 'a local barn', 'capitol theater', '', 'grand rapids , minnesota , usa', '', '', '', '', '1 observing their family to come up with material for the skit'] , new grand theater\n",
            "8 19 ['ball to honor their gods', 'ulama', 'basketball', 'ultimate mind boggling , brain teaser', 'double-doubles', '', '', 'junior college ball', '', '', '', '', '', '', '', '', '', '', 'online basketball'] , basketball\n",
            "9 19 ['seine martime', 'franciscopolis', 'seine-maritime', 'dieppe', 'le havre', 'origin burgundy mouth', 'seine-maritime', 'origin burgundy mouth', 'seine-maritime', 'seine-maritime arrondissement', 'le havre', 'le havre', 'origin burgundy mouth', 'origin burgundy mouth', 'rouens', 'rhein', '', 'la seine', 'by river'] , le havre\n",
            "10 19 ['300', 'fifty', '40', '', '619 -- 650', '', '', '', '', '', '', '', '', '', '', '', '3,000 objects , which were displayed in their baltimore apartments . the highlight is a group of 500', '', ''] , 100000\n",
            "11 19 ['ethanol fuel renewable energy', 'definitions source definition oxford dictionary', 'technology', 'energy hydrogen fuel cell electric bike', 'bio fuel is the fuel of the future because it renewable and wont run out', 'alternative fuels must be developed and used to prevent further damage to nature', 'cleanenergy-project', 'sustainable living', '', '', 'hypermiling definition techniques', '', '', '', '', '', 'greenhouse-gas', 'alternate energy', ''] , alternative\n",
            "12 19 ['monkey puzzle tree', 'bunya-bunya tree , false monkey puzzle tree', 'araucariaceae', 'araucaria araucana', 'monkey-puzzle tree', 'araucaria araucana', 'monkey puzzle tree', 's abies concolor white fir', '', '', 'cone-bearing trees , most of them too tender for our winters . a. imbricata', '', '', 'araucaria araucana', 'araucaria araucana', 'monkey puzzle tree', '', '', ''] , monkey puzzle tree\n",
            "13 19 ['cancer', 'a penis that is outside this range is not abnormal', 'males who weigh over twenty pounds with females generally smaller though still considerably larger than the average housecat', \"the penis is n't a muscle\", 'blood supply', 'it is rare', 'variant of dick', 'sexually orientated', 'sexual potency and fertility among their own species', '', '', 'they inhabit one or two rooms of grey gardens , cooking on a hotplate and singing off key show tunes', 'hairier mouse with longer penis overexpressed gene', '', '', '', '', '', ''] , contains bone\n",
            "14 19 ['wilfred owen', 'wilfred owen', 'wilfred owen', 'wilfred owen', 'wilfred owen', 'wilfred owen', 'wilfred owen', 'wilfred owen', 'wilfred owen', 'christina rossetti', 'wilfred owen', 'mildred achoch', 'wilfred owen', 'wilfred owen', 'the boy', 'siegfried sassoon', 'the history teacher', 'siegfried sassoon', 'wilfred owen'] , wilfred owen\n",
            "15 19 ['piezoelectric amethyst', 'piezoelectric amethyst', 'piezoelectric amethyst', 'piezoelectric amethyst', 'purple color', '', 'amethyst amethyst', 'green', '', '', '', 'citrine amethyst', '', '', 'amethyst citrine amethyst amethyst', 'rose', '', '', 'oriental amethyst , or purple sapphire'] , amethyst\n",
            "16 19 ['n. rimsky-korsakov', 'roberto william', 'mikhail glinka', 'mikhail glinka', 'rimsky-korsakov', 'nikolai rimsky-korsakov', 'rimsky-korsakov', 'marge wheeler', 'rimsky-korsakov', 'nikolai rimsky-korsakov', 'nikolai rimsky-korsakov', 'nikolai rimsky-korsakov', 'nikolai rimsky-korsakov', 'nikolai rimsky-korsakov', 'nikolai rimsky-korsakov', '', 'nikolai andreyevich rimsky-korsakov', '', ''] , nicolai rimsky korsakov\n",
            "17 19 ['idaho', 'jasper national park', 'mozambique', 'republic of moldova', 'idaho', 'idaho in the united states of america', '', '', 'idaho', 'united states state washington', '', '', 'louisiana', 'usa', '', 'colombia', 'snake river valley ava , southern oregon', '', 'idaho'] , usa\n",
            "18 19 ['amman international', 'the hashemite kingdom of jordan amman', 'amman', 'hashemite kingdom of jordan', 'amman', 'jabal amman', 'hashemite kingdom of jordan', 'am', '', 'hashemite kingdom of jordan', 'lawrence of arabia', 'am', 'amman is the capital city of jordan', 'jordan', 'amman', '', '', '', ''] , amman\n",
            "19 19 ['epiphone', 's', 's', 's', 'custom', 'hollow body copy', '', \"gibson 's les paul burst\", '', 'epiphone les paul special ii electric guitar or epiphone les paul standard electric guitar', '', 'black beauty', 'epiphone les paul special ii electric guitar', '', 'sell', '', 'gibson les paul studio electric guitar', '', ''] , guitar\n",
            "20 19 ['minnesotan', 'south africa', 'korean', 'usa', 'bond enthusiasts , whatever their nationality', '', 'korean-american', '', '', 'korean', '', '', '', '', '', '', '', '', ''] , korean\n",
            "21 19 ['socrates socrates socrates', 'constantin brancusi', 'socrates', 'socrates', 'thales of miletus', 'socrates', 'socrates', 'socrates', 'socrates', 'socrates', 'sophroniscus', 'socrates', 'aristotle', 'socrates', 'glaucon', 'glaucon', 'socrates and teacher of aristotle', 'socrates', 'plato'] , socrates\n",
            "22 19 ['gel', 'tylenol pm tylenol', 'therapy plus', 'sombra pain relieving gel', 'tylenol pm tylenol', 'bambino merino', 'maxidone', 'sombra pain relieving gel', '', 'opana for chronic pain', '', 'gel - warm therapy', \"kool 'n fit sport formula spray analgesic\", '', '', '', 'extra-strength tylenol', '', ''] , tylenol\n",
            "23 19 ['gone with the wind', 'gone with the wind the story behind gone with the wind', 'gone with the wind', 'gone with the wind', 'tara', 'gone with the wind', 'gone with the wind', 'the born survivors of gone with the wind', 'gone with the wind', 'gone with the wind', 'gone with the wind', 'uprising', \"this short , thoughtful novel , written as mary 's travel diary\", 'snap !', 'pop !', \"margaret mitchell 's biography\", 'gone with the wind', 'survival', '` that only a mother'] , gone with wind\n",
            "24 19 ['buffalo', 'wolf creek', 'apha sorrel tovero filly', 'american saddlebred mare', \"skips burnett '' aka `` buck\", 'half moon thunder', 'great little dun mare', '', '', '', '', '', '', 'mares', 'mares', '', '', '', 'market for a `` well bred mutt'] , gelding\n",
            "25 19 ['tobacco leaves', 'tobacco leaves', 'n. tabacum', 'peppermint & spearmint flavors', 'leaf', 'mint', 'hand picked tobacco leaves', 'sparrow green tobacco is made from specially selected tobacco leaves', 'sweet mild tobacco snuff', 'mint', 'nasal snuff is made from the same high quality leaf', '', 'weed', '', '', 'mint', '', 'cigar tobacco seed', ''] , tobacco\n",
            "26 19 ['mesozoic', 'carboniferous', 'early carboniferous', 'carboniferous - new world encyclopedia carboniferous', 'devonian period', 'carboniferous', 'carboniferous', 'carboniferous period', 'permo-carboniferous sandstone reservoirs , which onlap the structure and the jurassic and permian', 'carboniferous period', 'carboniferous period', 'carboniferous , the jurassic period', 'carboniferous', 'jurassic', 'pre-carboniferous', 'devonian', 'carboniferous', 'carboniferous', \"carboniferous land ecology christopher scotese 's cool maps of the early carboniferous\"] , carboniferous\n",
            "27 19 ['diseases', 'diseases', 'vaccine storage & handling guidelines', 'anti-measles vaccine , three doses of hepatitis b vaccine', 'possible future attack by the same pathogen', 'group b meningococcus', '', 'bcg diphtheria hib men c mmr pneumococcal disease', '', 'stop the growth of foreign bacteria', '', 'what is the risk of side effects from a vaccine', 'bcg diphtheria hib men c mmr pneumococcal disease', '', 'bcg diphtheria hib men c mmr pneumococcal disease', 'bcg diphtheria hib men c mmr pneumococcal disease', 'certain diseases', '', ''] , tuberculosis\n",
            "28 19 ['domovoi', 'domovoi', 'rum spirit', \"devil 's torment\", 'kill devil', 'wright brothers', 'bloody mary', 'wright brothers', '', 'kill devil', 'wright brothers', 'jamaican rum', '', '', '', 'wright brothers', '', '', 'absinthe'] , rum\n",
            "29 19 ['mark mccormack', 'arnold palmer', 'arnold palmer', 'mark mccormack', 'jack nicklaus', 'arnold palmer', 'arnold palmer', 'eldrick tont woods', 'arnold palmer', '', '', 'arnold palmer', 'arnold palmer', 'barack obama', '', 'nicholas raymond leige price', '', 'bobby jones', ''] , arnold palmer\n",
            "30 19 ['brain and body', 'peace and balance', 'it isn the master key that unlocks the heart', 'our brain', 'compassion', 'delirium essential tremor', 'migraine', 'abnormality access acute disease', \"it all happens when love neurons ' are firing in your brain , simultaneously releasing a series of body chemicals\", 'how your loved one thinks , what he feels , who he is , and what he does', 'insurance , safety , immunizations and general well being', 'people who have been swept off their feet know the feeling . love makes us all feel funny', 'your brain affects your thoughts , feelings , personality , and behavior', 'alcohol affects the brain', '', 'bulimia disorder eating psychosis', 'slavery affect children today', 'living on light', ''] , brain\n",
            "31 19 ['sleeping with the past', \"` three way love affair '\", '`` island girl', '` song for guy', 'ice on fire', 'honky ch teau', 'sleeping with the past', 'breaking hearts', \"` shoulder holster '\", '', 'september 13 , 1977', \"`` believe '\", 'september 13 , 1977', 'september 13 , 1977', '', 'september 13 , 1977 recorded 1971,1974-1976', 'double a-sided sacrifice / healing hands single', '', ''] , your song\n",
            "32 19 ['', '', \"`` respect ''\", '', '', '', '', '', '', '', '', '', '', '', '', '', '', '', ''] , think\n",
            "33 19 ['death of harold', 'magnificent wooden ships', 'the duke of normandy', 'norman army', 'death of harold', 'death of harold in the battle of hastings', 'death of harold in the battle of hastings', 'death of harold in the battle of hastings', 'the raven flag', '', 'death of harold in the battle of hastings', 'invasion of england', 'king harold', 'the ong-hair star', 'norman conquest', '', 'hale-bopp', '`` battle', ''] , halleys comet\n",
            "34 19 ['rrb', 'gas', '298 k', 'gas', 'gas', 'bromine', 'thallium', 'nonmetal bromine', 'bromine', 'bromine', 'pressure', 'liquid', '80', 'aluminum antimony', 'pressure', 'lithium to caesium', 'gas', 'iron', 'electrons'] , bromine\n",
            "35 19 ['milk without rbgh growth hormones', '`` brick', 'ultra high temperature pasteurization', 'nutrition', 'french uht milk', '', '', '', 'milk', 'milk', 'milk', '', 'partial sterilization', 'ultra-high temperature processing or less often ultra-heat treatment', '', 'rrb- 10l', 'our uht milk range has something for everyone tastes', 'coast long life milk', 'long-life f'] , ultra heat treatment\n",
            "36 19 ['gander', 'gander', 'gander', 'a gander', 'gander', 'gander', 'gander', 'swans', \"deer 's rival\", 'baby goose', 'goose', 'poly', 'king of beasts', 'canada goose', 'young', 'canada goose', 'the female', '', ''] , gander\n",
            "37 19 ['ayuthaya', 'bangkok', 'bangkok', 'bangkok', 'bangkok', 'bangkok', 'bangkok', 'bangkok', 'bangkok', 'bangkok', 'old bangkok airport', 'ayutthaya', 'bangkok', '', 'bangkok', '', '', 'bangkok', 'bangkok'] , bangkok\n",
            "38 19 ['what exactly does a depilatory do ? does hair grow back thicker and faster than before', 'chemically dissolve hair', 'breaks down the bonds of hair', 'knowing the best techniques for removing this hair can help create smooth , easy results with minimal hassle', 'unwanted hair', 'ingrow go clears ingrown hairs & razor bumps fast', 'threading eyebrows', 'creams', 'excess body hair', 'hair removal', 'unwanted hair', 'all of their pubic hair', 'leg hair to get smooth legs', 'remaining creme', 'removed the hair from their whole bodies', 'hair removal depilatories can be hard to apply to your own back', 'female pubic hair removal', 'bikini trimmer bleach clipper depilatory electrolysis', 'hair removal options laser treatments for dark skin electrolysis'] , hair\n",
            "39 19 ['sensory', 'sensory', 'sensory', 'sensory', 'sensory', 'sensory', 'sensory', 'sensory', 'sensory', 'sensory', 'sensory', 'sensory', 'sensory', 'sensory', 'sensory', 'sensory', 'sensory', 'sensory', 'sensory -lrb'] , light\n",
            "40 19 ['mali', 'mali', 'mali', 'mali', 'mali', 'mali', 'mali', 'mali', 'french sudan', 'mali', 'mali', 'mali', 'rrb- mopti', 'japan', 'mali', '', 'africa', '', ''] , mali\n",
            "41 16 ['l', 'fractional exponents of a power', '1', 'now you try it', 'walsh coefficients of x ^ d thar', 'is greater than ! is lesser', '', 'a product of an exponent of the power by logarithm of its base', 'x2-5x +6 > 0', '', '0', 'zero 4', '', 'the number of ears on your head', '', ''] , one\n",
            "42 19 ['1956', '1956', '1981', '1956', '1956', '1956', '1954', '1956', '1954', '1954', '1954', '1981', '1961', '1981', '', '', '', '', '1956'] , 1956\n",
            "43 19 ['lysistrata', 'lysistrata', 'lysistrata', 'lysistrata', 'deprive their husbands of sex until they stop fighting', 'lysistrata', 'lysistrata', 'deprive their husbands of sex until they stop fighting', 'lysistrata', 'lysistrata', 'lysistrata', 'the eleven comedies', 'anne r. belk theater', 'thesmophoriazusae', 'women in the oikos : the stranger within', 'greek classic', 'women were denied political power in athens', 'empedocles and socrates', ''] , lysistrata\n",
            "44 19 ['galapagos', 'galapagos', 'galapagos islands', 'galapagos', 'galapagos', 'santa cruz islands', 'quito', 'flights to santa cruz', 'flights to santa cruz', 'casa de linford flights to santa cruz', 'tenerife golf', '', 'ecuador', 'ecuador', 'scotts valley , california', 'juhu , santa cruz , vile parle', 'bombay', '', 'visited : april 23 , 2003 to may 15 , 2003'] , bombay\n",
            "45 19 ['john rolfe', 'thomas rolfe', 'john rolfe', 'john rolfe', 'john rolfe', 'john rolfe', '1613 1580s', 'john smith', '', 'your mother and your father', 'pocahantas', 'the indian `` princess', 'pocahontas algonquian princess', '', 'pocahontas was captured by', '', 'john smith', '', ''] , john rolfe\n",
            "46 19 ['1,000 to 1,200', '1,000 to 1,200', '1,200', 'more than 1200', '1,100', '1100', '1100', '1200', '1200', '1200', '1200', 'twelve hundred', '1100', 'over 1100', '100,000', '100,000', 'hundreds', '300', 'thousands'] , 1100\n",
            "47 19 ['gall bladder', 'native american indians and hispanics', 'what', 'bile', '', '', '', '', '', '', '', 'gall bladder', '', '', '', '', 'native american indians and hispanics', '', 'native american indians and hispanics'] , gallbladder\n",
            "48 19 ['christopher lee', 'christopher lee', 'christopher lee', 'christopher lee', 'ralph bates', 'peter cushing', 'ian fleming', 'christopher frank carandini', 'wang lung', 'valentine fleming', 'jarrod cooley', 'valentine fleming', 'ian fleming', 'wang lung', '', '', 'christopher lee', '', ''] , christopher lee\n",
            "49 19 ['beetles capable of luminescence', 'luminescent beetle', 'luminescent beetle', 'luminous of the beetle family lampyridae', 'luminous insects', 'spider fireflies', 'bioluminescent , nocturnal beetles', '', '', 'the firefly is nocturnal -lrb', '', '', \"adult firefly or `` lightning bug '' a crepuscular beetle\", 'quino checkerspot butterfly', 'they are nocturnal', '', '', '', ''] , beetle\n",
            "50 19 ['he lost the election to herbert hoover', 'he lost the election to herbert hoover', 'he lost the election to herbert hoover', 'he lost the election to herbert hoover', 'he lost the election to herbert hoover', '1904', '1904', '', '1904', '', '', 'he lost the election to herbert hoover', '', 'lost', 'lost', 'lost', 'rrb', 'rrb', 'lost'] , herbert hoover\n",
            "51 19 ['the monte carlo philharmonic orchestra', 'monte carlo philharmonic orchestra', 'the monte carlo philharmonic orchestra', '', '', '', '', '', '', '', '', '', 'greek and roman', '', '', '', '', '', ''] , monaco\n",
            "52 19 ['oranges', 'gold crack jasmine myrick', 'a quince', 'amazon apples', 'running sandals', 'three', '', '', '', 'three', '', 'serpent-like dragon', '', '', '', '', 'their apples', 'daughters of nyx night', 'dragons'] , apricots\n",
            "53 19 ['find', 'the big hair do', 'misc', 'find word', 'ologies and isms : word beginnings and endings', 'webster dictionary', 'series one', 'harry potter', '', 'dictionary of old english corpus', 'harry potter', '', '', '', 'jk5', '', '', '', 'encylopedia britannica'] , muggle\n",
            "54 19 ['tate/la bianca', 'sharon tate', 'rosemary labianca', 'rosemary labianca', 'rosemary labianca', 'rosemary labianca', 'sharon tate', 'rosemary labianca', 'tate-labianca', 'wojciech frykowski', 'sharon tate', 'sharon tate', 'roman polanski', 'wojciech frykowski', 'susan atkins', 'charles watson', 'doris tate', '', 'doris tate'] , sharon tate\n",
            "55 19 ['jerusalem', 'jerusalem', 'jerusalem', 'jerusalem temple', 'jerusalem', 'jerusalem', 'jerusalem', 'jerusalem', 'al-haram-al-sharif', 'jerusalem', 'jerusalem', 'jerusalem', 'jerusalem', 'jerusalem', 'jerusalem', '', '', '', 'mecca and medina'] , jerusalem\n",
            "56 19 ['1.4 canadian loyalists', '1.4 canadian loyalists', '1.4 canadian loyalists', '1.4 canadian loyalists', '', 'the english colonists in north american had unparalleled freedom and economic opportunities', '1.4 canadian loyalists', 'during and after the american revolutionary war', '', '', '', '', 'during and after the american revolutionary war', '', 'american revolution', 'during and after the american revolutionary war .', '', 'american revolution', 'following the start of the american revolution'] , loyalist\n",
            "57 19 ['minnesota', 'new york', 'illinois', '', '', 'wisconsin', 'minnesota', 'minnesota', 'minnesota', 'minnesota', 'minnesota', 'minnesota', 'minnesota', 'minnesota', 'minnesota', 'minnesota', 'wwf wrestler . he was previously mayor of brooklyn park , minnesota', 'danny hodge', 'danny hodge'] , minnesota\n",
            "58 19 ['assassination attempt', '', 'how long', '', '', '', '', 'alphonse capone', '', '', 'carface', '', '', '', '', '', '', '', 'john torrio'] , syphilis\n",
            "59 19 ['1936', '1936', '1936', '1936', '1936', '1936', '5 october 1858', '1936', '1941', '1936', '1941', '1936', 'crystal palace', '', '', '', '', '', ''] , 1936\n",
            "60 19 ['ducati motorcycles', 'harley-davidson', 'california highway patrol', 'motorcycle police officers of the california highway patrol', 'harley-davidson xr-1200', 'motorcycle police officers of the california highway patrol', 'motorcycle police officers of the california highway patrol', 'motorcycle police officers of the california highway patrol', 'motorcycle police officers of the california highway patrol', '', '', 'motorcycle riders', 'harley-davidson , vintage motorcycles', '', '', '', '', 'honda street bikes', ''] , kawasaki\n",
            "61 19 ['stevie wonder', 'ananda shankar', 'abc jackson 5', 'eddie cooley/john davenport', 'biz markie', 'dr. john', '', '', '', '', '', '', '', '', '', '', '', '', 'jungle boogie boogie baby jungle boogie'] , beginning of end\n",
            "62 19 ['harold ii', 'harold ii', 'william', 'harold ii godwinson', 'harold , earl of wessex', 'harold ii', 'harold', 'william i', 'harold ii', 'king edward of england', 'william the conqueror', 'harold', 'william the conqueror', 'harold', '', 'harold ii successor william i', 'harold ii successor william i', 'harold ii successor william i', 'harold ii successor william i'] , william conqueror\n",
            "63 19 ['yeongnam', 'changwon', 'honam', 'capital daegu', 'jeonju jeonju-si', 'cheongju', 'seoul', '', '', 'jeju city', '', '', '', 'jeonju', 'gimcheon', 'seoul is the capital of south korea', '', 'gwangju', 'seoul national capital area dialect seoul dialect'] , seoul south korea\n",
            "64 19 ['texas', 'texas', '', 'houston , texas', '', 'dallas-fort worth , texas dallas', '', '', 'dallas', 'texas', 'texas the second court of appeals serves the fort worth , texas', '', 'texas', 'garland , texas grand prairie , texas highland park , texas houston , texas irving , texas', '', 'waco waxahachie', 'galveston | garland', 'fort worth , texas w 35-29 6-6 ? @ waco ymca ?', 'wichita falls , texas'] , texas\n",
            "65 8 ['dr paul leighton', 'paul dougherty at the brigham galleries paul dougherty', 'paul muldoon', 'paul belien', 'paul meshanko', 'paul lundahl', 'paul cezanne', ''] , paul gascoigne\n",
            "66 19 ['', '', '', '', '', '', '', '', '', '', '', '', '', '', '', '', 'moor , native american , black , gypsies , roma , romani', 'romany-speaking european gypsies', ''] , gypsy\n",
            "67 19 ['madison', 'madison', 'madison', 'madison', 'madison', 'madison', 'madison', '1901 fish hatchery road', 'madison', '', 'wisconsin state journal', 'madison', '', '', '', '', '', 'university of wisconsin', ''] , madison\n",
            "68 19 ['the wizard of oz', 'greg berg', 'greg berg', 'greg berg', 'porky pig', 'greg berg', 'greg berg', 'greg berg', 'kermit the frog', 'puppeteer', 'puppeteer', 'puppeteer', '', 'lee', 'lee', '', 'lee', 'dorothy gale', 'rrb- waldorf'] , miss piggy in muppets\n",
            "69 19 ['kyiv', 'kyiv', 'kyiv kiev', 'kiev oblast province', 'moscow', 'cherkassy', 'kiev', 'kiev', 'kiev', 'kiev', 'kiev', 'kiev', 'kiev', 'kiev', 'kiev', 'kiev', 'oblast', 'kiev', 'kiev - wikipedia , the free encyclopedia kiev'] , kiev\n",
            "70 19 ['kids', 'kids', 'sheep', 'goat kids', 'african pygmy goat african pygmy goats are a race of the domestic goat', 'sheep', 'goat milk', '', 'if bred july 4', '', '', 'small ruminants by susan schoenian sheep', 'sheep', 'boer goat breed', 'goats', '', 'newborn', 'sheep', 'pygmy'] , kid\n",
            "71 19 ['home health & wellness', 'abnormal electrical activity in the brain', '', 'blackness was a virtue and the road was full of mud', '', '', '', '', '', 'abnormal electrical activity in the brain', '', '', '', '', '', '', '', '', 'the resurrection'] , epilepsy\n",
            "72 19 ['thunderclap newman', 'thunderclap newman', 'thunderclap newman', 'love sculpture', 'the beatles', 'elvis presley', 'the beatles', 'the beatles', 'wings , thunderclap newman , stone the crows , small faces , the dukes', 'pete townshend', '', '', '', 'wings', '', '', 'pete townshend', 'pete townshend', ''] , thunderclap newman\n",
            "73 19 ['andorra la vella', 'andorra la vella', 'andorra la vella', 'andorra la vella', 'andorra la vella', 'la vella', 'co-principality of andorra', 'co-principality of andorra', 'andorra la vella is the capital of the co-principality of andorra', 'andorra la vella', 'andorra la vella', 'taipei', '', '', '', 'andorra la vella', 'andorra la vella is the capital of the co-principality of andorra', '', ''] , andorra la vella\n",
            "74 19 ['portable', 'compaq portable', 'compaq portable', 'compaq portable', '', '', '', '', '', '', '', '', '', '', '', 'a fairly small portable computer that can open and close', 'when was the first suitcase studio developed ?', 'low cost', ''] , portable computer\n",
            "75 19 ['just as the sun is going down', 'months', 'lunar eclipses', 'lunar eclipses', 'lunar eclipses', 'lunar eclipses', 'lunar eclipses', 'one half of the lunar surface is always illuminated by the sun except during lunar eclipses', 'lunar eclipses', 'lunar eclipses', 'one half of the lunar surface is always illuminated by the sun except during lunar eclipses', 'lunar eclipses', 'lunar eclipses', 'lunar eclipses', 'lunar eclipses', 'lunar eclipses', 'one half of the lunar surface is always illuminated by the sun except during lunar eclipses', 'one half of the lunar surface is always illuminated by the sun except during lunar eclipses', 'last or 3rd quarter'] , sunset\n",
            "76 19 ['escaped babies', 'live babies', '', '', '', '', '', '', '', '', 'live young', 'females', 'rats', 'live young', '12 young per litter', '', '', \"burmese pythons are typically 18 '' to 24 '' long at birth .\", ''] , 85 babies\n",
            "77 19 ['1876', '1876', '1876', '1876', '1876', '1876', '1876', '1876', '1876', '1876', '1876', '1876', '1876', '1876', '1876', '1876', '1876', '1876', '1876'] , st louis\n",
            "78 19 ['sodium latin natrium', 'sodium latin natrium', 'sodium latin natrium', 'sodium latin natrium', 'sodium -lrb', 'sodium -lrb', 'sodium latin natrium', 'sodium', 'sodiumfacts about sodium sodium', 'sodium -lrb', 'sodium latin natrium', 'sodium latin natrium', '', '', '', 'neon , oxygen , carbon , and sodium', '', 'atoms which contain the same number of protons', ''] , sodium\n",
            "79 19 ['himyar', \"shem , noah 's eldest son\", 'japheth', \"shem , noah 's eldest son\", \"shem , noah 's eldest son\", 'greek', 'middle eastern ancestral population', 'shem', 'abraham', 'the people of the ark', 'shem , ham , and japheth', 'semitic languages', 'noah', '', '', '', 'noah', 'noah', 'arabs'] , shem noahs son\n",
            "80 19 ['random access memory', 'the driver software', 'free encyclopedia', 'random access memory digital-to-analog converter', 'ram digital-to-analog converter', 'random access memory', 'display output', '3-d ram video ram', 'excellence in computing honesty ~ integrity', '', 'magnetic ink character recognition', '', 'pc hardware frequently asked questions', 'idion', '', '', '', '', 'informatic'] , random access memory digital to analogue\n",
            "81 19 ['animals', 'mammals', 'assemblage', 'lsb- things -rsb', 'a colony of ants', 'a-k - wikipedia', '', '', '', 'collective bargai', '', 'wikipedia , the free encyclopedia', 'wikipedia , the free encyclopedia', '` group', '', 'wikipedia , the free encyclopedia', 'skulk', 'wikipedia , the free encyclopedia', ''] , mules\n",
            "82 19 ['spain', 'french', 'west indies', 'france', 'west indies', 'spain', 'spain', 'french', 'italy', 'west indies', 'french', 'bourges', 'padua', 'peru', '', '', 'versailles', '', 'france'] , west indies\n",
            "83 19 ['rocket man', 'bennie and the jets', 'elton john', 'john , elton -lrb', 'elton john', '', 'elton john', 'elton john', '', 'elton john', '', 'elton john', '', 'elton john', '', '', 'elton john', '', ''] , elton john\n",
            "84 19 ['peter halvorson', 'jacques fabian gautier', 'jean guilaine -lsb', 'liviu marinescu', 'dr. michael echols', 'bart hughes', '', '', '', 'philip pullman', '', 'robert t. carroll', 'dr. every', '', '', 'the laser', 'trepanning , gundrilling , boring trepanning specialties inc.', '', ''] , dr bart hughes\n",
            "85 19 ['ashgabat', 'ashgabat', 'ashgabat', 'and largest city ashgabat', 'ashgabat', 'ashgabat', 'ashgabat ashkhabad', 'and largest city ashgabat', 'ashgabat', 'ashgabat', 'tajikistan', 'ashgabat is the national capital of turkmenistan', 'turkmen soviet socialist republic', 'economy country profiles home', 'ashkhabad', 'kabul brazzaville tbilisi', 'ashgabat', 'turkmenistan', 'tu'] , ashgabat\n",
            "86 19 ['leaves of grass', 'phrenology', 'phrenology', 'rrb', 'phrenology', 'victorian science and nature', 'explorations in medicine', 'phrenology', 'phrenology phrenology', 'phrenology', 'physiognomy navigator', 'lrb', 'phrenology', 'scientists probe the inside of the head for answers', '', 'phrenology', 'phrenology we do not take the study of human personality', 'reading -lrb', 'lrb'] , phrenology\n",
            "87 19 ['mathew prichard', 'mary westmacott', 'agatha christie', 'eric butler', 'mary westmacott', 'mary westmacott christie facts christie week 2008 christie', 'baron wildenhaim', 'agatha christie', 'agatha christie', 'agatha christie', 'agatha christie', 'hercule poirot', 'mary westmacott christie facts christie week 2008 christie', 'agatha christie', 'the murder of roger ackroyd', 'agatha christie', 'agatha christie', 'mary westmacott christie facts christie week 2008 christie', 'agatha christie'] , agatha christie\n",
            "88 19 ['eighteen-ninety-six', '1908', '1908', '1911', '1921', '1896', '1956', '1896', 'june 4 , 1896', 'june 4 , 1896', 'june 4 , 1896', '1890', '1878', 'nineteen-oh-three', '1908 to 1927', '1896', '20th century', '1902', ''] , 1896\n",
            "89 19 ['chinatown', 'chinatown', 'chinatown', 'chinatown', 'chinatown', 'chinatown', 'chinatown', 'chinatown', '', 'easy rider 1969', 'jake gittes', 'what', '', '', '', '', 'john huston', '', 'chinatown'] , chinatown\n",
            "90 19 ['take a bath', 'go to jail . he must go directly to jail', 'protect your family in any disaster - natural or man-made', 'every woman must `` be found to be wearing a corset', 'who', 'who', 'present all of his or her', '', '', '', 'kentucky primary law', '', '', '', '', 'kentucky state law', '', '', 'maintain and improve the administration of justice'] , take bath\n",
            "91 19 ['huntington', '', '', '', '', '', '', '', '', '', '', '', '', '', '', '', '', '', ''] , architect\n",
            "92 19 ['traditional and modern garden mazes', 'long view', 'replica of the chartres cathedral labyrinth', 'unicursal maze', 'all sorts of nations and periods', 'mazes', 'unicursal mazes', '', 'unknown category', 'hedge mazes', '', '', 'turf mazes', 'stone labyrinths and rock engravings', '', 'ancient and modern mazes and patterns', '', 'maze', 'historic labyrinths and mazes'] , mazes\n",
            "93 19 ['rocky mountains', 'aspen mountain', 'wasatch', 'beavercreek mountain', 'colorado rocky mountains', 'taconic', '', 'ruby mountain range', 'the rocky mountains', '', '', 'laurentian mountains', 'gallatin range big sky', 'snowbasin', '', '', '', '', 'rocky mountains'] , rocky mountains\n",
            "94 19 ['thomas alva edison', 'thomas alva edison', 'warren de la rue', 'robert hooke', 'humphry davy', 'thomas edison', 'humphry davy', 'joseph swan', 'sir joseph wilson swan', 'sir joseph wilson swan', 'sir joseph wilson swan', 'sir joseph wilson swan', 'sir joseph wilson swan', 'warren de la rue', 'humphry davy', 'sir joseph wilson swan', 'humphry davy', '', 'john bennet lawes'] , joseph swan\n",
            "95 19 ['dog', 'sheep', 'dog', 'bunny', 'dogs', 'wiktionary domesticated animal', 'plants', 'trained or adapted to be of use to humans', 'small exotic pets home critter central hedgehog', 'cattle', 'domestication a alpaca b bullock', 'conservation genetics', '', 'animal husbandry was first started as a way to control access to prey', 'art', 'beasts of burden : domestication of cattle and other livestock', 'animal diets - mark of domestication animal diets', '', ''] , dog\n",
            "96 19 ['', '', 'a skull , gills , and fins', '', '', '', '', '', '', '', '', '', '', '', '', '', '', '', ''] , gills\n",
            "97 19 ['equilateral triangle', 'figure 8.3', 'equilateral triangle', 'quadrilateral', 'rectangle', 'square a rectangle', 'rectangle', 'square - geometry', 'rotation reflection folding', 'square', 'any one of the straight lines that make up the polygon . vertex', 'right triangles', 'space figure', '', 'square', '', '', 'rrb', ''] , rhombus\n",
            "98 15 ['', '', '', '', '', '', '', '', '', '', '', '', 'what bird is this ?', '', ''] , group of islands\n",
            "99 19 ['thomas elson and william smythe', 'larry anderson', 'paul bailey', 'al simon', 'ralph edwards', 'ralph edwards', 'truth or consequences guide', 'ralph edwards', 'truth or consequences , new mexico - wikipedia', 'truth or consequences , new mexico - wikipedia', 'truth or consequences , new mexico - wikipedia', 'truth or consequences , new mexico - wikipedia', 'free encyclopedia', '', 'truth or consequences , new mexico - wikipedia', 'truth or consequences , new mexico - wikipedia', 'ralph livingstone edwards', 'truth or consequences , new mexico - wikipedia', 'truth or consequences , new mexico - wikipedia'] , ralph edwards\n",
            "100 19 ['1767', 'october 1929', 'before 1960', '1970s and 1980s', '1890', '1982', '1772', '1798', 'latter half of the 1800s', '1948', '1894 and 1895', 'september 23 , 2008', '1956', '17th century', 'carbonated soft drinks', 'carbonated soft drinks', 'carbonated soft drinks', 'carbonated soft drinks', ''] , 1807\n",
            "101 19 ['horus horus', 'horus horus', 'horus horus', 'horus horus', 'horus horus', 'horus horus', 'horus horus', 'horus horus', 'horus horus', 'horus horus', 'horus horus', 'horus horus', 'horus horus', 'horus horus', 'horus horus', 'horus horus', 'horus horus', 'horus horus', 'set'] , ash\n",
            "102 19 ['a passage to india', 'sands of iwo jima', 'the queen', 'norbit', \"glory film co. . sir john mills ' moving memories\", 'the treasure of the sierra madre', 'russell rouse', 'gone with the wind', \"ryan 's daughter\", \"ryan 's daughter\", 'in which we serve', 'lawrence of arabia', 'in which we serve', 'the dark knight', '', '', '', '', 'in which we serve'] , ryans daughter\n",
            "103 19 ['heliographs', 'prussian', 'heliographs', 'british', 'telegraph system', 'french portal', 'semaphore system', 'semaphore system that eventually spanned all of france . this was the first practical telecommunications system', \"the great army '' or `` the grand army '' first entered the\", 'france size', 'france size', 'telecommunications | early telecommunications', 'france size', '300,000 frenchmen and dutchmen', 'france size', 'france size', 'france size', '300,000 frenchmen and dutchmen', 'france size'] , semaphore\n",
            "104 19 ['lavender chiffon . let the parched leaves', 'knots', 'hedging plants', '', '', '', '', '', '', '', '', '', 'nutter or nut gatherer is one who gathers nuts', '', '', '', '', '', ''] , walnuts\n",
            "105 19 ['stringfellow hawke', 'stringfellow', 'stringfellow', 'helicopter', 'violin viola & cello', 'helicopter', 'helicopter', 'helicopter', 'supersonic attack helicopter', 'helicopter', 'cello', '', '', '', 'helicopter', '', '', '', 'motorcycle-riding'] , cello\n",
            "106 19 ['clock tower - bern', 'la chaux-de-fonds', 'geneva', 'geneva geneva', 'lac lan', 'rotterdam', 'which city is which in europe', 'geneva switzerland : 18.01.2009 : 857 geneva geneva', 'latium', 'andorra andorra la vella', 'geneva', 'geneva', 'geneva', 'vatican city vatican city vienna', 'canton of geneva', '', 'north america', '', 'uk county/city london guide wales scotland'] , geneva\n",
            "107 19 ['ruggero leoncavallo', 'ruggero leoncavallo', 'ruggero leoncavallo', 'ruggero leoncavallo', 'ruggero leoncavallo', 'gerry rowe', 'jacopo peri', 'jacopo peri', 'jacopo peri', 'jacopo peri', 'ruggiero leoncavallo', 'jacopo peri', 'jacopo peri', 'jay stephenson', '', '', '', '', ''] , leoncavallo\n",
            "108 19 ['lothar', 'phil davis', 'phil davis', \"lee falk 's adventure comic strip mandrake the magician featured the african supporting character lothar\", 'simon iff', 'a lady in half magic illusion magician outfits', 'dick darnell magician magician pet attack problems', 'jessica whitwell', '1.0 simon the magician jillette magician feet of a magician magician', 'fred fredericks', '', 'stage magician', '', '', '', 'spearchucker', '', \"anthony `` tony '' blake\", 'phantom magician'] , lothar\n",
            "109 19 ['les belles nanas thread', 'rrb- picture dictionary advertisement', 'belmont french', 'a cappella', 'a handsome girl', '', '', '', '', '', '', '', '', '', '', '', '', '', ''] , fair maiden\n",
            "110 19 ['central european countries , including italy and switzerland', 'cognac gin rum sake', 'ararat brandy', 'cognac', 'ch teau de laubade', 'canada', 'best juicer drinking rat poison students', 'cognac', 'canada', 'france', 'ararat brandy', 'best selling cachaca', '', 'brandy of napoleon brandy', 'france', 'sw france', '', '', ''] , cognac\n",
            "111 19 ['geroy sovyetskogo soyuza', 'hero of the soviet union - wikipedia , the free encyclopedia hero of the soviet union', 'hero of the soviet union - wikipedia , the free encyclopedia hero of the soviet union', 'heroes of socialist labor', 'heroes of socialist labor', 'hero of the soviet union - wikipedia , the free encyclopedia hero of the soviet union', 'hero of the soviet union', 'decorations from the former soviet union that recognised achievements and personal accomplishments , both military and civilian', 'decorations from the former soviet union that recognised achievements and personal accomplishments , both military and civilian', 'hero of the soviet union', 'hero of the soviet union', 'hero of the soviet union', 'this is the highest honor that can be presented by the russian president to anyone', 'decorations from the former soviet union that recognised achievements and personal accomplishments , both military and civilian', 'hero of socialist labor', 'orders , decorations , and medals of the soviet union', '', '', 'hero of socialist labor'] , order of lenin\n",
            "112 19 ['howard hawk', 'howard hawks', 'john wayne', 'arthur rosson', 'john wayne', 'montgomery clift', 'john wayne', 'john wayne', 'john wayne and his adopted adult son montgomery clift', 'tom dunson', 'john wayne montgomery clift', '', '', '', '', '', 'richard deweese maquillaje : lee greensway', '', ''] , montgomery clift\n",
            "113 19 ['ladybird', 'ladybird beetle', 'bug of our lady', 'bug', 'lady beetle', 'coleoptera beetles', 'ladybugs', 'ladybug', 'goliath beetle', 'harlequin ladybird', '', '', 'ladybugs', '', '', '', '', '', ''] , ladybird\n",
            "114 19 ['body heat', 'the beeline - culture : films & movies films & movies', 'film-noir', 'the beer nut', 'the maltese falcon : the film noir', 'blade runner', 'the maltese falcon', 'crime / noir / thriller', 'the maltese falcon', \"valley dreamin ' : in which i ask for your cinematic suggestions\", 'they live by night', '', '', '', 'runaway bride', '', '', 'greatest last film lines', 'the glass key'] , maltese falcon\n",
            "115 19 ['the habit of some species of tapping and pecking noisily on tree trunks with their beaks', 'to establish territory and attract mates , extract insects , and create nesting cavities', 'to find and eat insects that live in tree bark', 'what part of the plant are you really eating ? why leaves change color in the fall', 'a deep hole', 'woodpeckers suffer no brain haemorrhage when they beat a tattoo so vigorously with their heads', 'why did the red-cockaded woodpecker disappear ?', 'keep the expletive deleted woodpeckers from destroying my house', 'if you have been successful with a tactic that is not included below let us know about it', 'to find food , excavate areas for nesting , or create room for food storage', 'woodpeckers have short legs with two sharp-clawed , backward-pointed toes and stiff tail feathers', 'woodpeckers are dependent on trees for food and shelter', 'because i really dont want to lose my tree', 'woodpeckers have short legs with two sharp-clawed , backward-pointed toes and stiff tail feathers', 'both gila woodpeckers and gilded flickers will tap loudly on metal objects', 'what sort of wildlife', 'woodpeckers', 'if you find a baby bird out of its nest', 'the woodpeckers are known appropriately enough as d zhu - m - ni o'] , to get insects below bark\n",
            "116 19 ['no luck at all', 'self-derived lucky numbers', 'hitched for wealth', 'bad luck', 'your birthstone in your engagement ring', 'joy for maiden and for man', 'the woman and not some fantasy-based ideal', 'no day at all', 'if a girl does not finish her spinning', 'the initial', 'joy for maiden and for man', 'wish upon a shooting star', 'spectacular good luck , or terrible bad luck', 'the person whose name you were saying when the stem fell off', 'joy for maiden and for man', 'a history of superstitious', 'joy for maiden and for man', 'you will catch no more that day', 'joy for maiden and for man'] , no luck at all\n",
            "117 19 ['indonesia and monaco', 'algeria red , white , and green angola red', 'commonwealth of independent states', 'china', 'european union nations', 'commonwealth of independent states', 'commonwealth of independent states', 'commonwealth of independent states', 'commonwealth of independent states', 'commonwealth of independent states', 'commonwealth of independent states', 'nauru , tokelau and western sahara', 'two half stars', 'red top and white bottom', 'the flag of bosnia and herzegovina', '', 'red top and white bottom', 'two half stars', 'two half stars'] , poland\n",
            "118 19 ['bach', 'georg philipp telemann', 'johann sebastian bach', 'j. c. bach', 'j.s. bach', 'vivaldi', 'johann sebastian bach', '', 'st. matthews passion', 'johann sebastian bach', 'johann sebastian bach', '', 'johann christoph bach', '', '', '', '', 'george frideric handel', ''] , johan sebastian bach\n",
            "119 19 ['tail', 'lizard', 'toothed whale', '', '', '', '', '', '', '', '', '', '', '', '', '', '', '', ''] , tail\n",
            "120 19 ['pablo picasso', 'pablo ruiz picasso', 'nationality american literary movement modernist literature influences leo stein , william james , pablo picasso', 'pablo picasso', 'pablo picasso', 'pablo picasso spanish , 1881-1973', '`` modernist', 'pablo picasso', 'pablo picasso', 'pablo picasso', 'pablo picasso', 'pablo picasso', 'pablo picasso', 'pablo picasso', 'pablo picasso', 'pablo picasso', 'pablo picasso', 'pablo picasso', 'pablo picasso'] , picasso\n",
            "121 19 ['when only the best will do', 'azalea', 'lechuguilla', 'azalea', 'azalea', 'what does the flower mean ? one frequent asked question is about the color of the flower and its meaning', 'yellow carnation', '', 'the rose stands alone in its abundant history and color meaning', 'secret meaning of flowers', 'pretty', '', 'azalea', '', 'the rose stands alone in its abundant history and color meaning', 'flower meanings | list of flowers', '', '', ''] , mistletoe\n",
            "122 19 ['family tree', 'rrb- unreal', 'stewart levine', 'heitor', 'family tree whirlwinds', 'quiz categories', 'heitor which featured guest appearance from mick hucknall on the track `` manchester', 'morrissey oasis', 'google software & music oasis + city', 'google software & music oasis + city', 'simply red music videos squidvids', '', 'gym class heroes', 'mick wilson -lrb', 'mick pointer and friends', 'crowded house echo arena', 'help join now log in 17 january 2009', '', 'chat - forum connexion membre la coccinelle du net'] , manchester\n",
            "123 19 ['house of usher', 'the fall of the house of usher', 'house of usher', 'house of usherwhich', 'house of usher', 'the fall of the house of usher', 'the fall of the house of usher', 'the fall of the house of usher', 'the fall of the house of usher', 'the fall of the house of usher', 'the fall of the house of usher', 'the fall of the house of usher', 'the fall of the house of usher', 'the fall of the house of usher', 'the fall of the house of usher', 'the fall of the house of usher', 'the fall of the house of usher', 'the fall of the house of usher', 'the fall of the house of usher'] , house of usher\n",
            "124 19 ['new zealand', 'new zealand', 'new zealand', 'new zealand', 'new zealand', 'new zealand', 'new zealand', 'new zealand', 'new zealand', 'new zealand', 'new zealand', 'new zealand', 'new zealand', 'new zealand', 'new zealand', 'new zealand', 'new zealand', 'new zealand', 'new zealand'] , new zealand\n",
            "125 19 ['blown away', '', 'mercury mercury mercury', 'lex', 'iron-nickel', '', '', \"uranus ' atmosphere is about 83 % hydrogen , 15 % helium and 2 % methane\", '', 'mercury', '', '', 'mercury', '', '', '', 'hydrogen and helium', '', 'uranus'] , mercury\n",
            "126 19 ['caciotta', '', '', '', \"casciotta d'urbino castelrosso\", '', '', '', '', '', '', \"casciotta d'urbino castelrosso\", '', '', '', '', '', '', ''] , goats cheese\n",
            "127 19 ['kansas newspapers -- dailyearth web dailyearth.com', '', '', '', '', 'u.s. dollar', '', '', '', '', '', 'u.s. bank - overland park , ks', '', 'kansas view full version', 'kansas view full version', 'u.s. & canada', 'british broadcasting corporation - london , united kingdom', 'kansas', 'kansas view full version'] , topeka\n",
            "128 19 ['hares', 'animals', 'assemblage', 'the fox and the hare', 'animals - some collective nouns', 'collective nouns for birds', 'animals', 'animals , see list of animal names list of collective nouns for birds', 'poets', '', '', '', '', 'monkeys or kangaroos', '', '', 'elephants', 'young animals', ''] , hares\n",
            "129 19 ['kuala lumpur', 'kuala lumpur', 'kuala lumpur', 'kuala lumpur', 'kuala lumpur', 'hamilton , ontariohamilton', 'kuala lumpur', 'kuala lumpur', 'hamilton , canada', 'kuala lumpur', 'kuala lumpur', 'melbourne', 'kuala lumpur', 'kuala lumpur', 'kuala lumpur', 'edmonton', 'kuala lumpur', '', ''] , kula lumpur\n",
            "130 19 ['greyhound', 'greyhound', '', '', 'greyhound', '', '', 'snowball', 'greyhound', '', 'greyhound', '', '', '', '', '', '', \"santa 's little helper\", ''] , santas little helper\n",
            "131 19 ['seychelles', 'seychelles', 'pangrati , athens', 'pangrati , athens', 'greece', 'greece', 'palaichori , cyprus', 'great britain', 'palaichori', 'the british', 'halki seminary', 'paphos , cyprus', 'paphos , cyprus', '', 'paphos , cyprus', 'ioannina in northwest greece', '', 'greece', ''] , seychelles\n",
            "132 19 ['pay attention', 'pay attention', 'pay attention', 'smell any odor', 'resist specific actions or thoughts', 'concentrate urine', 'make surfactant', 'initiate changes in activity and to perform ordinary volitional movements rapidly and easily', 'concentrate', 'conceive', '', 'increase in urine output , fluid intake and often thirst', '', '', '', 'failure to gain weight', 'arrest of activity and occasional muscle contractions and relaxations', '', ''] , concentrate\n",
            "133 19 ['natural selection', 'natural selection', 'natural selection', 'species', 'cle', 'biology', 'light', 'micro-organism', 'change', 'adaptation as distinct type of explanation then outline principles of natural selection', 'accelerated bioremediation', '', 'ecology', 'microorganisms', 'creatures everywhere will have to adapt or die', 'self-esteem', '', '', ''] , acclimatization\n",
            "134 19 ['oscar-claude monet', 'claude oscar monet', 'claude monet', 'euge boudin', 'edouard manet -lrb', 'claude monet', 'claude monet', 'caillebotte gustave', 'claude monet', 'monet', 'claude monet', 'claude oscar -lrb', 'mrs monet', 'claude oscar monet', 'claude oscar monet', 'claude monet claude monet', 'claude home', 'claude monet', 'claude monet'] , claude monet\n",
            "135 19 ['` policeman', 'computer operating properly', 'computer operations parameters', 'computer optimization package', '', 'harass people', '', '', 'border patrol agent', '', 'police officers , peace officers or just code enforcement', '', 'computer output processing service', 'math', '', '', 'the governor of a royal castle . chiefly british . a police officer', '', '`` sir'] , constable on patrol\n",
            "136 19 ['turbot', 'tamboril', 'flatfish', 'the turbot war', 'fishing trawler', '', '', 'spanish fishing boats', 'uk', '', 'turbot stocks', '', '', 'us', 'the estai', '', '', 'codfish', ''] , turbot\n",
            "137 19 ['rrb- 250 tosca puccini', '', \"new orleans opera - bizet 's carmen puccini 's manon lescaut\", '', 'magic flute pictures marriage of figaro pictures', '', '', 'the history of carmen - bizet music with ease', 'smallscores', '', 'just released', '', '', 'multimedia ebooks read music notes', 'orange blossoms', 'rrb- faust gounod', 'smallscores', 'search this site just released', 'synopsis'] , set in seville in spain\n",
            "138 19 ['the commonwealth of virginia', 'richmond , virginia city of richmond', 'richmond is the capital of the commonwealth of virginia', 'richmond', 'richmond , the capital of the commonwealth of virginia', '', '', '', '', 'richmond , the capital of the commonwealth of virginia', 'richmond , the capital of the commonwealth of virginia', '', '', '', 'richmond', 'virginia state capital', 'chesterfield county city of richmond', '', ''] , richmond\n",
            "139 19 ['adelaide', 'victoria new south wales australian capital territory', 'western', 'western australia', 'new south wales victoria', 'western australia', 'nsw', 'sydney', 'queensland south australia tasmania', 'new south wales', 'adelaide', 'new south wales', 'western australia', 'new south wales northern territory', 'western australia', 'tasmania', 'adelaide', 'western australia', ''] , western australia\n",
            "140 19 ['starch', 'watermelon', 'what is a native plant', '', '', '', '', '', '', '', '', 'home book shop feed the hungry', '', '', '', '', '', '', ''] , corn\n",
            "141 19 ['wood', 'chocolate', '', 'his own hands', '', '', '', '', '', 'metal', '', '', '', 'biodegradable materials', '', '', '', '', ''] , chocolate\n",
            "142 19 ['dawn and twilight', 'at twilight and dawn', 'during twilight hours', 'during twilight hours', 'during twilight', 'primarily during twilight', 'at twilight', 'primarily during twilight', 'both during the day and night', 'both during the day and night', 'resembling the twilight of morning or evening', 'twilight', 'both during the day and night', 'dawn and dusk during the heat of summer', 'animals housed in such bottom cages live in a crepuscular environment', 'sunrise and sunset', 'crepuscular animals may also be active on a bright moonlit night', '', 'baby'] , twilight\n",
            "143 19 ['mycoplasmas', 'staphylococci - form grape-like', 'gram-negative cocci spirilla actinomycetes', 'chains', 'gram-positive cocci in chains and catalase negative', 'bacteria three types of ba', 'what type of cell ... what are the two ... types of bacteriu', 'rickettsias chlamydias gram-positive bacteria', 'two streptococci-string', 'any microorganism', 'there are five types of bacterial cells', 'any microorganism', 'cholera', 'any microorganism', 'bacteria , viruses , fungi , and protozoa', 'bacteria that are commonly found harmlessly living in the human respiratory , gut and genitourinary systems', 'bacilli', '', ''] , bacteria\n",
            "144 19 ['kent county', 'cambridge university press , england', 'ostia , antium , and tarracina', 'united kingdom', 'united kingdom', 'essex', 'essex', 'united kingdom', 'the netherlands', 'jamestown , virginia', 'new england colonies', 'fishbourne', 'essex , england', 'roanoke', 'southeastern', '', 'portugal , spain', '', 'massachusetts bay colony'] , colchester\n",
            "145 19 ['edo', 'ueno', 'edo', 'edo -lrb', 'tokyo city', 'tokyo', 'hokkaido', 'tokyo', '', 'tokyo', '', '', 'tokyo', 'shitamachi', 'tokyo', 'yedo', '', '', ''] , tokyo\n",
            "146 19 ['texas', 'state of colorado', 'nevada', 'usa', 'colorado', 'colorado', 'colorado', 'las vegas', '', 'colorado', 'colorado', '', 'colorado', 'colorado', 'colorado', '', 'colorado', '51', ''] , colorado\n",
            "147 19 ['fred bowley', 'tom lehrer', 'fred holywell', 'scrooge', 'scrooge', \"charles 's descendant brings a family touch\", 'tom lehrer', '`` bah , humbug', 'ebenezer scrooge', '', \"a christmas carol hypertext edition of charles dickens ' classic story\", 'ebenezer scrooge', \"what reason have you to be merry ? you 're poor enough\", 'mr scrooge', 'ebenezer scrooge', 'ebenezer scrooge', '`` bah , humbug', \"who 's your holiday favorite : dickens ' classic or tchaikovsky 's masterpiece\", 'ebenezer scrooge'] , scrooge\n",
            "148 19 ['', '', '', '', '', '', '', '', '', '', '', 'tom thomson', '', '', '', '', '', '', ''] , hawk roosting ted hughes\n",
            "149 19 ['hawaii', 'south pacific', 'south pacific', 'googleearth', '', '', 'hakalau forest national wildlife refuge', 'kohala lava', '', 'italy', '', 'island of hawaii', '', '', 'kohala volcano', 'big island', '', 'kohala volcano', ''] , hawaii\n",
            "150 19 ['', '', '', 'object pascal', 'pascal -lrb', 'blaise pascal', 'blaise pascal', 'adam pascal', '', '', '` pascal', 'blaise pascal', 'blaise pascal', 'fortran', 'fortran', 'pascal programming language', 'pascal programming language', 'pascal programming language', 'pascal programming language'] , pascal blaise pascal\n",
            "151 19 ['the mall', 'oxford street', 'united kingdom', 'st pauls cathedral', 'wikipedia', 'underneath', 'houseandgardenaccents.com', 'houseandgardenaccents.com', 'bryanston street london , uk', 'trafalgar square', 'houseandgardenaccents.com', 'houseandgardenaccents.com', 'w1j 9hw abc shaftesbury avenue 135 shaftesbury avenue , leicester square', 'houseandgardenaccents.com', '', 'trafalgar square london', '', '', 'boulder'] , london\n",
            "152 19 ['dance held for bachelors and spinsters', 'cobblers', '', 'ay', 'sniper slang', '', '', '', '4', '', '', 'cockney', '', 'cockney', 'american', '', '', '', ''] , testicles\n",
            "153 19 ['bats and seals', 'bats', 'bats', 'bat', 'bats', 'bats', 'bats', 'bats', 'farm animals', 'bats', 'giant wetas', 'bats', 'kauri', 'sitting ducks', '', '', '', 'bats', ''] , bats\n",
            "154 19 ['father francis browne', 'gerard manley hopkins', 'gerard manley hopkins', 'gerard manley hopkins', 'gerard manley hopkins', 'gerard manley hopkins', 'gerard manley hopkins', 'gerard manley hopkins', 'gerard manley hopkins', 'gerard manley hopkins', 'gerard manley hopkins', 'gerard manley hopkins', 'c. s. lewis', 'gerard manley hopkins', 'gerard manley hopkins', 'gerard manley hopkins', 'irene d. hays', '', 'denis'] , gerald manley hopkins\n",
            "155 19 ['soul r&b', '', '', '', '', '', '', '', '', '', '', '', '', '', '', '', '', 'chairmen of the board', ''] , chairman of board\n",
            "156 19 ['', '', '', 'iouea is a genus of cretaceous fossil sponges .', '', '', 'everything proceeds and develops slowly', '', '', 'a horse appears on what coin designed by elizabeth jones ? 2 . mars on roman coins', '', 'collectors and their collections collectors fascinating facts', '', '', '', '', '', '', 'the study does not reveal common errors'] , trivia\n",
            "157 19 ['hitting the bottom of the ball', 'hitting a ball with a bat', 'hitting a ball with a bat', 'denying a team a run', '', '', '', '', 'attempt to score points known as runs by hitting a ball with a bat', '', '', '', '', '', '', '', '', '', 'regulations prohibit calling the hit a home run'] , hit ball over fence out of ground\n",
            "158 19 ['c.s. forrester', 'gene roddenberry', 'c. s. forester', 'c.s. forester', 'c. northcote parkinson', 'robert kaiser', 'c. s. forester', 'c. s. forester', 'c.s. forester', 'harold de polo', 'ioan gruffudd', 'poll', \"patrick o'brian\", 'c. northcote parkinson', 'alok vats', 'doctor who', 'c.s. forester', 'kaiser permanente', ''] , cs forester\n",
            "159 19 ['pitched roofs', 'barns', 'barns', 'roofs', 'roofs', 'colonial gambrel roof design', 'roofs', 'h hammerbeam roof', 'icegard accessories', 'architecture , house style , roof types , roofline', '', '', '', 'hip roof', '', '', '', '', 'hip roof'] , building roof\n",
            "160 19 ['1701-1800', '1701-1800', '18th', '18th', '18th century', '1701 - 1800', '18th', '18th', '1701', '16th', '1701 through 1800', '1701 through 1800', '18th century', '1701-1800', '18th', '18th century', '18th', '19th century', ''] , 18th 1717\n",
            "161 19 ['bruce springsteen', 'bruce springsteen', 'bruce springsteen', 'bruce springsteen', 'bruce springsteen', 'bruce springsteen', 'bruce springsteen', 'bruce springsteen', 'bruce springsteen', 'bruce springsteen', 'bruce springsteen', 'bruce springsteen - nebraska bruce springsteen', 'bruce springsteen', 'bruce springsteen', 'bruce springsteen', 'bruce springsteen', 'bruce springsteen', '', ''] , bruce springsteen\n",
            "162 19 ['black banshee', 'nightwing and batgirl', 'huntress', 'batgirl', 'thomas gramstad', 'comic book girl', 'phantom girl', 'barbara gordon grayson', '', '', '', '', '', '', '', 'commissioner gordon', '', '', 'huntress'] , batgirl\n",
            "163 19 ['cream sauce', 'eggplant-spinach curry recipe', 'herbed spinach stuffed shrimp', 'fresh spinach', 'kabob', 'indian', 'au gratin', 'candy rolling pin', 'shrimp butter shrimps', '', 'dill leaves and heads of shrimp', '', '', '', 'ohitashi', 'baby', '', 'sprightly burst of flavor', ''] , florentine\n",
            "164 19 ['villa-lobos prelude # 1', 'bach', 'flight of the bumblee', 'ludwig van beethoven', 'scherzo', 'tabla and sing ghazals', 'harp concerto', 'simpsons', 'the wanton brutality of a tender touch', 'why i left the surf for concrete', 'home cookin', '', '', 'opera', '', '', 'white denim', '', ''] , flight of bumblebee\n",
            "165 19 ['the nietzsche', 'jigger jigger', 'bar lip decanter', 'artillery punch', 'barbecue sauce', 'liquid courage', 'bear-leeh-nuh', '', 'spirits', '', '', '', '', '', '', '', '', 'shot glass', ''] , pony\n",
            "166 19 ['the new heroes', 'the new heroes', 'the new heroes', 'the new heroes', 'the new heroes', 'the new heroes', 'the new heroes', 'the new heroes', 'the new heroes', 'butch cassidy and the sundance kid', 'the sting', 'the sting', 'a river runs through it', 'a river runs through it', 'butch cassidy and the sundance kid butch cassidy and the sundance kid', 'butch cassidy and the sundance kid', '', '', ''] , butch cassidy and sundance kid\n",
            "167 19 ['vietnam', 'thailand', 'south east asia', 'thailand', 'thailand', 'southeast asia', 'southeast asia', '', 'thailand', 'no one knows for certain how long people have lived in what is now cambodia', '', 'thailand', '', '', '', '', 'thailand', 'france', ''] , cambodia kampuchea\n",
            "168 19 ['sports and leisure', 'outdoor education', 'cycling', 'activity travel , sport , personal accident , student belongings , holiday home and commercial insurance cover', '', 'fencing', '', 'sport', 'recreation/leisure', '', 'fencing', 'tennis', 'cancer care , cancer treatment , research , training and education', '', '', '', '', '', ''] , fencing\n",
            "169 18 ['', '', '', '', '', '', '', '', '', '', '', '', 'astron , a star , and nomos , a law', '', '', '', '', ''] , one light year\n",
            "170 19 ['pluto', 'pluto', 'pluto', 'pluto', 'pluto', 'uranus', 'pluto', 'pluto', 'venus mars', 'pluto', 'pluto', 'pluto', 'pluto', 'pluto pluto', 'neptune', 'pluto', 'pluto', '', ''] , pluto\n",
            "171 19 ['tiger mother', 'female tiger', 'male lion', 'lion', 'gray wolf and coyote', 'biology liger', 'stripes', 'lions', 'lions', '', '', '', '', '', '', '', '', '', ''] , lion\n",
            "172 19 ['', '', '', '', '', '', '', '', '', '', '', '', '', '', '', '', '', '', ''] , seven\n",
            "173 19 ['cynthia powell', 'cynthia lennon', 'cynthia lennon', 'yoko ono', 'cynthia powell', 'yoko ono', 'toshi ichiyanagi', 'yoko ono', 'mimi', 'john lennon', 'elvis presley and john lennon', 'charles powell , lillian powell', '', '', '', '', 'mimi', 'yoko ono', ''] , yoko ono\n",
            "174 19 ['one night in bangkok', 'whistle down the wind', 'what makes a man , swear it again and flying without wings', '` sinking ships', 'one night in bangkok', 'the first man you remember - unknown', 'the dream engine', '', 'queen pen all my love', '', '', '', '', 'jellicle cats', '', 'sarah brightman', '', '', ''] , no matter what\n",
            "175 18 ['this old heart of mine', 'smiler', 'oh ! no not my baby', '', 'the first cut is the deepest', '', '', 'this old heart of mine', '', '', '`` sailing', '', '', '', 'atlantic crossing', \"wolfgang 's vault\", '', \"ca n't give you anything but my love\"] , sailing\n",
            "176 19 ['k2 bottleneck pics', '3 maunaea hawaiianolcanos unitedtates 4,205 maunaea', 'k2 bottleneck pics', 'mauna kea', 'mount everest', 'k2', 'the seven second summits', 'mount everest', 'k2 -lrb', 'rrb', 'k2 in the himalayas', '', 'k2', 'k2', '', \"taipei 101 - view taipei from the top of the world 's second tallest building\", \"earth 's natural water wonders angel falls is 3,212 feet\", 'mt. kilimanjaro', 'it is the second-highest mountain in the world'] , k2\n",
            "177 19 ['sci-fi westerns', 'animal cartoons', 'baby cartoons', '', '', '', '', '', '', '', '', 'the trap', '', '', 'denver the last dinosaur dino riders', 'great blue marble', 'alley oop and the dinosaurs', '', 'dinosaur sounds'] , flintstones\n",
            "178 19 ['eight h-1 rocket engines', 'six rl-10 engines', 'six rl-10 engines', 'six rl-10 engines', 'six rl-10 engines', 'five f-1 engines', 'five j-2 engines', 'two j-2x engines', 'five f-1 engines', '1.5 million pounds', '', 'f-1', '', 'eight', 'five', '8', '', '', 'differences in staging engines'] , eight\n",
            "179 19 ['pauline quirke', 'kerry washington', 'pauline quirke', 'pauline quirke', 'jane kaczmarek', 'minette walters', 'minette walters', 'cindy beale', 'jean boht', 'patricia cutts', 'shirley valentine pauline collins', 'pauline quirke', '', '', 'pauline quirke', 'agatha christie', 'sammy johnson', '', ''] , pauline quirke\n",
            "180 19 ['golden globe', 'she won an academy award as best supporting actress', 'australian film institute awards best actress in a supporting role', '', 'academy award for best actress', '', '', '', '', 'random 1970s academy awards', '', 'the happy angel home page paranmaum', '', 'a much-deserved oscar', '', '', '', 'the oscars - best actress past winners list', '1965'] , first oscar playing opposite sex\n",
            "181 19 ['david lean', 'david lean', 'david lean', 'david lean', 'david lean', 'david lean', 'david lean', 'carol reed', 'david lean', 'sir david lean', 'maurice jarre', 'david lean', 'ron paquet', 'kevin brownlow', 'christopher menaul', 'david lean', 'david leans', '', ''] , david lean\n",
            "182 19 ['the district of columbia', 'state of rhode island', 'providence area ranked 50th in the us', 'providence area ranked 50th in the us', 'rhode island', 'providence area ranked 50th in the us', 'providence area ranked 50th in the us', 'providence', 'providence area ranked 50th in the us', 'providence plantations', 'providence area ranked 50th in the us', '', '', 'providence area ranked 50th in the us', 'providence area ranked 50th in the us', 'providence', '', 'providence area ranked 50th in the us', 'providence plantations'] , rhode island\n",
            "183 19 ['don herbert', 'don herbert', 'who am i', 'an american television personality', 'donald jeffrey herbert', 'donald jeffrey herbert', 'donald jeffrey herbert', 'a skilled or clever person', 'an american television personality', 'the original science guy', 'donald jeffrey herbert', 'donald jeffrey herbert', 'donald jeffrey herbert', 'an american television personality', 'donald jeffrey herbert', '', '', '', 'don herbert'] , don herbert\n",
            "184 19 ['fear of bathing', 'medorthophobia fear of anger or of becoming angry', 'merino merino sheep', 'merino merino sheep', 'meriones meriones longifro ... meriones unguicul', 'agliophobia - fear of pain', 'body odor', 'agateophobia - fear of insanity', 'acarophobia -- fear of itching or the insects that cause itching', 'amathophobia - fear of dust', 'do you suffer from fear or a `` phobia', '', 'agateophobia - fear of insanity', 'alcohol - methyphobia', 'from fear of flying to fear of the opposite sex', '', 'agateophobia , dementophobia , maniaphobia - fear of insanity', 'acarophobia - fear of itching or of the insects that cause itching', 'acarophobia - fear of itching or of the insects that cause itching'] , being bound tied up\n",
            "185 19 ['steroids-help - anabolic-steroids', 'very high metabolism and long limbs', 'synthetically produced variants of the naturally occurring male hormone testosterone', 'empty calories', 'empty calories', 'anabolic/androgenic steroids', 'empty calories', 'anabolic steroids', 'big muscles , big problems : the unnatural aftereffects of anabolic steroids', 'anabolic steroids', 'anabolic steroids are synthetically produced variants of the naturally occurring male hormone testosterone', 'anabolic steroids also have a building effect on the body and increase muscle tissue', '', 'beta agonists', 'tapering', '', 'anabolic steroids beta-2 agonists', '', ''] , anabolic steroids\n",
            "186 19 ['calories colliery celery calcium', 'a racing snake', 'fiddle', '', '', 'fiddle', '', 'fiddle mel tillis and fiddle player', '', 'fiddle', '', '', '', 'fiddle', '', \"he 's as fit as a fiddle\", \"' fit as a fiddle `` fit as a fiddle\", '', ''] , fiddle\n",
            "187 19 ['regularly spaced , protruding air-filled hemispheres', 'regularly spaced , protruding air-filled hemispheres', 'regularly spaced , protruding air-filled hemispheres', 'regularly spaced , protruding air-filled hemispheres', 'regularly spaced , protruding air-filled hemispheres', 'regularly spaced , protruding air-filled hemispheres', 'regularly spaced , protruding air-filled hemispheres', 'regularly spaced , protruding air-filled hemispheres', 'carbon nanotube materials ceiling tiles containing asbestos', 'bubble wrap , small and large', 'tin cans bags', '', '', '', '', '', 'perforated on the roll', '', 'plastic boxes , cases and totes plywood boxes and cases'] , bubble wrap\n",
            "188 19 ['franklin joseph lymon', 'franklin joseph lymon', 'frankie lymon and the teenagers', 'frankie lymon', 'fuzzy haskins', 'franklin joseph `', 'frankie lymon', 'franklin joseph', 'franklin joseph', 'frankie lymon', 'frankie lymon', 'frankie lymon & the teenagers', 'frankie lymon', 'frankie lymon', 'celebrity influences on teenagers', 'francis john miller', 'frankie lymon', '', ''] , frankie lymon\n",
            "189 19 ['ladybugs', 'perky-pet', 'perky-pet', 'invasive garden ants', 'lady beetle', 'bird feeders', 'ladybugs', 'beneficial insects in your backyard', 'perky-pet', '', '', '', '', '', 'getting rid of bad bugs', '', '', '', ''] , ladybird\n",
            "190 19 ['injure themselves while trying out bizarre sexual positions', '', 'tobacco', '', '', '', '', '', '', '', '', '', '', '', '', '', '', '', ''] , trying out bizarre sex positions\n",
            "191 19 ['babylonians', 'hipparchus of nicea', '3100 b.c.', '3100 b.c.', 'how old are you ? of what age', '3200 bce or a little earlier .', '', 'the ancient israelites', 'the ancient israelites', 'the ancient israelites', 'the ancient israelites', 'the ancient israelites', 'the ancient israelites', 'the ancient israelites', 'the ancient israelites', '', 'the ancient israelites', '', 'time'] , babylonians\n",
            "192 19 ['andre agassi', 'serena williams tennis country 2008 year-end number one player : men - rafael nadal', 'pete sampras', 'rafael nadal', 'john mcenroe', 'arthur ashe', 'arthur ashe', 'the very competitive jimmy connors played his matches with a lot of heart', 'james scott', 'roger federer', 'chris evert', 'chris evert', 'jimmy connors', 'jimmy connors jimmy connors', 'venus williams', 'james jensen consistent tennis wins jimmy connors usta player development joe dinoffer', 'jimmy connors pro tennis tour', '', ''] , chirs evet\n",
            "193 19 ['tom wolfe', 'michael-john wolfe', 'tom wolfe', 'tom wolfe', 'tom wolfe', 'jim jacobi', 'tom wolfe', 'jeder name kann angeklickt werden', 'thomas kennerly wolfe , jr.', 'sudhir venkatesh', 'tom wolfe', 'm-z', 'eq coaching report', 'tom wolfe', 'tom wolfe', 'new journalism : book journalism new picador , capote didion gang journalism', '', '', ''] , tom wolfe\n",
            "194 19 ['1878', '1907', '1857', '1857', '1907', '1929', '1907', '1882', '1897', '1878', 'between 1850 and 1950', '1895', '1895', 'late 20th century', 'where', 'late 20th century', 'late 20th century', 'late 20th century', 'end of the 19th century'] , 1878\n",
            "195 19 ['anglo-zanzibar war', '1896', 'anglo-zanzibar war', 'anglo-zanzibar war', 'anglo-zanzibar war', 'anglo-zanzibar war', '1896', '1896', '9:00 -9:', 'mahdist war', 'mahdist war', '1896 was a leap year starting on wednesday -lrb', 'vietnam war persian gulf war', '17 days', 'august 27 , 1896', 'it was the shortest war in history', 'june 7 , 1776', '1698', '1947'] , 1896\n",
            "196 19 ['kate hannigan', 'kate hannigan', 'bill bailey', 'william faulkner', 'kate hannigan', 'kate hannigan', 'don hannah', '', '', 'catherine cookson', 'catherine cookson', 'jennifer tilly', 'catherine cookson', '', '', '', '', '', ''] , catherine cookson\n",
            "197 19 ['beta cells of the islets of langerhans , specific groups of cells in the pancreas', 'pancreas is a relatively small organ , tucked away in a corner of the digestive tract', 'glandular', 'islets or islet cells are clusters of cells that contain cells that regulate blood glucose', 'islets of langerhans', 'pancreas pancreas', 'near the stomach and small intestine', 'the pancreas', 'the pancreas', 'stomach', 'pancreas', 'stomach', '', '', 'protoplasmic masses', '', '', 'the pancreas', ''] , pancreas\n",
            "198 19 ['pa', 'nc', 'virginia', 'virginia', '', 'virginia', '', '', '', '', '', '', 'west virginia state song appalachia in west virginia', '', 'chickamauga', 'virginia', 'usa', 'arcadia armstrong atlee bassett', 'arcadia armstrong atlee bassett'] , virginia\n",
            "199 19 ['la confidential', \"sullivan 's travels\", '', '', '', '', '', '', '', '', '', '', '', '', '', '', '', '', ''] , la confidential\n",
            "Time for whole code to run:  1230.361244916916\n"
          ],
          "name": "stdout"
        }
      ]
    },
    {
      "cell_type": "code",
      "metadata": {
        "id": "mv1Hgf79GKoS",
        "colab_type": "code",
        "outputId": "e630492d-83a4-43e0-cd5f-01df91c2af63",
        "colab": {
          "base_uri": "https://localhost:8080/",
          "height": 407
        }
      },
      "source": [
        "df_pred.head()"
      ],
      "execution_count": 82,
      "outputs": [
        {
          "output_type": "execute_result",
          "data": {
            "text/html": [
              "<div>\n",
              "<style scoped>\n",
              "    .dataframe tbody tr th:only-of-type {\n",
              "        vertical-align: middle;\n",
              "    }\n",
              "\n",
              "    .dataframe tbody tr th {\n",
              "        vertical-align: top;\n",
              "    }\n",
              "\n",
              "    .dataframe thead th {\n",
              "        text-align: right;\n",
              "    }\n",
              "</style>\n",
              "<table border=\"1\" class=\"dataframe\">\n",
              "  <thead>\n",
              "    <tr style=\"text-align: right;\">\n",
              "      <th></th>\n",
              "      <th>pred_ans_0</th>\n",
              "      <th>pred_ans_1</th>\n",
              "      <th>pred_ans_2</th>\n",
              "      <th>pred_ans_3</th>\n",
              "      <th>pred_ans_4</th>\n",
              "      <th>pred_ans_5</th>\n",
              "      <th>pred_ans_6</th>\n",
              "      <th>pred_ans_7</th>\n",
              "      <th>pred_ans_8</th>\n",
              "      <th>pred_ans_9</th>\n",
              "      <th>pred_ans_10</th>\n",
              "      <th>pred_ans_11</th>\n",
              "      <th>pred_ans_12</th>\n",
              "      <th>pred_ans_13</th>\n",
              "      <th>pred_ans_14</th>\n",
              "      <th>pred_ans_15</th>\n",
              "      <th>pred_ans_16</th>\n",
              "      <th>pred_ans_17</th>\n",
              "      <th>pred_ans_18</th>\n",
              "    </tr>\n",
              "  </thead>\n",
              "  <tbody>\n",
              "    <tr>\n",
              "      <th>0</th>\n",
              "      <td>tetanus tetanus</td>\n",
              "      <td>tetanus</td>\n",
              "      <td>tetanus</td>\n",
              "      <td>tetanus</td>\n",
              "      <td>tetanus</td>\n",
              "      <td>tetanus</td>\n",
              "      <td>tetanus</td>\n",
              "      <td>tetanusdisease</td>\n",
              "      <td>tetanus</td>\n",
              "      <td>tetanus</td>\n",
              "      <td>tetanus</td>\n",
              "      <td>tetanus</td>\n",
              "      <td>rrb</td>\n",
              "      <td>tetanus</td>\n",
              "      <td>clostridium tetani</td>\n",
              "      <td>clostridium tetani</td>\n",
              "      <td></td>\n",
              "      <td>diphtheria</td>\n",
              "      <td>diphtheria</td>\n",
              "    </tr>\n",
              "    <tr>\n",
              "      <th>1</th>\n",
              "      <td>vidalia sweet onion</td>\n",
              "      <td>vidalia sweet onion</td>\n",
              "      <td>allium porrum</td>\n",
              "      <td>allium porrum</td>\n",
              "      <td>leek</td>\n",
              "      <td>the leek</td>\n",
              "      <td>ostrich</td>\n",
              "      <td>allium porrum</td>\n",
              "      <td>ostrich</td>\n",
              "      <td>the leek</td>\n",
              "      <td>the leek</td>\n",
              "      <td>ostrich</td>\n",
              "      <td>ostrich</td>\n",
              "      <td>leek</td>\n",
              "      <td>ostrich</td>\n",
              "      <td></td>\n",
              "      <td></td>\n",
              "      <td></td>\n",
              "      <td></td>\n",
              "    </tr>\n",
              "    <tr>\n",
              "      <th>2</th>\n",
              "      <td>star wars</td>\n",
              "      <td>the guns of navarone</td>\n",
              "      <td>star wars</td>\n",
              "      <td>streets of philadelphia</td>\n",
              "      <td>james bond girls</td>\n",
              "      <td>james bond</td>\n",
              "      <td>james bond</td>\n",
              "      <td>james bond</td>\n",
              "      <td>james bond girls</td>\n",
              "      <td>james bond girls</td>\n",
              "      <td>stanley kubrick</td>\n",
              "      <td>james bond girls</td>\n",
              "      <td></td>\n",
              "      <td></td>\n",
              "      <td></td>\n",
              "      <td></td>\n",
              "      <td></td>\n",
              "      <td></td>\n",
              "      <td></td>\n",
              "    </tr>\n",
              "    <tr>\n",
              "      <th>3</th>\n",
              "      <td>dock of the bay hit no. 1</td>\n",
              "      <td>sittin ' on the dock of the bay</td>\n",
              "      <td>sittin ' on the dock of the bay</td>\n",
              "      <td>the jimi hendrix experience</td>\n",
              "      <td>` sittin ' on the dock of the bay '</td>\n",
              "      <td>the biggest savings of the week</td>\n",
              "      <td>sittin on</td>\n",
              "      <td>1965</td>\n",
              "      <td></td>\n",
              "      <td>' sittin ' on the dock of the bay</td>\n",
              "      <td>try a little tenderness chained and bound chai...</td>\n",
              "      <td>' sittin ' on the dock of the bay</td>\n",
              "      <td>the kazoo story what it 's like to try and bre...</td>\n",
              "      <td></td>\n",
              "      <td>otis blue</td>\n",
              "      <td></td>\n",
              "      <td></td>\n",
              "      <td></td>\n",
              "      <td></td>\n",
              "    </tr>\n",
              "    <tr>\n",
              "      <th>4</th>\n",
              "      <td>king henry viii</td>\n",
              "      <td>herod</td>\n",
              "      <td>herod antipas</td>\n",
              "      <td>the jewish sanhedrin</td>\n",
              "      <td>herod philip ii</td>\n",
              "      <td>herod the great</td>\n",
              "      <td>herod the great</td>\n",
              "      <td>herod antipas</td>\n",
              "      <td>herod the great</td>\n",
              "      <td>herod the great</td>\n",
              "      <td>herod the great</td>\n",
              "      <td>his niece salome , the daughter of herodias an...</td>\n",
              "      <td>king herod the great</td>\n",
              "      <td>king herod</td>\n",
              "      <td>herod the great 's execution of his hasmonean ...</td>\n",
              "      <td>machaerus</td>\n",
              "      <td>herod antipas</td>\n",
              "      <td>herod philip ii salome i</td>\n",
              "      <td>herod</td>\n",
              "    </tr>\n",
              "  </tbody>\n",
              "</table>\n",
              "</div>"
            ],
            "text/plain": [
              "                  pred_ans_0  ... pred_ans_18\n",
              "0            tetanus tetanus  ...  diphtheria\n",
              "1        vidalia sweet onion  ...            \n",
              "2                  star wars  ...            \n",
              "3  dock of the bay hit no. 1  ...            \n",
              "4            king henry viii  ...       herod\n",
              "\n",
              "[5 rows x 19 columns]"
            ]
          },
          "metadata": {
            "tags": []
          },
          "execution_count": 82
        }
      ]
    },
    {
      "cell_type": "code",
      "metadata": {
        "id": "9HURNlKLNxfi",
        "colab_type": "code",
        "outputId": "60df56a7-76d4-4090-de3d-3bedc1511803",
        "colab": {
          "base_uri": "https://localhost:8080/",
          "height": 200
        }
      },
      "source": [
        "df_metrics.head()"
      ],
      "execution_count": 83,
      "outputs": [
        {
          "output_type": "execute_result",
          "data": {
            "text/html": [
              "<div>\n",
              "<style scoped>\n",
              "    .dataframe tbody tr th:only-of-type {\n",
              "        vertical-align: middle;\n",
              "    }\n",
              "\n",
              "    .dataframe tbody tr th {\n",
              "        vertical-align: top;\n",
              "    }\n",
              "\n",
              "    .dataframe thead th {\n",
              "        text-align: right;\n",
              "    }\n",
              "</style>\n",
              "<table border=\"1\" class=\"dataframe\">\n",
              "  <thead>\n",
              "    <tr style=\"text-align: right;\">\n",
              "      <th></th>\n",
              "      <th>actual_ans</th>\n",
              "      <th>actual_ques</th>\n",
              "      <th>EM</th>\n",
              "      <th>precision</th>\n",
              "      <th>recall</th>\n",
              "      <th>f1</th>\n",
              "    </tr>\n",
              "  </thead>\n",
              "  <tbody>\n",
              "    <tr>\n",
              "      <th>0</th>\n",
              "      <td>tetanus</td>\n",
              "      <td>lockjaw is another name for which disease</td>\n",
              "      <td>1.0</td>\n",
              "      <td>1.000000</td>\n",
              "      <td>1.000000</td>\n",
              "      <td>1.000000</td>\n",
              "    </tr>\n",
              "    <tr>\n",
              "      <th>1</th>\n",
              "      <td>leek</td>\n",
              "      <td>which vegetable is welsh emblem</td>\n",
              "      <td>1.0</td>\n",
              "      <td>1.000000</td>\n",
              "      <td>1.000000</td>\n",
              "      <td>1.000000</td>\n",
              "    </tr>\n",
              "    <tr>\n",
              "      <th>2</th>\n",
              "      <td>guns of naverone</td>\n",
              "      <td>which film won best special effects oscar in 1961</td>\n",
              "      <td>0.0</td>\n",
              "      <td>0.666667</td>\n",
              "      <td>0.666667</td>\n",
              "      <td>0.666667</td>\n",
              "    </tr>\n",
              "    <tr>\n",
              "      <th>3</th>\n",
              "      <td>sitting on dock of bay</td>\n",
              "      <td>what was otis redding s biggest hit coming aft...</td>\n",
              "      <td>0.0</td>\n",
              "      <td>0.800000</td>\n",
              "      <td>0.800000</td>\n",
              "      <td>0.800000</td>\n",
              "    </tr>\n",
              "    <tr>\n",
              "      <th>4</th>\n",
              "      <td>king herod</td>\n",
              "      <td>who ordered john baptists execution</td>\n",
              "      <td>1.0</td>\n",
              "      <td>1.000000</td>\n",
              "      <td>1.000000</td>\n",
              "      <td>1.000000</td>\n",
              "    </tr>\n",
              "  </tbody>\n",
              "</table>\n",
              "</div>"
            ],
            "text/plain": [
              "               actual_ans  ...        f1\n",
              "0                 tetanus  ...  1.000000\n",
              "1                    leek  ...  1.000000\n",
              "2        guns of naverone  ...  0.666667\n",
              "3  sitting on dock of bay  ...  0.800000\n",
              "4              king herod  ...  1.000000\n",
              "\n",
              "[5 rows x 6 columns]"
            ]
          },
          "metadata": {
            "tags": []
          },
          "execution_count": 83
        }
      ]
    },
    {
      "cell_type": "code",
      "metadata": {
        "id": "eQk4zmOiES5C",
        "colab_type": "code",
        "outputId": "9b027e39-4f66-4eef-f68c-a8c2e1ab1041",
        "colab": {
          "base_uri": "https://localhost:8080/",
          "height": 88
        }
      },
      "source": [
        "df_metrics['f1'].mean(), df_metrics['EM'].mean(), df_metrics['precision'].mean() , df_metrics['recall'].mean() "
      ],
      "execution_count": 84,
      "outputs": [
        {
          "output_type": "execute_result",
          "data": {
            "text/plain": [
              "(0.6304923342168393,\n",
              " 0.5025125628140703,\n",
              " 0.6280269144590753,\n",
              " 0.6818377602297202)"
            ]
          },
          "metadata": {
            "tags": []
          },
          "execution_count": 84
        }
      ]
    },
    {
      "cell_type": "code",
      "metadata": {
        "id": "xIrm2sT1_g3_",
        "colab_type": "code",
        "outputId": "1a4c47fc-f98a-44e4-8822-f5963b71ae41",
        "colab": {
          "base_uri": "https://localhost:8080/",
          "height": 141
        }
      },
      "source": [
        "df_merge = pd.concat([df_pred, df_metrics], axis=1)\n",
        "df_merge['dataset'] = \"quasar_t_long_dev\"\n",
        "df_merge.columns"
      ],
      "execution_count": 85,
      "outputs": [
        {
          "output_type": "execute_result",
          "data": {
            "text/plain": [
              "Index(['pred_ans_0', 'pred_ans_1', 'pred_ans_2', 'pred_ans_3', 'pred_ans_4',\n",
              "       'pred_ans_5', 'pred_ans_6', 'pred_ans_7', 'pred_ans_8', 'pred_ans_9',\n",
              "       'pred_ans_10', 'pred_ans_11', 'pred_ans_12', 'pred_ans_13',\n",
              "       'pred_ans_14', 'pred_ans_15', 'pred_ans_16', 'pred_ans_17',\n",
              "       'pred_ans_18', 'actual_ans', 'actual_ques', 'EM', 'precision', 'recall',\n",
              "       'f1', 'dataset'],\n",
              "      dtype='object')"
            ]
          },
          "metadata": {
            "tags": []
          },
          "execution_count": 85
        }
      ]
    },
    {
      "cell_type": "code",
      "metadata": {
        "id": "WrLecb235-k3",
        "colab_type": "code",
        "colab": {}
      },
      "source": [
        "writePath = qasar_t_dir + \"questions/long_metric_dev.csv\"\n",
        "df_merge.to_csv(writePath)"
      ],
      "execution_count": 0,
      "outputs": []
    },
    {
      "cell_type": "code",
      "metadata": {
        "id": "fEn36GzGLNse",
        "colab_type": "code",
        "outputId": "346479d7-f801-4425-dcdd-076754a90ff6",
        "colab": {
          "base_uri": "https://localhost:8080/",
          "height": 55
        }
      },
      "source": [
        "\"\"\"\n",
        "*** UNUSED\n",
        "writePath = qasar_t_dir + \"questions/long_metric_test.txt\"\n",
        "df_.to_csv(writePath)\n",
        "with open(writePath, 'a') as f:\n",
        "    f.write(df_metrics.to_string(header = False, index = False))\n",
        "f.close()\n",
        "\"\"\""
      ],
      "execution_count": 0,
      "outputs": [
        {
          "output_type": "execute_result",
          "data": {
            "text/plain": [
              "'\\n*** UNUSED\\nwritePath = qasar_t_dir + \"questions/long_metric_test.txt\"\\ndf_.to_csv(writePath)\\nwith open(writePath, \\'a\\') as f:\\n    f.write(df_metrics.to_string(header = False, index = False))\\nf.close()\\n'"
            ]
          },
          "metadata": {
            "tags": []
          },
          "execution_count": 58
        }
      ]
    },
    {
      "cell_type": "markdown",
      "metadata": {
        "id": "um9xGKXFeltE",
        "colab_type": "text"
      },
      "source": [
        "# Now Running the Test dataset\n",
        "#### The code code be optimized by defining a common function - TBD"
      ]
    },
    {
      "cell_type": "code",
      "metadata": {
        "id": "WUQKr_SBAnP5",
        "colab_type": "code",
        "outputId": "3b72c403-96f1-423e-f7b1-d5bd9ebf05f5",
        "colab": {
          "base_uri": "https://localhost:8080/",
          "height": 72
        }
      },
      "source": [
        "deemed_outlier_index_test = index_list_long_ques_test +  index_list_long_ans_test\n",
        "deemed_outlier_index_test = list(set(deemed_outlier_index_test)) #remove duplicates\n",
        "print(len(deemed_outlier_index_test))\n",
        "print((deemed_outlier_index_test))"
      ],
      "execution_count": 87,
      "outputs": [
        {
          "output_type": "stream",
          "text": [
            "151\n",
            "[1024, 1034, 2059, 2058, 2574, 2066, 1558, 537, 2075, 2593, 34, 1059, 45, 562, 1081, 1086, 2622, 577, 66, 580, 2630, 2636, 2637, 78, 1612, 80, 2129, 595, 2131, 1108, 2137, 1114, 603, 2650, 607, 98, 2155, 1142, 1663, 2176, 642, 1667, 644, 2181, 2694, 1162, 1165, 142, 143, 2706, 1684, 2708, 2712, 1178, 2715, 1182, 2210, 166, 1705, 1707, 1709, 2235, 701, 2241, 2753, 2244, 2758, 1742, 2255, 2768, 1233, 724, 1756, 2780, 1758, 2783, 1760, 2270, 2275, 2277, 2279, 2285, 754, 2291, 2302, 1791, 771, 267, 1291, 2319, 788, 1820, 2339, 1832, 298, 811, 1836, 303, 2353, 2871, 1339, 2877, 2884, 1867, 844, 1358, 2895, 1367, 346, 348, 2909, 353, 354, 355, 2913, 2916, 2416, 2929, 1398, 1913, 892, 895, 384, 2943, 2434, 2436, 1413, 2949, 1927, 2957, 912, 403, 925, 1953, 1450, 2991, 944, 432, 1458, 2999, 957, 452, 2509, 466, 979, 2520, 2022, 2552, 1530, 2043, 1535]\n"
          ],
          "name": "stdout"
        }
      ]
    },
    {
      "cell_type": "code",
      "metadata": {
        "id": "xdY1wnLtArCI",
        "colab_type": "code",
        "outputId": "6fa0759f-331a-43ec-e70e-dc501a20f819",
        "colab": {
          "base_uri": "https://localhost:8080/",
          "height": 35
        }
      },
      "source": [
        "# ignore outliers\n",
        "testQtmp = [i for j, i in enumerate(testQ) if j not in deemed_outlier_index_test]\n",
        "testSCtmp = [i for j, i in enumerate(testSC) if j not in deemed_outlier_index_test]\n",
        "print (len(testQtmp), len (testSCtmp))"
      ],
      "execution_count": 88,
      "outputs": [
        {
          "output_type": "stream",
          "text": [
            "2849 2849\n"
          ],
          "name": "stdout"
        }
      ]
    },
    {
      "cell_type": "code",
      "metadata": {
        "id": "8DzDZlW-AXhr",
        "colab_type": "code",
        "outputId": "a91d9552-8030-49af-d22e-684c4d12af85",
        "colab": {
          "base_uri": "https://localhost:8080/",
          "height": 159
        }
      },
      "source": [
        "testQtmp[:2]"
      ],
      "execution_count": 89,
      "outputs": [
        {
          "output_type": "execute_result",
          "data": {
            "text/plain": [
              "[{'answer': 'queen',\n",
              "  'question': 'Which is considered the most powerful piece on the chess board',\n",
              "  'tags': ['1tok', 'yes-answer-long', 'yes-answer-short'],\n",
              "  'uid': 's3q17641'},\n",
              " {'answer': '4',\n",
              "  'question': 'If its 4:00 pm in Seattle Washington , what time is it in Portland Oregon',\n",
              "  'tags': ['1tok', 'yes-answer-long', 'yes-answer-short'],\n",
              "  'uid': 's3q1671'}]"
            ]
          },
          "metadata": {
            "tags": []
          },
          "execution_count": 89
        }
      ]
    },
    {
      "cell_type": "code",
      "metadata": {
        "id": "ShFGlnPdoe8o",
        "colab_type": "code",
        "outputId": "cfe42621-d0a9-4563-de93-6bc8a2bee85c",
        "colab": {
          "base_uri": "https://localhost:8080/",
          "height": 1000
        }
      },
      "source": [
        "import time\n",
        "\n",
        "#using top 5 scored passages as per QUASAR dataset  \n",
        "itopN_pred_ans = 19\n",
        "#using only first 200 records due to RAM and runtime limitation\n",
        "n_records = 200\n",
        "\n",
        "#some special chars related to brackets are removed\n",
        "Remove_word_list = ['lrb-' , '-rrb', '-lrb-', '-lsb-', '-rrb-', '-rsb-']\n",
        "\n",
        "pred_ans_list_col_names = {}\n",
        "\n",
        "\"\"\"\n",
        "  build the dataframe to store the results\n",
        "  df_pred - storing predicted ans based on the itopN_pred_ans passages count\n",
        "  df_metrics - storing prediction metrics\n",
        "\"\"\"\n",
        "#re init the dataframes\n",
        "for i in range(itopN_pred_ans):\n",
        "  pred_ans_list_col_names[('pred_ans_' + str(i))] = []\n",
        "df_pred= pd.DataFrame(pred_ans_list_col_names)\n",
        "df_metrics = pd.DataFrame({'actual_ans': [], 'actual_ques': [], 'EM': [], 'precision': [], 'recall': [], 'f1': []})\n",
        "\n",
        "\"\"\"\n",
        " Running prediction loop\n",
        "\"\"\"\n",
        "t1 = time.time() #time it\n",
        "\n",
        "count = 0\n",
        "for id in range(len(testQtmp)):\n",
        "  pred, metrics = get_predicted_answer(testQtmp, testSCtmp, model, itopN_pred_ans, Remove_word_list, id)\n",
        "  count = count + 1\n",
        "  if (count >= n_records):\n",
        "    break\n",
        "  \n",
        "  for i in  range(len(pred)):\n",
        "    pred_ans_list_col_names[('pred_ans_' + str(i))] = pred[i]\n",
        "\n",
        "  df_pred = df_pred.append(pred_ans_list_col_names, ignore_index=True)\n",
        "\n",
        "  df_metrics = df_metrics.append({'actual_ans': metrics[0], 'actual_ques': metrics[1], 'EM': metrics[2], \n",
        "                              'precision': metrics[3], 'recall': metrics[4], 'f1': metrics[5]}, ignore_index=True)\n",
        "\n",
        "t2 = time.time()\n",
        "print('Time for whole code to run: ', (t2-t1))"
      ],
      "execution_count": 90,
      "outputs": [
        {
          "output_type": "stream",
          "text": [
            "0 19 ['the queen', 'the queen', 'the queen u ,', 'queen chess the queen', 'queen', 'pawns', 'bishops', '', 'bishops', '', '', '', '', '', '', '', '', '', ''] , queen\n",
            "1 19 ['saturday sept. 13th music millenium 430pm', '5western oregon 78', '7 p.m', '06:44 pm', 'washington portland seattle oregon washington cascade mountains rob harper gus melonas transportation department national weather service +4', 'hillsboro', '', '187 mi', '', 'seattle', 'overnight', '39', '39', 'idaho', '', '39', '', '', ''] , 4\n",
            "2 19 ['robert redford review', 'robert redford', 'robert redford', 'robert redford', 'george roy hill', 'robert redford', 'robert redford', 'george roy hill', 'robert redford', 'leon ichaso', 'lasse hallstrom', 'george roy hill', 'murray lerner', 'jane fonda and robert redford', 'judith guest', '', '', '', 'robert redford'] , robert redford\n",
            "3 19 ['plan 9 from outer space', 'b-movies', '', '', '', '', '', '', '', '', '', '', '', '', '', '', '', '', ''] , attack of killer tomatoes\n",
            "4 19 ['parrot family', 'new world parrots', 'parrots', 'parrot', 'parrots of the genera ara and anodorhynchus of central and south america', 'new world parrots', 'the parrot family', 'larger than parrots', 'new world parrots', 'nicaragua', 'the patagonian conure', 'parrots in the world', 'birds', '', 'parrots', 'all 18 species of macaws are threatened . they are one of the largest birds in the new world', 'scarlet macaw more on macaws', 'largest -- hyacinth macaw', 'parrot family'] , parrot family\n",
            "5 19 ['september 27 , 2004', 'tuesday , 23 december 2008', '7 september 1992', '7 september 1992', '7 september 1992', '1995-02-28', '2004-09-14', 'december 1991', 'december 1991', 'december 1991', 'april 13 , 1993', '1991', '', 'rrb- 4.5', 'december 1991', '1990', '', '', ''] , 1992\n",
            "6 19 ['joe mcgrath', 'joe mcgrath', 'joe mcgrath', '1979', '1979', 'luciano gaucci', 'the race was last run in 2005 , and its place was taken by a new race , the york stakes', '', '', '', 'peter chapple-hyam', 'willie carson', '', '', '', '', '', '', ''] , willie carson\n",
            "7 19 ['domestic goat', 'domestic goat', 'black goat', 'medium to large animals', 'goat', 'dairy goats', 'goat', 'livestock - anglo-nubian goats', 'european', 'purebred/american goat', 'goats', 'rare and minority livestock breeds', 'goats', 'livestock - kiko goats', 'nigerian dwarf', 'goatlings', 'cashmere', 'goat society website . site : http://www.durham-dairy-goats', 'anglo-nubian breed society british alpine'] , goat\n",
            "8 19 ['sky terrier', 'bobby -lrb', 'greyfriars bobby', 'greyfriars bobby', 'john gray', 'william chambers of glenormiston', 'skye terrier', 'hachiko', 'skye terrier gender male', 'greyfriars bobby greyfriars', 'brown dog', 'brown dog', 'brown dog', 'brown dog', 'brown dog', 'lincoln', 'william chambers of glenormiston', '', 'robert burns'] , greyfriers bobby\n",
            "9 19 ['minnesota', 'minnesota', 'minnesota', 'minnesota', 'minnesota', 'minnesota', 'canada', 'canada', 'canada', 'canada', 'canada', 'canada', 'canada', 'canada', 'canada', 'canada', 'canada', 'canada', 'canada'] , minnesota\n",
            "10 19 ['', 'circus animals', '', '', '', '', '', 'pedigree complete nutrition small crunchy bites', '', '', '', '', '', '', '', '', '', '', ''] , elephants\n",
            "11 19 ['fear of paper', 'fear of intimacy', 'heights', 'paper parabolanus', 'weed', 'fear of paper and bibliophobia fear of books', 'fear of heights', 'fear of paper', 'phobia airplanes aeronausiphobia', 'fear of streets or crossing the street', 'fear of social situations that involve interaction with other people', 'fear of heights', '', 'angrophobia fear of anger or the fear of cholera', 'parasitophobia parents-in-law soceraphobia', 'do you suffer from fear', 'fear of swallowing air', 'papyrophobia papyrophobia', 'agrizoophobia - fear of wild animals'] , paper\n",
            "12 19 ['two points', '2', 'two points', 'two points', 'two points', 'six', 'six points', 'two minutes extra points', '', '', '', 'a touchdown', 'a touchdown', '', '', 'a touchdown', '', '', ''] , two\n",
            "13 19 ['martina hingis', 'tim glover', 'martina hingis', 'chris gilbert', 'martina hingis', 'justin rose', '', 'kim kardashian', '', '', '', 'ronald nussbeck', '', '', '', '', '', '', 'mary carillo'] , martina hingis\n",
            "14 19 ['pope john paul i', 'pope john paul i', 'pope john paul i', 'pope john paul i', 'pope john paul ii', 'luciani albino luciani', 'john paul i', 'benedict ix', 'pope john paul ii', 'benedict ix', 'benedict ix', 'benedict ix', '', 'john paul ii', 'benedict ix', 'john paul ii', 'pope john paul ii', 'john paul ii', 'pope john paul ii'] , john paul i\n",
            "15 19 ['ansky reggey', 'god the father god', 'haile selassie is the living god , a god who is beyond death', 'god the father', 'haile selassie', 'jah or jah rastafari', 'god is all', 'divinity and/or messiahship of ethiopian emperor haile selassie i', 'god is all', 'king of all africans', 'iehouah', 'religion beliefs > christianity', 'haile selassie', '', 'p.o.d. and rastafarianism', 'it is not just a religion to them but a way of life , a struggle for their rights and freedom', '', '', 'bob marley'] , jah\n",
            "16 19 ['telemachus', 'telemachus', 'telemachus', 'telemachus', 'telemachus', 'paris', 'pisistratus', 'telemachus', 'pisistratus', 'telemachus', 'pisistratus', 'penelope', 'aeacus -lrb', 'sisyphus', 'penelope', 'jove', 'olympian jove', '', 'odysseus'] , telemachus\n",
            "17 19 ['yazoo', 'depeche mode , erasure', \"nobody 's diary\", 'yazoo', '', '', '', 'depeche mode', \"do n't go\", 'no romance in china', 'hoodoo', '', '', 'depeche mode', 'yazoo', '', '', 'bourgie bourgie', ''] , yazoo\n",
            "18 19 ['southwest', 'alfred john mendes', 'tefl jobs in the ukraine', 'ukraine', '', '', '', '', '', '', '', '', 'moscow', '', '', 'the soviet union', 'europe', '', 'europe'] , ukraine\n",
            "19 19 ['schreiner farms reindeer reindeer the reindeer', 'old world reindeer', 'the reindeer , known as caribou', 'the reindeer rangifer tarandus', 'the reindeer rangifer tarandus', 'the reindeer rangifer tarandus', 'the reindeer rangifer tarandus', 'the reindeer rangifer tarandus', 'the reindeer rangifer tarandus', 'the reindeer rangifer tarandus', 'the reindeer rangifer tarandus', 'the reindeer rangifer tarandus', 'an arctic-dwelling deer rangifer tarandus', 'the reindeer rangifer tarandus', 'rangifer tarandus , also known as the caribou', 'register caribou', 'the reindeer rangifer tarandus', 'the reindeer rangifer tarandus', ''] , caribou\n",
            "20 19 ['money', 'glass , soap , ash and washing compounds', 'sailors and fishermen', 'construct nests , roost cavities and find food', '', '', 'montgommery wards department stores', '', '', '', '', 'order cetacea', '', '', '', '', '', '', 'spade-shaped'] , money\n",
            "21 19 ['victoria falls', '', '', '', 'victoria falls', '', '', 'zambezi river', '', '', '', '', '', 'victoria falls', 'victoria falls', 'victoria falls', '', '', 'victoria falls'] , zambezi\n",
            "22 19 ['deutsche grammophon', 'rca producer felton jarvis', 'elvis costello', '', 'elvis costello', '', 'elvis costello and the imposters', 'elvis costello', '', '', 'radar records', 'elvis costello', '', 'radar records', 'elvis costello', '', '', 'deutsche grammophon', 'elvis costello'] , elvis costello\n",
            "23 19 ['doctor zhivago', 'doctor zhivago', 'doctor zhivago', 'doctor zhivago', 'salvatore quasimodo', 'il dottor zivago', 'doctor zhivago', 'doctor zhivago', 'doctor zhivago', 'dr. zhivago', 'zhivago', 'a tale of two telegrams', '', 'biography', '', 'doctor zhivago', 'dr. zhivago', 'literature', \"grand prix du roman de l'acad mie fran aise\"] , dr zhivago\n",
            "24 19 ['how many', '0-9', '', '', '', '', '', '', '', '', '', '', '', '', '', '', '', '', ''] , 12\n",
            "25 19 ['royal air force fighters aviation', 'the aviation history of australia', 'blackburn beverley', 'ltd was a british aircraft manufacturer of the first half of the 20th century', '', 'second boer war', 'royal flying corps', 'second boer war , first world war', '', 'it saw combat on both the eastern front and italian front during world war i.', 'military wing of the royal flying corps', 'fighter pilot for the royal air force', 'the raf', 'forestry engineers', 'the raf', '', 'the raf', 'maritime warfare', 'the raf'] , royal\n",
            "26 19 ['order adderall overnight', 'your going to mess his whole world up', 'buy free', 'an individual', 'everywhere', '', '', '', '', '', '', '', '', '', '', '', '', 'the correct treatment', ''] , cash on delivery\n",
            "27 19 ['guadalajara', 'guadalajara', 'guadalajara', 'greater mexico city', 'santiago de quer taro', 'santiago de quer taro', 'guadalajara', 'guadalajara', 'santiago de quer taro', 'basilica de guadalupe', 'melbourne', 'santiago de quer taro', 'paris', 'greater mexico city', 'melbourne', 'quer taro', 'quer taro', 'quer taro', 'united states'] , guadalajara\n",
            "28 19 [\"queens ' college 's so-called mathematical bridge\", \"the mathematical bridge at queens ' college\", '', '', '', 'magdalene street bridge', '', '', '', '', '', 'the bridge of sighs', 'clare college', 'clare college', '', '', '', '', 'rainbow bridge'] , mathematical bridge queens college\n",
            "29 19 ['plain water', 'fresh water', 'best energy drink', 'drinking water', 'fluoride', 'what kind of water', 'water', 'shake', 'cold water', 'types of water filters', 'water and milk', 'water and milk', 'water to lose weight drinking water', 'bottle', 'blood is mostly water', '', 'the most popular', '', 'water water'] , water\n",
            "30 19 ['forty', 'more than fifty', '6 civil war 7', 'three', '4.2', '60', '4.2', '', '', 'how many', '', '4.3', '', '', '', '', '', '', ''] , 80\n",
            "31 19 ['white', 'green shahada', 'single-coloured', 'white', 'white', 'black-red-green', '6', '6', 'pakistan a 88 / 100', 'light blue', 'green , white and black horizontal stripes', '', '', 'green , white and black horizontal stripes', '6', '', '', '', 'black , red , green'] , white\n",
            "32 19 ['2006 - germany world cup', 'asia', '2010', 'fifa futsal 2008', '2010', 'world cup', 'world cup', '`` football world cup', '2006', 'australia world cup 2006', 'fifa world cup', \"`` world cup '' - related terms and sources `` world cup\", 'the first is endemic to the united states', 'nike pro premier league world cup', 'the world cup was not the first international football competition .', '2010 tickets - world cup 2010 england tickets - world cup 2010 south africa world cup', '', 'uruguay', 'football world cup'] , uraguay\n",
            "33 19 ['crucifixion', 'ankh the ankh', 'crux gammata', 'gammadion cross', 'swastika', 'swastika', 'crux ordinaria', \"`` l '' shaped letter gamma\", 'left - directed swastika', '', '', '', '', 'cross name description picture ankh', '', 'swastika & hakenkreuz', '', '', ''] , swastika\n",
            "34 19 ['white house', '', '', '', '', '', '', 'bemis manufacturing company', '', '', '', '', '', '', '', 'royal flush toilet hire', 'pentagon', 'double cascadian toilet building', ''] , pentagon\n",
            "35 19 ['nostophobia', 'mimes and clowns', 'fear extinction', 'vomiting', 'how to conquer stage fright', 'vomiting', 'hypersensitivity of all kinds feelings of fear bordering on terror', 'the fear of doing nothing rules the day', 'loathing on the podium', \"what 's your phobia\", 'are you worried about your credit history', 'social phobia', 'fear vs. panic', '', '', '', '', 'phobias or panic disorder', 'circus of fear'] , nostophobia\n",
            "36 19 ['o.j. simpson', 'eric dickerson', 'jim browns', 'james simpson', 'james simpson', 'chester taylor', 'barry sanders', 'o.j. simpson', 'o.j. simpson', 'bert bell', 'cleveland browns', 'usc', 'james simpson', 'buffalo bills', 'jamal lafitte lewis', '', '', '', ''] , oj simpson\n",
            "37 19 ['battle of ancre', 'second battle of champagne', 'second battle of champagne', 'second battle of champagne', 'battle of the somme', 'battle of the somme', 'battle of the somme', 'battle of the somme', 'allied great retreat', 'allied great retreat', 'allied great retreat', 'battle of the somme', 'battle of the somme', 'battle of albert', 'battle of bucharest', '', '1916 the actions of st eloi craters', '', 'battle of gallipoli'] , battle\n",
            "38 19 ['barbarian', 'bogdana from old slavic', 'greek & latin foreign , strange', 'germanic warriors', 'germanic warriors', 'germanic warriors', 'germanic warriors', 'germanic warriors', 'germanic warriors', 'latin', 'germanic warriors', 'germanic warriors', 'a hill of separation', 'barbaros', 'greek', '', '', '', 'the name zoe comes from the greek origin'] , strange or foreign\n",
            "39 19 ['save the children fund', 'save the children', 'charity organisation society', 'international save the children alliance home', '` save the children', '` save the children', '` save the children', 'save the children', 'save the children in the uk', 'save the children in the uk', 'save the children in the uk', 'save the children in the uk', 'asociaci\\\\u00f3n civil', 'international union for child welfare', 'singapore association for retarded children', 'singapore association for retarded children', 'home arts and industries association', '', \"oxford 's first hospital\"] , save children fund\n",
            "40 19 ['', '', 'virgil', '', '', 'halfwits , inquisitors', '', 'poet', '', '', 'back `` good master', 'cocytus', 'master adam and sinon', '', '', '', '', '', ''] , politicians\n",
            "41 19 ['', 'jerboas', '', '', 'gerbils have long muscular hind legs', '', '', '', 'the hind legs are greatly elongated', 'wild gerbils are rat-sized , long-tailed rodents with rather long hind feet', 'gerbils have large eyes and powerful , elongated hind limbs upon which they can spring', 'jerboas have extremely long hind feet', 'gerbils have large eyes and powerful , elongated hind limbs upon which they can spring', 'gerbils have large eyes and powerful , elongated hind limbs upon which they can spring', 'kangaroo rat kangaroo rat , small , jumping', 'adult frogs', 'jumping', 'voles have stocky bodies with short legs', 'its long hind legs and tail'] , gerbil\n",
            "42 19 ['channel island of jersey', 'channel island of jersey', 'channel island of jersey', 'channel island of jersey', 'jersey zoological park', 'les augres manor , jersey', 'kookaburra', 'les augr s manor in jersey', 'channel islands', 'jersey', 'jersey zoo', 'jersey zoological park', 'western mauritius', 'whipsnade zoo', 'channel islands', '', 'menagerie manor', '', ''] , jersey\n",
            "43 19 ['ecuador', 'ecuador', 'ecuador', 'ecuador', 'ecuador', 'ecuador andes', 'ecuador', 'ecuador', 'ecuador', 'ecuador', 'ecuador', '', 'afghanistan', 'southsouth south', 'ecuador', '', '', '', ''] , ecuador\n",
            "44 19 ['bandleader', 'a young londoner', 'light entertainment television presenters', 'elvis costello', 'actors', 'd.p. costello', 'alice cooper vincent', '', '', '', '', '', 'trumpet player', '', '', 'd.p. costello', '', '', 'paul mc cartney'] , elvis costello\n",
            "45 19 ['isaac hayes', 'isaac hayes', \"donald `` duck '' dunn\", 'muddy waters', '', 'isaac hayes - shaft', '', \"donald `` duck '' dunn\", '', 'isaac hayes', '', '', 'bessie smith', '', '', '', '', '', ''] , isaac hayes\n",
            "46 19 ['jackie gleason', 'jackie gleason', 'the media management group', 'herbert walton gleason , jr.', 'miami beach', 'bill hanna', 'marilyn taylor', 'the media management group', 'herbert walton gleason , jr.', '', '', 'jackie gleason', 'herbert walton gleason , jr.', 'jeff garlin -lrb', 'cbs', '', '', '', ''] , jackie gleason\n",
            "47 19 ['geoffrey chaucer', 'geoffrey chaucer', 'geoffrey chaucer', 'geoffrey chaucer -lrb', 'john chaucer', 'geoffrey chaucer', 'geoffrey chaucer', 'robert le taverner', 'geoffrey chaucer', 'mother philippa of hainault', 'edward iii of england mother philippa of hainault', 'geoffrey chaucer', 'edward iii of england mother philippa of hainault', 'chaucer', 'edward iii of england mother philippa of hainault', 'mother philippa of hainault', 'edward iii of england mother philippa of hainault', 'geoffrey chaucer', ''] , geoffrey chaucer\n",
            "48 19 ['clark kent', 'kal-el', 'kal-el', 'obama', 'kal-el', 'kal-el', 'kal-el', 'kara zor-el', '70', 'kal-el kryptonian name / clark joseph kent', 'krypton abilities under a yellow sun , the same as his daughter supergirl', 'superman', '', '', '', '', '', '', ''] , superman\n",
            "49 19 ['blue-grey', 'very dark blue-grey', 'phthalo blue', 'greenish-grey', 'greenish-grey', '', '', '', '', '', 'green', 'earth colour', '', '', '', '', '', '', ''] , brown\n",
            "50 19 ['ocean colour scene', 'ocean colour scene', 'ocean colour scene', 'ocs', 'the spencer davis group', 'fiction factory', 'the moment', '', '', '', 'lrb', '', '', '', '', '', '', 'ocean colour scene .', ''] , ocean colour scene\n",
            "51 19 ['7', 'seven', 'eight', '1 ? 39', '', 'many', 'eight', 'eight', '', '', 'stripes', '', '', '', '', '', '', '', 'each is designated a colour of the rainbow'] , seven\n",
            "52 19 ['grand cayman', 'andros island', 'roatan', 'antigua', 'anguilla', 'caribbean islands , caribbean island , caribbean island weather , caribbean island travel , islands in the caribbean', 'cruz bay', 'st. thomas', 'west indies', 'grenada guadeloupe guyana haiti jamaica martinique montserrat', 'grand cayman', '', 'antigua & barbuda antigua & barbuda', '', '', 'west indies', '', 'ronde island in grenada', 'isla margarita , venezuela'] , cuba\n",
            "53 19 ['ante meridiem', 'antd', 'ante - what does ante', 'antflt', 'antbd', 'ante christum natum latin : before the birth of christ', 'aviation medicine', 'ante cenam latin : before a meal', 'am', 'prime minister and cabinet australia - what does pm&c', 'antc - what does antc', 'or am', 'zi wu liu zhu acupuncture', 'rrb', '', '', '', 'sc . or scil', ''] , ante meridian\n",
            "54 19 ['lacrimal fluid', 'saline solution', 'fluid flow', 'lacrimal secretion noun saline', 'watery aqueous fluid', 'amniotic fluid', 'fluid fluid in ears', 'tarsal glands', '', '', '', '', '', 'a', 'a the lacrimal gland , which secretes the tears', '', 'a the lacrimal gland', 'drain & pressurize', 'oil'] , lacrimal fluid\n",
            "55 19 ['jays', \"swarm '' is from a group of flying bees\", 'geese in a `` gaggle', 'bull-cow-calf', '', '', '', '', '', '', '', '', '', '', '', '', '', '', ''] , muster\n",
            "56 19 ['big brother , room 101', 'nineteen eighty-four', 'nineteen eighty-four', 'nineteen eighty-four -lrb', 'room 101', 'coming up for air', 'nineteen eighty-four published in britain , 1949 . nineteen eighty-four -lrb', 'room 101', '1984', '', '', '', '', 'anteprima dell ` appunto untitled', '', '', '', '', ''] , 1984 george orwell\n",
            "57 19 ['aliens puppet aliens', 'alien life form', 'lsb- archive - muppet central forum muppet central forum', 'alf tales : alf and the beanstalk and other classic fairy tales', 'hit talk show', 'what is the alf ? alf home the alf press office search alf discuss forum', 'free encyclopedia', 'wikiquote jump', '', '', '', '', '', '', '', '', 'search showcards', '', ''] , alien life form\n",
            "58 19 ['canis major', 'canis major', 'canis major', 'canis major', 'canis major', 'canis major', 'rigel orionis', 'rigel orionis', 'rigel orionis', 'the big dipper', 'rigel orionis', 'canis major canis major', 'sirio sirius', 'canis major', 'canis majoris', '', 'sirius and arcturus', 'night sky', 'canis major'] , canis major\n",
            "59 19 ['don markstein', 'he loved animals', 'debbie does', 'thumper thumping his foot from bambi thumper', 'oscar - berlinale', 'thumper thumping his foot from bambi thumper', 'thumper thumping his foot from bambi thumper', 'a male roe deer beginning life as a fawn', 'thumper thumping his foot from bambi thumper', 'a male roe deer beginning life as a fawn', '', 'walt disney', 'ronno', 'mom', '', '', '', 'walt disneywalt disney walter elias disney', 'candy'] , bird\n",
            "60 19 ['houston', 'in the visitor orientation center', 'the johnson space center is down the road in houston', 'houston', 'space center houston', '', 'rodeway inn & suites medical center - houston', 'galleria at the intersection of westheimer and west loop 610 south', 'houston hotels', 'houston marriott medical center hotel is located in the heart of the texas medical center', 'houston - texas - hotel houston - texas - derek', 'houstontx.gov', 'houston , tx', '', '', 'houston commercial office space home', 'close to texas medical centre', '14 acre oasis that beckons from the warm ivory beaches of aruba', 'houston comfort inn brookhollow hotel prices'] , texas\n",
            "61 19 ['carlisle', 'carlisle', 'london', 'london', 'london', 'london', 'london', 'london', 'london', 'london', 'london', 'london', 'london', 'london', 'london', 'november 1 , 1858', '1661', '', '1612'] , bombay\n",
            "62 19 ['sylvia thomas', 'delaney and bonnie bramlett', 'frank mcdonald', 'george harrison and eric clapton', 'delaney and bonnie bramlett', 'delaney and bonnie bramlett', 'delaney and bonnie bramlett', 'george harrison', '', '', 'patricia molly clapp and edward walter fryer', '', '', '', '', '', '', '', ''] , eric clapton\n",
            "63 19 ['', '', '', '', 'orange rose red rose white rose pink rose', '', '', '', '', '', '', '', '', '', '', '', '', '', 'elegant floral arrangements'] , pomegranate flower\n",
            "64 19 ['beer disease', 'cowpox', 'schizophrenia', 'mes amis', 'evil genius', 'how does a disease develop ?', 'evil genius', '50 and over chronic', 'poverty', '', 'diarrheal', 'sick', '', '', 'fever', '', '', '', ''] , rabies\n",
            "65 19 ['dacia', 'romania', 'romania', 'romania', 'romania', 'moldova', 'moldova', 'dacia', 'moldova', 'romania', 'romania', 'transylvania', '', 'moldavia', '', 'moldavia', '', '', ''] , romania\n",
            "66 19 ['philadelphia', 'massachusetts', 'pennsylvania', '', '', '', '', 'pennsylvania county', 'pennsylvania', '', '', 'pennsylvania', '', '', '', '', '', '', 'pa'] , pennsylvania\n",
            "67 19 ['haile selassie', 'amha selassie i', '', '', '', 'prince regent tafari', 'marcus mosiah garvey', 'prince beede mariam', 'haile selassie', 'tafari makonnen', '', '', '', '', '', 'mohammed ali', '', 'lij taffari makonnen', ''] , haile selassie\n",
            "68 19 ['simon', 'michael flatley', 'beastie', 'lord of the flies', '` jack', 'ralph', 'piggy', 'piggy', 'piggy ----------------- piggy', 'jack merridew', '', '', '', 'simon', '', '', '', 'ralph', ''] , piggy\n",
            "69 19 ['matoaka', 'bright stream between two hills', 'rebecca', 'matoaka', 'hungarian pronunciation of english old hungarian script english words from hungarian', 'matoaka', 'old hungarian script english words from hungarian', 'old hungarian script english words from hungarian', 'pakahantes sounded like `` pocahontas', '', '', '', '', '', '', '', '', '', ''] , rebecca\n",
            "70 19 ['egyptian and greek', 'hieroglyphs and demotic script and classical greek', 'ancient egypt in both its hieroglyphic and demotic forms , and ancient greek', 'greek , demotic and hieroglyphs', 'greek', 'arabic', 'swedish level 1', 'top - egyptian heiroglyphs middle - later demotic - heiratic writing bottom - greek', 'demotic and hieroglyphic', 'greek , roman , christian , islamic and arab', '', 'greek', 'africa', '', '', '', 'egyptian language', 'ancient egyptian', ''] , egyptian greek\n",
            "71 19 ['kitten', 'kitten', 'kitten', 'kitten', 'melting', 'one full free movie porn', '', '', '', '', '', 'multilingual specase cause of the realising ice', '', 'bluefish', '', '', '', '', ''] , mackerel\n",
            "72 19 ['prevention of crime', '', '', '', '', '', '', 'speeding drivers', 'how does a police department file a reimbursement claim', '', '', '', '', '', '', '', '', '', ''] , sit down\n",
            "73 19 ['marilyn monroe', 'whitney leigh playboy cyber girl', 'marilyn monroe', 'marilyn monroe', 'marilyn monroe', 'ellen stratton', 'marilyn monroe', 'marilyn monroe', 'under her', 'a playmate', 'a playmate is a female model', 'neva gilbert', 'a playmate is a female model', '', 'a playmate', 'a playmate', 'a playmate is a female model', 'carmella decesare meets with fans a playmate is a female model', '2004'] , marilyn monroe\n",
            "74 19 ['baking soda', 'bicarbonate of sodium', 'sodium chloride', 'soda pinch of salt 2 tb', '', '', '', 'sodium bicarbonate', 'sodium 115mg -lrb', '', 'sodium hydrogen carbonate', '', '', '', '', '', '', '', ''] , baking soda\n",
            "75 19 ['silver ball trophy', 'durham f.a challenge cup', 'the chatham cup', 'fa cup football ticket semi finals , final', 'european cup at wembley stadium', 'the conn smythe trophy', '', '', '', '', 'hec crighton trophy', '', 'henry burris', '', '', '', '', 'the stanley cup', ''] , grey cup\n",
            "76 19 ['deportation outside the country of residence', 'deportation outside the country of residence', 'deportation outside the country of residence', '', '', 'forced resettlement within the country of residence', '', 'banishment or exile is a similar process , but is forcibly applied to individuals and groups', 'banishment or exile is a similar process , but is forcibly applied to individuals and groups', '', 'banishment or exile is a similar process , but is forcibly applied to individuals and groups', 'banishment or exile is a similar process , but is forcibly applied to individuals and groups', 'deportation', 'overstay their visa , or face trial by another country', 'forcibly', '', '', 'enter the country illegally , overstay their visa , or face trial by another country', ''] , deport\n",
            "77 19 [\"st. paul 's bay\", 'malta', \"st paul 's bay harbour\", 'malta', 'los angeles convention ministry of comfort 2 cor1 :4', 'rome', 'malta', '', '', '', 'mare adriaticum adriatic sea', '', '', '', '', '', '', 'st. paul ; st joseph corpus christi', 'rome'] , malta\n",
            "78 19 ['mata hari', 'matahari', 'matahari', 'mata hari', 'matahari mata hari', 'mata hari', 'matahari', 'mata hari', 'mata hari', 'matahari', 'matahari', 'matahari', 'matahari', 'matahari', '', 'mata hari definition of mata hari', 'mata hari', '', 'honeytrap lies and women spies'] , mata hari\n",
            "79 19 ['holby city hospital', 'bbc bristol', 'holby city hospital', 'holby city hospital', 'the london hospital in the east end of london', '24', 'tribeca', 'bristol', 'bristol', 'bristol', 'hollywood boulevard', 'hollywood boulevard', 'bristol', 'bristol', '', 'cebu', '', '', ''] , bristol\n",
            "80 19 ['eastertide', 'seventh sunday', 'pentecost sunday', \"the nativity of christ saints ' days\", 'the feast of unleavened bread to the lord', 'pentecost', 'pentecost sunday', 'paschal time', 'pentecost', 'pentecost 2008 - easter is capricious - focus on passover', 'count 50', 'paschal time', 'paschal time', 'paschal time', 'pentecost', 'matthew 15:9 - `', '', 'julian', 'duration : one day'] , pentecost\n",
            "81 19 ['posh spice', 'posh spice', 'spice girls', 'spice girls', 'spice girls', 'singer and fashion designer', 'singer , songwriter , fashion designer', 'singer / actor', '', '', 'del.icio', '', 'electrical warehouse business', '', '', '', '', '', ''] , posh spice\n",
            "82 19 ['nightshade', 'nightshade', 'fungi', 'solanaceae', 'purple', 'nightshade family', '', 'pickling dandelion', 'aubergine eggplant is actually a fruit', 'flowers', '', 'tomatoes , peppers and potatoes', 'solanaceae', 'euphorbia family', '', '', 'root vegetables', '', ''] , thistle\n",
            "83 19 ['puma , cougar', 'cougar , panther , and puma', 'puma concolor', 'cougar', 'katya', 'mountain lion cougar', 'panther , or catamount', 'cougars , pumas , panthers , and catamounts', 'puma', 'cougar', 'puma or coguar', 'mountain lion hunting guides , guiding for mountain lion', 'felis concolor', 'a cat by any other name', 'big cat', 'gato monte cat of the mountain', '', '', ''] , puma\n",
            "84 19 ['handel', '', '', 'lady henrietta spencer churchill', '', 'grace kelly and princes raniero of monaco', '', '', '', '', '', '', '', '', '', '', 'what ever love', '', ''] , kiri te kanawa\n",
            "85 19 ['1907', '1900', '1907-1908', '1907', '1907', '1907', '1907', '1907', '1907', '1907', '1907', '1907', '1907', '1970', '1970', '1970', '1970', '1883', ''] , 1907\n",
            "86 19 ['san marino', 'san marino', 'the third smallest state in europe -lrb', 'san marino', 'san marino', 'san marino', 'lrb', \"the world 's third smallest state\", 'san marino', 'san marino', 'san marino', 'italy', 'san marino', 'san marino', 'san marino claims to be the oldest republic in the world', 'san marino', '', 'san marino', 'san marino'] , san marino 301 ad\n",
            "87 19 ['east of eden', 'east of eden', 'east of eden , the 1952 novel', '', '', '', '', '', '', '', '', 'tortilla flat', '', '', '', '', '', '', ''] , east of eden\n",
            "88 19 ['rio de janeiro', 'rio de janeiro', 'rio de janeiro', 'rio de janeiro', 'rio de janeiro', 'rio de janeiro', 'maracana', 'rio de janeiro', 'rio de janeiro', 'rio de janeiro', 'rio de janeiro', 'rio de janeiro', 'rio de janeiro', 'rio de janeiro', 'london city', 'sao paulo', 'quito', 'chicago', 'buenos aires'] , rio de janeiro brazil\n",
            "89 19 ['cary st. lawrence', 'cary st. lawrence', 'cary st. lawrence', 'cary st. lawrence', 'cary st. lawrence', 'jack kirby', 'stan lee and jack kirby', 'stan lee', 'marvel comics character of the same name', 'stan lee', 'lou ferrigno', 'lou ferrigno', 'rick jones', 'neal mcdonough', 'rick jones', 'bruce banner aka the hulk and rick jones', 'erica bana', 'marvel superhero hulk and the 2008 film', 'bruce banner aka the hulk and rick jones'] , rick jones\n",
            "90 19 ['amazon river', 'tambopata river', 'congo river', 'congo river', 'congo river', '', '', '', 'congo river', 'the congo river', 'the congo river', '', '', 'sabaki river tana river', '', '', '', 'the congo river the congo river', ''] , congo zaire\n",
            "91 19 ['collectible memorabilia , valuable antiques , antiques and collectibles', 'digitalgiftstore.com', 'english cameo glass', 'violet-blue glass', 'roman cameo glass , 1st century', 'we have more pieces in most of these patterns for sale', 'antique brass bucket antiques', 'porcelain , ceramics and glass', 'crystal stemware glass vases ceramic vases cushions', '', 'free online encyclopedia', 'free encyclopedia portland vase from wikipedia', 'art glass', 'a first century bc roman cameo glass vase', 'violet-blue glass', 'hand blown glass , and fine art', '', 'art glass', ''] , glass\n",
            "92 19 ['prada mens pr55hs', 'i wan na pet - havana brown is the havana brown right for you', 'cfa breed standard', 'is the havana brown right for you', 'french lop rabbit', 'cfa breeds', 'traditional cat association', 'abyssinian american bobtail', 'havana brown puss cats', 'a solid chocolate brown hybrid cat', 'cat', 'the havana brown cat breed profile', '', 'japanese bobtail', '', 'the havana brown is a hybrid breed', 'havana brown log', 'the havana brown is a hybrid or man-made breed', ''] , small rabbit\n",
            "93 19 ['400 pound', 'two nickels', 'ninety-nine cents', 'how many ounces', 'how many ounces', 'close to nine bags', '100', '31.1034768 grams', '9.4 g', '', '', '16 ounces', '43 millimeters', 'what weighs more 1kg of feathers or 1kg of bricks', '', '250', '', '', ''] , one ounce\n",
            "94 19 ['brazil and argentina', 'qatar', 'bolivia', 'argentina', 'pacific ocean in the west', 'panama', 'argentine republic', 'west b. . . on the southeast', 'belize', 'argentina', 'guatemala and mexico', 'guatemala guatemala', 'colombia and peru', 'belize', 'belize has more in common with the caribbean island-states', '', 'west', 'south atlantic oceans , caribbean', 'belize'] , belize\n",
            "95 19 ['trygve lie', 'trygve lie', 'trygve lie', 'trygve lie', 'trygve lie', 'trygve lie', 'ban ki-moon', 'ban ki-moon', 'gladwyn jebb', 'gladwyn jebb', 'ban ki-moon', 'ban ki-moon', 'ban ki-moon', 'ban ki-moon', 'gladwyn jebb', 'ban ki-moon of south korea', 'gladwyn jebb', 'franklin d. roosevelt', 'franklin d. roosevelt'] , trygve lie\n",
            "96 19 ['kitt', 'reynard inverter', 'kitt', 'two thousand', 'kitt', 'ferrari 308gts', 'kitt', 'pontiac trans am', 'kitt', 'knight industries two thousand', 'knight industries three thousand -lrb', 'michael', 'knight industries two thousand', 'fozzie bear', '', '', 'kitt', '', ''] , kitt\n",
            "97 19 ['4.5 seconds', 'one innings , many innings', '1452', 'full toss/beamer', 'bowl a full toss', '', '4', 'irregular bounce', 'full toss/beamer', '', '', '', '', '', '', '6', '', '', ''] , none\n",
            "98 19 ['liverpool liverpool uk', 'lancaster', 'yahoo', 'london', 'south kensington', 'cologne', 'liverpool', 'liverpool', '', '', '', 'pompey', '', '', '', 'city of bristol', '', '', 'southwell'] , liverpool\n",
            "99 19 ['john malkovich', 'john malkovich', 'dick tracy', 'dick tracy', 'dick tracy', 'anne jeffreys', 'emil trueheart', 'emil trueheart right in front of his family and tracy', \"tracy 's girlfriend\", 'emil trueheart right in front of his family and tracy', 'the reader', 'tyler wentworth', 'dick tracy', 'emil', 'dick tracy', '', 'emil', \"tracy 's girlfriend , tess trueheart , is kidnapped and her father murdered . tracy\", 'dick tracy'] , dick tracy\n",
            "100 19 ['george fox', 'george fox', 'george fox', 'george fox', 'george fox', 'george fox', 'george fox', 'george fox', 'george fox', 'friends pacific academy', 'william allen', 'george fox', 'robin e. baker', 'quakers religious society of friends', '', 'jack willcuts', 'charles ii', 'robin e. baker', 'robin e. baker'] , george fox\n",
            "101 19 ['the french connection', 'the french connection', 'dead poets society', 'the french connection', 'french connection 2', 'the french connection', 'the broadway melody', 'a tree grows in brooklyn . gleason also is remembered for playing police inspector oscar piper', '`` sunday in new york', '` the talented mr. ripley', 'oliver reed', 'thomson and thompson', '', '', '', '', '', '', ''] , french connection\n",
            "102 19 ['the second home is considered the play maker', 'lacrosse', 'goalie', '', '', '', 'sports nutrition', '', '', '', '', 'backhand the act of shooting or passing from behind one back . box defence', '', '', '', '', '', '', ''] , lacrosse\n",
            "103 19 ['curling matches', \"if you have n't already\", 'be thankful that we hardy duluthians have more common sense and better developed winter driving skills', 'curling', 'you can sign up as a team or as an individual', 'planning bonspiels', 'game play click to join the club olympic curling', 'heartland cupan inhouse skins tournament', 'cca canadian curling association', '', '', 'club organizers', 'leaside curling club - information for members', '', '', '', '', '1 2 3 4 5 6 7 8', ''] , curling\n",
            "104 19 ['how many years', '150', 'one year or twenty', 'two', '', '10 million', '15 billion years', '', '8', '2006', '', '', '2006', '25', '20 years recovery term of the investment : 7.84 years', '', '', '', ''] , 150\n",
            "105 19 ['the slender day', 'flower fairies', 'fave', '', 'moccasin flower', '', 'serapias cordigera', '', '', '', \"the world 's like a rose\", '', '', '', '', '', '', '', \"the world 's like a rose\"] , orchis\n",
            "106 19 ['peso', 'only $ 99', 'cent is a monetary unit that equals th', '', '', '', '', '', '', '', '', '', '', '', 'real -lrb', '', 'us dollar', '', ''] , real\n",
            "107 19 ['peerage of scotland and peerage of ireland', '10th duke of marlborough', '10th duke of marlborough', '10th duke of marlborough', '10th duke of marlborough', 'peerage of scotland and peerage of ireland', '10th duke of marlborough', '10th duke of marlborough', '10th duke of marlborough', 'the peerage of england', 'the peerage of england', '', '', '', '', 'united kingdom', '', 'the title duke of beaufort in the peerage of england', 'the title duke of beaufort in the peerage of england'] , duke of marlborough\n",
            "108 19 ['spelling bee', 'the sound of music', 'disney', 'star !', '1981', '1964', 's.o.b.', '1964', '', \"walt disney 's film\", \"walt disney 's film\", 'lollipoppins', 'chim chim cheree feed the birds jolly holiday', 'pinocchio', \"walt disney 's film\", \"walt disney 's film\", '', '', 'swordfish'] , sob\n",
            "109 19 ['what is the capital of japan', 'what', 'japan', 'tokyo', 'bambooweb', 'tokyo', 'tokyo , japan tokyo , japan', 'nara', 'japan - wikipedia , the free encyclopedia capital of japan', 'japan - wikipedia , the free encyclopedia capital of japan', 'tokyo', 'capital of japan - wikipedia , the free encyclopedia capital of japan', 'tokyo', 'tokyo city', 'prefectures of japan', '', 'honshu -lrb', 'tokyo', ''] , tokyo\n",
            "110 19 ['', 'the main entrance should be visually prominent', '', 'the principal entrance in the centre of the left-hand block', '', 'facade', '', '', '', '', 'open at front and sides', '', 'lower in elevation than the principal nave', '', \"cour d'honneur\", 'the main entrance location', 'east', 'the facade', ''] , facade\n",
            "111 19 ['fava beans and nice chiante', 'fava beans', 'fava beans , chianti', 'fava beans and a nice chianti', 'fava beans', 'fava beans', 'fava beans', 'an onions', '', '', '', 'a well scrubbed , hustling rube', '', '', '', '', '', '', ''] , fava beans\n",
            "112 19 ['mohammed', 'baraa', 'baraa', 'baraa', 'baraa', 'baraa', 'baraa', 'mohammed', 'ism', 'the most common name for a boy is', '', '', '', '', '', '', '', '', ''] , mohammed\n",
            "113 19 ['pebbles and bamm-bamm', '', '', '', '', '', '', '', '', '', '', '', '', '', '', '', '', '', ''] , fred flintstone\n",
            "114 19 ['antisthenes', 'epicurus romans', 'hermarchus', 'epicurus', 'zeno 335-263 b.c.', 'history epicurus', 'plato', 'epicurus', 'epicurus', 'neocles', 'pierre gassendi epicurus', 'diogenes laertius', 'epicurus', 'epicurus', 'epicurus', 'plato and aristotle', 'epicurus', 'scotus eriugena', 'epicurus - new world encyclopedia epicurus'] , epicurus\n",
            "115 19 ['cocktail blender free games', 'the best passport in the world is a polo handicap', 'fip tournaments world championships', 'polo - polo', '', '', '', '', 'painting , polo , board games', 'courage', 'fip tournaments world championships', '', '', \"a bottle of pol roger 1928 , one of sir winston 's favourite vintages\", \"polo handicap is your passport to the world '' by winston churchill polo\", 'videos', '', '', 'play literature games'] , polo\n",
            "116 19 ['iceland', 'iceland', 'iceland', 'russia', 'iceland', 'canada', 'germany', '1967', '1967', '1967', 'us and the uk', '1975', 'canada', 'brazil', '1933', 'united states', '', 'late 1960s and early 1970s', ''] , iceland\n",
            "117 19 ['the jacksons', 'the jacksons', 'the jacksons', 'the jacksons', 'the jacksons', 'stargate sg-1', 'stargate sg-1', 'stargate sg-1', 'scarecrow and mrs. king', 'the millionaire', 'sally hemings : an american scandal', 'the dakotas', '`` fame', 'the jackson 5', 'fame 2003', '', '', '', 'fame 1982'] , fame\n",
            "118 19 ['abhishek kumar yadav', 'guillaume apollinaire guillaume albert vladimir apollinaire de kostrowitzky', 'stephen king', 'stephen king', 'stephen king', 'stephen king', 'stephen king', 'stephen king', 'thinner', 'charles dodgson', 'charles dodgson', 'charles dodgson', 'charles dodgson', 'charles dodgson', 'charles dodgson', 'charles dodgson', 'charles dodgson', 'charles dodgson', 'w. n. p. barbellion'] , steven king\n",
            "119 19 ['no native snakes', 'smaller population', 'no native snakes', 'native snakes', 'predators', 'scholarship', 'clarity', '', '', '', 'ads', '', '', '', '', 'the kumara is not just a source of food', '', '', ''] , native snakes\n",
            "120 19 ['pablo picasso', 'pablo ruiz y picasso', 'pablo picasso', 'pablo ruiz picasso', 'pablo picasso', 'pablo picasso', 'pablo picasso', 'pablo picasso', 'pablo picasso', 'pablo picasso', 'pablo picasso', 'pablo picasso', 'pablo picasso', 'pablo picasso', 'pablo picasso', 'pablo picasso pablo picasso', 'pablo picasso', 'pablo ruiz picasso', 'pablo picasso'] , pablo picasso\n",
            "121 19 ['lord of the flies', 'lord of the flies', 'the lord of the flies', 'lord of the flies summary', 'lord of the flies', 'lord of the flies', 'lord of the flies study guide', 'lord of the flies', 'biography', 'treasure island', 'lord of the flies', 'lord of the flies', 'lord of the flies : a religious allegory', '', '', 'lord of the flies study guide', 'lord of the flies', '', 'lord of the flies summary'] , lord of flies\n",
            "122 19 ['bbc home service gaelic language programming', 'regular entertainment programs', 'scottish gaelic-language programming', 'simultaneous broadcasting', 'television', 'first outside broadcast', '', '', 'television', 'young musician of the year', '', 'international tests', '', '', '', '', '1923 - 1924 - 1925', 'bbc 2bd', 'kdka , a pittsburgh westinghouse station , transmits the first commercial radio broadcast'] , opera\n",
            "123 19 ['oceanic vending', 'tropical fish in the long island area . it is a non profit organization dedicated to the study of aquatic life', '', '', 'freshwater - using field rock in freshwater aquarium - free online pictures of freshwater fish circle', 'an oasis of life', '', 'create decor & beauty', 'if you lead a very active life and not home much', '', '', 'an ocean journey', '', '', '', '', 'cleaning your aquarium does not need complicated tools , supplies and processes', '', ''] , freshwater fish\n",
            "124 19 ['mexico', 'gulf of mexico', 'gulf of mexico', 'mahalo mahalo', 'gulf of mexico', 'the atlantic ocean', 'the persian gulf', 'gulf of mexico', 'gulf of mexico', '', 'gulf of mexico', 'vancouver island -lrb', 'gulf of mexico', '', '', 'united kingdom , europe', 'alabama', '', ''] , gulf of mexico\n",
            "125 19 ['president roosevelt', 'president theodore roosevelt', 'theodore roosevelt', 'desmond tutu', 'theodore roosevelt', 'theodore roosevelt', 'president theodore roosevelt', 'theodore roosevelt', 'martin luther king jr.', 'gunnar knudsen', 'theodore roosevelt', 'fr d ric passy and jean henry dunant', 'alfred nobel', 'norwegian nobel committee', 'theodore roosevelt', 'alfred nobel', 'theodore roosevelt', 'roosevelt', 'alfred nobel'] , theodore roosevelt\n",
            "126 19 ['permit', \"driver 's licenses\", 'mobile privacy', \"his 2-year-old , american-born daughter 's name and social security number\", '', 'wild skunks are either illegal to keep as pets or professionally discouraged as pets', 'your bathrobe', '', 'leave', '', '', '', 'minnesota', '', '', 'rsb- minnesota mississippi', '', '', ''] , skunk\n",
            "127 19 ['giorgio moroder', 'giorgio moroder', 'martin rushent', 'giorgio moroder limahl', 'giorgio moroder', 'giorgio moroder', 'richard mainwaring', 'giorgio moroder', 'richard mainwaring', '', '', '', '', '', '', '', '', 'malcom maclaren', ''] , giorgio moroder\n",
            "128 19 ['kuala lumpur kuala lumpur', 'kuala lumpur', 'kuala lumpur', 'kuala lumpur', 'kuala lumpur malaysia - kuala lumpur city , kuala lumpur tourism , travel to kuala lumpur kuala lumpur', 'kuala lumpur', 'kuala lumpur', 'kuala lumpur', 'kuala lumpur city centre', 'kuala lumpur kl', 'kuala lumpur', 'malaysia maps national anthem of malaysia', 'kuala lumpur', '', 'kuala lumpur kl , the capital city of malaysia', '', 'kl is the major gateway to malaysia', 'johor', ''] , kuala lumpur\n",
            "129 19 ['brussels', 'the capital of europe', 'the city of brussels city of brussels brussel', 'brussels brussels', 'brussels-capital region', 'region of brussels', 'brussels bruxelles', 'brussels brussels', 'brussels bruxelles', 'brussels bruxelles', 'city of brussels', '', 'region de bruxelles', '', 'city of brussels', 'city of brussels', 'city of brussels', 'brussels bruxelles', 'city of brussels'] , brussels\n",
            "130 19 ['how does the total population of new jersey rank compared to the other states', 'new jersey new jersey', 'new jersey new jersey new jersey', 'newark area', 'newark area', 'newark area', 'trenton largest city', 'newark area', 'newark area', 'newark area', 'newark area', 'newark area', 'newark area', '', 'sussex county , new jersey map location', 'the country has fifty states', 'newark area', 'newark area', 'newark area'] , new jersey\n",
            "131 19 ['haggis hurling', 'hammer throwing , and piping the dancing contests', 'poles', \"tossing from the 6 o'clock position\", '', '', '', '', 'length , weight , type of wood , density , circumference , etc.', '', '', '', 'sheepdog trials', '', '', 'there are no uniform standards', '', 'there are no uniform standards', ''] , wearing kilt\n",
            "132 19 ['england', 'england', 'michigan', 'ohio state university', 'hawthorne heights', 'ohio', 'canada', '', '', '', '', '', 'england and australia', '', '', 'canada', '', 'ireland', 'if not for you'] , ohio banks of ohio\n",
            "133 19 ['the world is not enough', 'the world is not enough', 'the world is not enough', 'the world is not enough', 'the world is not enough', 'the world is not enough', 'quantum of solace', 'quantum of solace', 'cigar girl', 'dr. no', 'dr. no', 'dr. no', 'dr. no', 'the man from u.n.c.l.e.', 'james bond the 007 lamest', 'goldmember', 'dr. no', '', ''] , world is not enough\n",
            "134 19 ['', '', '', '', 'rykodisc', 'chumbawamba', '', '', 'rap up', '', '', 'rca writer lou reed', 'david bowie', '', '', '', '', '', 'mgm records writer lou reed'] , lou reed\n",
            "135 19 ['astrology , tarot , poetry , psychic readings , and matters of the spirit', 'tarot jewelry pendants and earrings', 'love compatibility and tarot card', 'tarot-based advice', '', 'the major arcana cards', 'princes and chariots', '', 'the hanged man transformation temperance', 'nine of swords , the sun , nine of batons', '', 'sitsky and gray', 'temperance', '', '', 'high priestess empress emperor hierophant lovers', '', 'the wheel of fortune justice', '8 justice is 11'] , tarot cards\n",
            "136 19 ['great wall of china', 'great wall of china', 'the current great wall', 'the great wall', 'the great wall of china', 'the great wall of china', 'great wall', 'galaxy filaments', 'the great wall', 'the great wall of china', 'plane wash', 'the great wall of china', 'galaxy formation large-scale structure galaxy filaments', 'the great wall of china', 'great wall', 'high and strong and massive', 'it is one of the oldest man-made monuments on earth', '', ''] , great wall of china\n",
            "137 19 ['1843', '2006', '2006', '2006', '', '', '', '', '', '', '', '', '', '', '', '', '', '', ''] , 1846\n",
            "138 19 ['tobacco amblyopia tobacco amblyopia', 'tobacco amblyopia', '2 no smoking ban to be decided', '', '', '', '', '', '', 'tobacco budworm', '', '', '', 'semiautomatic assault rifles', 'tobacco', '', '', '', 'firearm owners protection act'] , refreshing\n",
            "139 19 ['', '', '', 'credit card casinos deposits', '', 'it became the first independent credit card company in the world .', '', 'it became the first independent credit card company in the world', '', '', '', '', 'the first credit card charge was made on february 8 , 1950', 'it became the first independent credit card company in the world', 'credit card perks & benefits # 1 online credit card', 'it became the first independent credit card company in the world', 'it became the first independent credit card company in the world', 'it became the first independent credit card company in the world', 'credit cards'] , diners club\n",
            "140 19 ['javert', 'javert', 'javert', 'javert', 'inspector javert', 'inspector javert', 'javert', 'javert', 'inspector javert', 'inspector javert', 'inspector javert', '', '', 'paroled convict', '', 'big javert', '', '', ''] , javert\n",
            "141 19 ['douglas adams douglas adams douglas adams', 'douglas adams', 'douglas noel adams', 'douglas noel adams', 'douglas noel adams', 'douglas noel adams', 'douglas noel adams', 'douglas noel adams', 'douglas adams', 'douglas adams', 'douglas adams', 'douglas adams douglas adams', 'douglas adams', 'douglas adams', 'douglas noel adams', 'douglas noel adams', 'douglas adams', 'douglas adams', ''] , douglas adams\n",
            "142 19 [\"j. r. r. tolkien 's legendarium\", \"j. r. r. tolkien 's legendarium\", \"j. r. r. tolkien 's legendarium\", \"j. r. r. tolkien 's legendarium\", \"j. r. r. tolkien 's legendarium\", \"j. r. r. tolkien 's legendarium\", \"j. r. r. tolkien 's legendarium\", \"j. r. r. tolkien 's legendarium\", \"j. r. r. tolkien 's legendarium\", \"j. r. r. tolkien 's legendarium\", \"j. r. r. tolkien 's legendarium\", \"j. r. r. tolkien 's legendarium\", \"j. r. r. tolkien 's legendarium\", '', '', '', '', 'saruman', 'saruman'] , lord of rings\n",
            "143 19 ['french', 'american', 'canadian', 'canadian', 'french', 'canadian', 'france', 'france', 'who', 'american', '', '', 'what', 'french', '', 'blind', 'bangladesh', 'uk', ''] , french\n",
            "144 19 ['daimler-benz', 'maruti suzuki', 'mercedes-benz museum', 'mercedes-benz', 'mercedes-benz', '', 'daimler ag', '', 'daimler ag', '', '', '', 'mercedes-benz', '', '', '', '', '', ''] , daimler benz\n",
            "145 19 ['1903', '2009', '1925', '1965', '1965', '1919', '1986', '1919', '1919', '1919', '1919', '1919', '1919', '1986', '1894 to 1914', '1894 to 1914', '', '', ''] , 1903\n",
            "146 19 ['` fried sauce', 'a syndicate of talent about creators', '` fried sauce', '` fried sauce', 'heart stopping belly cutting loss of head honorable death 2', 'an evil person throw back the body of christ you have the body 4', 'dum-da-dum da-dee dum-dum', 'high point of achievement', 'useless', '`` new tendency', 'all the best trivia', 'all the best trivia', 'all the best trivia', 'all the best trivia', 'ontrivial effort', '', 'to be brought back from the dead', '', '`` green'] , three roads\n",
            "147 19 ['the vacuum flask', 'the vacuum flask', 'the vacuum flask', 'the vacuum flask', 'the vacuum flask', 'the vacuum flask', 'the vacuum flask', 'the vacuum flask', 'a container for liquid oxygen', 'the vacuum flask', 'joseph aspdin cordite', 'james dewar -lrb', '', 'smokeless explosive cordite', 'the de', '', 'scot james chalmers', '', 'an insulating bottle , dewar flask'] , vacuum or thermos flask\n",
            "148 19 ['chemical substances that can inhibit the growth of , and even destroy , harmful microorganisms', 'antibiotics inhibit', 'inhibit the growth of or destroy certain other microorganisms', 'antifungal agent', 'antibiotics diffuse out from antibiotic-containing disks and inhibit growth of s. aureus', 'acaricide', 'antibiotics diffuse out from antibiotic-containing disks and inhibit growth of s. aureus', 'they kill bacteria', 'they kill bacteria', 'antibiotics diffuse out from antibiotic-containing disks and inhibit growth of s. aureus', 'antibiotics diffuse out from antibiotic-containing disks and inhibit growth of s. aureus', 'they kill bacteria', 'antibiotics diffuse out from antibiotic-containing disks and inhibit growth of s. aureus', 'inhibit', 'many antibiotic compounds used in modern medicine are produced and isolated from living organisms', 'most clinically-useful antibiotics are produced by microorganisms', 'they kill bacteria', 'they kill bacteria', 'they kill bacteria'] , antibiotics\n",
            "149 19 ['onion', 'alliaceae', 'blueberry', 'onion family', 'alliaceae', 'alliaceae', 'alliaceae', 'alliaceae', 'alliaceae', 'alliaceae', 'alliaceae', 'alliaceae', 'alliaceae', 'alliaceae', 'alliaceae', 'alliaceae', 'alliaceae', 'ginseng araliaceae', 'amaryllidaceae'] , lily\n",
            "150 19 ['', '', '', '', 'john travolta', '', 'kerry butler', '', '', '', '', '', '', '', '', '', '', 'john travolta', ''] , marie osmond\n",
            "151 19 ['lee', 'lee', 'lee', 'lee', 'lee', 'amy johnson', 'amy johnson', 'amy johnson', 'amy johnson', 'amelia earhart', 'annis', '', '', 'ruth rowland nichols', 'ruth rowland nichols', 'debbie denny mcbride', '', '', ''] , amy johnson\n",
            "152 19 ['igor sikorsky', 'igor ivanovich sikorsky', '', '', '', '', '', '', '', '', '', '', '', 'igor sikorsky', '', '', '', '', ''] , igor\n",
            "153 19 ['lrb', 'clarence odbody', 'clarence odbody', 'clarence', 'george bailey', 'jimmy stewart', 'kid stuff maps', 'clarence odbody', 'clarence odbody', 'clarence', 'clarence odbody', 'clarence odbody', 'clarence', 'frank capra', 'clarence odbody', 'clarence odbody', 'clarence', 'clarence odbody', 'clarence odbody'] , clarence oddbody\n",
            "154 19 ['red blood cells', 'red blood cells', 'red blood cells', 'red blood cells', 'red blood cells', 'red blood cells', 'red blood cells', 'red blood cells', 'red blood cells', 'red blood cells', 'red blood cells', 'red blood cells', 'red blood cells erythrocytes', 'red blood corpuscle', 'red blood cell', '', 'nuclei', '', ''] , red blood cell\n",
            "155 19 ['location and function', 'location and function', 'endocrinology', 'pituitary gland', 'hypopituitarism pituitary endocrine disorders', 'activities of entire organs growth and development', 'the pituitary gland is located at the base of the brain', 'hypothalamic-pituitary-thyroid axis', 'pituitary tumors search behavioral alcoholism', 'hormones - the pituitary gland', 'the body', 'non-functioning pituitary tumor resources - neuroendocrine clinical center', 'diseases', 'reproduction this is what you should have learned in high school about reproduction', 'anatomy and chemistry basics', 'the pituitary gland is an endocrine gland that rests at the base of the brain', 'pituitary tumor empty sella syndrome', 'the structure and function of the endocrine and reproductive systems of the human body', 'what is an endocrinologist'] , it controls production of hormones\n",
            "156 19 ['new friendship baptist church cemetery', 'celebrity tombstones across america', '3734 elvis presley boulevard', 'meditation gardens located at graceland', '3764 elvis presley boulevard highway 51 south , memphis , tennessee', 'graceland', 'graceland', 'graceland', 'what does tcb stand for', 'what does tcb stand for', 'elvis coffin - picture of elvis in his coffin', 'graceland', \"elvis presley 's funeral service\", 'graceland', '', '', 'memphis neighborhoods things to do info & facts all about elvis memphis', 'what does t.c.b. stand for', ''] , graceland\n",
            "157 19 ['benign', 'benign', 'benign', 'abnormal growth of body tissue', 'an abnormal growth of body tissue', 'benign', 'cancerous malignant', 'benign', '', 'benign -lrb', '', '', 'benign', '', '', '', '', '', ''] , benign\n",
            "158 19 ['1871 72', '1871 72', '1871 72', '1871 72', '1991', '1991', '1991', '1991', '1991', '1991', '1953', '1923', '1953', '1871', '2007', '1977', '2009', '1884', ''] , 1923\n",
            "159 19 ['a tuffet', 'on a tuffet', 'a tuffet', 'where was little miss muffet ? what is a tuffet', 'her tuffet', 'her tuffet', 'a cushion', 'on a tufet', 'a tuffet', 'on the bridge', 'a tuffet', 'a tuffet', 'a tuffet', 'a tuffet', 'a tuffet', 'a tuffet', 'on the wall', 'on that wall', ''] , on her tuffet\n",
            "160 19 ['christmas 1915', 'christmas 1915', 'christmas 1915', 'christmas 1915', 'christmas 1915', 'christmas 1915', 'christmas 1915', 'christmas 1915', 'december 25th', 'christmas eve', \"new year 's eve\", '', '', '', '', '', '', '', ''] , 1914\n",
            "161 18 ['jennifer love hewitt', 'nermal - nermal', 'liz', 'thom huge', 'jim davis', '', 'liz', 'thom huge', 'thom huge', '', '', '', '', '', '', 'zenon dance company', '', ''] , liz\n",
            "162 19 [\"the sound of the candyman 's trumpet 4 11,200\", 'la , la , la', 'la , la , la', \"` congratulations '\", 'power to all our friends', 'power to all our friends', 'power to all our friends', 'song', '` summer holiday', '', '', 'high n dry', 'power to all our friends united kingdom album eurovision song contest', '', '', '', '` la source', '', 'marie'] , la la la spain\n",
            "163 19 ['jhongsing village', 'tainan -lrb', 'taipei', 'taoyuan', 'taipei', 'taipei', 'taipei', 'taipei', 'taipei', 'taiwan', 'taipei', 'international airport', 'republic of china', '', '', 'republic of china', '', 'xinyi', ''] , taipei\n",
            "164 19 ['eg theft', 'sinners in the depths of hell endure far greater torments', 'sinners in the depths of hell endure far greater torments', 'sinners in the depths of hell endure far greater torments', 'sinners in the depths of hell endure far greater torments', 'eg theft , purgatory cleanses them of the vices', 'tortures suffered by the damned', 'souls are tormented by their past sins and demonic forces', 'dante breaks off a twig', 'damned souls suffering for each wrong committed', 'sinners placed in the upper circles of hell are given relatively minor punishments', 'salvation', 'dirty little sin category', '', '', '', '', '', 'zeus'] , pride they are crushed by stones\n",
            "165 19 ['', '', 'japanese victory belligerents netherlands', 'manila is captured by japanese', '', '', '', 'manila , declared an open city to prevent its destruction , was occupied by the japanese', 'japanese forces', '', 'manila , declared an open city to prevent its destruction , was occupied by the japanese', '1942 battle of singapore 1942 japanese occupation', 'it was held by the japanese from 1942 to 1945 during world war ii', 'japanese forces land on luzon at lingayen gulf', '1942 battle of singapore 1942 japanese occupation', 'japanese war machine between july , 1941 and april , 1942', 'japanese occupation 1942', '1942 battle of singapore 1942 japanese occupation', '1942 battle of singapore 1942 japanese occupation'] , manila\n",
            "166 19 ['flying eagle', 'taepyongga', \"handel 's water music\", 'messiah', 'overture', 'mela peace science tattoo', '', '', '', 'fireworks display', 'handel water music', '', '', 'call to remembrance', 'baby neptuen music cd', '', '', 'the treaty of aix-la-chapelle', ''] , music for royal fireworks\n",
            "167 19 [\"do n't quote me\", 'reversi', 'trivial pursuit : unhinged', 'trivial pursuit : unhinged - wikipedia', 'trivial pursuit', 'trivial pursuit', 'brain quest', \"do n't quote me quotes\", 'sex and the city trivia game', 'trivial pursuit', 'trivia game', 'balance your plate citizenship', 'risk from avalon hill', '', '', 'pure eighties pop music', 'ncaa football dvd', 'cardboard puzzle', ''] , trivia pursuit\n",
            "168 19 ['vodka drink recipes - cocktail drinks', 'cocktails , beer cocktail', 'white russian', 'canadian club', 'martini', 'pour', 'coffee liqueur', 'irish cream', '', 'vanilla vodka stolichnaya', '', '', '', 'cocktail or mockt', '10 cane rum', 'decadent coffee liqueur', 'the first tasting', '', 'a dirty russian'] , black russian\n",
            "169 19 ['terry bollea', 'michael bollea', 'terry bollea', 'terry bollea', 'terry bollea', 'terry bollea', 'terry bollea', 'terry bollea', 'terry bollea', 'nick bollea', 'terry bollea', '', 'linda bollea', 'linda hogan linda hogan', 'nick bollea', 'bollea', '', '', ''] , terry bollea\n",
            "170 19 ['books hold no passport', '', 'three novels between 2003 and 2005', 'three novels between 2003 and 2005', 'three novels between 2003 and 2005', 'three novels between 2003 and 2005', '', '', '', '', '', '', 'complete trilogy', '', '', '', '', '', ''] , three\n",
            "171 19 ['bonnie and clyde', 'bonnie and clyde', 'bonnie and clyde', 'the wild bunch', '', '1967', '', '', '', '', 'the wild bunch', 'the wild bunch', 'bonnie and clyde', '', 'james bond girls', '', 'james bond girls', 'best supporting actress', ''] , bonnie and clyde\n",
            "172 19 ['carlisle', 'carlisle', 'deifr', 'carlisle', 'coria corbridge', 'roman england', 'deifr', 'deifr', 'exeter to lincoln', 'carlisle', 'city of carlisle', 'brigantes home', 'eboracum', 'carlisle castle', 'fishbourne', 'north tyne', 'uk - hadrians wall', 'caledonia', 'carlisle - the border city'] , carlisle\n",
            "173 19 ['the swan', 'high society', 'to catch a thief', 'the blue veil', 'the country girl', 'to catch a thief', \"the country girl , '' along with her marriage to prince rainier of monaco\", 'international film festival', 'prince rainier of monaco', 'grace kelly', 'the fresh prince of bel-air', 'grace kelly', 'odin', 'kaylani lei krystal steal', '', '', '', 'fourteen hours', ''] , to catch\n",
            "174 19 [\"don markstein 's toonopedia home\", '', '', '', '', '', '', '', '', '', '', '', '', '', '', '', '', '', 'first care bear cousins that took care of the baby care bear cousins'] , forest of feelings\n",
            "175 19 ['general railway and steam navigation guide', 'general railway and steam navigation guide', 'general railway and steam navigation guide', 'general railway and steam navigation guide', 'ns boxcars and ns hoppers', 'pedestrian controlled vehicles', \"watson 's marriage\", 'bradshaw mountain railroad', 'bradshaw mountain railroad', 'free encyclopedia', 'bradshaw mountain railroad', 'bradshaw mountain railroad', 'free encyclopedia', 'topic page', 'search classmates.com \\\\u00ae directory for bradshaw , nebraska alumni', 'navigation , search staincross and mapplewell', 'local floral and gift shops', 'hunting wild quarry with a trained hawk', 'this article on a railway station in the east of england'] , railways\n",
            "176 19 ['` hush', 'kentucky woman', '` one more rainy day', 'the book of taliesyn', 'kentucky woman', 'mandrake root', 'river deep mountain high', 'mandrake root', '', 'mandrake root', '', 'smoke on the water', 'mandrake root', 'smoke on the water', '', 'smoke on the water', 'kentucky woman', '', ''] , hush\n",
            "177 19 ['40 years', '40 years', '300m', '300 m/984 ft', 'between 1887 and 1889', '', 'tallest - tallest free-standing structure in the world', '300.65 metres', '300.65 metres', '', '300.65 metres', 'the eiffel tower is the tallest building in france', '324 metres', 'the eiffel tower is the tallest building in paris', '300.65 metres', '300.65 metres', '300.65 metres', '300.65 metres', '300.65 metres'] , forty years\n",
            "178 19 ['jesus', 'who is in heaven now ? where is enoch and elijah', 'melchizedek', 'jethro', 'the heavenly', 'god did not just appear to moses', 'aaron', 'elijah & moses', 'abraham , isaac , and jacob', '', 'leviticus', \"aharon means `` mountain '' or `` shining\", '', 'thy father', '', 'moses', '', 'israel', 'bible in basic english'] , moses\n",
            "179 19 ['goitre -lrb', 'a deficiency of iodine', 'thyroid cancer some of thyroid enlargement overactive thyroid', 'a deficiency of iodine leads to goitre swelling of the neck', 'enlargement of the thyroid gland', 'fed with soybeans', 'goitre or other iodine deficiency disorders', 'diagnosis treatment prognosis prevention resources definition goiter', 'goitre', 'hypothyroidism thyroid underactive clinic homeopathic treatment homeopathy doctor', 'the heart and the thyroid', 'the thyroid is a gland that controls key functions of your body', 'over-activity of the thyroid gland', '', 'mary shomon', '', 'growth of the gland and overproduction of thyroid hormone', '', ''] , goitre\n",
            "180 19 ['alois senefelder of bavaria', 'manual', 'lithography', 'manual', 'lithography invented in 1798 by german aloys senefelder', 'alois senefelder', '', 'letterpress process', 'lithography', '', '', '', '', '', 'lithography was invented in 1798 by aloys senefelder', 'relief printing', 'lithography', 'lithography is a relatively young form of printmaking', ''] , lithography\n",
            "181 19 ['margaritas', 'ardenstone ardenstone', 'daiquiri', 'mezcal tequila mezcal', 'tomato', 'ardenstone ardenstone', 'roses', 'grenadine', 'orange juice cocktail rebel', 'belvedere vodka tonic', 'cointreau', 'martini', 'martini', 'rum', '', '', '7-nut a day at the beach', '', ''] , rum\n",
            "182 19 ['1-9', 'albatross', 'nassau', 'mashie', 'backspin', 'backspin backswing', '', 'l b l back nine', '', '', '', '', '', '', '', '', '', '', ''] , niblick\n",
            "183 19 ['adrian', 'adrian', 'adrian', 'talia shire', 'paulie', '', '', 'talia shire', '', '', 'adrian', '', 'dr. frank n. furter', '', '', 'lrb', '', '', ''] , adrian\n",
            "184 19 ['3', 'manageable stage', 'six times daily', '', '', '', '', 'sandwiches', '', '', '', '', '', '', '', 'top off', 'complete meals', '', ''] , dessert\n",
            "185 19 ['high la panthe rose', 'trigger', 'trigger', 'trigger', '', '', '', '', '', '', 'banana cranberry pineapple satsuma 3', 'rrb- devil trigger', '', '', '', '', '', '', ''] , trigger\n",
            "186 19 ['the crown jewel of the pacific', 'an engagement ring with diamonds and platinum', 'small -2 size polished pieces with', 'abalone jewelry', 'paua', 'lsb- abalone facts', 'common shell slipper shell', 'hair accessories', 'jewelry', 'lsb- abalone facts', 'troca coco beads', 'maori bone pendants and nz greenstone jewellery', 'mother of pearl shell sterling silver other rings abalone and paua shell amber gemstones', 'mother of pearl shell sterling silver necklaces', 'amber copper and brass freshwater pearl gemstones mother of pearl shell sterling silver other rings', 'copper and brass dichroic glass freshwater pearl gemstones', '', 'zirconia faceted gemstones', 'amber'] , jewellery\n",
            "187 19 ['key west , fl', 'recipe churches shopping real estate', 'wikipedia', 'diet sugar free', 'florida keys', 'wikipedia', 'florida keys', 'florida keys', 'florida keys', 'florida keys', 'florida keys', 'wikipedia', 'blond giraffe key lime pie factory , key west , florida', 'key west famous for tasty delights', 'key west beach', '', \"kermit 's key west key lime shoppe\", 'food network', ''] , it originated in key west florida\n",
            "188 19 ['st helena sudan swaziland', 'republic of namibia', 'abyssinia ethiopia afars and issas territory djibouti basutoland', 'south-west africa 1920-1990', 'st helena sudan swaziland', 'republic of namibia', 'south africa', '', '', '', 'south west african police', 'german south-west africa', 'namibia', 'africa abyssinia', '', 'south african weather and climate register', 'namib', '', ''] , namibia\n",
            "189 19 ['elia kazan', 'irving stone', 'patricia cornwell', 'franklin bruno', 'edward oscar berkmann', 'j.d. carr', 'daniel mainwaring', 'denis foyatier', 'denis foyatier', 'john farris', 'tez says', 'jim brown', '', '', 'norman gimbel', '', 'barry lyndon', '', 'howard baker'] , kirk douglas\n",
            "190 19 ['afety torch', 'fence , deck , railing : fence gates , deck gates - fence posts', 'circle black & white crossbuck', 'a sign composed of two slats of wood or metal of equal length', 'a sign composed of two slats of wood or metal of equal length', 'a sign composed of two slats of wood or metal of equal length', 'rail-highway terms', 'fence , deck , railing : fence gates , deck gates - fence posts', 'f four-quadrant gate', 'white vinyl line post xbagp4s-w line -rsb', 'older crossbuck', 'post & rail fencing', 'crossbuck signal with lenses & bulbs', '', 'rail crossing warning signs and devices', 'number of railroad crossing cases they have handled and the results', 'crossing flasher module & ho scale', 'examples rule', ''] , x\n",
            "191 19 ['maximum attraction to children', 'better visibility', '', '', 'one seam', '', '', '', '', '', '', 'white coloured and celluloid', 'orange , yellow , white , multi-coloured', '', '', 'pink pong', '', '', ''] , white and yellow\n",
            "192 19 ['alex kingston', 'alex kingston', 'alex kingston', 'alex kingston', 'alex kingston', 'benicio del toro', 'jodie foster', 'alex kingston', 'nicolas cage', 'brad pitt', 'grant roffey', 'in bruges', 'neil jordan', 'julie christie', 'marlon brando', 'michael fassbender', '', '', ''] , ruby wax\n",
            "193 19 ['poet and supporter of the nationalist movement', 'drool', 'portora royal school', 'portora royal school', 'lady jane francesca wilde 1820-96 , was a poet and journalist', 'poet', 'attorney', 'attorney', 'poet', 'poet', 'poet', 'anglo-irish protestant clergyman ordained by the church of ireland', 'portora royal school', '', 'the epidemics of ireland 1851', '', '', '', \"oscar wilde : lady windermere 's fan\"] , as lady wilde ocars mother\n",
            "194 19 ['granola - history of granola cereal', \"`` graham '' bread\", 'ready-to-eat cereal', 'granula', '', '', 'grape nuts cereal', '', 'grape nuts cereal', 'grape nuts cereal', '', '', '', '', 'grape nuts cereal', '', '', '', ''] , cornflakes\n",
            "195 19 ['arthur mitchell', 'arthur mitchell and karel shook', 'arthur mitchell and karel shook', 'chuck davis', 'miss cay', '', '', '', '', '', '', 'jmu', '', '', '', '', '', 'arthur mitchell', 'marc powers'] , arthur mitchell\n",
            "196 19 ['chamonix , france', 'chamonix , france', 'chamonix , paris', 'pierre 1920', 'indiana special olympics location information', 'athens', 'st. moritz , switzerland', '1928', '1928', 'albertville , france', 'chamonix , france olympics', '', '', '', '', '', '', '1924', '1924'] , charmonix france\n",
            "197 19 ['canadian rockies', 'front range', 'rocky mountain', 'pyrenees', 'east', 'alberta canada range', '', 'high rock range', '', '', '', '', 'canadian rocky', 'yoho 2', '', 'kicking horse pass , which connects through the rockies', 'weather', '', ''] , rockies\n",
            "198 19 ['james vernor', 'charles elmer hires', 'james vernor', 'james vernor', 'james vernor', 'jules klapman', 'charles elmer hires', 'jules klapman', 'jules klapman', 'marjorie dorfman', 'mary bellis', 'john mathews', 'dr pepper snapple group', 'dr pepper snapple group', '', '', '', '', ''] , hires\n",
            "199 19 ['', '', '', 'barbara streisand', '', '', '', '', '', 'barbra streisand and c line dion', '', '', 'streisand', '', 'barbra streisand and c line dion', '', '', '', ''] , barbara streisand\n",
            "Time for whole code to run:  1234.3197417259216\n"
          ],
          "name": "stdout"
        }
      ]
    },
    {
      "cell_type": "code",
      "metadata": {
        "id": "C2SLERrQnanI",
        "colab_type": "code",
        "outputId": "897089bb-cc7d-4030-cce8-eaa631025d3a",
        "colab": {
          "base_uri": "https://localhost:8080/",
          "height": 441
        }
      },
      "source": [
        "df_pred.head()"
      ],
      "execution_count": 91,
      "outputs": [
        {
          "output_type": "execute_result",
          "data": {
            "text/html": [
              "<div>\n",
              "<style scoped>\n",
              "    .dataframe tbody tr th:only-of-type {\n",
              "        vertical-align: middle;\n",
              "    }\n",
              "\n",
              "    .dataframe tbody tr th {\n",
              "        vertical-align: top;\n",
              "    }\n",
              "\n",
              "    .dataframe thead th {\n",
              "        text-align: right;\n",
              "    }\n",
              "</style>\n",
              "<table border=\"1\" class=\"dataframe\">\n",
              "  <thead>\n",
              "    <tr style=\"text-align: right;\">\n",
              "      <th></th>\n",
              "      <th>pred_ans_0</th>\n",
              "      <th>pred_ans_1</th>\n",
              "      <th>pred_ans_2</th>\n",
              "      <th>pred_ans_3</th>\n",
              "      <th>pred_ans_4</th>\n",
              "      <th>pred_ans_5</th>\n",
              "      <th>pred_ans_6</th>\n",
              "      <th>pred_ans_7</th>\n",
              "      <th>pred_ans_8</th>\n",
              "      <th>pred_ans_9</th>\n",
              "      <th>pred_ans_10</th>\n",
              "      <th>pred_ans_11</th>\n",
              "      <th>pred_ans_12</th>\n",
              "      <th>pred_ans_13</th>\n",
              "      <th>pred_ans_14</th>\n",
              "      <th>pred_ans_15</th>\n",
              "      <th>pred_ans_16</th>\n",
              "      <th>pred_ans_17</th>\n",
              "      <th>pred_ans_18</th>\n",
              "    </tr>\n",
              "  </thead>\n",
              "  <tbody>\n",
              "    <tr>\n",
              "      <th>0</th>\n",
              "      <td>the queen</td>\n",
              "      <td>the queen</td>\n",
              "      <td>the queen u ,</td>\n",
              "      <td>queen chess the queen</td>\n",
              "      <td>queen</td>\n",
              "      <td>pawns</td>\n",
              "      <td>bishops</td>\n",
              "      <td></td>\n",
              "      <td>bishops</td>\n",
              "      <td></td>\n",
              "      <td></td>\n",
              "      <td></td>\n",
              "      <td></td>\n",
              "      <td></td>\n",
              "      <td></td>\n",
              "      <td></td>\n",
              "      <td></td>\n",
              "      <td></td>\n",
              "      <td></td>\n",
              "    </tr>\n",
              "    <tr>\n",
              "      <th>1</th>\n",
              "      <td>saturday sept. 13th music millenium 430pm</td>\n",
              "      <td>5western oregon 78</td>\n",
              "      <td>7 p.m</td>\n",
              "      <td>06:44 pm</td>\n",
              "      <td>washington portland seattle oregon washington ...</td>\n",
              "      <td>hillsboro</td>\n",
              "      <td></td>\n",
              "      <td>187 mi</td>\n",
              "      <td></td>\n",
              "      <td>seattle</td>\n",
              "      <td>overnight</td>\n",
              "      <td>39</td>\n",
              "      <td>39</td>\n",
              "      <td>idaho</td>\n",
              "      <td></td>\n",
              "      <td>39</td>\n",
              "      <td></td>\n",
              "      <td></td>\n",
              "      <td></td>\n",
              "    </tr>\n",
              "    <tr>\n",
              "      <th>2</th>\n",
              "      <td>robert redford review</td>\n",
              "      <td>robert redford</td>\n",
              "      <td>robert redford</td>\n",
              "      <td>robert redford</td>\n",
              "      <td>george roy hill</td>\n",
              "      <td>robert redford</td>\n",
              "      <td>robert redford</td>\n",
              "      <td>george roy hill</td>\n",
              "      <td>robert redford</td>\n",
              "      <td>leon ichaso</td>\n",
              "      <td>lasse hallstrom</td>\n",
              "      <td>george roy hill</td>\n",
              "      <td>murray lerner</td>\n",
              "      <td>jane fonda and robert redford</td>\n",
              "      <td>judith guest</td>\n",
              "      <td></td>\n",
              "      <td></td>\n",
              "      <td></td>\n",
              "      <td>robert redford</td>\n",
              "    </tr>\n",
              "    <tr>\n",
              "      <th>3</th>\n",
              "      <td>plan 9 from outer space</td>\n",
              "      <td>b-movies</td>\n",
              "      <td></td>\n",
              "      <td></td>\n",
              "      <td></td>\n",
              "      <td></td>\n",
              "      <td></td>\n",
              "      <td></td>\n",
              "      <td></td>\n",
              "      <td></td>\n",
              "      <td></td>\n",
              "      <td></td>\n",
              "      <td></td>\n",
              "      <td></td>\n",
              "      <td></td>\n",
              "      <td></td>\n",
              "      <td></td>\n",
              "      <td></td>\n",
              "      <td></td>\n",
              "    </tr>\n",
              "    <tr>\n",
              "      <th>4</th>\n",
              "      <td>parrot family</td>\n",
              "      <td>new world parrots</td>\n",
              "      <td>parrots</td>\n",
              "      <td>parrot</td>\n",
              "      <td>parrots of the genera ara and anodorhynchus of...</td>\n",
              "      <td>new world parrots</td>\n",
              "      <td>the parrot family</td>\n",
              "      <td>larger than parrots</td>\n",
              "      <td>new world parrots</td>\n",
              "      <td>nicaragua</td>\n",
              "      <td>the patagonian conure</td>\n",
              "      <td>parrots in the world</td>\n",
              "      <td>birds</td>\n",
              "      <td></td>\n",
              "      <td>parrots</td>\n",
              "      <td>all 18 species of macaws are threatened . they...</td>\n",
              "      <td>scarlet macaw more on macaws</td>\n",
              "      <td>largest -- hyacinth macaw</td>\n",
              "      <td>parrot family</td>\n",
              "    </tr>\n",
              "  </tbody>\n",
              "</table>\n",
              "</div>"
            ],
            "text/plain": [
              "                                  pred_ans_0  ...     pred_ans_18\n",
              "0                                  the queen  ...                \n",
              "1  saturday sept. 13th music millenium 430pm  ...                \n",
              "2                      robert redford review  ...  robert redford\n",
              "3                    plan 9 from outer space  ...                \n",
              "4                              parrot family  ...   parrot family\n",
              "\n",
              "[5 rows x 19 columns]"
            ]
          },
          "metadata": {
            "tags": []
          },
          "execution_count": 91
        }
      ]
    },
    {
      "cell_type": "code",
      "metadata": {
        "id": "jD9uJfr4ngDF",
        "colab_type": "code",
        "outputId": "64790bdb-d7b4-4681-db1e-01cec8df71e2",
        "colab": {
          "base_uri": "https://localhost:8080/",
          "height": 200
        }
      },
      "source": [
        "df_metrics.head()"
      ],
      "execution_count": 92,
      "outputs": [
        {
          "output_type": "execute_result",
          "data": {
            "text/html": [
              "<div>\n",
              "<style scoped>\n",
              "    .dataframe tbody tr th:only-of-type {\n",
              "        vertical-align: middle;\n",
              "    }\n",
              "\n",
              "    .dataframe tbody tr th {\n",
              "        vertical-align: top;\n",
              "    }\n",
              "\n",
              "    .dataframe thead th {\n",
              "        text-align: right;\n",
              "    }\n",
              "</style>\n",
              "<table border=\"1\" class=\"dataframe\">\n",
              "  <thead>\n",
              "    <tr style=\"text-align: right;\">\n",
              "      <th></th>\n",
              "      <th>actual_ans</th>\n",
              "      <th>actual_ques</th>\n",
              "      <th>EM</th>\n",
              "      <th>precision</th>\n",
              "      <th>recall</th>\n",
              "      <th>f1</th>\n",
              "    </tr>\n",
              "  </thead>\n",
              "  <tbody>\n",
              "    <tr>\n",
              "      <th>0</th>\n",
              "      <td>queen</td>\n",
              "      <td>which is considered most powerful piece on che...</td>\n",
              "      <td>1.0</td>\n",
              "      <td>1.000000</td>\n",
              "      <td>1.0</td>\n",
              "      <td>1.000000</td>\n",
              "    </tr>\n",
              "    <tr>\n",
              "      <th>1</th>\n",
              "      <td>4</td>\n",
              "      <td>if its 400 pm in seattle washington what time ...</td>\n",
              "      <td>0.0</td>\n",
              "      <td>0.058824</td>\n",
              "      <td>1.0</td>\n",
              "      <td>0.111111</td>\n",
              "    </tr>\n",
              "    <tr>\n",
              "      <th>2</th>\n",
              "      <td>robert redford</td>\n",
              "      <td>who directed film ordinary people</td>\n",
              "      <td>1.0</td>\n",
              "      <td>1.000000</td>\n",
              "      <td>1.0</td>\n",
              "      <td>1.000000</td>\n",
              "    </tr>\n",
              "    <tr>\n",
              "      <th>3</th>\n",
              "      <td>attack of killer tomatoes</td>\n",
              "      <td>what film is generally considered worst film e...</td>\n",
              "      <td>0.0</td>\n",
              "      <td>0.000000</td>\n",
              "      <td>0.0</td>\n",
              "      <td>0.000000</td>\n",
              "    </tr>\n",
              "    <tr>\n",
              "      <th>4</th>\n",
              "      <td>parrot family</td>\n",
              "      <td>macaws are largest and most colorful species of</td>\n",
              "      <td>1.0</td>\n",
              "      <td>1.000000</td>\n",
              "      <td>1.0</td>\n",
              "      <td>1.000000</td>\n",
              "    </tr>\n",
              "  </tbody>\n",
              "</table>\n",
              "</div>"
            ],
            "text/plain": [
              "                  actual_ans  ...        f1\n",
              "0                      queen  ...  1.000000\n",
              "1                          4  ...  0.111111\n",
              "2             robert redford  ...  1.000000\n",
              "3  attack of killer tomatoes  ...  0.000000\n",
              "4              parrot family  ...  1.000000\n",
              "\n",
              "[5 rows x 6 columns]"
            ]
          },
          "metadata": {
            "tags": []
          },
          "execution_count": 92
        }
      ]
    },
    {
      "cell_type": "code",
      "metadata": {
        "id": "TeJqSbjFnlr2",
        "colab_type": "code",
        "outputId": "bba3c727-5225-4db1-ee38-135d955a0d83",
        "colab": {
          "base_uri": "https://localhost:8080/",
          "height": 35
        }
      },
      "source": [
        "df_metrics['f1'].mean(), df_metrics['EM'].mean(), df_metrics['precision'].mean() , df_metrics['recall'].mean() "
      ],
      "execution_count": 93,
      "outputs": [
        {
          "output_type": "execute_result",
          "data": {
            "text/plain": [
              "(0.658355993531873, 0.507537688442211, 0.6529876272116887, 0.7165829145728643)"
            ]
          },
          "metadata": {
            "tags": []
          },
          "execution_count": 93
        }
      ]
    },
    {
      "cell_type": "code",
      "metadata": {
        "id": "m_rpMvMYBtLN",
        "colab_type": "code",
        "outputId": "7d18d5e6-1666-47d5-87cb-368290b134d6",
        "colab": {
          "base_uri": "https://localhost:8080/",
          "height": 141
        }
      },
      "source": [
        "df_merge = pd.concat([df_pred, df_metrics], axis=1)\n",
        "df_merge['dataset'] = \"quasar_t_long_test\"\n",
        "df_merge.columns"
      ],
      "execution_count": 94,
      "outputs": [
        {
          "output_type": "execute_result",
          "data": {
            "text/plain": [
              "Index(['pred_ans_0', 'pred_ans_1', 'pred_ans_2', 'pred_ans_3', 'pred_ans_4',\n",
              "       'pred_ans_5', 'pred_ans_6', 'pred_ans_7', 'pred_ans_8', 'pred_ans_9',\n",
              "       'pred_ans_10', 'pred_ans_11', 'pred_ans_12', 'pred_ans_13',\n",
              "       'pred_ans_14', 'pred_ans_15', 'pred_ans_16', 'pred_ans_17',\n",
              "       'pred_ans_18', 'actual_ans', 'actual_ques', 'EM', 'precision', 'recall',\n",
              "       'f1', 'dataset'],\n",
              "      dtype='object')"
            ]
          },
          "metadata": {
            "tags": []
          },
          "execution_count": 94
        }
      ]
    },
    {
      "cell_type": "code",
      "metadata": {
        "id": "-BwVjLnbBxa5",
        "colab_type": "code",
        "colab": {}
      },
      "source": [
        "writePath = qasar_t_dir + \"questions/long_metric_test.csv\"\n",
        "df_merge.to_csv(writePath)"
      ],
      "execution_count": 0,
      "outputs": []
    },
    {
      "cell_type": "code",
      "metadata": {
        "id": "8HTHWYPje0rR",
        "colab_type": "code",
        "colab": {}
      },
      "source": [
        "\"\"\"\n",
        "writePath = qasar_t_dir + \"questions/long_metric_dev.txt\"\n",
        "with open(writePath, 'a') as f:\n",
        "    f.write(df_metrics.to_string(header = False, index = False))\n",
        "f.close()\n",
        "\"\"\""
      ],
      "execution_count": 0,
      "outputs": []
    },
    {
      "cell_type": "code",
      "metadata": {
        "id": "E0rtJKyynsoU",
        "colab_type": "code",
        "colab": {}
      },
      "source": [
        ""
      ],
      "execution_count": 0,
      "outputs": []
    }
  ]
}