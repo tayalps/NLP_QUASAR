{
  "nbformat": 4,
  "nbformat_minor": 0,
  "metadata": {
    "colab": {
      "name": "short quasar_T_draft.ipynb",
      "provenance": [],
      "collapsed_sections": [],
      "machine_shape": "hm"
    },
    "kernelspec": {
      "name": "python3",
      "display_name": "Python 3"
    },
    "accelerator": "TPU"
  },
  "cells": [
    {
      "cell_type": "code",
      "metadata": {
        "id": "Ro1grVL9J_b5",
        "colab_type": "code",
        "outputId": "6b721aca-046d-4b4e-ccde-2faec39ea5c7",
        "colab": {
          "base_uri": "https://localhost:8080/",
          "height": 124
        }
      },
      "source": [
        "from google.colab import drive\n",
        "drive.mount('/content/drive')"
      ],
      "execution_count": 0,
      "outputs": [
        {
          "output_type": "stream",
          "text": [
            "Go to this URL in a browser: https://accounts.google.com/o/oauth2/auth?client_id=947318989803-6bn6qk8qdgf4n4g3pfee6491hc0brc4i.apps.googleusercontent.com&redirect_uri=urn%3aietf%3awg%3aoauth%3a2.0%3aoob&response_type=code&scope=email%20https%3a%2f%2fwww.googleapis.com%2fauth%2fdocs.test%20https%3a%2f%2fwww.googleapis.com%2fauth%2fdrive%20https%3a%2f%2fwww.googleapis.com%2fauth%2fdrive.photos.readonly%20https%3a%2f%2fwww.googleapis.com%2fauth%2fpeopleapi.readonly\n",
            "\n",
            "Enter your authorization code:\n",
            "··········\n",
            "Mounted at /content/drive\n"
          ],
          "name": "stdout"
        }
      ]
    },
    {
      "cell_type": "code",
      "metadata": {
        "id": "3MZvBkB3JkLG",
        "colab_type": "code",
        "colab": {}
      },
      "source": [
        "import pandas as pd\n",
        "import numpy as np\n",
        "import re\n",
        "import string\n",
        "from collections import Counter\n",
        "from typing import List\n",
        "import multiprocessing as mp\n",
        "from functools import partial\n",
        "import matplotlib.pyplot as plt\n",
        "%matplotlib inline"
      ],
      "execution_count": 0,
      "outputs": []
    },
    {
      "cell_type": "code",
      "metadata": {
        "id": "XOxa_pQ7diQR",
        "colab_type": "code",
        "colab": {}
      },
      "source": [
        "#d = []\n",
        "#while (1):\n",
        "#  d.append(np.float64(10000000.00))"
      ],
      "execution_count": 0,
      "outputs": []
    },
    {
      "cell_type": "code",
      "metadata": {
        "id": "WZ4_zVW_KP69",
        "colab_type": "code",
        "colab": {}
      },
      "source": [
        "qasar_t_dir = \"/content/drive/My Drive/quasar/quasar-t/\""
      ],
      "execution_count": 0,
      "outputs": []
    },
    {
      "cell_type": "code",
      "metadata": {
        "id": "uX-oaAnpKnID",
        "colab_type": "code",
        "outputId": "16830f83-5bcb-4582-9deb-73e02d9869d6",
        "colab": {
          "base_uri": "https://localhost:8080/",
          "height": 35
        }
      },
      "source": [
        "import ast\n",
        "\n",
        "filename = qasar_t_dir+ \"questions/train_questions.json\"\n",
        "print(filename)\n",
        "\n",
        "trainQ = []\n",
        "file = open(filename, \"r\")\n",
        "for line in file:\n",
        "    dictionary = ast.literal_eval(line)\n",
        "    trainQ.append(dictionary)\n",
        "file.close()"
      ],
      "execution_count": 0,
      "outputs": [
        {
          "output_type": "stream",
          "text": [
            "/content/drive/My Drive/quasar/quasar-t/questions/train_questions.json\n"
          ],
          "name": "stdout"
        }
      ]
    },
    {
      "cell_type": "code",
      "metadata": {
        "id": "15ps1HokcBHc",
        "colab_type": "code",
        "outputId": "aa2f29ca-fc83-486d-b414-dd9b442500a5",
        "colab": {
          "base_uri": "https://localhost:8080/",
          "height": 364
        }
      },
      "source": [
        "trainQ[0:5] "
      ],
      "execution_count": 0,
      "outputs": [
        {
          "output_type": "execute_result",
          "data": {
            "text/plain": [
              "[{'answer': '24',\n",
              "  'question': 'How many points does a backgammon board have',\n",
              "  'tags': ['1tok', 'yes-answer-long', 'yes-answer-short'],\n",
              "  'uid': 's3q8053'},\n",
              " {'answer': 'sherlock holmes',\n",
              "  'question': 'Whose cases were Empty House Copper Beeches Black Peter',\n",
              "  'tags': ['yes-answer-long', 'yes-answer-short'],\n",
              "  'uid': 's3q33199'},\n",
              " {'answer': 'sam torrance',\n",
              "  'question': 'Which Scottish Golfer Was Captain Of Europes 2002 Ryder Cup Team',\n",
              "  'tags': [],\n",
              "  'uid': 's3q33198'},\n",
              " {'answer': 'first quarter',\n",
              "  'question': 'What is a two-bit moon',\n",
              "  'tags': ['yes-answer-long', 'yes-answer-short'],\n",
              "  'uid': 's3q33194'},\n",
              " {'answer': 'nissan',\n",
              "  'question': \"The `` Maxima '' was a model of which car\",\n",
              "  'tags': ['1tok', 'yes-answer-long', 'yes-answer-short'],\n",
              "  'uid': 's3q33197'}]"
            ]
          },
          "metadata": {
            "tags": []
          },
          "execution_count": 7
        }
      ]
    },
    {
      "cell_type": "code",
      "metadata": {
        "id": "IvOazg_guCU-",
        "colab_type": "code",
        "outputId": "f3335e6c-86f3-4707-bf0b-2a0a141e670d",
        "colab": {
          "base_uri": "https://localhost:8080/",
          "height": 35
        }
      },
      "source": [
        "filename = qasar_t_dir+ \"questions/test_questions.json\"\n",
        "print(filename)\n",
        "\n",
        "testQ = []\n",
        "file = open(filename, \"r\")\n",
        "for line in file:\n",
        "    dictionary = ast.literal_eval(line)\n",
        "    testQ.append(dictionary)\n",
        "file.close()"
      ],
      "execution_count": 0,
      "outputs": [
        {
          "output_type": "stream",
          "text": [
            "/content/drive/My Drive/quasar/quasar-t/questions/test_questions.json\n"
          ],
          "name": "stdout"
        }
      ]
    },
    {
      "cell_type": "code",
      "metadata": {
        "id": "fsoH5eCyjXdw",
        "colab_type": "code",
        "outputId": "30f30294-7a8c-4737-f69b-e2fd8524aae0",
        "colab": {
          "base_uri": "https://localhost:8080/",
          "height": 364
        }
      },
      "source": [
        "testQ[0:5] "
      ],
      "execution_count": 0,
      "outputs": [
        {
          "output_type": "execute_result",
          "data": {
            "text/plain": [
              "[{'answer': 'queen',\n",
              "  'question': 'Which is considered the most powerful piece on the chess board',\n",
              "  'tags': ['1tok', 'yes-answer-long', 'yes-answer-short'],\n",
              "  'uid': 's3q17641'},\n",
              " {'answer': '4',\n",
              "  'question': 'If its 4:00 pm in Seattle Washington , what time is it in Portland Oregon',\n",
              "  'tags': ['1tok', 'yes-answer-long', 'yes-answer-short'],\n",
              "  'uid': 's3q1671'},\n",
              " {'answer': 'robert redford',\n",
              "  'question': \"Who directed the film ` Ordinary People ' ?\",\n",
              "  'tags': ['yes-answer-long', 'yes-answer-short'],\n",
              "  'uid': 's3q30552'},\n",
              " {'answer': 'attack of the killer tomatoes',\n",
              "  'question': 'What film is generally considered the worst film ever made ?',\n",
              "  'tags': [],\n",
              "  'uid': 's3q10441'},\n",
              " {'answer': 'parrot family',\n",
              "  'question': 'Macaws are the largest and most colorful species of the __________',\n",
              "  'tags': ['yes-answer-long', 'yes-answer-short'],\n",
              "  'uid': 's3q10688'}]"
            ]
          },
          "metadata": {
            "tags": []
          },
          "execution_count": 9
        }
      ]
    },
    {
      "cell_type": "code",
      "metadata": {
        "id": "8hWAhxlhY8GR",
        "colab_type": "code",
        "outputId": "e0db1229-549b-494c-de26-b0cca8826b55",
        "colab": {
          "base_uri": "https://localhost:8080/",
          "height": 35
        }
      },
      "source": [
        "print(len(testQ))"
      ],
      "execution_count": 0,
      "outputs": [
        {
          "output_type": "stream",
          "text": [
            "3000\n"
          ],
          "name": "stdout"
        }
      ]
    },
    {
      "cell_type": "code",
      "metadata": {
        "id": "AiCVlrKLupis",
        "colab_type": "code",
        "outputId": "1eec4131-8c50-4886-f1a0-2844aa9064bb",
        "colab": {
          "base_uri": "https://localhost:8080/",
          "height": 35
        }
      },
      "source": [
        "filename = qasar_t_dir+ \"questions/dev_questions.json\"\n",
        "print(filename)\n",
        "\n",
        "devQ = []\n",
        "file = open(filename, \"r\")\n",
        "for line in file:\n",
        "    dictionary = ast.literal_eval(line)\n",
        "    devQ.append(dictionary)\n",
        "file.close()"
      ],
      "execution_count": 0,
      "outputs": [
        {
          "output_type": "stream",
          "text": [
            "/content/drive/My Drive/quasar/quasar-t/questions/dev_questions.json\n"
          ],
          "name": "stdout"
        }
      ]
    },
    {
      "cell_type": "code",
      "metadata": {
        "id": "WOs9wYkJjg6n",
        "colab_type": "code",
        "outputId": "6398761c-fdf6-4cb7-d3bd-6a12496bd9ca",
        "colab": {
          "base_uri": "https://localhost:8080/",
          "height": 364
        }
      },
      "source": [
        "devQ[0:5] "
      ],
      "execution_count": 0,
      "outputs": [
        {
          "output_type": "execute_result",
          "data": {
            "text/plain": [
              "[{'answer': 'tetanus',\n",
              "  'question': 'Lockjaw is another name for which disease',\n",
              "  'tags': ['1tok', 'yes-answer-long', 'yes-answer-short'],\n",
              "  'uid': 's3q1674'},\n",
              " {'answer': 'leek',\n",
              "  'question': 'Which vegetable is a Welsh emblem ?',\n",
              "  'tags': ['1tok'],\n",
              "  'uid': 's3q18157'},\n",
              " {'answer': 'the guns of naverone',\n",
              "  'question': 'Which film won the best special effects Oscar in 1961',\n",
              "  'tags': [],\n",
              "  'uid': 's3q6589'},\n",
              " {'answer': 'sitting on the dock of a bay',\n",
              "  'question': \"What Was Otis Redding 's Biggest Hit Coming After His Death In 1967\",\n",
              "  'tags': [],\n",
              "  'uid': 's3q22477'},\n",
              " {'answer': 'king herod',\n",
              "  'question': 'Who ordered John the Baptists execution',\n",
              "  'tags': ['yes-answer-long', 'yes-answer-short'],\n",
              "  'uid': 's3q17645'}]"
            ]
          },
          "metadata": {
            "tags": []
          },
          "execution_count": 11
        }
      ]
    },
    {
      "cell_type": "code",
      "metadata": {
        "id": "upHMtIEduzw2",
        "colab_type": "code",
        "outputId": "fc1afa46-712a-4b0e-da44-160333154a76",
        "colab": {
          "base_uri": "https://localhost:8080/",
          "height": 35
        }
      },
      "source": [
        "print(len(devQ))"
      ],
      "execution_count": 0,
      "outputs": [
        {
          "output_type": "stream",
          "text": [
            "3000\n"
          ],
          "name": "stdout"
        }
      ]
    },
    {
      "cell_type": "code",
      "metadata": {
        "id": "1Tb48duhbAFM",
        "colab_type": "code",
        "outputId": "bbbe5254-9e50-41cf-990d-c56077017ec2",
        "colab": {
          "base_uri": "https://localhost:8080/",
          "height": 225
        }
      },
      "source": [
        "trainQ[62:65]"
      ],
      "execution_count": 0,
      "outputs": [
        {
          "output_type": "execute_result",
          "data": {
            "text/plain": [
              "[{'answer': 'eohippus',\n",
              "  'question': 'The now_extinct ancestor of the horse , __________ , had a short neck , a pug muzzle , and stood no higher than a medium_sized dog .',\n",
              "  'tags': ['1tok', 'yes-answer-long', 'yes-answer-short'],\n",
              "  'uid': 's3q12764'},\n",
              " {'answer': '2',\n",
              "  'question': \"How Is The Binary Numer ' 010 ' Expressed As A Decimal\",\n",
              "  'tags': ['1tok', 'yes-answer-long'],\n",
              "  'uid': 's3q12768'},\n",
              " {'answer': 'asteroids',\n",
              "  'question': 'What are these : Ceres , Juno , Iris , and Flora ?',\n",
              "  'tags': ['1tok', 'yes-answer-long', 'yes-answer-short'],\n",
              "  'uid': 's3q42638'}]"
            ]
          },
          "metadata": {
            "tags": []
          },
          "execution_count": 13
        }
      ]
    },
    {
      "cell_type": "code",
      "metadata": {
        "id": "DVMqJz5XbadM",
        "colab_type": "code",
        "colab": {}
      },
      "source": [
        "#there are fill in the blanks type of Questions - how to handle them??"
      ],
      "execution_count": 0,
      "outputs": []
    },
    {
      "cell_type": "code",
      "metadata": {
        "id": "wPkkZYKgZBDf",
        "colab_type": "code",
        "colab": {}
      },
      "source": [
        "#check the max length of the question and answer\n",
        "maxanswerlen = 1\n",
        "maxlenanswer = \"\"\n",
        "maxlenquestion = \"\"\n",
        "maxlenanswerindex = 0\n",
        "for idx, trainQdict in enumerate(trainQ):\n",
        "  answerlen = len (trainQdict['answer'].split())\n",
        "  if answerlen > maxanswerlen:\n",
        "    maxanswerlen = answerlen\n",
        "    maxlenanswer = trainQdict['answer'].split()\n",
        "    maxlenquestion = trainQdict['question'].split()\n",
        "    maxlenanswerindex = idx\n",
        "  \n",
        "\n",
        "\n"
      ],
      "execution_count": 0,
      "outputs": []
    },
    {
      "cell_type": "code",
      "metadata": {
        "id": "kRTmOEihaOvc",
        "colab_type": "code",
        "outputId": "e066224f-c43c-4215-f67a-a500773af32f",
        "colab": {
          "base_uri": "https://localhost:8080/",
          "height": 107
        }
      },
      "source": [
        "print (maxanswerlen, '\\n', maxlenanswer, '\\n', maxlenquestion, '\\n', maxlenanswerindex) "
      ],
      "execution_count": 0,
      "outputs": [
        {
          "output_type": "stream",
          "text": [
            "31 \n",
            " ['cormac', 'maccarthy,', 'the', 'gaelic', 'lord', 'of', 'blarney', 'was', 'so', 'successful', 'at', 'inventing', 'excuses', 'for', 'not', 'complying', 'with', 'the', 'demands', 'of', 'queen', 'elizabeth', 'i', 'that', 'she', 'was', 'dismissed', 'his', 'blather', 'as', \"'blarney'\"] \n",
            " ['Ireland', ':', '-', 'What', 'is', 'the', 'origin', 'of', 'the', 'word', '`', 'Blarney', \"'\", '?'] \n",
            " 34337\n"
          ],
          "name": "stdout"
        }
      ]
    },
    {
      "cell_type": "code",
      "metadata": {
        "id": "fe_ahcZRgAs8",
        "colab_type": "code",
        "colab": {}
      },
      "source": [
        "answerlenlist = []\n",
        "for trainQdict in trainQ:\n",
        "  answerlenlist.append(len (trainQdict['answer'].split()))"
      ],
      "execution_count": 0,
      "outputs": []
    },
    {
      "cell_type": "code",
      "metadata": {
        "id": "E2vWbq_QyMoa",
        "colab_type": "code",
        "outputId": "a87ffadb-2f7f-4c71-8cf0-24736e067a1b",
        "colab": {
          "base_uri": "https://localhost:8080/",
          "height": 265
        }
      },
      "source": [
        "plt.hist((answerlenlist))\n",
        "plt.show()"
      ],
      "execution_count": 0,
      "outputs": [
        {
          "output_type": "display_data",
          "data": {
            "image/png": "[encoded data removed]",
            "text/plain": [
              "<Figure size 432x288 with 1 Axes>"
            ]
          },
          "metadata": {
            "tags": [],
            "needs_background": "light"
          }
        }
      ]
    },
    {
      "cell_type": "code",
      "metadata": {
        "id": "c0b9NpfdzIb_",
        "colab_type": "code",
        "outputId": "56ae0ff1-d10e-481c-9a17-9ba6a575f381",
        "colab": {
          "base_uri": "https://localhost:8080/",
          "height": 337
        }
      },
      "source": [
        "import seaborn as sns\n",
        "sns.boxplot(answerlenlist)"
      ],
      "execution_count": 0,
      "outputs": [
        {
          "output_type": "stream",
          "text": [
            "/usr/local/lib/python3.6/dist-packages/statsmodels/tools/_testing.py:19: FutureWarning: pandas.util.testing is deprecated. Use the functions in the public API at pandas.testing instead.\n",
            "  import pandas.util.testing as tm\n"
          ],
          "name": "stderr"
        },
        {
          "output_type": "execute_result",
          "data": {
            "text/plain": [
              "<matplotlib.axes._subplots.AxesSubplot at 0x7feecdeb1358>"
            ]
          },
          "metadata": {
            "tags": []
          },
          "execution_count": 18
        },
        {
          "output_type": "display_data",
          "data": {
            "image/png": "[encoded data removed]",
            "text/plain": [
              "<Figure size 432x288 with 1 Axes>"
            ]
          },
          "metadata": {
            "tags": [],
            "needs_background": "light"
          }
        }
      ]
    },
    {
      "cell_type": "code",
      "metadata": {
        "id": "72BwcTOD0EIZ",
        "colab_type": "code",
        "outputId": "7031e8a5-4198-40dd-a820-761bb1c8c9b1",
        "colab": {
          "base_uri": "https://localhost:8080/",
          "height": 294
        }
      },
      "source": [
        "pd.DataFrame(answerlenlist).describe()"
      ],
      "execution_count": 0,
      "outputs": [
        {
          "output_type": "execute_result",
          "data": {
            "text/html": [
              "<div>\n",
              "<style scoped>\n",
              "    .dataframe tbody tr th:only-of-type {\n",
              "        vertical-align: middle;\n",
              "    }\n",
              "\n",
              "    .dataframe tbody tr th {\n",
              "        vertical-align: top;\n",
              "    }\n",
              "\n",
              "    .dataframe thead th {\n",
              "        text-align: right;\n",
              "    }\n",
              "</style>\n",
              "<table border=\"1\" class=\"dataframe\">\n",
              "  <thead>\n",
              "    <tr style=\"text-align: right;\">\n",
              "      <th></th>\n",
              "      <th>0</th>\n",
              "    </tr>\n",
              "  </thead>\n",
              "  <tbody>\n",
              "    <tr>\n",
              "      <th>count</th>\n",
              "      <td>37012.000000</td>\n",
              "    </tr>\n",
              "    <tr>\n",
              "      <th>mean</th>\n",
              "      <td>1.844672</td>\n",
              "    </tr>\n",
              "    <tr>\n",
              "      <th>std</th>\n",
              "      <td>1.255675</td>\n",
              "    </tr>\n",
              "    <tr>\n",
              "      <th>min</th>\n",
              "      <td>1.000000</td>\n",
              "    </tr>\n",
              "    <tr>\n",
              "      <th>25%</th>\n",
              "      <td>1.000000</td>\n",
              "    </tr>\n",
              "    <tr>\n",
              "      <th>50%</th>\n",
              "      <td>1.000000</td>\n",
              "    </tr>\n",
              "    <tr>\n",
              "      <th>75%</th>\n",
              "      <td>2.000000</td>\n",
              "    </tr>\n",
              "    <tr>\n",
              "      <th>max</th>\n",
              "      <td>31.000000</td>\n",
              "    </tr>\n",
              "  </tbody>\n",
              "</table>\n",
              "</div>"
            ],
            "text/plain": [
              "                  0\n",
              "count  37012.000000\n",
              "mean       1.844672\n",
              "std        1.255675\n",
              "min        1.000000\n",
              "25%        1.000000\n",
              "50%        1.000000\n",
              "75%        2.000000\n",
              "max       31.000000"
            ]
          },
          "metadata": {
            "tags": []
          },
          "execution_count": 19
        }
      ]
    },
    {
      "cell_type": "code",
      "metadata": {
        "id": "eof2yjj6ae-n",
        "colab_type": "code",
        "outputId": "5fce095b-7b06-4461-c01b-07f2961e2483",
        "colab": {
          "base_uri": "https://localhost:8080/",
          "height": 107
        }
      },
      "source": [
        "#check the max length of the question and answer\n",
        "maxquestionlen = 1\n",
        "maxlenquestion = \"\"\n",
        "maxlenquestionans = \"\"\n",
        "maxlenanswerindex = 0\n",
        "for idx, trainQdict in enumerate(trainQ):\n",
        "  questionlen = len (trainQdict['question'].split())\n",
        "  if questionlen > maxquestionlen:\n",
        "    maxquestionlen = questionlen\n",
        "    maxlenquestion = trainQdict['question'].split()\n",
        "    maxlenquestionans = trainQdict['answer'].split()\n",
        "    maxlenanswerindex = idx\n",
        "\n",
        "print (maxquestionlen, '\\n', maxlenquestion, '\\n', maxlenquestionans, '\\n', maxlenanswerindex) "
      ],
      "execution_count": 0,
      "outputs": [
        {
          "output_type": "stream",
          "text": [
            "92 \n",
            " ['As', 'of', 'December', '30', ',', '1997', ',', 'Disney', 'held', 'eight', 'of', 'the', 'top', 'ten', 'spots', 'on', 'the', 'All', 'Time', 'Movie', 'Video', 'Sales', 'Chart', '.The', 'Lion', 'King', '-LRB-', '1', '-RRB-', ',', 'Aladdin', '-LRB-', '2', '-RRB-', ',', 'Cinderella', '-LRB-', '3', '-RRB-', ',', 'Beauty', 'and', 'The', 'Beast', '-LRB-', '4', '-RRB-', ',', 'Snow', 'White', 'and', 'the', 'Seven', 'Dwarfs', '-LRB-', '5', '-RRB-', ',', 'Toy', 'Story', '-LRB-', '7', '-RRB-', ',', '101', 'Dalmatians', '-LRB-', '8', '-RRB-', ',', 'and', 'Pocahontas', '-LRB-', '10', '-RRB-', '.The', 'two', 'non_Disney', 'flicks', 'to', 'make', 'the', 'list', '_', 'Forrest', 'Gump', '-LRB-', '6', '-RRB-', ',', 'and', '__________'] \n",
            " ['jurassic', 'park'] \n",
            " 7401\n"
          ],
          "name": "stdout"
        }
      ]
    },
    {
      "cell_type": "code",
      "metadata": {
        "id": "vw6DE8jZzd3A",
        "colab_type": "code",
        "colab": {}
      },
      "source": [
        "questionlenlist = []\n",
        "for trainQdict in trainQ:\n",
        "  questionlenlist.append(len (trainQdict['question'].split()))"
      ],
      "execution_count": 0,
      "outputs": []
    },
    {
      "cell_type": "code",
      "metadata": {
        "id": "SXiAsOZhzk1H",
        "colab_type": "code",
        "outputId": "7081c268-9def-4e2c-844a-75e6e279be09",
        "colab": {
          "base_uri": "https://localhost:8080/",
          "height": 265
        }
      },
      "source": [
        "plt.hist((questionlenlist))\n",
        "plt.show()"
      ],
      "execution_count": 0,
      "outputs": [
        {
          "output_type": "display_data",
          "data": {
            "image/png": "[encoded data removed]",
            "text/plain": [
              "<Figure size 432x288 with 1 Axes>"
            ]
          },
          "metadata": {
            "tags": [],
            "needs_background": "light"
          }
        }
      ]
    },
    {
      "cell_type": "code",
      "metadata": {
        "id": "N4txFjy1znua",
        "colab_type": "code",
        "outputId": "0debea7f-6f59-484f-839a-664e2baafc35",
        "colab": {
          "base_uri": "https://localhost:8080/",
          "height": 283
        }
      },
      "source": [
        "import seaborn as sns\n",
        "sns.boxplot(questionlenlist)"
      ],
      "execution_count": 0,
      "outputs": [
        {
          "output_type": "execute_result",
          "data": {
            "text/plain": [
              "<matplotlib.axes._subplots.AxesSubplot at 0x7feecdd75588>"
            ]
          },
          "metadata": {
            "tags": []
          },
          "execution_count": 23
        },
        {
          "output_type": "display_data",
          "data": {
            "image/png": "[encoded data removed]",
            "text/plain": [
              "<Figure size 432x288 with 1 Axes>"
            ]
          },
          "metadata": {
            "tags": [],
            "needs_background": "light"
          }
        }
      ]
    },
    {
      "cell_type": "code",
      "metadata": {
        "id": "SbpDK6dj1kNw",
        "colab_type": "code",
        "outputId": "29a73a3e-6a20-40a3-de09-c0ad20f0a267",
        "colab": {
          "base_uri": "https://localhost:8080/",
          "height": 294
        }
      },
      "source": [
        "pd.DataFrame(questionlenlist).describe()"
      ],
      "execution_count": 0,
      "outputs": [
        {
          "output_type": "execute_result",
          "data": {
            "text/html": [
              "<div>\n",
              "<style scoped>\n",
              "    .dataframe tbody tr th:only-of-type {\n",
              "        vertical-align: middle;\n",
              "    }\n",
              "\n",
              "    .dataframe tbody tr th {\n",
              "        vertical-align: top;\n",
              "    }\n",
              "\n",
              "    .dataframe thead th {\n",
              "        text-align: right;\n",
              "    }\n",
              "</style>\n",
              "<table border=\"1\" class=\"dataframe\">\n",
              "  <thead>\n",
              "    <tr style=\"text-align: right;\">\n",
              "      <th></th>\n",
              "      <th>0</th>\n",
              "    </tr>\n",
              "  </thead>\n",
              "  <tbody>\n",
              "    <tr>\n",
              "      <th>count</th>\n",
              "      <td>37012.000000</td>\n",
              "    </tr>\n",
              "    <tr>\n",
              "      <th>mean</th>\n",
              "      <td>10.757430</td>\n",
              "    </tr>\n",
              "    <tr>\n",
              "      <th>std</th>\n",
              "      <td>4.678471</td>\n",
              "    </tr>\n",
              "    <tr>\n",
              "      <th>min</th>\n",
              "      <td>2.000000</td>\n",
              "    </tr>\n",
              "    <tr>\n",
              "      <th>25%</th>\n",
              "      <td>8.000000</td>\n",
              "    </tr>\n",
              "    <tr>\n",
              "      <th>50%</th>\n",
              "      <td>10.000000</td>\n",
              "    </tr>\n",
              "    <tr>\n",
              "      <th>75%</th>\n",
              "      <td>13.000000</td>\n",
              "    </tr>\n",
              "    <tr>\n",
              "      <th>max</th>\n",
              "      <td>92.000000</td>\n",
              "    </tr>\n",
              "  </tbody>\n",
              "</table>\n",
              "</div>"
            ],
            "text/plain": [
              "                  0\n",
              "count  37012.000000\n",
              "mean      10.757430\n",
              "std        4.678471\n",
              "min        2.000000\n",
              "25%        8.000000\n",
              "50%       10.000000\n",
              "75%       13.000000\n",
              "max       92.000000"
            ]
          },
          "metadata": {
            "tags": []
          },
          "execution_count": 24
        }
      ]
    },
    {
      "cell_type": "code",
      "metadata": {
        "id": "JEpcXn-NKth2",
        "colab_type": "code",
        "outputId": "b85f3fed-fc71-4881-dae9-a780807c6c16",
        "colab": {
          "base_uri": "https://localhost:8080/",
          "height": 765
        }
      },
      "source": [
        "filename = qasar_t_dir+ \"contexts/long/train_contexts.json\"\n",
        "print(filename)\n",
        "\n",
        "trainLC = []\n",
        "file = open(filename, \"r\")\n",
        "for line in file:\n",
        "    dictionary = ast.literal_eval(line)\n",
        "    trainLC.append(dictionary)\n",
        "\n",
        "file.close()\n",
        "trainLC[:1]"
      ],
      "execution_count": 0,
      "outputs": [
        {
          "output_type": "stream",
          "text": [
            "/content/drive/My Drive/quasar/quasar-t/contexts/long/train_contexts.json\n"
          ],
          "name": "stdout"
        },
        {
          "output_type": "execute_result",
          "data": {
            "text/plain": [
              "[{'contexts': [[5.811907,\n",
              "    'Backgammon FAQ : Different Ways of Playing Backgammon FAQ Different Ways of Playing Tables and Backgammon What is tables ? How is backgammon different from the other games of tables ? Does backgammon have official rules ? Backgammon Variants What is Nackgammon ? What is hyper-backgammon ? What is long-gammon ? What is roll-over ? What is backgammon-to-lose ? Acey-Deucey What is acey-deucey ? How do you play American acey-deucey ? How do you play European acey-deucey ? Greek Backgammon What is tavli ? How do you play portes ? How do you play plakoto ? How do you play fevga ? Other Games What is trictrac ? What is Russian backgammon ? What is French backgammon ? What is Dutch backgammon ? What is snake ? Forms of Competition What is money play ? What is match play ? What is a freeze-out match ? What is duplicate backgammon ? Table Stakes What is table stakes betting ? Why is table stakes used ? How does strategy in table stakes differ from unlimited money play ? Chouette What is a chouette ? What is a multiple-cube chouette ? When is consulting allowed ? What are extras ? Tables and Backgammon Q : What is tables ? Tables is the general term for any game played on a backgammon board . Actually , it is bit presumptuous of us to even call it a backgammon board , since backgammon is only 400 years old and some of the other games of tables are thousands of years old . Most tables games have the following features : The board consists of 24 spaces or points . Each player has 15 pieces or checkers to move around the board . The checkers are moved according to the numbers rolled on a set of dice . Usually two or three dice are rolled together . Q : How is backgammon different from the other games of tables ? There are three features that distinguish backgammon from other games : Starting position . Each player starts with 2 checkers on their respective 24-points , 5 checkers on their mid-points , 3 checkers on their 8-points , and 5 checkers on their six-points . Doubles played twice . When you roll doubles , you play each'],\n",
              "   [5.488704,\n",
              "    'Backgammon Rules - How to Play Backgammon Navigation Home Backgammon History Backgammon Rules Backgammon Etiquette Backgammon Boards Standard Boards Premium Boards Antique Boards Travel Boards Vintage Boards How To Play Backgammon Read the rules of Backgammon Backgammon is a two player game . The board consists of twenty four long and narrow triangles . These triangles are called points that alternate in colors and are arranged in four groups of six each . Two are side by side and face the other two on the far side of the board . The right most group is called the ome boardand the other uter board.The home boards share one side and the same with the outer boards . There is a thick line down the center called the arthat separates the home and outer boards . Each point is numbered starting with the innermost of the home board and moving out to the innermost of the opponent home board . So one player one point is the other twenty four point . Each player has fifteen markers of his color . These markers start in the following arrangement : two on the twenty four point , five on the thirteen point , three on the eight point , and five on the six point . Each player has two dice , a dice cup . Also included is a single doubling cube with the numbers 2 , 4 , 6 , 8 , 32 , and 64 on it . The doubling cube is to keep track of the stake of the game . The point of the game is to get all your markers onto you home board and them move them off . The first player to do so wins . To start the game each player rolls one dice to see who goes first . If the same number is rolled , they roll again until one player has a higher number . The player with the higher number moves his markers based on both dice . From here out , each player rolls two dice and moves accordingly in alternating turns . The number on the dice tells the player how many points or ipshe can move his marker . He can only move markers to lower number points bringing them closer to his home board . When moving , a marker can only land on an open point or one that d'],\n",
              "   [5.472953,\n",
              "    \"Backgammon Rules Backgammon Backgammon Home Backgammon Articles Backgammon Online Money Games History Backgammon Rules Backgammon Glossary Beginners Advanced Tips Backgammon Strategy Backgammon Variants Tournaments Equities Resources eZines Books Backgammon Software Merchandise Websites Stories World Club List Experts Blunders Expert Matches Analyzed Matches GammonEmpire Play65 Snowie World backgammon Backgammon Forum Home Backgammon Rules Backgammon Articles Play Backgammon Forum Search the site Backgammon Rules Click here for printable version | Click here to Start Playing Now Backgammon does rule ! Backgammon is an exciting game , which blends luck and skill together . A wonderful game , which has been played for many centuries and will be played for many more years all around the world . So how do you play backgammon ? What are the basic needs of Backgammon game ? And what are the main rules of this great game ? Read on to learn about backgammon rules and the game secrets and basic moves . In addition , if you are unsure of any of the terms used here on this page check out the Backgammon Dictionary that explains everything . What do you need while playing backgammon ? Few basic thing that you need before starting to play backgammon , wether online or offline , are first the willing to learn the rules of the game . In addition you should have few more elemntryin order to be able to start playing ... Players First things first . Backgammon is basically a game for two players and it 's not practical to play less or more than 2 backgammon players . the players should bring with them basic equipment of backgammon game . Backgammon Board Boards are made of a wide variety of materials and are available in many sizes . They range from inexpensive travel sets to custom made professionally crafted boards worth well over $ 1000 . Most sets fold in half like a breifcase to save space , contain the checkers , dice , and cups , and to protect the surface . Checkers Thirty checkers , typically round , 15 of one color and an\"],\n",
              "   [5.097101,\n",
              "    \"Backgammon FAQ Home Backgammon Articles Backgammon Rules FAQ Position Analysis Backgammon Reviews Forum Backgammon FAQ Q : What is backgammon ? A : Backgammon is one of the oldest games in existence , dating back some 5000 years and believed to have been developed by the ancient Egyptians . It is not a game of luck as many believe , but a strategic game of war ; in many ways as difficult to master as chess or Go . A random element -LRB- luck -RRB- is certainly involved , but a champion player also uses the laws of probability , intuition , imagination and psychology to outwit his opponent . From learning how to play backgammon and the basic rules of the game , to mastering advanced backgammon tips and tricks , there are many sites that explain in great detail how to play backgammon online . Q : Backgammon Equipment A : A Backgammon board or layout . Thirty round stones , or checkers , 15 each of two different colors , generally referred to as ` men ' . A pair of regular dice , numbered from 1 to 6 . -LRB- For convenience , two pairs of dice , one for each player , are generally used . -RRB- A dice cup , used to shake and cast the dice . -LRB- Again , it is more convenient to have two dice cups . -RRB- A doubling cube -- A six-faced die , marked with the numerals 2,4,8,16,32 & 64 . This is used to keep track of the number of units at stake in each game , as well as to mark the player who last doubled . More about Backgammon Equipment ... Q : The backgammon board A : Backgammon is an obstacle race between two armies of 15 men each , moving around a track divided into 24 dagger-like divisions known as `` points '' . The Backgammon layout is divided down the center by a partition , known as the `` bar '' into an outer and inner -LRB- or home -RRB- board or table . The side nearest you is your outer and home tables ; the side farther away is your opponents outer and home boards . The arrows indicate the direction of play . For purposes of convenience we have numbered the points in the diagram . Though the points are n\"],\n",
              "   [4.011511,\n",
              "    \"The Rules of How to Play Backgammon Back to 1on1backgammon Main Menu Backgammon Share This Add To Del.icio.us Digg This Article Backgammon articles Backgammon Rules - Learn How to Play Backgammon Backgammon is a board game that involved two players trying to move their 15 checkers across the backgammon board , according to the roll of two dice . The Goal of Backgammon The objective of backgammon is to remove all 15 checkers from the board before your opponent does . This is done by first getting all of the checkers into your home board , and then removing all of your checkers according to the dice score . This stage of taking your checkers off of the board is called the bear-off . The winner of the game , according to backgammon rules , is the player that succeeds in bearing off all of his checkers first . Here you can see the Direction of the white checkers across the board Backgammon Board Layout There are 30 checkers used in backgammon , 15 black and 15 white checkers . The checkers are moved across the backgammon board until they reach the bottom right side of the board , called the home-board . The backgammon board includes 24 points . These are the 24 triangles on which the checkers are moved on the backgammon board . The backgammon points are numbered between 1 and 24 . The bottom right of the board is numbered 1 . For your opponent however , this is his 24-point . The player 's home board is in the bottom right corner quarter of his board . The upper right side of the board is called the outer board . During the game , players move their checkers from point to point , until they reach their home-board and can take the checkers off of the board . There are two dice used in the game . Each dice has 6 sides and is numbered from 1 to 6 . The roll of the dice determines the movement of the checkers across the board points . A Backgammon board layout at the start of the game The Start of Backgammon To start the game off , the starting player is decided . In order to decide which player begins first , each of th\"],\n",
              "   [3.8883464,\n",
              "    \"Best Backgammon Opening Moves Backgammon Backgammon Home Backgammon Articles Backgammon Online Money Games History Backgammon Rules Backgammon Glossary Beginners Advanced Tips Backgammon Strategy Backgammon Variants Tournaments Equities Resources eZines Books Backgammon Software Merchandise Websites Stories World Club List Experts Blunders Expert Matches Analyzed Matches GammonEmpire Play65 Snowie World backgammon Backgammon Forum Home Backgammon Rules Backgammon Articles Play Backgammon Forum Search the site Best Backgammon Opening Moves Here are few major facts you need to know about Backgammon Opening Moves . Having studied Backgammon opening moves for many years , having had the benefit of experience , the use of computer softwares , and tremendous personal skill and intuition , the experts have virtually all agreed on the best backgammon opening moves for any possible dice combination that can be , and for any situation in the backgammon game . If you want to increase your odds of winning do not make any backgammon moves other than what the experts recommend . It 's very simple . You must memorize the best backgammon opening moves , and follow them . Also understanding the logical explaination for each backgammon move will help you greatly and it will also push you to go to the next step , knowing and understanding the experts ' recommendation on what you do on the next move ? Roll in response to backgammon opening moves if your opponent gets the opening . Of course , none of this will be really helpful unless you understand how to play the rest of the game ... But since I can not possibly explain the entire great backgammon moves and backgammon strategy with a single article , let me offer some tips for the your backgammon opening moves . Everybody knows , that there is no question what to do with 3-1 , 6-1 , 4-2 and 6-5 Dices outcomes . How to play these Backgammon opening moves has been agreed to and proven to be correct for many years of expreince , and the correct backgammon movess are right for any mat\"],\n",
              "   [3.6730273,\n",
              "    \"Backgammon rules < a href = `` http://www.backgammontips.org/zh/ '' alt = `` I / '' '' title = `` I / '' '' > Backgammon tips Motif Backgammon How to play backgammon Free backgammon download Backgammon rules Chouette rules Backgammon Tips Backgammon site review Backgammon commissions Backgammon strategy Game glossary Backgammon rules Backgammon is a simple game with deep strategic elements . It does not take long to learn to play , although obscure situations do arise which require careful interpretation of the rules . The playing time for each individual game is short , so it is often played in matches , for example the first to five points . In short , players are trying to get all of their pieces past their opponent 's pieces . This is difficult because the pieces are scattered at first , and may be blocked or captured by the opponent 's pieces . Each side of the board has a track of twelve adjacent spaces , called points and usually represented by long triangles of alternating -LRB- but meaningless -RRB- color . The points are numbered from 1 to 24 , with checkers always moving from higher-numbered points to lower-numbered points . The two players move their checkers in opposite directions , so the 1-point for one player is the 24-point for the other . Note that the board as shown can be flipped horizontally , with starting positions and direction of play likewise flipped but with no changes to the mechanics of game play . The two orientations are equally common and game boards are all designed to be played both ways . Points one to six , where the player wants to get his pieces to , are called the base . A player may not bear off any checkers unless all of his checkers are in his base . Points seven to twelve are called the outer board , points thirteen to eighteen are the opponent 's outer board , and points nineteen to twenty-four are the opponent 's base . At the start of the game , each player rolls one dice . Whoever rolls higher starts his first turn using the numbers on the already-rolled dice . In ca\"],\n",
              "   [3.4484441,\n",
              "    \"Backgammon Rules . How to play Backgammon Online games for serious players or just for fun . Improve your skills or just win money ! play now ! home -LSB- game rules -RSB- forum links cash games news contact us Online multiplayer games : gin-rummy cribbage dominoes backgammon chess checkers canasta pool 8-ball pool 9-ball RPS spades Online single player arcade and card games : Solitaire FreeCell Rush-21 Poker-Rush Lines-Collapse Pharaoh 's Treasure Mahjong Pool-Rush Aqua-Rush Darts Buckman Tri-Peaks Pyramid-13 Site search powered by FreeFind Backgammon Rules . How To Play Backgammon see also : Backgammon Internet Tournaments Play Backgammon Online . Backgammon Tournaments Set-Up Backgammon is a game for two players , played on a board consisting of twenty-four narrow triangles called points . The triangles alternate in color and are grouped into four quadrants of six triangles each . The quadrants are referred to as a player 's home board and outer board , and the opponent 's home board and outer board . The home and outer boards are separated from each other by a ridge down the center of the board called the bar . Unlike chess it does n't matter which color checkers the players use as either player has the opportunity to make the first move . To play backgammon the following equipment is used : 1 backgammon board 30 Checkers - 15 of one color and 15 of another . 2 six-sided dice 2 dice cups for rolling the dice 1 six-sided doubling cube with the numbers 2 , 4 , 8 , 16 , 32 , and 64 on the 6 faces The starting position in backgammon is as follows : Two checkers on each player 's 24-point Five checkers on each player 's 13-point Three checkers on each player 's 8-point Five checkers on each player 's 6-point Object of the Game The players must move their checkers according to the numbers shown on the dice . Backgammon is played so that you move your checkers in the direction from your opponent 's home board to your home board . As soon as all of your checkers are in your home board you c\"],\n",
              "   [3.3650503,\n",
              "    \"Special Backgammon Top Backgammon Sites Site Overall Rating Signup Bonus BG Room more ... 94.4 % $ 10 -LRB- 50 % -RRB- Play 65 more ... 93.3 % $ 20 -LRB- 100 % -RRB- Gammon Empire more ... 91.1 % $ 20 -LRB- 100 % -RRB- < a href = `` http://www.on-line-backgammon.com/zh/ '' alt = `` I / '' '' title = `` I / '' '' > Main menu On Line Backgammon What is Backgammon ? Game opening moves Backgammon sites Basic game rules Backgammon Online for Money Special Backgammon Off line backgammon Basic rules Doubling Rules Winning the game Jacoby Rule Crawford Rule Holland Rule Backgammon articles Game dictionary Play65 BGRoom Top Poker sites Special offers Newsletter Enter your e-mail to subscribe for our Special offers newsletter Special Backgammon Why is that Backgammon so special ? It is not like any other game you have faced before , oh that 's a wild comment if ever I heard one , but in the case of backgammon it 's true , backgammon has so many different elements attached to it that make it extraordinary , for example , there 's the craft of the game , it has a factor of game play which relies on your skill and ingenuity to win , plus it has a risk factor in that the dice can not predict what is going to happen when it 's your turn . Unlike Chess , where movement depends on the intellect of the players , how they plan and play their moves . In gammon strategies can not be pre ordained they have to be flexible to accommodate the variations that the dice throw at you . Aside from this there are three main features that differs back gammon ? The Starting Position Or the positioning of the pieces at the beginning of the game . Each player positions 2 checkers on the opposition?s one-point , this is the deepest or first point in a player 's home board , the point farthest from the bar and closest to being borne off ; also known as the ace-point , he then switches to the middle part of the game placing 5 pieces or stones on the mid-point , 3 pieces on the eight-point , and 5 pieces on the six-point . The game commences with 2 pi\"],\n",
              "   [3.346089,\n",
              "    \"Buy backgammon sets and backgammon boards at the Specialist Backgammon and Board Games Shop - boards3 BACK - HOME -LSB- GO TO ORDER FORM -RSB- Backgammon sets for beginners , experts and professionals . All our backgammon boards are of the highest quality , and if looked after properly a backgammon board should provide years of use . All backgammon sets come complete with 30 checkers , 2 cups , 4 dice and doubling cube . CD sets only have 30 checkers and 2 dice . Beware when you compare our backgammon boards with those sold by others . The three ranges ; Pennant Regular , Pennant Customised and Amazon all have ` printed points ' . Do not confuse these backgammon sets with printed points , with those sold on other websites , which typically have sewn points -LRB- as do our Standard Deluxe models -RRB- . Boards with sewn points have lower quality handles and locks . Most websites that sell the standard boards have poor descriptions -LRB- or none -RRB- , small pictures and prices that are ALWAYS considerably higher than our `` Price Beater '' Standard Deluxe models . Click on this image to add Backgammon Shop to your favourites , then you can find us easily once you have compared prices . Q . What is the advantage of printed points ? A. Backgammon Shop has developed the unique process of printing the points directly onto the * velour playing surface to provide the highest levels of quality for most of our low and medium priced boards . This ensures the perfect playing pleasure , which was until recently only obtainable with handmade -LRB- high priced -RRB- boards , where attention to detail , quality and come first . Printed points ensure a completely flat playing surface , this means that you no longer will catch your fingernail on or under a badly sewn point , no more skewed or cocked dice , no more unsightly broken or loose points or missing tips , gone are the days when small inquisitive kiddies fingers want to find out what is under the plastic point . The attention to quality does not stop with printed points \"],\n",
              "   [3.2822113,\n",
              "    \"Dutch Backgammon Main Page Rules Variants Web Sites Play Sites Software Articles Matches Etiquette Forum Archive Books All About Gnu Motif Plays Backgammon Glossary Search : Web This site Comments : tom@bkgm.com Backgammon Variants Dutch Backgammon A backgammon variant that has been around for quite some time is called Dutch Backgammon . Setup : Each player starts with fifteen checkers off the board . The players enter their checkers in the opponent 's home board , then bring them around the board as shown in the diagram below . Object : The object of the game is to move all of your checkers around the board to your own home table and then bear them off . The first player to bear off all of his checkers wins the game . To start : Each player rolls one die and the higher number goes first . That player then rolls both dice again to begin his first turn . Entering checkers : You enter a checker by placing it on a point in the opponent 's home board corresponding to a number rolled . For example , if you roll 6-3 , then you enter one checker on the opponent 's six-point and one checker on his three-point . Once you have entered one or more checkers , you may use subsequent rolls to move those checkers forward , to enter more checkers , or both . Movement : The roll of the dice indicates how many points , or pips , the player is to move his checkers . The following rules apply : A checker may be moved only to an open point , one that is not occupied by two or more opposing checkers . The numbers on the two dice constitute separate moves . For example , if you roll 5 and 3 , you may move one checker five spaces to an open point and another checker three spaces to an open point , or you may move the one checker a total of eight spaces to an open point , but only if the intermediate point -LRB- either three or five spaces from the starting point -RRB- is also open . Doubles are played twice . For example , a roll of 6-6 means you have four sixes to use . You must use both numbers of a roll if possible , or all four numb\"],\n",
              "   [3.2822113,\n",
              "    \"Blocking Backgammon Main Page Rules Variants Web Sites Play Sites Software Articles Matches Etiquette Forum Archive Books All About Gnu Motif Plays Backgammon Glossary Search : Web This site Comments : tom@bkgm.com Backgammon Variants The Blocking Game Blocking Backgammon is described in Nicholas Frantzis 's book , The Seven Popular Games of Backgammon . The strategy is easier than other games of backgammon , and so it is often the first game taught to children in the Middle East . Setup : Each player starts with fifteen checkers off the board . The players enter their checkers in the opponent 's home board , then bring them around the board as shown in the diagram below . Object : The object of the game is to move all of your checkers around the board to your own home table and then bear them off . The first player to bear off all of his checkers wins the game . To start : Each player rolls one die and the higher number goes first . That player then rolls both dice again to begin his first turn . Entering checkers : You enter a checker by placing it on a point in the opponent 's home board corresponding to a number rolled . For example , if you roll 6-3 , then you enter one checker on the opponent 's six-point and one checker on his three-point . You must enter all of your checker before you can begin moving forward . Owning a point : Any time you have exactly one checker on a point , you own the point and your opponent can not land or touch down on that point . Thus a sequence of six consecutive single checkers constitutes a prime which the opponent can not cross . If you have two or more checkers on a point , you no longer own the point and the opponent is free to move onto the point as he wishes . There is no hitting in this game . Movement : The roll of the dice indicates how many points , or pips , the player is to move his checkers . The following rules apply : The numbers on the two dice constitute separate moves . For example , if you roll 5 and 3 , you may move one checker five spaces to an open point a\"],\n",
              "   [3.2709644,\n",
              "    \"How to Set Up a Backgammon Board Search Board / Card Games Home Hobbies & Games Board / Card Games Email Board / Card Games Games A - Z Buying Advice Free Board / Card Games Newsletter!Sign Up Discuss in my Forum How To Set Up a Backgammon Board By Erik Arneson , About.com See More About : backgammon board game rules For casual backgammon players , it 's easy to forget how to set up the board . Follow these instructions and you 'll have it mastered in no time . Difficulty : Easy Time Required : 5 minutes Here 's How : Set the board on a level playing surface between the two players . Count the playing discs to confirm that you have the correct amount . There should be 15 each of two colors , for a total of 30 . Know your terms . The 24 triangular areas on which the discs are initially placed and across which they move are called Points . The Home Board is that half which includes both players ' home areas -LRB- this could be on your left or your right , depending which color you 're playing -RRB- . The other half is the Outer Board . The Bar separates the Home Board from the Outer Board . If you 're playing a more serious game , you might use a Doubling Cube , but it has nothing to do with initial setup . Choose which player will use which color . Place five discs of your color on the Point closest to the Bar , yet within the Home Board on your side . Your opponent should do the same on his side . Place two discs of your color on the Point farthest from the Bar , and within the Home Board on your opponent 's side . Your opponent should do the same on your side . Place three discs of your color on the second Point from the Bar , and within the Outer Board on your side . Your opponent should do the same on his side . Place five discs of your color on the Point farthest from the Bar , and within the Outer Board on your opponent 's side . Your opponent should do the same on your side . Alternatively , use a method based on a system of numbering the Points . Points are numbered for each player -LRB- from 1 to 24 -RRB-\"],\n",
              "   [3.240176,\n",
              "    \"How to Play Online Backgammon at BackgammonMasters.com , Plus Backgammon Glossary Home Getting Started How to Play Features Tournaments Real Money Contact Us FAQ About Us Promos How to Play Backgammon View our New Live Demo , a step-by-step guide to installing and using the game software ! New ! Hyperbackgammon ! How to play ... Objectives and Rules Play Tips Glossary Types of Games - Play unlimited tournament games , and up to 3 regular games simultaneously ! Tournaments The Object of the Game The object of the game is to `` bear off '' all of your checkers from the backgammon board before your opponent . Each player can prevent the other from advancing . The object of the game is the same whether you play face-to-face or online . Setting Up the Backgammon Board There are 15 checkers of each color -LRB- a checker is a backgammon piece -RRB- . You should also have four dice , and a doubling cube . The color of the dice usually matches the color of the checkers . Spaces on the backgammon board are represented by narrow triangles , and are called points . To describe the points on the backgammon board , it is common to use a numbering system . Each of the points is represented by a number ; the first point in your home board is point # 1 , and the last point , counting clockwise , is # 24 , which is in your opponent 's home board . The initial board is set up as follows : Two checkers on point # 24 , Five checkers on point # 13 , Three checkers on point # 8 , Five checkers on point # 6 . Your opponent 's checkers will be set up in a mirror image of yours . Starting the Game To decide who throws first , each player throws one die . The dice must land inside the board to the right of the bar . The player who throws the highest number goes first , using the numbers thrown to make his first move . The direction of play is counterclockwise , moving from point # 24 to point # 1 . At the opening stage of the game , the value of the game is one point -LRB- equal to the basic stake , which is stated in monetary terms ; that\"],\n",
              "   [3.2377946,\n",
              "    \"Backgammon : Online Guide to Popular Backgammon Play online backgammon ! Learn it easily ! Practice backgammon online and have an easy time learning the basic rules and tricks of this fantastic game ! -LCB- Casinos for US Players -RCB- -LCB- Francais -RCB- -LCB- Espanol -RCB- -LCB- Deutsch -RCB- Back to Home Page Site Navigator : : Online Casino Gambling > Backgammon Backgammon : Learn , Play , Enjoy and Win Thanks for entering this backgammon playing archive . What will you be able to do here ? Learn how to play backgammon . We describe the most important rules , tips and strategies that you will need when playing online backgammon . What is Backgammon ? Backgammon is described in articles , books , casinos and internet in such a hard way that people give up reading the instructions and lose the point of playing . -LRB- If you were wondering what is the point of playing backgammon ? It is to enjoy and win . -RRB- But , in simple terms , backgammon is a game played with dice where you play against and try and defeat one player sitting opposite you . The object of playing online backgammon is just as that of the regular backgammon : you have to move all your coins out of your side of the board . Backgammon for Beginners : If you are a beginner ready for action then let 's make a small review of the backgammon game ; it ca n't be easier to describe how to play the game : 2 players , 15 checkers per player , 1 board , 2 dices . To make it even easier backgammon is played like this : The 2 players have to move their checkers around the board and take them out of it . The Backgammon Board To get an idea of how the backgammon board looks like I will describe it . There are 12 long triangles -LRB- which means 24 , because there are 12 in each side -RRB- called points on each side where the player sits . These are numbered from 1 to 24 . This is the boring part in which you are supposed to know where each one of the checkers is placed but do not worry . You will get it in the first game while playing with someone that kn\"],\n",
              "   [3.2080011,\n",
              "    \"Backgammon : How to Play the Opening Rolls Backgammon Openings How to Play the Opening Rolls by Tom Keith , April 2006 Introduction A GAME OF BACKGAMMON starts when both players each roll one die and the player who rolls the higher number goes first . The winner then plays the two numbers just rolled . In the case of a tie , both dice are rethrown . That means it 's not possible to roll doubles as the first roll of a game . Here are the fifteen possible opening rolls : Click on a roll to jump forward to the commentary about that roll . Why Study Opening Rolls ? The starting position occurs every game so it is worth knowing how to handle it . Not only will you be able to make the best play every time , learning the reasons why certain plays are better than others will help you with your game overall . Spend some time studying the opening moves . As you gain experience , experiment with alternate plays of those rolls that have more than one reasonable play . And think about how you would reply to your opponent 's openings . A companion article to this one gives tips specifically geared to playing Replies to the Opening Move . Phillip Martyn -LRB- 1976 -RRB- : Decide your first play on the same principles as any other play . Your aims are the same and you think in the same way . Understanding the reasoning is the pointfar more important than merely knowing what move to make . Important Concepts Here are some basic concepts to keep in mind as you think about how to play each roll . Focus on your two major goals of the game : 1Trying to trap your opponent 's runners behind a blockade . 2Escaping your own two runners before they are trapped by your opponent . Making points is important and home-board points are particularly important . In addition to blocking , home-board points make it difficult for your opponent to reenter after he has been hit . It matters what order you make your points in . The most valuable points to close first are your five-point , four-point , and bar-point in that order . To improve your chan\"],\n",
              "   [3.1797404,\n",
              "    \"Backgammon Gambling The Name of the Game Home Portal Links Forum RSS MENU Home Up gambling news Your browser does not support inline frames or is currently configured not to display inline frames . NAVIGATION Home Up Next Backgammon Close-up of a modern backgammon set Backgammon is a board game for two players . Each player has fifteen pieces -LRB- checkers -RRB- which move between twenty-four triangles -LRB- points -RRB- according to the roll of two dice . The objective of the game is to be first to bear off , that is , to move all fifteen checkers off the board . The oldest recorded game in history , backgammon traces its roots to the ancient Mesopotamian game tabula , which appears in an epigram of Byzantine Emperor Zeno -LRB- 47681 A.D. -RRB- . Further archaeological excavations have placed the possible date of origin of backgammon to 3000 B.C. Though the gameplay is quite basicach player is trying to move his checkers to his home board and then bear them off before his opponent is able to do soackgammon incorporates strategy insofar as with each dice roll , the player must choose between multiple options for movement of the checkers . Furthermore , the doubling cube , which raises the stakes of the present game when a match consists of multiple games , and rules like the Crawford Rule and the Jacoby Rule , introduce more strategic intricacies . Experts have also developed a nomenclature to define commonly used general strategies for play such as the running game and the backgame . As with chess , backgammon has been significantly interfaced with computer technology . By 1979 , Hans Berliner 's BKG 9.8 program had defeated a world champion backgammon player , and since then neural network and other approaches have improved the playing quality of the virtual backgammon opponent . In addition , a number of other computer programs , most notably the backgammon software Snowie , have combined the capabilities of an intelligent opponent with extensive statistical analyses of individual moves and possible outcomes \"],\n",
              "   [3.1229353,\n",
              "    \"Bambooweb : Backgammon Backgammon Backgammon is a board game for two players . Each player has fifteen pieces -LRB- checkers -RRB- which move between twenty-four triangles -LRB- points -RRB- according to the roll of two dice . The objective of the game is to be first to bear off , i.e. , move all fifteen checkers off the board . -LSB- Top -RSB- History Backgammon is the oldest known recorded game in history . It is believed to have originated thousands of years BC in ancient Egypt , Sumeria , or Mesopotamia in the Persian empire -LRB- the present-day Iran , Iraq , and Syria -RRB- . The present form of backgammon was invented by Buzurgmihr in Persia . -LSB- Top -RSB- Rules Backgammon is a simple game with deep strategic elements . It does not take long to learn to play , although obscure situations do arise which require careful interpretation of the rules . The playing time for each individual game is short , so when it is not played for money it is often played in matches , for example the first to five points . Each side of the board has a track of twelve adjacent points . The tracks are imagined to be connected on one edge of the board , making a continuous chain of twenty-four points . The points are numbered from 1 to 24 , with checkers always moving from higher-numbered points to lower-numbered points . The two players move their checkers in opposite directions , so the 1-point for one player is the 24-point for the other . Some recorded games , however , keep the numbering of the points constant from the perspective of one player . Each player begins with two checkers on his 24-point , three checkers on his 8-point , and five checkers each on his 13-point and his 6-point . Points one to six are called the home board . A player may not bear off any checkers unless all of his checkers are in his home board . Points seven to twelve are called the outfield , points thirteen to eighteen the opponent 's outfield , and points nineteen to twenty-four the opponent 's home board . At the start of the game , each pla\"],\n",
              "   [3.0805256,\n",
              "    'play online backgammon play online multiplayer backgammon Backgammon is a game of luck and skill . It is played by two people with 15 checkers each on a board consisting of 24 spaces or points . The checkers are moved according to rolls of the dice . Each player tries to bring his own checkers home and bear them off before his opponent does , hitting and blocking the enemy checkers along the way . Frames-capable browser is required .'],\n",
              "   [3.0793173,\n",
              "    'Chemistry - Backgammon Periodic Table - standard table - large table Chemical Elements - by name - by symbol - by atomic number Chemical Properties Chemical Reactions Organic Chemistry Branches of Chemistry Analytical chemistry Biochemistry Computational Chemistry Electrochemistry Environmental chemistry Geochemistry Inorganic chemistry Materials science Medicinal chemistry Nuclear chemistry Organic chemistry Pharmacology Physical chemistry Polymer chemistry Supramolecular Chemistry Thermochemistry Categories : Board games Backgammon Backgammon set , 19th century Backgammon is a board game for two players . Each player has fifteen pieces -LRB- checkers -RRB- which move between twenty-four triangles -LRB- points -RRB- according to the roll of two dice . The objective of the game is to be first to bear off , i.e. , move all fifteen checkers off the board . Contents 1 History 2 Rules 2.1 Sample Game 2.2 Maximum checkers on a point 3 Backgammon as a Gambling Game 4 Computer Backgammon 5 Other games played on the same board 6 External links History Backgammon is the oldest known recorded game in history . Traditionally , it was believed to have originated in ancient Egypt , Sumeria , or Mesopotamia in the Persian empire -LRB- present-day Iran , Iraq , and Syria -RRB- . However , more recent conclusive evidence indicates that the game originated on the eastern borders of Iran , near Afghanistan . Rules Backgammon is a simple game with deep strategic elements . It does not take long to learn to play , although obscure situations do arise which require careful interpretation of the rules . The playing time for each individual game is short , so when it is not played for money it is often played in matches , for example the first to five points . Each side of the board has a track of twelve adjacent points . The tracks are imagined to be connected on one edge of the board , making a continuous chain of twenty-four points . The points are numbered from 1 to 24 , with checkers always moving from higher-numbered points to lo']],\n",
              "  'uid': 's3q8053'}]"
            ]
          },
          "metadata": {
            "tags": []
          },
          "execution_count": 25
        }
      ]
    },
    {
      "cell_type": "code",
      "metadata": {
        "id": "M5mCHdZSEtED",
        "colab_type": "code",
        "outputId": "15743906-a6db-4275-d930-e63de60fc0c5",
        "colab": {
          "base_uri": "https://localhost:8080/",
          "height": 35
        }
      },
      "source": [
        "print(len(trainLC))"
      ],
      "execution_count": 0,
      "outputs": [
        {
          "output_type": "stream",
          "text": [
            "37012\n"
          ],
          "name": "stdout"
        }
      ]
    },
    {
      "cell_type": "code",
      "metadata": {
        "id": "j3nCfY7PkEKG",
        "colab_type": "code",
        "outputId": "e301362f-e5f5-454f-acf8-bfac31978c85",
        "colab": {
          "base_uri": "https://localhost:8080/",
          "height": 1000
        }
      },
      "source": [
        "filename = qasar_t_dir+ \"contexts/short/train_contexts.json\"\n",
        "print(filename)\n",
        "\n",
        "trainSC = []\n",
        "file = open(filename, \"r\")\n",
        "for line in file:\n",
        "    dictionary = ast.literal_eval(line)\n",
        "    trainSC.append(dictionary)\n",
        "\n",
        "file.close()\n",
        "trainSC[:1]"
      ],
      "execution_count": 0,
      "outputs": [
        {
          "output_type": "stream",
          "text": [
            "/content/drive/My Drive/quasar/quasar-t/contexts/short/train_contexts.json\n"
          ],
          "name": "stdout"
        },
        {
          "output_type": "execute_result",
          "data": {
            "text/plain": [
              "[{'contexts': [[12.680223, 'Does backgammon have official rules ?'],\n",
              "   [12.533287,\n",
              "    \"There 's no limit to how many checkers each backgammon player may have on a point .\"],\n",
              "   [11.789606, \"How does `` legal plays only '' work ?\"],\n",
              "   [11.722904, 'Q : Does backgammon have official rules ?'],\n",
              "   [10.598074,\n",
              "    'The number on the dice tells the player how many points or ipshe can move his marker .'],\n",
              "   [10.598074,\n",
              "    'The dice indicate how many points or pips a player can move its checkers .'],\n",
              "   [10.598074,\n",
              "    'Movement of the Checkers The roll of the dice indicates how many points , or pips , the player is to move his checkers .'],\n",
              "   [10.598074,\n",
              "    'Movement : The roll of the dice indicates how many points , or pips , the player is to move his checkers .'],\n",
              "   [10.511074,\n",
              "    \"If that player does n't have any checkers on the 5 and 6 points , then he can remove checkers on lower points .\"],\n",
              "   [10.477706,\n",
              "    'How does strategy in table stakes differ from unlimited money play ?'],\n",
              "   [9.995796, 'Even if green does hit , blue has many rolls to hit back .'],\n",
              "   [9.775658,\n",
              "    'From learning how to play backgammon and the basic rules of the game , to mastering advanced backgammon tips and tricks , there are many sites that explain in great detail how to play backgammon onlin'],\n",
              "   [9.640086,\n",
              "    'How to Set Up a Backgammon Board Main Page Directory Rooms Tournaments Reviews Bonus News Dictionary Articles Home Page = > Articles = > How to Set Up a Backgammon Board Learning how to set up a backg'],\n",
              "   [9.314914,\n",
              "    'Backgammon Articles How to Set Up a Backgammon Board Backgammon is played on a board with 24 triangles .'],\n",
              "   [9.099323, 'The attention to quality does not stop with printed points !'],\n",
              "   [8.975978, 'Learn how to play backgammon .'],\n",
              "   [8.972311,\n",
              "    'The Backgammon Board To get an idea of how the backgammon board looks like I will describe it .'],\n",
              "   [8.6962805,\n",
              "    'Q : How does strategy in table stakes differ from unlimited money play ?'],\n",
              "   [8.666096,\n",
              "    'Backgammon Board Boards are made of a wide variety of materials and are available in many sizes .'],\n",
              "   [8.648367,\n",
              "    'That means you have the next option of doubling the stakes and your opponent does not .'],\n",
              "   [8.605775,\n",
              "    'There are some articles on the Internet that different backgammon enthusiasts have written about computer generated dice and how people perceive them .'],\n",
              "   [8.5986,\n",
              "    'This would be very difficult , and most of us have no idea how .'],\n",
              "   [8.46752,\n",
              "    'When asking the questions - how to make a backgammon table - how to make a backgammon set - making a backgammon board or making a backgammon table , the first consideration should always be what size'],\n",
              "   [8.33126,\n",
              "    'Backgammon has many rules , but overall it is move the checkers , collect the points , and maneuver all checkers to the opposing end of the board to win the game .'],\n",
              "   [8.254716,\n",
              "    'The Goal of Backgammon The objective of backgammon is to remove all 15 checkers from the board before your opponent does .'],\n",
              "   [8.224021, 'The backgammon board includes 24 points .'],\n",
              "   [8.213411,\n",
              "    'Unfortunately even the casual backgammon player , and not just the beginners , will easily forget how the backgammon board setup goes .'],\n",
              "   [8.213411,\n",
              "    'Read the following introduction to the format of the backgammon board and find out how to set it up at the beginning of the backgammon game .'],\n",
              "   [8.126049,\n",
              "    'Closed board A Player who has made all six points in his home board is said to have a closed board .'],\n",
              "   [7.9798803,\n",
              "    'How to Play Online Backgammon at BackgammonMasters.com , Plus Backgammon Glossary Home Getting Started How to Play Features Tournaments Real Money Contact Us FAQ About Us Promos How to Play Backgammon'],\n",
              "   [7.954062,\n",
              "    \"I have observed so many players lose games in which they had a whole bevy of checkers stacked -LRB- called `` towers '' -RRB- on their inner-board deep points , and other checkers trapped behind massi\"],\n",
              "   [7.858492, 'How is backgammon different from the other games of tables ?'],\n",
              "   [7.858492, 'For more information , see How to Play Duplicate Backgammon .'],\n",
              "   [7.858492, 'read : How can I get better at backgammon ?'],\n",
              "   [7.858492, 'So how do you play backgammon ?'],\n",
              "   [7.707202,\n",
              "    'Break the Board -LRB- break up , crash -RRB- : To give up points you have established in your inner board .'],\n",
              "   [7.707202,\n",
              "    'A player who has made all six points in his home board is said to have a closed board .'],\n",
              "   [7.707202,\n",
              "    'Close Out When you make all 6 points in your home board , you have a closed board .'],\n",
              "   [7.6942773,\n",
              "    'How to play these Backgammon opening moves has been agreed to and proven to be correct for many years of expreince , and the correct backgammon movess are right for any match , whether you are winning'],\n",
              "   [7.6143847,\n",
              "    '-LSB- back to top -RSB- Starting a Backgammon Game on ItsYourTurn.com To learn how to begin a game of backgammon , go to our help menu and select How to Start a Game or How to Join a Game .'],\n",
              "   [7.6031322, 'The backgammon board has 24 positions or points .'],\n",
              "   [7.6031322,\n",
              "    'It is played on a backgammon board with 24 spaces called points .'],\n",
              "   [7.592657,\n",
              "    \"One thing you can do so that wo n't forget how to do backgammon board setup is to practice .\"],\n",
              "   [7.55511,\n",
              "    'It will first move its checkers as many points as shown by the number of the dice rolled .'],\n",
              "   [7.463786,\n",
              "    'Backgammon Board Layout Rules - Find Out How To Play Casino and Online Backgammon Homepage Rules Strategy Respond Digg It | Post to del.icio.us Backgammon Board Layout In Backgammon there are 5 pieces'],\n",
              "   [7.3541827,\n",
              "    'Hypergammon is a variant of backgammon in which players have only three checkers on the board , starting with one each on the 24 - , 23 - and 22-points .'],\n",
              "   [7.336628,\n",
              "    'The Rules of How to Play Backgammon Back to 1on1backgammon Main Menu Backgammon Share This Add To Del.icio.us Digg This Article Backgammon articles Backgammon Rules - Learn How to Play Backgammon Back'],\n",
              "   [7.177966,\n",
              "    'When moving , a marker can only land on an open point or one that does not have two or more opposing markers already on it .'],\n",
              "   [7.177966,\n",
              "    'If a player can make a legal move then he does not have to ear offany of his makers .'],\n",
              "   [7.1366615,\n",
              "    'For every word I have stated the definition as well as how it might be used in a sentence .'],\n",
              "   [6.984936,\n",
              "    'For purposes of convenience we have numbered the points in the diagram .'],\n",
              "   [6.98403,\n",
              "    'Q : How is backgammon different from the other games of tables ?'],\n",
              "   [6.98403,\n",
              "    'How to play Backgammon Online games for serious players or just for fun .'],\n",
              "   [6.98403, '-LSB- back to top -RSB- How can I get better at backgammon ?'],\n",
              "   [6.9483023,\n",
              "    'Most tables games have the following features : The board consists of 24 spaces or points .'],\n",
              "   [6.9483023,\n",
              "    'The tables have 12 alternately colored points or triangular spaces and players move along the board according to the rolls of two dice .'],\n",
              "   [6.923748,\n",
              "    'The Location of the bar When a player re-enters the board , he does it from the outer board , meaning from the 24-point .'],\n",
              "   [6.9032593,\n",
              "    'Backgammon : How to Play the Opening Rolls Backgammon Openings How to Play the Opening Rolls by Tom Keith , April 2006 Introduction A GAME OF BACKGAMMON starts when both players each roll one die and'],\n",
              "   [6.868255,\n",
              "    \"Closed board in Backgammon : When a player has ` made ' all the points on his inner board , his opponent will be unable to re-enter any checker he may have on the ` bar ' into the game until an open p\"],\n",
              "   [6.7599587,\n",
              "    'How To Play Backgammon see also : Backgammon Internet Tournaments Play Backgammon Online .'],\n",
              "   [6.7570863,\n",
              "    'Spaces on the backgammon board are represented by narrow triangles , and are called points .'],\n",
              "   [6.7570863,\n",
              "    'To describe the points on the backgammon board , it is common to use a numbering system .'],\n",
              "   [6.7570863,\n",
              "    \"The points on the backgammon board are numbered according to their place on each of the players ' home boards .\"],\n",
              "   [6.7366858,\n",
              "    'In the case of doubles , whenever all four numbers can not be played , the player will have to move as many pips as possible .'],\n",
              "   [6.7366858,\n",
              "    'We value your business and know that you have many choices , that is why our products are 100 % satisfaction guaranteed .'],\n",
              "   [6.7366858,\n",
              "    'Many variants of the game have developed throughout the world , but most of them share common traits .'],\n",
              "   [6.670562,\n",
              "    'The remaining points are numbered from highest to lowest as far as how far they are from being taken off .'],\n",
              "   [6.5982776,\n",
              "    'On Backgammon by Phillip Martyn : The most important points on the board on the two 5-points , your own and your opponents .'],\n",
              "   [6.5838532,\n",
              "    \"It is not like any other game you have faced before , oh that 's a wild comment if ever I heard one , but in the case of backgammon it 's true , backgammon has so many different elements attached to i\"],\n",
              "   [6.532778, 'Points The 24 triangles on the board are called points .'],\n",
              "   [6.50212,\n",
              "    'There are many variants of backgammon , most of which share common traits .'],\n",
              "   [6.4537325,\n",
              "    'That means many of the same rolls that make points with your back checkers also make points using your two front stacks .'],\n",
              "   [6.4064713, 'If the team doubles , it does so as a unit .'],\n",
              "   [6.39645,\n",
              "    'After you have learned the rules of Backgammon there are a few points of Backgammon etiquette you should also learn before you play .'],\n",
              "   [6.345901, 'How do you play portes ?'],\n",
              "   [6.345901, 'How do you play plakoto ?'],\n",
              "   [6.345901, 'How do you play fevga ?'],\n",
              "   [6.345901, 'The major exception is how doubles are played .'],\n",
              "   [6.3069105,\n",
              "    'Points 1 to 6 are called the home board or inner board , points 7 to 12 forms the outer board .'],\n",
              "   [6.3069105,\n",
              "    'Points 1 through 6 are called the home board or inner board , and points 7 through 12 are called the outer board .'],\n",
              "   [6.2712917,\n",
              "    \"If he does re-enter and hits you onto the bar you 're going to have at least one blot to aim at if not two .\"],\n",
              "   [6.228997,\n",
              "    'Each player receives 15 checkers to move around the points on the backgammon board according to backgammon rules .'],\n",
              "   [6.228997,\n",
              "    'Start Up and Basic Backgammon Rules Setting Up A backgammon board has 24 triangles in alternating colors called points .'],\n",
              "   [6.2076807,\n",
              "    'Boards with sewn points have lower quality handles and locks .'],\n",
              "   [6.2076807,\n",
              "    'If you have two anchors try to keep them on adjacent points .'],\n",
              "   [6.2076807,\n",
              "    \"A few points have special names , such as the `` bar point '' or the `` mid point '' .\"],\n",
              "   [6.195524,\n",
              "    'Because if he is allowed to make this point next roll he will have robbed you of the opportunity to hold it and will have made two vital points in his inner board .'],\n",
              "   [6.1648483,\n",
              "    \"If the player does not roll a number on either die which corresponds to an open space in the opponent 's home board , the turn is forfeited .\"],\n",
              "   [6.1648483,\n",
              "    'And your inner board is wide open to allow your opponent to re-enter easily if he does get hit .'],\n",
              "   [6.0847044,\n",
              "    'Tawula Board Setup The Tawula board is designed exactly like regular backgammon board : divided into four quarters and includes 24 points .'],\n",
              "   [6.0743423,\n",
              "    'One of the fastest ways to get this business done is to have a picture or illustration of a backgammon board with the checkers already in starting position .'],\n",
              "   [6.0743423,\n",
              "    'The equipment is the same as in backgammon and players each have fifteen checkers which they move around the board according to rolls of the dice .'],\n",
              "   [6.0743423,\n",
              "    'To make it even easier backgammon is played like this : The 2 players have to move their checkers around the board and take them out of it .'],\n",
              "   [6.0335875,\n",
              "    'Now that you know the rules of how to play backgammon you can proceed to articles such as Basic backgammon tips and concepts and/or Backgammon Basic Strategy .'],\n",
              "   [6.0173807,\n",
              "    'There are many unique and hard to find Backgammon Sets and pieces to choose from for every Backgammon enthusiast .'],\n",
              "   [6.009898,\n",
              "    'How to Set Up a Backgammon Board Search Board / Card Games Home Hobbies & Games Board / Card Games Email Board / Card Games Games A - Z Buying Advice Free Board / Card Games Newsletter!Sign Up Discuss'],\n",
              "   [6.0013375,\n",
              "    'Having studied Backgammon opening moves for many years , having had the benefit of experience , the use of computer softwares , and tremendous personal skill and intuition , the experts have virtually'],\n",
              "   [5.9771237,\n",
              "    'Browse All About.com Board / Card Games Home Hobbies & Games Board / Card Games Games : A-Z Backgammon How to Set Up a Backgammon Board Most Popular Latest Articles Add to : iGoogle My Yahoo! RSS Adve'],\n",
              "   [5.9556074,\n",
              "    'Points There are 24 points on the board where you can move your checkers .'],\n",
              "   [5.9556074,\n",
              "    'Making points is important and home-board points are particularly important .']],\n",
              "  'uid': 's3q8053'}]"
            ]
          },
          "metadata": {
            "tags": []
          },
          "execution_count": 27
        }
      ]
    },
    {
      "cell_type": "code",
      "metadata": {
        "id": "pQ2Gs2-LkJuu",
        "colab_type": "code",
        "outputId": "86ceffc5-ba51-4dc8-824a-2f2f68a10d7b",
        "colab": {
          "base_uri": "https://localhost:8080/",
          "height": 35
        }
      },
      "source": [
        "print(len(trainSC))"
      ],
      "execution_count": 0,
      "outputs": [
        {
          "output_type": "stream",
          "text": [
            "37012\n"
          ],
          "name": "stdout"
        }
      ]
    },
    {
      "cell_type": "code",
      "metadata": {
        "id": "OmOg9daVu66T",
        "colab_type": "code",
        "outputId": "648d2dab-330c-4194-8a70-944801e125cb",
        "colab": {
          "base_uri": "https://localhost:8080/",
          "height": 1000
        }
      },
      "source": [
        "filename = qasar_t_dir+ \"contexts/short/test_contexts.json\"\n",
        "print(filename)\n",
        "\n",
        "testSC = []\n",
        "file = open(filename, \"r\")\n",
        "for line in file:\n",
        "    dictionary = ast.literal_eval(line)\n",
        "    testSC.append(dictionary)\n",
        "\n",
        "file.close()\n",
        "testSC[:1]"
      ],
      "execution_count": 0,
      "outputs": [
        {
          "output_type": "stream",
          "text": [
            "/content/drive/My Drive/quasar/quasar-t/contexts/short/test_contexts.json\n"
          ],
          "name": "stdout"
        },
        {
          "output_type": "execute_result",
          "data": {
            "text/plain": [
              "[{'contexts': [[16.51039,\n",
              "    'The queen is the most powerful piece in the board .'],\n",
              "   [16.51039, 'She is the most powerful piece on the board .'],\n",
              "   [15.283697,\n",
              "    'The king is the most important , but not the most powerful piece in chess .'],\n",
              "   [14.064572,\n",
              "    'They are the least powerful piece on the chess board , but have the potential to become equal to the most powerful .'],\n",
              "   [13.531023,\n",
              "    'The code starts with a letter representing the most powerful piece on the board , not counting kings .'],\n",
              "   [13.531023,\n",
              "    'By the end of the 15th century , the queen became the most powerful piece on the board .'],\n",
              "   [13.531023,\n",
              "    'Suddenly , about 1485 , in Italy , the queen began to be the most powerful piece on the board .'],\n",
              "   [13.531023,\n",
              "    'Since then the queen has been the most powerful piece on the board .'],\n",
              "   [13.531023,\n",
              "    'Generally they are promoted to a queen since this is the most powerful piece on the board .'],\n",
              "   [13.298441, 'The Queen The queen is the most powerful piece .'],\n",
              "   [13.298441, 'Queen : The Queen is the most powerful piece .'],\n",
              "   [13.298441, 'It is the most powerful piece next to the Queen .'],\n",
              "   [12.982409,\n",
              "    'The game of chess mirrors ancient times in that the queen is the most powerful chess piece .'],\n",
              "   [12.690069,\n",
              "    '+ 50 $ , They are the least powerful piece on the chess board .'],\n",
              "   [12.55565,\n",
              "    'It is the most powerful piece on the board , capable of capturing and positioning from most any vantage point .'],\n",
              "   [12.55565,\n",
              "    'The King : Though not the most powerful piece on the board , the king is the most vital , for once he is lost the game is lost .'],\n",
              "   [12.44671,\n",
              "    'The most powerful and dangerous chess piece is not the King , as might be expected , but the Queen .'],\n",
              "   [12.281244, 'The usual choice is a queen , the most powerful piece .'],\n",
              "   [12.281244,\n",
              "    'The Queen : The queen is the most powerful piece on the chessboard .'],\n",
              "   [12.219764,\n",
              "    'Queen is the most common choice because it is the most powerful piece .'],\n",
              "   [11.966496, \"It 's the most important piece on a chess board .\"],\n",
              "   [11.2353,\n",
              "    'The most powerful piece in the game of chess is the Queen , and it is the only piece that represents a female figure .'],\n",
              "   [11.208227,\n",
              "    \"Rook 's Movement Queen : The queen is the most powerful piece on the board and is the equivalent of about nine pawns .\"],\n",
              "   [11.208227,\n",
              "    \"Queen 's Movement King : A king is only slightly more powerful than a pawn but is nevertheless the most important piece on the board .\"],\n",
              "   [10.8986845,\n",
              "    'Normally , a player chooses to replace the Pawn with the most powerful piece , the Queen .'],\n",
              "   [10.8986845,\n",
              "    \"The Queen 's Movement The queen is , without doubt , the most powerful piece on the chessboard .\"],\n",
              "   [10.8986845,\n",
              "    'The queen represents the only woman and is the most powerful piece in the game .'],\n",
              "   [10.8131895,\n",
              "    'Chess Board Setup Description of Pieces Pawn : The pawn is considered the weakest piece on the board .'],\n",
              "   [10.496263,\n",
              "    'If that were true , chess would not be considered the most complicated game .'],\n",
              "   [10.310053,\n",
              "    'Queen in the standard Staunton pattern The queen -LRB- , -RRB- is the most powerful piece in the game of chess .'],\n",
              "   [10.310053,\n",
              "    'Queen in the standard Staunton pattern The queen -LRB- U , -LSB- -RRB- is the most powerful piece in the game of chess .'],\n",
              "   [10.115463,\n",
              "    'He should thereupon not hesitate to exchange what might otherwise be considered a more powerful piece for her .'],\n",
              "   [10.097732,\n",
              "    'The king , which is the most important piece on the board , moves one square , either straight or diagonally .'],\n",
              "   [10.097732,\n",
              "    'Also the king , the most important piece on the board , is located in a position which becomes increasingly vulnerable as the game develops .'],\n",
              "   [10.083372, 'It is not considered a sound move by most players today .'],\n",
              "   [9.780535,\n",
              "    'The usual choice is a queen , the most powerful piece , and it is perfectly legal for a player to promote to a queen even though he or she already has one elsewhere on the board .'],\n",
              "   [9.780535,\n",
              "    \"King 's Movement Special Moves Castling : While the rook is the second most powerful piece on the board , it starts the game in a poor position to use its power .\"],\n",
              "   [9.558048,\n",
              "    'As with most pieces , the queen captures by occupying the square on which an enemy piece sits .'],\n",
              "   [9.489655,\n",
              "    'The game of chess is considered to be one of the most popular board games in the world played by millions of people worldwide in various clubs , on the internet , by means of correspondence , and tour'],\n",
              "   [9.486042,\n",
              "    \"King Even though the king is n't the most powerful of all chess pieces he is the most important .\"],\n",
              "   [9.459036, 'Therefore , it , too , is considered a minor piece .'],\n",
              "   [9.435699,\n",
              "    \"MOVEMENTS DESCRIPTION King 's Movement Though not the most powerful piece on the board , the king is the most vital , for once he is lost the game is lost -LRB- more about this in the end game section\"],\n",
              "   [9.435699,\n",
              "    \"This may be the most important decision of the game , but I 'm going to replace the most powerful piece on the board - with another rook , a talkative straight shooter who wo n't try any sneaky moves\"],\n",
              "   [9.405397,\n",
              "    'The candles descended in height from king to pawn except the rooks , which despite being the second most powerful chess piece , were actually shorter than the bishops and knights .'],\n",
              "   [9.327259, 'Three of the most powerful generic tactics are listed below .'],\n",
              "   [9.2263155,\n",
              "    'It is considered to be very powerful as it gets about 2000 points according to the US Chess Federation Standard .'],\n",
              "   [9.111312,\n",
              "    '-LRB- see chess piece relative value -RRB- The queen is at her most powerful when the board is open , when the enemy king is not well-defended , or when there are loose -LRB- i.e. undefended -RRB- pie'],\n",
              "   [9.036795,\n",
              "    \"+ 150 & , 9 \\\\u2660 , MOVEMENTS DESCRIPTION King 's Movement Though not the most powerful on the board , During a given betting round .\"],\n",
              "   [9.027768,\n",
              "    'Under normal circumstances a player will want to promote his pawn to be a queen since that piece is the most powerful and flexible .'],\n",
              "   [9.027768,\n",
              "    'Although not the most powerful piece , if you lost it , signifies the loss of the game to your opponent .'],\n",
              "   [9.027768,\n",
              "    'Under normal circumstances a player will to promote his pawn to be a queen since that piece is the most powerful and flexible .'],\n",
              "   [9.027768,\n",
              "    'the most powerful piece on the chessboard , The rook can move any number of squares in a straight line along any column or row .'],\n",
              "   [8.735516,\n",
              "    'For instance , moving a piece would not be considered a tactic .'],\n",
              "   [8.601812,\n",
              "    'The knight is considered a slower moving piece since it can not zoom across the board like the long range pieces .'],\n",
              "   [8.259045,\n",
              "    'Horizontal Cylinder Chess In horizontal cylinder chess the top and bottom edges of the board are considered to be joined .'],\n",
              "   [7.999281,\n",
              "    'The original and most popular arrangement of the lines , which makes a playable game , is the standard grid which divides the board into 16 areas , each 2 by 2 .'],\n",
              "   [7.9979277,\n",
              "    'Today , chess is one of the most popular board games in the world .'],\n",
              "   [7.991682,\n",
              "    'It clearly illustrates that the bishop is more powerful in the center of the board .'],\n",
              "   [7.988279,\n",
              "    'Yet , the Griffin , a very powerful piece indeed , is allowed as an added piece .'],\n",
              "   [7.9794016,\n",
              "    'This gives it a degree of flexibility that makes it a powerful piece .'],\n",
              "   [7.9794016, 'A rook is a very powerful piece to deliver a checkmate .'],\n",
              "   [7.8778195,\n",
              "    'It is the most powerful piece , being able to move in any direction -LRB- on a line of adjacent squares -RRB- and any distance so long as no obstructions intervene .'],\n",
              "   [7.865801,\n",
              "    'The greater tendency towards drawn endgames often results in the defender playing on in a position which would be considered cause for resignation on a square board .'],\n",
              "   [7.8567944, 'Yod Knight The most offensive piece .'],\n",
              "   [7.8165565,\n",
              "    'Middlegame is also the phase in which most combinations occur .'],\n",
              "   [7.7521143,\n",
              "    'However , as an active piece in the endgame it is usually considered to have a value of 3 .'],\n",
              "   [7.708963,\n",
              "    'When a chess piece is captured , it is removed from the board and replaced by the attacking piece .'],\n",
              "   [7.703637,\n",
              "    'Two rooks are generally considered to be worth slightly more than a queen -LRB- see Chess piece relative value -RRB- .'],\n",
              "   [7.6936193,\n",
              "    'Grasshopper chess : is a chess variant in which the pawns can promote to grasshopper , or in which grasshoppers are on the board in the opening position .'],\n",
              "   [7.525931,\n",
              "    'The Staunton chess sets are considered the standard for play .'],\n",
              "   [7.439604,\n",
              "    'Although the pawns are the least powerful piece in the game , they have the potential to become very powerful at the end game .'],\n",
              "   [7.3658776,\n",
              "    \"One of the most popular of these is Bughouse , a partner-based game in which a player who captures his opponent 's piece can give it to a partner on another board to drop on a square of his choosing .\"],\n",
              "   [7.346599,\n",
              "    \"Pins : A piece is considered `` pinned '' when it can not move , because , by moving , it would expose a more valuable piece to capture .\"],\n",
              "   [7.330529, 'Chess on the Web - Powerful correspondence server .'],\n",
              "   [7.3034353,\n",
              "    'Archon : success of piece capture depends on the strength of the attacking piece -LRB- with better chances for more powerful piece -RRB- .'],\n",
              "   [7.255829,\n",
              "    'The King The king is the most important piece , but is one of the weakest .'],\n",
              "   [7.147829,\n",
              "    'Modern international chess has a powerful , sweeping queen who was not a piece provided in the original game .'],\n",
              "   [7.10193,\n",
              "    'Free Internet Chess Server - With over 300,000 users and a powerful Java interface , it no wonder FICS is one of the most popular sites in the world .'],\n",
              "   [7.0920186,\n",
              "    'She is able , therefore , to reach every square on the board , and is very powerful .'],\n",
              "   [7.0920186,\n",
              "    'The rook : The rook , also called a castle , is one of the more powerful pieces on the board .'],\n",
              "   [7.0920186,\n",
              "    'It also places the rook in a more powerful position near the center of the board .'],\n",
              "   [7.082034,\n",
              "    ', which is widely considered a chess opening suitable only for beginners , has occasionally been played by the strong American grandmaster Hikaru Nakamura .'],\n",
              "   [7.081121,\n",
              "    'Discovered attacks are powerful as the moving piece may be able to pose a second threat .'],\n",
              "   [7.081121,\n",
              "    'A single pawn approaching will force a more powerful piece , such as a rook or a knight , to retreat .'],\n",
              "   [7.0428324,\n",
              "    'For the chess configuration space search algorithm , a tree node object is needed which has a configuration -LRB- chess board -RRB- and a chess board evaluation function .'],\n",
              "   [7.028124,\n",
              "    'Jones developed the thesis that chess is a game of father-murder , which became the pattern for most psychoanalytic studies on the subject .'],\n",
              "   [6.9625797,\n",
              "    'Madrasi chess : a piece which is attacked by the same type of piece of the opposite colour is paralysed .'],\n",
              "   [6.9625797,\n",
              "    'This is the only move in chess in which the taking piece does not occupy the square left open by the captured piece .'],\n",
              "   [6.961977,\n",
              "    'When a player advances a piece to the 7th , 8th or 9th row of the board it may be possible to promote it by turning it over , depending on which piece it was that the player moved .'],\n",
              "   [6.936608,\n",
              "    'The rooks , -LRB- Which look like castles in most sets . -RRB-'],\n",
              "   [6.936608,\n",
              "    'The king did not know which to admire most , the invention ofard or the ingenuity of the request .'],\n",
              "   [6.932128,\n",
              "    'The queen is so powerful that she is considered to be worth more than any combination of two other pieces , perhaps with the exception of two rooks .'],\n",
              "   [6.856335,\n",
              "    'Rooks are most powerful towards the end of a game , where they can move unobstructed by pawns and control large numbers of squares .'],\n",
              "   [6.856335,\n",
              "    '-LSB- edit -RSB- Queen Main article : Queen Queens are the most powerful pieces .'],\n",
              "   [6.856335,\n",
              "    \"The knight 's ability to ` jump over ' other pieces means it is at its most powerful in closed positions .\"],\n",
              "   [6.782545,\n",
              "    'Balaklava Chess All non-royal units can make non-capturing knight moves Balbo Chess Odd-shaped board , bishops as powerful as knights .'],\n",
              "   [6.683116,\n",
              "    \"This very simple knowledge is necessary to truly grasp the power of each chess piece and in the course of a match , make the most of that individual piece 's power .\"],\n",
              "   [6.678699,\n",
              "    'Chess computers are considered superhuman at tactics , but rather poor at strategy .'],\n",
              "   [6.678699,\n",
              "    'Chess computers are considered superhuman at tactics , but rather spotty at strategy .'],\n",
              "   [6.634048,\n",
              "    'Links Chess Blog See more about chess in : http://en.wikipedia.org/wiki/Chess Board setup Most beginners quickly remember the setup of the pieces .']],\n",
              "  'uid': 's3q17641'}]"
            ]
          },
          "metadata": {
            "tags": []
          },
          "execution_count": 29
        }
      ]
    },
    {
      "cell_type": "code",
      "metadata": {
        "id": "LALZn3EUvCkU",
        "colab_type": "code",
        "outputId": "c9ffefcf-63e5-4e13-d1f2-4bdccf620a18",
        "colab": {
          "base_uri": "https://localhost:8080/",
          "height": 35
        }
      },
      "source": [
        "print(len(testSC))"
      ],
      "execution_count": 0,
      "outputs": [
        {
          "output_type": "stream",
          "text": [
            "3000\n"
          ],
          "name": "stdout"
        }
      ]
    },
    {
      "cell_type": "code",
      "metadata": {
        "id": "F7fcaOCfvF06",
        "colab_type": "code",
        "outputId": "6b06abca-68eb-45b6-dd67-0070b78b05d6",
        "colab": {
          "base_uri": "https://localhost:8080/",
          "height": 1000
        }
      },
      "source": [
        "filename = qasar_t_dir+ \"contexts/short/dev_contexts.json\"\n",
        "print(filename)\n",
        "\n",
        "devSC = []\n",
        "file = open(filename, \"r\")\n",
        "for line in file:\n",
        "    dictionary = ast.literal_eval(line)\n",
        "    devSC.append(dictionary)\n",
        "\n",
        "file.close()\n",
        "devSC[:1]"
      ],
      "execution_count": 0,
      "outputs": [
        {
          "output_type": "stream",
          "text": [
            "/content/drive/My Drive/quasar/quasar-t/contexts/short/dev_contexts.json\n"
          ],
          "name": "stdout"
        },
        {
          "output_type": "execute_result",
          "data": {
            "text/plain": [
              "[{'contexts': [[19.01995, 'Another name for tetanus is lockjaw .'],\n",
              "   [11.252305,\n",
              "    \"C. tetani secretes a neurotoxin which causes the muscle spasms that give tetanus its other name , `` lockjaw '' .\"],\n",
              "   [10.166235,\n",
              "    'The first sign of tetanus is a tightening of the jaw muscles that gives the disease its common name , lockjaw .'],\n",
              "   [10.166235,\n",
              "    \"The most frequent symptom is a stiff jaw , caused by spasm of the muscle that closes the mouth -- accounting for the disease 's familiar name `` lockjaw . ''\"],\n",
              "   [10.043063,\n",
              "    \"When the child finally breathes in they will make a characteristic `` whoop '' sound which is where the disease gets its common name from .\"],\n",
              "   [9.638767,\n",
              "    'As the infection progresses , muscle spasms in the jaw develop , hence the name lockjaw .'],\n",
              "   [8.832915,\n",
              "    'Tetanus MM 299-302 ; ID 1175-1185 Previous Lecture Next Lecture Table of Contents TETANUS NAME OF DISEASE : Tetanus Lockjaw ETIOLOGICAL AGENT : Clostridium tetani THE DISEASE : The disease usually beg'],\n",
              "   [8.617565, 'The disease is sometimes called lockjaw .'],\n",
              "   [8.18071,\n",
              "    'The almost constant involvement of the jaw muscles accounts for the popular name of the disease .'],\n",
              "   [8.158339, 'Tetanus is a disease that is commonly called lockjaw .'],\n",
              "   [8.006178,\n",
              "    'You may have heard of this symptom which is known as lockjaw .'],\n",
              "   [7.8707523,\n",
              "    'Some of these HPV strains cause benign skin warts , or papillomas , which is where this virus family get its name .'],\n",
              "   [7.8707523,\n",
              "    'Full article >> > Pharyngeal diphtheria gets its name from the pharynx , which is the pa ... th the voice box .'],\n",
              "   [7.337743,\n",
              "    \"The bacteria release a neurotoxin called tetanospasmin which attacks the nervous system , causing fatigue and weakness , and then muscle spasms in the jaw -LRB- hence the disease 's alternative name -\"],\n",
              "   [6.8733625,\n",
              "    'The name comes from a common symptom of tetanus in which the jaw muscles become tight and rigid and a person is unable to open his or her mouth .'],\n",
              "   [6.8605013,\n",
              "    'The younger the age at which the disease is acquired corresponds to a higher likelihood that the disease will develop into chronic liver disease or liver cancer .'],\n",
              "   [6.6966357,\n",
              "    'Tetanus , commonly called lockjaw , is a bacterial disease that affects the nervous system .'],\n",
              "   [6.6966357,\n",
              "    'Anyone who has recovered from tetanus -LRB- lockjaw -RRB- disease .'],\n",
              "   [6.6966357,\n",
              "    'Tetanus -LRB- lockjaw -RRB- is a severe , often fatal disease .'],\n",
              "   [6.6966357,\n",
              "    'Facts about Tetanus Tetanus is a bacterial disease commonly called lockjaw .'],\n",
              "   [6.6966357,\n",
              "    \"` Lockjaw ' Symptoms Tetanus is an acute , often fatal disease that occurs worldwide .\"],\n",
              "   [6.6966357,\n",
              "    'Tetanus -LRB- Lockjaw -RRB- Tetanus is a severe , often fatal disease .'],\n",
              "   [6.6966357,\n",
              "    'Tetanus -LRB- lockjaw -RRB- Description A disease of the nervous system caused by bacteria .'],\n",
              "   [6.6399336,\n",
              "    'Clostridium tetani , which can cause severe illness and death , has been referred to as lockjaw .'],\n",
              "   [6.5481195,\n",
              "    \"Influenza , which most people refer to as `` the flu '' , is a disease transmitted by a virus .\"],\n",
              "   [6.4363985,\n",
              "    'In effect , preventing pertussis in adolescents and adults could provide another means of preventing the spread of the disease , particularly to infants and young children .'],\n",
              "   [6.4363985,\n",
              "    'Tetanus is a noncommunicable disease , meaning that it can not be passed directly from one person to another .'],\n",
              "   [6.263937,\n",
              "    '- Lockjaw : Tetanus - Lockjaw Home | Sitemap Bookmark This Page Rss | Atom Home Disease & Conditions Tetanus Diseases A-Z Encyclopedia Glossaries Directories Blog HolPlus Disease & Conditions Tetanus'],\n",
              "   [6.2612524,\n",
              "    'Make sure your name is in the document as well as in the title .'],\n",
              "   [5.7884603, 'FACT Tetanus is not transmitted from one person to another .'],\n",
              "   [5.7884603,\n",
              "    'Fact : Tetanus is not transmitted from one person to another .'],\n",
              "   [5.7884603,\n",
              "    'Another vaccine is available for use in younger children and infants .'],\n",
              "   [5.7884603, 'Tetanus is not spread from one person to another .'],\n",
              "   [5.6207714,\n",
              "    'Any child who suffered a brain or nervous system disease within 7 days after a dose of DTaP should not get another dose .'],\n",
              "   [5.6188817, 'Compare lockjaw .'],\n",
              "   [5.5538635,\n",
              "    \"`` Lockjaw , '' as the disease is sometimes called , is often the first symptom , followed by stiffness in the neck and difficulty swallowing .\"],\n",
              "   [5.496126,\n",
              "    'You should also get a tetanus booster about every 10 years -LRB- which means getting another tetanus shot around the time you enter your teens -RRB- .'],\n",
              "   [5.4306917,\n",
              "    'Tetanus is a serious and often fatal disease caused by the exotoxin tetanospasmin which is produced by the Gram-positive , anaerobic bacterium Clostridium tetani .'],\n",
              "   [5.4306917,\n",
              "    'This vaccine works by exposing you to a small dose of the bacteria or a protein from the bacteria , which causes the body to develop immunity to the disease .'],\n",
              "   [5.4306917,\n",
              "    '10 to 15 percent of infections will cause prolonged or relapsing disease which can last up to six months .'],\n",
              "   [5.4306917,\n",
              "    'As the disease progresses , a membrane can form over the airway and result in respiratory obstruction which can lead to death .'],\n",
              "   [5.4306917,\n",
              "    'Cephalic tetanus , a rare form of the disease , is associated with chronic ear infections , in which tetanus bacteria are present in the inner ear .'],\n",
              "   [5.2469335, 'Also called lockjaw .'],\n",
              "   [5.141474,\n",
              "    'It is also important if another family member has had seizures .'],\n",
              "   [5.141474,\n",
              "    'Another vaccine is available for use in children younger than 11 years old .'],\n",
              "   [5.066028,\n",
              "    'tetanal tet ` a\\\\u00ef \\\\u00bf 1/2 nal -LRB- tt ` n-Yl -RRB- adj. Sci-Tech Encyclopedia : Tetanus Home > Library > Science > Sci-Tech Encyclopedia An infectious disease , also known as lockjaw , which is caused b'],\n",
              "   [4.9673266, 'Lockjaw is caused by masseter muscle spasm .'],\n",
              "   [4.9673266, 'This is why tetanus is commonly referred to as lockjaw .'],\n",
              "   [4.9570785,\n",
              "    'Adult Personal Immunization Record Name : Birthdate : Disease Type of Vaccine Date Given Given By Tetanus , Diphtheria , -LRB- Pertussis -RRB- Influenza Pneumococcus Hepatitis A Hepatitis B Human Papi'],\n",
              "   [4.9570785,\n",
              "    'PHTHIRIASIS Lice infestation PHTHISIS Chronic wasting away or a name for tuberculosis PLAGUE An acute febrile highly infectious disease with a high fatality rate PLEURISY Any pain in the chest area wi'],\n",
              "   [4.9207025,\n",
              "    \"Legionnaires ' Disease - Legionnaires Disease Tetanus Patient Education - TETANUS -LRB- LOCKJAW -RRB- Tetanus is caused by the bacteria Clostridium Campylobacter - Learn about food poisoning and gastr\"],\n",
              "   [4.9207025,\n",
              "    'Infectious Disease Information Contents Infectious Diseases Information Index Useful Sites Infectious Disease Information Tetanus -LRB- Lockjaw , Clostridium tetani Infection -RRB- Tetanus -LRB- Lockj'],\n",
              "   [4.850072,\n",
              "    \"Tetanus KidsHealth > Parents > Infections > Bacterial & Viral Infections > Tetanus Tetanus , also known as lockjaw , is a serious but preventable disease that affects the body 's muscles and nerves .\"],\n",
              "   [4.8149805,\n",
              "    'Tetanus -LRB- Lockjaw -RRB- : Bureau of Immunization : NYC DOHMH Bureau of Immunization Tetanus -LRB- Lockjaw -RRB- What is tetanus ?'],\n",
              "   [4.7425084,\n",
              "    'Tetanus is an acute , sometimes fatal , disease of the central nervous system , caused by the toxin of the tetanus bacterium , which usually enters the body through an open wound .'],\n",
              "   [4.7425084,\n",
              "    '-LSB- 2 -RSB- Local tetanus is an uncommon form of the disease , in which patients have persistent contraction of muscles in the same anatomic area as the injury .'],\n",
              "   [4.7425084,\n",
              "    'An acute , often fatal disease characterized by spasmodic contraction of voluntary muscles , especially those of the neck and jaw , and caused by the toxin of the bacillus Clostridium tetani , which t'],\n",
              "   [4.7425084,\n",
              "    'This vaccine works by exposing your child to a small dose of the bacteria or a protein from the bacteria , which causes the body to develop immunity to the disease .'],\n",
              "   [4.7425084,\n",
              "    '`` If approved , Boostrix would add a pertussis component to the routine tetanus/diphtheria booster currently administered to adolescents -- a population in which there is a significant disease burden'],\n",
              "   [4.7425084,\n",
              "    'The most frequent form of tetanus is a generalized type in which large quantities of poison from a wound are released into the blood stream , producing a quick and severe onset of the disease .'],\n",
              "   [4.7425084,\n",
              "    'Could be appendicitis CHOREA Disease characterized by convulsions , contortions and dancing COLD PLAGUE Ague which is characterized by chills COLIC An abdominal pain and cramping COMMOTION Concussion'],\n",
              "   [4.702613,\n",
              "    'Any child who has had encephalitis -LRB- brain swelling -RRB- or a brain or nervous system disease within 7 days after a dose of DTaP should not receive another dose .'],\n",
              "   [4.702613,\n",
              "    'Gila monster Dysphagia the Stars of Project Paperclip A day when no child is murdered or dies of hunger or preventable disease whooping cough Tetanus on Drugs Just Another Night at the Frat House The'],\n",
              "   [4.702613,\n",
              "    'Before receiving tetanus toxoid , talk to your doctor if you : have HIV or AIDS or another disease that affects the immune system ; are taking a medication that affects the immune system -LRB- e.g. st'],\n",
              "   [4.6395965,\n",
              "    'This is a slide also from the CDC which shows a subject with opisthotonos , which is muscle spasm from tetanus .'],\n",
              "   [4.6123714,\n",
              "    \"This may involve IV fluid replacement , use of a < a href = '' / topic/respirator '' class = `` alnk '' target = '' _ top '' name =\"],\n",
              "   [4.5904274, 'Tetanus -LRB- Lockjaw -RRB- - What is tetanus ?'],\n",
              "   [4.2640877,\n",
              "    'Another infection could occur unless immunization is provided soon after the person condition has stabilized .'],\n",
              "   [4.2640877,\n",
              "    'Any child who had a life-threatening allergic reaction after a dose of DTaP should not get another dose .'],\n",
              "   [4.2640877,\n",
              "    'Some of these children should not get another dose of pertussis vaccine , but may get a vaccine without pertussis , called DT .'],\n",
              "   [4.2640877,\n",
              "    'Any child who had a life-threatening allergic reaction after a dose of DTaP should not receive another dose .'],\n",
              "   [4.2640877,\n",
              "    \"Another infection could occur unless immunization is provided soon after the person 's condition has stabilized .\"],\n",
              "   [4.2640877,\n",
              "    'Another thing that is usually shown is the ratio of the - triene to - tetraene fatty acids and the ratio is usually above 2 in this situation .'],\n",
              "   [4.2640877,\n",
              "    'Another group of HPVs -LRB- approximately 30 strains -RRB- are typically transmitted through sexual contact .'],\n",
              "   [4.2640877,\n",
              "    'Anyone who had a life-threatening allergic reaction after a dose of tetanus vaccine should not get another dose .'],\n",
              "   [4.2640877,\n",
              "    'Another way to prevent tetanus infections is to make sure that wounds and scratches are thoroughly cleaned .'],\n",
              "   [4.2051597,\n",
              "    'Under conditions which are not favorable for growth , it forms spores which can survive for long periods , then become vegetative cells when conditions are more favorable .'],\n",
              "   [4.2051597,\n",
              "    'Commonly the umbilical stump , which is devitalized tissue , may get infected with Clostridium tetani which is an anaerobe , and then it produces the toxin and causes - its a neurotoxin - and causes l'],\n",
              "   [4.2051597,\n",
              "    'There is a so-called dry beriberi which also can be seen as a manifestation of B1 deficiency , which mainly has neurological manifestations associated with it and is more likely to be a complaint that'],\n",
              "   [4.077347,\n",
              "    'Tetanus , commonly called lockjaw , is a bacterial infection that affects the nervous system .'],\n",
              "   [4.077347,\n",
              "    'When these spasms occur in the muscles involved in chewing , the condition is commonly known as lockjaw .'],\n",
              "   [4.077347,\n",
              "    'Tetanus , also known as lockjaw , can lead to muscle rigidity , convulsions * , and death .'],\n",
              "   [4.077347,\n",
              "    'This is lockjaw in a baby and this occurs in areas of the world where the mothers are not immune to tetanus .'],\n",
              "   [4.077347,\n",
              "    'Early symptoms are lockjaw , stiffness in the neck and abdomen , and difficulty swallowing .'],\n",
              "   [4.077347,\n",
              "    \"The first sign is often `` lockjaw '' , caused by a spasm of the masseter muscle .\"],\n",
              "   [4.0578084,\n",
              "    'Tetanus Other Free Encyclopedias : : Science Encyclopedia : : Science Encyclopedia Vol 6 Tetanus Tetanus , also known as lockjaw , is a disease caused by a type of bacteria that lives in the soil and'],\n",
              "   [4.0578084,\n",
              "    '-LSB- edit intro -RSB- Tetanus -LRB- or lockjaw -RRB- is a disease whose main symptom is acute muscle spasm ; it is caused by an anaerobic bacterium called Clostridium tetani , found in soil and anima'],\n",
              "   [4.0578084,\n",
              "    \"AllRefer Health - Tetanus -LRB- Lockjaw -RRB- Home | About | FAQs | Contact Us AllRefer Channels : : Yellow Pages | Reference | Health Quick Jump ADD/ADHD Allergies Alzheimer 's Disease Arthritis Asth\"],\n",
              "   [4.0578084,\n",
              "    'Tetanus KidsHealth > Teens > Infections > Bacterial & Viral Infections > Tetanus Tetanus -LRB- also called lockjaw or trismus -RRB- is a serious , often fatal disease that affects the muscles and nerv'],\n",
              "   [4.0578084,\n",
              "    \"Early warning signals of tetanus must always be kept in mind , especially ` lockjaw ' , so that even if tetanus occurs , early urgent preventive/therapeutic steps can be taken , so that the disease is\"],\n",
              "   [4.0578084,\n",
              "    \"-LRB- icterus -RRB- KING 'S EVIL Scrofula , a tubercular infection of the throat lymph glands ; also sometimes syphilis LA GRIPPE Flu ; influenza LOCKJAW Tetanus or infectious disease affecting the mu\"],\n",
              "   [4.0578084,\n",
              "    '-LRB- Lockjaw -RRB- THROMBOSIS Blood clot inside blood vessel THRUSH Childhood disease characterized by spots on mouth , lips and throat TICK FEVER Rocky mountain spotted fever TOXEMIA OF PREGNANCY Ec'],\n",
              "   [4.0578084,\n",
              "    \"AllRefer Health - Tetanus Treatment -LRB- Lockjaw -RRB- Home | About | FAQs | Contact Us AllRefer Channels : : Yellow Pages | Reference | Health Quick Jump ADD/ADHD Allergies Alzheimer 's Disease Arth\"],\n",
              "   [4.027887,\n",
              "    \"Its common name , whooping cough , comes from the `` whoop '' sound patients make when they try to inhale during or after a severe coughing spell .\"],\n",
              "   [3.967815,\n",
              "    'Cephalic tetanus is a rare form of the disease , occasionally occurring with otitis media -LRB- ear infections -RRB- in which C. tetani is present in the flora of the middle ear , or following injurie'],\n",
              "   [3.967815,\n",
              "    'Tetanus is a disease caused by infection with Clostridium tetani -LRB- klos-TRIH-dee-um teh-TAH-nye -RRB- bacteria , which are found all over the world in soil , dust , and some animal feces -LRB- FEE'],\n",
              "   [3.967815,\n",
              "    'The most common cause of tetanus in developed countries is via an open wound , which becomes infected by spores of the bacteria , often by ordinary soil -LRB- the disease is common , therefore , among'],\n",
              "   [3.967815,\n",
              "    'This bacterium resides normally in human and animal intestines without causing disease , but contact with heavily manured soil or other material containing the spores , which are extremely resistant t'],\n",
              "   [3.967815,\n",
              "    'Tetanus antitoxin , which contains antibodies derived from the blood of persons who have been immunized against the disease , is given to help neutralize the toxin in the bloodstream , but it has litt'],\n",
              "   [3.967815,\n",
              "    'Infants and children who become infected with hepatitis B virus are at highest risk of developing lifelong infection , which often leads to death from liver disease -LRB- cirrhosis -RRB- and liver can']],\n",
              "  'uid': 's3q1674'}]"
            ]
          },
          "metadata": {
            "tags": []
          },
          "execution_count": 37
        }
      ]
    },
    {
      "cell_type": "code",
      "metadata": {
        "id": "FREeoefNvGtY",
        "colab_type": "code",
        "outputId": "32957f97-07d1-451e-ef5a-8f988a87c4ef",
        "colab": {
          "base_uri": "https://localhost:8080/",
          "height": 35
        }
      },
      "source": [
        "print(len(devSC))"
      ],
      "execution_count": 0,
      "outputs": [
        {
          "output_type": "stream",
          "text": [
            "3000\n"
          ],
          "name": "stdout"
        }
      ]
    },
    {
      "cell_type": "code",
      "metadata": {
        "id": "VHx6wSmF3uUL",
        "colab_type": "code",
        "outputId": "deee525c-35d1-4b04-fb7f-f481ac3fa134",
        "colab": {
          "base_uri": "https://localhost:8080/",
          "height": 1000
        }
      },
      "source": [
        "#the context data ontains all the sentences/paras along with their ranks.\n",
        "#for longpseudocuments the author used full page text turncated to 2048 char max\n",
        "#top N text documents, generally N is 20 max\n",
        "#we will ignore the ranks and append\n",
        "testSClist = []\n",
        "for testSCdict in testSC[:1]:\n",
        "  sublist = testSCdict[\"contexts\"]\n",
        "  for i, item in enumerate(sublist):\n",
        "    print (len(sublist), item[1])\n",
        "  #trainLClist.append(len (trainQdict['question']))"
      ],
      "execution_count": 0,
      "outputs": [
        {
          "output_type": "stream",
          "text": [
            "100 The queen is the most powerful piece in the board .\n",
            "100 She is the most powerful piece on the board .\n",
            "100 The king is the most important , but not the most powerful piece in chess .\n",
            "100 They are the least powerful piece on the chess board , but have the potential to become equal to the most powerful .\n",
            "100 The code starts with a letter representing the most powerful piece on the board , not counting kings .\n",
            "100 By the end of the 15th century , the queen became the most powerful piece on the board .\n",
            "100 Suddenly , about 1485 , in Italy , the queen began to be the most powerful piece on the board .\n",
            "100 Since then the queen has been the most powerful piece on the board .\n",
            "100 Generally they are promoted to a queen since this is the most powerful piece on the board .\n",
            "100 The Queen The queen is the most powerful piece .\n",
            "100 Queen : The Queen is the most powerful piece .\n",
            "100 It is the most powerful piece next to the Queen .\n",
            "100 The game of chess mirrors ancient times in that the queen is the most powerful chess piece .\n",
            "100 + 50 $ , They are the least powerful piece on the chess board .\n",
            "100 It is the most powerful piece on the board , capable of capturing and positioning from most any vantage point .\n",
            "100 The King : Though not the most powerful piece on the board , the king is the most vital , for once he is lost the game is lost .\n",
            "100 The most powerful and dangerous chess piece is not the King , as might be expected , but the Queen .\n",
            "100 The usual choice is a queen , the most powerful piece .\n",
            "100 The Queen : The queen is the most powerful piece on the chessboard .\n",
            "100 Queen is the most common choice because it is the most powerful piece .\n",
            "100 It 's the most important piece on a chess board .\n",
            "100 The most powerful piece in the game of chess is the Queen , and it is the only piece that represents a female figure .\n",
            "100 Rook 's Movement Queen : The queen is the most powerful piece on the board and is the equivalent of about nine pawns .\n",
            "100 Queen 's Movement King : A king is only slightly more powerful than a pawn but is nevertheless the most important piece on the board .\n",
            "100 Normally , a player chooses to replace the Pawn with the most powerful piece , the Queen .\n",
            "100 The Queen 's Movement The queen is , without doubt , the most powerful piece on the chessboard .\n",
            "100 The queen represents the only woman and is the most powerful piece in the game .\n",
            "100 Chess Board Setup Description of Pieces Pawn : The pawn is considered the weakest piece on the board .\n",
            "100 If that were true , chess would not be considered the most complicated game .\n",
            "100 Queen in the standard Staunton pattern The queen -LRB- , -RRB- is the most powerful piece in the game of chess .\n",
            "100 Queen in the standard Staunton pattern The queen -LRB- U , -LSB- -RRB- is the most powerful piece in the game of chess .\n",
            "100 He should thereupon not hesitate to exchange what might otherwise be considered a more powerful piece for her .\n",
            "100 The king , which is the most important piece on the board , moves one square , either straight or diagonally .\n",
            "100 Also the king , the most important piece on the board , is located in a position which becomes increasingly vulnerable as the game develops .\n",
            "100 It is not considered a sound move by most players today .\n",
            "100 The usual choice is a queen , the most powerful piece , and it is perfectly legal for a player to promote to a queen even though he or she already has one elsewhere on the board .\n",
            "100 King 's Movement Special Moves Castling : While the rook is the second most powerful piece on the board , it starts the game in a poor position to use its power .\n",
            "100 As with most pieces , the queen captures by occupying the square on which an enemy piece sits .\n",
            "100 The game of chess is considered to be one of the most popular board games in the world played by millions of people worldwide in various clubs , on the internet , by means of correspondence , and tour\n",
            "100 King Even though the king is n't the most powerful of all chess pieces he is the most important .\n",
            "100 Therefore , it , too , is considered a minor piece .\n",
            "100 MOVEMENTS DESCRIPTION King 's Movement Though not the most powerful piece on the board , the king is the most vital , for once he is lost the game is lost -LRB- more about this in the end game section\n",
            "100 This may be the most important decision of the game , but I 'm going to replace the most powerful piece on the board - with another rook , a talkative straight shooter who wo n't try any sneaky moves\n",
            "100 The candles descended in height from king to pawn except the rooks , which despite being the second most powerful chess piece , were actually shorter than the bishops and knights .\n",
            "100 Three of the most powerful generic tactics are listed below .\n",
            "100 It is considered to be very powerful as it gets about 2000 points according to the US Chess Federation Standard .\n",
            "100 -LRB- see chess piece relative value -RRB- The queen is at her most powerful when the board is open , when the enemy king is not well-defended , or when there are loose -LRB- i.e. undefended -RRB- pie\n",
            "100 + 150 & , 9 \\u2660 , MOVEMENTS DESCRIPTION King 's Movement Though not the most powerful on the board , During a given betting round .\n",
            "100 Under normal circumstances a player will want to promote his pawn to be a queen since that piece is the most powerful and flexible .\n",
            "100 Although not the most powerful piece , if you lost it , signifies the loss of the game to your opponent .\n",
            "100 Under normal circumstances a player will to promote his pawn to be a queen since that piece is the most powerful and flexible .\n",
            "100 the most powerful piece on the chessboard , The rook can move any number of squares in a straight line along any column or row .\n",
            "100 For instance , moving a piece would not be considered a tactic .\n",
            "100 The knight is considered a slower moving piece since it can not zoom across the board like the long range pieces .\n",
            "100 Horizontal Cylinder Chess In horizontal cylinder chess the top and bottom edges of the board are considered to be joined .\n",
            "100 The original and most popular arrangement of the lines , which makes a playable game , is the standard grid which divides the board into 16 areas , each 2 by 2 .\n",
            "100 Today , chess is one of the most popular board games in the world .\n",
            "100 It clearly illustrates that the bishop is more powerful in the center of the board .\n",
            "100 Yet , the Griffin , a very powerful piece indeed , is allowed as an added piece .\n",
            "100 This gives it a degree of flexibility that makes it a powerful piece .\n",
            "100 A rook is a very powerful piece to deliver a checkmate .\n",
            "100 It is the most powerful piece , being able to move in any direction -LRB- on a line of adjacent squares -RRB- and any distance so long as no obstructions intervene .\n",
            "100 The greater tendency towards drawn endgames often results in the defender playing on in a position which would be considered cause for resignation on a square board .\n",
            "100 Yod Knight The most offensive piece .\n",
            "100 Middlegame is also the phase in which most combinations occur .\n",
            "100 However , as an active piece in the endgame it is usually considered to have a value of 3 .\n",
            "100 When a chess piece is captured , it is removed from the board and replaced by the attacking piece .\n",
            "100 Two rooks are generally considered to be worth slightly more than a queen -LRB- see Chess piece relative value -RRB- .\n",
            "100 Grasshopper chess : is a chess variant in which the pawns can promote to grasshopper , or in which grasshoppers are on the board in the opening position .\n",
            "100 The Staunton chess sets are considered the standard for play .\n",
            "100 Although the pawns are the least powerful piece in the game , they have the potential to become very powerful at the end game .\n",
            "100 One of the most popular of these is Bughouse , a partner-based game in which a player who captures his opponent 's piece can give it to a partner on another board to drop on a square of his choosing .\n",
            "100 Pins : A piece is considered `` pinned '' when it can not move , because , by moving , it would expose a more valuable piece to capture .\n",
            "100 Chess on the Web - Powerful correspondence server .\n",
            "100 Archon : success of piece capture depends on the strength of the attacking piece -LRB- with better chances for more powerful piece -RRB- .\n",
            "100 The King The king is the most important piece , but is one of the weakest .\n",
            "100 Modern international chess has a powerful , sweeping queen who was not a piece provided in the original game .\n",
            "100 Free Internet Chess Server - With over 300,000 users and a powerful Java interface , it no wonder FICS is one of the most popular sites in the world .\n",
            "100 She is able , therefore , to reach every square on the board , and is very powerful .\n",
            "100 The rook : The rook , also called a castle , is one of the more powerful pieces on the board .\n",
            "100 It also places the rook in a more powerful position near the center of the board .\n",
            "100 , which is widely considered a chess opening suitable only for beginners , has occasionally been played by the strong American grandmaster Hikaru Nakamura .\n",
            "100 Discovered attacks are powerful as the moving piece may be able to pose a second threat .\n",
            "100 A single pawn approaching will force a more powerful piece , such as a rook or a knight , to retreat .\n",
            "100 For the chess configuration space search algorithm , a tree node object is needed which has a configuration -LRB- chess board -RRB- and a chess board evaluation function .\n",
            "100 Jones developed the thesis that chess is a game of father-murder , which became the pattern for most psychoanalytic studies on the subject .\n",
            "100 Madrasi chess : a piece which is attacked by the same type of piece of the opposite colour is paralysed .\n",
            "100 This is the only move in chess in which the taking piece does not occupy the square left open by the captured piece .\n",
            "100 When a player advances a piece to the 7th , 8th or 9th row of the board it may be possible to promote it by turning it over , depending on which piece it was that the player moved .\n",
            "100 The rooks , -LRB- Which look like castles in most sets . -RRB-\n",
            "100 The king did not know which to admire most , the invention ofard or the ingenuity of the request .\n",
            "100 The queen is so powerful that she is considered to be worth more than any combination of two other pieces , perhaps with the exception of two rooks .\n",
            "100 Rooks are most powerful towards the end of a game , where they can move unobstructed by pawns and control large numbers of squares .\n",
            "100 -LSB- edit -RSB- Queen Main article : Queen Queens are the most powerful pieces .\n",
            "100 The knight 's ability to ` jump over ' other pieces means it is at its most powerful in closed positions .\n",
            "100 Balaklava Chess All non-royal units can make non-capturing knight moves Balbo Chess Odd-shaped board , bishops as powerful as knights .\n",
            "100 This very simple knowledge is necessary to truly grasp the power of each chess piece and in the course of a match , make the most of that individual piece 's power .\n",
            "100 Chess computers are considered superhuman at tactics , but rather poor at strategy .\n",
            "100 Chess computers are considered superhuman at tactics , but rather spotty at strategy .\n",
            "100 Links Chess Blog See more about chess in : http://en.wikipedia.org/wiki/Chess Board setup Most beginners quickly remember the setup of the pieces .\n"
          ],
          "name": "stdout"
        }
      ]
    },
    {
      "cell_type": "code",
      "metadata": {
        "id": "DX2UWuoYgjYN",
        "colab_type": "code",
        "colab": {}
      },
      "source": [
        "#lets try some nltk libraries to check some bert based apis\n",
        "import nltk"
      ],
      "execution_count": 0,
      "outputs": []
    },
    {
      "cell_type": "code",
      "metadata": {
        "id": "f_wNZJG_g7DT",
        "colab_type": "code",
        "colab": {}
      },
      "source": [
        "from nltk.corpus import gutenberg\n",
        "from nltk.tokenize.treebank import TreebankWordDetokenizer, TreebankWordTokenizer \n",
        "from sklearn.feature_extraction.text import TfidfVectorizer, CountVectorizer\n",
        "from sklearn.metrics.pairwise import cosine_similarity"
      ],
      "execution_count": 0,
      "outputs": []
    },
    {
      "cell_type": "code",
      "metadata": {
        "id": "Q-ij3L-th3Q_",
        "colab_type": "code",
        "outputId": "08dcdcb4-1752-4d20-d1f4-b94bba464977",
        "colab": {
          "base_uri": "https://localhost:8080/",
          "height": 1000
        }
      },
      "source": [
        "!pip install deeppavlov\n",
        "!pip install transformers"
      ],
      "execution_count": 0,
      "outputs": [
        {
          "output_type": "stream",
          "text": [
            "Collecting deeppavlov\n",
            "\u001b[?25l  Downloading https://files.pythonhosted.org/packages/49/ff/8e6ad196e1bc732f6967452b2a245345aa72c1b8007d6ddf95c7f60a04e4/deeppavlov-0.8.0-py3-none-any.whl (750kB)\n",
            "\u001b[K     |████████████████████████████████| 757kB 3.4MB/s \n",
            "\u001b[?25hCollecting tqdm==4.41.1\n",
            "\u001b[?25l  Downloading https://files.pythonhosted.org/packages/72/c9/7fc20feac72e79032a7c8138fd0d395dc6d8812b5b9edf53c3afd0b31017/tqdm-4.41.1-py2.py3-none-any.whl (56kB)\n",
            "\u001b[K     |████████████████████████████████| 61kB 8.5MB/s \n",
            "\u001b[?25hCollecting scikit-learn==0.21.2\n",
            "\u001b[?25l  Downloading https://files.pythonhosted.org/packages/85/04/49633f490f726da6e454fddc8e938bbb5bfed2001681118d3814c219b723/scikit_learn-0.21.2-cp36-cp36m-manylinux1_x86_64.whl (6.7MB)\n",
            "\u001b[K     |████████████████████████████████| 6.7MB 58.6MB/s \n",
            "\u001b[?25hCollecting fuzzywuzzy==0.17.0\n",
            "  Downloading https://files.pythonhosted.org/packages/d8/f1/5a267addb30ab7eaa1beab2b9323073815da4551076554ecc890a3595ec9/fuzzywuzzy-0.17.0-py2.py3-none-any.whl\n",
            "Collecting pymorphy2-dicts-ru\n",
            "\u001b[?25l  Downloading https://files.pythonhosted.org/packages/7c/9b/358faaff410f65a4ad159275e897b5956dcb20576c5b8e764b971c1634d7/pymorphy2_dicts_ru-2.4.404381.4453942-py2.py3-none-any.whl (8.0MB)\n",
            "\u001b[K     |████████████████████████████████| 8.0MB 31.6MB/s \n",
            "\u001b[?25hCollecting Cython==0.29.14\n",
            "\u001b[?25l  Downloading https://files.pythonhosted.org/packages/df/d1/4d3f8a7a920e805488a966cc6ab55c978a712240f584445d703c08b9f405/Cython-0.29.14-cp36-cp36m-manylinux1_x86_64.whl (2.1MB)\n",
            "\u001b[K     |████████████████████████████████| 2.1MB 62.2MB/s \n",
            "\u001b[?25hCollecting overrides==2.7.0\n",
            "  Downloading https://files.pythonhosted.org/packages/ac/98/2430afd204c48ac0a529d439d7e22df8fa603c668d03456b5947cb59ec36/overrides-2.7.0.tar.gz\n",
            "Collecting pandas==0.25.3\n",
            "\u001b[?25l  Downloading https://files.pythonhosted.org/packages/52/3f/f6a428599e0d4497e1595030965b5ba455fd8ade6e977e3c819973c4b41d/pandas-0.25.3-cp36-cp36m-manylinux1_x86_64.whl (10.4MB)\n",
            "\u001b[K     |████████████████████████████████| 10.4MB 52.8MB/s \n",
            "\u001b[?25hCollecting uvicorn==0.11.1\n",
            "\u001b[?25l  Downloading https://files.pythonhosted.org/packages/8e/24/11f4b4bf3963ead6de570feeae49eeced02f6768cf1f68e16f4b16d3b0aa/uvicorn-0.11.1-py3-none-any.whl (42kB)\n",
            "\u001b[K     |████████████████████████████████| 51kB 7.5MB/s \n",
            "\u001b[?25hCollecting pyopenssl==19.1.0\n",
            "\u001b[?25l  Downloading https://files.pythonhosted.org/packages/9e/de/f8342b68fa9e981d348039954657bdf681b2ab93de27443be51865ffa310/pyOpenSSL-19.1.0-py2.py3-none-any.whl (53kB)\n",
            "\u001b[K     |████████████████████████████████| 61kB 8.9MB/s \n",
            "\u001b[?25hCollecting pydantic==1.3\n",
            "\u001b[?25l  Downloading https://files.pythonhosted.org/packages/99/24/e78cf017628e7eaed20cb040999b1ecc69f872da53dfd0d9aed40c0fa5f1/pydantic-1.3-cp36-cp36m-manylinux2010_x86_64.whl (7.3MB)\n",
            "\u001b[K     |████████████████████████████████| 7.3MB 51.7MB/s \n",
            "\u001b[?25hCollecting aio-pika==6.4.1\n",
            "\u001b[?25l  Downloading https://files.pythonhosted.org/packages/c8/07/196a4115cbef31fa0c3dabdea146f02dffe5e49998341d20dbe2278953bc/aio_pika-6.4.1-py3-none-any.whl (40kB)\n",
            "\u001b[K     |████████████████████████████████| 51kB 5.3MB/s \n",
            "\u001b[?25hCollecting rusenttokenize==0.0.5\n",
            "  Downloading https://files.pythonhosted.org/packages/25/4c/a2f00be5def774a3df2e5387145f1cb54e324607ec4a7e23f573645946e7/rusenttokenize-0.0.5-py3-none-any.whl\n",
            "Requirement already satisfied: h5py==2.10.0 in /usr/local/lib/python3.6/dist-packages (from deeppavlov) (2.10.0)\n",
            "Collecting requests==2.22.0\n",
            "\u001b[?25l  Downloading https://files.pythonhosted.org/packages/51/bd/23c926cd341ea6b7dd0b2a00aba99ae0f828be89d72b2190f27c11d4b7fb/requests-2.22.0-py2.py3-none-any.whl (57kB)\n",
            "\u001b[K     |████████████████████████████████| 61kB 8.4MB/s \n",
            "\u001b[?25hCollecting pymorphy2==0.8\n",
            "\u001b[?25l  Downloading https://files.pythonhosted.org/packages/a3/33/fff9675c68b5f6c63ec8c6e6ff57827dda28a1fa5b2c2d727dffff92dd47/pymorphy2-0.8-py2.py3-none-any.whl (46kB)\n",
            "\u001b[K     |████████████████████████████████| 51kB 8.0MB/s \n",
            "\u001b[?25hRequirement already satisfied: scipy==1.4.1 in /usr/local/lib/python3.6/dist-packages (from deeppavlov) (1.4.1)\n",
            "Collecting nltk==3.4.5\n",
            "\u001b[?25l  Downloading https://files.pythonhosted.org/packages/f6/1d/d925cfb4f324ede997f6d47bea4d9babba51b49e87a767c170b77005889d/nltk-3.4.5.zip (1.5MB)\n",
            "\u001b[K     |████████████████████████████████| 1.5MB 61.4MB/s \n",
            "\u001b[?25hCollecting fastapi==0.47.1\n",
            "\u001b[?25l  Downloading https://files.pythonhosted.org/packages/a3/a7/4804d7abf8a1544d079d50650af872387154ebdac5bd07d54b2e60e2b334/fastapi-0.47.1-py3-none-any.whl (43kB)\n",
            "\u001b[K     |████████████████████████████████| 51kB 7.3MB/s \n",
            "\u001b[?25hCollecting pytelegrambotapi==3.6.7\n",
            "\u001b[?25l  Downloading https://files.pythonhosted.org/packages/62/ab/99c606f69fcda57e35788b913dd34c9d9acb48dd26349141b3855dcf6351/pyTelegramBotAPI-3.6.7.tar.gz (65kB)\n",
            "\u001b[K     |████████████████████████████████| 71kB 10.3MB/s \n",
            "\u001b[?25hCollecting numpy==1.18.0\n",
            "\u001b[?25l  Downloading https://files.pythonhosted.org/packages/92/e6/45f71bd24f4e37629e9db5fb75caab919507deae6a5a257f9e4685a5f931/numpy-1.18.0-cp36-cp36m-manylinux1_x86_64.whl (20.1MB)\n",
            "\u001b[K     |████████████████████████████████| 20.1MB 257kB/s \n",
            "\u001b[?25hRequirement already satisfied: joblib>=0.11 in /usr/local/lib/python3.6/dist-packages (from scikit-learn==0.21.2->deeppavlov) (0.14.1)\n",
            "Requirement already satisfied: python-dateutil>=2.6.1 in /usr/local/lib/python3.6/dist-packages (from pandas==0.25.3->deeppavlov) (2.8.1)\n",
            "Requirement already satisfied: pytz>=2017.2 in /usr/local/lib/python3.6/dist-packages (from pandas==0.25.3->deeppavlov) (2018.9)\n",
            "Collecting uvloop>=0.14.0; sys_platform != \"win32\" and sys_platform != \"cygwin\" and platform_python_implementation != \"pypy\"\n",
            "\u001b[?25l  Downloading https://files.pythonhosted.org/packages/41/48/586225bbb02d3bdca475b17e4be5ce5b3f09da2d6979f359916c1592a687/uvloop-0.14.0-cp36-cp36m-manylinux2010_x86_64.whl (3.9MB)\n",
            "\u001b[K     |████████████████████████████████| 3.9MB 65.2MB/s \n",
            "\u001b[?25hCollecting h11<0.10,>=0.8\n",
            "\u001b[?25l  Downloading https://files.pythonhosted.org/packages/5a/fd/3dad730b0f95e78aeeb742f96fa7bbecbdd56a58e405d3da440d5bfb90c6/h11-0.9.0-py2.py3-none-any.whl (53kB)\n",
            "\u001b[K     |████████████████████████████████| 61kB 10.0MB/s \n",
            "\u001b[?25hCollecting httptools==0.0.13; sys_platform != \"win32\" and sys_platform != \"cygwin\" and platform_python_implementation != \"pypy\"\n",
            "\u001b[?25l  Downloading https://files.pythonhosted.org/packages/1b/03/215969db11abe8741e9c266a4cbe803a372bd86dd35fa0084c4df6d4bd00/httptools-0.0.13.tar.gz (104kB)\n",
            "\u001b[K     |████████████████████████████████| 112kB 68.8MB/s \n",
            "\u001b[?25hCollecting websockets==8.*\n",
            "\u001b[?25l  Downloading https://files.pythonhosted.org/packages/bb/d9/856af84843912e2853b1b6e898ac8b802989fcf9ecf8e8445a1da263bf3b/websockets-8.1-cp36-cp36m-manylinux2010_x86_64.whl (78kB)\n",
            "\u001b[K     |████████████████████████████████| 81kB 11.6MB/s \n",
            "\u001b[?25hRequirement already satisfied: click==7.* in /usr/local/lib/python3.6/dist-packages (from uvicorn==0.11.1->deeppavlov) (7.1.1)\n",
            "Collecting cryptography>=2.8\n",
            "\u001b[?25l  Downloading https://files.pythonhosted.org/packages/8f/2d/29d2638b8df016526182594166c220913dafba3da0019b0776ff1bbc8ede/cryptography-2.9-cp35-abi3-manylinux2010_x86_64.whl (2.7MB)\n",
            "\u001b[K     |████████████████████████████████| 2.7MB 56.9MB/s \n",
            "\u001b[?25hRequirement already satisfied: six>=1.5.2 in /usr/local/lib/python3.6/dist-packages (from pyopenssl==19.1.0->deeppavlov) (1.12.0)\n",
            "Requirement already satisfied: dataclasses>=0.6; python_version < \"3.7\" in /usr/local/lib/python3.6/dist-packages (from pydantic==1.3->deeppavlov) (0.7)\n",
            "Collecting aiormq<4,>=3.2.0\n",
            "  Downloading https://files.pythonhosted.org/packages/bc/f8/77a1694064c677afaaae111e28e2b32dd70c5f9dce3836bad0df20f27201/aiormq-3.2.1-py3-none-any.whl\n",
            "Collecting yarl\n",
            "\u001b[?25l  Downloading https://files.pythonhosted.org/packages/95/8f/0209fc5d975f839344c33c822ff2f7ef80f6b1e984673a5a68f960bfa583/yarl-1.4.2-cp36-cp36m-manylinux1_x86_64.whl (252kB)\n",
            "\u001b[K     |████████████████████████████████| 256kB 67.7MB/s \n",
            "\u001b[?25hRequirement already satisfied: urllib3!=1.25.0,!=1.25.1,<1.26,>=1.21.1 in /usr/local/lib/python3.6/dist-packages (from requests==2.22.0->deeppavlov) (1.24.3)\n",
            "Requirement already satisfied: chardet<3.1.0,>=3.0.2 in /usr/local/lib/python3.6/dist-packages (from requests==2.22.0->deeppavlov) (3.0.4)\n",
            "Requirement already satisfied: certifi>=2017.4.17 in /usr/local/lib/python3.6/dist-packages (from requests==2.22.0->deeppavlov) (2020.4.5.1)\n",
            "Requirement already satisfied: idna<2.9,>=2.5 in /usr/local/lib/python3.6/dist-packages (from requests==2.22.0->deeppavlov) (2.8)\n",
            "Requirement already satisfied: docopt>=0.6 in /usr/local/lib/python3.6/dist-packages (from pymorphy2==0.8->deeppavlov) (0.6.2)\n",
            "Collecting pymorphy2-dicts<3.0,>=2.4\n",
            "\u001b[?25l  Downloading https://files.pythonhosted.org/packages/02/51/2465fd4f72328ab50877b54777764d928da8cb15b74e2680fc1bd8cb3173/pymorphy2_dicts-2.4.393442.3710985-py2.py3-none-any.whl (7.1MB)\n",
            "\u001b[K     |████████████████████████████████| 7.1MB 48.1MB/s \n",
            "\u001b[?25hCollecting dawg-python>=0.7\n",
            "  Downloading https://files.pythonhosted.org/packages/6a/84/ff1ce2071d4c650ec85745766c0047ccc3b5036f1d03559fd46bb38b5eeb/DAWG_Python-0.7.2-py2.py3-none-any.whl\n",
            "Collecting starlette<=0.12.9,>=0.12.9\n",
            "\u001b[?25l  Downloading https://files.pythonhosted.org/packages/67/95/2220fe5bf287e693a6430d8ee36c681b0157035b7249ec08f8fb36319d16/starlette-0.12.9.tar.gz (46kB)\n",
            "\u001b[K     |████████████████████████████████| 51kB 7.6MB/s \n",
            "\u001b[?25hRequirement already satisfied: cffi!=1.11.3,>=1.8 in /usr/local/lib/python3.6/dist-packages (from cryptography>=2.8->pyopenssl==19.1.0->deeppavlov) (1.14.0)\n",
            "Collecting pamqp==2.3.0\n",
            "  Downloading https://files.pythonhosted.org/packages/eb/56/afa06143361e640c9159d828dadc95fc9195c52c95b4a97d136617b0166d/pamqp-2.3.0-py2.py3-none-any.whl\n",
            "Collecting multidict>=4.0\n",
            "\u001b[?25l  Downloading https://files.pythonhosted.org/packages/30/2e/3ab2f1fb72571f75013db323a3799d505d99f3bc203513604f1ffb9b7858/multidict-4.7.5-cp36-cp36m-manylinux1_x86_64.whl (148kB)\n",
            "\u001b[K     |████████████████████████████████| 153kB 66.6MB/s \n",
            "\u001b[?25hRequirement already satisfied: pycparser in /usr/local/lib/python3.6/dist-packages (from cffi!=1.11.3,>=1.8->cryptography>=2.8->pyopenssl==19.1.0->deeppavlov) (2.20)\n",
            "Building wheels for collected packages: overrides, nltk, pytelegrambotapi, httptools, starlette\n",
            "  Building wheel for overrides (setup.py) ... \u001b[?25l\u001b[?25hdone\n",
            "  Created wheel for overrides: filename=overrides-2.7.0-cp36-none-any.whl size=5600 sha256=8c316d7befa938067a739642d15c8dfc1bf37775d5a9dbb7517ebb8cacab9882\n",
            "  Stored in directory: /root/.cache/pip/wheels/8c/7c/ef/80508418b67d87371c5b3de49e03eb22ee7c1d19affb5099f8\n",
            "  Building wheel for nltk (setup.py) ... \u001b[?25l\u001b[?25hdone\n",
            "  Created wheel for nltk: filename=nltk-3.4.5-cp36-none-any.whl size=1449902 sha256=f0b07acffd17dd3dd497bf847cce0b61ed1568f8794d98abb3f6a2817d091f13\n",
            "  Stored in directory: /root/.cache/pip/wheels/96/86/f6/68ab24c23f207c0077381a5e3904b2815136b879538a24b483\n",
            "  Building wheel for pytelegrambotapi (setup.py) ... \u001b[?25l\u001b[?25hdone\n",
            "  Created wheel for pytelegrambotapi: filename=pyTelegramBotAPI-3.6.7-cp36-none-any.whl size=47178 sha256=ca41416d11cca01d76c1dca0379dcedc25e72e523bfa3581cba609102f36d170\n",
            "  Stored in directory: /root/.cache/pip/wheels/23/40/18/8a34153f95ef0dc19e3954898e5a5079244b76a8afdd7d0ec5\n",
            "  Building wheel for httptools (setup.py) ... \u001b[?25l\u001b[?25hdone\n",
            "  Created wheel for httptools: filename=httptools-0.0.13-cp36-cp36m-linux_x86_64.whl size=212518 sha256=741e1a28da76942bf45db19d137e94cd70257a493dbbd2d5b081127fca576162\n",
            "  Stored in directory: /root/.cache/pip/wheels/e8/3e/2e/013f99b42efc25cf3589730cf380738e46b1e5edaf2f78d525\n",
            "  Building wheel for starlette (setup.py) ... \u001b[?25l\u001b[?25hdone\n",
            "  Created wheel for starlette: filename=starlette-0.12.9-cp36-none-any.whl size=57245 sha256=0e40e3ec934667918bfaab72cc5534a8adbf19e33455b05392b02c961c8e4441\n",
            "  Stored in directory: /root/.cache/pip/wheels/1c/51/5b/3828d52e185cafad941c4291b6f70894d0794be28c70addae5\n",
            "Successfully built overrides nltk pytelegrambotapi httptools starlette\n",
            "\u001b[31mERROR: google-colab 1.0.0 has requirement pandas~=1.0.0; python_version >= \"3.0\", but you'll have pandas 0.25.3 which is incompatible.\u001b[0m\n",
            "\u001b[31mERROR: google-colab 1.0.0 has requirement requests~=2.21.0, but you'll have requests 2.22.0 which is incompatible.\u001b[0m\n",
            "\u001b[31mERROR: datascience 0.10.6 has requirement folium==0.2.1, but you'll have folium 0.8.3 which is incompatible.\u001b[0m\n",
            "\u001b[31mERROR: albumentations 0.1.12 has requirement imgaug<0.2.7,>=0.2.5, but you'll have imgaug 0.2.9 which is incompatible.\u001b[0m\n",
            "Installing collected packages: tqdm, numpy, scikit-learn, fuzzywuzzy, pymorphy2-dicts-ru, Cython, overrides, pandas, uvloop, h11, httptools, websockets, uvicorn, cryptography, pyopenssl, pydantic, pamqp, multidict, yarl, aiormq, aio-pika, rusenttokenize, requests, pymorphy2-dicts, dawg-python, pymorphy2, nltk, starlette, fastapi, pytelegrambotapi, deeppavlov\n",
            "  Found existing installation: tqdm 4.38.0\n",
            "    Uninstalling tqdm-4.38.0:\n",
            "      Successfully uninstalled tqdm-4.38.0\n",
            "  Found existing installation: numpy 1.18.2\n",
            "    Uninstalling numpy-1.18.2:\n",
            "      Successfully uninstalled numpy-1.18.2\n",
            "  Found existing installation: scikit-learn 0.22.2.post1\n",
            "    Uninstalling scikit-learn-0.22.2.post1:\n",
            "      Successfully uninstalled scikit-learn-0.22.2.post1\n",
            "  Found existing installation: Cython 0.29.16\n",
            "    Uninstalling Cython-0.29.16:\n",
            "      Successfully uninstalled Cython-0.29.16\n",
            "  Found existing installation: pandas 1.0.3\n",
            "    Uninstalling pandas-1.0.3:\n",
            "      Successfully uninstalled pandas-1.0.3\n",
            "  Found existing installation: requests 2.21.0\n",
            "    Uninstalling requests-2.21.0:\n",
            "      Successfully uninstalled requests-2.21.0\n",
            "  Found existing installation: nltk 3.2.5\n",
            "    Uninstalling nltk-3.2.5:\n",
            "      Successfully uninstalled nltk-3.2.5\n",
            "Successfully installed Cython-0.29.14 aio-pika-6.4.1 aiormq-3.2.1 cryptography-2.9 dawg-python-0.7.2 deeppavlov-0.8.0 fastapi-0.47.1 fuzzywuzzy-0.17.0 h11-0.9.0 httptools-0.0.13 multidict-4.7.5 nltk-3.4.5 numpy-1.18.0 overrides-2.7.0 pamqp-2.3.0 pandas-0.25.3 pydantic-1.3 pymorphy2-0.8 pymorphy2-dicts-2.4.393442.3710985 pymorphy2-dicts-ru-2.4.404381.4453942 pyopenssl-19.1.0 pytelegrambotapi-3.6.7 requests-2.22.0 rusenttokenize-0.0.5 scikit-learn-0.21.2 starlette-0.12.9 tqdm-4.41.1 uvicorn-0.11.1 uvloop-0.14.0 websockets-8.1 yarl-1.4.2\n"
          ],
          "name": "stdout"
        },
        {
          "output_type": "display_data",
          "data": {
            "application/vnd.colab-display-data+json": {
              "pip_warning": {
                "packages": [
                  "nltk",
                  "numpy",
                  "pandas",
                  "requests",
                  "sklearn",
                  "tqdm"
                ]
              }
            }
          },
          "metadata": {
            "tags": []
          }
        },
        {
          "output_type": "stream",
          "text": [
            "Collecting transformers\n",
            "\u001b[?25l  Downloading https://files.pythonhosted.org/packages/a3/78/92cedda05552398352ed9784908b834ee32a0bd071a9b32de287327370b7/transformers-2.8.0-py3-none-any.whl (563kB)\n",
            "\u001b[K     |████████████████████████████████| 573kB 3.2MB/s \n",
            "\u001b[?25hRequirement already satisfied: numpy in /usr/local/lib/python3.6/dist-packages (from transformers) (1.18.0)\n",
            "Requirement already satisfied: boto3 in /usr/local/lib/python3.6/dist-packages (from transformers) (1.12.39)\n",
            "Collecting tokenizers==0.5.2\n",
            "\u001b[?25l  Downloading https://files.pythonhosted.org/packages/d1/3f/73c881ea4723e43c1e9acf317cf407fab3a278daab3a69c98dcac511c04f/tokenizers-0.5.2-cp36-cp36m-manylinux1_x86_64.whl (3.7MB)\n",
            "\u001b[K     |████████████████████████████████| 3.7MB 8.1MB/s \n",
            "\u001b[?25hRequirement already satisfied: tqdm>=4.27 in /usr/local/lib/python3.6/dist-packages (from transformers) (4.41.1)\n",
            "Requirement already satisfied: filelock in /usr/local/lib/python3.6/dist-packages (from transformers) (3.0.12)\n",
            "Requirement already satisfied: requests in /usr/local/lib/python3.6/dist-packages (from transformers) (2.22.0)\n",
            "Requirement already satisfied: regex!=2019.12.17 in /usr/local/lib/python3.6/dist-packages (from transformers) (2019.12.20)\n",
            "Requirement already satisfied: dataclasses; python_version < \"3.7\" in /usr/local/lib/python3.6/dist-packages (from transformers) (0.7)\n",
            "Collecting sentencepiece\n",
            "\u001b[?25l  Downloading https://files.pythonhosted.org/packages/74/f4/2d5214cbf13d06e7cb2c20d84115ca25b53ea76fa1f0ade0e3c9749de214/sentencepiece-0.1.85-cp36-cp36m-manylinux1_x86_64.whl (1.0MB)\n",
            "\u001b[K     |████████████████████████████████| 1.0MB 39.4MB/s \n",
            "\u001b[?25hCollecting sacremoses\n",
            "\u001b[?25l  Downloading https://files.pythonhosted.org/packages/99/50/93509f906a40bffd7d175f97fd75ea328ad9bd91f48f59c4bd084c94a25e/sacremoses-0.0.41.tar.gz (883kB)\n",
            "\u001b[K     |████████████████████████████████| 890kB 56.6MB/s \n",
            "\u001b[?25hRequirement already satisfied: botocore<1.16.0,>=1.15.39 in /usr/local/lib/python3.6/dist-packages (from boto3->transformers) (1.15.39)\n",
            "Requirement already satisfied: jmespath<1.0.0,>=0.7.1 in /usr/local/lib/python3.6/dist-packages (from boto3->transformers) (0.9.5)\n",
            "Requirement already satisfied: s3transfer<0.4.0,>=0.3.0 in /usr/local/lib/python3.6/dist-packages (from boto3->transformers) (0.3.3)\n",
            "Requirement already satisfied: idna<2.9,>=2.5 in /usr/local/lib/python3.6/dist-packages (from requests->transformers) (2.8)\n",
            "Requirement already satisfied: certifi>=2017.4.17 in /usr/local/lib/python3.6/dist-packages (from requests->transformers) (2020.4.5.1)\n",
            "Requirement already satisfied: urllib3!=1.25.0,!=1.25.1,<1.26,>=1.21.1 in /usr/local/lib/python3.6/dist-packages (from requests->transformers) (1.24.3)\n",
            "Requirement already satisfied: chardet<3.1.0,>=3.0.2 in /usr/local/lib/python3.6/dist-packages (from requests->transformers) (3.0.4)\n",
            "Requirement already satisfied: six in /usr/local/lib/python3.6/dist-packages (from sacremoses->transformers) (1.12.0)\n",
            "Requirement already satisfied: click in /usr/local/lib/python3.6/dist-packages (from sacremoses->transformers) (7.1.1)\n",
            "Requirement already satisfied: joblib in /usr/local/lib/python3.6/dist-packages (from sacremoses->transformers) (0.14.1)\n",
            "Requirement already satisfied: docutils<0.16,>=0.10 in /usr/local/lib/python3.6/dist-packages (from botocore<1.16.0,>=1.15.39->boto3->transformers) (0.15.2)\n",
            "Requirement already satisfied: python-dateutil<3.0.0,>=2.1 in /usr/local/lib/python3.6/dist-packages (from botocore<1.16.0,>=1.15.39->boto3->transformers) (2.8.1)\n",
            "Building wheels for collected packages: sacremoses\n",
            "  Building wheel for sacremoses (setup.py) ... \u001b[?25l\u001b[?25hdone\n",
            "  Created wheel for sacremoses: filename=sacremoses-0.0.41-cp36-none-any.whl size=893334 sha256=0e30f5fdbd863feade1f77ab50de048f6a5609d80bc019f0aa8455c85fd0d6f5\n",
            "  Stored in directory: /root/.cache/pip/wheels/22/5a/d4/b020a81249de7dc63758a34222feaa668dbe8ebfe9170cc9b1\n",
            "Successfully built sacremoses\n",
            "Installing collected packages: tokenizers, sentencepiece, sacremoses, transformers\n",
            "Successfully installed sacremoses-0.0.41 sentencepiece-0.1.85 tokenizers-0.5.2 transformers-2.8.0\n"
          ],
          "name": "stdout"
        }
      ]
    },
    {
      "cell_type": "code",
      "metadata": {
        "id": "MtnNfVDdioWz",
        "colab_type": "code",
        "colab": {}
      },
      "source": [
        "from deeppavlov import build_model, configs\n",
        "import torch"
      ],
      "execution_count": 0,
      "outputs": []
    },
    {
      "cell_type": "code",
      "metadata": {
        "id": "nri84LiGy571",
        "colab_type": "code",
        "outputId": "6aacc7a6-b818-47e5-e8e2-477bd110a5ac",
        "colab": {
          "base_uri": "https://localhost:8080/",
          "height": 1000
        }
      },
      "source": [
        "!python -m deeppavlov install squad_bert"
      ],
      "execution_count": 0,
      "outputs": [
        {
          "output_type": "stream",
          "text": [
            "2020-04-18 14:12:00.645 INFO in 'deeppavlov.core.common.file'['file'] at line 30: Interpreting 'squad_bert' as '/usr/local/lib/python3.6/dist-packages/deeppavlov/configs/squad/squad_bert.json'\n",
            "Collecting tensorflow==1.15.2\n",
            "\u001b[?25l  Downloading https://files.pythonhosted.org/packages/9a/d9/fd234c7bf68638423fb8e7f44af7fcfce3bcaf416b51e6d902391e47ec43/tensorflow-1.15.2-cp36-cp36m-manylinux2010_x86_64.whl (110.5MB)\n",
            "\u001b[K     |████████████████████████████████| 110.5MB 43kB/s \n",
            "\u001b[?25hRequirement already satisfied: astor>=0.6.0 in /usr/local/lib/python3.6/dist-packages (from tensorflow==1.15.2) (0.8.1)\n",
            "Requirement already satisfied: numpy<2.0,>=1.16.0 in /usr/local/lib/python3.6/dist-packages (from tensorflow==1.15.2) (1.18.0)\n",
            "Requirement already satisfied: keras-preprocessing>=1.0.5 in /usr/local/lib/python3.6/dist-packages (from tensorflow==1.15.2) (1.1.0)\n",
            "Requirement already satisfied: six>=1.10.0 in /usr/local/lib/python3.6/dist-packages (from tensorflow==1.15.2) (1.12.0)\n",
            "Collecting tensorflow-estimator==1.15.1\n",
            "\u001b[?25l  Downloading https://files.pythonhosted.org/packages/de/62/2ee9cd74c9fa2fa450877847ba560b260f5d0fb70ee0595203082dafcc9d/tensorflow_estimator-1.15.1-py2.py3-none-any.whl (503kB)\n",
            "\u001b[K     |████████████████████████████████| 512kB 42.6MB/s \n",
            "\u001b[?25hRequirement already satisfied: keras-applications>=1.0.8 in /usr/local/lib/python3.6/dist-packages (from tensorflow==1.15.2) (1.0.8)\n",
            "Requirement already satisfied: termcolor>=1.1.0 in /usr/local/lib/python3.6/dist-packages (from tensorflow==1.15.2) (1.1.0)\n",
            "Requirement already satisfied: google-pasta>=0.1.6 in /usr/local/lib/python3.6/dist-packages (from tensorflow==1.15.2) (0.2.0)\n",
            "Collecting gast==0.2.2\n",
            "  Downloading https://files.pythonhosted.org/packages/4e/35/11749bf99b2d4e3cceb4d55ca22590b0d7c2c62b9de38ac4a4a7f4687421/gast-0.2.2.tar.gz\n",
            "Requirement already satisfied: protobuf>=3.6.1 in /usr/local/lib/python3.6/dist-packages (from tensorflow==1.15.2) (3.10.0)\n",
            "Requirement already satisfied: wrapt>=1.11.1 in /usr/local/lib/python3.6/dist-packages (from tensorflow==1.15.2) (1.12.1)\n",
            "Requirement already satisfied: grpcio>=1.8.6 in /usr/local/lib/python3.6/dist-packages (from tensorflow==1.15.2) (1.28.1)\n",
            "Requirement already satisfied: absl-py>=0.7.0 in /usr/local/lib/python3.6/dist-packages (from tensorflow==1.15.2) (0.9.0)\n",
            "Collecting tensorboard<1.16.0,>=1.15.0\n",
            "\u001b[?25l  Downloading https://files.pythonhosted.org/packages/1e/e9/d3d747a97f7188f48aa5eda486907f3b345cd409f0a0850468ba867db246/tensorboard-1.15.0-py3-none-any.whl (3.8MB)\n",
            "\u001b[K     |████████████████████████████████| 3.8MB 54.8MB/s \n",
            "\u001b[?25hRequirement already satisfied: wheel>=0.26; python_version >= \"3\" in /usr/local/lib/python3.6/dist-packages (from tensorflow==1.15.2) (0.34.2)\n",
            "Requirement already satisfied: opt-einsum>=2.3.2 in /usr/local/lib/python3.6/dist-packages (from tensorflow==1.15.2) (3.2.0)\n",
            "Requirement already satisfied: h5py in /usr/local/lib/python3.6/dist-packages (from keras-applications>=1.0.8->tensorflow==1.15.2) (2.10.0)\n",
            "Requirement already satisfied: setuptools in /usr/local/lib/python3.6/dist-packages (from protobuf>=3.6.1->tensorflow==1.15.2) (46.1.3)\n",
            "Requirement already satisfied: werkzeug>=0.11.15 in /usr/local/lib/python3.6/dist-packages (from tensorboard<1.16.0,>=1.15.0->tensorflow==1.15.2) (1.0.1)\n",
            "Requirement already satisfied: markdown>=2.6.8 in /usr/local/lib/python3.6/dist-packages (from tensorboard<1.16.0,>=1.15.0->tensorflow==1.15.2) (3.2.1)\n",
            "Building wheels for collected packages: gast\n",
            "  Building wheel for gast (setup.py) ... \u001b[?25l\u001b[?25hdone\n",
            "  Created wheel for gast: filename=gast-0.2.2-cp36-none-any.whl size=7540 sha256=8aad313a07b2b4aad8e0fa0521ec393f8534ad0417d921979ec500c61c1434f4\n",
            "  Stored in directory: /root/.cache/pip/wheels/5c/2e/7e/a1d4d4fcebe6c381f378ce7743a3ced3699feb89bcfbdadadd\n",
            "Successfully built gast\n",
            "Installing collected packages: tensorflow-estimator, gast, tensorboard, tensorflow\n",
            "  Found existing installation: tensorflow-estimator 2.2.0rc0\n",
            "    Uninstalling tensorflow-estimator-2.2.0rc0:\n",
            "      Successfully uninstalled tensorflow-estimator-2.2.0rc0\n",
            "  Found existing installation: gast 0.3.3\n",
            "    Uninstalling gast-0.3.3:\n",
            "      Successfully uninstalled gast-0.3.3\n",
            "  Found existing installation: tensorboard 2.2.0\n",
            "    Uninstalling tensorboard-2.2.0:\n",
            "      Successfully uninstalled tensorboard-2.2.0\n",
            "  Found existing installation: tensorflow 2.2.0rc3\n",
            "    Uninstalling tensorflow-2.2.0rc3:\n",
            "      Successfully uninstalled tensorflow-2.2.0rc3\n",
            "Successfully installed gast-0.2.2 tensorboard-1.15.0 tensorflow-1.15.2 tensorflow-estimator-1.15.1\n",
            "Collecting git+https://github.com/deepmipt/bert.git@feat/multi_gpu\n",
            "  Cloning https://github.com/deepmipt/bert.git (to revision feat/multi_gpu) to /tmp/pip-req-build-a4psblks\n",
            "  Running command git clone -q https://github.com/deepmipt/bert.git /tmp/pip-req-build-a4psblks\n",
            "  Running command git checkout -b feat/multi_gpu --track origin/feat/multi_gpu\n",
            "  Switched to a new branch 'feat/multi_gpu'\n",
            "  Branch 'feat/multi_gpu' set up to track remote branch 'feat/multi_gpu' from 'origin'.\n",
            "Building wheels for collected packages: bert-dp\n",
            "  Building wheel for bert-dp (setup.py) ... \u001b[?25l\u001b[?25hdone\n",
            "  Created wheel for bert-dp: filename=bert_dp-1.0-cp36-none-any.whl size=23581 sha256=9499c9296c3a414e24090630606835ccf16fc27387f80e16fc5ac4ce028920ce\n",
            "  Stored in directory: /tmp/pip-ephem-wheel-cache-hgqj5j9s/wheels/1e/41/94/886107eaf932532594886fd8bfc9cb9d4db632e94add49d326\n",
            "Successfully built bert-dp\n",
            "Installing collected packages: bert-dp\n",
            "Successfully installed bert-dp-1.0\n"
          ],
          "name": "stdout"
        }
      ]
    },
    {
      "cell_type": "code",
      "metadata": {
        "id": "QfEarmWbxjqx",
        "colab_type": "code",
        "outputId": "64361c95-528c-4f23-f169-757f8801042d",
        "colab": {
          "base_uri": "https://localhost:8080/",
          "height": 1000
        }
      },
      "source": [
        "model = build_model(configs.squad.squad_bert, download = True)"
      ],
      "execution_count": 0,
      "outputs": [
        {
          "output_type": "stream",
          "text": [
            "2020-04-18 14:12:55.680 INFO in 'deeppavlov.core.data.utils'['utils'] at line 80: Downloading from http://files.deeppavlov.ai/deeppavlov_data/squad_bert.tar.gz to /root/.deeppavlov/squad_bert.tar.gz\n",
            "100%|██████████| 402M/402M [04:53<00:00, 1.37MB/s]\n",
            "2020-04-18 14:17:48.708 INFO in 'deeppavlov.core.data.utils'['utils'] at line 237: Extracting /root/.deeppavlov/squad_bert.tar.gz archive into /root/.deeppavlov/models\n",
            "2020-04-18 14:17:53.116 INFO in 'deeppavlov.core.data.utils'['utils'] at line 80: Downloading from http://files.deeppavlov.ai/deeppavlov_data/bert/cased_L-12_H-768_A-12.zip to /root/.deeppavlov/downloads/cased_L-12_H-768_A-12.zip\n",
            "100%|██████████| 404M/404M [06:11<00:00, 1.09MB/s]\n",
            "2020-04-18 14:24:04.402 INFO in 'deeppavlov.core.data.utils'['utils'] at line 237: Extracting /root/.deeppavlov/downloads/cased_L-12_H-768_A-12.zip archive into /root/.deeppavlov/downloads/bert_models\n",
            "[nltk_data] Downloading package punkt to /root/nltk_data...\n",
            "[nltk_data]   Unzipping tokenizers/punkt.zip.\n",
            "[nltk_data] Downloading package stopwords to /root/nltk_data...\n",
            "[nltk_data]   Unzipping corpora/stopwords.zip.\n",
            "[nltk_data] Downloading package perluniprops to /root/nltk_data...\n",
            "[nltk_data]   Unzipping misc/perluniprops.zip.\n",
            "[nltk_data] Downloading package nonbreaking_prefixes to\n",
            "[nltk_data]     /root/nltk_data...\n",
            "[nltk_data]   Unzipping corpora/nonbreaking_prefixes.zip.\n"
          ],
          "name": "stderr"
        },
        {
          "output_type": "display_data",
          "data": {
            "text/html": [
              "<p style=\"color: red;\">\n",
              "The default version of TensorFlow in Colab will switch to TensorFlow 2.x on the 27th of March, 2020.<br>\n",
              "We recommend you <a href=\"https://www.tensorflow.org/guide/migrate\" target=\"_blank\">upgrade</a> now\n",
              "or ensure your notebook will continue to use TensorFlow 1.x via the <code>%tensorflow_version 1.x</code> magic:\n",
              "<a href=\"https://colab.research.google.com/notebooks/tensorflow_version.ipynb\" target=\"_blank\">more info</a>.</p>\n"
            ],
            "text/plain": [
              "<IPython.core.display.HTML object>"
            ]
          },
          "metadata": {
            "tags": []
          }
        },
        {
          "output_type": "stream",
          "text": [
            "WARNING:tensorflow:From /usr/local/lib/python3.6/dist-packages/bert_dp/tokenization.py:125: The name tf.gfile.GFile is deprecated. Please use tf.io.gfile.GFile instead.\n",
            "\n",
            "WARNING:tensorflow:From /usr/local/lib/python3.6/dist-packages/deeppavlov/core/models/tf_model.py:37: The name tf.Session is deprecated. Please use tf.compat.v1.Session instead.\n",
            "\n",
            "WARNING:tensorflow:From /usr/local/lib/python3.6/dist-packages/deeppavlov/core/models/tf_model.py:222: The name tf.placeholder is deprecated. Please use tf.compat.v1.placeholder instead.\n",
            "\n",
            "WARNING:tensorflow:From /usr/local/lib/python3.6/dist-packages/deeppavlov/core/models/tf_model.py:222: The name tf.train.Optimizer is deprecated. Please use tf.compat.v1.train.Optimizer instead.\n",
            "\n",
            "WARNING:tensorflow:From /usr/local/lib/python3.6/dist-packages/deeppavlov/core/models/tf_model.py:193: The name tf.train.AdamOptimizer is deprecated. Please use tf.compat.v1.train.AdamOptimizer instead.\n",
            "\n",
            "WARNING:tensorflow:From /usr/local/lib/python3.6/dist-packages/deeppavlov/models/bert/bert_squad.py:81: The name tf.ConfigProto is deprecated. Please use tf.compat.v1.ConfigProto instead.\n",
            "\n",
            "WARNING:tensorflow:From /usr/local/lib/python3.6/dist-packages/deeppavlov/models/bert/bert_squad.py:178: The name tf.placeholder_with_default is deprecated. Please use tf.compat.v1.placeholder_with_default instead.\n",
            "\n",
            "WARNING:tensorflow:From /usr/local/lib/python3.6/dist-packages/bert_dp/modeling.py:178: The name tf.variable_scope is deprecated. Please use tf.compat.v1.variable_scope instead.\n",
            "\n",
            "WARNING:tensorflow:From /usr/local/lib/python3.6/dist-packages/bert_dp/modeling.py:418: The name tf.get_variable is deprecated. Please use tf.compat.v1.get_variable instead.\n",
            "\n",
            "WARNING:tensorflow:From /usr/local/lib/python3.6/dist-packages/bert_dp/modeling.py:499: The name tf.assert_less_equal is deprecated. Please use tf.compat.v1.assert_less_equal instead.\n",
            "\n",
            "WARNING:tensorflow:\n",
            "The TensorFlow contrib module will not be included in TensorFlow 2.0.\n",
            "For more information, please see:\n",
            "  * https://github.com/tensorflow/community/blob/master/rfcs/20180907-contrib-sunset.md\n",
            "  * https://github.com/tensorflow/addons\n",
            "  * https://github.com/tensorflow/io (for I/O related ops)\n",
            "If you depend on functionality not listed there, please file an issue.\n",
            "\n",
            "WARNING:tensorflow:From /usr/local/lib/python3.6/dist-packages/bert_dp/modeling.py:366: calling dropout (from tensorflow.python.ops.nn_ops) with keep_prob is deprecated and will be removed in a future version.\n",
            "Instructions for updating:\n",
            "Please use `rate` instead of `keep_prob`. Rate should be set to `rate = 1 - keep_prob`.\n",
            "WARNING:tensorflow:From /usr/local/lib/python3.6/dist-packages/bert_dp/modeling.py:680: dense (from tensorflow.python.layers.core) is deprecated and will be removed in a future version.\n",
            "Instructions for updating:\n",
            "Use keras.layers.Dense instead.\n",
            "WARNING:tensorflow:From /usr/local/lib/python3.6/dist-packages/tensorflow_core/python/layers/core.py:187: Layer.apply (from tensorflow.python.keras.engine.base_layer) is deprecated and will be removed in a future version.\n",
            "Instructions for updating:\n",
            "Please use `layer.__call__` method instead.\n",
            "WARNING:tensorflow:From /usr/local/lib/python3.6/dist-packages/bert_dp/modeling.py:283: The name tf.erf is deprecated. Please use tf.math.erf instead.\n",
            "\n",
            "WARNING:tensorflow:From /usr/local/lib/python3.6/dist-packages/deeppavlov/models/bert/bert_squad.py:154: The name tf.matrix_band_part is deprecated. Please use tf.linalg.band_part instead.\n",
            "\n",
            "WARNING:tensorflow:From /usr/local/lib/python3.6/dist-packages/deeppavlov/models/bert/bert_squad.py:166: softmax_cross_entropy_with_logits (from tensorflow.python.ops.nn_ops) is deprecated and will be removed in a future version.\n",
            "Instructions for updating:\n",
            "\n",
            "Future major versions of TensorFlow will allow gradients to flow\n",
            "into the labels input on backprop by default.\n",
            "\n",
            "See `tf.nn.softmax_cross_entropy_with_logits_v2`.\n",
            "\n",
            "WARNING:tensorflow:From /usr/local/lib/python3.6/dist-packages/deeppavlov/core/models/tf_model.py:234: The name tf.train.AdadeltaOptimizer is deprecated. Please use tf.compat.v1.train.AdadeltaOptimizer instead.\n",
            "\n",
            "WARNING:tensorflow:From /usr/local/lib/python3.6/dist-packages/deeppavlov/core/models/tf_model.py:127: The name tf.get_collection is deprecated. Please use tf.compat.v1.get_collection instead.\n",
            "\n",
            "WARNING:tensorflow:From /usr/local/lib/python3.6/dist-packages/deeppavlov/core/models/tf_model.py:127: The name tf.GraphKeys is deprecated. Please use tf.compat.v1.GraphKeys instead.\n",
            "\n",
            "WARNING:tensorflow:From /usr/local/lib/python3.6/dist-packages/deeppavlov/models/bert/bert_squad.py:89: The name tf.global_variables_initializer is deprecated. Please use tf.compat.v1.global_variables_initializer instead.\n",
            "\n",
            "WARNING:tensorflow:From /usr/local/lib/python3.6/dist-packages/deeppavlov/models/bert/bert_squad.py:94: checkpoint_exists (from tensorflow.python.training.checkpoint_management) is deprecated and will be removed in a future version.\n",
            "Instructions for updating:\n",
            "Use standard file APIs to check for files with this prefix.\n"
          ],
          "name": "stdout"
        },
        {
          "output_type": "stream",
          "text": [
            "2020-04-18 14:24:26.230 INFO in 'deeppavlov.core.models.tf_model'['tf_model'] at line 51: [loading model from /root/.deeppavlov/models/squad_bert/model]\n"
          ],
          "name": "stderr"
        },
        {
          "output_type": "stream",
          "text": [
            "WARNING:tensorflow:From /usr/local/lib/python3.6/dist-packages/deeppavlov/core/models/tf_model.py:54: The name tf.train.Saver is deprecated. Please use tf.compat.v1.train.Saver instead.\n",
            "\n",
            "INFO:tensorflow:Restoring parameters from /root/.deeppavlov/models/squad_bert/model\n"
          ],
          "name": "stdout"
        }
      ]
    },
    {
      "cell_type": "code",
      "metadata": {
        "id": "6xXT6YK_YqeU",
        "colab_type": "code",
        "colab": {}
      },
      "source": [
        "def remove_articles(text):\n",
        "    return re.sub(r'\\b(a|an|the)\\b', ' ', text)\n",
        "\n",
        "def white_space_fix(text):\n",
        "    return ' '.join(text.split())\n",
        "\n",
        "def remove_punc(text):\n",
        "    exclude = set(string.punctuation)\n",
        "    return ''.join(ch for ch in text if ch not in exclude)\n",
        "\n",
        "def lower(text):\n",
        "    return text.lower()\n",
        "\n",
        "def normalize_answer(s: str) -> str:\n",
        "    return white_space_fix(remove_articles(remove_punc(lower(s))))"
      ],
      "execution_count": 0,
      "outputs": []
    },
    {
      "cell_type": "code",
      "metadata": {
        "id": "Fv1efFG5mtKk",
        "colab_type": "code",
        "colab": {}
      },
      "source": [
        "def exact_match_metric(iy_predicted_list: List[str], iground_truth: str):\n",
        "  y_predicted = [normalize_answer(y_pred) for y_pred in iy_predicted_list]\n",
        "  ground_truth =  normalize_answer( iground_truth )\n",
        "  res = [ele for ele in y_predicted if(ele in ground_truth)]\n",
        "  return (sum([(bool(res))]))"
      ],
      "execution_count": 0,
      "outputs": []
    },
    {
      "cell_type": "code",
      "metadata": {
        "id": "XfUrYs8asfsX",
        "colab_type": "code",
        "colab": {}
      },
      "source": [
        "def f1_score_metric(iy_predicted_list: List[str], iground_truth: str):\n",
        "  f1_total = 0.0\n",
        "  precisions = []\n",
        "  recalls = []\n",
        "  f1s = []\n",
        "  y_predicted = [normalize_answer(y_pred) for y_pred in iy_predicted_list]\n",
        "  ground_truth =  normalize_answer( iground_truth )\n",
        "  \n",
        "  for prediction in y_predicted:\n",
        "      prediction_tokens = prediction.split()\n",
        "      gt_tokens = ground_truth.split()\n",
        "      #print(prediction_tokens)\n",
        "      #print(gt_tokens)\n",
        "      if len(gt_tokens) == 0 or len(prediction_tokens) == 0:\n",
        "          precisions.append(float(gt_tokens == prediction_tokens))\n",
        "          recalls.append(float(gt_tokens == prediction_tokens))\n",
        "          f1s.append(float(gt_tokens == prediction_tokens))\n",
        "          continue\n",
        "      common = Counter(prediction_tokens) & Counter(gt_tokens)\n",
        "      num_same = sum(common.values())\n",
        "      #print(common, num_same)\n",
        "      if num_same == 0:\n",
        "          precisions.append(0.0)\n",
        "          recalls.append(0.0)\n",
        "          f1s.append(0.0)\n",
        "          continue\n",
        "      precision = 1.0 * num_same / len(prediction_tokens)\n",
        "      recall = 1.0 * num_same / len(gt_tokens)\n",
        "      f1 = (2 * precision * recall) / (precision + recall)\n",
        "      f1s.append(f1)\n",
        "      precisions.append(precision)\n",
        "      recalls.append(recall)\n",
        "\n",
        "  f1_total = max(f1s)    \n",
        "  return (max(precisions), max(recalls), max(f1s))"
      ],
      "execution_count": 0,
      "outputs": []
    },
    {
      "cell_type": "code",
      "metadata": {
        "id": "qNQ_gBTUNgj9",
        "colab_type": "code",
        "colab": {}
      },
      "source": [
        "def get_predicted_answer(iQues, iContext, ingram, imodel, \n",
        "                         itopN_pred_ans, iRemove_word_list, id):\n",
        "  \n",
        "  \"\"\"\n",
        "  Tokenize the context containing multiple paragraphs\n",
        "  Each para  - broken to sentence\n",
        "  \"\"\"\n",
        "  paras = []\n",
        "  words = []\n",
        "  predicted_ans = \"\"\n",
        "  y_predicted_lst = []\n",
        "  \n",
        "  for ConextDict in iContext[id:id+1]:\n",
        "    sublist = ConextDict[\"contexts\"]\n",
        "    for i, item in enumerate(sublist):\n",
        "      sent = (item[1]) #TreebankWordDetokenizer().detokenize(item[1])\n",
        "      paras.append(sent)\n",
        "    \n",
        "  ##lets do the same for the question\n",
        "  ques_dict = iQues[id:id+1][0]\n",
        "  ques = (ques_dict['question'])\n",
        "\n",
        "  #get model prediction\n",
        "  predicted_ans_list = []\n",
        "  for para in paras:\n",
        "    predicted_ans = imodel([para], [ques])\n",
        "    predicted_ans_list.append(sum(predicted_ans, []))\n",
        "    #print(predicted_ans)  \n",
        "  \n",
        "  predicted_ans_list = sorted(predicted_ans_list, key = lambda x: x[2], \n",
        "                                reverse=True)\n",
        "  for i in range(itopN_pred_ans):\n",
        "    word_list = lower(predicted_ans_list[i][0]).split()\n",
        "    predicted_ans_list[i][0] = (' '.join(\n",
        "        [i for i in word_list if i not in iRemove_word_list]))\n",
        "    y_predicted_lst.append(predicted_ans_list[i][0])\n",
        "  \n",
        "  \n",
        "  actual_ans = ques_dict['answer']\n",
        "  print (y_predicted_lst, ',' ,normalize_answer( actual_ans ))\n",
        "\n",
        "  EM = exact_match_metric(y_predicted_lst, actual_ans)\n",
        "  precision, recall, f1 = f1_score_metric(y_predicted_lst, actual_ans)\n",
        "\n",
        "  return  y_predicted_lst, [normalize_answer(actual_ans), normalize_answer(ques), EM, precision, recall, f1]\n"
      ],
      "execution_count": 0,
      "outputs": []
    },
    {
      "cell_type": "code",
      "metadata": {
        "id": "HQb8eeZjSH8L",
        "colab_type": "code",
        "outputId": "100e0a0c-e572-4c43-9413-20e03c850fbe",
        "colab": {
          "base_uri": "https://localhost:8080/",
          "height": 1000
        }
      },
      "source": [
        "import time\n",
        "id = 7401\n",
        "ingram = 2\n",
        "itopN_pred_ans = 10\n",
        "\n",
        "Remove_word_list = ['lrb-' , '-rrb', '-lrb-', '-lsb-', '-rrb-', '-rsb-']\n",
        "\n",
        "pred_ans_list_col_names = {}\n",
        "\n",
        "for i in range(itopN_pred_ans):\n",
        "  pred_ans_list_col_names[('pred_ans_' + str(i))] = []\n",
        "\n",
        "df_pred= pd.DataFrame(pred_ans_list_col_names)\n",
        "df_metrics = pd.DataFrame({'actual_ans': [], 'actual_ques': [], 'EM': [], 'precision': [], 'recall': [], 'f1': []})\n",
        "\n",
        "t1 = time.time()\n",
        "\n",
        "#change devQ to testQ and devLC to testLC in order to run the test and dev\n",
        "#running only 200 records due to run taking long time- less RAM and also can't parallelize\n",
        "for id, testQdict in enumerate(testQ[0:150]):\n",
        "  pred, metrics = get_predicted_answer(testQ, testSC,  2, model, itopN_pred_ans, Remove_word_list, id)\n",
        "  \n",
        "  for i in  range(itopN_pred_ans):\n",
        "    pred_ans_list_col_names[('pred_ans_' + str(i))] = pred[i]\n",
        "\n",
        "  df_pred = df_pred.append(pred_ans_list_col_names, ignore_index=True)\n",
        "\n",
        "  df_metrics = df_metrics.append({'actual_ans': metrics[0], 'actual_ques': metrics[1], 'EM': metrics[2], \n",
        "                              'precision': metrics[3], 'recall': metrics[4], 'f1': metrics[5]}, ignore_index=True)\n",
        "\n",
        "t2 = time.time()\n",
        "print('Time for whole code to run: ', (t2-t1))"
      ],
      "execution_count": 0,
      "outputs": [
        {
          "output_type": "stream",
          "text": [
            "['queen', 'rook', 'the queen the queen', 'queen queens', 'yod knight', 'queen', 'queen', 'the queen', 'pawns', 'the king the king'] , queen\n",
            "['09:50 am', 'what to do in portland if/when it rains', '10:40', 'overnight', 'september', '1pm', 'when', 'real speed date', 'do ?', '10:00 a.m'] , 4\n",
            "['john bailey', 'redford', 'george roy hill', 'robert redford', 'robert redford', 'sidney pollack', 'george roy hill', 'alvin sargent', 'lasse hallstrom', 'robert redford'] , robert redford\n",
            "['hobgoblins 2', '28 weeks later', 'ecks vs. sever', 'caddyshack ii', 'lsb- it -rsb', 'spares', 'plan 9 from outer space 1959 plan 9', '`` what are they up to ?', 'five point palm exploding heart technique', 'the uk sun page three girls'] , attack of killer tomatoes\n",
            "['what continent', 'parrot', 'amazon', 'lories', 'they are the largest birds in the parrot family', 'tyrant flycatchers', 'neotropical parrots', 'zigzag herons', 'colombia', 'it is known for being among the largest , yet gentlest of the amazons'] , parrot family\n",
            "['1992', '1990', '1987', 'september 1992', '2002', '2002', '1999', 'february 28 , 1995', '2003', 'april 06 , 1999'] , 1992\n",
            "['beau genius', 'eddie arcaro', 'shoemaker', 'geoff lewis', 'hartack dies', 'majestic prince', 'hard spun', 'big brown', 'bill hartack', 'authorized'] , willie carson\n",
            "['domestic goat', 'dairy goat', 'goat', 'dairy goats', 'male goats', 'livestock - anglo-nubian goats', 'dairy goat', 'dairy goat', 'goat', 'goats'] , goat\n",
            "['hachik', 'bum', 'greyfriars bobby', 'gr', 'greyfriars bobby', 'rob roy', 'greyfriars', 'bum', 'hachiko', 'bum'] , greyfriers bobby\n",
            "['minnesota', 'minnesota', 'minnesota', 'minnesota', 'minnesota', 'arkansas', 'minnesota territory', 'minnesota', 'minnesota', 'minnesota'] , minnesota\n",
            "['dogs', 'muni 38 or 38l', 'bi-rite market -- 3639 18th st. san francisco , ca 94110 bry', 'pet economy', 'northern californ', 'flea market', 'common parade routes', 'common parade routes', 'guests should walk south one block to sanchez street', 'subway'] , elephants\n",
            "['paper', 'fear of paper', 'paper', 'paper', 'paper', 'paper', 'hylephobia - fear of materialism', 'falling', 'parasites', 'no evil'] , paper\n",
            "['2 points', '2', '1 or 2 points', '2', 'no points are scored', '2', 'six', 'two points', 'two points', '2 points'] , two\n",
            "['lindsay davenport', 'martina hingis', 'chuck mckinley', 'roger federer', 'hingis', 'martina hingis', 'tim glover', 'jimmy connors', 'neale fraser', 'shirley fry'] , martina hingis\n",
            "['john paul i', 'john paul ii', 'john paul i', 'john paul i', 'john paul i', 'stephen ii', 'john paul i', 'john paul i', 'pope john paul i', 'john paul i'] , john paul i\n",
            "['rastafari doctrine', 'jah', 'what part', 'jah', 'heaven on earth', 'jah', 'jah or jah rastafari', 'what in the world is this so-called `` train to zion', 'selassie i', 'what communion hath light with darkness'] , jah\n",
            "['telemachus', 'telemachus', 'polyphemus', 'telemachus', 'telemachus', 'antinous', 'telemachus', 'antinous', 'telemachus', 'telemachus'] , telemachus\n",
            "['nightbird', 'erasure', 'yazoo', 'yazoo', 'hoodoo', 'the assembly', 'yazoo', 'the vandals', 'depeche mode', 'yazoo'] , yazoo\n",
            "['wiktionary', 'ukraine', 'where ?', \"niko dadiani 's ukrainian recipes\", 'the punjab region', 'ukraine', 'ukraine', 'where had the 4 millions gone to', 'alentejo', 'battle of russia'] , ukraine\n",
            "['what', 'register caribou', 'a large deer', 'caribou', 'any of several large reindeer native to northern north america .', 'caribou', 'deer', 'a large deer', 'the former is only found in arctic parts of north america and has long , slightly curved antlers', 'woodland caribou'] , caribou\n",
            "['money', 'money', 'a pouch', 'stamps', 'digging into ant and termite mounds', 'sailors and fishermen', 'tongues', 'cutting wood , biting through the skin of fruit , or for defense', 'baleen plates which hang from the upper jaw and are used for filtering food from water', 'in what way have whales and dolphins been a benefit'] , money\n",
            "['nugaal', 'victoria falls', 'shebele', 'windhoek lager', 'zambezi', 'buckeye', 'umtali mutirikwe', 'asfi', 'dolisie louga', 'lunga'] , zambezi\n",
            "['univer', 'elvis costello', 'lrb', 'cement shoes records', 'simon raymonde', 'target', 'clover', '7 bros.', 'floating world records', 'elvis costello'] , elvis costello\n",
            "['doctor zhivago', 'dr. zhivago', 'zhivago', 'doctor zhivago', 'doctor zhivago', 'a tale of two telegrams', 'adolf butenandt', 'homegrown doctor zhivago', 'boris leonidovich literature 1958 pau', 'pasternak boris .'] , dr zhivago\n",
            "['how many', 'how many', 'how many', '0-9', '247,139', '288', '5750', 'as many', 'm. 6.12', ''] , 12\n",
            "['nato', 'australian article xv', 'british commonwealth air training plan', 'military jeep uniforms', 'british aircraft', 'british mark one tank', 'bomber', 's.e. 5', 'royal flying corps', 'raf scout experimantal 5 - world war i fighters'] , royal\n",
            "['inhibition', 'order adderall overnight', 'your going to mess his whole world up', 'tramadol', 'tramadol', 'purchase tramadol online', 'what dosage', 'the correct treatment', 'tramadol', 'tramadol'] , cash on delivery\n",
            "['monterrey', 'andorra', 'guadalajara', 'anguilla', 'antigua and barbuda', 'nonthaburi', 'guadalajara', 'guadalajara', 'greater mexico city', 'guadalajara'] , guadalajara\n",
            "['trinity college bridge', \"etheridge 's mathematical bridge\", 'rrb- grattan bridge', 'clare bridge', 'the bridge of sighs', 's o jo o bridge', 'the long bridge', 'silver street bridge', 'trinity college bridge', \"king 's college bridge\"] , mathematical bridge queens college\n",
            "['alkaline', 'water', 'ice water', 'water', 'water', 'water', 'water', 'water', 'water water', 'water'] , water\n",
            "['9', 'forty', '3', 'twenty', '30', 'what year', '6', '80', 'how and for what reasons', 'three'] , 80\n",
            "['white', 'shahadah', 'white', 'white', 'gold', 'white', 'white', 'gold', 'red', 'red'] , white\n",
            "['turin', 'uruguay', 'the first world cup finals to be held on the african continent', 'uruguay', 'uruguay', 'belarus', '1982 world cup', 'germany', 'australia', 'switzerland'] , uraguay\n",
            "['lrb', 'gammadion', 'swastika', 'saltire', 'crux fourchette', 'crux ordinaria', 'swastika -lrb', 'crux ordinaria', '` mexico', 'ankh the ankh'] , swastika\n",
            "['can you taste the salt', 'mouth', 'caudal peduncle', 'sucks them into her mouth', \"inside the female cichlid 's mouth\", 'the female bristlenose catfish lays the eggs in the males cave', 'mouth', 'mouth', 'buccal cavity mouth until they are free swimming', 'astatotilapia brownie will carry the eggs and fry in her mouth'] , mouth\n",
            "['the pentagon building', 'portakabin', 'philadelphia', 'what', 'mosques', 'what about old and obsolete equipment', 'the pentagon', 'what can they do about it', 'the pentagon', 'what is to be done ?'] , pentagon\n",
            "['nostophobia', 'what causes it ?', 'nostophobia', 'phobias', 'ecophobia', 'oikophobia', 'eicophobia', 'nostophobia', 'oikophobia', 'oikophobia'] , nostophobia\n",
            "['o.j. simpson', 'o.j. simpson', 'o.j.', 'ron johnson', 'o.j. simpson', 'o.j. simpson', 'eric dickerson', 'o.j. simpson', 'payton', 'payton'] , oj simpson\n",
            "['battle of the somme', 'battle of the somme', 'battle of the somme', 'battle of verdun', 'the battle of the somme', 'indian mutiny', 'battle of the somme', 'the battle of the somme', 'battle of the somme', 'battle of loos'] , battle\n",
            "['`` im', 'barbarian', 'ridiculous', 'babs', \"what 's in a name\", 'softness , delicacy', 'victory of the people', 'kallistos , meaning `` most beautiful', '`` foreign ; strange', '`` belonging to tandrige'] , strange or foreign\n",
            "['save the children', 'save the children fund', 'international save the children movement', 'home arts and industries', 'plan type charity', 'the save the children fund', 'aplastic anemia foundation of america', 'the thusanani childrens foundation', 'charity organisation society', 'child cancer foundation'] , save children fund\n",
            "['spammers and feed scrapers', 'thieves and falsifiers', 'prostitutes', 'fraudulent thieves', 'halfwits , inquisitors', 'the simoniacs', 'thieves .', 'who', 'beatrice', 'sodomites'] , politicians\n",
            "['` rodent', 'ba', 'king jird', 'gerbils', 'free rodent', 'rat', 'tail', 'gerbil teeth', 'it resembles a plover but with very long grey legs', 'gerbil'] , gerbil\n",
            "['stationary ark.', 'jersey zoological park', 'jersey zoological park', 'jersey zoo', 'channel island of jersey', 'jersey zoo', 'jersey zoo', 'india', 'kookaburra', 'belize zoo'] , jersey\n",
            "['ecuador', 'peru', 'ecuador', 'new zealand', 'ecuador', 'nauru', 'tupi', 'ecuador', 'ecuador', 'ecuador'] , ecuador\n",
            "['library of congress', 'their official website', 'starfish farms tack & trophy', 'barn', 'anywhere near by', 'loin', 'in this great free ebook bonus', 'horsemaniac.com', 'rhode island', 'barnplans.com'] , on horse itu2019s horses leg\n",
            "['elvis costello', 'elvis costello', 'elvis costello', 'elvis costello', 'elvis costello', 'costello -lrb', 'who are the trusted', 'sir elton john', 'who wouldve thought that the drummer', 'who'] , elvis costello\n",
            "['isaac hayes', 'dionne warwick', 'isaac hayes', 'isaac hayes', 'isaac hayes', 'stevie wonder', 'hayes', 'isaac hayes', 'redding', 'henry rollins'] , isaac hayes\n",
            "['jackie gleason', 'mark rutkowski', 'james cagney', 'james cagney', 'frank mcgee', 'jerry lewis', 'sammy spear', 'gleason', 'gleason', 'gleason'] , jackie gleason\n",
            "['geoffrey chaucer', 'geoffrey chaucer', 'geoffrey chaucer', 'geoffrey chaucer', 'geofrey chaucer', 'chaucer', 'geoffrey chaucer', 'geoffrey chaucer', 'geoffrey chaucer', 'geoffrey chaucer'] , geoffrey chaucer\n",
            "['krypton', 'kal-el', 'clark kent', 'kal-el', 'jal el', 'who', 'kal-el', 'kal-el', 'kal-el', 'superman'] , superman\n",
            "['semi transparent', 'blacks', 'green', 'acrylic', 'what', 'yellow-brown', 'dark brown', 'roma color', 'white', 'red'] , brown\n",
            "['ocean colour scene', 'the ronettes', 'ocs', 'the spencer davis group', 'ocean colour scene', 'ocean colour scene', 'ocean colour scene', 'ocean colour scene', 'ocean colour scene', 'ocean colour scene'] , ocean colour scene\n",
            "['what', '7', 'three', 'seven', '7', 'four', 'how shall we find it ?', 'how many', 'seven', 'as many'] , seven\n",
            "['grand cayman', 'grenada island', 'south andros', 'martinique', 'antigua', 'grand cayman', 'grand cayman', 'antigua', 'aneki', 'barbuda'] , cuba\n",
            "['post meridiem', 'meridians systems in acupuncture', 'anno mundi', 'prime meridian', 'what is the prime meridian', 'ante meridiem or before noon', 'antflt', 'latin abbreviation', 'inter alios', 'pm&c'] , ante meridian\n",
            "['microchannel', 'fluid integrator', 'lacrimal fluid', 'glaucoma', 'salty secretion', 'peritoneal fluid', 'what causes excess tearing', 'lacrimal fluid', 'brake fluid', 'amniotic'] , lacrimal fluid\n",
            "['podiatrist', 'weasel', 'herd', 'weasel', 'weasel', 'weasel', 'weasel', 'blood group', 'a flock', 'weasel'] , muster\n",
            "['newspeak', '1984', 'big brother , room 101', 'orwellian prophecies', 'nineteen eighty-four', '1984', '1984 george orwell ?', 'nineteen eighty-four', '1984', 'newspeak'] , 1984 george orwell\n",
            "['mudflubs', 'sea rexes', \"what 's a `` human\", '` money', 'rats', 'what', 'slig valets', 'what creed', 'what', 'what the deuce'] , alien life form\n",
            "['canis major', 'canis major', 'procyon', 'carina', 'canis major', 'canis major', 'procyon', 'canis major', 'alpha centauri', 'canis major'] , canis major\n",
            "['wort des tages', 'nazi', 'what is that ?', 'what ?', 'a date with a charming man', 'mommy', 'candi : what ?', 'dumbo', 'mother', 'kisses faline'] , bird\n",
            "['hotel search where', 'meyer park storage center', 'houston office space', 'the cockrell butterfly centre', 'sam houston park', 'johnson space center', 'johnson space centre', 'hermann park space centre houston', 'the theatre district', 'johnson space centre'] , texas\n",
            "['calcutta', 'bombay', 'carlisle', 'calcutta', 'st helena', 'bombay', 'st helena', 'bombay', 'when', 'mumbai'] , bombay\n",
            "['pattie', 'george harrison', 'george harrison', 'who is dating george harrison', 'maureen starkey', 'heather mills mccartney', 'olivia', 'pattie -lrb', 'barbara bach', 'olivia harrison'] , eric clapton\n",
            "[\"what 's new pussycat\", 'pomegranate , flower mature', 'locust tree elegance', 'cattalya orchid', 'what hot', 'traditional', 'what', 'a touch of elegance', 'white elegance', 'power'] , pomegranate flower\n",
            "['national gallery', \"berlin 's brke museum\", 'an attic', 'time warner center', \"sotheby 's old masters\", 'galleria dell accademia', \"sotheby 's\", 'neue galerie in new york', 'tate gallery', 'the national gallery'] , castle howard\n",
            "['rabies', 'dengue hemorrhagic fever', 'cowpox', 'beer disease', 'anthrax disease', 'chronic illness', 'mental illness', 'silk worms', 'beer disease', 'chicken cholera'] , rabies\n",
            "['romania', 'hungaria', 'moldova', 'bulgaria', 'rumania', 'southern ukr', 'wallachia', 'moldova', 'moldova', 'moldavia'] , romania\n",
            "['ohio', 'philadelphia', 'pennsylvania', 'colorado', 'indiana', 'maryland', 'oh', 'philadelphia', 'pennsylvania', 'indiana'] , pennsylvania\n",
            "['haile selassie', 'what kind of bird', 'selassie', 'dejazmatch taffari makonnen', 'the orphan', 'lij eyasu', 'what kind of death', 'dejazmatch taffari makonnen', 'haile selassie', 'lij eyasu'] , haile selassie\n",
            "['piggy', 'lo-fat', 'fat german android', 'piggy fat', \"piggy 's glasses\", 'piggy', 'piggy', 'piggy', 'piggy', 'lo-fat'] , piggy\n",
            "['chief of the powhatans', 'rebecca', 'rebecca', 'bright stream between two hills', 'matoaka', 'nam', 'matoaka', 'matoaka', 'rebecca', 'apgard'] , rebecca\n",
            "['do ?', 'hieratic and demotic', 'what', 'what', 'spanish , french or german', 'what code', 'what', 'what', 'what are hieroglyphics', 'what'] , egyptian greek\n",
            "['latin', 'what does your mother do with her hands', 'eel', 'gloomy thousand intuitions', 'gaping', 'melting', 'what do you think will happen next year', 'what', 'kidney beans', 'what'] , mackerel\n",
            "['how does a police department file a reimbursement claim', 'how to verify the identity of a police offic', 'how do you get ready', 'how does a post get verification of training', 'law degree', 'how do you get ready', 'securing the vips', 'what is the best way to get to the memorial service ?', 'overtime', 'what training'] , sit down\n",
            "['marilyn monroe', 'marilyn monroe', 'mary jane', '1988', '1988', 'brass bed 1960', '1993', 'marilyn', 'olivia check', 'marilyn monroe'] , marilyn monroe\n",
            "['baking soda', 'baking soda', 'trona', 'potash', 'table salt', 'common salt', 'baking', 'common salt', 'washing soda or soda ash', 'epsom salts'] , baking soda\n",
            "['there are no age divisions', 'six', 'men compete on vault , parallel bar', 'men compete on vault , parallel bar', 'how to thank tfd for its existence ?', 'four', 'balance beam', 'seven', 'four women', 'clubs'] , 6 vault rings floor high bar para bars horse\n",
            "['what', '96th grey cup', 'crusader trophy crusader trophy crusader trophy', 'silver ball trophy', 'the digicel premier league trophy', 'the teddy morris memorial trophy', 'the stanley cup', 'hugo ross trophy', 'hec crighton trophy', 'the stanley cup'] , grey cup\n",
            "['cola', 'coca-cola - coke', 'silver', 'diet cuba libre', \"pink n ' tart 17\", 'manhattan', 'eggnog', 'navigation , searc', 'bourbon', 'rum cola 19'] , cuba libre\n",
            "['deportation', 'expulsion of an undesirable alien from a country', 'exile', 'personal exile', 'forcibly', 'diaspora', 'greek', 'administrative removal', 'exile', 'free country'] , deport\n",
            "['mljet', 'mdina', \"st. paul 's grotto\", \"st. paul 's bay\", \"st. paul 's grotto\", \"st. paul 's grotto\", \"saint paul 's bay\", 'st paul island', 'malta', \"st.paul 's catacombs\"] , malta\n",
            "['mata hari mata hari', 'matahari', 'tremble', 'mata hari', 'special operations executive', 'h 21', 'margaretha geertruida zelle', 'rosie white', 'lrb', \"cathy o'brien or cisco wheeler\"] , mata hari\n",
            "['holby city', 'holby', 'holby city', 'holby city hospital', 'holby city', 'holby city', 'bristol', 'meerkat manor', 'holby city', 'holby city'] , bristol\n",
            "['pentecost', 'what is the easter duty', 'pentecost sunday', 'pentecost', 'what is prayer', 'pentecost', 'advent', 'what is the easter duty', 'what is clean monday', 'pentecost'] , pentecost\n",
            "['posh spice', 'posh spice', 'musicmoz', 'posh spice', 'entertainment wise', 'simon spotlight entertainment', 'posh spice', 'posh spice', 'posh spice', 'entertainment wise'] , posh spice\n",
            "['nightshade', 'nightshade', 'nightshade', 'thistle', 'nightshade', 'nightshade', 'cabbage', 'carrot', 'thistle', 'parsley'] , thistle\n",
            "['mountain lion', 'nittany lion', 'puma concolor cougar', 'montana', 'felis concolor', 'fire cat', 'cougar', 'cougar lion mountain puma', 'man or beast', 'helium'] , puma\n",
            "['northcutt', 'gracie fields', 'prince tui teka', 'elvis presley', 'sarah', 'hrh prince charles & camilla parker bowles', 'lady rolex - super-super', 'prince charles of england', 'his royal highness the prince of wales', 'ms. damrau'] , kiri te kanawa\n",
            "['1890-1918', '1910', '1930', '1907', '1907', '1907', 'may 1984', '1909', '1907', '1907'] , 1907\n",
            "['san marino', 'san marino', 'san marino', 'san marino', 'san marino', 'the smallest and oldest constitutional republic', 'san marino', 'san marino', 'san marino', 'san marino'] , san marino 301 ad\n",
            "['what ?!', 'autobiography', 'the grapes of wrath', 'the big book', \"what do you think cal 's future will be ?\", 'what', 'what comes with sam and his wife liza from the `` old country', 'salinas valley saga', 'what constitutes true wealth', 'valley girl'] , east of eden\n",
            "['rio de janeiro', 'rio de janeiro', 'rio de janeiro', 'rio de janeiro', 'rio de janeiro', 'rio de janeiro', 'rio de janeiro', 'urca', 'rio de janeiro', 'rio de janeiro'] , rio de janeiro brazil\n",
            "['rick jones', 'rick jones', 'rick jones', 'rick jones', 'valkyrie', 'kate waynesboro', 'metal master', 'gremlin', 'rick jones', 'jennifer walters'] , rick jones\n",
            "['amazon', 'orle river', 'the congo', 'congo river', 'congo', 'congo river river', 'africa - congo', 'congo river', 'what', 'zambezi'] , congo zaire\n",
            "['chinese artglass', 'who', 'what', 'where', 'gift cards', 'what', 'what', 'what pattern', 'indiana glass', 'the finest quality of recycled glass available'] , glass\n",
            "[\"what 's squidoo\", 'what is condition', 'what', 'what', 'what are the possible offspring', 'what does that taste like ?', 'what else is there to know', 'chocolate', 'right for you', 'i wan na pet - havana brown is the havana brown right for you'] , small rabbit\n",
            "['ufo', 'encounters', '1980', 'close encounters of the third kind', 'extraterrestrials', 'ufo', 'first , second , or th', 'ufo', 'first encounters', '` aliens'] , sighting unexplained craft sighting ufos\n",
            "['100,000,000', 'how many grams', '1kg how much gram', 'how many ounces', '28.35 grams', 'how much does $ 100 dollars', 'how high is a stack of one hundred', 'how many', 'how many ounces', '$ 10.00'] , one ounce\n",
            "['tuvalu', 'american samoa', 'chile the republic of chile', 'guam', 'united state of america', 'ecuador', 'belize', 'belize', 'belize', 'argentina'] , belize\n",
            "['trygve lie', 'trygve lie', 'mr. trygve lie', 'trygve lie', 'j. ruben clark , jr.', 'waldheim', 'gladwyn jebb', 'ban ki-moon', 'trygve lie', 'ban ki-moon'] , trygve lie\n",
            "['trans am', 'k.i.t.t.', 'pontiac trans am', 'baywatch', 'william d els', 'knight rider k.i.t.t. night rider', 'hammett', \"i do n't care\", 'kitt', 'garthe knight'] , kitt\n",
            "['6', '6', 'four', '6 balls per over', '3', 'how far is too far ?', 'five full days', 'how many', 'the time of day', 'two'] , none\n",
            "['liverpool', 'mount pleasant', 'liverpool', 'liverpool', 'lincoln', 'liverpool', 'london', 'newcastle united', 'liverpool', 'liverpool'] , liverpool\n",
            "['dinah shore', 'dick tracy', 'dick tracy', 'b.o. plenty', 'dick tracy', 'dick tracy', 'dick tracy', 'edwar', 'anne gwynne', 'glenne headly'] , dick tracy\n",
            "['george fox', 'george fox', 'george fox', 'qu yuan', 'william penn', 'george fox', 'george fox', 'george fox', 'john woolman', 'marc mengel'] , george fox\n",
            "['forrest gump', 'the french connection', 'dead poets society', 'rocky', 'happy-go-lucky', 'angel & big joe', 'american gangster', 'the french connection', 'french connection', 'shaft'] , french connection\n",
            "['lacrosse', 'lacrosse', 'lacrosse', 'lacrosse', 'lacrosse', 'lacrosse', 'lacrosse', 'goal', 'lacrosse', 'lacrosse'] , lacrosse\n",
            "['a curler - congratulations', 'a curler', 'welcome', 'what channel', 'a club member', 'do you', 'fat and greasy citizens', 'unless you are rich', 'ready for the', 'perfect'] , curling\n",
            "['how heavy', '150', 'how many years', 'how old', '3 years', '1 million years', '750', '150', 'how accurate', '150'] , 150\n",
            "['squidoo', 'wind flower', 'tiger flower', 'pomegranate , flower mature elegance', 'honey', 'cardinal flower distinction', 'glory flower glorius beauty', 'pasque flower', 'ranunculus', 'patience flower religious superstition'] , orchis\n",
            "['peso', 'cedi', 'round to smallest', '1/100', 'centavos', 'cr $', 'smallest', 'brazilian real', 'real -lrb', '1'] , real\n",
            "['dukedom of marlborough', \"burke 's peerage\", 'peerage of scotland and peerage of ireland', 'irish peerage', 'duke of marlborough', 'scotland', 'peerage of the united kingdom', '10th duke of marlborough', 'an earl or lesser peerage', 'peerage of england'] , duke of marlborough\n",
            "['the princess diaries 2', 's.o.b.', 'the sound of music', 'disney', 'the princess diaries', 'disney', 's.o.b.', 'disney', 'love to laugh', 's.o.b.'] , sob\n",
            "['japan', 'what', 'japan', 'japan', 'japan', 'japan', 'what', 'japan', 'what', 'japan'] , tokyo\n",
            "['the most frequented street of the city', 'baptistry', 'the side', 's', 'facade', 'center', 'the front entrance is asymmetrical', 'bay window - window', 'the balcony', 'narthex'] , facade\n",
            "['fava beans', 'nipples', 'fava bean or chianti', 'nipples', 'spring lambs', 'fava beans', 'fava beans', 'what', 'beans', 'fava beans fresh fava beans'] , fava beans\n",
            "['what dads', 'teachers', 'secularism/freedom of expression', 'forced respect', 'mohammed', 'mate', 'islam', 'muhammad', 'sodomy', 'jesus'] , mohammed\n",
            "['freds', 'rock slag', 'fred flintstone', \"robert `` honest bob '\", 'fred', 'dino', 'the flintstones', 'the guy who took away a show that so many kids love , and so many parents love , too ?', 'you know who', 'fred flintstone'] , fred flintstone\n",
            "['antisthenes', 'robert angelone', 'zeno', 'pythagoras', 'lucretius', 'epicurus', 'epicurus', 'epicurus epicurus', 'anton lavey', 'epicurus'] , epicurus\n",
            "['polo', 'what', 'they have done what they like', 'winston churchill fan', 'polo', 'what the fedge', 'squidoo', 'do what you can .', 'courage', 'what was the right honourable gentleman doing'] , polo\n",
            "['iceland', 'iceland', 'iceland', 'iceland', 'iceland', 'the soviet union', 'the soviet union', 'the soviet union', 'the soviet union', 'canada'] , iceland\n",
            "['7th heaven', 'espn sports century', 'andromeda', 'the goldbergs', 'the jacksons', 'star trek : the animated series', \"hogan 's heroes\", 'twin peaks', 'punky brewster', 'a different world'] , fame\n",
            "['stephen king', 'stephen king', 'stephen king', 'stephen king', 'stephen king', 'robin hobb', 'stephen king', 'stephen king', 'angela knight', 'angela knight'] , steven king\n",
            "['what', 'snakes', 'native snakes', 'financial sporting resource', 'common usage , not official names', 'femininity', 'food', 'local government', 'a smaller population', 'predators'] , native snakes\n",
            "['ambroise vollard', 'pablo picasso', 'pablo picasso', 'pablo picasso', 'georges braque', 'el greco -lrb', 'ruiz y blasco', 'pablo picasso', 'pablo picasso', 'pablo picasso'] , pablo picasso\n",
            "['lord of the flies', 'lord of the flies', 'lord of the', 'lord of the flies', 'lord of the flies', 'lord of the flies', 'lord of the flies', 'lord of the flies', 'lord of the flies', 'pacific vortex !'] , lord of flies\n",
            "['digital radio', \"what about the bbc 's six in-house performing groups\", 'radio drama', '1890s', 'aileag', 'rose bowl', 'big ben chimes', 'big ben chimes', 'the eveready hour', 'the greenwich time signal'] , opera\n",
            "['fish tanks', 'live rock', 'what kind of lighting', 'going on vacation', 'freshwater aquatic life', 'what is the real story', 'saltwater reef tank', 'tropical , aquarium , freshwater fish', 'chattanooga nature center', 'things to keep in mind , what to consider and possible fish type selections'] , freshwater fish\n",
            "['gulf of mexico', 'gulf of mexico', 'pacific ocean', 'pacific ocean', 'gulf of mexico', 'atlantic ocean', 'mexico', 'the indian ocean', 'cuba', 'bahrain'] , gulf of mexico\n",
            "['theodore roosevelt', 'president roosevelt', 'theodore roosevelt', 'president theodore roosevelt', 'theodore roosevelt', 'president theodore roosevelt', 'theodore roosevelt', 'theodore roosevelt', 'roosevelt', 'theodore roosevelt'] , theodore roosevelt\n",
            "['urine', 'a gift of alcohol beverage', 'a gift of alcohol beverage', 'leather desk pad', 'what', 'marijuana', 'leather desk accessories', 'tomatoes', 'their future in your hands', 'a secure , well-built roof'] , skunk\n",
            "['giorgio moroder', 'john mclaughlin', 'giorgio moroder', 'giorgio moroder', 'roisin murphy', \"steve barron 's\", 'giorgio moroder', 'pp arnold', 'gior', 'streisand'] , giorgio moroder\n",
            "['penang', 'kuala lumpur', 'kuala lumpur', 'kuala lumpur', 'putrajaya', 'selangor', 'kuala lumpur', 'federated malay states', 'kuala lumpur', 'kuala lumpur'] , kuala lumpur\n",
            "['brussels belgium brussels', 'namur', 'brussels', 'brussels', 'brussels', 'brussels', 'namur', 'brussels-capital regionbrussels', 'bruges', 'belgium'] , brussels\n",
            "['binghamton', 'new york state -- bainbridge', 'new york state -- canajoharie', 'new york state -- antwerp', 'new york state -- broadalbin', 'new york state -- brewster', 'new york state -- cambridge', 'amityville', 'buffalo metropolitan area', 'new york state -- camden'] , new jersey\n",
            "['haggis hurling', 'turning', 'turning', 'piping', 'the kilt', 'caber', 'putting the shot , tossing the caber , and throwing the weight', 'tossing', 'women', \"tossing the caber '' and of co\"] , wearing kilt\n",
            "['ohio', 'ohio state - michigan', 'ohio', 'ohio state - michigan', 'ohio', 'the beautiful south', 'ohio', 'england', 'ohio', 'australian'] , ohio banks of ohio\n",
            "[\"on her majesty 's secret service\", \"on her majesty 's secret service\", 'on her majesty', \"on her majesty 's secret service\", \"on her majesty 's secret service\", \"on her majesty 's secret service\", \"on her majesty 's\", 'aff', 'licence to kill', 'the world is'] , world is not enough\n",
            "['reed', \"beggar 's banquet\", 'motorpsycho', 'epic', 'michie one', 'nicky ryan', 'rca records', 'frontiers', 'spectra records', 'brian eno'] , lou reed\n",
            "['three of cups', 'what', 'sourceryforge', \"the ability to see things from others ' viewpoints and to plan appearances successfully\", 'love', 'mind and body', 'magician & -- versatile', 'wealth of materials and abilities', 'cards', 'star & -- curiosity'] , tarot cards\n",
            "['it had limited behavior patterns', 'for sale', 'highly modified', 'exhibiting its tail bristles', 'a prey animal', \"found inside dinosaur 's stomach contents\", 'it is one of the most completely known dinosaur genera .', 'with offspring', 'phylogenetic relationships', 'it is so rare'] , it had short head with parrot like beak\n",
            "['kelly clarkson', 'carly simon', 'cops dounuts', 'various artists', 'madonna', 'dusty springfield', 'the bangles', 'david bowie', 'mr. wrong', 'the party dolls'] , bangles walk like egyptian\n",
            "['how many man-made satellites', 'the great wall of china', 'the great wall of china', 'the great wall of china', 'great wall of china', 'the great wall of china', 'the great wall of china', 'mount aso', 'grand canyon', 'the great wall'] , great wall of china\n",
            "['1843', '1843', '1875', '1843', '1875', '1874', '1915', '1860', '1843', '1843'] , 1846\n",
            "['constitutional right', 'constitutional right', 'tobacco', 'what are the different types of firearms', 'alcohol advertising', 'pipe bomb', 'tobacco acquisition disorder', '` word', 'powermaster', 'firefight'] , refreshing\n",
            "['american express', 'the diner club card', 'what is a pin', 'what to do if credit card is lost or stolen', 'what is credit card', 'an unsecured card', 'what information', 'what', 'what kind of fees', 'what is credit card'] , diners club\n",
            "['javert', 'javert', 'javert', 'javert', 'javert', 'javert', 'javert', 'javert', 'ja', 'inspector javert'] , javert\n",
            "['douglas adams', 'eoin colfer', 'douglas adams books', 'douglas adams', 'douglas adams', 'douglas adams', 'douglas adams', 'douglas adams', 'hipgnosis and ian wright', 'terry jones'] , douglas adams\n",
            "Time for whole code to run:  6244.692244529724\n"
          ],
          "name": "stdout"
        }
      ]
    },
    {
      "cell_type": "code",
      "metadata": {
        "id": "mv1Hgf79GKoS",
        "colab_type": "code",
        "outputId": "0f11b471-bb80-49ce-f895-ba7c1b0d5b35",
        "colab": {
          "base_uri": "https://localhost:8080/",
          "height": 658
        }
      },
      "source": [
        "df_pred"
      ],
      "execution_count": 0,
      "outputs": [
        {
          "output_type": "execute_result",
          "data": {
            "text/html": [
              "<div>\n",
              "<style scoped>\n",
              "    .dataframe tbody tr th:only-of-type {\n",
              "        vertical-align: middle;\n",
              "    }\n",
              "\n",
              "    .dataframe tbody tr th {\n",
              "        vertical-align: top;\n",
              "    }\n",
              "\n",
              "    .dataframe thead th {\n",
              "        text-align: right;\n",
              "    }\n",
              "</style>\n",
              "<table border=\"1\" class=\"dataframe\">\n",
              "  <thead>\n",
              "    <tr style=\"text-align: right;\">\n",
              "      <th></th>\n",
              "      <th>pred_ans_0</th>\n",
              "      <th>pred_ans_1</th>\n",
              "      <th>pred_ans_2</th>\n",
              "      <th>pred_ans_3</th>\n",
              "      <th>pred_ans_4</th>\n",
              "      <th>pred_ans_5</th>\n",
              "      <th>pred_ans_6</th>\n",
              "      <th>pred_ans_7</th>\n",
              "      <th>pred_ans_8</th>\n",
              "      <th>pred_ans_9</th>\n",
              "    </tr>\n",
              "  </thead>\n",
              "  <tbody>\n",
              "    <tr>\n",
              "      <th>0</th>\n",
              "      <td>queen</td>\n",
              "      <td>rook</td>\n",
              "      <td>the queen the queen</td>\n",
              "      <td>queen queens</td>\n",
              "      <td>yod knight</td>\n",
              "      <td>queen</td>\n",
              "      <td>queen</td>\n",
              "      <td>the queen</td>\n",
              "      <td>pawns</td>\n",
              "      <td>the king the king</td>\n",
              "    </tr>\n",
              "    <tr>\n",
              "      <th>1</th>\n",
              "      <td>09:50 am</td>\n",
              "      <td>what to do in portland if/when it rains</td>\n",
              "      <td>10:40</td>\n",
              "      <td>overnight</td>\n",
              "      <td>september</td>\n",
              "      <td>1pm</td>\n",
              "      <td>when</td>\n",
              "      <td>real speed date</td>\n",
              "      <td>do ?</td>\n",
              "      <td>10:00 a.m</td>\n",
              "    </tr>\n",
              "    <tr>\n",
              "      <th>2</th>\n",
              "      <td>john bailey</td>\n",
              "      <td>redford</td>\n",
              "      <td>george roy hill</td>\n",
              "      <td>robert redford</td>\n",
              "      <td>robert redford</td>\n",
              "      <td>sidney pollack</td>\n",
              "      <td>george roy hill</td>\n",
              "      <td>alvin sargent</td>\n",
              "      <td>lasse hallstrom</td>\n",
              "      <td>robert redford</td>\n",
              "    </tr>\n",
              "    <tr>\n",
              "      <th>3</th>\n",
              "      <td>hobgoblins 2</td>\n",
              "      <td>28 weeks later</td>\n",
              "      <td>ecks vs. sever</td>\n",
              "      <td>caddyshack ii</td>\n",
              "      <td>lsb- it -rsb</td>\n",
              "      <td>spares</td>\n",
              "      <td>plan 9 from outer space 1959 plan 9</td>\n",
              "      <td>`` what are they up to ?</td>\n",
              "      <td>five point palm exploding heart technique</td>\n",
              "      <td>the uk sun page three girls</td>\n",
              "    </tr>\n",
              "    <tr>\n",
              "      <th>4</th>\n",
              "      <td>what continent</td>\n",
              "      <td>parrot</td>\n",
              "      <td>amazon</td>\n",
              "      <td>lories</td>\n",
              "      <td>they are the largest birds in the parrot family</td>\n",
              "      <td>tyrant flycatchers</td>\n",
              "      <td>neotropical parrots</td>\n",
              "      <td>zigzag herons</td>\n",
              "      <td>colombia</td>\n",
              "      <td>it is known for being among the largest , yet ...</td>\n",
              "    </tr>\n",
              "    <tr>\n",
              "      <th>...</th>\n",
              "      <td>...</td>\n",
              "      <td>...</td>\n",
              "      <td>...</td>\n",
              "      <td>...</td>\n",
              "      <td>...</td>\n",
              "      <td>...</td>\n",
              "      <td>...</td>\n",
              "      <td>...</td>\n",
              "      <td>...</td>\n",
              "      <td>...</td>\n",
              "    </tr>\n",
              "    <tr>\n",
              "      <th>145</th>\n",
              "      <td>1843</td>\n",
              "      <td>1843</td>\n",
              "      <td>1875</td>\n",
              "      <td>1843</td>\n",
              "      <td>1875</td>\n",
              "      <td>1874</td>\n",
              "      <td>1915</td>\n",
              "      <td>1860</td>\n",
              "      <td>1843</td>\n",
              "      <td>1843</td>\n",
              "    </tr>\n",
              "    <tr>\n",
              "      <th>146</th>\n",
              "      <td>constitutional right</td>\n",
              "      <td>constitutional right</td>\n",
              "      <td>tobacco</td>\n",
              "      <td>what are the different types of firearms</td>\n",
              "      <td>alcohol advertising</td>\n",
              "      <td>pipe bomb</td>\n",
              "      <td>tobacco acquisition disorder</td>\n",
              "      <td>` word</td>\n",
              "      <td>powermaster</td>\n",
              "      <td>firefight</td>\n",
              "    </tr>\n",
              "    <tr>\n",
              "      <th>147</th>\n",
              "      <td>american express</td>\n",
              "      <td>the diner club card</td>\n",
              "      <td>what is a pin</td>\n",
              "      <td>what to do if credit card is lost or stolen</td>\n",
              "      <td>what is credit card</td>\n",
              "      <td>an unsecured card</td>\n",
              "      <td>what information</td>\n",
              "      <td>what</td>\n",
              "      <td>what kind of fees</td>\n",
              "      <td>what is credit card</td>\n",
              "    </tr>\n",
              "    <tr>\n",
              "      <th>148</th>\n",
              "      <td>javert</td>\n",
              "      <td>javert</td>\n",
              "      <td>javert</td>\n",
              "      <td>javert</td>\n",
              "      <td>javert</td>\n",
              "      <td>javert</td>\n",
              "      <td>javert</td>\n",
              "      <td>javert</td>\n",
              "      <td>ja</td>\n",
              "      <td>inspector javert</td>\n",
              "    </tr>\n",
              "    <tr>\n",
              "      <th>149</th>\n",
              "      <td>douglas adams</td>\n",
              "      <td>eoin colfer</td>\n",
              "      <td>douglas adams books</td>\n",
              "      <td>douglas adams</td>\n",
              "      <td>douglas adams</td>\n",
              "      <td>douglas adams</td>\n",
              "      <td>douglas adams</td>\n",
              "      <td>douglas adams</td>\n",
              "      <td>hipgnosis and ian wright</td>\n",
              "      <td>terry jones</td>\n",
              "    </tr>\n",
              "  </tbody>\n",
              "</table>\n",
              "<p>150 rows × 10 columns</p>\n",
              "</div>"
            ],
            "text/plain": [
              "               pred_ans_0  ...                                         pred_ans_9\n",
              "0                   queen  ...                                  the king the king\n",
              "1                09:50 am  ...                                          10:00 a.m\n",
              "2             john bailey  ...                                     robert redford\n",
              "3            hobgoblins 2  ...                        the uk sun page three girls\n",
              "4          what continent  ...  it is known for being among the largest , yet ...\n",
              "..                    ...  ...                                                ...\n",
              "145                  1843  ...                                               1843\n",
              "146  constitutional right  ...                                          firefight\n",
              "147      american express  ...                                what is credit card\n",
              "148                javert  ...                                   inspector javert\n",
              "149         douglas adams  ...                                        terry jones\n",
              "\n",
              "[150 rows x 10 columns]"
            ]
          },
          "metadata": {
            "tags": []
          },
          "execution_count": 65
        }
      ]
    },
    {
      "cell_type": "code",
      "metadata": {
        "id": "9HURNlKLNxfi",
        "colab_type": "code",
        "outputId": "eb63924e-44b8-42de-9898-cc466c6ce7ea",
        "colab": {
          "base_uri": "https://localhost:8080/",
          "height": 415
        }
      },
      "source": [
        "df_metrics"
      ],
      "execution_count": 0,
      "outputs": [
        {
          "output_type": "execute_result",
          "data": {
            "text/html": [
              "<div>\n",
              "<style scoped>\n",
              "    .dataframe tbody tr th:only-of-type {\n",
              "        vertical-align: middle;\n",
              "    }\n",
              "\n",
              "    .dataframe tbody tr th {\n",
              "        vertical-align: top;\n",
              "    }\n",
              "\n",
              "    .dataframe thead th {\n",
              "        text-align: right;\n",
              "    }\n",
              "</style>\n",
              "<table border=\"1\" class=\"dataframe\">\n",
              "  <thead>\n",
              "    <tr style=\"text-align: right;\">\n",
              "      <th></th>\n",
              "      <th>actual_ans</th>\n",
              "      <th>actual_ques</th>\n",
              "      <th>EM</th>\n",
              "      <th>precision</th>\n",
              "      <th>recall</th>\n",
              "      <th>f1</th>\n",
              "    </tr>\n",
              "  </thead>\n",
              "  <tbody>\n",
              "    <tr>\n",
              "      <th>0</th>\n",
              "      <td>queen</td>\n",
              "      <td>which is considered most powerful piece on che...</td>\n",
              "      <td>1.0</td>\n",
              "      <td>1.000000</td>\n",
              "      <td>1.0</td>\n",
              "      <td>1.000000</td>\n",
              "    </tr>\n",
              "    <tr>\n",
              "      <th>1</th>\n",
              "      <td>4</td>\n",
              "      <td>if its 400 pm in seattle washington what time ...</td>\n",
              "      <td>0.0</td>\n",
              "      <td>0.000000</td>\n",
              "      <td>0.0</td>\n",
              "      <td>0.000000</td>\n",
              "    </tr>\n",
              "    <tr>\n",
              "      <th>2</th>\n",
              "      <td>robert redford</td>\n",
              "      <td>who directed film ordinary people</td>\n",
              "      <td>1.0</td>\n",
              "      <td>1.000000</td>\n",
              "      <td>1.0</td>\n",
              "      <td>1.000000</td>\n",
              "    </tr>\n",
              "    <tr>\n",
              "      <th>3</th>\n",
              "      <td>attack of killer tomatoes</td>\n",
              "      <td>what film is generally considered worst film e...</td>\n",
              "      <td>0.0</td>\n",
              "      <td>0.000000</td>\n",
              "      <td>0.0</td>\n",
              "      <td>0.000000</td>\n",
              "    </tr>\n",
              "    <tr>\n",
              "      <th>4</th>\n",
              "      <td>parrot family</td>\n",
              "      <td>macaws are largest and most colorful species of</td>\n",
              "      <td>1.0</td>\n",
              "      <td>1.000000</td>\n",
              "      <td>1.0</td>\n",
              "      <td>0.666667</td>\n",
              "    </tr>\n",
              "    <tr>\n",
              "      <th>...</th>\n",
              "      <td>...</td>\n",
              "      <td>...</td>\n",
              "      <td>...</td>\n",
              "      <td>...</td>\n",
              "      <td>...</td>\n",
              "      <td>...</td>\n",
              "    </tr>\n",
              "    <tr>\n",
              "      <th>145</th>\n",
              "      <td>1846</td>\n",
              "      <td>in what year was first christmas card produced</td>\n",
              "      <td>0.0</td>\n",
              "      <td>0.000000</td>\n",
              "      <td>0.0</td>\n",
              "      <td>0.000000</td>\n",
              "    </tr>\n",
              "    <tr>\n",
              "      <th>146</th>\n",
              "      <td>refreshing</td>\n",
              "      <td>bureau of alcohol tobacco and firearms bans wh...</td>\n",
              "      <td>0.0</td>\n",
              "      <td>0.000000</td>\n",
              "      <td>0.0</td>\n",
              "      <td>0.000000</td>\n",
              "    </tr>\n",
              "    <tr>\n",
              "      <th>147</th>\n",
              "      <td>diners club</td>\n",
              "      <td>what was first credit card</td>\n",
              "      <td>0.0</td>\n",
              "      <td>0.333333</td>\n",
              "      <td>0.5</td>\n",
              "      <td>0.400000</td>\n",
              "    </tr>\n",
              "    <tr>\n",
              "      <th>148</th>\n",
              "      <td>javert</td>\n",
              "      <td>what is name of police inspector that is bent ...</td>\n",
              "      <td>1.0</td>\n",
              "      <td>1.000000</td>\n",
              "      <td>1.0</td>\n",
              "      <td>1.000000</td>\n",
              "    </tr>\n",
              "    <tr>\n",
              "      <th>149</th>\n",
              "      <td>douglas adams</td>\n",
              "      <td>who wrote hitchhikers guide to galaxy</td>\n",
              "      <td>1.0</td>\n",
              "      <td>1.000000</td>\n",
              "      <td>1.0</td>\n",
              "      <td>1.000000</td>\n",
              "    </tr>\n",
              "  </tbody>\n",
              "</table>\n",
              "<p>150 rows × 6 columns</p>\n",
              "</div>"
            ],
            "text/plain": [
              "                    actual_ans  ...        f1\n",
              "0                        queen  ...  1.000000\n",
              "1                            4  ...  0.000000\n",
              "2               robert redford  ...  1.000000\n",
              "3    attack of killer tomatoes  ...  0.000000\n",
              "4                parrot family  ...  0.666667\n",
              "..                         ...  ...       ...\n",
              "145                       1846  ...  0.000000\n",
              "146                 refreshing  ...  0.000000\n",
              "147                diners club  ...  0.400000\n",
              "148                     javert  ...  1.000000\n",
              "149              douglas adams  ...  1.000000\n",
              "\n",
              "[150 rows x 6 columns]"
            ]
          },
          "metadata": {
            "tags": []
          },
          "execution_count": 66
        }
      ]
    },
    {
      "cell_type": "code",
      "metadata": {
        "id": "eQk4zmOiES5C",
        "colab_type": "code",
        "outputId": "1f8cd5f0-cd00-49a0-9051-bf4b116ef81c",
        "colab": {
          "base_uri": "https://localhost:8080/",
          "height": 35
        }
      },
      "source": [
        "df_metrics['f1'].mean(), df_metrics['EM'].mean(), df_metrics['precision'].mean() , df_metrics['recall'].mean() "
      ],
      "execution_count": 0,
      "outputs": [
        {
          "output_type": "execute_result",
          "data": {
            "text/plain": [
              "(0.6930565730565734, 0.6533333333333333, 0.707063492063492, 0.7148148148148148)"
            ]
          },
          "metadata": {
            "tags": []
          },
          "execution_count": 67
        }
      ]
    },
    {
      "cell_type": "code",
      "metadata": {
        "id": "fEn36GzGLNse",
        "colab_type": "code",
        "colab": {}
      },
      "source": [
        "writePath = qasar_t_dir + \"questions/short_metric_test.txt\"\n",
        "with open(writePath, 'a') as f:\n",
        "    f.write(df_metrics.to_string(header = False, index = False))\n",
        "f.close()"
      ],
      "execution_count": 0,
      "outputs": []
    },
    {
      "cell_type": "code",
      "metadata": {
        "id": "nd-sbqkULWEF",
        "colab_type": "code",
        "colab": {}
      },
      "source": [
        "writePath = qasar_t_dir + \"questions/short_ans_pred_test.txt\"\n",
        "#pred_ans_0\tpred_ans_1\tpred_ans_2\tpred_ans_3\tpred_ans_4\tpred_ans_5\tpred_ans_6\tpred_ans_7\tpred_ans_8\tpred_ans_9\n",
        "with open(writePath, 'a') as f:\n",
        "    f.write(df_pred.to_string(header = False, index = False))\n",
        "f.close()"
      ],
      "execution_count": 0,
      "outputs": []
    },
    {
      "cell_type": "code",
      "metadata": {
        "id": "ShFGlnPdoe8o",
        "colab_type": "code",
        "colab": {}
      },
      "source": [
        ""
      ],
      "execution_count": 0,
      "outputs": []
    }
  ]
}