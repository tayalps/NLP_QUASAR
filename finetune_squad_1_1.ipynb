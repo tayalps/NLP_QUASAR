{
  "nbformat": 4,
  "nbformat_minor": 0,
  "metadata": {
    "colab": {
      "name": "finetune_squad_1.1.ipynb",
      "provenance": [],
      "collapsed_sections": [],
      "machine_shape": "hm"
    },
    "kernelspec": {
      "name": "python3",
      "display_name": "Python 3"
    },
    "accelerator": "TPU"
  },
  "cells": [
    {
      "cell_type": "code",
      "metadata": {
        "id": "Ro1grVL9J_b5",
        "colab_type": "code",
        "outputId": "e13f092a-f920-4b51-aa90-f5a22a575d05",
        "colab": {
          "base_uri": "https://localhost:8080/",
          "height": 35
        }
      },
      "source": [
        "from google.colab import drive\n",
        "drive.mount('/content/drive')"
      ],
      "execution_count": 0,
      "outputs": [
        {
          "output_type": "stream",
          "text": [
            "Drive already mounted at /content/drive; to attempt to forcibly remount, call drive.mount(\"/content/drive\", force_remount=True).\n"
          ],
          "name": "stdout"
        }
      ]
    },
    {
      "cell_type": "code",
      "metadata": {
        "id": "3MZvBkB3JkLG",
        "colab_type": "code",
        "colab": {}
      },
      "source": [
        "import pandas as pd\n",
        "import numpy as np\n",
        "import re\n",
        "import string\n",
        "from collections import Counter\n",
        "from typing import List\n",
        "import multiprocessing as mp\n",
        "from functools import partial\n",
        "import matplotlib.pyplot as plt\n",
        "%matplotlib inline"
      ],
      "execution_count": 0,
      "outputs": []
    },
    {
      "cell_type": "code",
      "metadata": {
        "id": "WZ4_zVW_KP69",
        "colab_type": "code",
        "colab": {}
      },
      "source": [
        "qasar_t_dir = \"/content/drive/My Drive/squad/\""
      ],
      "execution_count": 0,
      "outputs": []
    },
    {
      "cell_type": "code",
      "metadata": {
        "id": "lmiki3ZUbXnU",
        "colab_type": "code",
        "outputId": "215cf5f0-8a4d-4c52-a831-fd95ef68cf61",
        "colab": {
          "base_uri": "https://localhost:8080/",
          "height": 55
        }
      },
      "source": [
        "import os\n",
        "print(os.listdir(qasar_t_dir))"
      ],
      "execution_count": 0,
      "outputs": [
        {
          "output_type": "stream",
          "text": [
            "['uncased_L-12_H-768_A-12.zip', 'train-v1.1.json', 'dev-v1.1.json', 'evaluate-v1.1.py', 'run_squad.py', 'model_repo', 'modeling.py', 'optimization.py', 'tokenization.py', 'run_squad.1.py', 'run_squad.py.gdoc', '__pycache__', 'qa_datasets_converter.git', 'qa_datasets_converter', 'quasar-t_to_squad_dev_questions_out.json', 'quasar-t_to_squad_train_questions_out.json']\n"
          ],
          "name": "stdout"
        }
      ]
    },
    {
      "cell_type": "markdown",
      "metadata": {
        "id": "4kkEh27pBsj2",
        "colab_type": "text"
      },
      "source": [
        "### Create directory where the pre trained embedding will be downloaded"
      ]
    },
    {
      "cell_type": "code",
      "metadata": {
        "id": "KMzmMRTwcAwc",
        "colab_type": "code",
        "outputId": "53996ef4-fc2d-402a-8142-f670b9c4881a",
        "colab": {
          "base_uri": "https://localhost:8080/",
          "height": 35
        }
      },
      "source": [
        "%cd /content/drive/My Drive/squad"
      ],
      "execution_count": 0,
      "outputs": [
        {
          "output_type": "stream",
          "text": [
            "/content/drive/My Drive/squad\n"
          ],
          "name": "stdout"
        }
      ]
    },
    {
      "cell_type": "code",
      "metadata": {
        "id": "B_bP6tobci3N",
        "colab_type": "code",
        "outputId": "c3a92281-7a2f-4211-bc70-fb56b96eadd0",
        "colab": {
          "base_uri": "https://localhost:8080/",
          "height": 35
        }
      },
      "source": [
        "!pwd"
      ],
      "execution_count": 0,
      "outputs": [
        {
          "output_type": "stream",
          "text": [
            "/content/drive/My Drive/squad\n"
          ],
          "name": "stdout"
        }
      ]
    },
    {
      "cell_type": "markdown",
      "metadata": {
        "id": "1TZI7iBEB1K2",
        "colab_type": "text"
      },
      "source": [
        "### download the relavent files and model from official google storage location.This will be done only once. later the code can be commented out"
      ]
    },
    {
      "cell_type": "code",
      "metadata": {
        "id": "QVWLT8JAbljh",
        "colab_type": "code",
        "colab": {}
      },
      "source": [
        "#!wget https://storage.googleapis.com/bert_models/2018_10_18/uncased_L-12_H-768_A-12.zip"
      ],
      "execution_count": 0,
      "outputs": []
    },
    {
      "cell_type": "code",
      "metadata": {
        "id": "Rwd74a2sbwOD",
        "colab_type": "code",
        "colab": {}
      },
      "source": [
        "#import zipfile\n",
        "#repo = 'model_repo'\n",
        "#with zipfile.ZipFile(\"uncased_L-12_H-768_A-12.zip\",\"r\") as zip_ref:\n",
        "#    zip_ref.extractall(repo)"
      ],
      "execution_count": 0,
      "outputs": []
    },
    {
      "cell_type": "code",
      "metadata": {
        "id": "WZiilmRnd5dO",
        "colab_type": "code",
        "outputId": "1e4b4dd9-3373-45fd-fb19-ed9273c2e82e",
        "colab": {
          "base_uri": "https://localhost:8080/",
          "height": 52
        }
      },
      "source": [
        "!ls 'model_repo/uncased_L-12_H-768_A-12'"
      ],
      "execution_count": 0,
      "outputs": [
        {
          "output_type": "stream",
          "text": [
            "bert_config.json\t\t     bert_model.ckpt.index  vocab.txt\n",
            "bert_model.ckpt.data-00000-of-00001  bert_model.ckpt.meta\n"
          ],
          "name": "stdout"
        }
      ]
    },
    {
      "cell_type": "code",
      "metadata": {
        "id": "nfNincOGeINF",
        "colab_type": "code",
        "colab": {}
      },
      "source": [
        "#!wget https://raw.githubusercontent.com/google-research/bert/master/modeling.py \n",
        "#!wget https://raw.githubusercontent.com/google-research/bert/master/optimization.py \n",
        "#!wget https://raw.githubusercontent.com/google-research/bert/master/run_squad.py \n",
        "#!wget https://raw.githubusercontent.com/google-research/bert/master/tokenization.py"
      ],
      "execution_count": 0,
      "outputs": []
    },
    {
      "cell_type": "code",
      "metadata": {
        "id": "VkLsPKr9fgAB",
        "colab_type": "code",
        "outputId": "c5d99761-5bd5-44be-c689-1da9c064601e",
        "colab": {
          "base_uri": "https://localhost:8080/",
          "height": 52
        }
      },
      "source": [
        "!ls model_repo/uncased_L-12_H-768_A-12"
      ],
      "execution_count": 0,
      "outputs": [
        {
          "output_type": "stream",
          "text": [
            "bert_config.json\t\t     bert_model.ckpt.index  vocab.txt\n",
            "bert_model.ckpt.data-00000-of-00001  bert_model.ckpt.meta\n"
          ],
          "name": "stdout"
        }
      ]
    },
    {
      "cell_type": "code",
      "metadata": {
        "id": "LXCYiD0Tfk7J",
        "colab_type": "code",
        "colab": {}
      },
      "source": [
        "#!mkdir ./model_repo/output"
      ],
      "execution_count": 0,
      "outputs": []
    },
    {
      "cell_type": "code",
      "metadata": {
        "id": "f4MqfZTlPfU6",
        "colab_type": "code",
        "outputId": "95b7be0a-e706-474d-808d-cc3846cad8e9",
        "colab": {
          "base_uri": "https://localhost:8080/",
          "height": 35
        }
      },
      "source": [
        "import tensorflow\n",
        "tensorflow.__version__"
      ],
      "execution_count": 0,
      "outputs": [
        {
          "output_type": "execute_result",
          "data": {
            "text/plain": [
              "'1.15.2'"
            ]
          },
          "metadata": {
            "tags": []
          },
          "execution_count": 10
        }
      ]
    },
    {
      "cell_type": "markdown",
      "metadata": {
        "id": "WuxxYqlBCTex",
        "colab_type": "text"
      },
      "source": [
        "### Tensor flow should be less than 2.0. Please un comments these lines and un unstall version 2.0 or higher"
      ]
    },
    {
      "cell_type": "code",
      "metadata": {
        "id": "tXRFht33hse9",
        "colab_type": "code",
        "colab": {}
      },
      "source": [
        "#!pip uninstall tensorflow -y\n",
        "#!pip install tensorflow==1.15.2"
      ],
      "execution_count": 0,
      "outputs": []
    },
    {
      "cell_type": "code",
      "metadata": {
        "id": "SHbMPVYqiHvS",
        "colab_type": "code",
        "outputId": "452a637a-7cbe-4184-b6f1-325f395de984",
        "colab": {
          "base_uri": "https://localhost:8080/",
          "height": 35
        }
      },
      "source": [
        "import tensorflow\n",
        "tensorflow.__version__"
      ],
      "execution_count": 0,
      "outputs": [
        {
          "output_type": "execute_result",
          "data": {
            "text/plain": [
              "'1.15.2'"
            ]
          },
          "metadata": {
            "tags": []
          },
          "execution_count": 29
        }
      ]
    },
    {
      "cell_type": "markdown",
      "metadata": {
        "id": "hgADdH1XCXbk",
        "colab_type": "text"
      },
      "source": [
        "### Run the finetuning module on Quasar train and predict on quasar dev. Save the training model and predictions inside ./model_repo/output/\n",
        "#### Now go to model_repo/uncased_L-12_H-768_A-12 directory and open bert_config.json and manually change the model to new finetuned model. Some more details can be found at \"https://github.com/google-research/bert#squad-11\""
      ]
    },
    {
      "cell_type": "code",
      "metadata": {
        "id": "8--Yo453gSJX",
        "colab_type": "code",
        "colab": {}
      },
      "source": [
        "!python run_squad.1.py \\\n",
        "  --vocab_file=./model_repo/uncased_L-12_H-768_A-12/vocab.txt \\\n",
        "  --bert_config_file=./model_repo/uncased_L-12_H-768_A-12/bert_config.json \\\n",
        "  --init_checkpoint=./model_repo/uncased_L-12_H-768_A-12/bert_model.ckpt \\\n",
        "  --do_train=True \\\n",
        "  --train_file=quasar-t_to_squad_train_questions_out.json \\\n",
        "  --do_predict=True \\\n",
        "  --predict_file=quasar-t_to_squad_dev_questions_out.json \\\n",
        "  --train_batch_size=12 \\\n",
        "  --learning_rate=3e-5 \\\n",
        "  --num_train_epochs=2.0 \\\n",
        "  --max_seq_length=384 \\\n",
        "  --doc_stride=128 \\\n",
        "  --output_dir=./model_repo/output/"
      ],
      "execution_count": 0,
      "outputs": []
    },
    {
      "cell_type": "markdown",
      "metadata": {
        "id": "Ziwx33IGEVjC",
        "colab_type": "text"
      },
      "source": [
        "#### Predictions"
      ]
    },
    {
      "cell_type": "code",
      "metadata": {
        "id": "vawmD6DEEDDi",
        "colab_type": "code",
        "colab": {}
      },
      "source": [
        "python evaluate-v1.1.py quasar-t_to_squad_dev_questions_out.json ./squad/predictions.json"
      ],
      "execution_count": 0,
      "outputs": []
    }
  ]
}