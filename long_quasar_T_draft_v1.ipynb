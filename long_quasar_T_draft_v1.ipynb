{
  "nbformat": 4,
  "nbformat_minor": 0,
  "metadata": {
    "colab": {
      "name": "long quasar_T_draft.ipynb",
      "provenance": [],
      "collapsed_sections": [],
      "machine_shape": "hm"
    },
    "kernelspec": {
      "name": "python3",
      "display_name": "Python 3"
    },
    "accelerator": "TPU"
  },
  "cells": [
    {
      "cell_type": "code",
      "metadata": {
        "id": "Ro1grVL9J_b5",
        "colab_type": "code",
        "outputId": "8d36f626-3310-4daa-c42b-f44467c48ea0",
        "colab": {
          "base_uri": "https://localhost:8080/",
          "height": 124
        }
      },
      "source": [
        "from google.colab import drive\n",
        "drive.mount('/content/drive')"
      ],
      "execution_count": 1,
      "outputs": [
        {
          "output_type": "stream",
          "text": [
            "Go to this URL in a browser: https://accounts.google.com/o/oauth2/auth?client_id=947318989803-6bn6qk8qdgf4n4g3pfee6491hc0brc4i.apps.googleusercontent.com&redirect_uri=urn%3aietf%3awg%3aoauth%3a2.0%3aoob&response_type=code&scope=email%20https%3a%2f%2fwww.googleapis.com%2fauth%2fdocs.test%20https%3a%2f%2fwww.googleapis.com%2fauth%2fdrive%20https%3a%2f%2fwww.googleapis.com%2fauth%2fdrive.photos.readonly%20https%3a%2f%2fwww.googleapis.com%2fauth%2fpeopleapi.readonly\n",
            "\n",
            "Enter your authorization code:\n",
            "··········\n",
            "Mounted at /content/drive\n"
          ],
          "name": "stdout"
        }
      ]
    },
    {
      "cell_type": "code",
      "metadata": {
        "id": "3MZvBkB3JkLG",
        "colab_type": "code",
        "colab": {}
      },
      "source": [
        "import pandas as pd\n",
        "import numpy as np\n",
        "import re\n",
        "import string\n",
        "from collections import Counter\n",
        "from typing import List\n",
        "import multiprocessing as mp\n",
        "from functools import partial\n",
        "import matplotlib.pyplot as plt\n",
        "%matplotlib inline"
      ],
      "execution_count": 0,
      "outputs": []
    },
    {
      "cell_type": "code",
      "metadata": {
        "id": "XOxa_pQ7diQR",
        "colab_type": "code",
        "colab": {}
      },
      "source": [
        "#d = []\n",
        "#while (1):\n",
        "#  d.append(np.float64(10000000.00))"
      ],
      "execution_count": 0,
      "outputs": []
    },
    {
      "cell_type": "code",
      "metadata": {
        "id": "WZ4_zVW_KP69",
        "colab_type": "code",
        "colab": {}
      },
      "source": [
        "qasar_t_dir = \"/content/drive/My Drive/quasar/quasar-t/\""
      ],
      "execution_count": 0,
      "outputs": []
    },
    {
      "cell_type": "code",
      "metadata": {
        "id": "uX-oaAnpKnID",
        "colab_type": "code",
        "outputId": "3be25e27-cb0c-4161-e83c-a4a34fb41d77",
        "colab": {
          "base_uri": "https://localhost:8080/",
          "height": 35
        }
      },
      "source": [
        "import ast\n",
        "\n",
        "filename = qasar_t_dir+ \"questions/train_questions.json\"\n",
        "print(filename)\n",
        "\n",
        "trainQ = []\n",
        "file = open(filename, \"r\")\n",
        "for line in file:\n",
        "    dictionary = ast.literal_eval(line)\n",
        "    trainQ.append(dictionary)\n",
        "file.close()"
      ],
      "execution_count": 5,
      "outputs": [
        {
          "output_type": "stream",
          "text": [
            "/content/drive/My Drive/quasar/quasar-t/questions/train_questions.json\n"
          ],
          "name": "stdout"
        }
      ]
    },
    {
      "cell_type": "code",
      "metadata": {
        "id": "15ps1HokcBHc",
        "colab_type": "code",
        "outputId": "8c16aa20-35d5-4818-c2fc-122da9f4bff2",
        "colab": {
          "base_uri": "https://localhost:8080/",
          "height": 364
        }
      },
      "source": [
        "trainQ[0:5] "
      ],
      "execution_count": 6,
      "outputs": [
        {
          "output_type": "execute_result",
          "data": {
            "text/plain": [
              "[{'answer': '24',\n",
              "  'question': 'How many points does a backgammon board have',\n",
              "  'tags': ['1tok', 'yes-answer-long', 'yes-answer-short'],\n",
              "  'uid': 's3q8053'},\n",
              " {'answer': 'sherlock holmes',\n",
              "  'question': 'Whose cases were Empty House Copper Beeches Black Peter',\n",
              "  'tags': ['yes-answer-long', 'yes-answer-short'],\n",
              "  'uid': 's3q33199'},\n",
              " {'answer': 'sam torrance',\n",
              "  'question': 'Which Scottish Golfer Was Captain Of Europes 2002 Ryder Cup Team',\n",
              "  'tags': [],\n",
              "  'uid': 's3q33198'},\n",
              " {'answer': 'first quarter',\n",
              "  'question': 'What is a two-bit moon',\n",
              "  'tags': ['yes-answer-long', 'yes-answer-short'],\n",
              "  'uid': 's3q33194'},\n",
              " {'answer': 'nissan',\n",
              "  'question': \"The `` Maxima '' was a model of which car\",\n",
              "  'tags': ['1tok', 'yes-answer-long', 'yes-answer-short'],\n",
              "  'uid': 's3q33197'}]"
            ]
          },
          "metadata": {
            "tags": []
          },
          "execution_count": 6
        }
      ]
    },
    {
      "cell_type": "code",
      "metadata": {
        "id": "IvOazg_guCU-",
        "colab_type": "code",
        "outputId": "e432b309-965d-4b42-f1ff-61038564cd6d",
        "colab": {
          "base_uri": "https://localhost:8080/",
          "height": 35
        }
      },
      "source": [
        "filename = qasar_t_dir+ \"questions/test_questions.json\"\n",
        "print(filename)\n",
        "\n",
        "testQ = []\n",
        "file = open(filename, \"r\")\n",
        "for line in file:\n",
        "    dictionary = ast.literal_eval(line)\n",
        "    testQ.append(dictionary)\n",
        "file.close()"
      ],
      "execution_count": 7,
      "outputs": [
        {
          "output_type": "stream",
          "text": [
            "/content/drive/My Drive/quasar/quasar-t/questions/test_questions.json\n"
          ],
          "name": "stdout"
        }
      ]
    },
    {
      "cell_type": "code",
      "metadata": {
        "id": "fsoH5eCyjXdw",
        "colab_type": "code",
        "outputId": "6c64fdaa-2e04-4789-e6d0-c8a41fe17c18",
        "colab": {
          "base_uri": "https://localhost:8080/",
          "height": 364
        }
      },
      "source": [
        "testQ[0:5] "
      ],
      "execution_count": 8,
      "outputs": [
        {
          "output_type": "execute_result",
          "data": {
            "text/plain": [
              "[{'answer': 'queen',\n",
              "  'question': 'Which is considered the most powerful piece on the chess board',\n",
              "  'tags': ['1tok', 'yes-answer-long', 'yes-answer-short'],\n",
              "  'uid': 's3q17641'},\n",
              " {'answer': '4',\n",
              "  'question': 'If its 4:00 pm in Seattle Washington , what time is it in Portland Oregon',\n",
              "  'tags': ['1tok', 'yes-answer-long', 'yes-answer-short'],\n",
              "  'uid': 's3q1671'},\n",
              " {'answer': 'robert redford',\n",
              "  'question': \"Who directed the film ` Ordinary People ' ?\",\n",
              "  'tags': ['yes-answer-long', 'yes-answer-short'],\n",
              "  'uid': 's3q30552'},\n",
              " {'answer': 'attack of the killer tomatoes',\n",
              "  'question': 'What film is generally considered the worst film ever made ?',\n",
              "  'tags': [],\n",
              "  'uid': 's3q10441'},\n",
              " {'answer': 'parrot family',\n",
              "  'question': 'Macaws are the largest and most colorful species of the __________',\n",
              "  'tags': ['yes-answer-long', 'yes-answer-short'],\n",
              "  'uid': 's3q10688'}]"
            ]
          },
          "metadata": {
            "tags": []
          },
          "execution_count": 8
        }
      ]
    },
    {
      "cell_type": "code",
      "metadata": {
        "id": "8hWAhxlhY8GR",
        "colab_type": "code",
        "outputId": "8bf3e7f4-7cc2-4462-c368-035cf4200e95",
        "colab": {
          "base_uri": "https://localhost:8080/",
          "height": 35
        }
      },
      "source": [
        "print(len(testQ))"
      ],
      "execution_count": 9,
      "outputs": [
        {
          "output_type": "stream",
          "text": [
            "3000\n"
          ],
          "name": "stdout"
        }
      ]
    },
    {
      "cell_type": "code",
      "metadata": {
        "id": "AiCVlrKLupis",
        "colab_type": "code",
        "outputId": "7c61032e-86db-4d3a-f39a-f8b1ee34597b",
        "colab": {
          "base_uri": "https://localhost:8080/",
          "height": 35
        }
      },
      "source": [
        "filename = qasar_t_dir+ \"questions/dev_questions.json\"\n",
        "print(filename)\n",
        "\n",
        "devQ = []\n",
        "file = open(filename, \"r\")\n",
        "for line in file:\n",
        "    dictionary = ast.literal_eval(line)\n",
        "    devQ.append(dictionary)\n",
        "file.close()"
      ],
      "execution_count": 10,
      "outputs": [
        {
          "output_type": "stream",
          "text": [
            "/content/drive/My Drive/quasar/quasar-t/questions/dev_questions.json\n"
          ],
          "name": "stdout"
        }
      ]
    },
    {
      "cell_type": "code",
      "metadata": {
        "id": "WOs9wYkJjg6n",
        "colab_type": "code",
        "outputId": "d60d67d7-7e33-4da0-8450-e5cbf0a9902c",
        "colab": {
          "base_uri": "https://localhost:8080/",
          "height": 364
        }
      },
      "source": [
        "devQ[0:5] "
      ],
      "execution_count": 11,
      "outputs": [
        {
          "output_type": "execute_result",
          "data": {
            "text/plain": [
              "[{'answer': 'tetanus',\n",
              "  'question': 'Lockjaw is another name for which disease',\n",
              "  'tags': ['1tok', 'yes-answer-long', 'yes-answer-short'],\n",
              "  'uid': 's3q1674'},\n",
              " {'answer': 'leek',\n",
              "  'question': 'Which vegetable is a Welsh emblem ?',\n",
              "  'tags': ['1tok'],\n",
              "  'uid': 's3q18157'},\n",
              " {'answer': 'the guns of naverone',\n",
              "  'question': 'Which film won the best special effects Oscar in 1961',\n",
              "  'tags': [],\n",
              "  'uid': 's3q6589'},\n",
              " {'answer': 'sitting on the dock of a bay',\n",
              "  'question': \"What Was Otis Redding 's Biggest Hit Coming After His Death In 1967\",\n",
              "  'tags': [],\n",
              "  'uid': 's3q22477'},\n",
              " {'answer': 'king herod',\n",
              "  'question': 'Who ordered John the Baptists execution',\n",
              "  'tags': ['yes-answer-long', 'yes-answer-short'],\n",
              "  'uid': 's3q17645'}]"
            ]
          },
          "metadata": {
            "tags": []
          },
          "execution_count": 11
        }
      ]
    },
    {
      "cell_type": "code",
      "metadata": {
        "id": "upHMtIEduzw2",
        "colab_type": "code",
        "outputId": "7581491d-fc2e-4e16-f477-ef1518830e17",
        "colab": {
          "base_uri": "https://localhost:8080/",
          "height": 35
        }
      },
      "source": [
        "print(len(devQ))"
      ],
      "execution_count": 12,
      "outputs": [
        {
          "output_type": "stream",
          "text": [
            "3000\n"
          ],
          "name": "stdout"
        }
      ]
    },
    {
      "cell_type": "code",
      "metadata": {
        "id": "1Tb48duhbAFM",
        "colab_type": "code",
        "outputId": "acc6c7e2-7fe8-487b-e0a5-0b8aad8eda47",
        "colab": {
          "base_uri": "https://localhost:8080/",
          "height": 225
        }
      },
      "source": [
        "trainQ[62:65]"
      ],
      "execution_count": 13,
      "outputs": [
        {
          "output_type": "execute_result",
          "data": {
            "text/plain": [
              "[{'answer': 'eohippus',\n",
              "  'question': 'The now_extinct ancestor of the horse , __________ , had a short neck , a pug muzzle , and stood no higher than a medium_sized dog .',\n",
              "  'tags': ['1tok', 'yes-answer-long', 'yes-answer-short'],\n",
              "  'uid': 's3q12764'},\n",
              " {'answer': '2',\n",
              "  'question': \"How Is The Binary Numer ' 010 ' Expressed As A Decimal\",\n",
              "  'tags': ['1tok', 'yes-answer-long'],\n",
              "  'uid': 's3q12768'},\n",
              " {'answer': 'asteroids',\n",
              "  'question': 'What are these : Ceres , Juno , Iris , and Flora ?',\n",
              "  'tags': ['1tok', 'yes-answer-long', 'yes-answer-short'],\n",
              "  'uid': 's3q42638'}]"
            ]
          },
          "metadata": {
            "tags": []
          },
          "execution_count": 13
        }
      ]
    },
    {
      "cell_type": "code",
      "metadata": {
        "id": "DVMqJz5XbadM",
        "colab_type": "code",
        "colab": {}
      },
      "source": [
        ""
      ],
      "execution_count": 0,
      "outputs": []
    },
    {
      "cell_type": "code",
      "metadata": {
        "id": "wPkkZYKgZBDf",
        "colab_type": "code",
        "colab": {}
      },
      "source": [
        "#check the max length of the question and answer\n",
        "maxanswerlen = 1\n",
        "maxlenanswer = \"\"\n",
        "maxlenquestion = \"\"\n",
        "maxlenanswerindex = 0\n",
        "for idx, trainQdict in enumerate(trainQ):\n",
        "  answerlen = len (trainQdict['answer'].split())\n",
        "  if answerlen > maxanswerlen:\n",
        "    maxanswerlen = answerlen\n",
        "    maxlenanswer = trainQdict['answer'].split()\n",
        "    maxlenquestion = trainQdict['question'].split()\n",
        "    maxlenanswerindex = idx\n",
        "  \n",
        "\n",
        "\n"
      ],
      "execution_count": 0,
      "outputs": []
    },
    {
      "cell_type": "code",
      "metadata": {
        "id": "kRTmOEihaOvc",
        "colab_type": "code",
        "outputId": "c71dea7b-be35-455b-f382-a689fc174389",
        "colab": {
          "base_uri": "https://localhost:8080/",
          "height": 107
        }
      },
      "source": [
        "print (maxanswerlen, '\\n', maxlenanswer, '\\n', maxlenquestion, '\\n', maxlenanswerindex) "
      ],
      "execution_count": 15,
      "outputs": [
        {
          "output_type": "stream",
          "text": [
            "31 \n",
            " ['cormac', 'maccarthy,', 'the', 'gaelic', 'lord', 'of', 'blarney', 'was', 'so', 'successful', 'at', 'inventing', 'excuses', 'for', 'not', 'complying', 'with', 'the', 'demands', 'of', 'queen', 'elizabeth', 'i', 'that', 'she', 'was', 'dismissed', 'his', 'blather', 'as', \"'blarney'\"] \n",
            " ['Ireland', ':', '-', 'What', 'is', 'the', 'origin', 'of', 'the', 'word', '`', 'Blarney', \"'\", '?'] \n",
            " 34337\n"
          ],
          "name": "stdout"
        }
      ]
    },
    {
      "cell_type": "code",
      "metadata": {
        "id": "fe_ahcZRgAs8",
        "colab_type": "code",
        "colab": {}
      },
      "source": [
        "answerlenlist = []\n",
        "for trainQdict in trainQ:\n",
        "  answerlenlist.append(len (trainQdict['answer'].split()))"
      ],
      "execution_count": 0,
      "outputs": []
    },
    {
      "cell_type": "code",
      "metadata": {
        "id": "E2vWbq_QyMoa",
        "colab_type": "code",
        "outputId": "c05bfa43-1f28-4598-b938-52ef4b634e4a",
        "colab": {
          "base_uri": "https://localhost:8080/",
          "height": 265
        }
      },
      "source": [
        "plt.hist((answerlenlist))\n",
        "plt.show()"
      ],
      "execution_count": 17,
      "outputs": [
        {
          "output_type": "display_data",
          "data": {
            "image/png": "[encoded data removed]",
            "text/plain": [
              "<Figure size 432x288 with 1 Axes>"
            ]
          },
          "metadata": {
            "tags": [],
            "needs_background": "light"
          }
        }
      ]
    },
    {
      "cell_type": "code",
      "metadata": {
        "id": "c0b9NpfdzIb_",
        "colab_type": "code",
        "outputId": "f8b5437f-7b1b-4074-9845-8e530a40ed19",
        "colab": {
          "base_uri": "https://localhost:8080/",
          "height": 337
        }
      },
      "source": [
        "import seaborn as sns\n",
        "sns.boxplot(answerlenlist)"
      ],
      "execution_count": 18,
      "outputs": [
        {
          "output_type": "stream",
          "text": [
            "/usr/local/lib/python3.6/dist-packages/statsmodels/tools/_testing.py:19: FutureWarning: pandas.util.testing is deprecated. Use the functions in the public API at pandas.testing instead.\n",
            "  import pandas.util.testing as tm\n"
          ],
          "name": "stderr"
        },
        {
          "output_type": "execute_result",
          "data": {
            "text/plain": [
              "<matplotlib.axes._subplots.AxesSubplot at 0x7fbfda47ef60>"
            ]
          },
          "metadata": {
            "tags": []
          },
          "execution_count": 18
        },
        {
          "output_type": "display_data",
          "data": {
            "image/png": "[encoded data removed]",
            "text/plain": [
              "<Figure size 432x288 with 1 Axes>"
            ]
          },
          "metadata": {
            "tags": [],
            "needs_background": "light"
          }
        }
      ]
    },
    {
      "cell_type": "code",
      "metadata": {
        "id": "72BwcTOD0EIZ",
        "colab_type": "code",
        "outputId": "c2c497cb-b5b4-485c-c92c-590a0870fc29",
        "colab": {
          "base_uri": "https://localhost:8080/",
          "height": 294
        }
      },
      "source": [
        "pd.DataFrame(answerlenlist).describe()"
      ],
      "execution_count": 19,
      "outputs": [
        {
          "output_type": "execute_result",
          "data": {
            "text/html": [
              "<div>\n",
              "<style scoped>\n",
              "    .dataframe tbody tr th:only-of-type {\n",
              "        vertical-align: middle;\n",
              "    }\n",
              "\n",
              "    .dataframe tbody tr th {\n",
              "        vertical-align: top;\n",
              "    }\n",
              "\n",
              "    .dataframe thead th {\n",
              "        text-align: right;\n",
              "    }\n",
              "</style>\n",
              "<table border=\"1\" class=\"dataframe\">\n",
              "  <thead>\n",
              "    <tr style=\"text-align: right;\">\n",
              "      <th></th>\n",
              "      <th>0</th>\n",
              "    </tr>\n",
              "  </thead>\n",
              "  <tbody>\n",
              "    <tr>\n",
              "      <th>count</th>\n",
              "      <td>37012.000000</td>\n",
              "    </tr>\n",
              "    <tr>\n",
              "      <th>mean</th>\n",
              "      <td>1.844672</td>\n",
              "    </tr>\n",
              "    <tr>\n",
              "      <th>std</th>\n",
              "      <td>1.255675</td>\n",
              "    </tr>\n",
              "    <tr>\n",
              "      <th>min</th>\n",
              "      <td>1.000000</td>\n",
              "    </tr>\n",
              "    <tr>\n",
              "      <th>25%</th>\n",
              "      <td>1.000000</td>\n",
              "    </tr>\n",
              "    <tr>\n",
              "      <th>50%</th>\n",
              "      <td>1.000000</td>\n",
              "    </tr>\n",
              "    <tr>\n",
              "      <th>75%</th>\n",
              "      <td>2.000000</td>\n",
              "    </tr>\n",
              "    <tr>\n",
              "      <th>max</th>\n",
              "      <td>31.000000</td>\n",
              "    </tr>\n",
              "  </tbody>\n",
              "</table>\n",
              "</div>"
            ],
            "text/plain": [
              "                  0\n",
              "count  37012.000000\n",
              "mean       1.844672\n",
              "std        1.255675\n",
              "min        1.000000\n",
              "25%        1.000000\n",
              "50%        1.000000\n",
              "75%        2.000000\n",
              "max       31.000000"
            ]
          },
          "metadata": {
            "tags": []
          },
          "execution_count": 19
        }
      ]
    },
    {
      "cell_type": "code",
      "metadata": {
        "id": "eof2yjj6ae-n",
        "colab_type": "code",
        "outputId": "fe95c7d5-f471-4b25-ea29-1b344d60d63b",
        "colab": {
          "base_uri": "https://localhost:8080/",
          "height": 107
        }
      },
      "source": [
        "#check the max length of the question and answer\n",
        "maxquestionlen = 1\n",
        "maxlenquestion = \"\"\n",
        "maxlenquestionans = \"\"\n",
        "maxlenanswerindex = 0\n",
        "for idx, trainQdict in enumerate(trainQ):\n",
        "  questionlen = len (trainQdict['question'].split())\n",
        "  if questionlen > maxquestionlen:\n",
        "    maxquestionlen = questionlen\n",
        "    maxlenquestion = trainQdict['question'].split()\n",
        "    maxlenquestionans = trainQdict['answer'].split()\n",
        "    maxlenanswerindex = idx\n",
        "\n",
        "print (maxquestionlen, '\\n', maxlenquestion, '\\n', maxlenquestionans, '\\n', maxlenanswerindex) "
      ],
      "execution_count": 20,
      "outputs": [
        {
          "output_type": "stream",
          "text": [
            "92 \n",
            " ['As', 'of', 'December', '30', ',', '1997', ',', 'Disney', 'held', 'eight', 'of', 'the', 'top', 'ten', 'spots', 'on', 'the', 'All', 'Time', 'Movie', 'Video', 'Sales', 'Chart', '.The', 'Lion', 'King', '-LRB-', '1', '-RRB-', ',', 'Aladdin', '-LRB-', '2', '-RRB-', ',', 'Cinderella', '-LRB-', '3', '-RRB-', ',', 'Beauty', 'and', 'The', 'Beast', '-LRB-', '4', '-RRB-', ',', 'Snow', 'White', 'and', 'the', 'Seven', 'Dwarfs', '-LRB-', '5', '-RRB-', ',', 'Toy', 'Story', '-LRB-', '7', '-RRB-', ',', '101', 'Dalmatians', '-LRB-', '8', '-RRB-', ',', 'and', 'Pocahontas', '-LRB-', '10', '-RRB-', '.The', 'two', 'non_Disney', 'flicks', 'to', 'make', 'the', 'list', '_', 'Forrest', 'Gump', '-LRB-', '6', '-RRB-', ',', 'and', '__________'] \n",
            " ['jurassic', 'park'] \n",
            " 7401\n"
          ],
          "name": "stdout"
        }
      ]
    },
    {
      "cell_type": "code",
      "metadata": {
        "id": "vw6DE8jZzd3A",
        "colab_type": "code",
        "colab": {}
      },
      "source": [
        "questionlenlist = []\n",
        "for trainQdict in trainQ:\n",
        "  questionlenlist.append(len (trainQdict['question'].split()))"
      ],
      "execution_count": 0,
      "outputs": []
    },
    {
      "cell_type": "code",
      "metadata": {
        "id": "SXiAsOZhzk1H",
        "colab_type": "code",
        "outputId": "de97da7c-c9e1-4e8d-abee-9faa22366c90",
        "colab": {
          "base_uri": "https://localhost:8080/",
          "height": 265
        }
      },
      "source": [
        "plt.hist((questionlenlist))\n",
        "plt.show()"
      ],
      "execution_count": 22,
      "outputs": [
        {
          "output_type": "display_data",
          "data": {
            "image/png": "[encoded data removed]",
            "text/plain": [
              "<Figure size 432x288 with 1 Axes>"
            ]
          },
          "metadata": {
            "tags": [],
            "needs_background": "light"
          }
        }
      ]
    },
    {
      "cell_type": "code",
      "metadata": {
        "id": "N4txFjy1znua",
        "colab_type": "code",
        "outputId": "c9f2d6f4-8897-4402-aa9e-8857b804c76c",
        "colab": {
          "base_uri": "https://localhost:8080/",
          "height": 283
        }
      },
      "source": [
        "import seaborn as sns\n",
        "sns.boxplot(questionlenlist)"
      ],
      "execution_count": 23,
      "outputs": [
        {
          "output_type": "execute_result",
          "data": {
            "text/plain": [
              "<matplotlib.axes._subplots.AxesSubplot at 0x7fbfda130780>"
            ]
          },
          "metadata": {
            "tags": []
          },
          "execution_count": 23
        },
        {
          "output_type": "display_data",
          "data": {
            "image/png": "[encoded data removed]",
            "text/plain": [
              "<Figure size 432x288 with 1 Axes>"
            ]
          },
          "metadata": {
            "tags": [],
            "needs_background": "light"
          }
        }
      ]
    },
    {
      "cell_type": "code",
      "metadata": {
        "id": "SbpDK6dj1kNw",
        "colab_type": "code",
        "outputId": "b12ba428-43a2-438d-b77a-93107f3ea1cc",
        "colab": {
          "base_uri": "https://localhost:8080/",
          "height": 294
        }
      },
      "source": [
        "pd.DataFrame(questionlenlist).describe()"
      ],
      "execution_count": 24,
      "outputs": [
        {
          "output_type": "execute_result",
          "data": {
            "text/html": [
              "<div>\n",
              "<style scoped>\n",
              "    .dataframe tbody tr th:only-of-type {\n",
              "        vertical-align: middle;\n",
              "    }\n",
              "\n",
              "    .dataframe tbody tr th {\n",
              "        vertical-align: top;\n",
              "    }\n",
              "\n",
              "    .dataframe thead th {\n",
              "        text-align: right;\n",
              "    }\n",
              "</style>\n",
              "<table border=\"1\" class=\"dataframe\">\n",
              "  <thead>\n",
              "    <tr style=\"text-align: right;\">\n",
              "      <th></th>\n",
              "      <th>0</th>\n",
              "    </tr>\n",
              "  </thead>\n",
              "  <tbody>\n",
              "    <tr>\n",
              "      <th>count</th>\n",
              "      <td>37012.000000</td>\n",
              "    </tr>\n",
              "    <tr>\n",
              "      <th>mean</th>\n",
              "      <td>10.757430</td>\n",
              "    </tr>\n",
              "    <tr>\n",
              "      <th>std</th>\n",
              "      <td>4.678471</td>\n",
              "    </tr>\n",
              "    <tr>\n",
              "      <th>min</th>\n",
              "      <td>2.000000</td>\n",
              "    </tr>\n",
              "    <tr>\n",
              "      <th>25%</th>\n",
              "      <td>8.000000</td>\n",
              "    </tr>\n",
              "    <tr>\n",
              "      <th>50%</th>\n",
              "      <td>10.000000</td>\n",
              "    </tr>\n",
              "    <tr>\n",
              "      <th>75%</th>\n",
              "      <td>13.000000</td>\n",
              "    </tr>\n",
              "    <tr>\n",
              "      <th>max</th>\n",
              "      <td>92.000000</td>\n",
              "    </tr>\n",
              "  </tbody>\n",
              "</table>\n",
              "</div>"
            ],
            "text/plain": [
              "                  0\n",
              "count  37012.000000\n",
              "mean      10.757430\n",
              "std        4.678471\n",
              "min        2.000000\n",
              "25%        8.000000\n",
              "50%       10.000000\n",
              "75%       13.000000\n",
              "max       92.000000"
            ]
          },
          "metadata": {
            "tags": []
          },
          "execution_count": 24
        }
      ]
    },
    {
      "cell_type": "code",
      "metadata": {
        "id": "JEpcXn-NKth2",
        "colab_type": "code",
        "outputId": "cab47906-5983-4cb5-8d1e-81cd9b346921",
        "colab": {
          "base_uri": "https://localhost:8080/",
          "height": 765
        }
      },
      "source": [
        "filename = qasar_t_dir+ \"contexts/long/train_contexts.json\"\n",
        "print(filename)\n",
        "\n",
        "trainLC = []\n",
        "file = open(filename, \"r\")\n",
        "for line in file:\n",
        "    dictionary = ast.literal_eval(line)\n",
        "    trainLC.append(dictionary)\n",
        "\n",
        "file.close()\n",
        "trainLC[:1]"
      ],
      "execution_count": 25,
      "outputs": [
        {
          "output_type": "stream",
          "text": [
            "/content/drive/My Drive/quasar/quasar-t/contexts/long/train_contexts.json\n"
          ],
          "name": "stdout"
        },
        {
          "output_type": "execute_result",
          "data": {
            "text/plain": [
              "[{'contexts': [[5.811907,\n",
              "    'Backgammon FAQ : Different Ways of Playing Backgammon FAQ Different Ways of Playing Tables and Backgammon What is tables ? How is backgammon different from the other games of tables ? Does backgammon have official rules ? Backgammon Variants What is Nackgammon ? What is hyper-backgammon ? What is long-gammon ? What is roll-over ? What is backgammon-to-lose ? Acey-Deucey What is acey-deucey ? How do you play American acey-deucey ? How do you play European acey-deucey ? Greek Backgammon What is tavli ? How do you play portes ? How do you play plakoto ? How do you play fevga ? Other Games What is trictrac ? What is Russian backgammon ? What is French backgammon ? What is Dutch backgammon ? What is snake ? Forms of Competition What is money play ? What is match play ? What is a freeze-out match ? What is duplicate backgammon ? Table Stakes What is table stakes betting ? Why is table stakes used ? How does strategy in table stakes differ from unlimited money play ? Chouette What is a chouette ? What is a multiple-cube chouette ? When is consulting allowed ? What are extras ? Tables and Backgammon Q : What is tables ? Tables is the general term for any game played on a backgammon board . Actually , it is bit presumptuous of us to even call it a backgammon board , since backgammon is only 400 years old and some of the other games of tables are thousands of years old . Most tables games have the following features : The board consists of 24 spaces or points . Each player has 15 pieces or checkers to move around the board . The checkers are moved according to the numbers rolled on a set of dice . Usually two or three dice are rolled together . Q : How is backgammon different from the other games of tables ? There are three features that distinguish backgammon from other games : Starting position . Each player starts with 2 checkers on their respective 24-points , 5 checkers on their mid-points , 3 checkers on their 8-points , and 5 checkers on their six-points . Doubles played twice . When you roll doubles , you play each'],\n",
              "   [5.488704,\n",
              "    'Backgammon Rules - How to Play Backgammon Navigation Home Backgammon History Backgammon Rules Backgammon Etiquette Backgammon Boards Standard Boards Premium Boards Antique Boards Travel Boards Vintage Boards How To Play Backgammon Read the rules of Backgammon Backgammon is a two player game . The board consists of twenty four long and narrow triangles . These triangles are called points that alternate in colors and are arranged in four groups of six each . Two are side by side and face the other two on the far side of the board . The right most group is called the ome boardand the other uter board.The home boards share one side and the same with the outer boards . There is a thick line down the center called the arthat separates the home and outer boards . Each point is numbered starting with the innermost of the home board and moving out to the innermost of the opponent home board . So one player one point is the other twenty four point . Each player has fifteen markers of his color . These markers start in the following arrangement : two on the twenty four point , five on the thirteen point , three on the eight point , and five on the six point . Each player has two dice , a dice cup . Also included is a single doubling cube with the numbers 2 , 4 , 6 , 8 , 32 , and 64 on it . The doubling cube is to keep track of the stake of the game . The point of the game is to get all your markers onto you home board and them move them off . The first player to do so wins . To start the game each player rolls one dice to see who goes first . If the same number is rolled , they roll again until one player has a higher number . The player with the higher number moves his markers based on both dice . From here out , each player rolls two dice and moves accordingly in alternating turns . The number on the dice tells the player how many points or ipshe can move his marker . He can only move markers to lower number points bringing them closer to his home board . When moving , a marker can only land on an open point or one that d'],\n",
              "   [5.472953,\n",
              "    \"Backgammon Rules Backgammon Backgammon Home Backgammon Articles Backgammon Online Money Games History Backgammon Rules Backgammon Glossary Beginners Advanced Tips Backgammon Strategy Backgammon Variants Tournaments Equities Resources eZines Books Backgammon Software Merchandise Websites Stories World Club List Experts Blunders Expert Matches Analyzed Matches GammonEmpire Play65 Snowie World backgammon Backgammon Forum Home Backgammon Rules Backgammon Articles Play Backgammon Forum Search the site Backgammon Rules Click here for printable version | Click here to Start Playing Now Backgammon does rule ! Backgammon is an exciting game , which blends luck and skill together . A wonderful game , which has been played for many centuries and will be played for many more years all around the world . So how do you play backgammon ? What are the basic needs of Backgammon game ? And what are the main rules of this great game ? Read on to learn about backgammon rules and the game secrets and basic moves . In addition , if you are unsure of any of the terms used here on this page check out the Backgammon Dictionary that explains everything . What do you need while playing backgammon ? Few basic thing that you need before starting to play backgammon , wether online or offline , are first the willing to learn the rules of the game . In addition you should have few more elemntryin order to be able to start playing ... Players First things first . Backgammon is basically a game for two players and it 's not practical to play less or more than 2 backgammon players . the players should bring with them basic equipment of backgammon game . Backgammon Board Boards are made of a wide variety of materials and are available in many sizes . They range from inexpensive travel sets to custom made professionally crafted boards worth well over $ 1000 . Most sets fold in half like a breifcase to save space , contain the checkers , dice , and cups , and to protect the surface . Checkers Thirty checkers , typically round , 15 of one color and an\"],\n",
              "   [5.097101,\n",
              "    \"Backgammon FAQ Home Backgammon Articles Backgammon Rules FAQ Position Analysis Backgammon Reviews Forum Backgammon FAQ Q : What is backgammon ? A : Backgammon is one of the oldest games in existence , dating back some 5000 years and believed to have been developed by the ancient Egyptians . It is not a game of luck as many believe , but a strategic game of war ; in many ways as difficult to master as chess or Go . A random element -LRB- luck -RRB- is certainly involved , but a champion player also uses the laws of probability , intuition , imagination and psychology to outwit his opponent . From learning how to play backgammon and the basic rules of the game , to mastering advanced backgammon tips and tricks , there are many sites that explain in great detail how to play backgammon online . Q : Backgammon Equipment A : A Backgammon board or layout . Thirty round stones , or checkers , 15 each of two different colors , generally referred to as ` men ' . A pair of regular dice , numbered from 1 to 6 . -LRB- For convenience , two pairs of dice , one for each player , are generally used . -RRB- A dice cup , used to shake and cast the dice . -LRB- Again , it is more convenient to have two dice cups . -RRB- A doubling cube -- A six-faced die , marked with the numerals 2,4,8,16,32 & 64 . This is used to keep track of the number of units at stake in each game , as well as to mark the player who last doubled . More about Backgammon Equipment ... Q : The backgammon board A : Backgammon is an obstacle race between two armies of 15 men each , moving around a track divided into 24 dagger-like divisions known as `` points '' . The Backgammon layout is divided down the center by a partition , known as the `` bar '' into an outer and inner -LRB- or home -RRB- board or table . The side nearest you is your outer and home tables ; the side farther away is your opponents outer and home boards . The arrows indicate the direction of play . For purposes of convenience we have numbered the points in the diagram . Though the points are n\"],\n",
              "   [4.011511,\n",
              "    \"The Rules of How to Play Backgammon Back to 1on1backgammon Main Menu Backgammon Share This Add To Del.icio.us Digg This Article Backgammon articles Backgammon Rules - Learn How to Play Backgammon Backgammon is a board game that involved two players trying to move their 15 checkers across the backgammon board , according to the roll of two dice . The Goal of Backgammon The objective of backgammon is to remove all 15 checkers from the board before your opponent does . This is done by first getting all of the checkers into your home board , and then removing all of your checkers according to the dice score . This stage of taking your checkers off of the board is called the bear-off . The winner of the game , according to backgammon rules , is the player that succeeds in bearing off all of his checkers first . Here you can see the Direction of the white checkers across the board Backgammon Board Layout There are 30 checkers used in backgammon , 15 black and 15 white checkers . The checkers are moved across the backgammon board until they reach the bottom right side of the board , called the home-board . The backgammon board includes 24 points . These are the 24 triangles on which the checkers are moved on the backgammon board . The backgammon points are numbered between 1 and 24 . The bottom right of the board is numbered 1 . For your opponent however , this is his 24-point . The player 's home board is in the bottom right corner quarter of his board . The upper right side of the board is called the outer board . During the game , players move their checkers from point to point , until they reach their home-board and can take the checkers off of the board . There are two dice used in the game . Each dice has 6 sides and is numbered from 1 to 6 . The roll of the dice determines the movement of the checkers across the board points . A Backgammon board layout at the start of the game The Start of Backgammon To start the game off , the starting player is decided . In order to decide which player begins first , each of th\"],\n",
              "   [3.8883464,\n",
              "    \"Best Backgammon Opening Moves Backgammon Backgammon Home Backgammon Articles Backgammon Online Money Games History Backgammon Rules Backgammon Glossary Beginners Advanced Tips Backgammon Strategy Backgammon Variants Tournaments Equities Resources eZines Books Backgammon Software Merchandise Websites Stories World Club List Experts Blunders Expert Matches Analyzed Matches GammonEmpire Play65 Snowie World backgammon Backgammon Forum Home Backgammon Rules Backgammon Articles Play Backgammon Forum Search the site Best Backgammon Opening Moves Here are few major facts you need to know about Backgammon Opening Moves . Having studied Backgammon opening moves for many years , having had the benefit of experience , the use of computer softwares , and tremendous personal skill and intuition , the experts have virtually all agreed on the best backgammon opening moves for any possible dice combination that can be , and for any situation in the backgammon game . If you want to increase your odds of winning do not make any backgammon moves other than what the experts recommend . It 's very simple . You must memorize the best backgammon opening moves , and follow them . Also understanding the logical explaination for each backgammon move will help you greatly and it will also push you to go to the next step , knowing and understanding the experts ' recommendation on what you do on the next move ? Roll in response to backgammon opening moves if your opponent gets the opening . Of course , none of this will be really helpful unless you understand how to play the rest of the game ... But since I can not possibly explain the entire great backgammon moves and backgammon strategy with a single article , let me offer some tips for the your backgammon opening moves . Everybody knows , that there is no question what to do with 3-1 , 6-1 , 4-2 and 6-5 Dices outcomes . How to play these Backgammon opening moves has been agreed to and proven to be correct for many years of expreince , and the correct backgammon movess are right for any mat\"],\n",
              "   [3.6730273,\n",
              "    \"Backgammon rules < a href = `` http://www.backgammontips.org/zh/ '' alt = `` I / '' '' title = `` I / '' '' > Backgammon tips Motif Backgammon How to play backgammon Free backgammon download Backgammon rules Chouette rules Backgammon Tips Backgammon site review Backgammon commissions Backgammon strategy Game glossary Backgammon rules Backgammon is a simple game with deep strategic elements . It does not take long to learn to play , although obscure situations do arise which require careful interpretation of the rules . The playing time for each individual game is short , so it is often played in matches , for example the first to five points . In short , players are trying to get all of their pieces past their opponent 's pieces . This is difficult because the pieces are scattered at first , and may be blocked or captured by the opponent 's pieces . Each side of the board has a track of twelve adjacent spaces , called points and usually represented by long triangles of alternating -LRB- but meaningless -RRB- color . The points are numbered from 1 to 24 , with checkers always moving from higher-numbered points to lower-numbered points . The two players move their checkers in opposite directions , so the 1-point for one player is the 24-point for the other . Note that the board as shown can be flipped horizontally , with starting positions and direction of play likewise flipped but with no changes to the mechanics of game play . The two orientations are equally common and game boards are all designed to be played both ways . Points one to six , where the player wants to get his pieces to , are called the base . A player may not bear off any checkers unless all of his checkers are in his base . Points seven to twelve are called the outer board , points thirteen to eighteen are the opponent 's outer board , and points nineteen to twenty-four are the opponent 's base . At the start of the game , each player rolls one dice . Whoever rolls higher starts his first turn using the numbers on the already-rolled dice . In ca\"],\n",
              "   [3.4484441,\n",
              "    \"Backgammon Rules . How to play Backgammon Online games for serious players or just for fun . Improve your skills or just win money ! play now ! home -LSB- game rules -RSB- forum links cash games news contact us Online multiplayer games : gin-rummy cribbage dominoes backgammon chess checkers canasta pool 8-ball pool 9-ball RPS spades Online single player arcade and card games : Solitaire FreeCell Rush-21 Poker-Rush Lines-Collapse Pharaoh 's Treasure Mahjong Pool-Rush Aqua-Rush Darts Buckman Tri-Peaks Pyramid-13 Site search powered by FreeFind Backgammon Rules . How To Play Backgammon see also : Backgammon Internet Tournaments Play Backgammon Online . Backgammon Tournaments Set-Up Backgammon is a game for two players , played on a board consisting of twenty-four narrow triangles called points . The triangles alternate in color and are grouped into four quadrants of six triangles each . The quadrants are referred to as a player 's home board and outer board , and the opponent 's home board and outer board . The home and outer boards are separated from each other by a ridge down the center of the board called the bar . Unlike chess it does n't matter which color checkers the players use as either player has the opportunity to make the first move . To play backgammon the following equipment is used : 1 backgammon board 30 Checkers - 15 of one color and 15 of another . 2 six-sided dice 2 dice cups for rolling the dice 1 six-sided doubling cube with the numbers 2 , 4 , 8 , 16 , 32 , and 64 on the 6 faces The starting position in backgammon is as follows : Two checkers on each player 's 24-point Five checkers on each player 's 13-point Three checkers on each player 's 8-point Five checkers on each player 's 6-point Object of the Game The players must move their checkers according to the numbers shown on the dice . Backgammon is played so that you move your checkers in the direction from your opponent 's home board to your home board . As soon as all of your checkers are in your home board you c\"],\n",
              "   [3.3650503,\n",
              "    \"Special Backgammon Top Backgammon Sites Site Overall Rating Signup Bonus BG Room more ... 94.4 % $ 10 -LRB- 50 % -RRB- Play 65 more ... 93.3 % $ 20 -LRB- 100 % -RRB- Gammon Empire more ... 91.1 % $ 20 -LRB- 100 % -RRB- < a href = `` http://www.on-line-backgammon.com/zh/ '' alt = `` I / '' '' title = `` I / '' '' > Main menu On Line Backgammon What is Backgammon ? Game opening moves Backgammon sites Basic game rules Backgammon Online for Money Special Backgammon Off line backgammon Basic rules Doubling Rules Winning the game Jacoby Rule Crawford Rule Holland Rule Backgammon articles Game dictionary Play65 BGRoom Top Poker sites Special offers Newsletter Enter your e-mail to subscribe for our Special offers newsletter Special Backgammon Why is that Backgammon so special ? It is not like any other game you have faced before , oh that 's a wild comment if ever I heard one , but in the case of backgammon it 's true , backgammon has so many different elements attached to it that make it extraordinary , for example , there 's the craft of the game , it has a factor of game play which relies on your skill and ingenuity to win , plus it has a risk factor in that the dice can not predict what is going to happen when it 's your turn . Unlike Chess , where movement depends on the intellect of the players , how they plan and play their moves . In gammon strategies can not be pre ordained they have to be flexible to accommodate the variations that the dice throw at you . Aside from this there are three main features that differs back gammon ? The Starting Position Or the positioning of the pieces at the beginning of the game . Each player positions 2 checkers on the opposition?s one-point , this is the deepest or first point in a player 's home board , the point farthest from the bar and closest to being borne off ; also known as the ace-point , he then switches to the middle part of the game placing 5 pieces or stones on the mid-point , 3 pieces on the eight-point , and 5 pieces on the six-point . The game commences with 2 pi\"],\n",
              "   [3.346089,\n",
              "    \"Buy backgammon sets and backgammon boards at the Specialist Backgammon and Board Games Shop - boards3 BACK - HOME -LSB- GO TO ORDER FORM -RSB- Backgammon sets for beginners , experts and professionals . All our backgammon boards are of the highest quality , and if looked after properly a backgammon board should provide years of use . All backgammon sets come complete with 30 checkers , 2 cups , 4 dice and doubling cube . CD sets only have 30 checkers and 2 dice . Beware when you compare our backgammon boards with those sold by others . The three ranges ; Pennant Regular , Pennant Customised and Amazon all have ` printed points ' . Do not confuse these backgammon sets with printed points , with those sold on other websites , which typically have sewn points -LRB- as do our Standard Deluxe models -RRB- . Boards with sewn points have lower quality handles and locks . Most websites that sell the standard boards have poor descriptions -LRB- or none -RRB- , small pictures and prices that are ALWAYS considerably higher than our `` Price Beater '' Standard Deluxe models . Click on this image to add Backgammon Shop to your favourites , then you can find us easily once you have compared prices . Q . What is the advantage of printed points ? A. Backgammon Shop has developed the unique process of printing the points directly onto the * velour playing surface to provide the highest levels of quality for most of our low and medium priced boards . This ensures the perfect playing pleasure , which was until recently only obtainable with handmade -LRB- high priced -RRB- boards , where attention to detail , quality and come first . Printed points ensure a completely flat playing surface , this means that you no longer will catch your fingernail on or under a badly sewn point , no more skewed or cocked dice , no more unsightly broken or loose points or missing tips , gone are the days when small inquisitive kiddies fingers want to find out what is under the plastic point . The attention to quality does not stop with printed points \"],\n",
              "   [3.2822113,\n",
              "    \"Dutch Backgammon Main Page Rules Variants Web Sites Play Sites Software Articles Matches Etiquette Forum Archive Books All About Gnu Motif Plays Backgammon Glossary Search : Web This site Comments : tom@bkgm.com Backgammon Variants Dutch Backgammon A backgammon variant that has been around for quite some time is called Dutch Backgammon . Setup : Each player starts with fifteen checkers off the board . The players enter their checkers in the opponent 's home board , then bring them around the board as shown in the diagram below . Object : The object of the game is to move all of your checkers around the board to your own home table and then bear them off . The first player to bear off all of his checkers wins the game . To start : Each player rolls one die and the higher number goes first . That player then rolls both dice again to begin his first turn . Entering checkers : You enter a checker by placing it on a point in the opponent 's home board corresponding to a number rolled . For example , if you roll 6-3 , then you enter one checker on the opponent 's six-point and one checker on his three-point . Once you have entered one or more checkers , you may use subsequent rolls to move those checkers forward , to enter more checkers , or both . Movement : The roll of the dice indicates how many points , or pips , the player is to move his checkers . The following rules apply : A checker may be moved only to an open point , one that is not occupied by two or more opposing checkers . The numbers on the two dice constitute separate moves . For example , if you roll 5 and 3 , you may move one checker five spaces to an open point and another checker three spaces to an open point , or you may move the one checker a total of eight spaces to an open point , but only if the intermediate point -LRB- either three or five spaces from the starting point -RRB- is also open . Doubles are played twice . For example , a roll of 6-6 means you have four sixes to use . You must use both numbers of a roll if possible , or all four numb\"],\n",
              "   [3.2822113,\n",
              "    \"Blocking Backgammon Main Page Rules Variants Web Sites Play Sites Software Articles Matches Etiquette Forum Archive Books All About Gnu Motif Plays Backgammon Glossary Search : Web This site Comments : tom@bkgm.com Backgammon Variants The Blocking Game Blocking Backgammon is described in Nicholas Frantzis 's book , The Seven Popular Games of Backgammon . The strategy is easier than other games of backgammon , and so it is often the first game taught to children in the Middle East . Setup : Each player starts with fifteen checkers off the board . The players enter their checkers in the opponent 's home board , then bring them around the board as shown in the diagram below . Object : The object of the game is to move all of your checkers around the board to your own home table and then bear them off . The first player to bear off all of his checkers wins the game . To start : Each player rolls one die and the higher number goes first . That player then rolls both dice again to begin his first turn . Entering checkers : You enter a checker by placing it on a point in the opponent 's home board corresponding to a number rolled . For example , if you roll 6-3 , then you enter one checker on the opponent 's six-point and one checker on his three-point . You must enter all of your checker before you can begin moving forward . Owning a point : Any time you have exactly one checker on a point , you own the point and your opponent can not land or touch down on that point . Thus a sequence of six consecutive single checkers constitutes a prime which the opponent can not cross . If you have two or more checkers on a point , you no longer own the point and the opponent is free to move onto the point as he wishes . There is no hitting in this game . Movement : The roll of the dice indicates how many points , or pips , the player is to move his checkers . The following rules apply : The numbers on the two dice constitute separate moves . For example , if you roll 5 and 3 , you may move one checker five spaces to an open point a\"],\n",
              "   [3.2709644,\n",
              "    \"How to Set Up a Backgammon Board Search Board / Card Games Home Hobbies & Games Board / Card Games Email Board / Card Games Games A - Z Buying Advice Free Board / Card Games Newsletter!Sign Up Discuss in my Forum How To Set Up a Backgammon Board By Erik Arneson , About.com See More About : backgammon board game rules For casual backgammon players , it 's easy to forget how to set up the board . Follow these instructions and you 'll have it mastered in no time . Difficulty : Easy Time Required : 5 minutes Here 's How : Set the board on a level playing surface between the two players . Count the playing discs to confirm that you have the correct amount . There should be 15 each of two colors , for a total of 30 . Know your terms . The 24 triangular areas on which the discs are initially placed and across which they move are called Points . The Home Board is that half which includes both players ' home areas -LRB- this could be on your left or your right , depending which color you 're playing -RRB- . The other half is the Outer Board . The Bar separates the Home Board from the Outer Board . If you 're playing a more serious game , you might use a Doubling Cube , but it has nothing to do with initial setup . Choose which player will use which color . Place five discs of your color on the Point closest to the Bar , yet within the Home Board on your side . Your opponent should do the same on his side . Place two discs of your color on the Point farthest from the Bar , and within the Home Board on your opponent 's side . Your opponent should do the same on your side . Place three discs of your color on the second Point from the Bar , and within the Outer Board on your side . Your opponent should do the same on his side . Place five discs of your color on the Point farthest from the Bar , and within the Outer Board on your opponent 's side . Your opponent should do the same on your side . Alternatively , use a method based on a system of numbering the Points . Points are numbered for each player -LRB- from 1 to 24 -RRB-\"],\n",
              "   [3.240176,\n",
              "    \"How to Play Online Backgammon at BackgammonMasters.com , Plus Backgammon Glossary Home Getting Started How to Play Features Tournaments Real Money Contact Us FAQ About Us Promos How to Play Backgammon View our New Live Demo , a step-by-step guide to installing and using the game software ! New ! Hyperbackgammon ! How to play ... Objectives and Rules Play Tips Glossary Types of Games - Play unlimited tournament games , and up to 3 regular games simultaneously ! Tournaments The Object of the Game The object of the game is to `` bear off '' all of your checkers from the backgammon board before your opponent . Each player can prevent the other from advancing . The object of the game is the same whether you play face-to-face or online . Setting Up the Backgammon Board There are 15 checkers of each color -LRB- a checker is a backgammon piece -RRB- . You should also have four dice , and a doubling cube . The color of the dice usually matches the color of the checkers . Spaces on the backgammon board are represented by narrow triangles , and are called points . To describe the points on the backgammon board , it is common to use a numbering system . Each of the points is represented by a number ; the first point in your home board is point # 1 , and the last point , counting clockwise , is # 24 , which is in your opponent 's home board . The initial board is set up as follows : Two checkers on point # 24 , Five checkers on point # 13 , Three checkers on point # 8 , Five checkers on point # 6 . Your opponent 's checkers will be set up in a mirror image of yours . Starting the Game To decide who throws first , each player throws one die . The dice must land inside the board to the right of the bar . The player who throws the highest number goes first , using the numbers thrown to make his first move . The direction of play is counterclockwise , moving from point # 24 to point # 1 . At the opening stage of the game , the value of the game is one point -LRB- equal to the basic stake , which is stated in monetary terms ; that\"],\n",
              "   [3.2377946,\n",
              "    \"Backgammon : Online Guide to Popular Backgammon Play online backgammon ! Learn it easily ! Practice backgammon online and have an easy time learning the basic rules and tricks of this fantastic game ! -LCB- Casinos for US Players -RCB- -LCB- Francais -RCB- -LCB- Espanol -RCB- -LCB- Deutsch -RCB- Back to Home Page Site Navigator : : Online Casino Gambling > Backgammon Backgammon : Learn , Play , Enjoy and Win Thanks for entering this backgammon playing archive . What will you be able to do here ? Learn how to play backgammon . We describe the most important rules , tips and strategies that you will need when playing online backgammon . What is Backgammon ? Backgammon is described in articles , books , casinos and internet in such a hard way that people give up reading the instructions and lose the point of playing . -LRB- If you were wondering what is the point of playing backgammon ? It is to enjoy and win . -RRB- But , in simple terms , backgammon is a game played with dice where you play against and try and defeat one player sitting opposite you . The object of playing online backgammon is just as that of the regular backgammon : you have to move all your coins out of your side of the board . Backgammon for Beginners : If you are a beginner ready for action then let 's make a small review of the backgammon game ; it ca n't be easier to describe how to play the game : 2 players , 15 checkers per player , 1 board , 2 dices . To make it even easier backgammon is played like this : The 2 players have to move their checkers around the board and take them out of it . The Backgammon Board To get an idea of how the backgammon board looks like I will describe it . There are 12 long triangles -LRB- which means 24 , because there are 12 in each side -RRB- called points on each side where the player sits . These are numbered from 1 to 24 . This is the boring part in which you are supposed to know where each one of the checkers is placed but do not worry . You will get it in the first game while playing with someone that kn\"],\n",
              "   [3.2080011,\n",
              "    \"Backgammon : How to Play the Opening Rolls Backgammon Openings How to Play the Opening Rolls by Tom Keith , April 2006 Introduction A GAME OF BACKGAMMON starts when both players each roll one die and the player who rolls the higher number goes first . The winner then plays the two numbers just rolled . In the case of a tie , both dice are rethrown . That means it 's not possible to roll doubles as the first roll of a game . Here are the fifteen possible opening rolls : Click on a roll to jump forward to the commentary about that roll . Why Study Opening Rolls ? The starting position occurs every game so it is worth knowing how to handle it . Not only will you be able to make the best play every time , learning the reasons why certain plays are better than others will help you with your game overall . Spend some time studying the opening moves . As you gain experience , experiment with alternate plays of those rolls that have more than one reasonable play . And think about how you would reply to your opponent 's openings . A companion article to this one gives tips specifically geared to playing Replies to the Opening Move . Phillip Martyn -LRB- 1976 -RRB- : Decide your first play on the same principles as any other play . Your aims are the same and you think in the same way . Understanding the reasoning is the pointfar more important than merely knowing what move to make . Important Concepts Here are some basic concepts to keep in mind as you think about how to play each roll . Focus on your two major goals of the game : 1Trying to trap your opponent 's runners behind a blockade . 2Escaping your own two runners before they are trapped by your opponent . Making points is important and home-board points are particularly important . In addition to blocking , home-board points make it difficult for your opponent to reenter after he has been hit . It matters what order you make your points in . The most valuable points to close first are your five-point , four-point , and bar-point in that order . To improve your chan\"],\n",
              "   [3.1797404,\n",
              "    \"Backgammon Gambling The Name of the Game Home Portal Links Forum RSS MENU Home Up gambling news Your browser does not support inline frames or is currently configured not to display inline frames . NAVIGATION Home Up Next Backgammon Close-up of a modern backgammon set Backgammon is a board game for two players . Each player has fifteen pieces -LRB- checkers -RRB- which move between twenty-four triangles -LRB- points -RRB- according to the roll of two dice . The objective of the game is to be first to bear off , that is , to move all fifteen checkers off the board . The oldest recorded game in history , backgammon traces its roots to the ancient Mesopotamian game tabula , which appears in an epigram of Byzantine Emperor Zeno -LRB- 47681 A.D. -RRB- . Further archaeological excavations have placed the possible date of origin of backgammon to 3000 B.C. Though the gameplay is quite basicach player is trying to move his checkers to his home board and then bear them off before his opponent is able to do soackgammon incorporates strategy insofar as with each dice roll , the player must choose between multiple options for movement of the checkers . Furthermore , the doubling cube , which raises the stakes of the present game when a match consists of multiple games , and rules like the Crawford Rule and the Jacoby Rule , introduce more strategic intricacies . Experts have also developed a nomenclature to define commonly used general strategies for play such as the running game and the backgame . As with chess , backgammon has been significantly interfaced with computer technology . By 1979 , Hans Berliner 's BKG 9.8 program had defeated a world champion backgammon player , and since then neural network and other approaches have improved the playing quality of the virtual backgammon opponent . In addition , a number of other computer programs , most notably the backgammon software Snowie , have combined the capabilities of an intelligent opponent with extensive statistical analyses of individual moves and possible outcomes \"],\n",
              "   [3.1229353,\n",
              "    \"Bambooweb : Backgammon Backgammon Backgammon is a board game for two players . Each player has fifteen pieces -LRB- checkers -RRB- which move between twenty-four triangles -LRB- points -RRB- according to the roll of two dice . The objective of the game is to be first to bear off , i.e. , move all fifteen checkers off the board . -LSB- Top -RSB- History Backgammon is the oldest known recorded game in history . It is believed to have originated thousands of years BC in ancient Egypt , Sumeria , or Mesopotamia in the Persian empire -LRB- the present-day Iran , Iraq , and Syria -RRB- . The present form of backgammon was invented by Buzurgmihr in Persia . -LSB- Top -RSB- Rules Backgammon is a simple game with deep strategic elements . It does not take long to learn to play , although obscure situations do arise which require careful interpretation of the rules . The playing time for each individual game is short , so when it is not played for money it is often played in matches , for example the first to five points . Each side of the board has a track of twelve adjacent points . The tracks are imagined to be connected on one edge of the board , making a continuous chain of twenty-four points . The points are numbered from 1 to 24 , with checkers always moving from higher-numbered points to lower-numbered points . The two players move their checkers in opposite directions , so the 1-point for one player is the 24-point for the other . Some recorded games , however , keep the numbering of the points constant from the perspective of one player . Each player begins with two checkers on his 24-point , three checkers on his 8-point , and five checkers each on his 13-point and his 6-point . Points one to six are called the home board . A player may not bear off any checkers unless all of his checkers are in his home board . Points seven to twelve are called the outfield , points thirteen to eighteen the opponent 's outfield , and points nineteen to twenty-four the opponent 's home board . At the start of the game , each pla\"],\n",
              "   [3.0805256,\n",
              "    'play online backgammon play online multiplayer backgammon Backgammon is a game of luck and skill . It is played by two people with 15 checkers each on a board consisting of 24 spaces or points . The checkers are moved according to rolls of the dice . Each player tries to bring his own checkers home and bear them off before his opponent does , hitting and blocking the enemy checkers along the way . Frames-capable browser is required .'],\n",
              "   [3.0793173,\n",
              "    'Chemistry - Backgammon Periodic Table - standard table - large table Chemical Elements - by name - by symbol - by atomic number Chemical Properties Chemical Reactions Organic Chemistry Branches of Chemistry Analytical chemistry Biochemistry Computational Chemistry Electrochemistry Environmental chemistry Geochemistry Inorganic chemistry Materials science Medicinal chemistry Nuclear chemistry Organic chemistry Pharmacology Physical chemistry Polymer chemistry Supramolecular Chemistry Thermochemistry Categories : Board games Backgammon Backgammon set , 19th century Backgammon is a board game for two players . Each player has fifteen pieces -LRB- checkers -RRB- which move between twenty-four triangles -LRB- points -RRB- according to the roll of two dice . The objective of the game is to be first to bear off , i.e. , move all fifteen checkers off the board . Contents 1 History 2 Rules 2.1 Sample Game 2.2 Maximum checkers on a point 3 Backgammon as a Gambling Game 4 Computer Backgammon 5 Other games played on the same board 6 External links History Backgammon is the oldest known recorded game in history . Traditionally , it was believed to have originated in ancient Egypt , Sumeria , or Mesopotamia in the Persian empire -LRB- present-day Iran , Iraq , and Syria -RRB- . However , more recent conclusive evidence indicates that the game originated on the eastern borders of Iran , near Afghanistan . Rules Backgammon is a simple game with deep strategic elements . It does not take long to learn to play , although obscure situations do arise which require careful interpretation of the rules . The playing time for each individual game is short , so when it is not played for money it is often played in matches , for example the first to five points . Each side of the board has a track of twelve adjacent points . The tracks are imagined to be connected on one edge of the board , making a continuous chain of twenty-four points . The points are numbered from 1 to 24 , with checkers always moving from higher-numbered points to lo']],\n",
              "  'uid': 's3q8053'}]"
            ]
          },
          "metadata": {
            "tags": []
          },
          "execution_count": 25
        }
      ]
    },
    {
      "cell_type": "code",
      "metadata": {
        "id": "M5mCHdZSEtED",
        "colab_type": "code",
        "outputId": "86e635b3-eaaf-4aa1-89d2-391b4b1d1a62",
        "colab": {
          "base_uri": "https://localhost:8080/",
          "height": 35
        }
      },
      "source": [
        "print(len(trainLC))"
      ],
      "execution_count": 26,
      "outputs": [
        {
          "output_type": "stream",
          "text": [
            "37012\n"
          ],
          "name": "stdout"
        }
      ]
    },
    {
      "cell_type": "code",
      "metadata": {
        "id": "j3nCfY7PkEKG",
        "colab_type": "code",
        "outputId": "81ea9515-3ff5-4272-9df3-39a7a7354573",
        "colab": {
          "base_uri": "https://localhost:8080/",
          "height": 765
        }
      },
      "source": [
        "filename = qasar_t_dir+ \"contexts/long/test_contexts.json\"\n",
        "print(filename)\n",
        "\n",
        "testSC = []\n",
        "file = open(filename, \"r\")\n",
        "for line in file:\n",
        "    dictionary = ast.literal_eval(line)\n",
        "    testSC.append(dictionary)\n",
        "\n",
        "file.close()\n",
        "testSC[:1]"
      ],
      "execution_count": 27,
      "outputs": [
        {
          "output_type": "stream",
          "text": [
            "/content/drive/My Drive/quasar/quasar-t/contexts/long/test_contexts.json\n"
          ],
          "name": "stdout"
        },
        {
          "output_type": "execute_result",
          "data": {
            "text/plain": [
              "[{'contexts': [[6.4799542,\n",
              "    \"Chess Basics : Learn The Game of Chess | DJ Emir Mixtapes Chess Lessons Next : Tactics The Essence of Chess The Royal Game of Chess `` Every chess master was once a beginner . '' - Chernev Basics - Rules and Piece Movement For Each Chess Piece Objective Checkmate : If your opponent 's King is being attacked ergo would be captured on the next move , that 's called `` check . '' If your opponent has no way to save the King from that situation , that 's `` checkmate , '' and you 've won . Tie Games When the King is not in check but there is no legal move left , the game is tied in a stalemate . The game can also be considered a draw if the pieces enter a repetitive cycle of three identicle board positions . For instance , if you move a piece , your opponent threatens , you move back to the previous position with the same piece , and then this whole pattern repeats twice more , the game may be considered a draw . The game may also be drawn By the 50 Move rule : Hence if no pawn moves or captures are made within 50 moves the game may be claimed as a draw due to lack of progress . Movement & Play You and an opponent alternate moves . As a standard White always goes first . All pieces other than Pawns can move either forward or backward . The King : The King can move one adjacent square in any direction diagonal , vertical , or horizontal unless the move would put it in check . It will capture an enemy piece occupying the square it moves into . The King The king may move one square in any direction , including diagonally . In the diagram , the king may move to any square with a purple dot . Queen : The Queen is the most powerful piece . She can move any distance in a straight line , diagonal , vertical , or horizontal , as long as her path is clear . The Queen can not jump over any pieces . She captures a piece by occupying its square . The Queen The queen moves any number of squares horizontally , vertically , or diagonally , but it may not jump over other pieces . Rook : The Rook is second in power to the Queen in mos\"],\n",
              "   [5.923079,\n",
              "    \"Chemistry - Queen -LRB- chess -RRB- Periodic Table - standard table - large table Chemical Elements - by name - by symbol - by atomic number Chemical Properties Chemical Reactions Organic Chemistry Branches of Chemistry Analytical chemistry Biochemistry Computational Chemistry Electrochemistry Environmental chemistry Geochemistry Inorganic chemistry Materials science Medicinal chemistry Nuclear chemistry Organic chemistry Pharmacology Physical chemistry Polymer chemistry Supramolecular Chemistry Thermochemistry Categories : Chess pieces Queen -LRB- chess -RRB- The queen is the most powerful piece in the game of chess . Each player starts the game with one queen , placed in the middle of their first rank next to their king . Beginners often accidentally interchange the placement of the queen and king , thus the mnemonic `` queen on her color . '' The white queen starts on a white square , and the black queen on a black square . In algebraic notation , the white queen starts on d1 and the black queen on d8 . Queens are usually the most mobile pieces in chess . They have the combined powers of a rook and bishop . The queen can be moved in a straight line vertically , horizontally , or diagonally , any number of unoccupied squares as shown to the left , thus combining the moves of the rook and bishop . As with most pieces , the queen captures by occupying the square on which an enemy piece sits . Ordinarily the queen is slightly more powerful than a rook and a bishop , while slightly less powerful than two rooks . Because the queen is more valuable than any other piece , it is almost always disadvantageous to exchange the queen for a piece other than the enemy 's queen , unless doing so leads to a position where the king can be checkmated . The queen is at her most powerful when the board is open , when the enemy king is not well-defended , or when there are loose -LRB- i.e. undefended -RRB- pieces in the enemy camp . Because of her long range and ability to move in more than one direction , the queen is well-equippe\"],\n",
              "   [5.7827115,\n",
              "    \"Chess Pieces - Chess Sets Living Room & Decor Kitchen & Dining Bed Bath & Storage Kids Room Game Room & Gym Home Improvement Home Theater & Electronics Home Office Patio Lawn & Garden Home > Game Room & Gym > Games Bookmark Rate This Article : Currently 2.94 / 5 1 2 3 4 5 -LRB- 168 Ratings -RRB- Chess Pieces Make your move with chess pieces An ancient game of strategy and tactics , chess is exciting and fun for players of all ages . Daring moves with unique chess pieces are part of a pastime that players have enjoyed for ages . Chess was invented nearly 1,500 years ago and by 1400 AD , the Europeans were so in love with the game that they renamed the chess pieces to represent medieval times . Those chess pieces , each with their own unique abilities and uses , are detailed below . Pawns The eight chess pieces known as pawns represent laborers or serfs , who in medieval Europe were actually considered to be property of wealthy landowners . Laborers were traded like goods or used as diversions during battles in order to protect the landowner . The job of pawn chess pieces is solely to protect higher-ranking chess pieces . Knights Chess sets come with two chess pieces called knights . A medieval knight was a professional solider . In chess , the knights are ranked higher than pawns but their duty is still to protect more important chess pieces and , like the pawn , they are often sacrificed to save the other chess pieces . Rook The rook , sometimes called castle chess pieces , provide a safe refuge , just as castles in ancient times did . Bishops As chess pieces , the bishops represent the church . In medieval times , the clergy were important public figures and were protected by the rest of the citizens . Lower chess pieces keep the bishops safe . Queen During times of kingdoms the queen exerted great influence on the king and often actually held more power than he did . The game of chess mirrors ancient times in that the queen is the most powerful chess piece . King Even though the king is n't the most powerful of\"],\n",
              "   [5.48215,\n",
              "    \"Queen -LRB- chess -RRB- - Wikipedia , the free encyclopedia Queen -LRB- chess -RRB- From Wikipedia , the free encyclopedia -LRB- Redirected from Chess/Queen -RRB- Jump to : navigation , search For other uses , see Queen . This article uses algebraic notation to describe chess moves . Queen in the standard Staunton pattern The queen -LRB- , -RRB- is the most powerful piece in the game of chess . Each player starts the game with one queen , placed in the middle of their first rank next to their king . The white queen starts on a white square , and the black queen on a black square , thus the mnemonic `` queen gets her color '' or `` queen on color '' . In algebraic notation , the white queen starts on the d1 square and the black queen starts on the d8 square . In the game shatranj , an ancestor of chess , the queen was a fairly weak piece called a fers or vizier , only able to move or capture one square in a diagonal direction similar to a pawn . The modern queen 's move arose in 15th century Europe . The piece is archaically known as the minister . In Polish it is known as the ; Hetman - the name of a major historical military-political office . Contents 1 Movement 2 General remarks 2.1 Piece value 2.2 Strategy 3 History 4 See also 5 References 6 External links -LSB- edit -RSB- Movement Initial placement of the queens Possible moves of the queen are shown Chess pieces King Queen Rook Bishop Knight Pawn The queen can be moved any number of unoccupied squares in a straight line vertically , horizontally , or diagonally , thus combining the moves of the rook and bishop . The queen captures by occupying the square on which an enemy piece sits . -LSB- edit -RSB- General remarks -LSB- edit -RSB- Piece value Further information : Chess piece relative value Ordinarily the queen is slightly more powerful than a rook and a bishop together , while slightly less powerful than two rooks . It is almost always disadvantageous to exchange the queen for a piece other than the enemy 's queen . -LRB- see chess piece relative value -\"],\n",
              "   [5.4805546,\n",
              "    \"Queen -LRB- chess -RRB- - Wikipedia , the free encyclopedia Queen -LRB- chess -RRB- From Wikipedia , the free encyclopedia Jump to : navigation , search For other uses , see Queen . This article uses algebraic notation to describe chess moves . Queen in the standard Staunton pattern The queen -LRB- , -RRB- is the most powerful piece in the game of chess . Each player starts the game with one queen , placed in the middle of their first rank next to their king . The white queen starts on a white square , and the black queen on a black square , thus the mnemonic `` queen gets her color '' or `` queen on color '' . In algebraic notation , the white queen starts on the d1 square and the black queen starts on the d8 square . In the game shatranj , an ancestor of chess , the queen was a fairly weak piece called a fers or vizier , only able to move or capture one square in a diagonal direction similar to a pawn . The modern queen 's move arose in 15th century Europe . The piece is archaically known as the minister . Contents 1 Movement 2 General remarks 2.1 Piece value 2.2 Strategy 3 History 4 See also 5 References 6 External links -LSB- edit -RSB- Movement Initial placement of the queens Possible moves of the queen are shown Chess pieces King Queen Rook Bishop Knight Pawn The queen can be moved any number of unoccupied squares in a straight line vertically , horizontally , or diagonally , thus combining the moves of the rook and bishop . The queen captures by occupying the square on which an enemy piece sits . -LSB- edit -RSB- General remarks -LSB- edit -RSB- Piece value Further information : Chess piece relative value Ordinarily the queen is slightly more powerful than a rook and a bishop together , while slightly less powerful than two rooks . It is almost always disadvantageous to exchange the queen for a piece other than the enemy 's queen . -LRB- see chess piece relative value -RRB- The queen is at her most powerful when the board is open , when the enemy king is not well-defended , or when there are loose -LRB- i.\"],\n",
              "   [5.4805546,\n",
              "    \"Queen -LRB- chess -RRB- - Wikipedia , the free encyclopedia Queen -LRB- chess -RRB- From Wikipedia , the free encyclopedia Jump to : navigation , search For other uses , see Queen . This article uses algebraic notation to describe chess moves . Queen in the standard Staunton pattern The queen -LRB- U , -LSB- -RRB- is the most powerful piece in the game of chess . Each player starts the game with one queen , placed in the middle of their first rank next to their king . The white queen starts on a white square , and the black queen on a black square , thus the mnemonic `` queen gets her color '' or `` queen on color '' . In algebraic notation , the white queen starts on the d1 square and the black queen starts on the d8 square . In the game shatranj , an ancestor of chess , the queen was a fairly weak piece called a fers or vizier , only able to move or capture one square in a diagonal direction similar to a pawn . The modern queen 's move arose in 15th century Europe . The piece is archaically known as the minister . Contents 1 Movement 2 General remarks 2.1 Piece value 2.2 Strategy 3 History 4 See also 5 References 6 External links -LSB- edit -RSB- Movement Initial placement of the queens Possible moves of the queen are shown Chess pieces King Queen Rook Bishop Knight Pawn The queen can be moved any number of unoccupied squares in a straight line vertically , horizontally , or diagonally , thus combining the moves of the rook and bishop . The queen captures by occupying the square on which an enemy piece sits . -LSB- edit -RSB- General remarks -LSB- edit -RSB- Piece value Further information : Chess piece relative value Ordinarily the queen is slightly more powerful than a rook and a bishop together , while slightly less powerful than two rooks . It is almost always disadvantageous to exchange the queen for a piece other than the enemy 's queen . -LRB- see chess piece relative value -RRB- The queen is at her most powerful when the board is open , when the enemy king is not well-defended , or when there are loose \"],\n",
              "   [5.405123,\n",
              "    \"Chess strategy - Wikipedia , the free encyclopedia Chess strategy From Wikipedia , the free encyclopedia -LRB- Redirected from Chess/Strategy and Tactics -RRB- Jump to : navigation , search This article uses algebraic notation to describe chess moves . Chess strategy is concerned with the evaluation of chess positions and setting up goals and long-term tactics for future play . During the evaluation , a player must take into account the value of the pieces on the board , pawn structure , king safety , position of pieces , control of key squares and groups of squares -LRB- e.g. diagonals , open files , black or white squares -RRB- , and the possible moves the opponent will make after any move made . The most basic way to evaluate one 's position is to count the total value of pieces on both sides . The point values used for this purpose are based on experience . Usually pawns are considered to be worth one point , knights and bishops three points each , rooks five points , and queens nine points . The fighting value of the king in the endgame is approximately four points . These basic values are modified by other factors such as the position of the piece -LRB- e.g. advanced pawns are usually more valuable than those on their starting squares -RRB- , coordination between pieces -LRB- e.g. a bishop pair usually coordinates better than a bishop plus a knight -RRB- , and the type of position -LRB- knights are generally better in closed positions with many pawns , while bishops are more powerful in open positions -RRB- . Another important factor in the evaluation of chess positions is the pawn structure or pawn skeleton . Since pawns are the most immobile and least valuable of the chess pieces , the pawn structure is relatively static and largely determines the strategic nature of the position . Weaknesses in the pawn structure , such as isolated , doubled , or backward pawns and holes , once created , are usually permanent . Care must therefore be taken to avoid them unless they are compensated by another valuable ass\"],\n",
              "   [5.405123,\n",
              "    \"Chess strategy - Wikipedia , the free encyclopedia Chess strategy From Wikipedia , the free encyclopedia -LRB- Redirected from Strategy -LRB- chess -RRB- -RRB- Jump to : navigation , search This article uses algebraic notation to describe chess moves . Chess strategy is concerned with the evaluation of chess positions and setting up goals and long-term tactics for future play . During the evaluation , a player must take into account the value of the pieces on the board , pawn structure , king safety , position of pieces , control of key squares and groups of squares -LRB- e.g. diagonals , open files , black or white squares -RRB- , and the possible moves the opponent will make after any move made . The most basic way to evaluate one 's position is to count the total value of pieces on both sides . The point values used for this purpose are based on experience . Usually pawns are considered to be worth one point , knights and bishops three points each , rooks five points , and queens nine points . The fighting value of the king in the endgame is approximately four points . These basic values are modified by other factors such as the position of the piece -LRB- e.g. advanced pawns are usually more valuable than those on their starting squares -RRB- , coordination between pieces -LRB- e.g. a bishop pair usually coordinates better than a bishop plus a knight -RRB- , and the type of position -LRB- knights are generally better in closed positions with many pawns , while bishops are more powerful in open positions -RRB- . Another important factor in the evaluation of chess positions is the pawn structure or pawn skeleton . Since pawns are the most immobile and least valuable of the chess pieces , the pawn structure is relatively static and largely determines the strategic nature of the position . Weaknesses in the pawn structure , such as isolated , doubled , or backward pawns and holes , once created , are usually permanent . Care must therefore be taken to avoid them unless they are compensated by another valuable ass\"],\n",
              "   [5.403416,\n",
              "    \"Chess strategy - Wikipedia , the free encyclopedia Chess strategy From Wikipedia , the free encyclopedia Jump to : navigation , search This article uses algebraic notation to describe chess moves . Chess strategy is concerned with the evaluation of chess positions and setting up goals and long-term tactics for future play . During the evaluation , a player must take into account the value of the pieces on the board , pawn structure , king safety , position of pieces , control of key squares and groups of squares -LRB- e.g. diagonals , open files , black or white squares -RRB- , and the possible moves the opponent will make after any move made . The most basic way to evaluate one 's position is to count the total value of pieces on both sides . The point values used for this purpose are based on experience . Usually pawns are considered to be worth one point , knights and bishops three points each , rooks five points , and queens nine points . The fighting value of the king in the endgame is approximately four points . These basic values are modified by other factors such as the position of the piece -LRB- e.g. advanced pawns are usually more valuable than those on their starting squares -RRB- , coordination between pieces -LRB- e.g. a bishop pair usually coordinates better than a bishop plus a knight -RRB- , and the type of position -LRB- knights are generally better in closed positions with many pawns , while bishops are more powerful in open positions -RRB- . Another important factor in the evaluation of chess positions is the pawn structure or pawn skeleton . Since pawns are the most immobile and least valuable of the chess pieces , the pawn structure is relatively static and largely determines the strategic nature of the position . Weaknesses in the pawn structure , such as isolated , doubled , or backward pawns and holes , once created , are usually permanent . Care must therefore be taken to avoid them unless they are compensated by another valuable asset , such as the possibility to develop an attack . An \"],\n",
              "   [4.667059,\n",
              "    \"Knight -LRB- chess -RRB- - Wikipedia , the free encyclopedia Knight -LRB- chess -RRB- From Wikipedia , the free encyclopedia -LRB- Redirected from Horse -LRB- chess -RRB- -RRB- Jump to : navigation , search For other uses , see Knight -LRB- disambiguation -RRB- . This article uses algebraic notation to describe chess moves . Knight in the standard Staunton pattern The knight -LRB- -RRB- is a piece in the game of chess , representing a knight -LRB- armoured cavalry -RRB- . It is normally represented by a horse 's head , leading some to refer to it informally as a `` horse '' . Each player starts with two knights , which start on the rank closest to the player . Expressed in algebraic notation , the white knights start on b1 and g1 , while the black knights start on b8 and g8 . Contents 1 Movement 2 Value 3 Properties 4 Notation 5 See also 6 Notes 7 References -LSB- edit -RSB- Movement Location of the knights at the start of the game The black knight may move to any of eight squares -LRB- black dots -RRB- . The white knight is limited to two squares -LRB- white dots -RRB- . Chess pieces King Queen Rook Bishop Knight Pawn The knight move is unusual among chess pieces . When it moves , it can move two squares horizontally and one square vertically , or two squares vertically and one square horizontally . The complete move therefore looks like the letter ` L' . Unlike all other standard chess pieces , the knight can ` jump over ' all other pawns and pieces -LRB- of either color -RRB- to its destination square . It captures an enemy piece by moving into its square . The knight 's ability to ` jump over ' other pieces means it is at its most powerful in closed positions . The move is one of the longest-surviving moves in chess , having remained unchanged since before the seventh century AD . Because of this it also appears in most chess-related national games . The knight moves alternately to white and black squares . A knight should always be close to where the action is . Pieces are generally more powerful if placed n\"],\n",
              "   [4.667059,\n",
              "    \"Knight -LRB- chess -RRB- - Wikipedia , the free encyclopedia Knight -LRB- chess -RRB- From Wikipedia , the free encyclopedia -LRB- Redirected from Chess/Knight -RRB- Jump to : navigation , search For other uses , see Knight -LRB- disambiguation -RRB- . This article uses algebraic notation to describe chess moves . Knight in the standard Staunton pattern The knight -LRB- -RRB- is a piece in the game of chess , representing a knight -LRB- armoured cavalry -RRB- . It is normally represented by a horse 's head , leading some to refer to it informally as a `` horse '' . Each player starts with two knights , which start on the rank closest to the player . Expressed in algebraic notation , the white knights start on b1 and g1 , while the black knights start on b8 and g8 . Contents 1 Movement 2 Value 3 Properties 4 Notation 5 See also 6 Notes 7 References -LSB- edit -RSB- Movement Location of the knights at the start of the game The black knight may move to any of eight squares -LRB- black dots -RRB- . The white knight is limited to two squares -LRB- white dots -RRB- . Chess pieces King Queen Rook Bishop Knight Pawn The knight move is unusual among chess pieces . When it moves , it can move two squares horizontally and one square vertically , or two squares vertically and one square horizontally . The complete move therefore looks like the letter ` L' . Unlike all other standard chess pieces , the knight can ` jump over ' all other pawns and pieces -LRB- of either color -RRB- to its destination square . It captures an enemy piece by moving into its square . The knight 's ability to ` jump over ' other pieces means it is at its most powerful in closed positions . The move is one of the longest-surviving moves in chess , having remained unchanged since before the seventh century AD . Because of this it also appears in most chess-related national games . The knight moves alternately to white and black squares . A knight should always be close to where the action is . Pieces are generally more powerful if placed near the cen\"],\n",
              "   [4.6657414,\n",
              "    \"Knight -LRB- chess -RRB- - Wikipedia , the free encyclopedia Knight -LRB- chess -RRB- From Wikipedia , the free encyclopedia Jump to : navigation , search For other uses , see Knight -LRB- disambiguation -RRB- . This article uses algebraic notation to describe chess moves . Knight in the standard Staunton pattern The knight -LRB- -RRB- is a piece in the game of chess , representing a knight -LRB- armoured cavalry -RRB- . It is normally represented by a horse 's head , leading some to refer to it informally as a `` horse '' . Each player starts with two knights , which start on the rank closest to the player . Expressed in algebraic notation , the white knights start on b1 and g1 , while the black knights start on b8 and g8 . Contents 1 Movement 2 Value 3 Properties 4 Notation 5 See also 6 Notes 7 References -LSB- edit -RSB- Movement Location of the knights at the start of the game The black knight may move to any of eight squares -LRB- black dots -RRB- . The white knight is limited to two squares -LRB- white dots -RRB- . Chess pieces King Queen Rook Bishop Knight Pawn The knight move is unusual among chess pieces . When it moves , it can move two squares horizontally and one square vertically , or two squares vertically and one square horizontally . The complete move therefore looks like the letter ` L' . Unlike all other standard chess pieces , the knight can ` jump over ' all other pawns and pieces -LRB- of either color -RRB- to its destination square . It captures an enemy piece by moving into its square . The knight 's ability to ` jump over ' other pieces means it is at its most powerful in closed positions . The move is one of the longest-surviving moves in chess , having remained unchanged since before the seventh century AD . Because of this it also appears in most chess-related national games . The knight moves alternately to white and black squares . A knight should always be close to where the action is . Pieces are generally more powerful if placed near the center of the board , but this is particular\"],\n",
              "   [4.578676,\n",
              "    \"Chess lessons for teachers Chess Lessons for the Chess Teacher Brought to you by Chess Dominion Table of Contents The Basic Rules of Chess General Principles of Chess Strategy Tactics Illustrative Games Practice Games Tips for Teachers I . The Basic Rules of Chess Chess Party # 1 Chess Board The chess board is a battlefield of 64 light and dark squares . A light square is always on the player 's right -- White on right ! Chess Party # 2 Chess Notation Every soldier has a home Pieces - K = King N = Knight R = Rook B = Bishop Q = Queen Files-vertical up and down -LRB- a , b , c. . . h -RRB- Ranks - across -LRB- 1,2,3 ... 8 -RRB- Say the letter of the piece first followed by the file and then the corresponding rank . Ex : Ne5 Kh7 It is good to learn chess notation because : it enables students to record games for later analysis if you are giving a lecture on a demonstration board it is easier for students to say their intended ideas rather than shouting `` that piece goes over there '' or running up to show you . It is good to teach notation early and incorporate it in all subsequent lessons so students can get used to using it . Chess Party # 3 Pieces Pawn the only soldier on foot , it does n't move as fast as the others moves one or two squares on its first move and then up one square thereafter captures by moving diagonally one square when the pawn reaches the last rank it can turn into any other soldier of the same color except the king the pawn has a value of $ 1 let the kids play the Pawn Game Knight moves in the shape of the letter L - two squares in any straight line on a rank or file and then one square to any side the only soldier that can hop over other men has a value of $ 3 let the kids play Horse Races Bishop moves along the diagonals of the color it originally started on has a value of $ 3 Rook moves in straight lines - up , down , left and right has a value of $ 5 Queen can move like a rook in a straight line and like a bishop along the diagonals most powerful piece worth $ 10 King most important pie\"],\n",
              "   [4.5380025,\n",
              "    \"Intuitor Chess Instructions for Beginners Chess Instructions for Beginners Introduction The game of chess is over 1300 years old and is one of the most popular games in the world . It has received more total thought time than many great works of art and literature . Like a great work of art , chess is a paradox on many levels . It 's easy to learn but can take a lifetime to master . There are few games which can match its usefulness as a tool for developing mental abilities , yet it 's downright fun . Intuitor.com has provided these online instructions to assist beginners and help promote the outstanding game of chess . Chess is a two-person board game which simulates a battle between two opposing armies . The board has sixty-four squares of alternating colors . Each player has a set of sixteen pieces as shown below . One player will have a set of dark or black pieces and the other a light or white set . These symbolize opposing armies . 8 Pawns 2 Bishops 2 Knights 2 Rooks , or Castles 1 Queen 1 King Moving and capturing : White moves first followed by black . The players continue taking turns using only their own pieces until the game ends . A turn consists of a single act of either moving or capturing . When a piece is moved , it is relocated in the center of a different square . A player can only capture an opponent 's piece , not their own . When a chess piece is captured , it is removed from the board and replaced by the attacking piece . Unlike checkers , multiple captures are not allowed during the same move . Captures are also optional . The exception is when the king is in jeopardy and the only way to save him is to capture a threatening piece . Board Setup The playing board is the battlefield of the game . It 's traditionally oriented so that each player has a white square on the corner to his or her right . The pieces are arranged on the board as shown . Note that the queen always is placed on a square of her own color . figure 1 . Chess Board Setup Description of Pieces Pawn : The pawn is considered t\"],\n",
              "   [4.450001,\n",
              "    \"Chess - Conservapedia Chess From Conservapedia Jump to : navigation , search A typical chess set and tournament clock . Chess is a turn-based board game for two players , and is one of the most popular games in the world . The goal of the game is to place the opposing king into checkmate , that is , a position in which the king is under attack but can not escape . The game used to be treated as a status symbol of education and aristocracy and in recent times has become to be known as an elitist 's game . Modern international chess has a powerful , sweeping queen who was not a piece provided in the original game . The long reach of bishops today was also lacking at first . Maneuvers such as castling or capturing en passant have been developed within the past few hundred years . Today , chess is one of the most popular board games in the world . International competitions , including world championship events , are organized by an organization called FIDE and American competition organized by the USCF -LRB- United States Chess Federation -RRB- . The only American world champion was Bobby Fischer , although Paul Morphy of Louisiana was likely the strongest player in the world in the 1850s , before a formal world champion was determined . The current world champion is Indian Viswanathan `` Vishy '' Anand . Contents 1 Origins 2 The Board 3 Pieces 3.1 Relative Value of Pieces 3.2 Style 4 Gameplay 4.1 Initial Conditions 4.2 Movement 4.2.1 Capturing 4.2.2 Special Moves 4.3 The end of the game 4.3.1 Checkmate 4.3.2 Draw 5 Notation 5.1 For all forms of Notation 5.1.1 Pieces 5.1.2 Moves 5.2 Algebraic 5.2.1 The Board 5.2.2 Movement 5.2.3 Captures 5.3 Descriptive 6 Tactics and strategy 7 Chess Variants 8 Computer Chess 9 External links Origins Chess has its roots in India , where a game called Shaturanga was played . The earliest extant description of the game is contained in the Bhavishya Purana , which dates from A.D. 300 to A.D. 600 . Shaturanga used dice , but Hinduism bans gambling . As a result , the game of chess devel\"],\n",
              "   [4.3556604,\n",
              "    \"What are the pieces worth ? Products & Features Main Page | Shop | Rules | Ratings | Links | Download Free Program | Wall of Honor Gothic Chess Info Gothic Chess Blog Discussion Board What are the pieces worth ? Gothic Chess Software About Gothic Vortex Download A Free Copy Buy A Very Strong Version Other Gothic Chess Programs Gothic Chess Sets Standard Tournament Edition House of Staunton Boards Gothic Chess Games Replay Great Games Greatest Games as Movies Computer World Championships Live Online Archive BrainKing Archive Openings Endings Overview of Piece Values On the regular 8x8 chessboard , we are taught there are three kinds of material : pieces , pawns , and the kings . Pieces are given their value in terms of pawns . For example , most people recognize that a bishop is `` worth '' 3 pawns . We generally do not include a value for the king , since it is never traded during the course of play . We are also taught there there are two types of pieces : `` major '' and `` minor '' pieces . A major piece is one that can deliver checkmate , even if only its friendly king is on the board . Since it is possible to mate with king and rook vs. a lone king , we say that a rook is a major piece . A queen is likewise a major piece . But , since a bishop can not deliver such a checkmate , it is designated as a minor piece . The same is true of a knight : it can not mate a lone enemy king by itself . Therefore , it , too , is considered a minor piece . Now it is true that a bishop and knight can mate an enemy king if they are both on the board , but this is not what we were talking about . Before going any further , a short table of relative piece values is presented below . Please note : The data is not a `` universal truth '' of any kind , just a guideline which can be used to help you determine if you should engage in a particular trade of some kind . Gothic Chess Piece Values Piece Value Piece Value Pawn 1.00 Archbishop 6.50 Knight 2.50 Chancellor 8.25 Bishop 3.00 Queen 8.75 Rook 4.75 King Using the table Examine th\"],\n",
              "   [3.9130116,\n",
              "    \"Chess tactics - Wikipedia , the free encyclopedia Chess tactics From Wikipedia , the free encyclopedia Jump to : navigation , search This article uses algebraic notation to describe chess moves . In chess , a tactic refers to a short sequence of moves which limits the opponent 's options and may result in tangible gain . Tactics are usually contrasted to strategy , in which advantages take longer to be realized , and the opponent is less constrained in responding -LSB- 1 -RSB- . The fundamental building blocks of tactics are two-move sequences in which the first move poses a double threat . The opponent is unable to respond to both threats in one move , so the first player realizes an advantage on the second move . This includes forks , skewers , batteries , discovered attacks , x-ray attacks , undermining , overloading , deflection , and interference -LSB- 2 -RSB- . Pins also fall into this category to some extent , although it is common for a defending player to relieve neither of the two threats posed by a pin , in which case the attacking player commonly maintains the pin for a longer period of time . A pin is therefore sometimes more strategic than tactical . Often tactics of several types are conjoined in a combination . A combination , while still constraining the opponent 's responses , takes several moves to obtain an advantage , and thus is considered deeper and more spectacular than the basic tactics listed above . Chess computers are considered superhuman at tactics , but rather spotty at strategy . Computers do not think about tactics in human terms -LRB- fork , skewer , etc. -RRB- ; rather , they apply very simple rules to evaluate hundreds of thousands of sequences , the vast majority of which are spurious . Contents 1 Attacking and defending pieces 2 Discovered attack 3 Fork 4 Pin 5 Skewer 6 Pawns 7 Sacrifices 8 Zugzwang 9 Zwischenzug 10 See also 11 References 12 Further reading 13 External links -LSB- edit -RSB- Attacking and defending pieces A piece is said to attack -LRB- or threaten -RRB- an o\"],\n",
              "   [3.7561367,\n",
              "    \"Chess tactics - Wikipedia , the free encyclopedia Chess tactics From Wikipedia , the free encyclopedia -LRB- Redirected from Tactic -LRB- chess -RRB- -RRB- Jump to : navigation , search This article uses algebraic notation to describe chess moves . In chess , a tactic refers to a short sequence of moves which limits the opponent 's options and may result in tangible gain . Tactics are usually contrasted to strategy , in which advantages take longer to be realized , and the opponent is less constrained in responding -LSB- 1 -RSB- . The fundamental building blocks of tactics are two-move sequences in which the first move poses a double threat . The opponent is unable to respond to both threats in one move , so the first player realizes an advantage on the second move . This includes forks , skewers , batteries , discovered attacks , x-ray attacks , undermining , overloading , deflection , and interference -LSB- 2 -RSB- . Pins also fall into this category to some extent , although it is common for a defending player to relieve neither of the two threats posed by a pin , in which case the attacking player commonly maintains the pin for a longer period of time . A pin is therefore sometimes more strategic than tactical . Often tactics of several types are conjoined in a combination . A combination , while still constraining the opponent 's responses , takes several moves to obtain an advantage , and thus is considered deeper and more spectacular than the basic tactics listed above . Chess computers are considered superhuman at tactics , but rather poor at strategy . Computers do not think about tactics in human terms -LRB- fork , skewer , etc. -RRB- ; rather , they apply very simple rules to evaluate hundreds of thousands of sequences , the vast majority of which are spurious . Contents 1 Attacking and defending pieces 2 Discovered attack 3 Fork 4 Pin 5 Skewer 6 Pawns 7 Sacrifices 8 Zugzwang 9 Zwischenzug 10 See also 11 References 12 Further reading 13 External links -LSB- edit -RSB- Attacking and defending pieces A p\"],\n",
              "   [3.7561367,\n",
              "    \"Chess tactics - Wikipedia , the free encyclopedia Chess tactics From Wikipedia , the free encyclopedia -LRB- Redirected from Tactics -LRB- chess -RRB- -RRB- Jump to : navigation , search This article uses algebraic notation to describe chess moves . In chess , a tactic refers to a short sequence of moves which limits the opponent 's options and may result in tangible gain . Tactics are usually contrasted to strategy , in which advantages take longer to be realized , and the opponent is less constrained in responding -LSB- 1 -RSB- . The fundamental building blocks of tactics are two-move sequences in which the first move poses a double threat . The opponent is unable to respond to both threats in one move , so the first player realizes an advantage on the second move . This includes forks , skewers , batteries , discovered attacks , x-ray attacks , undermining , overloading , deflection , and interference -LSB- 2 -RSB- . Pins also fall into this category to some extent , although it is common for a defending player to relieve neither of the two threats posed by a pin , in which case the attacking player commonly maintains the pin for a longer period of time . A pin is therefore sometimes more strategic than tactical . Often tactics of several types are conjoined in a combination . A combination , while still constraining the opponent 's responses , takes several moves to obtain an advantage , and thus is considered deeper and more spectacular than the basic tactics listed above . Chess computers are considered superhuman at tactics , but rather poor at strategy . Computers do not think about tactics in human terms -LRB- fork , skewer , etc. -RRB- ; rather , they apply very simple rules to evaluate hundreds of thousands of sequences , the vast majority of which are spurious . Contents 1 Attacking and defending pieces 2 Discovered attack 3 Fork 4 Pin 5 Skewer 6 Pawns 7 Sacrifices 8 Zugzwang 9 Zwischenzug 10 See also 11 References 12 Further reading 13 External links -LSB- edit -RSB- Attacking and defending pieces A \"],\n",
              "   [3.7561367,\n",
              "    \"Chess tactics - Wikipedia , the free encyclopedia Chess tactics From Wikipedia , the free encyclopedia -LRB- Redirected from Chess tactic -RRB- Jump to : navigation , search This article uses algebraic notation to describe chess moves . In chess , a tactic refers to a short sequence of moves which limits the opponent 's options and may result in tangible gain . Tactics are usually contrasted to strategy , in which advantages take longer to be realized , and the opponent is less constrained in responding -LSB- 1 -RSB- . The fundamental building blocks of tactics are two-move sequences in which the first move poses a double threat . The opponent is unable to respond to both threats in one move , so the first player realizes an advantage on the second move . This includes forks , skewers , batteries , discovered attacks , x-ray attacks , undermining , overloading , deflection , and interference -LSB- 2 -RSB- . Pins also fall into this category to some extent , although it is common for a defending player to relieve neither of the two threats posed by a pin , in which case the attacking player commonly maintains the pin for a longer period of time . A pin is therefore sometimes more strategic than tactical . Often tactics of several types are conjoined in a combination . A combination , while still constraining the opponent 's responses , takes several moves to obtain an advantage , and thus is considered deeper and more spectacular than the basic tactics listed above . Chess computers are considered superhuman at tactics , but rather spotty at strategy . Computers do not think about tactics in human terms -LRB- fork , skewer , etc. -RRB- ; rather , they apply very simple rules to evaluate hundreds of thousands of sequences , the vast majority of which are spurious . Contents 1 Attacking and defending pieces 2 Discovered attack 3 Fork 4 Pin 5 Skewer 6 Pawns 7 Sacrifices 8 Zugzwang 9 Zwischenzug 10 See also 11 References 12 Further reading 13 External links -LSB- edit -RSB- Attacking and defending pieces A piece is sa\"]],\n",
              "  'uid': 's3q17641'}]"
            ]
          },
          "metadata": {
            "tags": []
          },
          "execution_count": 27
        }
      ]
    },
    {
      "cell_type": "code",
      "metadata": {
        "id": "pQ2Gs2-LkJuu",
        "colab_type": "code",
        "outputId": "bf0dde96-3496-48b0-8ea4-af64ffcec180",
        "colab": {
          "base_uri": "https://localhost:8080/",
          "height": 35
        }
      },
      "source": [
        "print(len(testSC))"
      ],
      "execution_count": 28,
      "outputs": [
        {
          "output_type": "stream",
          "text": [
            "3000\n"
          ],
          "name": "stdout"
        }
      ]
    },
    {
      "cell_type": "code",
      "metadata": {
        "id": "F7fcaOCfvF06",
        "colab_type": "code",
        "outputId": "c78a94b6-4e52-4ddf-91c1-cde19ee6319f",
        "colab": {
          "base_uri": "https://localhost:8080/",
          "height": 765
        }
      },
      "source": [
        "filename = qasar_t_dir+ \"contexts/long/dev_contexts.json\"\n",
        "print(filename)\n",
        "\n",
        "devSC = []\n",
        "file = open(filename, \"r\")\n",
        "for line in file:\n",
        "    dictionary = ast.literal_eval(line)\n",
        "    devSC.append(dictionary)\n",
        "\n",
        "file.close()\n",
        "devSC[:1]"
      ],
      "execution_count": 29,
      "outputs": [
        {
          "output_type": "stream",
          "text": [
            "/content/drive/My Drive/quasar/quasar-t/contexts/long/dev_contexts.json\n"
          ],
          "name": "stdout"
        },
        {
          "output_type": "execute_result",
          "data": {
            "text/plain": [
              "[{'contexts': [[5.3229537,\n",
              "    \"Tripedia Information - Drugs and Treatments - MedHelp Home Forums Health Topics Doctors People My MedHelp Login | Sign Up Tripedia Email this Email This Page To A Friend Close Your Name : Your Email : Friend 's Email : Message : Enter the code shown : Generic Name : diphtheria/pertussis , acellular/tetanus Other Brand Names : Acel-Imune , Certiva , Daptacel , Infanrix , diphtheria/pertussis , acellular/tetanus What is diphtheria , tetanus , and pertussis -LRB- DTaP -RRB- vaccines ? Diphtheria , tetanus , and pertussis are serious diseases caused by bacteria . Diphtheria causes a thick coating in the nose , throat , and airway . It can lead to breathing problems , paralysis , heart failure , and even death . Tetanus -LRB- lockjaw -RRB- causes painful tightening of the muscles , usually all over the body . It can lead to `` locking '' of the jaw so the victim can not open his mouth or swallow . Tetanus leads to death in about 1 out of 10 cases . Pertussis -LRB- whooping cough -RRB- causes coughing so severe that it is hard for infants to eat , drink , or breathe . These spells can last for weeks . It can lead to pneumonia , seizures -LRB- convulsions -RRB- , brain damage , and death . Diphtheria and pertussis are spread from person to person . Tetanus enters the body through cuts or wounds . Vaccines for these diseases expose the individual to a small amount of the bacteria , helping the body develop immunity to the disease . Diphtheria , tetanus , and pertussis vaccine -LRB- DTaP -RRB- can help prevent these diseases . Most children who are vaccinated with DTaP will be protected throughout childhood . What should I discuss with my healthcare provider before taking diphtheria , tetanus , and pertussis -LRB- DTaP -RRB- vaccines ? Any child who had a life-threatening allergic reaction after a dose of DTaP should not receive another dose . Any child who has had encephalitis -LRB- brain swelling -RRB- or a brain or nervous system disease within 7 days after a dose of DTaP should not receive another dose . Before receiv\"],\n",
              "   [5.3229537,\n",
              "    \"Acel-Imune Information - Drugs and Treatments - MedHelp Home Forums Health Topics Doctors People My MedHelp Login | Sign Up Acel-Imune Email this Email This Page To A Friend Close Your Name : Your Email : Friend 's Email : Message : Enter the code shown : Generic Name : diphtheria/pertussis , acellular/tetanus Other Brand Names : Certiva , Daptacel , Infanrix , Tripedia , diphtheria/pertussis , acellular/tetanus What is diphtheria , tetanus , and pertussis -LRB- DTaP -RRB- vaccines ? Diphtheria , tetanus , and pertussis are serious diseases caused by bacteria . Diphtheria causes a thick coating in the nose , throat , and airway . It can lead to breathing problems , paralysis , heart failure , and even death . Tetanus -LRB- lockjaw -RRB- causes painful tightening of the muscles , usually all over the body . It can lead to `` locking '' of the jaw so the victim can not open his mouth or swallow . Tetanus leads to death in about 1 out of 10 cases . Pertussis -LRB- whooping cough -RRB- causes coughing so severe that it is hard for infants to eat , drink , or breathe . These spells can last for weeks . It can lead to pneumonia , seizures -LRB- convulsions -RRB- , brain damage , and death . Diphtheria and pertussis are spread from person to person . Tetanus enters the body through cuts or wounds . Vaccines for these diseases expose the individual to a small amount of the bacteria , helping the body develop immunity to the disease . Diphtheria , tetanus , and pertussis vaccine -LRB- DTaP -RRB- can help prevent these diseases . Most children who are vaccinated with DTaP will be protected throughout childhood . What should I discuss with my healthcare provider before taking diphtheria , tetanus , and pertussis -LRB- DTaP -RRB- vaccines ? Any child who had a life-threatening allergic reaction after a dose of DTaP should not receive another dose . Any child who has had encephalitis -LRB- brain swelling -RRB- or a brain or nervous system disease within 7 days after a dose of DTaP should not receive another dose . Before rece\"],\n",
              "   [4.139742,\n",
              "    'DHPE Home Tetanus Tetanus -LSB- TET-nus -RSB- is a condition that affects the nervous system and causes painful , uncontrolled muscle spasms . People get tetanus when spores of the tetanus bacteria enter the body through an open wound and produce a powerful nerve poison . Tetanus spores are found throughout the environment , usually in soil , dust , and animal waste . Tetanus is preventable through immunization . Because of widespread use of tetanus vaccine , the condition is now rare . What is tetanus ? Tetanus is a condition that affects the nervous system and causes painful , uncontrolled muscle spasms . Because of widespread immunization , tetanus is now rare . Another name for tetanus is lockjaw . What is the infectious agent that causes tetanus ? Tetanus is caused by a toxin -LRB- poison -RRB- produced by spores of the bacterium Clostridium tetani . Spores are hardy forms of the bacteria that can survive in the environment in an inactive state for a long time . Where is tetanus found ? Tetanus occurs worldwide . Tetanus spores are found throughout the environment , usually in soil , dust , and animal waste . How do people get tetanus ? Tetanus spores can enter the body through a wound that is contaminated with soil , dust , or animal waste . Spores can get into the body through even a tiny pinprick or scratch , but they usually enter through deep puncture wounds or cuts , like those made by nails or knives . Tetanus spores can also get into the body when skin is damaged by burns or by injecting contaminated street drugs . Once the spores enter a wound , they produce a powerful nerve poison that spreads through the body and causes painful symptoms . What are the signs and symptoms of tetanus ? The first signs of tetanus infection are usually a headache and spasms or cramping of the jaw muscles -LRB- lockjaw -RRB- . As the poison spreads , it progressively attacks more groups of muscles , causing spasms in the neck , arms , legs , and stomach , and sometimes violent convulsions -LRB- seizures -RRB- . How soon'],\n",
              "   [4.139742,\n",
              "    'Tetanus Tetanus Tetanus -LSB- TET-nus -RSB- is a condition that affects the nervous system and causes painful , uncontrolled muscle spasms . People get tetanus when spores of the tetanus bacteria enter the body through an open wound and produce a powerful nerve poison . Tetanus spores are found throughout the environment , usually in soil , dust , and animal waste . Tetanus is preventable through immunization . Because of widespread use of tetanus vaccine , the condition is now rare . What is tetanus ? Tetanus is a condition that affects the nervous system and causes painful , uncontrolled muscle spasms . Because of widespread immunization , tetanus is now rare . Another name for tetanus is lockjaw . What is the infectious agent that causes tetanus ? Tetanus is caused by a toxin -LRB- poison -RRB- produced by spores of the bacterium Clostridium tetani . Spores are hardy forms of the bacteria that can survive in the environment in an inactive state for a long time . Where is tetanus found ? Tetanus occurs worldwide . Tetanus spores are found throughout the environment , usually in soil , dust , and animal waste . How do people get tetanus ? Tetanus spores can enter the body through a wound that is contaminated with soil , dust , or animal waste . Spores can get into the body through even a tiny pinprick or scratch , but they usually enter through deep puncture wounds or cuts , like those made by nails or knives . Tetanus spores can also get into the body when skin is damaged by burns or by injecting contaminated street drugs . Once the spores enter a wound , they produce a powerful nerve poison that spreads through the body and causes painful symptoms . What are the signs and symptoms of tetanus ? The first signs of tetanus infection are usually a headache and spasms or cramping of the jaw muscles -LRB- lockjaw -RRB- . As the poison spreads , it progressively attacks more groups of muscles , causing spasms in the neck , arms , legs , and stomach , and sometimes violent convulsions -LRB- seizures -RRB- . How soon a'],\n",
              "   [3.8809137,\n",
              "    \"Tetanus KidsHealth > Parents > Infections > Bacterial & Viral Infections > Tetanus Tetanus , also known as lockjaw , is a serious but preventable disease that affects the body 's muscles and nerves . It typically arises from a skin wound that becomes contaminated by a bacterium called Clostridium tetani , which is often found in soil . Once the bacteria are in the body , they produce a neurotoxin -LRB- a protein that acts as a poison to the body 's nervous system -RRB- known as tetanospasmin that causes muscle spasms . The toxin can travel throughout the body via the bloodstream and lymph system . As it circulates more widely , the toxin interferes with the normal activity of nerves throughout the body , leading to generalized muscle spasms . Without treatment , tetanus can be fatal . In the United States , most cases of tetanus follow a cut or deep puncture injury , such as a wound caused by stepping on a nail . Sometimes the injury is so small the person never even sees a doctor . Injuries that involve dead skin -LRB- such as burns , frostbite , gangrene , or crush injuries -RRB- are more likely to cause tetanus . Wounds contaminated with soil , saliva , or feces -- especially if not properly cleaned -- and skin punctures from nonsterile needles -LRB- such as with drug use or self-performed tattooing or body piercing -RRB- are also at increased risk . Another form of tetanus , neonatal tetanus , occurs in newborns who are delivered in unsanitary conditions , especially if the umbilical cord stump becomes contaminated . Prior to immunizations , neonatal tetanus was much more common in the United States . Now , routine immunizations for tetanus produce antibodies that mothers pass to their unborn babies . These maternal antibodies and sanitary cord-care techniques have made newborn tetanus very rare in developed countries . In fact , tetanus in general is rare in the United States and other nations with tetanus vaccination programs -- fewer than 50 cases of tetanus are reported each year in the United States . Ho\"],\n",
              "   [3.1800146,\n",
              "    \"Tetanus-Diphtheria Toxoids , Adult Information - Drugs and Treatments - MedHelp Home Forums Health Topics Doctors People My MedHelp Login | Sign Up Tetanus-Diphtheria Toxoids , Adult Email this Email This Page To A Friend Close Your Name : Your Email : Friend 's Email : Message : Enter the code shown : Generic Name : tetanus-diphtheria toxoids Other Brand Names : Decavac , tetanus-diphtheria toxoids What is tetanus and diphtheria toxoids vaccine -LRB- Td , adult -RRB- ? Tetanus and diphtheria are serious diseases caused by bacteria . Tetanus -LRB- lockjaw -RRB- causes painful tightening of the muscles , usually all over the body . It can lead to `` locking '' of the jaw so the victim can not open the mouth or swallow . Tetanus leads to death in about 1 out of 10 cases . Diphtheria causes a thick coating in the nose , throat , and airways . It can lead to breathing problems , paralysis , heart failure , or death . Diphtheria is spread from person to person . Tetanus enters the body through a cut or wound . The tetanus and diphtheria toxoids vaccine -LRB- also called Td -RRB- is used to help prevent these diseases in adults and children who are at least 7 years old . This vaccine works by exposing you to a small dose of the bacteria or a protein from the bacteria , which causes the body to develop immunity to the disease . This vaccine will not treat an active infection that has already developed in the body . Like any vaccine , the tetanus and diphtheria toxoids vaccine may not provide protection from disease in every person . What should I discuss with my healthcare provider before taking tetanus and diphtheria toxoids vaccine -LRB- Td , adult -RRB- ? You should not receive this vaccine if you have ever had a life-threatening allergic reaction to any vaccine containing diphtheria or tetanus , or if you have : severe or uncontrolled epilepsy or other seizure disorder ; or if you have received cancer chemotherapy or radiation treatment in the past 3 months . You may not be able to receive this vaccine if you have e\"],\n",
              "   [3.124794,\n",
              "    'Tetanus -LRB- Lockjaw -RRB- : Bureau of Immunization : NYC DOHMH Bureau of Immunization Tetanus -LRB- Lockjaw -RRB- What is tetanus ? Tetanus , also known as lockjaw , is a bacterial illness that causes very painful muscle spasms . Tetanus is rare in the United States due to widespread vaccine use . Who gets tetanus ? In the United States , tetanus occurs most often in older people . Also at risk for tetanus are farm workers and heroin users . Almost all tetanus cases occur in people who have not been adequately vaccinated against tetanus . How is tetanus spread ? Tetanus occurs when a wound gets contaminated with a bacteria called Clostridium tetani . Tetanus is not spread from one person to another . Where is the tetanus bacteria found ? The tetanus bacteria occurs throughout the environment . It is commonly found in soil contaminated with manure . What are the symptoms of tetanus ? Often the first sign of tetanus is a stiff jaw so that a person can not open their mouth . This is followed by a stiff neck , difficulty swallowing and rigid abdominal muscles . Painful muscle spasms last for several minutes and can involve muscles throughout the body . These spasms can continue for 3-4 weeks . Other symptoms include fever , sweating , and a rapid heart rate . How soon after infection do symptoms occur ? Symptoms usually appear around the 8th day after infection , but they can appear as early as 3 days and as late as months after infection . Does past infection make a person immune ? No . Infection does not guarantee immunity . People who recover from tetanus should still be vaccinated against this disease . What is the treatment for tetanus ? Tetanus immune globulin , antitoxin and antibiotics may be used to treat patients who have tetanus . The wound area should be cleaned , and dead tissue removed . What are the complications associated with tetanus ? Complications can include spasms of the vocal cords , spasms of the muscles used for breathing , broken bones that can occur after severe muscle spasms , high blood'],\n",
              "   [3.1035717,\n",
              "    \"Tetanus - encyclopedia article - Citizendium We are creating the world 's most trusted encyclopedia and knowledge base . Once you join us and log in , you 'll be able to edit this page instantly ! Tetanus From Citizendium , the Citizens ' Compendium Jump to : navigation , search Main Article Talk Definition -LSB- ? -RSB- Related Articles -LSB- ? -RSB- Bibliography -LSB- ? -RSB- External Links -LSB- ? -RSB- This is a draft article , under development . These unapproved articles are subject to a disclaimer . -LSB- edit intro -RSB- Tetanus -LRB- or lockjaw -RRB- is a disease whose main symptom is acute muscle spasm ; it is caused by an anaerobic bacterium called Clostridium tetani , found in soil and animal manure . The most common cause of tetanus in developed countries is via an open wound , which becomes infected by spores of the bacteria , often by ordinary soil -LRB- the disease is common , therefore , among farmers and gardeners -RRB- , though body piercing and tattoos can also be responsible . The wound may be very small , and so go unnoticed until the infection becomes more severe . The incubation period varies between two days and a fortnight . The bacteria release a neurotoxin called tetanospasmin which attacks the nervous system , causing fatigue and weakness , and then muscle spasms in the jaw -LRB- hence the disease 's alternative name -RRB- . These symptoms are followed by difficulty in swallowing , by a more general stiffness and spasms of the muscles -LRB- especially in the neck and back -RRB- , perspiration , problems urinating , heightened blood pressure , and a raised heart rate . Without treatment , the disease can be fatal . Contents 1 Neonatal tetanus 2 Immunisation programmes 3 Reading 4 External links Neonatal tetanus Neonatal tetanus can occurs when childbirth takes place in unsterile conditions , and especially via contamination of the umbilical cord ; though once common in the West , routine tetanus immunisation means that mothers pass on their protection to their babies . In regions with \"],\n",
              "   [3.099344,\n",
              "    \"ActHIB with DPT Information - Drugs and Treatments - MedHelp Home Forums Health Topics Doctors People My MedHelp Login | Sign Up ActHIB with DPT Email this Email This Page To A Friend Close Your Name : Your Email : Friend 's Email : Message : Enter the code shown : Generic Name : diphtheria/haemophilus/pertussis , acel/tetanus Other Brand Names : Trihibit , diphtheria/haemophilus/pertussis , acel/tetanus What is diphtheria , haemophilus influenzae , pertussis , and tetanus vaccine ? Diphtheria , haemophilus influenzae , pertussis , and tetanus are serious diseases caused by bacteria . Diphtheria causes a thick coating in the nose , throat , and airway . It can lead to breathing problems , paralysis , heart failure , or death . Haemophilus influenzae can cause minor flu symptoms or it can cause more serious symptoms such as swelling around the throat , making it hard to swallow or breathe . Haemophilus influenzae can also cause swelling of the membranes around the brain and spinal cord -LRB- meningitis -RRB- . Pertussis -LRB- whooping cough -RRB- causes coughing so severe that it interferes with eating , drinking , or breathing . These spells can last for weeks and can lead to pneumonia , seizures -LRB- convulsions -RRB- , brain damage , and death . Tetanus -LRB- lockjaw -RRB- causes painful tightening of the muscles , usually all over the body . It can lead to `` locking '' of the jaw so the victim can not open the mouth or swallow . Tetanus leads to death in about 1 out of 10 cases . Diphtheria , haemophilus influenzae , and pertussis are spread from person to person . Tetanus enters the body through a cut or wound . The diphtheria , haemophilus influenzae , pertussis , and tetanus vaccine is used to help prevent these diseases in people who are ages 2 months to 5 years old . This vaccine works by exposing your child to a small dose of the bacteria or a protein from the bacteria , which causes the body to develop immunity to the disease . This vaccine will not treat an active infection that has already developed\"],\n",
              "   [3.0771394,\n",
              "    'Tetanus MM 299-302 ; ID 1175-1185 Previous Lecture Next Lecture Table of Contents TETANUS NAME OF DISEASE : Tetanus Lockjaw ETIOLOGICAL AGENT : Clostridium tetani THE DISEASE : The disease usually begins as an infection resulting from trauma . Suspect tetanus in cases involving : 1 . Drug addicts 2 . Animal bites 3 . Deep wounds 4 . Home births During trauma , the spores of C. tetani , which are ubiquitous in dust , are injected into the tissue along with other organisms . The aerobic organisms grow initially until the redox potential of the tissue is low . This allows the germination of the clostridial spores and a localized infection results . Proliferating cells elaborate a toxin , tetanospasmin , which causes a systemic toxemia . PATHOLOGY : The tetanospasmin spreads from the infected site to the CNS by two mechanisms : 1 . Adsorption at myoneural junctions followed by migration through perineural tissue spaces of nerve trunks to the CNS . 2 . Passage from tissue spaces to lymphatics , to blood , to the CNS . Regardless of the route , the toxin becomes bound to gangliosides in the CNS . The time consumed in the passage represents the larger part of the incubation period of 2-50 days . This toxin is one of the most potent poisons known . The physiological action is identical to that of strychnine . Both substances suppress inhibiting influences on the motor neurons and interneurons without directly enhancing synaptic excitory action . The toxin also affects synaptic transmission at myoneural junctions . There are no lesions formed in the CNS . DIAGNOSIS : Clues to the diagnosis of tetanus are : 1 . A wound or recent history of a wound 2 . No clear history of tetanus toxoid immunization 3 . Irritability 4 . Restlessness 5 . Headache 6 . Low grade fever or no fever Two basic forms of tetanus may be distinguished : local and general . Local tetanus consists of spasm and increa'],\n",
              "   [2.8711743,\n",
              "    \"Case 1 : Tetanus Case 1 : Tetanus Boosters Steve and Joe were dismantling an old shed on Steve 's farm when part of the shed collapsed onto Joe 's leg , causing a gash and pinning Joe under the debris . In the process of trying to free Joe , Steve received numerous punctures to his hands and arms from nails embedded in the collapsed lumber . Both went to the hospital emergency room and were treated for their injuries . The emergency room nurse asked each for a medical history , including how long it had been since his last tetanus booster . Joe had had a booster at his annual physical just six months previously . His gash had bled quite a bit , which had helped to clean out the wound . He was stitched up and told to watch for redness and pus around the stitches . Steve could n't remember how long ago he had had a tetanus shot , but it was probably more than ten years . His deeper punctures were cleaned as well as possible and he was given a tetanus booster -LRB- inactivated tetanus toxin , Td -RRB- and also tetanus immune globulin -LRB- human antibody to tetanus toxin -RRB- . Both Steve and Joe made full recoveries with no symptoms of tetanus . Clostridium tetani is a Gram positive rod-shaped bacterium which lives in soil . Under conditions which are not favorable for growth , it forms spores which can survive for long periods , then become vegetative cells when conditions are more favorable . C. tetani grows only in the absence of oxygen , thriving in deep wounds . It is an extracellular pathogen , using enzymes to invade host tissues . C. tetani secretes a neurotoxin which causes the muscle spasms that give tetanus its other name , `` lockjaw '' . Infants are injected with tetanus toxoid -LRB- Td -RRB- , an inactivated C. tetani exotoxin , three times during their first two years after birth and again at ages 5 and 15 as part of the DPT -LRB- Diphtheria , Pertussis , and Tetanus -RRB- vaccine . The recommendation is for a tetanus booster -LRB- tetanus toxoid -RRB- to be given at least every ten years to maintai\"],\n",
              "   [2.7778978,\n",
              "    \"Tetanus - Definition , Description , Causes , Symptoms , Diagnosis , Treatment , Prognosis , Prevention Free Health Encyclopedia : : Sick ! V4 TETANUS DEFINITION Tetanus -LRB- pronounced TET-n-uhss -RRB- is an infection of the central nervous system -LRB- the brain and spinal cord -RRB- . The disease is rare , but often fatal . It is caused when the bacterium Clostridium tetani -LRB- pronounced claw-STRID-eeum TEHT-uh-nee -RRB- enters the body . The bacterium often enters the body through wounds or cuts exposed to soil . Tetanus can easily be prevented through vaccination . DESCRIPTION Tetanus is rare in the United States . For many years , a vaccine -LRB- pronounced vak-SEEN -RRB- has been available to protect against the disease and the vast majority of American children receive the vaccine . A vaccine is a substance that causes the body 's immune system to build up resistance to a particular disease . Cases of tetanus usually occur in adults who were never vaccinated against tetanus . Only about one hundred cases of tetanus are reported in the United States each year . Of this number , about 70 percent occur in people over the age of fifty . Most of those who die of tetanus are over the age of sixty . Tetanus : Words to Know Central nervous system : A system of nerve cells in the brain and the spinal cord . Clostridium tetani : The bacterium that causes tetanus . Spasm : A contraction of the muscles that can cause paralysis and/or shaking . Toxin : A poison . Vaccine : A substance that causes the body 's immune system to build up resistance to a particular disease . Tetanus causes muscular spasms -LRB- tightening of the muscles -RRB- that can cause paralysis of the respiratory -LRB- breathing -RRB- system and lead to death . The disease is sometimes called lockjaw . The name comes from a common symptom of tetanus in which the jaw muscles become tight and rigid and a person is unable to open his or her mouth . Sometimes tetanus affects only one part of the body but usually the infection spreads throughout the b\"],\n",
              "   [2.7334921,\n",
              "    'tetanus -LRB- disease -RRB- -- Britannica Online Encyclopedia Search Site : Home STORE BROWSE BLOG LOG IN Skip this Advertisement Encyclop\\\\u00e6dia Britannica Audio/Video JavaScript and Adobe Flash version 9 or higher is required to view this content . You can download Flash here : http://www.adobe.com/go/getflashplayer Contributors Additional Content Widgets & Gadgets Shopping PRINT E-MAIL SHARE COMMENT FIND WITHIN TOPIC tetanusdisease also called lockjaw Main acute infectious disease of humans and other animals , caused by toxins produced by the bacillus Clostridium tetani and characterized by rigidity and spasms of the voluntary muscles . The almost constant involvement of the jaw muscles accounts for the popular name of the disease . Spores of Clostridium are distributed widely in nature , especially in soil , and may enter the body through any wound , even a superficial abrasion ; puncture wounds and deep lacerations are particularly dangerous because they provide the oxygen-free environment needed for growth of the microorganism . Both the occurrence and severity of tetanus are determined by the amount of toxin produced and the resistance of the host . The neurotoxic component , tetanospasmin , is one of the deadliest poisons known . It is believed to act on the synthesis and liberation of acetylcholine , a substance having a key role in the synaptic transmission of nerve impulses throughout the body . Once it has entered the body , the toxin rapidly spreads by way of the bloodstream or directly by a nerve to the central nervous system , where it attacks motor nerve cells and excites them to overactivity . Excessive impulses rush through the nerves to the muscles , which are thrown into severe convulsive spasm . The most common spasms occur in the muscle of the jaw , and the first sign of the illness often is stiffness of the jaw , or trismus . The muscles of the mouth are often affected , pulling the lips out and up over the teeth into a grimace , the mixture of smile and snarl that heralds the onset of the gen'],\n",
              "   [2.4595492,\n",
              "    \"MedlinePlus Drug Information : Diphtheria , Tetanus , and Pertussis -LRB- DTaP -RRB- Vaccine Skip navigation Other drug names : A B C D E F G H I J K L M N O P Q R S T U V W X Y Z 0-9 Diphtheria , Tetanus , and Pertussis -LRB- DTaP -RRB- Vaccine Why get vaccinated ? Return to top Diphtheria , tetanus , and pertussis are serious diseases caused by bacteria . Diphtheria and pertussis are spread from person to person . Tetanus enters the body through cuts or wounds . DIPHTHERIA causes a thick covering in the back of the throat . It can lead to breathing problems , paralysis , heart failure , and even death . TETANUS -LRB- Lockjaw -RRB- causes painful tightening of the muscles , usually all over the body . It can lead to '' locking '' of the jaw so the victim can not open his mouth or swallow . Tetanus leads to death in about 1 out of 10 cases . PERTUSSIS -LRB- Whooping Cough -RRB- causes coughing spells so bad that it is hard for infants to eat , drink , or breathe . These spells can last for weeks . It can lead to pneumonia , seizures -LRB- jerking and staring spells -RRB- , brain damage , and death . Diphtheria , tetanus , and pertussis vaccine -LRB- DTaP -RRB- can help prevent these diseases . Most children who are vaccinated with DTaP will be protected throughout childhood . Many more children would get these diseases if we stopped vaccinating . DTaP is a safer version of an older vaccine called DTP . DTP is no longer used in the United States . Who should get DTaP vaccine and when ? Return to top Children should get 5 doses of DTaP vaccine , one dose at each of the following ages : 2 months , 4 months , 6 months , 15-18 months , 4-6 years . DTaP may be given at the same time as other vaccines . Who should not get DTaP vaccine or should wait ? Return to top Children with minor illnesses , such as a cold , may be vaccinated . But children who are moderately or severely ill should usually wait until they recover before getting DTaP vaccine . Any child who had a life-threatening allergic reaction after a dose of DT\"],\n",
              "   [2.3923101,\n",
              "    \"Tetanus-Diphtheria Toxoids , Adult medical facts from Drugs.com The most popular , comprehensive and up-to-date source of drug information online . News Drugs A to Z Drugs by Condition Pill Identifier Interactions Checker Community More Drug Side Effects New Drug Approvals New Drug Applications FDA Drug Alerts Clinical Trial Results Patient Care Notes For Professionals Medical Encyclopedia Medical Dictionary Drug Classification Drug Imprint Codes Drug Image Search Veterinary Drugs News Feeds Or browse a complete list of drug names A B C D E F G H I J K L M N O P Q R S T U V W X Y Z Advanced Search Consumer Drug Information Print Email Add to List Tetanus-Diphtheria Toxoids , Adult Generic Name : tetanus and diphtheria toxoids vaccine -LRB- Td , adult -RRB- -LRB- TET a nus and dif THEER ee a TOX oids -RRB- Brand Names : Decavac , Tetanus-Diphtheria Toxoids , Adult What is tetanus and diphtheria toxoids vaccine ? Tetanus and diphtheria are serious diseases caused by bacteria . Tetanus -LRB- lockjaw -RRB- causes painful tightening of the muscles , usually all over the body . It can lead to `` locking '' of the jaw so the victim can not open the mouth or swallow . Tetanus leads to death in about 1 out of 10 cases . Diphtheria causes a thick coating in the nose , throat , and airways . It can lead to breathing problems , paralysis , heart failure , or death . Diphtheria is spread from person to person . Tetanus enters the body through a cut or wound . The tetanus and diphtheria toxoids vaccine -LRB- also called Td -RRB- is used to help prevent these diseases in adults and children who are at least 7 years old . This vaccine works by exposing you to a small dose of the bacteria or a protein from the bacteria , which causes the body to develop immunity to the disease . This vaccine will not treat an active infection that has already developed in the body . Like any vaccine , the tetanus and diphtheria toxoids vaccine may not provide protection from disease in every person . What is the most important information I shoul\"],\n",
              "   [2.1256728,\n",
              "    \"Adacel -LRB- Tdap -RRB- medical facts from Drugs.com The most popular , comprehensive and up-to-date source of drug information online . News Drugs A to Z Drugs by Condition Pill Identifier Interactions Checker Community More Drug Side Effects New Drug Approvals New Drug Applications FDA Drug Alerts Clinical Trial Results Patient Care Notes For Professionals Medical Encyclopedia Medical Dictionary Drug Classification Drug Imprint Codes Drug Image Search Veterinary Drugs News Feeds Or browse a complete list of drug names A B C D E F G H I J K L M N O P Q R S T U V W X Y Z Advanced Search Consumer Drug Information Print Email Add to List Adacel -LRB- Tdap -RRB- Generic Name : tetanus , diphtheria , acellular pertussis vaccine -LRB- Tdap -RRB- -LRB- TET a nus , dif THEER ee a , and ay SEL yoo ler per TUS iss -RRB- Brand Names : Adacel -LRB- Tdap -RRB- , Boostrix -LRB- Tdap -RRB- What is diphtheria , pertussis acellular , and tetanus vaccine ? Diphtheria , tetanus , and pertussis are serious diseases caused by bacteria . Diphtheria causes a thick coating in the nose , throat , and airway . It can lead to breathing problems , paralysis , heart failure , or death . Pertussis -LRB- whooping cough -RRB- causes coughing so severe that it interferes with eating , drinking , or breathing . These spells can last for weeks and can lead to pneumonia , seizures -LRB- convulsions -RRB- , brain damage , and death . Tetanus -LRB- lockjaw -RRB- causes painful tightening of the muscles , usually all over the body . It can lead to `` locking '' of the jaw so the victim can not open the mouth or swallow . Tetanus leads to death in about 1 out of 10 cases . Diphtheria and pertussis are spread from person to person . Tetanus enters the body through a cut or wound . The diphtheria , tetanus acellular , and pertussis adult vaccine -LRB- also called Tdap -RRB- is used to help prevent these diseases in people who are ages 11 to 64 years old . Most people in this age group require only one Tdap shot for protection against these diseases . Th\"],\n",
              "   [2.1256728,\n",
              "    \"Boostrix -LRB- Tdap -RRB- medical facts from Drugs.com The most popular , comprehensive and up-to-date source of drug information online . News Drugs A to Z Drugs by Condition Pill Identifier Interactions Checker Community More Drug Side Effects New Drug Approvals New Drug Applications FDA Drug Alerts Clinical Trial Results Patient Care Notes For Professionals Medical Encyclopedia Medical Dictionary Drug Classification Drug Imprint Codes Drug Image Search Veterinary Drugs News Feeds Or browse a complete list of drug names A B C D E F G H I J K L M N O P Q R S T U V W X Y Z Advanced Search Consumer Drug Information Print Email Add to List Boostrix -LRB- Tdap -RRB- Generic Name : tetanus , diphtheria , acellular pertussis vaccine -LRB- Tdap -RRB- -LRB- TET a nus , dif THEER ee a , and ay SEL yoo ler per TUS iss -RRB- Brand Names : Adacel -LRB- Tdap -RRB- , Boostrix -LRB- Tdap -RRB- What is diphtheria , pertussis acellular , and tetanus vaccine ? Diphtheria , tetanus , and pertussis are serious diseases caused by bacteria . Diphtheria causes a thick coating in the nose , throat , and airway . It can lead to breathing problems , paralysis , heart failure , or death . Pertussis -LRB- whooping cough -RRB- causes coughing so severe that it interferes with eating , drinking , or breathing . These spells can last for weeks and can lead to pneumonia , seizures -LRB- convulsions -RRB- , brain damage , and death . Tetanus -LRB- lockjaw -RRB- causes painful tightening of the muscles , usually all over the body . It can lead to `` locking '' of the jaw so the victim can not open the mouth or swallow . Tetanus leads to death in about 1 out of 10 cases . Diphtheria and pertussis are spread from person to person . Tetanus enters the body through a cut or wound . The diphtheria , tetanus acellular , and pertussis adult vaccine -LRB- also called Tdap -RRB- is used to help prevent these diseases in people who are ages 11 to 64 years old . Most people in this age group require only one Tdap shot for protection against these diseases \"],\n",
              "   [1.8491354,\n",
              "    \"Are Tetanus Shots Really That Important ? '' Health Watch Center Are Tetanus Shots Really That Important ? If you have ever considered skipping that Tetanus shot , re-consider your decision . That shot is your best defense against a life-threatening disease that is hard to prevent and treat . Even if treatment is successful , the disease itself can be extremely painful and may cause serious damage to your body . Keep the following information in mind next time when its time for your Tetanus shot . What is Tetanus ? Tetanus is a disease caused by a bacterium known as Clostridium tetani . This bacterium is normally found in soil and animal feces but is also present in other places as well . Normally , you wouldnt have to worry about the bacterium . However , if its spores make their way into a wound in your body , they will begin production of a toxin substance known as tetanospasmin that will cause problems in your nerves that are able to control the muscles of your body . What are the Symptoms of Tetanus ? You may begin to see signs of an infection in a few days or you may have to wait for a couple of weeks . The average time is eight days . After that period , youll begin to have serious symptoms . These include muscle spasms in your jaw and neck . These spasms can be very strong and painful . As the toxin progresses through your body , you may also begin having spasms in your chest , back , and abdomen . When the spasms start affecting the respiratory muscles in your chest , you may find breathing difficult . Additionally , the spasms may give way to stiffness which can make it almost impossible for you to swallow . You may have heard of this symptom which is known as lockjaw . Often these symptoms are accompanied by fever . How is Tetanus Treated ? When you are diagnosed with Tetanus , your physician will probably use medications to treat the disease . Youll be given an antitoxin to fight the tetanospasmin and an antibiotic to combat the bacterial infection . However , treatment is not always effective . Becau\"],\n",
              "   [1.8485131,\n",
              "    \"Tetanus -LRB- Lockjaw -RRB- - What is tetanus ? , How common is it ? , Is tetanus contagious ? Human Diseases and Conditions : : Infectious Diseases Sk-Z Tetanus -LRB- Lockjaw -RRB- Tetanus -LRB- TET-nus -RRB- is a serious bacterial infection that affects the body 's central nervous system . Tetanus , also known as lockjaw , can lead to muscle rigidity , convulsions * , and death . KEYWORDS for searching the Internet and other reference sources Clostridium tetani Lockjaw Tetanospasmin Trismus What Is Tetanus ? Tetanus is a disease caused by infection with Clostridium tetani -LRB- klos-TRIH-dee-um teh-TAH-nye -RRB- bacteria , which are found all over the world in soil , dust , and some animal feces -LRB- FEE-seez , or bowel movements -RRB- and even on human skin . The bacteria can enter the body through any type of wound , such as a scratch or deep cut . Infection begins after bacterial spores * have moved deep within the body and become active . Clostridium tetani bacteria are anaerobic -LRB- ah-nuh-RO-bik -RRB- , meaning that they grow best in places with very little oxygen -- so the deeper they travel into the body , the better their chances to survive . Once tetanus spores become active , the bacteria begin producing a toxin -LRB- a poisonous substance -RRB- called tetanospasmin -LRB- teh-tuh-no-SPAZ-min -RRB- , which attaches to the nerves around the area of the wound . The tetanus toxin also can spread and attach to the ends of nerves of the spinal cord and at neuromuscular junctions -LRB- where nerves meet muscles -RRB- . The toxin blocks the release of a neurotransmitter -LRB- nur-o-trans-MIH-ter -RRB- , a chemical that carries a signal from nerves to other nerves or muscles . This affects the messages that the muscles receive , resulting in severe muscle spasms * that can be powerful enough to tear muscles apart . There are three types of tetanus infection . Local tetanus is limited to the area of the wound ; cephalic -LRB- seh-FAH-lik -RRB- tetanus is an uncommon form that affects the nerves of the face \"],\n",
              "   [1.8063523,\n",
              "    'Tetanus - Wikipedia , the free encyclopedia Tetanus From Wikipedia , the free encyclopedia -LRB- Redirected from Tetanus disease -RRB- Jump to : navigation , search Tetanus Classification and external resources Muscular spasms in a patient suffering from tetanus . Painting by Sir Charles Bell , 1809 . ICD-10 A33.-A35 . ICD-9 037 , 771.3 DiseasesDB 2829 MedlinePlus 000615 eMedicine emerg/574 MeSH D013742 Tetanus , also called lockjaw , is a medical condition characterized by a prolonged contraction of skeletal muscle fibers . The primary symptoms are caused by tetanospasmin , a neurotoxin produced by the Gram-positive , obligate anaerobic bacterium Clostridium tetani . Infection generally occurs through wound contamination , and often involves a cut or deep puncture wound . As the infection progresses , muscle spasms in the jaw develop , hence the name lockjaw . This is followed by difficulty in swallowing and general muscle stiffness and spasms in other parts of the body . -LSB- 1 -RSB- Infection can be prevented by proper immunization and by post-exposure prophylaxis . -LSB- 2 -RSB- Contents 1 Signs and symptoms 2 Spatula test 3 Treatment 3.1 Mild tetanus 3.2 Severe tetanus 4 Prevention 5 Epidemiology 6 Association with rust 7 Famous tetanus victims 8 References 9 External links 9.1 Media -LSB- edit -RSB- Signs and symptoms Tetanus affects skeletal muscle , a type of striated muscle . The other type of striated muscle , cardiac or heart muscle can not be tetanized , because of its intrinsic electrical properties . In recent years , approximately 11 % of reported tetanus cases have been fatal . The highest mortality rates are in unvaccinated persons and persons over 60 years of age . C. tetani , the bacterium that causes tetanus , is recovered from the initial wound in only about 30 % of cases , and can be found in patients who do not have tetanus . -LSB- 2 -RSB- The incubation period of tetanus ranges from 3 to 21 days , with an average onset of clinical presentation of symptoms in 8 days . In general , the furt']],\n",
              "  'uid': 's3q1674'}]"
            ]
          },
          "metadata": {
            "tags": []
          },
          "execution_count": 29
        }
      ]
    },
    {
      "cell_type": "code",
      "metadata": {
        "id": "FREeoefNvGtY",
        "colab_type": "code",
        "outputId": "540f204f-3367-48c7-913a-4869ddbf5cfd",
        "colab": {
          "base_uri": "https://localhost:8080/",
          "height": 35
        }
      },
      "source": [
        "print(len(devSC))"
      ],
      "execution_count": 30,
      "outputs": [
        {
          "output_type": "stream",
          "text": [
            "3000\n"
          ],
          "name": "stdout"
        }
      ]
    },
    {
      "cell_type": "code",
      "metadata": {
        "id": "VHx6wSmF3uUL",
        "colab_type": "code",
        "outputId": "95d1ba36-0219-460c-be30-bc8447d08775",
        "colab": {
          "base_uri": "https://localhost:8080/",
          "height": 384
        }
      },
      "source": [
        "#the context data ontains all the sentences/paras along with their ranks.\n",
        "#for longpseudocuments the author used full page text turncated to 2048 char max\n",
        "#top N text documents, generally N is 20 max\n",
        "#we will ignore the ranks and append\n",
        "testSClist = []\n",
        "for testSCdict in testSC[:1]:\n",
        "  sublist = testSCdict[\"contexts\"]\n",
        "  for i, item in enumerate(sublist):\n",
        "    print (len(sublist), item[1])\n",
        "  #trainLClist.append(len (trainQdict['question']))"
      ],
      "execution_count": 31,
      "outputs": [
        {
          "output_type": "stream",
          "text": [
            "20 Chess Basics : Learn The Game of Chess | DJ Emir Mixtapes Chess Lessons Next : Tactics The Essence of Chess The Royal Game of Chess `` Every chess master was once a beginner . '' - Chernev Basics - Rules and Piece Movement For Each Chess Piece Objective Checkmate : If your opponent 's King is being attacked ergo would be captured on the next move , that 's called `` check . '' If your opponent has no way to save the King from that situation , that 's `` checkmate , '' and you 've won . Tie Games When the King is not in check but there is no legal move left , the game is tied in a stalemate . The game can also be considered a draw if the pieces enter a repetitive cycle of three identicle board positions . For instance , if you move a piece , your opponent threatens , you move back to the previous position with the same piece , and then this whole pattern repeats twice more , the game may be considered a draw . The game may also be drawn By the 50 Move rule : Hence if no pawn moves or captures are made within 50 moves the game may be claimed as a draw due to lack of progress . Movement & Play You and an opponent alternate moves . As a standard White always goes first . All pieces other than Pawns can move either forward or backward . The King : The King can move one adjacent square in any direction diagonal , vertical , or horizontal unless the move would put it in check . It will capture an enemy piece occupying the square it moves into . The King The king may move one square in any direction , including diagonally . In the diagram , the king may move to any square with a purple dot . Queen : The Queen is the most powerful piece . She can move any distance in a straight line , diagonal , vertical , or horizontal , as long as her path is clear . The Queen can not jump over any pieces . She captures a piece by occupying its square . The Queen The queen moves any number of squares horizontally , vertically , or diagonally , but it may not jump over other pieces . Rook : The Rook is second in power to the Queen in mos\n",
            "20 Chemistry - Queen -LRB- chess -RRB- Periodic Table - standard table - large table Chemical Elements - by name - by symbol - by atomic number Chemical Properties Chemical Reactions Organic Chemistry Branches of Chemistry Analytical chemistry Biochemistry Computational Chemistry Electrochemistry Environmental chemistry Geochemistry Inorganic chemistry Materials science Medicinal chemistry Nuclear chemistry Organic chemistry Pharmacology Physical chemistry Polymer chemistry Supramolecular Chemistry Thermochemistry Categories : Chess pieces Queen -LRB- chess -RRB- The queen is the most powerful piece in the game of chess . Each player starts the game with one queen , placed in the middle of their first rank next to their king . Beginners often accidentally interchange the placement of the queen and king , thus the mnemonic `` queen on her color . '' The white queen starts on a white square , and the black queen on a black square . In algebraic notation , the white queen starts on d1 and the black queen on d8 . Queens are usually the most mobile pieces in chess . They have the combined powers of a rook and bishop . The queen can be moved in a straight line vertically , horizontally , or diagonally , any number of unoccupied squares as shown to the left , thus combining the moves of the rook and bishop . As with most pieces , the queen captures by occupying the square on which an enemy piece sits . Ordinarily the queen is slightly more powerful than a rook and a bishop , while slightly less powerful than two rooks . Because the queen is more valuable than any other piece , it is almost always disadvantageous to exchange the queen for a piece other than the enemy 's queen , unless doing so leads to a position where the king can be checkmated . The queen is at her most powerful when the board is open , when the enemy king is not well-defended , or when there are loose -LRB- i.e. undefended -RRB- pieces in the enemy camp . Because of her long range and ability to move in more than one direction , the queen is well-equippe\n",
            "20 Chess Pieces - Chess Sets Living Room & Decor Kitchen & Dining Bed Bath & Storage Kids Room Game Room & Gym Home Improvement Home Theater & Electronics Home Office Patio Lawn & Garden Home > Game Room & Gym > Games Bookmark Rate This Article : Currently 2.94 / 5 1 2 3 4 5 -LRB- 168 Ratings -RRB- Chess Pieces Make your move with chess pieces An ancient game of strategy and tactics , chess is exciting and fun for players of all ages . Daring moves with unique chess pieces are part of a pastime that players have enjoyed for ages . Chess was invented nearly 1,500 years ago and by 1400 AD , the Europeans were so in love with the game that they renamed the chess pieces to represent medieval times . Those chess pieces , each with their own unique abilities and uses , are detailed below . Pawns The eight chess pieces known as pawns represent laborers or serfs , who in medieval Europe were actually considered to be property of wealthy landowners . Laborers were traded like goods or used as diversions during battles in order to protect the landowner . The job of pawn chess pieces is solely to protect higher-ranking chess pieces . Knights Chess sets come with two chess pieces called knights . A medieval knight was a professional solider . In chess , the knights are ranked higher than pawns but their duty is still to protect more important chess pieces and , like the pawn , they are often sacrificed to save the other chess pieces . Rook The rook , sometimes called castle chess pieces , provide a safe refuge , just as castles in ancient times did . Bishops As chess pieces , the bishops represent the church . In medieval times , the clergy were important public figures and were protected by the rest of the citizens . Lower chess pieces keep the bishops safe . Queen During times of kingdoms the queen exerted great influence on the king and often actually held more power than he did . The game of chess mirrors ancient times in that the queen is the most powerful chess piece . King Even though the king is n't the most powerful of\n",
            "20 Queen -LRB- chess -RRB- - Wikipedia , the free encyclopedia Queen -LRB- chess -RRB- From Wikipedia , the free encyclopedia -LRB- Redirected from Chess/Queen -RRB- Jump to : navigation , search For other uses , see Queen . This article uses algebraic notation to describe chess moves . Queen in the standard Staunton pattern The queen -LRB- , -RRB- is the most powerful piece in the game of chess . Each player starts the game with one queen , placed in the middle of their first rank next to their king . The white queen starts on a white square , and the black queen on a black square , thus the mnemonic `` queen gets her color '' or `` queen on color '' . In algebraic notation , the white queen starts on the d1 square and the black queen starts on the d8 square . In the game shatranj , an ancestor of chess , the queen was a fairly weak piece called a fers or vizier , only able to move or capture one square in a diagonal direction similar to a pawn . The modern queen 's move arose in 15th century Europe . The piece is archaically known as the minister . In Polish it is known as the ; Hetman - the name of a major historical military-political office . Contents 1 Movement 2 General remarks 2.1 Piece value 2.2 Strategy 3 History 4 See also 5 References 6 External links -LSB- edit -RSB- Movement Initial placement of the queens Possible moves of the queen are shown Chess pieces King Queen Rook Bishop Knight Pawn The queen can be moved any number of unoccupied squares in a straight line vertically , horizontally , or diagonally , thus combining the moves of the rook and bishop . The queen captures by occupying the square on which an enemy piece sits . -LSB- edit -RSB- General remarks -LSB- edit -RSB- Piece value Further information : Chess piece relative value Ordinarily the queen is slightly more powerful than a rook and a bishop together , while slightly less powerful than two rooks . It is almost always disadvantageous to exchange the queen for a piece other than the enemy 's queen . -LRB- see chess piece relative value -\n",
            "20 Queen -LRB- chess -RRB- - Wikipedia , the free encyclopedia Queen -LRB- chess -RRB- From Wikipedia , the free encyclopedia Jump to : navigation , search For other uses , see Queen . This article uses algebraic notation to describe chess moves . Queen in the standard Staunton pattern The queen -LRB- , -RRB- is the most powerful piece in the game of chess . Each player starts the game with one queen , placed in the middle of their first rank next to their king . The white queen starts on a white square , and the black queen on a black square , thus the mnemonic `` queen gets her color '' or `` queen on color '' . In algebraic notation , the white queen starts on the d1 square and the black queen starts on the d8 square . In the game shatranj , an ancestor of chess , the queen was a fairly weak piece called a fers or vizier , only able to move or capture one square in a diagonal direction similar to a pawn . The modern queen 's move arose in 15th century Europe . The piece is archaically known as the minister . Contents 1 Movement 2 General remarks 2.1 Piece value 2.2 Strategy 3 History 4 See also 5 References 6 External links -LSB- edit -RSB- Movement Initial placement of the queens Possible moves of the queen are shown Chess pieces King Queen Rook Bishop Knight Pawn The queen can be moved any number of unoccupied squares in a straight line vertically , horizontally , or diagonally , thus combining the moves of the rook and bishop . The queen captures by occupying the square on which an enemy piece sits . -LSB- edit -RSB- General remarks -LSB- edit -RSB- Piece value Further information : Chess piece relative value Ordinarily the queen is slightly more powerful than a rook and a bishop together , while slightly less powerful than two rooks . It is almost always disadvantageous to exchange the queen for a piece other than the enemy 's queen . -LRB- see chess piece relative value -RRB- The queen is at her most powerful when the board is open , when the enemy king is not well-defended , or when there are loose -LRB- i.\n",
            "20 Queen -LRB- chess -RRB- - Wikipedia , the free encyclopedia Queen -LRB- chess -RRB- From Wikipedia , the free encyclopedia Jump to : navigation , search For other uses , see Queen . This article uses algebraic notation to describe chess moves . Queen in the standard Staunton pattern The queen -LRB- U , -LSB- -RRB- is the most powerful piece in the game of chess . Each player starts the game with one queen , placed in the middle of their first rank next to their king . The white queen starts on a white square , and the black queen on a black square , thus the mnemonic `` queen gets her color '' or `` queen on color '' . In algebraic notation , the white queen starts on the d1 square and the black queen starts on the d8 square . In the game shatranj , an ancestor of chess , the queen was a fairly weak piece called a fers or vizier , only able to move or capture one square in a diagonal direction similar to a pawn . The modern queen 's move arose in 15th century Europe . The piece is archaically known as the minister . Contents 1 Movement 2 General remarks 2.1 Piece value 2.2 Strategy 3 History 4 See also 5 References 6 External links -LSB- edit -RSB- Movement Initial placement of the queens Possible moves of the queen are shown Chess pieces King Queen Rook Bishop Knight Pawn The queen can be moved any number of unoccupied squares in a straight line vertically , horizontally , or diagonally , thus combining the moves of the rook and bishop . The queen captures by occupying the square on which an enemy piece sits . -LSB- edit -RSB- General remarks -LSB- edit -RSB- Piece value Further information : Chess piece relative value Ordinarily the queen is slightly more powerful than a rook and a bishop together , while slightly less powerful than two rooks . It is almost always disadvantageous to exchange the queen for a piece other than the enemy 's queen . -LRB- see chess piece relative value -RRB- The queen is at her most powerful when the board is open , when the enemy king is not well-defended , or when there are loose \n",
            "20 Chess strategy - Wikipedia , the free encyclopedia Chess strategy From Wikipedia , the free encyclopedia -LRB- Redirected from Chess/Strategy and Tactics -RRB- Jump to : navigation , search This article uses algebraic notation to describe chess moves . Chess strategy is concerned with the evaluation of chess positions and setting up goals and long-term tactics for future play . During the evaluation , a player must take into account the value of the pieces on the board , pawn structure , king safety , position of pieces , control of key squares and groups of squares -LRB- e.g. diagonals , open files , black or white squares -RRB- , and the possible moves the opponent will make after any move made . The most basic way to evaluate one 's position is to count the total value of pieces on both sides . The point values used for this purpose are based on experience . Usually pawns are considered to be worth one point , knights and bishops three points each , rooks five points , and queens nine points . The fighting value of the king in the endgame is approximately four points . These basic values are modified by other factors such as the position of the piece -LRB- e.g. advanced pawns are usually more valuable than those on their starting squares -RRB- , coordination between pieces -LRB- e.g. a bishop pair usually coordinates better than a bishop plus a knight -RRB- , and the type of position -LRB- knights are generally better in closed positions with many pawns , while bishops are more powerful in open positions -RRB- . Another important factor in the evaluation of chess positions is the pawn structure or pawn skeleton . Since pawns are the most immobile and least valuable of the chess pieces , the pawn structure is relatively static and largely determines the strategic nature of the position . Weaknesses in the pawn structure , such as isolated , doubled , or backward pawns and holes , once created , are usually permanent . Care must therefore be taken to avoid them unless they are compensated by another valuable ass\n",
            "20 Chess strategy - Wikipedia , the free encyclopedia Chess strategy From Wikipedia , the free encyclopedia -LRB- Redirected from Strategy -LRB- chess -RRB- -RRB- Jump to : navigation , search This article uses algebraic notation to describe chess moves . Chess strategy is concerned with the evaluation of chess positions and setting up goals and long-term tactics for future play . During the evaluation , a player must take into account the value of the pieces on the board , pawn structure , king safety , position of pieces , control of key squares and groups of squares -LRB- e.g. diagonals , open files , black or white squares -RRB- , and the possible moves the opponent will make after any move made . The most basic way to evaluate one 's position is to count the total value of pieces on both sides . The point values used for this purpose are based on experience . Usually pawns are considered to be worth one point , knights and bishops three points each , rooks five points , and queens nine points . The fighting value of the king in the endgame is approximately four points . These basic values are modified by other factors such as the position of the piece -LRB- e.g. advanced pawns are usually more valuable than those on their starting squares -RRB- , coordination between pieces -LRB- e.g. a bishop pair usually coordinates better than a bishop plus a knight -RRB- , and the type of position -LRB- knights are generally better in closed positions with many pawns , while bishops are more powerful in open positions -RRB- . Another important factor in the evaluation of chess positions is the pawn structure or pawn skeleton . Since pawns are the most immobile and least valuable of the chess pieces , the pawn structure is relatively static and largely determines the strategic nature of the position . Weaknesses in the pawn structure , such as isolated , doubled , or backward pawns and holes , once created , are usually permanent . Care must therefore be taken to avoid them unless they are compensated by another valuable ass\n",
            "20 Chess strategy - Wikipedia , the free encyclopedia Chess strategy From Wikipedia , the free encyclopedia Jump to : navigation , search This article uses algebraic notation to describe chess moves . Chess strategy is concerned with the evaluation of chess positions and setting up goals and long-term tactics for future play . During the evaluation , a player must take into account the value of the pieces on the board , pawn structure , king safety , position of pieces , control of key squares and groups of squares -LRB- e.g. diagonals , open files , black or white squares -RRB- , and the possible moves the opponent will make after any move made . The most basic way to evaluate one 's position is to count the total value of pieces on both sides . The point values used for this purpose are based on experience . Usually pawns are considered to be worth one point , knights and bishops three points each , rooks five points , and queens nine points . The fighting value of the king in the endgame is approximately four points . These basic values are modified by other factors such as the position of the piece -LRB- e.g. advanced pawns are usually more valuable than those on their starting squares -RRB- , coordination between pieces -LRB- e.g. a bishop pair usually coordinates better than a bishop plus a knight -RRB- , and the type of position -LRB- knights are generally better in closed positions with many pawns , while bishops are more powerful in open positions -RRB- . Another important factor in the evaluation of chess positions is the pawn structure or pawn skeleton . Since pawns are the most immobile and least valuable of the chess pieces , the pawn structure is relatively static and largely determines the strategic nature of the position . Weaknesses in the pawn structure , such as isolated , doubled , or backward pawns and holes , once created , are usually permanent . Care must therefore be taken to avoid them unless they are compensated by another valuable asset , such as the possibility to develop an attack . An \n",
            "20 Knight -LRB- chess -RRB- - Wikipedia , the free encyclopedia Knight -LRB- chess -RRB- From Wikipedia , the free encyclopedia -LRB- Redirected from Horse -LRB- chess -RRB- -RRB- Jump to : navigation , search For other uses , see Knight -LRB- disambiguation -RRB- . This article uses algebraic notation to describe chess moves . Knight in the standard Staunton pattern The knight -LRB- -RRB- is a piece in the game of chess , representing a knight -LRB- armoured cavalry -RRB- . It is normally represented by a horse 's head , leading some to refer to it informally as a `` horse '' . Each player starts with two knights , which start on the rank closest to the player . Expressed in algebraic notation , the white knights start on b1 and g1 , while the black knights start on b8 and g8 . Contents 1 Movement 2 Value 3 Properties 4 Notation 5 See also 6 Notes 7 References -LSB- edit -RSB- Movement Location of the knights at the start of the game The black knight may move to any of eight squares -LRB- black dots -RRB- . The white knight is limited to two squares -LRB- white dots -RRB- . Chess pieces King Queen Rook Bishop Knight Pawn The knight move is unusual among chess pieces . When it moves , it can move two squares horizontally and one square vertically , or two squares vertically and one square horizontally . The complete move therefore looks like the letter ` L' . Unlike all other standard chess pieces , the knight can ` jump over ' all other pawns and pieces -LRB- of either color -RRB- to its destination square . It captures an enemy piece by moving into its square . The knight 's ability to ` jump over ' other pieces means it is at its most powerful in closed positions . The move is one of the longest-surviving moves in chess , having remained unchanged since before the seventh century AD . Because of this it also appears in most chess-related national games . The knight moves alternately to white and black squares . A knight should always be close to where the action is . Pieces are generally more powerful if placed n\n",
            "20 Knight -LRB- chess -RRB- - Wikipedia , the free encyclopedia Knight -LRB- chess -RRB- From Wikipedia , the free encyclopedia -LRB- Redirected from Chess/Knight -RRB- Jump to : navigation , search For other uses , see Knight -LRB- disambiguation -RRB- . This article uses algebraic notation to describe chess moves . Knight in the standard Staunton pattern The knight -LRB- -RRB- is a piece in the game of chess , representing a knight -LRB- armoured cavalry -RRB- . It is normally represented by a horse 's head , leading some to refer to it informally as a `` horse '' . Each player starts with two knights , which start on the rank closest to the player . Expressed in algebraic notation , the white knights start on b1 and g1 , while the black knights start on b8 and g8 . Contents 1 Movement 2 Value 3 Properties 4 Notation 5 See also 6 Notes 7 References -LSB- edit -RSB- Movement Location of the knights at the start of the game The black knight may move to any of eight squares -LRB- black dots -RRB- . The white knight is limited to two squares -LRB- white dots -RRB- . Chess pieces King Queen Rook Bishop Knight Pawn The knight move is unusual among chess pieces . When it moves , it can move two squares horizontally and one square vertically , or two squares vertically and one square horizontally . The complete move therefore looks like the letter ` L' . Unlike all other standard chess pieces , the knight can ` jump over ' all other pawns and pieces -LRB- of either color -RRB- to its destination square . It captures an enemy piece by moving into its square . The knight 's ability to ` jump over ' other pieces means it is at its most powerful in closed positions . The move is one of the longest-surviving moves in chess , having remained unchanged since before the seventh century AD . Because of this it also appears in most chess-related national games . The knight moves alternately to white and black squares . A knight should always be close to where the action is . Pieces are generally more powerful if placed near the cen\n",
            "20 Knight -LRB- chess -RRB- - Wikipedia , the free encyclopedia Knight -LRB- chess -RRB- From Wikipedia , the free encyclopedia Jump to : navigation , search For other uses , see Knight -LRB- disambiguation -RRB- . This article uses algebraic notation to describe chess moves . Knight in the standard Staunton pattern The knight -LRB- -RRB- is a piece in the game of chess , representing a knight -LRB- armoured cavalry -RRB- . It is normally represented by a horse 's head , leading some to refer to it informally as a `` horse '' . Each player starts with two knights , which start on the rank closest to the player . Expressed in algebraic notation , the white knights start on b1 and g1 , while the black knights start on b8 and g8 . Contents 1 Movement 2 Value 3 Properties 4 Notation 5 See also 6 Notes 7 References -LSB- edit -RSB- Movement Location of the knights at the start of the game The black knight may move to any of eight squares -LRB- black dots -RRB- . The white knight is limited to two squares -LRB- white dots -RRB- . Chess pieces King Queen Rook Bishop Knight Pawn The knight move is unusual among chess pieces . When it moves , it can move two squares horizontally and one square vertically , or two squares vertically and one square horizontally . The complete move therefore looks like the letter ` L' . Unlike all other standard chess pieces , the knight can ` jump over ' all other pawns and pieces -LRB- of either color -RRB- to its destination square . It captures an enemy piece by moving into its square . The knight 's ability to ` jump over ' other pieces means it is at its most powerful in closed positions . The move is one of the longest-surviving moves in chess , having remained unchanged since before the seventh century AD . Because of this it also appears in most chess-related national games . The knight moves alternately to white and black squares . A knight should always be close to where the action is . Pieces are generally more powerful if placed near the center of the board , but this is particular\n",
            "20 Chess lessons for teachers Chess Lessons for the Chess Teacher Brought to you by Chess Dominion Table of Contents The Basic Rules of Chess General Principles of Chess Strategy Tactics Illustrative Games Practice Games Tips for Teachers I . The Basic Rules of Chess Chess Party # 1 Chess Board The chess board is a battlefield of 64 light and dark squares . A light square is always on the player 's right -- White on right ! Chess Party # 2 Chess Notation Every soldier has a home Pieces - K = King N = Knight R = Rook B = Bishop Q = Queen Files-vertical up and down -LRB- a , b , c. . . h -RRB- Ranks - across -LRB- 1,2,3 ... 8 -RRB- Say the letter of the piece first followed by the file and then the corresponding rank . Ex : Ne5 Kh7 It is good to learn chess notation because : it enables students to record games for later analysis if you are giving a lecture on a demonstration board it is easier for students to say their intended ideas rather than shouting `` that piece goes over there '' or running up to show you . It is good to teach notation early and incorporate it in all subsequent lessons so students can get used to using it . Chess Party # 3 Pieces Pawn the only soldier on foot , it does n't move as fast as the others moves one or two squares on its first move and then up one square thereafter captures by moving diagonally one square when the pawn reaches the last rank it can turn into any other soldier of the same color except the king the pawn has a value of $ 1 let the kids play the Pawn Game Knight moves in the shape of the letter L - two squares in any straight line on a rank or file and then one square to any side the only soldier that can hop over other men has a value of $ 3 let the kids play Horse Races Bishop moves along the diagonals of the color it originally started on has a value of $ 3 Rook moves in straight lines - up , down , left and right has a value of $ 5 Queen can move like a rook in a straight line and like a bishop along the diagonals most powerful piece worth $ 10 King most important pie\n",
            "20 Intuitor Chess Instructions for Beginners Chess Instructions for Beginners Introduction The game of chess is over 1300 years old and is one of the most popular games in the world . It has received more total thought time than many great works of art and literature . Like a great work of art , chess is a paradox on many levels . It 's easy to learn but can take a lifetime to master . There are few games which can match its usefulness as a tool for developing mental abilities , yet it 's downright fun . Intuitor.com has provided these online instructions to assist beginners and help promote the outstanding game of chess . Chess is a two-person board game which simulates a battle between two opposing armies . The board has sixty-four squares of alternating colors . Each player has a set of sixteen pieces as shown below . One player will have a set of dark or black pieces and the other a light or white set . These symbolize opposing armies . 8 Pawns 2 Bishops 2 Knights 2 Rooks , or Castles 1 Queen 1 King Moving and capturing : White moves first followed by black . The players continue taking turns using only their own pieces until the game ends . A turn consists of a single act of either moving or capturing . When a piece is moved , it is relocated in the center of a different square . A player can only capture an opponent 's piece , not their own . When a chess piece is captured , it is removed from the board and replaced by the attacking piece . Unlike checkers , multiple captures are not allowed during the same move . Captures are also optional . The exception is when the king is in jeopardy and the only way to save him is to capture a threatening piece . Board Setup The playing board is the battlefield of the game . It 's traditionally oriented so that each player has a white square on the corner to his or her right . The pieces are arranged on the board as shown . Note that the queen always is placed on a square of her own color . figure 1 . Chess Board Setup Description of Pieces Pawn : The pawn is considered t\n",
            "20 Chess - Conservapedia Chess From Conservapedia Jump to : navigation , search A typical chess set and tournament clock . Chess is a turn-based board game for two players , and is one of the most popular games in the world . The goal of the game is to place the opposing king into checkmate , that is , a position in which the king is under attack but can not escape . The game used to be treated as a status symbol of education and aristocracy and in recent times has become to be known as an elitist 's game . Modern international chess has a powerful , sweeping queen who was not a piece provided in the original game . The long reach of bishops today was also lacking at first . Maneuvers such as castling or capturing en passant have been developed within the past few hundred years . Today , chess is one of the most popular board games in the world . International competitions , including world championship events , are organized by an organization called FIDE and American competition organized by the USCF -LRB- United States Chess Federation -RRB- . The only American world champion was Bobby Fischer , although Paul Morphy of Louisiana was likely the strongest player in the world in the 1850s , before a formal world champion was determined . The current world champion is Indian Viswanathan `` Vishy '' Anand . Contents 1 Origins 2 The Board 3 Pieces 3.1 Relative Value of Pieces 3.2 Style 4 Gameplay 4.1 Initial Conditions 4.2 Movement 4.2.1 Capturing 4.2.2 Special Moves 4.3 The end of the game 4.3.1 Checkmate 4.3.2 Draw 5 Notation 5.1 For all forms of Notation 5.1.1 Pieces 5.1.2 Moves 5.2 Algebraic 5.2.1 The Board 5.2.2 Movement 5.2.3 Captures 5.3 Descriptive 6 Tactics and strategy 7 Chess Variants 8 Computer Chess 9 External links Origins Chess has its roots in India , where a game called Shaturanga was played . The earliest extant description of the game is contained in the Bhavishya Purana , which dates from A.D. 300 to A.D. 600 . Shaturanga used dice , but Hinduism bans gambling . As a result , the game of chess devel\n",
            "20 What are the pieces worth ? Products & Features Main Page | Shop | Rules | Ratings | Links | Download Free Program | Wall of Honor Gothic Chess Info Gothic Chess Blog Discussion Board What are the pieces worth ? Gothic Chess Software About Gothic Vortex Download A Free Copy Buy A Very Strong Version Other Gothic Chess Programs Gothic Chess Sets Standard Tournament Edition House of Staunton Boards Gothic Chess Games Replay Great Games Greatest Games as Movies Computer World Championships Live Online Archive BrainKing Archive Openings Endings Overview of Piece Values On the regular 8x8 chessboard , we are taught there are three kinds of material : pieces , pawns , and the kings . Pieces are given their value in terms of pawns . For example , most people recognize that a bishop is `` worth '' 3 pawns . We generally do not include a value for the king , since it is never traded during the course of play . We are also taught there there are two types of pieces : `` major '' and `` minor '' pieces . A major piece is one that can deliver checkmate , even if only its friendly king is on the board . Since it is possible to mate with king and rook vs. a lone king , we say that a rook is a major piece . A queen is likewise a major piece . But , since a bishop can not deliver such a checkmate , it is designated as a minor piece . The same is true of a knight : it can not mate a lone enemy king by itself . Therefore , it , too , is considered a minor piece . Now it is true that a bishop and knight can mate an enemy king if they are both on the board , but this is not what we were talking about . Before going any further , a short table of relative piece values is presented below . Please note : The data is not a `` universal truth '' of any kind , just a guideline which can be used to help you determine if you should engage in a particular trade of some kind . Gothic Chess Piece Values Piece Value Piece Value Pawn 1.00 Archbishop 6.50 Knight 2.50 Chancellor 8.25 Bishop 3.00 Queen 8.75 Rook 4.75 King Using the table Examine th\n",
            "20 Chess tactics - Wikipedia , the free encyclopedia Chess tactics From Wikipedia , the free encyclopedia Jump to : navigation , search This article uses algebraic notation to describe chess moves . In chess , a tactic refers to a short sequence of moves which limits the opponent 's options and may result in tangible gain . Tactics are usually contrasted to strategy , in which advantages take longer to be realized , and the opponent is less constrained in responding -LSB- 1 -RSB- . The fundamental building blocks of tactics are two-move sequences in which the first move poses a double threat . The opponent is unable to respond to both threats in one move , so the first player realizes an advantage on the second move . This includes forks , skewers , batteries , discovered attacks , x-ray attacks , undermining , overloading , deflection , and interference -LSB- 2 -RSB- . Pins also fall into this category to some extent , although it is common for a defending player to relieve neither of the two threats posed by a pin , in which case the attacking player commonly maintains the pin for a longer period of time . A pin is therefore sometimes more strategic than tactical . Often tactics of several types are conjoined in a combination . A combination , while still constraining the opponent 's responses , takes several moves to obtain an advantage , and thus is considered deeper and more spectacular than the basic tactics listed above . Chess computers are considered superhuman at tactics , but rather spotty at strategy . Computers do not think about tactics in human terms -LRB- fork , skewer , etc. -RRB- ; rather , they apply very simple rules to evaluate hundreds of thousands of sequences , the vast majority of which are spurious . Contents 1 Attacking and defending pieces 2 Discovered attack 3 Fork 4 Pin 5 Skewer 6 Pawns 7 Sacrifices 8 Zugzwang 9 Zwischenzug 10 See also 11 References 12 Further reading 13 External links -LSB- edit -RSB- Attacking and defending pieces A piece is said to attack -LRB- or threaten -RRB- an o\n",
            "20 Chess tactics - Wikipedia , the free encyclopedia Chess tactics From Wikipedia , the free encyclopedia -LRB- Redirected from Tactic -LRB- chess -RRB- -RRB- Jump to : navigation , search This article uses algebraic notation to describe chess moves . In chess , a tactic refers to a short sequence of moves which limits the opponent 's options and may result in tangible gain . Tactics are usually contrasted to strategy , in which advantages take longer to be realized , and the opponent is less constrained in responding -LSB- 1 -RSB- . The fundamental building blocks of tactics are two-move sequences in which the first move poses a double threat . The opponent is unable to respond to both threats in one move , so the first player realizes an advantage on the second move . This includes forks , skewers , batteries , discovered attacks , x-ray attacks , undermining , overloading , deflection , and interference -LSB- 2 -RSB- . Pins also fall into this category to some extent , although it is common for a defending player to relieve neither of the two threats posed by a pin , in which case the attacking player commonly maintains the pin for a longer period of time . A pin is therefore sometimes more strategic than tactical . Often tactics of several types are conjoined in a combination . A combination , while still constraining the opponent 's responses , takes several moves to obtain an advantage , and thus is considered deeper and more spectacular than the basic tactics listed above . Chess computers are considered superhuman at tactics , but rather poor at strategy . Computers do not think about tactics in human terms -LRB- fork , skewer , etc. -RRB- ; rather , they apply very simple rules to evaluate hundreds of thousands of sequences , the vast majority of which are spurious . Contents 1 Attacking and defending pieces 2 Discovered attack 3 Fork 4 Pin 5 Skewer 6 Pawns 7 Sacrifices 8 Zugzwang 9 Zwischenzug 10 See also 11 References 12 Further reading 13 External links -LSB- edit -RSB- Attacking and defending pieces A p\n",
            "20 Chess tactics - Wikipedia , the free encyclopedia Chess tactics From Wikipedia , the free encyclopedia -LRB- Redirected from Tactics -LRB- chess -RRB- -RRB- Jump to : navigation , search This article uses algebraic notation to describe chess moves . In chess , a tactic refers to a short sequence of moves which limits the opponent 's options and may result in tangible gain . Tactics are usually contrasted to strategy , in which advantages take longer to be realized , and the opponent is less constrained in responding -LSB- 1 -RSB- . The fundamental building blocks of tactics are two-move sequences in which the first move poses a double threat . The opponent is unable to respond to both threats in one move , so the first player realizes an advantage on the second move . This includes forks , skewers , batteries , discovered attacks , x-ray attacks , undermining , overloading , deflection , and interference -LSB- 2 -RSB- . Pins also fall into this category to some extent , although it is common for a defending player to relieve neither of the two threats posed by a pin , in which case the attacking player commonly maintains the pin for a longer period of time . A pin is therefore sometimes more strategic than tactical . Often tactics of several types are conjoined in a combination . A combination , while still constraining the opponent 's responses , takes several moves to obtain an advantage , and thus is considered deeper and more spectacular than the basic tactics listed above . Chess computers are considered superhuman at tactics , but rather poor at strategy . Computers do not think about tactics in human terms -LRB- fork , skewer , etc. -RRB- ; rather , they apply very simple rules to evaluate hundreds of thousands of sequences , the vast majority of which are spurious . Contents 1 Attacking and defending pieces 2 Discovered attack 3 Fork 4 Pin 5 Skewer 6 Pawns 7 Sacrifices 8 Zugzwang 9 Zwischenzug 10 See also 11 References 12 Further reading 13 External links -LSB- edit -RSB- Attacking and defending pieces A \n",
            "20 Chess tactics - Wikipedia , the free encyclopedia Chess tactics From Wikipedia , the free encyclopedia -LRB- Redirected from Chess tactic -RRB- Jump to : navigation , search This article uses algebraic notation to describe chess moves . In chess , a tactic refers to a short sequence of moves which limits the opponent 's options and may result in tangible gain . Tactics are usually contrasted to strategy , in which advantages take longer to be realized , and the opponent is less constrained in responding -LSB- 1 -RSB- . The fundamental building blocks of tactics are two-move sequences in which the first move poses a double threat . The opponent is unable to respond to both threats in one move , so the first player realizes an advantage on the second move . This includes forks , skewers , batteries , discovered attacks , x-ray attacks , undermining , overloading , deflection , and interference -LSB- 2 -RSB- . Pins also fall into this category to some extent , although it is common for a defending player to relieve neither of the two threats posed by a pin , in which case the attacking player commonly maintains the pin for a longer period of time . A pin is therefore sometimes more strategic than tactical . Often tactics of several types are conjoined in a combination . A combination , while still constraining the opponent 's responses , takes several moves to obtain an advantage , and thus is considered deeper and more spectacular than the basic tactics listed above . Chess computers are considered superhuman at tactics , but rather spotty at strategy . Computers do not think about tactics in human terms -LRB- fork , skewer , etc. -RRB- ; rather , they apply very simple rules to evaluate hundreds of thousands of sequences , the vast majority of which are spurious . Contents 1 Attacking and defending pieces 2 Discovered attack 3 Fork 4 Pin 5 Skewer 6 Pawns 7 Sacrifices 8 Zugzwang 9 Zwischenzug 10 See also 11 References 12 Further reading 13 External links -LSB- edit -RSB- Attacking and defending pieces A piece is sa\n"
          ],
          "name": "stdout"
        }
      ]
    },
    {
      "cell_type": "code",
      "metadata": {
        "id": "DX2UWuoYgjYN",
        "colab_type": "code",
        "colab": {}
      },
      "source": [
        "#lets try some nltk libraries to check some bert based apis\n",
        "import nltk"
      ],
      "execution_count": 0,
      "outputs": []
    },
    {
      "cell_type": "code",
      "metadata": {
        "id": "f_wNZJG_g7DT",
        "colab_type": "code",
        "colab": {}
      },
      "source": [
        "from nltk.corpus import gutenberg\n",
        "from nltk.tokenize.treebank import TreebankWordDetokenizer, TreebankWordTokenizer \n",
        "from sklearn.feature_extraction.text import TfidfVectorizer, CountVectorizer\n",
        "from sklearn.metrics.pairwise import cosine_similarity"
      ],
      "execution_count": 0,
      "outputs": []
    },
    {
      "cell_type": "code",
      "metadata": {
        "id": "Q-ij3L-th3Q_",
        "colab_type": "code",
        "outputId": "496d326e-87d2-4a71-a354-139a9734b660",
        "colab": {
          "base_uri": "https://localhost:8080/",
          "height": 1000
        }
      },
      "source": [
        "!pip install deeppavlov\n",
        "!pip install transformers"
      ],
      "execution_count": 34,
      "outputs": [
        {
          "output_type": "stream",
          "text": [
            "Collecting deeppavlov\n",
            "\u001b[?25l  Downloading https://files.pythonhosted.org/packages/10/7d/218b732f0a52eaf39e6d84f171456182f6548405e2b5ec3e573e77aba69f/deeppavlov-0.9.0-py3-none-any.whl (777kB)\n",
            "\u001b[K     |████████████████████████████████| 778kB 3.5MB/s \n",
            "\u001b[?25hCollecting pymorphy2==0.8\n",
            "\u001b[?25l  Downloading https://files.pythonhosted.org/packages/a3/33/fff9675c68b5f6c63ec8c6e6ff57827dda28a1fa5b2c2d727dffff92dd47/pymorphy2-0.8-py2.py3-none-any.whl (46kB)\n",
            "\u001b[K     |████████████████████████████████| 51kB 9.1MB/s \n",
            "\u001b[?25hCollecting tqdm==4.41.1\n",
            "\u001b[?25l  Downloading https://files.pythonhosted.org/packages/72/c9/7fc20feac72e79032a7c8138fd0d395dc6d8812b5b9edf53c3afd0b31017/tqdm-4.41.1-py2.py3-none-any.whl (56kB)\n",
            "\u001b[K     |████████████████████████████████| 61kB 10.2MB/s \n",
            "\u001b[?25hRequirement already satisfied: scipy==1.4.1 in /usr/local/lib/python3.6/dist-packages (from deeppavlov) (1.4.1)\n",
            "Collecting pyopenssl==19.1.0\n",
            "\u001b[?25l  Downloading https://files.pythonhosted.org/packages/9e/de/f8342b68fa9e981d348039954657bdf681b2ab93de27443be51865ffa310/pyOpenSSL-19.1.0-py2.py3-none-any.whl (53kB)\n",
            "\u001b[K     |████████████████████████████████| 61kB 10.5MB/s \n",
            "\u001b[?25hCollecting pydantic==1.3\n",
            "\u001b[?25l  Downloading https://files.pythonhosted.org/packages/99/24/e78cf017628e7eaed20cb040999b1ecc69f872da53dfd0d9aed40c0fa5f1/pydantic-1.3-cp36-cp36m-manylinux2010_x86_64.whl (7.3MB)\n",
            "\u001b[K     |████████████████████████████████| 7.3MB 22.1MB/s \n",
            "\u001b[?25hCollecting fastapi==0.47.1\n",
            "\u001b[?25l  Downloading https://files.pythonhosted.org/packages/a3/a7/4804d7abf8a1544d079d50650af872387154ebdac5bd07d54b2e60e2b334/fastapi-0.47.1-py3-none-any.whl (43kB)\n",
            "\u001b[K     |████████████████████████████████| 51kB 8.4MB/s \n",
            "\u001b[?25hCollecting pymorphy2-dicts-ru\n",
            "\u001b[?25l  Downloading https://files.pythonhosted.org/packages/7c/9b/358faaff410f65a4ad159275e897b5956dcb20576c5b8e764b971c1634d7/pymorphy2_dicts_ru-2.4.404381.4453942-py2.py3-none-any.whl (8.0MB)\n",
            "\u001b[K     |████████████████████████████████| 8.0MB 33.8MB/s \n",
            "\u001b[?25hCollecting pandas==0.25.3\n",
            "\u001b[?25l  Downloading https://files.pythonhosted.org/packages/52/3f/f6a428599e0d4497e1595030965b5ba455fd8ade6e977e3c819973c4b41d/pandas-0.25.3-cp36-cp36m-manylinux1_x86_64.whl (10.4MB)\n",
            "\u001b[K     |████████████████████████████████| 10.4MB 64.7MB/s \n",
            "\u001b[?25hCollecting ruamel.yaml==0.15.100\n",
            "\u001b[?25l  Downloading https://files.pythonhosted.org/packages/e7/9f/83bb34eaf84032b0b54fcc4a6aff1858572d279d65a301c7ae875f523df5/ruamel.yaml-0.15.100-cp36-cp36m-manylinux1_x86_64.whl (656kB)\n",
            "\u001b[K     |████████████████████████████████| 665kB 60.1MB/s \n",
            "\u001b[?25hCollecting Cython==0.29.14\n",
            "\u001b[?25l  Downloading https://files.pythonhosted.org/packages/df/d1/4d3f8a7a920e805488a966cc6ab55c978a712240f584445d703c08b9f405/Cython-0.29.14-cp36-cp36m-manylinux1_x86_64.whl (2.1MB)\n",
            "\u001b[K     |████████████████████████████████| 2.1MB 62.8MB/s \n",
            "\u001b[?25hRequirement already satisfied: h5py==2.10.0 in /usr/local/lib/python3.6/dist-packages (from deeppavlov) (2.10.0)\n",
            "Collecting scikit-learn==0.21.2\n",
            "\u001b[?25l  Downloading https://files.pythonhosted.org/packages/85/04/49633f490f726da6e454fddc8e938bbb5bfed2001681118d3814c219b723/scikit_learn-0.21.2-cp36-cp36m-manylinux1_x86_64.whl (6.7MB)\n",
            "\u001b[K     |████████████████████████████████| 6.7MB 62.5MB/s \n",
            "\u001b[?25hCollecting nltk==3.4.5\n",
            "\u001b[?25l  Downloading https://files.pythonhosted.org/packages/f6/1d/d925cfb4f324ede997f6d47bea4d9babba51b49e87a767c170b77005889d/nltk-3.4.5.zip (1.5MB)\n",
            "\u001b[K     |████████████████████████████████| 1.5MB 65.4MB/s \n",
            "\u001b[?25hCollecting numpy==1.18.0\n",
            "\u001b[?25l  Downloading https://files.pythonhosted.org/packages/92/e6/45f71bd24f4e37629e9db5fb75caab919507deae6a5a257f9e4685a5f931/numpy-1.18.0-cp36-cp36m-manylinux1_x86_64.whl (20.1MB)\n",
            "\u001b[K     |████████████████████████████████| 20.1MB 255kB/s \n",
            "\u001b[?25hCollecting uvicorn==0.11.1\n",
            "\u001b[?25l  Downloading https://files.pythonhosted.org/packages/8e/24/11f4b4bf3963ead6de570feeae49eeced02f6768cf1f68e16f4b16d3b0aa/uvicorn-0.11.1-py3-none-any.whl (42kB)\n",
            "\u001b[K     |████████████████████████████████| 51kB 9.1MB/s \n",
            "\u001b[?25hCollecting fuzzywuzzy==0.17.0\n",
            "  Downloading https://files.pythonhosted.org/packages/d8/f1/5a267addb30ab7eaa1beab2b9323073815da4551076554ecc890a3595ec9/fuzzywuzzy-0.17.0-py2.py3-none-any.whl\n",
            "Collecting requests==2.22.0\n",
            "\u001b[?25l  Downloading https://files.pythonhosted.org/packages/51/bd/23c926cd341ea6b7dd0b2a00aba99ae0f828be89d72b2190f27c11d4b7fb/requests-2.22.0-py2.py3-none-any.whl (57kB)\n",
            "\u001b[K     |████████████████████████████████| 61kB 10.7MB/s \n",
            "\u001b[?25hCollecting overrides==2.7.0\n",
            "  Downloading https://files.pythonhosted.org/packages/ac/98/2430afd204c48ac0a529d439d7e22df8fa603c668d03456b5947cb59ec36/overrides-2.7.0.tar.gz\n",
            "Collecting rusenttokenize==0.0.5\n",
            "  Downloading https://files.pythonhosted.org/packages/25/4c/a2f00be5def774a3df2e5387145f1cb54e324607ec4a7e23f573645946e7/rusenttokenize-0.0.5-py3-none-any.whl\n",
            "Collecting pytelegrambotapi==3.6.7\n",
            "\u001b[?25l  Downloading https://files.pythonhosted.org/packages/62/ab/99c606f69fcda57e35788b913dd34c9d9acb48dd26349141b3855dcf6351/pyTelegramBotAPI-3.6.7.tar.gz (65kB)\n",
            "\u001b[K     |████████████████████████████████| 71kB 12.9MB/s \n",
            "\u001b[?25hCollecting aio-pika==6.4.1\n",
            "\u001b[?25l  Downloading https://files.pythonhosted.org/packages/c8/07/196a4115cbef31fa0c3dabdea146f02dffe5e49998341d20dbe2278953bc/aio_pika-6.4.1-py3-none-any.whl (40kB)\n",
            "\u001b[K     |████████████████████████████████| 51kB 8.7MB/s \n",
            "\u001b[?25hRequirement already satisfied: docopt>=0.6 in /usr/local/lib/python3.6/dist-packages (from pymorphy2==0.8->deeppavlov) (0.6.2)\n",
            "Collecting pymorphy2-dicts<3.0,>=2.4\n",
            "\u001b[?25l  Downloading https://files.pythonhosted.org/packages/02/51/2465fd4f72328ab50877b54777764d928da8cb15b74e2680fc1bd8cb3173/pymorphy2_dicts-2.4.393442.3710985-py2.py3-none-any.whl (7.1MB)\n",
            "\u001b[K     |████████████████████████████████| 7.1MB 60.2MB/s \n",
            "\u001b[?25hCollecting dawg-python>=0.7\n",
            "  Downloading https://files.pythonhosted.org/packages/6a/84/ff1ce2071d4c650ec85745766c0047ccc3b5036f1d03559fd46bb38b5eeb/DAWG_Python-0.7.2-py2.py3-none-any.whl\n",
            "Requirement already satisfied: six>=1.5.2 in /usr/local/lib/python3.6/dist-packages (from pyopenssl==19.1.0->deeppavlov) (1.12.0)\n",
            "Collecting cryptography>=2.8\n",
            "\u001b[?25l  Downloading https://files.pythonhosted.org/packages/3c/04/686efee2dcdd25aecf357992e7d9362f443eb182ecd623f882bc9f7a6bba/cryptography-2.9.2-cp35-abi3-manylinux2010_x86_64.whl (2.7MB)\n",
            "\u001b[K     |████████████████████████████████| 2.7MB 55.1MB/s \n",
            "\u001b[?25hRequirement already satisfied: dataclasses>=0.6; python_version < \"3.7\" in /usr/local/lib/python3.6/dist-packages (from pydantic==1.3->deeppavlov) (0.7)\n",
            "Collecting starlette<=0.12.9,>=0.12.9\n",
            "\u001b[?25l  Downloading https://files.pythonhosted.org/packages/67/95/2220fe5bf287e693a6430d8ee36c681b0157035b7249ec08f8fb36319d16/starlette-0.12.9.tar.gz (46kB)\n",
            "\u001b[K     |████████████████████████████████| 51kB 9.6MB/s \n",
            "\u001b[?25hRequirement already satisfied: pytz>=2017.2 in /usr/local/lib/python3.6/dist-packages (from pandas==0.25.3->deeppavlov) (2018.9)\n",
            "Requirement already satisfied: python-dateutil>=2.6.1 in /usr/local/lib/python3.6/dist-packages (from pandas==0.25.3->deeppavlov) (2.8.1)\n",
            "Requirement already satisfied: joblib>=0.11 in /usr/local/lib/python3.6/dist-packages (from scikit-learn==0.21.2->deeppavlov) (0.14.1)\n",
            "Collecting httptools==0.0.13; sys_platform != \"win32\" and sys_platform != \"cygwin\" and platform_python_implementation != \"pypy\"\n",
            "\u001b[?25l  Downloading https://files.pythonhosted.org/packages/1b/03/215969db11abe8741e9c266a4cbe803a372bd86dd35fa0084c4df6d4bd00/httptools-0.0.13.tar.gz (104kB)\n",
            "\u001b[K     |████████████████████████████████| 112kB 65.0MB/s \n",
            "\u001b[?25hCollecting h11<0.10,>=0.8\n",
            "\u001b[?25l  Downloading https://files.pythonhosted.org/packages/5a/fd/3dad730b0f95e78aeeb742f96fa7bbecbdd56a58e405d3da440d5bfb90c6/h11-0.9.0-py2.py3-none-any.whl (53kB)\n",
            "\u001b[K     |████████████████████████████████| 61kB 11.4MB/s \n",
            "\u001b[?25hCollecting uvloop>=0.14.0; sys_platform != \"win32\" and sys_platform != \"cygwin\" and platform_python_implementation != \"pypy\"\n",
            "\u001b[?25l  Downloading https://files.pythonhosted.org/packages/41/48/586225bbb02d3bdca475b17e4be5ce5b3f09da2d6979f359916c1592a687/uvloop-0.14.0-cp36-cp36m-manylinux2010_x86_64.whl (3.9MB)\n",
            "\u001b[K     |████████████████████████████████| 3.9MB 59.0MB/s \n",
            "\u001b[?25hCollecting websockets==8.*\n",
            "\u001b[?25l  Downloading https://files.pythonhosted.org/packages/bb/d9/856af84843912e2853b1b6e898ac8b802989fcf9ecf8e8445a1da263bf3b/websockets-8.1-cp36-cp36m-manylinux2010_x86_64.whl (78kB)\n",
            "\u001b[K     |████████████████████████████████| 81kB 13.2MB/s \n",
            "\u001b[?25hRequirement already satisfied: click==7.* in /usr/local/lib/python3.6/dist-packages (from uvicorn==0.11.1->deeppavlov) (7.1.1)\n",
            "Requirement already satisfied: certifi>=2017.4.17 in /usr/local/lib/python3.6/dist-packages (from requests==2.22.0->deeppavlov) (2020.4.5.1)\n",
            "Requirement already satisfied: idna<2.9,>=2.5 in /usr/local/lib/python3.6/dist-packages (from requests==2.22.0->deeppavlov) (2.8)\n",
            "Requirement already satisfied: chardet<3.1.0,>=3.0.2 in /usr/local/lib/python3.6/dist-packages (from requests==2.22.0->deeppavlov) (3.0.4)\n",
            "Requirement already satisfied: urllib3!=1.25.0,!=1.25.1,<1.26,>=1.21.1 in /usr/local/lib/python3.6/dist-packages (from requests==2.22.0->deeppavlov) (1.24.3)\n",
            "Collecting yarl\n",
            "\u001b[?25l  Downloading https://files.pythonhosted.org/packages/95/8f/0209fc5d975f839344c33c822ff2f7ef80f6b1e984673a5a68f960bfa583/yarl-1.4.2-cp36-cp36m-manylinux1_x86_64.whl (252kB)\n",
            "\u001b[K     |████████████████████████████████| 256kB 67.9MB/s \n",
            "\u001b[?25hCollecting aiormq<4,>=3.2.0\n",
            "  Downloading https://files.pythonhosted.org/packages/bc/f8/77a1694064c677afaaae111e28e2b32dd70c5f9dce3836bad0df20f27201/aiormq-3.2.1-py3-none-any.whl\n",
            "Requirement already satisfied: cffi!=1.11.3,>=1.8 in /usr/local/lib/python3.6/dist-packages (from cryptography>=2.8->pyopenssl==19.1.0->deeppavlov) (1.14.0)\n",
            "Collecting multidict>=4.0\n",
            "\u001b[?25l  Downloading https://files.pythonhosted.org/packages/30/2e/3ab2f1fb72571f75013db323a3799d505d99f3bc203513604f1ffb9b7858/multidict-4.7.5-cp36-cp36m-manylinux1_x86_64.whl (148kB)\n",
            "\u001b[K     |████████████████████████████████| 153kB 70.2MB/s \n",
            "\u001b[?25hCollecting pamqp==2.3.0\n",
            "  Downloading https://files.pythonhosted.org/packages/eb/56/afa06143361e640c9159d828dadc95fc9195c52c95b4a97d136617b0166d/pamqp-2.3.0-py2.py3-none-any.whl\n",
            "Requirement already satisfied: pycparser in /usr/local/lib/python3.6/dist-packages (from cffi!=1.11.3,>=1.8->cryptography>=2.8->pyopenssl==19.1.0->deeppavlov) (2.20)\n",
            "Building wheels for collected packages: nltk, overrides, pytelegrambotapi, starlette, httptools\n",
            "  Building wheel for nltk (setup.py) ... \u001b[?25l\u001b[?25hdone\n",
            "  Created wheel for nltk: filename=nltk-3.4.5-cp36-none-any.whl size=1449908 sha256=0ea54c6aa351b6657bf8676eaf5e432be2fc1d65aa2dea8ea1e41e126bbc093a\n",
            "  Stored in directory: /root/.cache/pip/wheels/96/86/f6/68ab24c23f207c0077381a5e3904b2815136b879538a24b483\n",
            "  Building wheel for overrides (setup.py) ... \u001b[?25l\u001b[?25hdone\n",
            "  Created wheel for overrides: filename=overrides-2.7.0-cp36-none-any.whl size=5600 sha256=a3dbf078f8edc23617b4e940143f6c9b5d09625c3a3cf4ac33dd8892b1530d9a\n",
            "  Stored in directory: /root/.cache/pip/wheels/8c/7c/ef/80508418b67d87371c5b3de49e03eb22ee7c1d19affb5099f8\n",
            "  Building wheel for pytelegrambotapi (setup.py) ... \u001b[?25l\u001b[?25hdone\n",
            "  Created wheel for pytelegrambotapi: filename=pyTelegramBotAPI-3.6.7-cp36-none-any.whl size=47178 sha256=c37db915260e45ba05dd7c28ecbd08fa94adba78ad7d62923b6280650d3507e3\n",
            "  Stored in directory: /root/.cache/pip/wheels/23/40/18/8a34153f95ef0dc19e3954898e5a5079244b76a8afdd7d0ec5\n",
            "  Building wheel for starlette (setup.py) ... \u001b[?25l\u001b[?25hdone\n",
            "  Created wheel for starlette: filename=starlette-0.12.9-cp36-none-any.whl size=57245 sha256=aa930aea9f224a9aa90f93eea0539a9c4b836446c4cd22efbc58c16c2ad9081d\n",
            "  Stored in directory: /root/.cache/pip/wheels/1c/51/5b/3828d52e185cafad941c4291b6f70894d0794be28c70addae5\n",
            "  Building wheel for httptools (setup.py) ... \u001b[?25l\u001b[?25hdone\n",
            "  Created wheel for httptools: filename=httptools-0.0.13-cp36-cp36m-linux_x86_64.whl size=212519 sha256=6a838f0b880d1e25c5aabb94fa3daeea865f53269f9b23d8af79e02695ea7152\n",
            "  Stored in directory: /root/.cache/pip/wheels/e8/3e/2e/013f99b42efc25cf3589730cf380738e46b1e5edaf2f78d525\n",
            "Successfully built nltk overrides pytelegrambotapi starlette httptools\n",
            "\u001b[31mERROR: google-colab 1.0.0 has requirement pandas~=1.0.0; python_version >= \"3.0\", but you'll have pandas 0.25.3 which is incompatible.\u001b[0m\n",
            "\u001b[31mERROR: google-colab 1.0.0 has requirement requests~=2.21.0, but you'll have requests 2.22.0 which is incompatible.\u001b[0m\n",
            "\u001b[31mERROR: datascience 0.10.6 has requirement folium==0.2.1, but you'll have folium 0.8.3 which is incompatible.\u001b[0m\n",
            "\u001b[31mERROR: albumentations 0.1.12 has requirement imgaug<0.2.7,>=0.2.5, but you'll have imgaug 0.2.9 which is incompatible.\u001b[0m\n",
            "Installing collected packages: pymorphy2-dicts, dawg-python, pymorphy2, tqdm, cryptography, pyopenssl, pydantic, starlette, fastapi, pymorphy2-dicts-ru, numpy, pandas, ruamel.yaml, Cython, scikit-learn, nltk, httptools, h11, uvloop, websockets, uvicorn, fuzzywuzzy, requests, overrides, rusenttokenize, pytelegrambotapi, multidict, yarl, pamqp, aiormq, aio-pika, deeppavlov\n",
            "  Found existing installation: tqdm 4.38.0\n",
            "    Uninstalling tqdm-4.38.0:\n",
            "      Successfully uninstalled tqdm-4.38.0\n",
            "  Found existing installation: numpy 1.18.2\n",
            "    Uninstalling numpy-1.18.2:\n",
            "      Successfully uninstalled numpy-1.18.2\n",
            "  Found existing installation: pandas 1.0.3\n",
            "    Uninstalling pandas-1.0.3:\n",
            "      Successfully uninstalled pandas-1.0.3\n",
            "  Found existing installation: Cython 0.29.16\n",
            "    Uninstalling Cython-0.29.16:\n",
            "      Successfully uninstalled Cython-0.29.16\n",
            "  Found existing installation: scikit-learn 0.22.2.post1\n",
            "    Uninstalling scikit-learn-0.22.2.post1:\n",
            "      Successfully uninstalled scikit-learn-0.22.2.post1\n",
            "  Found existing installation: nltk 3.2.5\n",
            "    Uninstalling nltk-3.2.5:\n",
            "      Successfully uninstalled nltk-3.2.5\n",
            "  Found existing installation: requests 2.21.0\n",
            "    Uninstalling requests-2.21.0:\n",
            "      Successfully uninstalled requests-2.21.0\n",
            "Successfully installed Cython-0.29.14 aio-pika-6.4.1 aiormq-3.2.1 cryptography-2.9.2 dawg-python-0.7.2 deeppavlov-0.9.0 fastapi-0.47.1 fuzzywuzzy-0.17.0 h11-0.9.0 httptools-0.0.13 multidict-4.7.5 nltk-3.4.5 numpy-1.18.0 overrides-2.7.0 pamqp-2.3.0 pandas-0.25.3 pydantic-1.3 pymorphy2-0.8 pymorphy2-dicts-2.4.393442.3710985 pymorphy2-dicts-ru-2.4.404381.4453942 pyopenssl-19.1.0 pytelegrambotapi-3.6.7 requests-2.22.0 ruamel.yaml-0.15.100 rusenttokenize-0.0.5 scikit-learn-0.21.2 starlette-0.12.9 tqdm-4.41.1 uvicorn-0.11.1 uvloop-0.14.0 websockets-8.1 yarl-1.4.2\n"
          ],
          "name": "stdout"
        },
        {
          "output_type": "display_data",
          "data": {
            "application/vnd.colab-display-data+json": {
              "pip_warning": {
                "packages": [
                  "nltk",
                  "numpy",
                  "pandas",
                  "requests",
                  "sklearn",
                  "tqdm"
                ]
              }
            }
          },
          "metadata": {
            "tags": []
          }
        },
        {
          "output_type": "stream",
          "text": [
            "Collecting transformers\n",
            "\u001b[?25l  Downloading https://files.pythonhosted.org/packages/a3/78/92cedda05552398352ed9784908b834ee32a0bd071a9b32de287327370b7/transformers-2.8.0-py3-none-any.whl (563kB)\n",
            "\u001b[K     |████████████████████████████████| 573kB 3.5MB/s \n",
            "\u001b[?25hRequirement already satisfied: regex!=2019.12.17 in /usr/local/lib/python3.6/dist-packages (from transformers) (2019.12.20)\n",
            "Collecting sacremoses\n",
            "\u001b[?25l  Downloading https://files.pythonhosted.org/packages/99/50/93509f906a40bffd7d175f97fd75ea328ad9bd91f48f59c4bd084c94a25e/sacremoses-0.0.41.tar.gz (883kB)\n",
            "\u001b[K     |████████████████████████████████| 890kB 60.3MB/s \n",
            "\u001b[?25hCollecting tokenizers==0.5.2\n",
            "\u001b[?25l  Downloading https://files.pythonhosted.org/packages/d1/3f/73c881ea4723e43c1e9acf317cf407fab3a278daab3a69c98dcac511c04f/tokenizers-0.5.2-cp36-cp36m-manylinux1_x86_64.whl (3.7MB)\n",
            "\u001b[K     |████████████████████████████████| 3.7MB 52.6MB/s \n",
            "\u001b[?25hRequirement already satisfied: numpy in /usr/local/lib/python3.6/dist-packages (from transformers) (1.18.0)\n",
            "Requirement already satisfied: filelock in /usr/local/lib/python3.6/dist-packages (from transformers) (3.0.12)\n",
            "Collecting sentencepiece\n",
            "\u001b[?25l  Downloading https://files.pythonhosted.org/packages/74/f4/2d5214cbf13d06e7cb2c20d84115ca25b53ea76fa1f0ade0e3c9749de214/sentencepiece-0.1.85-cp36-cp36m-manylinux1_x86_64.whl (1.0MB)\n",
            "\u001b[K     |████████████████████████████████| 1.0MB 62.8MB/s \n",
            "\u001b[?25hRequirement already satisfied: boto3 in /usr/local/lib/python3.6/dist-packages (from transformers) (1.12.40)\n",
            "Requirement already satisfied: tqdm>=4.27 in /usr/local/lib/python3.6/dist-packages (from transformers) (4.41.1)\n",
            "Requirement already satisfied: requests in /usr/local/lib/python3.6/dist-packages (from transformers) (2.22.0)\n",
            "Requirement already satisfied: dataclasses; python_version < \"3.7\" in /usr/local/lib/python3.6/dist-packages (from transformers) (0.7)\n",
            "Requirement already satisfied: six in /usr/local/lib/python3.6/dist-packages (from sacremoses->transformers) (1.12.0)\n",
            "Requirement already satisfied: click in /usr/local/lib/python3.6/dist-packages (from sacremoses->transformers) (7.1.1)\n",
            "Requirement already satisfied: joblib in /usr/local/lib/python3.6/dist-packages (from sacremoses->transformers) (0.14.1)\n",
            "Requirement already satisfied: botocore<1.16.0,>=1.15.40 in /usr/local/lib/python3.6/dist-packages (from boto3->transformers) (1.15.40)\n",
            "Requirement already satisfied: s3transfer<0.4.0,>=0.3.0 in /usr/local/lib/python3.6/dist-packages (from boto3->transformers) (0.3.3)\n",
            "Requirement already satisfied: jmespath<1.0.0,>=0.7.1 in /usr/local/lib/python3.6/dist-packages (from boto3->transformers) (0.9.5)\n",
            "Requirement already satisfied: idna<2.9,>=2.5 in /usr/local/lib/python3.6/dist-packages (from requests->transformers) (2.8)\n",
            "Requirement already satisfied: certifi>=2017.4.17 in /usr/local/lib/python3.6/dist-packages (from requests->transformers) (2020.4.5.1)\n",
            "Requirement already satisfied: urllib3!=1.25.0,!=1.25.1,<1.26,>=1.21.1 in /usr/local/lib/python3.6/dist-packages (from requests->transformers) (1.24.3)\n",
            "Requirement already satisfied: chardet<3.1.0,>=3.0.2 in /usr/local/lib/python3.6/dist-packages (from requests->transformers) (3.0.4)\n",
            "Requirement already satisfied: docutils<0.16,>=0.10 in /usr/local/lib/python3.6/dist-packages (from botocore<1.16.0,>=1.15.40->boto3->transformers) (0.15.2)\n",
            "Requirement already satisfied: python-dateutil<3.0.0,>=2.1 in /usr/local/lib/python3.6/dist-packages (from botocore<1.16.0,>=1.15.40->boto3->transformers) (2.8.1)\n",
            "Building wheels for collected packages: sacremoses\n",
            "  Building wheel for sacremoses (setup.py) ... \u001b[?25l\u001b[?25hdone\n",
            "  Created wheel for sacremoses: filename=sacremoses-0.0.41-cp36-none-any.whl size=893334 sha256=01bebdc7ac9a840e107f8ae62c80aa2bf400c104e3271511ebd26fe6ba4cb470\n",
            "  Stored in directory: /root/.cache/pip/wheels/22/5a/d4/b020a81249de7dc63758a34222feaa668dbe8ebfe9170cc9b1\n",
            "Successfully built sacremoses\n",
            "Installing collected packages: sacremoses, tokenizers, sentencepiece, transformers\n",
            "Successfully installed sacremoses-0.0.41 sentencepiece-0.1.85 tokenizers-0.5.2 transformers-2.8.0\n"
          ],
          "name": "stdout"
        }
      ]
    },
    {
      "cell_type": "code",
      "metadata": {
        "id": "MtnNfVDdioWz",
        "colab_type": "code",
        "colab": {}
      },
      "source": [
        "from deeppavlov import build_model, configs\n",
        "import torch"
      ],
      "execution_count": 0,
      "outputs": []
    },
    {
      "cell_type": "code",
      "metadata": {
        "id": "nri84LiGy571",
        "colab_type": "code",
        "outputId": "f0e6d94a-c9a8-4d62-8ac8-00a077aec0d0",
        "colab": {
          "base_uri": "https://localhost:8080/",
          "height": 1000
        }
      },
      "source": [
        "!python -m deeppavlov install squad_bert"
      ],
      "execution_count": 36,
      "outputs": [
        {
          "output_type": "stream",
          "text": [
            "2020-04-24 07:33:26.66 INFO in 'deeppavlov.core.common.file'['file'] at line 32: Interpreting 'squad_bert' as '/usr/local/lib/python3.6/dist-packages/deeppavlov/configs/squad/squad_bert.json'\n",
            "Collecting tensorflow==1.15.2\n",
            "\u001b[?25l  Downloading https://files.pythonhosted.org/packages/9a/d9/fd234c7bf68638423fb8e7f44af7fcfce3bcaf416b51e6d902391e47ec43/tensorflow-1.15.2-cp36-cp36m-manylinux2010_x86_64.whl (110.5MB)\n",
            "\u001b[K     |████████████████████████████████| 110.5MB 38kB/s \n",
            "\u001b[?25hRequirement already satisfied: numpy<2.0,>=1.16.0 in /usr/local/lib/python3.6/dist-packages (from tensorflow==1.15.2) (1.18.0)\n",
            "Requirement already satisfied: keras-preprocessing>=1.0.5 in /usr/local/lib/python3.6/dist-packages (from tensorflow==1.15.2) (1.1.0)\n",
            "Requirement already satisfied: wheel>=0.26; python_version >= \"3\" in /usr/local/lib/python3.6/dist-packages (from tensorflow==1.15.2) (0.34.2)\n",
            "Requirement already satisfied: termcolor>=1.1.0 in /usr/local/lib/python3.6/dist-packages (from tensorflow==1.15.2) (1.1.0)\n",
            "Requirement already satisfied: absl-py>=0.7.0 in /usr/local/lib/python3.6/dist-packages (from tensorflow==1.15.2) (0.9.0)\n",
            "Collecting tensorflow-estimator==1.15.1\n",
            "\u001b[?25l  Downloading https://files.pythonhosted.org/packages/de/62/2ee9cd74c9fa2fa450877847ba560b260f5d0fb70ee0595203082dafcc9d/tensorflow_estimator-1.15.1-py2.py3-none-any.whl (503kB)\n",
            "\u001b[K     |████████████████████████████████| 512kB 56.9MB/s \n",
            "\u001b[?25hRequirement already satisfied: wrapt>=1.11.1 in /usr/local/lib/python3.6/dist-packages (from tensorflow==1.15.2) (1.12.1)\n",
            "Requirement already satisfied: protobuf>=3.6.1 in /usr/local/lib/python3.6/dist-packages (from tensorflow==1.15.2) (3.10.0)\n",
            "Requirement already satisfied: astor>=0.6.0 in /usr/local/lib/python3.6/dist-packages (from tensorflow==1.15.2) (0.8.1)\n",
            "Collecting gast==0.2.2\n",
            "  Downloading https://files.pythonhosted.org/packages/4e/35/11749bf99b2d4e3cceb4d55ca22590b0d7c2c62b9de38ac4a4a7f4687421/gast-0.2.2.tar.gz\n",
            "Requirement already satisfied: keras-applications>=1.0.8 in /usr/local/lib/python3.6/dist-packages (from tensorflow==1.15.2) (1.0.8)\n",
            "Collecting tensorboard<1.16.0,>=1.15.0\n",
            "\u001b[?25l  Downloading https://files.pythonhosted.org/packages/1e/e9/d3d747a97f7188f48aa5eda486907f3b345cd409f0a0850468ba867db246/tensorboard-1.15.0-py3-none-any.whl (3.8MB)\n",
            "\u001b[K     |████████████████████████████████| 3.8MB 61.5MB/s \n",
            "\u001b[?25hRequirement already satisfied: grpcio>=1.8.6 in /usr/local/lib/python3.6/dist-packages (from tensorflow==1.15.2) (1.28.1)\n",
            "Requirement already satisfied: opt-einsum>=2.3.2 in /usr/local/lib/python3.6/dist-packages (from tensorflow==1.15.2) (3.2.1)\n",
            "Requirement already satisfied: six>=1.10.0 in /usr/local/lib/python3.6/dist-packages (from tensorflow==1.15.2) (1.12.0)\n",
            "Requirement already satisfied: google-pasta>=0.1.6 in /usr/local/lib/python3.6/dist-packages (from tensorflow==1.15.2) (0.2.0)\n",
            "Requirement already satisfied: setuptools in /usr/local/lib/python3.6/dist-packages (from protobuf>=3.6.1->tensorflow==1.15.2) (46.1.3)\n",
            "Requirement already satisfied: h5py in /usr/local/lib/python3.6/dist-packages (from keras-applications>=1.0.8->tensorflow==1.15.2) (2.10.0)\n",
            "Requirement already satisfied: markdown>=2.6.8 in /usr/local/lib/python3.6/dist-packages (from tensorboard<1.16.0,>=1.15.0->tensorflow==1.15.2) (3.2.1)\n",
            "Requirement already satisfied: werkzeug>=0.11.15 in /usr/local/lib/python3.6/dist-packages (from tensorboard<1.16.0,>=1.15.0->tensorflow==1.15.2) (1.0.1)\n",
            "Building wheels for collected packages: gast\n",
            "  Building wheel for gast (setup.py) ... \u001b[?25l\u001b[?25hdone\n",
            "  Created wheel for gast: filename=gast-0.2.2-cp36-none-any.whl size=7540 sha256=760eb54abdd93ccf2b1756df4a6c33580e4f2e4c8746b7e8a05fe0ebd1290a38\n",
            "  Stored in directory: /root/.cache/pip/wheels/5c/2e/7e/a1d4d4fcebe6c381f378ce7743a3ced3699feb89bcfbdadadd\n",
            "Successfully built gast\n",
            "\u001b[31mERROR: tensorflow-probability 0.10.0rc0 has requirement gast>=0.3.2, but you'll have gast 0.2.2 which is incompatible.\u001b[0m\n",
            "Installing collected packages: tensorflow-estimator, gast, tensorboard, tensorflow\n",
            "  Found existing installation: tensorflow-estimator 2.2.0\n",
            "    Uninstalling tensorflow-estimator-2.2.0:\n",
            "      Successfully uninstalled tensorflow-estimator-2.2.0\n",
            "  Found existing installation: gast 0.3.3\n",
            "    Uninstalling gast-0.3.3:\n",
            "      Successfully uninstalled gast-0.3.3\n",
            "  Found existing installation: tensorboard 2.2.1\n",
            "    Uninstalling tensorboard-2.2.1:\n",
            "      Successfully uninstalled tensorboard-2.2.1\n",
            "  Found existing installation: tensorflow 2.2.0rc3\n",
            "    Uninstalling tensorflow-2.2.0rc3:\n",
            "      Successfully uninstalled tensorflow-2.2.0rc3\n",
            "Successfully installed gast-0.2.2 tensorboard-1.15.0 tensorflow-1.15.2 tensorflow-estimator-1.15.1\n",
            "Collecting git+https://github.com/deepmipt/bert.git@feat/multi_gpu\n",
            "  Cloning https://github.com/deepmipt/bert.git (to revision feat/multi_gpu) to /tmp/pip-req-build-dabz28wl\n",
            "  Running command git clone -q https://github.com/deepmipt/bert.git /tmp/pip-req-build-dabz28wl\n",
            "  Running command git checkout -b feat/multi_gpu --track origin/feat/multi_gpu\n",
            "  Switched to a new branch 'feat/multi_gpu'\n",
            "  Branch 'feat/multi_gpu' set up to track remote branch 'feat/multi_gpu' from 'origin'.\n",
            "Building wheels for collected packages: bert-dp\n",
            "  Building wheel for bert-dp (setup.py) ... \u001b[?25l\u001b[?25hdone\n",
            "  Created wheel for bert-dp: filename=bert_dp-1.0-cp36-none-any.whl size=23581 sha256=b51253bedaeddd7f2132b560c28d945d4f04a38cb77bcf4c822a75fb0093ab1a\n",
            "  Stored in directory: /tmp/pip-ephem-wheel-cache-be_yxzo6/wheels/1e/41/94/886107eaf932532594886fd8bfc9cb9d4db632e94add49d326\n",
            "Successfully built bert-dp\n",
            "Installing collected packages: bert-dp\n",
            "Successfully installed bert-dp-1.0\n"
          ],
          "name": "stdout"
        }
      ]
    },
    {
      "cell_type": "code",
      "metadata": {
        "id": "QfEarmWbxjqx",
        "colab_type": "code",
        "outputId": "c1300041-0d59-43bc-fa30-32dcda9554dc",
        "colab": {
          "base_uri": "https://localhost:8080/",
          "height": 1000
        }
      },
      "source": [
        "model = build_model(configs.squad.squad_bert, download = True)"
      ],
      "execution_count": 37,
      "outputs": [
        {
          "output_type": "stream",
          "text": [
            "2020-04-24 07:34:19.792 INFO in 'deeppavlov.core.data.utils'['utils'] at line 80: Downloading from http://files.deeppavlov.ai/deeppavlov_data/bert/cased_L-12_H-768_A-12.zip to /root/.deeppavlov/downloads/cased_L-12_H-768_A-12.zip\n",
            "100%|██████████| 404M/404M [01:41<00:00, 3.97MB/s]\n",
            "2020-04-24 07:36:01.619 INFO in 'deeppavlov.core.data.utils'['utils'] at line 242: Extracting /root/.deeppavlov/downloads/cased_L-12_H-768_A-12.zip archive into /root/.deeppavlov/downloads/bert_models\n",
            "2020-04-24 07:36:05.885 INFO in 'deeppavlov.core.data.utils'['utils'] at line 80: Downloading from http://files.deeppavlov.ai/deeppavlov_data/squad_bert.tar.gz to /root/.deeppavlov/squad_bert.tar.gz\n",
            "100%|██████████| 402M/402M [01:34<00:00, 4.27MB/s]\n",
            "2020-04-24 07:37:40.46 INFO in 'deeppavlov.core.data.utils'['utils'] at line 242: Extracting /root/.deeppavlov/squad_bert.tar.gz archive into /root/.deeppavlov/models\n",
            "[nltk_data] Downloading package punkt to /root/nltk_data...\n",
            "[nltk_data]   Unzipping tokenizers/punkt.zip.\n",
            "[nltk_data] Downloading package stopwords to /root/nltk_data...\n",
            "[nltk_data]   Unzipping corpora/stopwords.zip.\n",
            "[nltk_data] Downloading package perluniprops to /root/nltk_data...\n",
            "[nltk_data]   Unzipping misc/perluniprops.zip.\n",
            "[nltk_data] Downloading package nonbreaking_prefixes to\n",
            "[nltk_data]     /root/nltk_data...\n",
            "[nltk_data]   Unzipping corpora/nonbreaking_prefixes.zip.\n"
          ],
          "name": "stderr"
        },
        {
          "output_type": "stream",
          "text": [
            "WARNING:tensorflow:From /usr/local/lib/python3.6/dist-packages/bert_dp/tokenization.py:125: The name tf.gfile.GFile is deprecated. Please use tf.io.gfile.GFile instead.\n",
            "\n",
            "WARNING:tensorflow:From /usr/local/lib/python3.6/dist-packages/deeppavlov/core/models/tf_model.py:37: The name tf.Session is deprecated. Please use tf.compat.v1.Session instead.\n",
            "\n",
            "WARNING:tensorflow:From /usr/local/lib/python3.6/dist-packages/deeppavlov/core/models/tf_model.py:222: The name tf.placeholder is deprecated. Please use tf.compat.v1.placeholder instead.\n",
            "\n",
            "WARNING:tensorflow:From /usr/local/lib/python3.6/dist-packages/deeppavlov/core/models/tf_model.py:222: The name tf.train.Optimizer is deprecated. Please use tf.compat.v1.train.Optimizer instead.\n",
            "\n",
            "WARNING:tensorflow:From /usr/local/lib/python3.6/dist-packages/deeppavlov/core/models/tf_model.py:193: The name tf.train.AdamOptimizer is deprecated. Please use tf.compat.v1.train.AdamOptimizer instead.\n",
            "\n",
            "WARNING:tensorflow:From /usr/local/lib/python3.6/dist-packages/deeppavlov/models/bert/bert_squad.py:81: The name tf.ConfigProto is deprecated. Please use tf.compat.v1.ConfigProto instead.\n",
            "\n",
            "WARNING:tensorflow:From /usr/local/lib/python3.6/dist-packages/deeppavlov/models/bert/bert_squad.py:178: The name tf.placeholder_with_default is deprecated. Please use tf.compat.v1.placeholder_with_default instead.\n",
            "\n",
            "WARNING:tensorflow:From /usr/local/lib/python3.6/dist-packages/bert_dp/modeling.py:178: The name tf.variable_scope is deprecated. Please use tf.compat.v1.variable_scope instead.\n",
            "\n",
            "WARNING:tensorflow:From /usr/local/lib/python3.6/dist-packages/bert_dp/modeling.py:418: The name tf.get_variable is deprecated. Please use tf.compat.v1.get_variable instead.\n",
            "\n",
            "WARNING:tensorflow:From /usr/local/lib/python3.6/dist-packages/bert_dp/modeling.py:499: The name tf.assert_less_equal is deprecated. Please use tf.compat.v1.assert_less_equal instead.\n",
            "\n",
            "WARNING:tensorflow:\n",
            "The TensorFlow contrib module will not be included in TensorFlow 2.0.\n",
            "For more information, please see:\n",
            "  * https://github.com/tensorflow/community/blob/master/rfcs/20180907-contrib-sunset.md\n",
            "  * https://github.com/tensorflow/addons\n",
            "  * https://github.com/tensorflow/io (for I/O related ops)\n",
            "If you depend on functionality not listed there, please file an issue.\n",
            "\n",
            "WARNING:tensorflow:From /usr/local/lib/python3.6/dist-packages/bert_dp/modeling.py:366: calling dropout (from tensorflow.python.ops.nn_ops) with keep_prob is deprecated and will be removed in a future version.\n",
            "Instructions for updating:\n",
            "Please use `rate` instead of `keep_prob`. Rate should be set to `rate = 1 - keep_prob`.\n",
            "WARNING:tensorflow:From /usr/local/lib/python3.6/dist-packages/bert_dp/modeling.py:680: dense (from tensorflow.python.layers.core) is deprecated and will be removed in a future version.\n",
            "Instructions for updating:\n",
            "Use keras.layers.Dense instead.\n",
            "WARNING:tensorflow:From /usr/local/lib/python3.6/dist-packages/tensorflow_core/python/layers/core.py:187: Layer.apply (from tensorflow.python.keras.engine.base_layer) is deprecated and will be removed in a future version.\n",
            "Instructions for updating:\n",
            "Please use `layer.__call__` method instead.\n",
            "WARNING:tensorflow:From /usr/local/lib/python3.6/dist-packages/bert_dp/modeling.py:283: The name tf.erf is deprecated. Please use tf.math.erf instead.\n",
            "\n",
            "WARNING:tensorflow:From /usr/local/lib/python3.6/dist-packages/deeppavlov/models/bert/bert_squad.py:154: The name tf.matrix_band_part is deprecated. Please use tf.linalg.band_part instead.\n",
            "\n",
            "WARNING:tensorflow:From /usr/local/lib/python3.6/dist-packages/deeppavlov/models/bert/bert_squad.py:166: softmax_cross_entropy_with_logits (from tensorflow.python.ops.nn_ops) is deprecated and will be removed in a future version.\n",
            "Instructions for updating:\n",
            "\n",
            "Future major versions of TensorFlow will allow gradients to flow\n",
            "into the labels input on backprop by default.\n",
            "\n",
            "See `tf.nn.softmax_cross_entropy_with_logits_v2`.\n",
            "\n",
            "WARNING:tensorflow:From /usr/local/lib/python3.6/dist-packages/deeppavlov/core/models/tf_model.py:234: The name tf.train.AdadeltaOptimizer is deprecated. Please use tf.compat.v1.train.AdadeltaOptimizer instead.\n",
            "\n",
            "WARNING:tensorflow:From /usr/local/lib/python3.6/dist-packages/deeppavlov/core/models/tf_model.py:127: The name tf.get_collection is deprecated. Please use tf.compat.v1.get_collection instead.\n",
            "\n",
            "WARNING:tensorflow:From /usr/local/lib/python3.6/dist-packages/deeppavlov/core/models/tf_model.py:127: The name tf.GraphKeys is deprecated. Please use tf.compat.v1.GraphKeys instead.\n",
            "\n",
            "WARNING:tensorflow:From /usr/local/lib/python3.6/dist-packages/deeppavlov/models/bert/bert_squad.py:89: The name tf.global_variables_initializer is deprecated. Please use tf.compat.v1.global_variables_initializer instead.\n",
            "\n",
            "WARNING:tensorflow:From /usr/local/lib/python3.6/dist-packages/deeppavlov/models/bert/bert_squad.py:94: checkpoint_exists (from tensorflow.python.training.checkpoint_management) is deprecated and will be removed in a future version.\n",
            "Instructions for updating:\n",
            "Use standard file APIs to check for files with this prefix.\n"
          ],
          "name": "stdout"
        },
        {
          "output_type": "stream",
          "text": [
            "2020-04-24 07:38:01.213 INFO in 'deeppavlov.core.models.tf_model'['tf_model'] at line 51: [loading model from /root/.deeppavlov/models/squad_bert/model]\n"
          ],
          "name": "stderr"
        },
        {
          "output_type": "stream",
          "text": [
            "WARNING:tensorflow:From /usr/local/lib/python3.6/dist-packages/deeppavlov/core/models/tf_model.py:54: The name tf.train.Saver is deprecated. Please use tf.compat.v1.train.Saver instead.\n",
            "\n",
            "INFO:tensorflow:Restoring parameters from /root/.deeppavlov/models/squad_bert/model\n"
          ],
          "name": "stdout"
        }
      ]
    },
    {
      "cell_type": "code",
      "metadata": {
        "id": "6xXT6YK_YqeU",
        "colab_type": "code",
        "colab": {}
      },
      "source": [
        "def remove_articles(text):\n",
        "    return re.sub(r'\\b(a|an|the)\\b', ' ', text)\n",
        "\n",
        "def white_space_fix(text):\n",
        "    return ' '.join(text.split())\n",
        "\n",
        "def remove_punc(text):\n",
        "    exclude = set(string.punctuation)\n",
        "    return ''.join(ch for ch in text if ch not in exclude)\n",
        "\n",
        "def lower(text):\n",
        "    return text.lower()\n",
        "\n",
        "def normalize_answer(s: str) -> str:\n",
        "    return white_space_fix(remove_articles(remove_punc(lower(s))))"
      ],
      "execution_count": 0,
      "outputs": []
    },
    {
      "cell_type": "code",
      "metadata": {
        "id": "Fv1efFG5mtKk",
        "colab_type": "code",
        "colab": {}
      },
      "source": [
        "def exact_match_metric(iy_predicted_list: List[str], iground_truth: str):\n",
        "  y_predicted = [normalize_answer(y_pred) for y_pred in iy_predicted_list]\n",
        "  ground_truth =  normalize_answer( iground_truth )\n",
        "  res = [ele for ele in y_predicted if(ele in ground_truth)]\n",
        "  return (sum([(bool(res))]))"
      ],
      "execution_count": 0,
      "outputs": []
    },
    {
      "cell_type": "code",
      "metadata": {
        "id": "XfUrYs8asfsX",
        "colab_type": "code",
        "colab": {}
      },
      "source": [
        "def f1_score_metric(iy_predicted_list: List[str], iground_truth: str):\n",
        "  f1_total = 0.0\n",
        "  precisions = []\n",
        "  recalls = []\n",
        "  f1s = []\n",
        "  y_predicted = [normalize_answer(y_pred) for y_pred in iy_predicted_list]\n",
        "  ground_truth =  normalize_answer( iground_truth )\n",
        "  \n",
        "  for prediction in y_predicted:\n",
        "      prediction_tokens = prediction.split()\n",
        "      gt_tokens = ground_truth.split()\n",
        "      #print(prediction_tokens)\n",
        "      #print(gt_tokens)\n",
        "      if len(gt_tokens) == 0 or len(prediction_tokens) == 0:\n",
        "          precisions.append(float(gt_tokens == prediction_tokens))\n",
        "          recalls.append(float(gt_tokens == prediction_tokens))\n",
        "          f1s.append(float(gt_tokens == prediction_tokens))\n",
        "          continue\n",
        "      common = Counter(prediction_tokens) & Counter(gt_tokens)\n",
        "      num_same = sum(common.values())\n",
        "      #print(common, num_same)\n",
        "      if num_same == 0:\n",
        "          precisions.append(0.0)\n",
        "          recalls.append(0.0)\n",
        "          f1s.append(0.0)\n",
        "          continue\n",
        "      precision = 1.0 * num_same / len(prediction_tokens)\n",
        "      recall = 1.0 * num_same / len(gt_tokens)\n",
        "      f1 = (2 * precision * recall) / (precision + recall)\n",
        "      f1s.append(f1)\n",
        "      precisions.append(precision)\n",
        "      recalls.append(recall)\n",
        "\n",
        "  f1_total = max(f1s)    \n",
        "  return (max(precisions), max(recalls), max(f1s))"
      ],
      "execution_count": 0,
      "outputs": []
    },
    {
      "cell_type": "code",
      "metadata": {
        "id": "qNQ_gBTUNgj9",
        "colab_type": "code",
        "colab": {}
      },
      "source": [
        "def get_predicted_answer(iQues, iContext, ingram, imodel, \n",
        "                         itopN_pred_ans, iRemove_word_list, id):\n",
        "  \n",
        "  \"\"\"\n",
        "  Tokenize the context containing multiple paragraphs\n",
        "  Each para  - broken to sentence\n",
        "  \"\"\"\n",
        "  paras = []\n",
        "  words = []\n",
        "  predicted_ans = \"\"\n",
        "  y_predicted_lst = []\n",
        "  \n",
        "  for ConextDict in iContext[id:id+1]:\n",
        "    sublist = ConextDict[\"contexts\"]\n",
        "    for i, item in enumerate(sublist):\n",
        "      sent = (item[1]) #TreebankWordDetokenizer().detokenize(item[1])\n",
        "      paras.append(sent)\n",
        "    \n",
        "  ##lets do the same for the question\n",
        "  ques_dict = iQues[id:id+1][0]\n",
        "  ques = (ques_dict['question'])\n",
        "\n",
        "  #get model prediction\n",
        "  predicted_ans_list = []\n",
        "  for para in paras:\n",
        "    predicted_ans = imodel([para], [ques])\n",
        "    predicted_ans_list.append(sum(predicted_ans, []))\n",
        "    #print(predicted_ans)  \n",
        "  \n",
        "  predicted_ans_list = sorted(predicted_ans_list, key = lambda x: x[2], \n",
        "                                reverse=True)\n",
        "  for i in range(itopN_pred_ans):\n",
        "    word_list = lower(predicted_ans_list[i][0]).split()\n",
        "    predicted_ans_list[i][0] = (' '.join(\n",
        "        [i for i in word_list if i not in iRemove_word_list]))\n",
        "    y_predicted_lst.append(predicted_ans_list[i][0])\n",
        "  \n",
        "  \n",
        "  actual_ans = ques_dict['answer']\n",
        "  print (y_predicted_lst, ',' ,normalize_answer( actual_ans ))\n",
        "\n",
        "  EM = exact_match_metric(y_predicted_lst, actual_ans)\n",
        "  precision, recall, f1 = f1_score_metric(y_predicted_lst, actual_ans)\n",
        "\n",
        "  return  y_predicted_lst, [normalize_answer(actual_ans), normalize_answer(ques), EM, precision, recall, f1]\n"
      ],
      "execution_count": 0,
      "outputs": []
    },
    {
      "cell_type": "code",
      "metadata": {
        "id": "HQb8eeZjSH8L",
        "colab_type": "code",
        "outputId": "2d6138d8-53cd-4b02-9965-f11f72e419eb",
        "colab": {
          "base_uri": "https://localhost:8080/",
          "height": 1000
        }
      },
      "source": [
        "import time\n",
        "id = 7401\n",
        "ingram = 2\n",
        "itopN_pred_ans = 5\n",
        "\n",
        "Remove_word_list = ['lrb-' , '-rrb', '-lrb-', '-lsb-', '-rrb-', '-rsb-']\n",
        "\n",
        "pred_ans_list_col_names = {}\n",
        "\n",
        "for i in range(itopN_pred_ans):\n",
        "  pred_ans_list_col_names[('pred_ans_' + str(i))] = []\n",
        "\n",
        "df_pred= pd.DataFrame(pred_ans_list_col_names)\n",
        "df_metrics = pd.DataFrame({'actual_ans': [], 'actual_ques': [], 'EM': [], 'precision': [], 'recall': [], 'f1': []})\n",
        "\n",
        "t1 = time.time()\n",
        "\n",
        "#change devQ to testQ and devLC to testLC in order to run the test and dev\n",
        "#running only 200 records due to run taking long time- less RAM and also can't parallelize\n",
        "for id, testQdict in enumerate(testQ[0:200]):\n",
        "  pred, metrics = get_predicted_answer(testQ, testSC,  ingram, model, itopN_pred_ans, Remove_word_list, id)\n",
        "  \n",
        "  for i in  range(itopN_pred_ans):\n",
        "    pred_ans_list_col_names[('pred_ans_' + str(i))] = pred[i]\n",
        "\n",
        "  df_pred = df_pred.append(pred_ans_list_col_names, ignore_index=True)\n",
        "\n",
        "  df_metrics = df_metrics.append({'actual_ans': metrics[0], 'actual_ques': metrics[1], 'EM': metrics[2], \n",
        "                              'precision': metrics[3], 'recall': metrics[4], 'f1': metrics[5]}, ignore_index=True)\n",
        "\n",
        "t2 = time.time()\n",
        "print('Time for whole code to run: ', (t2-t1))"
      ],
      "execution_count": 42,
      "outputs": [
        {
          "output_type": "stream",
          "text": [
            "['the queen', 'the queen', 'the queen u ,', 'queen chess the queen', 'queen'] , queen\n",
            "['saturday sept. 13th music millenium 430pm', '5western oregon 78', '7 p.m', '06:44 pm', 'washington portland seattle oregon washington cascade mountains rob harper gus melonas transportation department national weather service +4'] , 4\n",
            "['robert redford review', 'robert redford', 'robert redford', 'robert redford', 'george roy hill'] , robert redford\n",
            "['plan 9 from outer space', 'b-movies', '', '', ''] , attack of killer tomatoes\n",
            "['parrot family', 'new world parrots', 'parrots', 'parrot', 'parrots of the genera ara and anodorhynchus of central and south america'] , parrot family\n",
            "['september 27 , 2004', 'tuesday , 23 december 2008', '7 september 1992', '7 september 1992', '7 september 1992'] , 1992\n",
            "['joe mcgrath', 'joe mcgrath', 'joe mcgrath', '1979', '1979'] , willie carson\n",
            "['domestic goat', 'domestic goat', 'black goat', 'medium to large animals', 'goat'] , goat\n",
            "['sky terrier', 'bobby -lrb', 'greyfriars bobby', 'greyfriars bobby', 'john gray'] , greyfriers bobby\n",
            "['minnesota', 'minnesota', 'minnesota', 'minnesota', 'minnesota'] , minnesota\n",
            "['', 'circus animals', '', '', ''] , elephants\n",
            "['fear of paper', 'fear of intimacy', 'heights', 'paper parabolanus', 'weed'] , paper\n",
            "['two points', '2', 'two points', 'two points', 'two points'] , two\n",
            "['martina hingis', 'tim glover', 'martina hingis', 'chris gilbert', 'martina hingis'] , martina hingis\n",
            "['pope john paul i', 'pope john paul i', 'pope john paul i', 'pope john paul i', 'pope john paul ii'] , john paul i\n",
            "['ansky reggey', 'god the father god', 'haile selassie is the living god , a god who is beyond death', 'god the father', 'haile selassie'] , jah\n",
            "['telemachus', 'telemachus', 'telemachus', 'telemachus', 'telemachus'] , telemachus\n",
            "['yazoo', 'depeche mode , erasure', \"nobody 's diary\", 'yazoo', ''] , yazoo\n",
            "['southwest', 'alfred john mendes', 'tefl jobs in the ukraine', 'ukraine', ''] , ukraine\n",
            "['schreiner farms reindeer reindeer the reindeer', 'old world reindeer', 'the reindeer , known as caribou', 'the reindeer rangifer tarandus', 'the reindeer rangifer tarandus'] , caribou\n",
            "['money', 'glass , soap , ash and washing compounds', 'sailors and fishermen', 'construct nests , roost cavities and find food', ''] , money\n",
            "['victoria falls', '', '', '', 'victoria falls'] , zambezi\n",
            "['deutsche grammophon', 'rca producer felton jarvis', 'elvis costello', '', 'elvis costello'] , elvis costello\n",
            "['doctor zhivago', 'doctor zhivago', 'doctor zhivago', 'doctor zhivago', 'salvatore quasimodo'] , dr zhivago\n",
            "['how many', '0-9', '', '', ''] , 12\n",
            "['royal air force fighters aviation', 'the aviation history of australia', 'blackburn beverley', 'ltd was a british aircraft manufacturer of the first half of the 20th century', ''] , royal\n",
            "['order adderall overnight', 'your going to mess his whole world up', 'buy free', 'an individual', 'everywhere'] , cash on delivery\n",
            "['guadalajara', 'guadalajara', 'guadalajara', 'greater mexico city', 'santiago de quer taro'] , guadalajara\n",
            "[\"queens ' college 's so-called mathematical bridge\", \"the mathematical bridge at queens ' college\", '', '', ''] , mathematical bridge queens college\n",
            "['plain water', 'fresh water', 'best energy drink', 'drinking water', 'fluoride'] , water\n",
            "['forty', 'more than fifty', '6 civil war 7', 'three', '4.2'] , 80\n",
            "['white', 'green shahada', 'single-coloured', 'white', 'white'] , white\n",
            "['2006 - germany world cup', 'asia', '2010', 'fifa futsal 2008', '2010'] , uraguay\n",
            "['crucifixion', 'ankh the ankh', 'crux gammata', 'gammadion cross', 'swastika'] , swastika\n",
            "['', '', 'male holding up to 55 eggs in his mouth', 'the female gives birth to fully formed , free-swimming young', ''] , mouth\n",
            "['white house', '', '', '', ''] , pentagon\n",
            "['nostophobia', 'mimes and clowns', 'fear extinction', 'vomiting', 'how to conquer stage fright'] , nostophobia\n",
            "['o.j. simpson', 'eric dickerson', 'jim browns', 'james simpson', 'james simpson'] , oj simpson\n",
            "['battle of ancre', 'second battle of champagne', 'second battle of champagne', 'second battle of champagne', 'battle of the somme'] , battle\n",
            "['barbarian', 'bogdana from old slavic', 'greek & latin foreign , strange', 'germanic warriors', 'germanic warriors'] , strange or foreign\n",
            "['save the children fund', 'save the children', 'charity organisation society', 'international save the children alliance home', '` save the children'] , save children fund\n",
            "['', '', 'virgil', '', ''] , politicians\n",
            "['', 'jerboas', '', '', 'gerbils have long muscular hind legs'] , gerbil\n",
            "['channel island of jersey', 'channel island of jersey', 'channel island of jersey', 'channel island of jersey', 'jersey zoological park'] , jersey\n",
            "['ecuador', 'ecuador', 'ecuador', 'ecuador', 'ecuador'] , ecuador\n",
            "['barnplans.com', 'modular horse barn design', 'rca barns gable barns gambrel barns shedrow barns', 'rca barns gable barns gambrel barns shedrow barns', 'haystack'] , on horse itu2019s horses leg\n",
            "['bandleader', 'a young londoner', 'light entertainment television presenters', 'elvis costello', 'actors'] , elvis costello\n",
            "['isaac hayes', 'isaac hayes', \"donald `` duck '' dunn\", 'muddy waters', ''] , isaac hayes\n",
            "['jackie gleason', 'jackie gleason', 'the media management group', 'herbert walton gleason , jr.', 'miami beach'] , jackie gleason\n",
            "['geoffrey chaucer', 'geoffrey chaucer', 'geoffrey chaucer', 'geoffrey chaucer -lrb', 'john chaucer'] , geoffrey chaucer\n",
            "['clark kent', 'kal-el', 'kal-el', 'obama', 'kal-el'] , superman\n",
            "['blue-grey', 'very dark blue-grey', 'phthalo blue', 'greenish-grey', 'greenish-grey'] , brown\n",
            "['ocean colour scene', 'ocean colour scene', 'ocean colour scene', 'ocs', 'the spencer davis group'] , ocean colour scene\n",
            "['7', 'seven', 'eight', '1 ? 39', ''] , seven\n",
            "['grand cayman', 'andros island', 'roatan', 'antigua', 'anguilla'] , cuba\n",
            "['ante meridiem', 'antd', 'ante - what does ante', 'antflt', 'antbd'] , ante meridian\n",
            "['lacrimal fluid', 'saline solution', 'fluid flow', 'lacrimal secretion noun saline', 'watery aqueous fluid'] , lacrimal fluid\n",
            "['jays', \"swarm '' is from a group of flying bees\", 'geese in a `` gaggle', 'bull-cow-calf', ''] , muster\n",
            "['big brother , room 101', 'nineteen eighty-four', 'nineteen eighty-four', 'nineteen eighty-four -lrb', 'room 101'] , 1984 george orwell\n",
            "['aliens puppet aliens', 'alien life form', 'lsb- archive - muppet central forum muppet central forum', 'alf tales : alf and the beanstalk and other classic fairy tales', 'hit talk show'] , alien life form\n",
            "['canis major', 'canis major', 'canis major', 'canis major', 'canis major'] , canis major\n",
            "['don markstein', 'he loved animals', 'debbie does', 'thumper thumping his foot from bambi thumper', 'oscar - berlinale'] , bird\n",
            "['houston', 'in the visitor orientation center', 'the johnson space center is down the road in houston', 'houston', 'space center houston'] , texas\n",
            "['carlisle', 'carlisle', 'london', 'london', 'london'] , bombay\n",
            "['sylvia thomas', 'delaney and bonnie bramlett', 'frank mcdonald', 'george harrison and eric clapton', 'delaney and bonnie bramlett'] , eric clapton\n",
            "['', '', '', '', 'orange rose red rose white rose pink rose'] , pomegranate flower\n",
            "['kunsthalle schirn', 'the national gallery', 'galleria dell accademia', 'castle howard in yorkshire', ''] , castle howard\n",
            "['beer disease', 'cowpox', 'schizophrenia', 'mes amis', 'evil genius'] , rabies\n",
            "['dacia', 'romania', 'romania', 'romania', 'romania'] , romania\n",
            "['philadelphia', 'massachusetts', 'pennsylvania', '', ''] , pennsylvania\n",
            "['haile selassie', 'amha selassie i', '', '', ''] , haile selassie\n",
            "['simon', 'michael flatley', 'beastie', 'lord of the flies', '` jack'] , piggy\n",
            "['matoaka', 'bright stream between two hills', 'rebecca', 'matoaka', 'hungarian pronunciation of english old hungarian script english words from hungarian'] , rebecca\n",
            "['egyptian and greek', 'hieroglyphs and demotic script and classical greek', 'ancient egypt in both its hieroglyphic and demotic forms , and ancient greek', 'greek , demotic and hieroglyphs', 'greek'] , egyptian greek\n",
            "['kitten', 'kitten', 'kitten', 'kitten', 'melting'] , mackerel\n",
            "['prevention of crime', '', '', '', ''] , sit down\n",
            "['marilyn monroe', 'whitney leigh playboy cyber girl', 'marilyn monroe', 'marilyn monroe', 'marilyn monroe'] , marilyn monroe\n",
            "['baking soda', 'bicarbonate of sodium', 'sodium chloride', 'soda pinch of salt 2 tb', ''] , baking soda\n",
            "['six', '411', 'four', \"2009 season outlook : men 's gymnastics aiming for three-peat\", ''] , 6 vault rings floor high bar para bars horse\n",
            "['silver ball trophy', 'durham f.a challenge cup', 'the chatham cup', 'fa cup football ticket semi finals , final', 'european cup at wembley stadium'] , grey cup\n",
            "['free', '1\\\\u00a01/2 oz', '1/2 lemon or lime -lrb', 'top', 'top'] , cuba libre\n",
            "['deportation outside the country of residence', 'deportation outside the country of residence', 'deportation outside the country of residence', '', ''] , deport\n",
            "[\"st. paul 's bay\", 'malta', \"st paul 's bay harbour\", 'malta', 'los angeles convention ministry of comfort 2 cor1 :4'] , malta\n",
            "['mata hari', 'matahari', 'matahari', 'mata hari', 'matahari mata hari'] , mata hari\n",
            "['holby city hospital', 'bbc bristol', 'holby city hospital', 'holby city hospital', 'the london hospital in the east end of london'] , bristol\n",
            "['eastertide', 'seventh sunday', 'pentecost sunday', \"the nativity of christ saints ' days\", 'the feast of unleavened bread to the lord'] , pentecost\n",
            "['posh spice', 'posh spice', 'spice girls', 'spice girls', 'spice girls'] , posh spice\n",
            "['nightshade', 'nightshade', 'fungi', 'solanaceae', 'purple'] , thistle\n",
            "['puma , cougar', 'cougar , panther , and puma', 'puma concolor', 'cougar', 'katya'] , puma\n",
            "['handel', '', '', 'lady henrietta spencer churchill', ''] , kiri te kanawa\n",
            "['1907', '1900', '1907-1908', '1907', '1907'] , 1907\n",
            "['san marino', 'san marino', 'the third smallest state in europe -lrb', 'san marino', 'san marino'] , san marino 301 ad\n",
            "['east of eden', 'east of eden', 'east of eden , the 1952 novel', '', ''] , east of eden\n",
            "['rio de janeiro', 'rio de janeiro', 'rio de janeiro', 'rio de janeiro', 'rio de janeiro'] , rio de janeiro brazil\n",
            "['cary st. lawrence', 'cary st. lawrence', 'cary st. lawrence', 'cary st. lawrence', 'cary st. lawrence'] , rick jones\n",
            "['amazon river', 'tambopata river', 'congo river', 'congo river', 'congo river'] , congo zaire\n",
            "['collectible memorabilia , valuable antiques , antiques and collectibles', 'digitalgiftstore.com', 'english cameo glass', 'violet-blue glass', 'roman cameo glass , 1st century'] , glass\n",
            "['prada mens pr55hs', 'i wan na pet - havana brown is the havana brown right for you', 'cfa breed standard', 'is the havana brown right for you', 'french lop rabbit'] , small rabbit\n",
            "[\"' `` second , '' or `` third '' kind\", '7', 'what you believed was an extra-terrestrial', '', ''] , sighting unexplained craft sighting ufos\n",
            "['400 pound', 'two nickels', 'ninety-nine cents', 'how many ounces', 'how many ounces'] , one ounce\n",
            "['brazil and argentina', 'qatar', 'bolivia', 'argentina', 'pacific ocean in the west'] , belize\n",
            "['trygve lie', 'trygve lie', 'trygve lie', 'trygve lie', 'trygve lie'] , trygve lie\n",
            "['kitt', 'reynard inverter', 'kitt', 'two thousand', 'kitt'] , kitt\n",
            "['4.5 seconds', 'one innings , many innings', '1452', 'full toss/beamer', 'bowl a full toss'] , none\n",
            "['liverpool liverpool uk', 'lancaster', 'yahoo', 'london', 'south kensington'] , liverpool\n",
            "['john malkovich', 'john malkovich', 'dick tracy', 'dick tracy', 'dick tracy'] , dick tracy\n",
            "['george fox', 'george fox', 'george fox', 'george fox', 'george fox'] , george fox\n",
            "['the french connection', 'the french connection', 'dead poets society', 'the french connection', 'french connection 2'] , french connection\n",
            "['the second home is considered the play maker', 'lacrosse', 'goalie', '', ''] , lacrosse\n",
            "['curling matches', \"if you have n't already\", 'be thankful that we hardy duluthians have more common sense and better developed winter driving skills', 'curling', 'you can sign up as a team or as an individual'] , curling\n",
            "['how many years', '150', 'one year or twenty', 'two', ''] , 150\n",
            "['the slender day', 'flower fairies', 'fave', '', 'moccasin flower'] , orchis\n",
            "['peso', 'only $ 99', 'cent is a monetary unit that equals th', '', ''] , real\n",
            "['peerage of scotland and peerage of ireland', '10th duke of marlborough', '10th duke of marlborough', '10th duke of marlborough', '10th duke of marlborough'] , duke of marlborough\n",
            "['spelling bee', 'the sound of music', 'disney', 'star !', '1981'] , sob\n",
            "['what is the capital of japan', 'what', 'japan', 'tokyo', 'bambooweb'] , tokyo\n",
            "['', 'the main entrance should be visually prominent', '', 'the principal entrance in the centre of the left-hand block', ''] , facade\n",
            "['fava beans and nice chiante', 'fava beans', 'fava beans , chianti', 'fava beans and a nice chianti', 'fava beans'] , fava beans\n",
            "['mohammed', 'baraa', 'baraa', 'baraa', 'baraa'] , mohammed\n",
            "['pebbles and bamm-bamm', '', '', '', ''] , fred flintstone\n",
            "['antisthenes', 'epicurus romans', 'hermarchus', 'epicurus', 'zeno 335-263 b.c.'] , epicurus\n",
            "['cocktail blender free games', 'the best passport in the world is a polo handicap', 'fip tournaments world championships', 'polo - polo', ''] , polo\n",
            "['iceland', 'iceland', 'iceland', 'russia', 'iceland'] , iceland\n",
            "['the jacksons', 'the jacksons', 'the jacksons', 'the jacksons', 'the jacksons'] , fame\n",
            "['abhishek kumar yadav', 'guillaume apollinaire guillaume albert vladimir apollinaire de kostrowitzky', 'stephen king', 'stephen king', 'stephen king'] , steven king\n",
            "['no native snakes', 'smaller population', 'no native snakes', 'native snakes', 'predators'] , native snakes\n",
            "['pablo picasso', 'pablo ruiz y picasso', 'pablo picasso', 'pablo ruiz picasso', 'pablo picasso'] , pablo picasso\n",
            "['lord of the flies', 'lord of the flies', 'the lord of the flies', 'lord of the flies summary', 'lord of the flies'] , lord of flies\n",
            "['bbc home service gaelic language programming', 'regular entertainment programs', 'scottish gaelic-language programming', 'simultaneous broadcasting', 'television'] , opera\n",
            "['oceanic vending', 'tropical fish in the long island area . it is a non profit organization dedicated to the study of aquatic life', '', '', 'freshwater - using field rock in freshwater aquarium - free online pictures of freshwater fish circle'] , freshwater fish\n",
            "['mexico', 'gulf of mexico', 'gulf of mexico', 'mahalo mahalo', 'gulf of mexico'] , gulf of mexico\n",
            "['president roosevelt', 'president theodore roosevelt', 'theodore roosevelt', 'desmond tutu', 'theodore roosevelt'] , theodore roosevelt\n",
            "['permit', \"driver 's licenses\", 'mobile privacy', \"his 2-year-old , american-born daughter 's name and social security number\", ''] , skunk\n",
            "['giorgio moroder', 'giorgio moroder', 'martin rushent', 'giorgio moroder limahl', 'giorgio moroder'] , giorgio moroder\n",
            "['kuala lumpur kuala lumpur', 'kuala lumpur', 'kuala lumpur', 'kuala lumpur', 'kuala lumpur malaysia - kuala lumpur city , kuala lumpur tourism , travel to kuala lumpur kuala lumpur'] , kuala lumpur\n",
            "['brussels', 'the capital of europe', 'the city of brussels city of brussels brussel', 'brussels brussels', 'brussels-capital region'] , brussels\n",
            "['how does the total population of new jersey rank compared to the other states', 'new jersey new jersey', 'new jersey new jersey new jersey', 'newark area', 'newark area'] , new jersey\n",
            "['haggis hurling', 'hammer throwing , and piping the dancing contests', 'poles', \"tossing from the 6 o'clock position\", ''] , wearing kilt\n",
            "['england', 'england', 'michigan', 'ohio state university', 'hawthorne heights'] , ohio banks of ohio\n",
            "['the world is not enough', 'the world is not enough', 'the world is not enough', 'the world is not enough', 'the world is not enough'] , world is not enough\n",
            "['', '', '', '', 'rykodisc'] , lou reed\n",
            "['astrology , tarot , poetry , psychic readings , and matters of the spirit', 'tarot jewelry pendants and earrings', 'love compatibility and tarot card', 'tarot-based advice', ''] , tarot cards\n",
            "['it was a very common dinosaur', 'a two-legged plant eater', 'china', 'the tibia is longer than the femur', 'walking with 2 legs , head is short and wide'] , it had short head with parrot like beak\n",
            "['the bangles', 'the bangles', 'they do the sand dance', '', ''] , bangles walk like egyptian\n",
            "['great wall of china', 'great wall of china', 'the current great wall', 'the great wall', 'the great wall of china'] , great wall of china\n",
            "['1843', '2006', '2006', '2006', ''] , 1846\n",
            "['tobacco amblyopia tobacco amblyopia', 'tobacco amblyopia', '2 no smoking ban to be decided', '', ''] , refreshing\n",
            "['', '', '', 'credit card casinos deposits', ''] , diners club\n",
            "['javert', 'javert', 'javert', 'javert', 'inspector javert'] , javert\n",
            "['douglas adams douglas adams douglas adams', 'douglas adams', 'douglas noel adams', 'douglas noel adams', 'douglas noel adams'] , douglas adams\n",
            "[\"j. r. r. tolkien 's legendarium\", \"j. r. r. tolkien 's legendarium\", \"j. r. r. tolkien 's legendarium\", \"j. r. r. tolkien 's legendarium\", \"j. r. r. tolkien 's legendarium\"] , lord of rings\n",
            "['french', 'american', 'canadian', 'canadian', 'french'] , french\n",
            "['daimler-benz', 'maruti suzuki', 'mercedes-benz museum', 'mercedes-benz', 'mercedes-benz'] , daimler benz\n",
            "['1903', '2009', '1925', '1965', '1965'] , 1903\n",
            "['` fried sauce', 'a syndicate of talent about creators', '` fried sauce', '` fried sauce', 'heart stopping belly cutting loss of head honorable death 2'] , three roads\n",
            "['the vacuum flask', 'the vacuum flask', 'the vacuum flask', 'the vacuum flask', 'the vacuum flask'] , vacuum or thermos flask\n",
            "['chemical substances that can inhibit the growth of , and even destroy , harmful microorganisms', 'antibiotics inhibit', 'inhibit the growth of or destroy certain other microorganisms', 'antifungal agent', 'antibiotics diffuse out from antibiotic-containing disks and inhibit growth of s. aureus'] , antibiotics\n",
            "['onion', 'alliaceae', 'blueberry', 'onion family', 'alliaceae'] , lily\n",
            "['', '', '', '', 'john travolta'] , marie osmond\n",
            "['lee', 'lee', 'lee', 'lee', 'lee'] , amy johnson\n",
            "['igor sikorsky', 'igor ivanovich sikorsky', '', '', ''] , igor\n",
            "['lrb', 'clarence odbody', 'clarence odbody', 'clarence', 'george bailey'] , clarence oddbody\n",
            "['red blood cells', 'red blood cells', 'red blood cells', 'red blood cells', 'red blood cells'] , red blood cell\n",
            "['location and function', 'location and function', 'endocrinology', 'pituitary gland', 'hypopituitarism pituitary endocrine disorders'] , it controls production of hormones\n",
            "['new friendship baptist church cemetery', 'celebrity tombstones across america', '3734 elvis presley boulevard', 'meditation gardens located at graceland', '3764 elvis presley boulevard highway 51 south , memphis , tennessee'] , graceland\n",
            "['benign', 'benign', 'benign', 'abnormal growth of body tissue', 'an abnormal growth of body tissue'] , benign\n",
            "['california', 'california', '', 'california', 'state to state interstate'] , rhode island\n",
            "['1871 72', '1871 72', '1871 72', '1871 72', '1991'] , 1923\n",
            "['a tuffet', 'on a tuffet', 'a tuffet', 'where was little miss muffet ? what is a tuffet', 'her tuffet'] , on her tuffet\n",
            "['christmas 1915', 'christmas 1915', 'christmas 1915', 'christmas 1915', 'christmas 1915'] , 1914\n",
            "['jennifer love hewitt', 'nermal - nermal', 'liz', 'thom huge', 'jim davis'] , liz\n",
            "[\"the sound of the candyman 's trumpet 4 11,200\", 'la , la , la', 'la , la , la', \"` congratulations '\", 'power to all our friends'] , la la la spain\n",
            "['jhongsing village', 'tainan -lrb', 'taipei', 'taoyuan', 'taipei'] , taipei\n",
            "['eg theft', 'sinners in the depths of hell endure far greater torments', 'sinners in the depths of hell endure far greater torments', 'sinners in the depths of hell endure far greater torments', 'sinners in the depths of hell endure far greater torments'] , pride they are crushed by stones\n",
            "['', '', 'japanese victory belligerents netherlands', 'manila is captured by japanese', ''] , manila\n",
            "['flying eagle', 'taepyongga', \"handel 's water music\", 'messiah', 'overture'] , music for royal fireworks\n",
            "[\"do n't quote me\", 'reversi', 'trivial pursuit : unhinged', 'trivial pursuit : unhinged - wikipedia', 'trivial pursuit'] , trivia pursuit\n",
            "['vodka drink recipes - cocktail drinks', 'cocktails , beer cocktail', 'white russian', 'canadian club', 'martini'] , black russian\n",
            "['terry bollea', 'michael bollea', 'terry bollea', 'terry bollea', 'terry bollea'] , terry bollea\n",
            "['books hold no passport', '', 'three novels between 2003 and 2005', 'three novels between 2003 and 2005', 'three novels between 2003 and 2005'] , three\n",
            "['bonnie and clyde', 'bonnie and clyde', 'bonnie and clyde', 'the wild bunch', ''] , bonnie and clyde\n",
            "['carlisle', 'carlisle', 'deifr', 'carlisle', 'coria corbridge'] , carlisle\n",
            "['the swan', 'high society', 'to catch a thief', 'the blue veil', 'the country girl'] , to catch\n",
            "[\"don markstein 's toonopedia home\", '', '', '', ''] , forest of feelings\n",
            "['general railway and steam navigation guide', 'general railway and steam navigation guide', 'general railway and steam navigation guide', 'general railway and steam navigation guide', 'ns boxcars and ns hoppers'] , railways\n",
            "['` hush', 'kentucky woman', '` one more rainy day', 'the book of taliesyn', 'kentucky woman'] , hush\n",
            "['40 years', '40 years', '300m', '300 m/984 ft', 'between 1887 and 1889'] , forty years\n",
            "['jesus', 'who is in heaven now ? where is enoch and elijah', 'melchizedek', 'jethro', 'the heavenly'] , moses\n",
            "['goitre -lrb', 'a deficiency of iodine', 'thyroid cancer some of thyroid enlargement overactive thyroid', 'a deficiency of iodine leads to goitre swelling of the neck', 'enlargement of the thyroid gland'] , goitre\n",
            "['alois senefelder of bavaria', 'manual', 'lithography', 'manual', 'lithography invented in 1798 by german aloys senefelder'] , lithography\n",
            "['margaritas', 'ardenstone ardenstone', 'daiquiri', 'mezcal tequila mezcal', 'tomato'] , rum\n",
            "['1-9', 'albatross', 'nassau', 'mashie', 'backspin'] , niblick\n",
            "['adrian', 'adrian', 'adrian', 'talia shire', 'paulie'] , adrian\n",
            "['3', 'manageable stage', 'six times daily', '', ''] , dessert\n",
            "['high la panthe rose', 'trigger', 'trigger', 'trigger', ''] , trigger\n",
            "['the crown jewel of the pacific', 'an engagement ring with diamonds and platinum', 'small -2 size polished pieces with', 'abalone jewelry', 'paua'] , jewellery\n",
            "['key west , fl', 'recipe churches shopping real estate', 'wikipedia', 'diet sugar free', 'florida keys'] , it originated in key west florida\n",
            "['st helena sudan swaziland', 'republic of namibia', 'abyssinia ethiopia afars and issas territory djibouti basutoland', 'south-west africa 1920-1990', 'st helena sudan swaziland'] , namibia\n",
            "['elia kazan', 'irving stone', 'patricia cornwell', 'franklin bruno', 'edward oscar berkmann'] , kirk douglas\n",
            "['afety torch', 'fence , deck , railing : fence gates , deck gates - fence posts', 'circle black & white crossbuck', 'a sign composed of two slats of wood or metal of equal length', 'a sign composed of two slats of wood or metal of equal length'] , x\n",
            "Time for whole code to run:  1529.2673196792603\n"
          ],
          "name": "stdout"
        }
      ]
    },
    {
      "cell_type": "code",
      "metadata": {
        "id": "mv1Hgf79GKoS",
        "colab_type": "code",
        "outputId": "aadcdd73-127a-44a1-dbc6-f02e79ba05ee",
        "colab": {
          "base_uri": "https://localhost:8080/",
          "height": 519
        }
      },
      "source": [
        "df_pred"
      ],
      "execution_count": 43,
      "outputs": [
        {
          "output_type": "execute_result",
          "data": {
            "text/html": [
              "<div>\n",
              "<style scoped>\n",
              "    .dataframe tbody tr th:only-of-type {\n",
              "        vertical-align: middle;\n",
              "    }\n",
              "\n",
              "    .dataframe tbody tr th {\n",
              "        vertical-align: top;\n",
              "    }\n",
              "\n",
              "    .dataframe thead th {\n",
              "        text-align: right;\n",
              "    }\n",
              "</style>\n",
              "<table border=\"1\" class=\"dataframe\">\n",
              "  <thead>\n",
              "    <tr style=\"text-align: right;\">\n",
              "      <th></th>\n",
              "      <th>pred_ans_0</th>\n",
              "      <th>pred_ans_1</th>\n",
              "      <th>pred_ans_2</th>\n",
              "      <th>pred_ans_3</th>\n",
              "      <th>pred_ans_4</th>\n",
              "    </tr>\n",
              "  </thead>\n",
              "  <tbody>\n",
              "    <tr>\n",
              "      <th>0</th>\n",
              "      <td>the queen</td>\n",
              "      <td>the queen</td>\n",
              "      <td>the queen u ,</td>\n",
              "      <td>queen chess the queen</td>\n",
              "      <td>queen</td>\n",
              "    </tr>\n",
              "    <tr>\n",
              "      <th>1</th>\n",
              "      <td>saturday sept. 13th music millenium 430pm</td>\n",
              "      <td>5western oregon 78</td>\n",
              "      <td>7 p.m</td>\n",
              "      <td>06:44 pm</td>\n",
              "      <td>washington portland seattle oregon washington ...</td>\n",
              "    </tr>\n",
              "    <tr>\n",
              "      <th>2</th>\n",
              "      <td>robert redford review</td>\n",
              "      <td>robert redford</td>\n",
              "      <td>robert redford</td>\n",
              "      <td>robert redford</td>\n",
              "      <td>george roy hill</td>\n",
              "    </tr>\n",
              "    <tr>\n",
              "      <th>3</th>\n",
              "      <td>plan 9 from outer space</td>\n",
              "      <td>b-movies</td>\n",
              "      <td></td>\n",
              "      <td></td>\n",
              "      <td></td>\n",
              "    </tr>\n",
              "    <tr>\n",
              "      <th>4</th>\n",
              "      <td>parrot family</td>\n",
              "      <td>new world parrots</td>\n",
              "      <td>parrots</td>\n",
              "      <td>parrot</td>\n",
              "      <td>parrots of the genera ara and anodorhynchus of...</td>\n",
              "    </tr>\n",
              "    <tr>\n",
              "      <th>...</th>\n",
              "      <td>...</td>\n",
              "      <td>...</td>\n",
              "      <td>...</td>\n",
              "      <td>...</td>\n",
              "      <td>...</td>\n",
              "    </tr>\n",
              "    <tr>\n",
              "      <th>195</th>\n",
              "      <td>the crown jewel of the pacific</td>\n",
              "      <td>an engagement ring with diamonds and platinum</td>\n",
              "      <td>small -2 size polished pieces with</td>\n",
              "      <td>abalone jewelry</td>\n",
              "      <td>paua</td>\n",
              "    </tr>\n",
              "    <tr>\n",
              "      <th>196</th>\n",
              "      <td>key west , fl</td>\n",
              "      <td>recipe churches shopping real estate</td>\n",
              "      <td>wikipedia</td>\n",
              "      <td>diet sugar free</td>\n",
              "      <td>florida keys</td>\n",
              "    </tr>\n",
              "    <tr>\n",
              "      <th>197</th>\n",
              "      <td>st helena sudan swaziland</td>\n",
              "      <td>republic of namibia</td>\n",
              "      <td>abyssinia ethiopia afars and issas territory d...</td>\n",
              "      <td>south-west africa 1920-1990</td>\n",
              "      <td>st helena sudan swaziland</td>\n",
              "    </tr>\n",
              "    <tr>\n",
              "      <th>198</th>\n",
              "      <td>elia kazan</td>\n",
              "      <td>irving stone</td>\n",
              "      <td>patricia cornwell</td>\n",
              "      <td>franklin bruno</td>\n",
              "      <td>edward oscar berkmann</td>\n",
              "    </tr>\n",
              "    <tr>\n",
              "      <th>199</th>\n",
              "      <td>afety torch</td>\n",
              "      <td>fence , deck , railing : fence gates , deck ga...</td>\n",
              "      <td>circle black &amp; white crossbuck</td>\n",
              "      <td>a sign composed of two slats of wood or metal ...</td>\n",
              "      <td>a sign composed of two slats of wood or metal ...</td>\n",
              "    </tr>\n",
              "  </tbody>\n",
              "</table>\n",
              "<p>200 rows × 5 columns</p>\n",
              "</div>"
            ],
            "text/plain": [
              "                                    pred_ans_0  ...                                         pred_ans_4\n",
              "0                                    the queen  ...                                              queen\n",
              "1    saturday sept. 13th music millenium 430pm  ...  washington portland seattle oregon washington ...\n",
              "2                        robert redford review  ...                                    george roy hill\n",
              "3                      plan 9 from outer space  ...                                                   \n",
              "4                                parrot family  ...  parrots of the genera ara and anodorhynchus of...\n",
              "..                                         ...  ...                                                ...\n",
              "195             the crown jewel of the pacific  ...                                               paua\n",
              "196                              key west , fl  ...                                       florida keys\n",
              "197                  st helena sudan swaziland  ...                          st helena sudan swaziland\n",
              "198                                 elia kazan  ...                              edward oscar berkmann\n",
              "199                                afety torch  ...  a sign composed of two slats of wood or metal ...\n",
              "\n",
              "[200 rows x 5 columns]"
            ]
          },
          "metadata": {
            "tags": []
          },
          "execution_count": 43
        }
      ]
    },
    {
      "cell_type": "code",
      "metadata": {
        "id": "9HURNlKLNxfi",
        "colab_type": "code",
        "outputId": "aa6e03c8-3428-48a5-d36e-0520d63dc35c",
        "colab": {
          "base_uri": "https://localhost:8080/",
          "height": 415
        }
      },
      "source": [
        "df_metrics"
      ],
      "execution_count": 44,
      "outputs": [
        {
          "output_type": "execute_result",
          "data": {
            "text/html": [
              "<div>\n",
              "<style scoped>\n",
              "    .dataframe tbody tr th:only-of-type {\n",
              "        vertical-align: middle;\n",
              "    }\n",
              "\n",
              "    .dataframe tbody tr th {\n",
              "        vertical-align: top;\n",
              "    }\n",
              "\n",
              "    .dataframe thead th {\n",
              "        text-align: right;\n",
              "    }\n",
              "</style>\n",
              "<table border=\"1\" class=\"dataframe\">\n",
              "  <thead>\n",
              "    <tr style=\"text-align: right;\">\n",
              "      <th></th>\n",
              "      <th>actual_ans</th>\n",
              "      <th>actual_ques</th>\n",
              "      <th>EM</th>\n",
              "      <th>precision</th>\n",
              "      <th>recall</th>\n",
              "      <th>f1</th>\n",
              "    </tr>\n",
              "  </thead>\n",
              "  <tbody>\n",
              "    <tr>\n",
              "      <th>0</th>\n",
              "      <td>queen</td>\n",
              "      <td>which is considered most powerful piece on che...</td>\n",
              "      <td>1.0</td>\n",
              "      <td>1.000000</td>\n",
              "      <td>1.000000</td>\n",
              "      <td>1.000000</td>\n",
              "    </tr>\n",
              "    <tr>\n",
              "      <th>1</th>\n",
              "      <td>4</td>\n",
              "      <td>if its 400 pm in seattle washington what time ...</td>\n",
              "      <td>0.0</td>\n",
              "      <td>0.058824</td>\n",
              "      <td>1.000000</td>\n",
              "      <td>0.111111</td>\n",
              "    </tr>\n",
              "    <tr>\n",
              "      <th>2</th>\n",
              "      <td>robert redford</td>\n",
              "      <td>who directed film ordinary people</td>\n",
              "      <td>1.0</td>\n",
              "      <td>1.000000</td>\n",
              "      <td>1.000000</td>\n",
              "      <td>1.000000</td>\n",
              "    </tr>\n",
              "    <tr>\n",
              "      <th>3</th>\n",
              "      <td>attack of killer tomatoes</td>\n",
              "      <td>what film is generally considered worst film e...</td>\n",
              "      <td>1.0</td>\n",
              "      <td>0.000000</td>\n",
              "      <td>0.000000</td>\n",
              "      <td>0.000000</td>\n",
              "    </tr>\n",
              "    <tr>\n",
              "      <th>4</th>\n",
              "      <td>parrot family</td>\n",
              "      <td>macaws are largest and most colorful species of</td>\n",
              "      <td>1.0</td>\n",
              "      <td>1.000000</td>\n",
              "      <td>1.000000</td>\n",
              "      <td>1.000000</td>\n",
              "    </tr>\n",
              "    <tr>\n",
              "      <th>...</th>\n",
              "      <td>...</td>\n",
              "      <td>...</td>\n",
              "      <td>...</td>\n",
              "      <td>...</td>\n",
              "      <td>...</td>\n",
              "      <td>...</td>\n",
              "    </tr>\n",
              "    <tr>\n",
              "      <th>195</th>\n",
              "      <td>jewellery</td>\n",
              "      <td>for making what is abalone shell used</td>\n",
              "      <td>0.0</td>\n",
              "      <td>0.000000</td>\n",
              "      <td>0.000000</td>\n",
              "      <td>0.000000</td>\n",
              "    </tr>\n",
              "    <tr>\n",
              "      <th>196</th>\n",
              "      <td>it originated in key west florida</td>\n",
              "      <td>where does key lime pie come from</td>\n",
              "      <td>1.0</td>\n",
              "      <td>0.666667</td>\n",
              "      <td>0.333333</td>\n",
              "      <td>0.444444</td>\n",
              "    </tr>\n",
              "    <tr>\n",
              "      <th>197</th>\n",
              "      <td>namibia</td>\n",
              "      <td>what is current name for southwest africa</td>\n",
              "      <td>0.0</td>\n",
              "      <td>0.333333</td>\n",
              "      <td>1.000000</td>\n",
              "      <td>0.500000</td>\n",
              "    </tr>\n",
              "    <tr>\n",
              "      <th>198</th>\n",
              "      <td>kirk douglas</td>\n",
              "      <td>who wrote last tango in brooklyn his third novel</td>\n",
              "      <td>0.0</td>\n",
              "      <td>0.000000</td>\n",
              "      <td>0.000000</td>\n",
              "      <td>0.000000</td>\n",
              "    </tr>\n",
              "    <tr>\n",
              "      <th>199</th>\n",
              "      <td>x</td>\n",
              "      <td>what is crossbuck</td>\n",
              "      <td>0.0</td>\n",
              "      <td>0.000000</td>\n",
              "      <td>0.000000</td>\n",
              "      <td>0.000000</td>\n",
              "    </tr>\n",
              "  </tbody>\n",
              "</table>\n",
              "<p>200 rows × 6 columns</p>\n",
              "</div>"
            ],
            "text/plain": [
              "                            actual_ans  ...        f1\n",
              "0                                queen  ...  1.000000\n",
              "1                                    4  ...  0.111111\n",
              "2                       robert redford  ...  1.000000\n",
              "3            attack of killer tomatoes  ...  0.000000\n",
              "4                        parrot family  ...  1.000000\n",
              "..                                 ...  ...       ...\n",
              "195                          jewellery  ...  0.000000\n",
              "196  it originated in key west florida  ...  0.444444\n",
              "197                            namibia  ...  0.500000\n",
              "198                       kirk douglas  ...  0.000000\n",
              "199                                  x  ...  0.000000\n",
              "\n",
              "[200 rows x 6 columns]"
            ]
          },
          "metadata": {
            "tags": []
          },
          "execution_count": 44
        }
      ]
    },
    {
      "cell_type": "code",
      "metadata": {
        "id": "eQk4zmOiES5C",
        "colab_type": "code",
        "outputId": "e8aa98e9-ec67-49ad-b37f-b0d8ddb72d35",
        "colab": {
          "base_uri": "https://localhost:8080/",
          "height": 35
        }
      },
      "source": [
        "df_metrics['f1'].mean(), df_metrics['EM'].mean(), df_metrics['precision'].mean() , df_metrics['recall'].mean() "
      ],
      "execution_count": 45,
      "outputs": [
        {
          "output_type": "execute_result",
          "data": {
            "text/plain": [
              "(0.5304075630252103, 0.605, 0.5194806255835668, 0.5957916666666667)"
            ]
          },
          "metadata": {
            "tags": []
          },
          "execution_count": 45
        }
      ]
    },
    {
      "cell_type": "code",
      "metadata": {
        "id": "fEn36GzGLNse",
        "colab_type": "code",
        "colab": {}
      },
      "source": [
        "writePath = qasar_t_dir + \"questions/long_metric_test.txt\"\n",
        "with open(writePath, 'a') as f:\n",
        "    f.write(df_metrics.to_string(header = False, index = False))\n",
        "f.close()"
      ],
      "execution_count": 0,
      "outputs": []
    },
    {
      "cell_type": "markdown",
      "metadata": {
        "id": "um9xGKXFeltE",
        "colab_type": "text"
      },
      "source": [
        "# Now Running the Dev dataset\n",
        "#### The code code be optimized by defining a common function - TBD"
      ]
    },
    {
      "cell_type": "code",
      "metadata": {
        "id": "ShFGlnPdoe8o",
        "colab_type": "code",
        "colab": {
          "base_uri": "https://localhost:8080/",
          "height": 1000
        },
        "outputId": "8f11d1a4-0234-4713-c4c9-f129bd221630"
      },
      "source": [
        "import time\n",
        "ingram = 2\n",
        "itopN_pred_ans = 5\n",
        "\n",
        "Remove_word_list = ['lrb-' , '-rrb', '-lrb-', '-lsb-', '-rrb-', '-rsb-']\n",
        "\n",
        "pred_ans_list_col_names = {}\n",
        "\n",
        "for i in range(itopN_pred_ans):\n",
        "  pred_ans_list_col_names[('pred_ans_' + str(i))] = []\n",
        "\n",
        "df_pred= pd.DataFrame(pred_ans_list_col_names)\n",
        "df_metrics = pd.DataFrame({'actual_ans': [], 'actual_ques': [], 'EM': [], 'precision': [], 'recall': [], 'f1': []})\n",
        "\n",
        "t1 = time.time()\n",
        "\n",
        "#running only 200 records due to run taking long time- less RAM and also can't parallelize\n",
        "for id, testQdict in enumerate(devQ[0:200]):\n",
        "  pred, metrics = get_predicted_answer(devQ, devSC,  ingram, model, itopN_pred_ans, Remove_word_list, id)\n",
        "  \n",
        "  for i in  range(itopN_pred_ans):\n",
        "    pred_ans_list_col_names[('pred_ans_' + str(i))] = pred[i]\n",
        "\n",
        "  df_pred = df_pred.append(pred_ans_list_col_names, ignore_index=True)\n",
        "\n",
        "  df_metrics = df_metrics.append({'actual_ans': metrics[0], 'actual_ques': metrics[1], 'EM': metrics[2], \n",
        "                              'precision': metrics[3], 'recall': metrics[4], 'f1': metrics[5]}, ignore_index=True)\n",
        "\n",
        "t2 = time.time()\n",
        "print('Time for whole code to run: ', (t2-t1))"
      ],
      "execution_count": 48,
      "outputs": [
        {
          "output_type": "stream",
          "text": [
            "['tetanus tetanus', 'tetanus', 'tetanus', 'tetanus', 'tetanus'] , tetanus\n",
            "['vidalia sweet onion', 'vidalia sweet onion', 'allium porrum', 'allium porrum', 'leek'] , leek\n",
            "['star wars', 'the guns of navarone', 'star wars', 'streets of philadelphia', 'james bond girls'] , guns of naverone\n",
            "['dock of the bay hit no. 1', \"sittin ' on the dock of the bay\", \"sittin ' on the dock of the bay\", 'the jimi hendrix experience', \"` sittin ' on the dock of the bay '\"] , sitting on dock of bay\n",
            "['king henry viii', 'herod', 'herod antipas', 'the jewish sanhedrin', 'herod philip ii'] , king herod\n",
            "[\"shirley jones 's eldest son , keith partridge\", 'rudolph the red-nosed reindeer', \"shirley jones 's eldest son , keith partridge\", 'danny bonaduce', 'shirley jones'] , keith partridge\n",
            "['glitter from fireworks', 'the ancient chinese used sulphur as a medicine', 'bamboo stems were burnt to create small explosions in order to drive away evil spirits', 'to celebrate festivals and happy occasions', 'loud banging sounds'] , fire alarms\n",
            "['grand rapids , minnesota', 'lancaster , california', 'chicago , illinois', \"chicago world 's fair\", 'the palace in chicago , illinois'] , new grand theater\n",
            "['ball to honor their gods', 'ulama', 'basketball', 'ultimate mind boggling , brain teaser', 'double-doubles'] , basketball\n",
            "['seine martime', 'franciscopolis', 'seine-maritime', 'dieppe', 'le havre'] , le havre\n",
            "['300', 'fifty', '40', '', '619 -- 650'] , 100000\n",
            "['ethanol fuel renewable energy', 'definitions source definition oxford dictionary', 'technology', 'energy hydrogen fuel cell electric bike', 'bio fuel is the fuel of the future because it renewable and wont run out'] , alternative\n",
            "['monkey puzzle tree', 'bunya-bunya tree , false monkey puzzle tree', 'araucariaceae', 'araucaria araucana', 'monkey-puzzle tree'] , monkey puzzle tree\n",
            "['cancer', 'a penis that is outside this range is not abnormal', 'males who weigh over twenty pounds with females generally smaller though still considerably larger than the average housecat', \"the penis is n't a muscle\", 'blood supply'] , contains bone\n",
            "['wilfred owen', 'wilfred owen', 'wilfred owen', 'wilfred owen', 'wilfred owen'] , wilfred owen\n",
            "['piezoelectric amethyst', 'piezoelectric amethyst', 'piezoelectric amethyst', 'piezoelectric amethyst', 'purple color'] , amethyst\n",
            "['giant sequoias', 'mycoplasma', 'quaking aspen', 'giant sequoia', ''] , giant sequoia giant sequoia\n",
            "['n. rimsky-korsakov', 'roberto william', 'mikhail glinka', 'mikhail glinka', 'rimsky-korsakov'] , nicolai rimsky korsakov\n",
            "['idaho', 'jasper national park', 'mozambique', 'republic of moldova', 'idaho'] , usa\n",
            "['amman international', 'the hashemite kingdom of jordan amman', 'amman', 'hashemite kingdom of jordan', 'amman'] , amman\n",
            "['epiphone', 's', 's', 's', 'custom'] , guitar\n",
            "['minnesotan', 'south africa', 'korean', 'usa', 'bond enthusiasts , whatever their nationality'] , korean\n",
            "['popeye', 'popeye', 'popeye', 'popeye', 'popeye the sailor man'] , popeye they are spinach growers\n",
            "['socrates socrates socrates', 'constantin brancusi', 'socrates', 'socrates', 'thales of miletus'] , socrates\n",
            "['gel', 'tylenol pm tylenol', 'therapy plus', 'sombra pain relieving gel', 'tylenol pm tylenol'] , tylenol\n",
            "['gone with the wind', 'gone with the wind the story behind gone with the wind', 'gone with the wind', 'gone with the wind', 'tara'] , gone with wind\n",
            "['buffalo', 'wolf creek', 'apha sorrel tovero filly', 'american saddlebred mare', \"skips burnett '' aka `` buck\"] , gelding\n",
            "['tobacco leaves', 'tobacco leaves', 'n. tabacum', 'peppermint & spearmint flavors', 'leaf'] , tobacco\n",
            "['mesozoic', 'carboniferous', 'early carboniferous', 'carboniferous - new world encyclopedia carboniferous', 'devonian period'] , carboniferous\n",
            "['diseases', 'diseases', 'vaccine storage & handling guidelines', 'anti-measles vaccine , three doses of hepatitis b vaccine', 'possible future attack by the same pathogen'] , tuberculosis\n",
            "['domovoi', 'domovoi', 'rum spirit', \"devil 's torment\", 'kill devil'] , rum\n",
            "['mark mccormack', 'arnold palmer', 'arnold palmer', 'mark mccormack', 'jack nicklaus'] , arnold palmer\n",
            "['brain and body', 'peace and balance', 'it isn the master key that unlocks the heart', 'our brain', 'compassion'] , brain\n",
            "['daedalion king', 'pygmalion', 'alcmaeon', 'echidne', 'narcissus'] , king pygmalion aphrodite life\n",
            "['sleeping with the past', \"` three way love affair '\", '`` island girl', '` song for guy', 'ice on fire'] , your song\n",
            "['', '', \"`` respect ''\", '', ''] , think\n",
            "['death of harold', 'magnificent wooden ships', 'the duke of normandy', 'norman army', 'death of harold'] , halleys comet\n",
            "['rrb', 'gas', '298 k', 'gas', 'gas'] , bromine\n",
            "['milk without rbgh growth hormones', '`` brick', 'ultra high temperature pasteurization', 'nutrition', 'french uht milk'] , ultra heat treatment\n",
            "['gander', 'gander', 'gander', 'a gander', 'gander'] , gander\n",
            "['ayuthaya', 'bangkok', 'bangkok', 'bangkok', 'bangkok'] , bangkok\n",
            "['what exactly does a depilatory do ? does hair grow back thicker and faster than before', 'chemically dissolve hair', 'breaks down the bonds of hair', 'knowing the best techniques for removing this hair can help create smooth , easy results with minimal hassle', 'unwanted hair'] , hair\n",
            "['sensory', 'sensory', 'sensory', 'sensory', 'sensory'] , light\n",
            "['mali', 'mali', 'mali', 'mali', 'mali'] , mali\n",
            "['l', 'fractional exponents of a power', '1', 'now you try it', 'walsh coefficients of x ^ d thar'] , one\n",
            "['1956', '1956', '1981', '1956', '1956'] , 1956\n",
            "['lysistrata', 'lysistrata', 'lysistrata', 'lysistrata', 'deprive their husbands of sex until they stop fighting'] , lysistrata\n",
            "['montreal', 'san francisco', 'san francisco', 'san francisco', 'havana'] , montreal\n",
            "['galapagos', 'galapagos', 'galapagos islands', 'galapagos', 'galapagos'] , bombay\n",
            "['john rolfe', 'thomas rolfe', 'john rolfe', 'john rolfe', 'john rolfe'] , john rolfe\n",
            "['1,000 to 1,200', '1,000 to 1,200', '1,200', 'more than 1200', '1,100'] , 1100\n",
            "['gall bladder', 'native american indians and hispanics', 'what', 'bile', ''] , gallbladder\n",
            "['christopher lee', 'christopher lee', 'christopher lee', 'christopher lee', 'ralph bates'] , christopher lee\n",
            "['beetles capable of luminescence', 'luminescent beetle', 'luminescent beetle', 'luminous of the beetle family lampyridae', 'luminous insects'] , beetle\n",
            "['he lost the election to herbert hoover', 'he lost the election to herbert hoover', 'he lost the election to herbert hoover', 'he lost the election to herbert hoover', 'he lost the election to herbert hoover'] , herbert hoover\n",
            "['the monte carlo philharmonic orchestra', 'monte carlo philharmonic orchestra', 'the monte carlo philharmonic orchestra', '', ''] , monaco\n",
            "['oranges', 'gold crack jasmine myrick', 'a quince', 'amazon apples', 'running sandals'] , apricots\n",
            "['find', 'the big hair do', 'misc', 'find word', 'ologies and isms : word beginnings and endings'] , muggle\n",
            "['tate/la bianca', 'sharon tate', 'rosemary labianca', 'rosemary labianca', 'rosemary labianca'] , sharon tate\n",
            "['jerusalem', 'jerusalem', 'jerusalem', 'jerusalem temple', 'jerusalem'] , jerusalem\n",
            "['1.4 canadian loyalists', '1.4 canadian loyalists', '1.4 canadian loyalists', '1.4 canadian loyalists', ''] , loyalist\n",
            "['minnesota', 'new york', 'illinois', '', ''] , minnesota\n",
            "['assassination attempt', '', 'how long', '', ''] , syphilis\n",
            "['1936', '1936', '1936', '1936', '1936'] , 1936\n",
            "['ducati motorcycles', 'harley-davidson', 'california highway patrol', 'motorcycle police officers of the california highway patrol', 'harley-davidson xr-1200'] , kawasaki\n",
            "['stevie wonder', 'ananda shankar', 'abc jackson 5', 'eddie cooley/john davenport', 'biz markie'] , beginning of end\n",
            "['harold ii', 'harold ii', 'william', 'harold ii godwinson', 'harold , earl of wessex'] , william conqueror\n",
            "['yeongnam', 'changwon', 'honam', 'capital daegu', 'jeonju jeonju-si'] , seoul south korea\n",
            "['texas', 'texas', '', 'houston , texas', ''] , texas\n",
            "['dr paul leighton', 'paul dougherty at the brigham galleries paul dougherty', 'paul muldoon', 'paul belien', 'paul meshanko'] , paul gascoigne\n",
            "['', '', '', '', ''] , gypsy\n",
            "['madison', 'madison', 'madison', 'madison', 'madison'] , madison\n",
            "['the wizard of oz', 'greg berg', 'greg berg', 'greg berg', 'porky pig'] , miss piggy in muppets\n",
            "['two or four', '', '', 'two groups of eleven', ''] , seventeen\n",
            "['kyiv', 'kyiv', 'kyiv kiev', 'kiev oblast province', 'moscow'] , kiev\n",
            "['kids', 'kids', 'sheep', 'goat kids', 'african pygmy goat african pygmy goats are a race of the domestic goat'] , kid\n",
            "['home health & wellness', 'abnormal electrical activity in the brain', '', 'blackness was a virtue and the road was full of mud', ''] , epilepsy\n",
            "['thunderclap newman', 'thunderclap newman', 'thunderclap newman', 'love sculpture', 'the beatles'] , thunderclap newman\n",
            "['andorra la vella', 'andorra la vella', 'andorra la vella', 'andorra la vella', 'andorra la vella'] , andorra la vella\n",
            "['portable', 'compaq portable', 'compaq portable', 'compaq portable', ''] , portable computer\n",
            "['', '', '', '', ''] , bono u2\n",
            "['just as the sun is going down', 'months', 'lunar eclipses', 'lunar eclipses', 'lunar eclipses'] , sunset\n",
            "['escaped babies', 'live babies', '', '', ''] , 85 babies\n",
            "['1876', '1876', '1876', '1876', '1876'] , st louis\n",
            "['sodium latin natrium', 'sodium latin natrium', 'sodium latin natrium', 'sodium latin natrium', 'sodium -lrb'] , sodium\n",
            "['himyar', \"shem , noah 's eldest son\", 'japheth', \"shem , noah 's eldest son\", \"shem , noah 's eldest son\"] , shem noahs son\n",
            "['random access memory', 'the driver software', 'free encyclopedia', 'random access memory digital-to-analog converter', 'ram digital-to-analog converter'] , random access memory digital to analogue\n",
            "['animals', 'mammals', 'assemblage', 'lsb- things -rsb', 'a colony of ants'] , mules\n",
            "['spain', 'french', 'west indies', 'france', 'west indies'] , west indies\n",
            "['rocket man', 'bennie and the jets', 'elton john', 'john , elton -lrb', 'elton john'] , elton john\n",
            "['peter halvorson', 'jacques fabian gautier', 'jean guilaine -lsb', 'liviu marinescu', 'dr. michael echols'] , dr bart hughes\n",
            "['ashgabat', 'ashgabat', 'ashgabat', 'and largest city ashgabat', 'ashgabat'] , ashgabat\n",
            "['leaves of grass', 'phrenology', 'phrenology', 'rrb', 'phrenology'] , phrenology\n",
            "['mathew prichard', 'mary westmacott', 'agatha christie', 'eric butler', 'mary westmacott'] , agatha christie\n",
            "['eighteen-ninety-six', '1908', '1908', '1911', '1921'] , 1896\n",
            "['chinatown', 'chinatown', 'chinatown', 'chinatown', 'chinatown'] , chinatown\n",
            "['take a bath', 'go to jail . he must go directly to jail', 'protect your family in any disaster - natural or man-made', 'every woman must `` be found to be wearing a corset', 'who'] , take bath\n",
            "['huntington', '', '', '', ''] , architect\n",
            "['traditional and modern garden mazes', 'long view', 'replica of the chartres cathedral labyrinth', 'unicursal maze', 'all sorts of nations and periods'] , mazes\n",
            "['rocky mountains', 'aspen mountain', 'wasatch', 'beavercreek mountain', 'colorado rocky mountains'] , rocky mountains\n",
            "['thomas alva edison', 'thomas alva edison', 'warren de la rue', 'robert hooke', 'humphry davy'] , joseph swan\n",
            "['dog', 'sheep', 'dog', 'bunny', 'dogs'] , dog\n",
            "['', '', 'a skull , gills , and fins', '', ''] , gills\n",
            "['equilateral triangle', 'figure 8.3', 'equilateral triangle', 'quadrilateral', 'rectangle'] , rhombus\n",
            "['', '', '', '', ''] , group of islands\n",
            "['thomas elson and william smythe', 'larry anderson', 'paul bailey', 'al simon', 'ralph edwards'] , ralph edwards\n",
            "['1767', 'october 1929', 'before 1960', '1970s and 1980s', '1890'] , 1807\n",
            "['horus horus', 'horus horus', 'horus horus', 'horus horus', 'horus horus'] , ash\n",
            "['a passage to india', 'sands of iwo jima', 'the queen', 'norbit', \"glory film co. . sir john mills ' moving memories\"] , ryans daughter\n",
            "['heliographs', 'prussian', 'heliographs', 'british', 'telegraph system'] , semaphore\n",
            "['lavender chiffon . let the parched leaves', 'knots', 'hedging plants', '', ''] , walnuts\n",
            "['stringfellow hawke', 'stringfellow', 'stringfellow', 'helicopter', 'violin viola & cello'] , cello\n",
            "['clock tower - bern', 'la chaux-de-fonds', 'geneva', 'geneva geneva', 'lac lan'] , geneva\n",
            "['ruggero leoncavallo', 'ruggero leoncavallo', 'ruggero leoncavallo', 'ruggero leoncavallo', 'ruggero leoncavallo'] , leoncavallo\n",
            "['lothar', 'phil davis', 'phil davis', \"lee falk 's adventure comic strip mandrake the magician featured the african supporting character lothar\", 'simon iff'] , lothar\n",
            "['les belles nanas thread', 'rrb- picture dictionary advertisement', 'belmont french', 'a cappella', 'a handsome girl'] , fair maiden\n",
            "['central european countries , including italy and switzerland', 'cognac gin rum sake', 'ararat brandy', 'cognac', 'ch teau de laubade'] , cognac\n",
            "['geroy sovyetskogo soyuza', 'hero of the soviet union - wikipedia , the free encyclopedia hero of the soviet union', 'hero of the soviet union - wikipedia , the free encyclopedia hero of the soviet union', 'heroes of socialist labor', 'heroes of socialist labor'] , order of lenin\n",
            "['howard hawk', 'howard hawks', 'john wayne', 'arthur rosson', 'john wayne'] , montgomery clift\n",
            "['ladybird', 'ladybird beetle', 'bug of our lady', 'bug', 'lady beetle'] , ladybird\n",
            "['vorsprung durch technik', 'vorsprung durch technik', 'vorsprung durch technik', 'rrb', 'acura'] , audi u2013 vorsprung durch technik\n",
            "['body heat', 'the beeline - culture : films & movies films & movies', 'film-noir', 'the beer nut', 'the maltese falcon : the film noir'] , maltese falcon\n",
            "['the habit of some species of tapping and pecking noisily on tree trunks with their beaks', 'to establish territory and attract mates , extract insects , and create nesting cavities', 'to find and eat insects that live in tree bark', 'what part of the plant are you really eating ? why leaves change color in the fall', 'a deep hole'] , to get insects below bark\n",
            "['no luck at all', 'self-derived lucky numbers', 'hitched for wealth', 'bad luck', 'your birthstone in your engagement ring'] , no luck at all\n",
            "['indonesia and monaco', 'algeria red , white , and green angola red', 'commonwealth of independent states', 'china', 'european union nations'] , poland\n",
            "['bach', 'georg philipp telemann', 'johann sebastian bach', 'j. c. bach', 'j.s. bach'] , johan sebastian bach\n",
            "['tail', 'lizard', 'toothed whale', '', ''] , tail\n",
            "['pablo picasso', 'pablo ruiz picasso', 'nationality american literary movement modernist literature influences leo stein , william james , pablo picasso', 'pablo picasso', 'pablo picasso'] , picasso\n",
            "['when only the best will do', 'azalea', 'lechuguilla', 'azalea', 'azalea'] , mistletoe\n",
            "['family tree', 'rrb- unreal', 'stewart levine', 'heitor', 'family tree whirlwinds'] , manchester\n",
            "['house of usher', 'the fall of the house of usher', 'house of usher', 'house of usherwhich', 'house of usher'] , house of usher\n",
            "['new zealand', 'new zealand', 'new zealand', 'new zealand', 'new zealand'] , new zealand\n",
            "['blown away', '', 'mercury mercury mercury', 'lex', 'iron-nickel'] , mercury\n",
            "['caciotta', '', '', '', \"casciotta d'urbino castelrosso\"] , goats cheese\n",
            "['kansas newspapers -- dailyearth web dailyearth.com', '', '', '', ''] , topeka\n",
            "['church of scientology', 'church of scientology', 'scientology', 'the church of scientology', 'church of scientology'] , scientology\n",
            "['hares', 'animals', 'assemblage', 'the fox and the hare', 'animals - some collective nouns'] , hares\n",
            "['kuala lumpur', 'kuala lumpur', 'kuala lumpur', 'kuala lumpur', 'kuala lumpur'] , kula lumpur\n",
            "['greyhound', 'greyhound', '', '', 'greyhound'] , santas little helper\n",
            "['seychelles', 'seychelles', 'pangrati , athens', 'pangrati , athens', 'greece'] , seychelles\n",
            "['pay attention', 'pay attention', 'pay attention', 'smell any odor', 'resist specific actions or thoughts'] , concentrate\n",
            "['natural selection', 'natural selection', 'natural selection', 'species', 'cle'] , acclimatization\n",
            "['oscar-claude monet', 'claude oscar monet', 'claude monet', 'euge boudin', 'edouard manet -lrb'] , claude monet\n",
            "['` policeman', 'computer operating properly', 'computer operations parameters', 'computer optimization package', ''] , constable on patrol\n",
            "['turbot', 'tamboril', 'flatfish', 'the turbot war', 'fishing trawler'] , turbot\n",
            "['rrb- 250 tosca puccini', '', \"new orleans opera - bizet 's carmen puccini 's manon lescaut\", '', 'magic flute pictures marriage of figaro pictures'] , set in seville in spain\n",
            "['the commonwealth of virginia', 'richmond , virginia city of richmond', 'richmond is the capital of the commonwealth of virginia', 'richmond', 'richmond , the capital of the commonwealth of virginia'] , richmond\n",
            "['adelaide', 'victoria new south wales australian capital territory', 'western', 'western australia', 'new south wales victoria'] , western australia\n",
            "['starch', 'watermelon', 'what is a native plant', '', ''] , corn\n",
            "['wood', 'chocolate', '', 'his own hands', ''] , chocolate\n",
            "['dawn and twilight', 'at twilight and dawn', 'during twilight hours', 'during twilight hours', 'during twilight'] , twilight\n",
            "['mycoplasmas', 'staphylococci - form grape-like', 'gram-negative cocci spirilla actinomycetes', 'chains', 'gram-positive cocci in chains and catalase negative'] , bacteria\n",
            "['kent county', 'cambridge university press , england', 'ostia , antium , and tarracina', 'united kingdom', 'united kingdom'] , colchester\n",
            "['edo', 'ueno', 'edo', 'edo -lrb', 'tokyo city'] , tokyo\n",
            "['texas', 'state of colorado', 'nevada', 'usa', 'colorado'] , colorado\n",
            "['dolly parton', 'hugo montenegro & his orchestra', 'hugo montenegro & his orchestra', 'hugo montenegro & his orchestra', ''] , rolf harris\n",
            "['fred bowley', 'tom lehrer', 'fred holywell', 'scrooge', 'scrooge'] , scrooge\n",
            "['', '', '', '', ''] , hawk roosting ted hughes\n",
            "['hawaii', 'south pacific', 'south pacific', 'googleearth', ''] , hawaii\n",
            "['', '', '', 'object pascal', 'pascal -lrb'] , pascal blaise pascal\n",
            "['the mall', 'oxford street', 'united kingdom', 'st pauls cathedral', 'wikipedia'] , london\n",
            "['dance held for bachelors and spinsters', 'cobblers', '', 'ay', 'sniper slang'] , testicles\n",
            "['bats and seals', 'bats', 'bats', 'bat', 'bats'] , bats\n",
            "['father francis browne', 'gerard manley hopkins', 'gerard manley hopkins', 'gerard manley hopkins', 'gerard manley hopkins'] , gerald manley hopkins\n",
            "['soul r&b', '', '', '', ''] , chairman of board\n",
            "['', '', '', 'iouea is a genus of cretaceous fossil sponges .', ''] , trivia\n",
            "['hitting the bottom of the ball', 'hitting a ball with a bat', 'hitting a ball with a bat', 'denying a team a run', ''] , hit ball over fence out of ground\n",
            "['c.s. forrester', 'gene roddenberry', 'c. s. forester', 'c.s. forester', 'c. northcote parkinson'] , cs forester\n",
            "['pitched roofs', 'barns', 'barns', 'roofs', 'roofs'] , building roof\n",
            "['1701-1800', '1701-1800', '18th', '18th', '18th century'] , 18th 1717\n",
            "['bruce springsteen', 'bruce springsteen', 'bruce springsteen', 'bruce springsteen', 'bruce springsteen'] , bruce springsteen\n",
            "['black banshee', 'nightwing and batgirl', 'huntress', 'batgirl', 'thomas gramstad'] , batgirl\n",
            "['cream sauce', 'eggplant-spinach curry recipe', 'herbed spinach stuffed shrimp', 'fresh spinach', 'kabob'] , florentine\n",
            "['villa-lobos prelude # 1', 'bach', 'flight of the bumblee', 'ludwig van beethoven', 'scherzo'] , flight of bumblebee\n",
            "['the nietzsche', 'jigger jigger', 'bar lip decanter', 'artillery punch', 'barbecue sauce'] , pony\n",
            "['the new heroes', 'the new heroes', 'the new heroes', 'the new heroes', 'the new heroes'] , butch cassidy and sundance kid\n",
            "['vietnam', 'thailand', 'south east asia', 'thailand', 'thailand'] , cambodia kampuchea\n",
            "['sports and leisure', 'outdoor education', 'cycling', 'activity travel , sport , personal accident , student belongings , holiday home and commercial insurance cover', ''] , fencing\n",
            "['', '', '', '', ''] , one light year\n",
            "['pluto', 'pluto', 'pluto', 'pluto', 'pluto'] , pluto\n",
            "['tiger mother', 'female tiger', 'male lion', 'lion', 'gray wolf and coyote'] , lion\n",
            "['', '', '', '', ''] , seven\n",
            "['cynthia powell', 'cynthia lennon', 'cynthia lennon', 'yoko ono', 'cynthia powell'] , yoko ono\n",
            "['one night in bangkok', 'whistle down the wind', 'what makes a man , swear it again and flying without wings', '` sinking ships', 'one night in bangkok'] , no matter what\n",
            "['this old heart of mine', 'smiler', 'oh ! no not my baby', '', 'the first cut is the deepest'] , sailing\n",
            "['k2 bottleneck pics', '3 maunaea hawaiianolcanos unitedtates 4,205 maunaea', 'k2 bottleneck pics', 'mauna kea', 'mount everest'] , k2\n",
            "['sci-fi westerns', 'animal cartoons', 'baby cartoons', '', ''] , flintstones\n",
            "['eight h-1 rocket engines', 'six rl-10 engines', 'six rl-10 engines', 'six rl-10 engines', 'six rl-10 engines'] , eight\n",
            "['pauline quirke', 'kerry washington', 'pauline quirke', 'pauline quirke', 'jane kaczmarek'] , pauline quirke\n",
            "['golden globe', 'she won an academy award as best supporting actress', 'australian film institute awards best actress in a supporting role', '', 'academy award for best actress'] , first oscar playing opposite sex\n",
            "['david lean', 'david lean', 'david lean', 'david lean', 'david lean'] , david lean\n",
            "['the district of columbia', 'state of rhode island', 'providence area ranked 50th in the us', 'providence area ranked 50th in the us', 'rhode island'] , rhode island\n",
            "['don herbert', 'don herbert', 'who am i', 'an american television personality', 'donald jeffrey herbert'] , don herbert\n",
            "['fear of bathing', 'medorthophobia fear of anger or of becoming angry', 'merino merino sheep', 'merino merino sheep', 'meriones meriones longifro ... meriones unguicul'] , being bound tied up\n",
            "['steroids-help - anabolic-steroids', 'very high metabolism and long limbs', 'synthetically produced variants of the naturally occurring male hormone testosterone', 'empty calories', 'empty calories'] , anabolic steroids\n",
            "['calories colliery celery calcium', 'a racing snake', 'fiddle', '', ''] , fiddle\n",
            "['regularly spaced , protruding air-filled hemispheres', 'regularly spaced , protruding air-filled hemispheres', 'regularly spaced , protruding air-filled hemispheres', 'regularly spaced , protruding air-filled hemispheres', 'regularly spaced , protruding air-filled hemispheres'] , bubble wrap\n",
            "['franklin joseph lymon', 'franklin joseph lymon', 'frankie lymon and the teenagers', 'frankie lymon', 'fuzzy haskins'] , frankie lymon\n",
            "['june 24 , 1987', 'blood-loss induced trance', 'a nosebleed or an alcoholism-induced esophageal rupture', 'augustus auto bailout', 'augustus auto bailout'] , booze u2013 honeymoon 30 day booze up\n",
            "['ladybugs', 'perky-pet', 'perky-pet', 'invasive garden ants', 'lady beetle'] , ladybird\n",
            "Time for whole code to run:  1632.8239970207214\n"
          ],
          "name": "stdout"
        }
      ]
    },
    {
      "cell_type": "code",
      "metadata": {
        "id": "C2SLERrQnanI",
        "colab_type": "code",
        "colab": {
          "base_uri": "https://localhost:8080/",
          "height": 450
        },
        "outputId": "68472055-be36-41af-922e-df083054919e"
      },
      "source": [
        "df_pred"
      ],
      "execution_count": 49,
      "outputs": [
        {
          "output_type": "execute_result",
          "data": {
            "text/html": [
              "<div>\n",
              "<style scoped>\n",
              "    .dataframe tbody tr th:only-of-type {\n",
              "        vertical-align: middle;\n",
              "    }\n",
              "\n",
              "    .dataframe tbody tr th {\n",
              "        vertical-align: top;\n",
              "    }\n",
              "\n",
              "    .dataframe thead th {\n",
              "        text-align: right;\n",
              "    }\n",
              "</style>\n",
              "<table border=\"1\" class=\"dataframe\">\n",
              "  <thead>\n",
              "    <tr style=\"text-align: right;\">\n",
              "      <th></th>\n",
              "      <th>pred_ans_0</th>\n",
              "      <th>pred_ans_1</th>\n",
              "      <th>pred_ans_2</th>\n",
              "      <th>pred_ans_3</th>\n",
              "      <th>pred_ans_4</th>\n",
              "    </tr>\n",
              "  </thead>\n",
              "  <tbody>\n",
              "    <tr>\n",
              "      <th>0</th>\n",
              "      <td>tetanus tetanus</td>\n",
              "      <td>tetanus</td>\n",
              "      <td>tetanus</td>\n",
              "      <td>tetanus</td>\n",
              "      <td>tetanus</td>\n",
              "    </tr>\n",
              "    <tr>\n",
              "      <th>1</th>\n",
              "      <td>vidalia sweet onion</td>\n",
              "      <td>vidalia sweet onion</td>\n",
              "      <td>allium porrum</td>\n",
              "      <td>allium porrum</td>\n",
              "      <td>leek</td>\n",
              "    </tr>\n",
              "    <tr>\n",
              "      <th>2</th>\n",
              "      <td>star wars</td>\n",
              "      <td>the guns of navarone</td>\n",
              "      <td>star wars</td>\n",
              "      <td>streets of philadelphia</td>\n",
              "      <td>james bond girls</td>\n",
              "    </tr>\n",
              "    <tr>\n",
              "      <th>3</th>\n",
              "      <td>dock of the bay hit no. 1</td>\n",
              "      <td>sittin ' on the dock of the bay</td>\n",
              "      <td>sittin ' on the dock of the bay</td>\n",
              "      <td>the jimi hendrix experience</td>\n",
              "      <td>` sittin ' on the dock of the bay '</td>\n",
              "    </tr>\n",
              "    <tr>\n",
              "      <th>4</th>\n",
              "      <td>king henry viii</td>\n",
              "      <td>herod</td>\n",
              "      <td>herod antipas</td>\n",
              "      <td>the jewish sanhedrin</td>\n",
              "      <td>herod philip ii</td>\n",
              "    </tr>\n",
              "    <tr>\n",
              "      <th>...</th>\n",
              "      <td>...</td>\n",
              "      <td>...</td>\n",
              "      <td>...</td>\n",
              "      <td>...</td>\n",
              "      <td>...</td>\n",
              "    </tr>\n",
              "    <tr>\n",
              "      <th>195</th>\n",
              "      <td>calories colliery celery calcium</td>\n",
              "      <td>a racing snake</td>\n",
              "      <td>fiddle</td>\n",
              "      <td></td>\n",
              "      <td></td>\n",
              "    </tr>\n",
              "    <tr>\n",
              "      <th>196</th>\n",
              "      <td>regularly spaced , protruding air-filled hemis...</td>\n",
              "      <td>regularly spaced , protruding air-filled hemis...</td>\n",
              "      <td>regularly spaced , protruding air-filled hemis...</td>\n",
              "      <td>regularly spaced , protruding air-filled hemis...</td>\n",
              "      <td>regularly spaced , protruding air-filled hemis...</td>\n",
              "    </tr>\n",
              "    <tr>\n",
              "      <th>197</th>\n",
              "      <td>franklin joseph lymon</td>\n",
              "      <td>franklin joseph lymon</td>\n",
              "      <td>frankie lymon and the teenagers</td>\n",
              "      <td>frankie lymon</td>\n",
              "      <td>fuzzy haskins</td>\n",
              "    </tr>\n",
              "    <tr>\n",
              "      <th>198</th>\n",
              "      <td>june 24 , 1987</td>\n",
              "      <td>blood-loss induced trance</td>\n",
              "      <td>a nosebleed or an alcoholism-induced esophagea...</td>\n",
              "      <td>augustus auto bailout</td>\n",
              "      <td>augustus auto bailout</td>\n",
              "    </tr>\n",
              "    <tr>\n",
              "      <th>199</th>\n",
              "      <td>ladybugs</td>\n",
              "      <td>perky-pet</td>\n",
              "      <td>perky-pet</td>\n",
              "      <td>invasive garden ants</td>\n",
              "      <td>lady beetle</td>\n",
              "    </tr>\n",
              "  </tbody>\n",
              "</table>\n",
              "<p>200 rows × 5 columns</p>\n",
              "</div>"
            ],
            "text/plain": [
              "                                            pred_ans_0  ...                                         pred_ans_4\n",
              "0                                      tetanus tetanus  ...                                            tetanus\n",
              "1                                  vidalia sweet onion  ...                                               leek\n",
              "2                                            star wars  ...                                   james bond girls\n",
              "3                            dock of the bay hit no. 1  ...                ` sittin ' on the dock of the bay '\n",
              "4                                      king henry viii  ...                                    herod philip ii\n",
              "..                                                 ...  ...                                                ...\n",
              "195                   calories colliery celery calcium  ...                                                   \n",
              "196  regularly spaced , protruding air-filled hemis...  ...  regularly spaced , protruding air-filled hemis...\n",
              "197                              franklin joseph lymon  ...                                      fuzzy haskins\n",
              "198                                     june 24 , 1987  ...                              augustus auto bailout\n",
              "199                                           ladybugs  ...                                        lady beetle\n",
              "\n",
              "[200 rows x 5 columns]"
            ]
          },
          "metadata": {
            "tags": []
          },
          "execution_count": 49
        }
      ]
    },
    {
      "cell_type": "code",
      "metadata": {
        "id": "jD9uJfr4ngDF",
        "colab_type": "code",
        "colab": {
          "base_uri": "https://localhost:8080/",
          "height": 415
        },
        "outputId": "1dbdd9b3-c9e8-47c8-f0dd-9b913047d91d"
      },
      "source": [
        "df_metrics"
      ],
      "execution_count": 50,
      "outputs": [
        {
          "output_type": "execute_result",
          "data": {
            "text/html": [
              "<div>\n",
              "<style scoped>\n",
              "    .dataframe tbody tr th:only-of-type {\n",
              "        vertical-align: middle;\n",
              "    }\n",
              "\n",
              "    .dataframe tbody tr th {\n",
              "        vertical-align: top;\n",
              "    }\n",
              "\n",
              "    .dataframe thead th {\n",
              "        text-align: right;\n",
              "    }\n",
              "</style>\n",
              "<table border=\"1\" class=\"dataframe\">\n",
              "  <thead>\n",
              "    <tr style=\"text-align: right;\">\n",
              "      <th></th>\n",
              "      <th>actual_ans</th>\n",
              "      <th>actual_ques</th>\n",
              "      <th>EM</th>\n",
              "      <th>precision</th>\n",
              "      <th>recall</th>\n",
              "      <th>f1</th>\n",
              "    </tr>\n",
              "  </thead>\n",
              "  <tbody>\n",
              "    <tr>\n",
              "      <th>0</th>\n",
              "      <td>tetanus</td>\n",
              "      <td>lockjaw is another name for which disease</td>\n",
              "      <td>1.0</td>\n",
              "      <td>1.000000</td>\n",
              "      <td>1.000000</td>\n",
              "      <td>1.000000</td>\n",
              "    </tr>\n",
              "    <tr>\n",
              "      <th>1</th>\n",
              "      <td>leek</td>\n",
              "      <td>which vegetable is welsh emblem</td>\n",
              "      <td>1.0</td>\n",
              "      <td>1.000000</td>\n",
              "      <td>1.000000</td>\n",
              "      <td>1.000000</td>\n",
              "    </tr>\n",
              "    <tr>\n",
              "      <th>2</th>\n",
              "      <td>guns of naverone</td>\n",
              "      <td>which film won best special effects oscar in 1961</td>\n",
              "      <td>0.0</td>\n",
              "      <td>0.666667</td>\n",
              "      <td>0.666667</td>\n",
              "      <td>0.666667</td>\n",
              "    </tr>\n",
              "    <tr>\n",
              "      <th>3</th>\n",
              "      <td>sitting on dock of bay</td>\n",
              "      <td>what was otis redding s biggest hit coming aft...</td>\n",
              "      <td>0.0</td>\n",
              "      <td>0.800000</td>\n",
              "      <td>0.800000</td>\n",
              "      <td>0.800000</td>\n",
              "    </tr>\n",
              "    <tr>\n",
              "      <th>4</th>\n",
              "      <td>king herod</td>\n",
              "      <td>who ordered john baptists execution</td>\n",
              "      <td>1.0</td>\n",
              "      <td>1.000000</td>\n",
              "      <td>0.500000</td>\n",
              "      <td>0.666667</td>\n",
              "    </tr>\n",
              "    <tr>\n",
              "      <th>...</th>\n",
              "      <td>...</td>\n",
              "      <td>...</td>\n",
              "      <td>...</td>\n",
              "      <td>...</td>\n",
              "      <td>...</td>\n",
              "      <td>...</td>\n",
              "    </tr>\n",
              "    <tr>\n",
              "      <th>195</th>\n",
              "      <td>fiddle</td>\n",
              "      <td>as fit as</td>\n",
              "      <td>1.0</td>\n",
              "      <td>1.000000</td>\n",
              "      <td>1.000000</td>\n",
              "      <td>1.000000</td>\n",
              "    </tr>\n",
              "    <tr>\n",
              "      <th>196</th>\n",
              "      <td>bubble wrap</td>\n",
              "      <td>plastic wrapping material in sheets containing...</td>\n",
              "      <td>0.0</td>\n",
              "      <td>0.000000</td>\n",
              "      <td>0.000000</td>\n",
              "      <td>0.000000</td>\n",
              "    </tr>\n",
              "    <tr>\n",
              "      <th>197</th>\n",
              "      <td>frankie lymon</td>\n",
              "      <td>name youthful singer who headed teenagers</td>\n",
              "      <td>1.0</td>\n",
              "      <td>1.000000</td>\n",
              "      <td>1.000000</td>\n",
              "      <td>1.000000</td>\n",
              "    </tr>\n",
              "    <tr>\n",
              "      <th>198</th>\n",
              "      <td>booze u2013 honeymoon 30 day booze up</td>\n",
              "      <td>how did attila hun die on honeymoon</td>\n",
              "      <td>0.0</td>\n",
              "      <td>0.000000</td>\n",
              "      <td>0.000000</td>\n",
              "      <td>0.000000</td>\n",
              "    </tr>\n",
              "    <tr>\n",
              "      <th>199</th>\n",
              "      <td>ladybird</td>\n",
              "      <td>which insect is popular with gardeners because...</td>\n",
              "      <td>0.0</td>\n",
              "      <td>0.000000</td>\n",
              "      <td>0.000000</td>\n",
              "      <td>0.000000</td>\n",
              "    </tr>\n",
              "  </tbody>\n",
              "</table>\n",
              "<p>200 rows × 6 columns</p>\n",
              "</div>"
            ],
            "text/plain": [
              "                                actual_ans  ...        f1\n",
              "0                                  tetanus  ...  1.000000\n",
              "1                                     leek  ...  1.000000\n",
              "2                         guns of naverone  ...  0.666667\n",
              "3                   sitting on dock of bay  ...  0.800000\n",
              "4                               king herod  ...  0.666667\n",
              "..                                     ...  ...       ...\n",
              "195                                 fiddle  ...  1.000000\n",
              "196                            bubble wrap  ...  0.000000\n",
              "197                          frankie lymon  ...  1.000000\n",
              "198  booze u2013 honeymoon 30 day booze up  ...  0.000000\n",
              "199                               ladybird  ...  0.000000\n",
              "\n",
              "[200 rows x 6 columns]"
            ]
          },
          "metadata": {
            "tags": []
          },
          "execution_count": 50
        }
      ]
    },
    {
      "cell_type": "code",
      "metadata": {
        "id": "TeJqSbjFnlr2",
        "colab_type": "code",
        "colab": {
          "base_uri": "https://localhost:8080/",
          "height": 35
        },
        "outputId": "e19fa0b3-26cf-42a0-8e37-9b9770165ee9"
      },
      "source": [
        "df_metrics['f1'].mean(), df_metrics['EM'].mean(), df_metrics['precision'].mean() , df_metrics['recall'].mean() "
      ],
      "execution_count": 51,
      "outputs": [
        {
          "output_type": "execute_result",
          "data": {
            "text/plain": [
              "(0.4882501110001112, 0.58, 0.48876190476190473, 0.530345238095238)"
            ]
          },
          "metadata": {
            "tags": []
          },
          "execution_count": 51
        }
      ]
    },
    {
      "cell_type": "code",
      "metadata": {
        "id": "8HTHWYPje0rR",
        "colab_type": "code",
        "colab": {}
      },
      "source": [
        "writePath = qasar_t_dir + \"questions/long_metric_dev.txt\"\n",
        "with open(writePath, 'a') as f:\n",
        "    f.write(df_metrics.to_string(header = False, index = False))\n",
        "f.close()"
      ],
      "execution_count": 0,
      "outputs": []
    },
    {
      "cell_type": "code",
      "metadata": {
        "id": "E0rtJKyynsoU",
        "colab_type": "code",
        "colab": {}
      },
      "source": [
        ""
      ],
      "execution_count": 0,
      "outputs": []
    }
  ]
}